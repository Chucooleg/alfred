{
 "cells": [
  {
   "cell_type": "code",
   "execution_count": 24,
   "metadata": {},
   "outputs": [],
   "source": [
    "import json\n",
    "import os\n",
    "from collections import defaultdict\n",
    "os.environ['ALFRED_ROOT'] = '/root/data/home/hoyeung/alfred'"
   ]
  },
  {
   "cell_type": "code",
   "execution_count": 25,
   "metadata": {},
   "outputs": [],
   "source": [
    "with open('../../../../../data_alfred/splits/collect_states_20200511_valid_seen_notebook_success_paths.json', 'r') as f:\n",
    "    valid_seen_object_state_collection_success_paths = json.load(f)\n",
    "valid_seen_tasks = [p.split('/')[4] for p in valid_seen_object_state_collection_success_paths]\n",
    "valid_seen_trajs = [p.split('/')[5] for p in valid_seen_object_state_collection_success_paths]\n",
    "\n",
    "with open('../../../../../data_alfred/splits/collect_states_20200511_valid_unseen_notebook_success_paths.json', 'r') as f:\n",
    "    valid_unseen_object_state_collection_success_paths = json.load(f)\n",
    "valid_unseen_tasks = [p.split('/')[4] for p in valid_unseen_object_state_collection_success_paths]\n",
    "valid_unseen_trajs = [p.split('/')[5] for p in valid_unseen_object_state_collection_success_paths]"
   ]
  },
  {
   "cell_type": "code",
   "execution_count": 26,
   "metadata": {},
   "outputs": [],
   "source": [
    "skill_set = {0:'Random Choice'}\n",
    "skill2num = {'Random Choice':0}\n",
    "pickupObject_set={0:'Random Choice'}\n",
    "pickupObject2num = {'Random Choice':0}\n",
    "movable_set = {0:'Random Choice'}\n",
    "movable2num = {'Random Choice':0}\n",
    "receptacle_set = {0:'Random Choice'}\n",
    "receptacle2num = {'Random Choice':0}\n",
    "lookup = defaultdict(lambda:defaultdict(lambda:defaultdict(lambda: defaultdict(lambda: defaultdict(lambda: defaultdict(list))))))\n",
    "\n",
    "def add_to_set(val, val_set, val2num):\n",
    "    if val not in val_set.values():\n",
    "        idx = len(val_set)\n",
    "        val_set[idx] = val\n",
    "        val2num[val] = idx\n",
    "\n",
    "def process_tasks(tasks, split, success_traj_ids):\n",
    "    for task in tasks:\n",
    "        skill, pickupObject, movable, receptacle, scene_num = task.split('-')\n",
    "        add_to_set(skill, skill_set, skill2num)\n",
    "        add_to_set(pickupObject, pickupObject_set, pickupObject2num)\n",
    "        add_to_set(movable, movable_set, movable2num)\n",
    "        add_to_set(receptacle, receptacle_set, receptacle2num)\n",
    "        traj_ids = os.listdir('../../../../../data_alfred/json_feat_2.1.0/{}/{}'.format(split, task))\n",
    "        # TODO filter down to only valid traj_ids\n",
    "        traj_ids = [traj_id for traj_id in traj_ids if traj_id in success_traj_ids]\n",
    "\n",
    "        lookup[skill2num[skill]][pickupObject2num[pickupObject]][movable2num[movable]][receptacle2num[receptacle]][int(scene_num)][split] += traj_ids"
   ]
  },
  {
   "cell_type": "code",
   "execution_count": 27,
   "metadata": {
    "tags": []
   },
   "outputs": [],
   "source": [
    "process_tasks(valid_unseen_tasks, 'valid_unseen', valid_unseen_trajs)\n",
    "process_tasks(valid_seen_tasks,  'valid_seen', valid_seen_trajs)"
   ]
  },
  {
   "cell_type": "code",
   "execution_count": 29,
   "metadata": {},
   "outputs": [],
   "source": [
    "with open('task_tuple_lookup.json', 'w') as f:\n",
    "    json.dump(lookup, f)\n",
    "with open('task_tuple_lookup.json', 'r') as f:\n",
    "    lookup = json.load(f)"
   ]
  },
  {
   "cell_type": "code",
   "execution_count": 30,
   "metadata": {},
   "outputs": [
    {
     "output_type": "execute_result",
     "data": {
      "text/plain": "{0: 'Random Choice',\n 1: 'None',\n 2: 'Mug',\n 3: 'Pan',\n 4: 'Box',\n 5: 'Plate',\n 6: 'Cup',\n 7: 'Bowl',\n 8: 'Pot'}"
     },
     "metadata": {},
     "execution_count": 30
    }
   ],
   "source": [
    "movable_set"
   ]
  },
  {
   "cell_type": "code",
   "execution_count": 31,
   "metadata": {},
   "outputs": [],
   "source": [
    "import pickle\n",
    "\n",
    "save = {\n",
    "'skill_set':skill_set, \n",
    "'skill2num':skill2num, \n",
    "'pickupObject_set':pickupObject_set, \n",
    "'pickupObject2num':pickupObject2num,\n",
    "'movable_set':movable_set,\n",
    "'movable2num':movable2num,\n",
    "'receptacle_set':receptacle_set,\n",
    "'receptacle2num':receptacle2num,\n",
    "'lookup':lookup\n",
    "}\n",
    "\n",
    "pickle.dump( save, open( \"task_lookup.p\", \"wb\" ) )\n",
    "save = pickle.load( open( \"task_lookup.p\", \"rb\" ) )"
   ]
  },
  {
   "cell_type": "code",
   "execution_count": null,
   "metadata": {},
   "outputs": [],
   "source": []
  }
 ],
 "metadata": {
  "language_info": {
   "codemirror_mode": {
    "name": "ipython",
    "version": 3
   },
   "file_extension": ".py",
   "mimetype": "text/x-python",
   "name": "python",
   "nbconvert_exporter": "python",
   "pygments_lexer": "ipython3",
   "version": "3.5.5-final"
  },
  "orig_nbformat": 2,
  "kernelspec": {
   "name": "python35564bitd654868962b7438296942b4ed3c5c41a",
   "display_name": "Python 3.5.5 64-bit"
  }
 },
 "nbformat": 4,
 "nbformat_minor": 2
}