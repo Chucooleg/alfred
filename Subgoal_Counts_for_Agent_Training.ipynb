{
 "cells": [
  {
   "cell_type": "code",
   "execution_count": 26,
   "metadata": {},
   "outputs": [],
   "source": [
    "import os\n",
    "import json\n",
    "from collections import defaultdict"
   ]
  },
  {
   "cell_type": "code",
   "execution_count": 5,
   "metadata": {},
   "outputs": [],
   "source": [
    "data_aug_p = '/root/data_alfred/json_data_augmentation_20200820'\n",
    "data_p = '/root/data_alfred/json_feat_2.1.0_backup_20200826_agent_training'\n",
    "splits_p = '/root/data_alfred/splits'"
   ]
  },
  {
   "cell_type": "code",
   "execution_count": null,
   "metadata": {},
   "outputs": [],
   "source": []
  },
  {
   "cell_type": "markdown",
   "metadata": {},
   "source": [
    "## Subgoal counts in Original"
   ]
  },
  {
   "cell_type": "code",
   "execution_count": 4,
   "metadata": {},
   "outputs": [
    {
     "name": "stdout",
     "output_type": "stream",
     "text": [
      "21023\n"
     ]
    },
    {
     "data": {
      "text/plain": [
       "[{'repeat_idx': 0,\n",
       "  'task': 'pick_cool_then_place_in_recep-LettuceSliced-None-DiningTable-17/trial_T20190909_070538_437648'},\n",
       " {'repeat_idx': 1,\n",
       "  'task': 'pick_cool_then_place_in_recep-LettuceSliced-None-DiningTable-17/trial_T20190909_070538_437648'},\n",
       " {'repeat_idx': 2,\n",
       "  'task': 'pick_cool_then_place_in_recep-LettuceSliced-None-DiningTable-17/trial_T20190909_070538_437648'},\n",
       " {'repeat_idx': 0,\n",
       "  'task': 'pick_two_obj_and_place-Candle-None-Cabinet-414/trial_T20190908_190650_163902'},\n",
       " {'repeat_idx': 1,\n",
       "  'task': 'pick_two_obj_and_place-Candle-None-Cabinet-414/trial_T20190908_190650_163902'},\n",
       " {'repeat_idx': 2,\n",
       "  'task': 'pick_two_obj_and_place-Candle-None-Cabinet-414/trial_T20190908_190650_163902'},\n",
       " {'repeat_idx': 0,\n",
       "  'task': 'pick_heat_then_place_in_recep-Egg-None-SinkBasin-20/trial_T20190908_205050_000947'},\n",
       " {'repeat_idx': 1,\n",
       "  'task': 'pick_heat_then_place_in_recep-Egg-None-SinkBasin-20/trial_T20190908_205050_000947'},\n",
       " {'repeat_idx': 2,\n",
       "  'task': 'pick_heat_then_place_in_recep-Egg-None-SinkBasin-20/trial_T20190908_205050_000947'},\n",
       " {'repeat_idx': 0,\n",
       "  'task': 'pick_two_obj_and_place-SprayBottle-None-Toilet-405/trial_T20190907_151132_176889'}]"
      ]
     },
     "execution_count": 4,
     "metadata": {},
     "output_type": "execute_result"
    }
   ],
   "source": [
    "with open(os.path.join(splits_p, 'oct21.json'), 'r') as f:\n",
    "    splits_oct21 = json.load(f)\n",
    "\n",
    "train_split_oct21 = splits_oct21['train']\n",
    "print(len(train_split_oct21))\n",
    "train_split_oct21[:10]"
   ]
  },
  {
   "cell_type": "code",
   "execution_count": 27,
   "metadata": {},
   "outputs": [],
   "source": [
    "ct_subgoals = defaultdict(int)\n",
    "\n",
    "for task in train_split_oct21:\n",
    "    json_path = os.path.join(data_p, task['task'], 'pp', 'ann_{}.json'.format(task['repeat_idx']))\n",
    "    with open(json_path, 'r') as f:\n",
    "        traj_data = json.load(f)\n",
    "    \n",
    "    for a in traj_data['plan']['high_pddl']:\n",
    "        ct_subgoals[a['discrete_action']['action']] += 1"
   ]
  },
  {
   "cell_type": "code",
   "execution_count": 28,
   "metadata": {},
   "outputs": [
    {
     "data": {
      "text/plain": [
       "defaultdict(int,\n",
       "            {'GotoLocation': 67896,\n",
       "             'PickupObject': 30848,\n",
       "             'SliceObject': 3068,\n",
       "             'PutObject': 28485,\n",
       "             'CoolObject': 2950,\n",
       "             'NoOp': 21023,\n",
       "             'HeatObject': 2943,\n",
       "             'CleanObject': 2842,\n",
       "             'ToggleObject': 2251})"
      ]
     },
     "execution_count": 28,
     "metadata": {},
     "output_type": "execute_result"
    }
   ],
   "source": [
    "ct_subgoals"
   ]
  },
  {
   "cell_type": "markdown",
   "metadata": {},
   "source": [
    "## Subgoal counts in Original + New Partial Trajectories"
   ]
  },
  {
   "cell_type": "code",
   "execution_count": 35,
   "metadata": {},
   "outputs": [
    {
     "name": "stdout",
     "output_type": "stream",
     "text": [
      "7570\n"
     ]
    },
    {
     "data": {
      "text/plain": [
       "[{'task': 'look_at_obj_in_light-BaseballBat-None-DeskLamp-301/trial_T20200814_164125_595727',\n",
       "  'repeat_idx': 0,\n",
       "  'full_traj_success': False,\n",
       "  'collected_subgoals': 2},\n",
       " {'task': 'look_at_obj_in_light-BaseballBat-None-DeskLamp-324/trial_T20200814_164653_293251',\n",
       "  'repeat_idx': 0,\n",
       "  'full_traj_success': True,\n",
       "  'collected_subgoals': 5},\n",
       " {'task': 'look_at_obj_in_light-BasketBall-None-DeskLamp-319/trial_T20200814_165040_882757',\n",
       "  'repeat_idx': 0,\n",
       "  'full_traj_success': True,\n",
       "  'collected_subgoals': 5},\n",
       " {'task': 'look_at_obj_in_light-BasketBall-None-DeskLamp-327/trial_T20200814_165217_576013',\n",
       "  'repeat_idx': 0,\n",
       "  'full_traj_success': True,\n",
       "  'collected_subgoals': 5},\n",
       " {'task': 'look_at_obj_in_light-Book-None-DeskLamp-301/trial_T20200814_165504_049184',\n",
       "  'repeat_idx': 0,\n",
       "  'full_traj_success': False,\n",
       "  'collected_subgoals': 2},\n",
       " {'task': 'look_at_obj_in_light-Book-None-DeskLamp-327/trial_T20200814_170059_770461',\n",
       "  'repeat_idx': 0,\n",
       "  'full_traj_success': True,\n",
       "  'collected_subgoals': 5},\n",
       " {'task': 'look_at_obj_in_light-Book-None-FloorLamp-201/trial_T20200814_170405_173500',\n",
       "  'repeat_idx': 0,\n",
       "  'full_traj_success': False,\n",
       "  'collected_subgoals': 2},\n",
       " {'task': 'look_at_obj_in_light-Book-None-FloorLamp-202/trial_T20200814_170659_775297',\n",
       "  'repeat_idx': 0,\n",
       "  'full_traj_success': True,\n",
       "  'collected_subgoals': 5},\n",
       " {'task': 'look_at_obj_in_light-Book-None-FloorLamp-203/trial_T20200814_170954_686903',\n",
       "  'repeat_idx': 0,\n",
       "  'full_traj_success': False,\n",
       "  'collected_subgoals': 2},\n",
       " {'task': 'look_at_obj_in_light-Book-None-FloorLamp-209/trial_T20200814_171445_058163',\n",
       "  'repeat_idx': 0,\n",
       "  'full_traj_success': True,\n",
       "  'collected_subgoals': 5}]"
      ]
     },
     "execution_count": 35,
     "metadata": {},
     "output_type": "execute_result"
    }
   ],
   "source": [
    "with open(os.path.join(splits_p, 'data_augmentation_experiment1_20200826.json'), 'r') as f:\n",
    "    splits_aug = json.load(f)\n",
    "\n",
    "train_split_aug = splits_aug['augmentation']\n",
    "print(len(train_split_aug))\n",
    "train_split_aug[:10]"
   ]
  },
  {
   "cell_type": "code",
   "execution_count": 36,
   "metadata": {},
   "outputs": [],
   "source": [
    "ct_subgoals = defaultdict(int)\n",
    "\n",
    "for task in train_split_aug:\n",
    "    \n",
    "    if 'full_traj_success' in task.keys():\n",
    "        data_dir = data_aug_p\n",
    "        pp_folder = 'pp_explainer'\n",
    "    else:\n",
    "        data_dir = data_p\n",
    "        pp_folder = 'pp'\n",
    "    \n",
    "    json_path = os.path.join(data_dir, task['task'], pp_folder, 'ann_{}.json'.format(task['repeat_idx']))\n",
    "    with open(json_path, 'r') as f:\n",
    "        traj_data = json.load(f)\n",
    "    \n",
    "    for a in traj_data['plan']['high_pddl']:\n",
    "        ct_subgoals[a['discrete_action']['action']] += 1"
   ]
  },
  {
   "cell_type": "code",
   "execution_count": 37,
   "metadata": {},
   "outputs": [
    {
     "data": {
      "text/plain": [
       "defaultdict(int,\n",
       "            {'GotoLocation': 17452,\n",
       "             'PickupObject': 9828,\n",
       "             'NoOp': 7570,\n",
       "             'ToggleObject': 71,\n",
       "             'PutObject': 3029,\n",
       "             'SliceObject': 669,\n",
       "             'CleanObject': 209,\n",
       "             'CoolObject': 187,\n",
       "             'HeatObject': 89})"
      ]
     },
     "execution_count": 37,
     "metadata": {},
     "output_type": "execute_result"
    }
   ],
   "source": [
    "ct_subgoals"
   ]
  },
  {
   "cell_type": "code",
   "execution_count": null,
   "metadata": {},
   "outputs": [],
   "source": []
  }
 ],
 "metadata": {
  "kernelspec": {
   "display_name": "Python 3",
   "language": "python",
   "name": "python3"
  },
  "language_info": {
   "codemirror_mode": {
    "name": "ipython",
    "version": 3
   },
   "file_extension": ".py",
   "mimetype": "text/x-python",
   "name": "python",
   "nbconvert_exporter": "python",
   "pygments_lexer": "ipython3",
   "version": "3.6.9"
  }
 },
 "nbformat": 4,
 "nbformat_minor": 4
}
