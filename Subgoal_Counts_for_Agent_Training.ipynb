{
 "cells": [
  {
   "cell_type": "code",
   "execution_count": 44,
   "metadata": {},
   "outputs": [],
   "source": [
    "import os\n",
    "import json\n",
    "from collections import defaultdict, Counter\n",
    "import matplotlib.pyplot as plt\n",
    "import numpy as np"
   ]
  },
  {
   "cell_type": "code",
   "execution_count": 2,
   "metadata": {},
   "outputs": [],
   "source": [
    "data_aug_p = '/root/data_alfred/json_data_augmentation_20200820'\n",
    "data_p = '/root/data_alfred/json_feat_2.1.0_backup_20200826_agent_training'\n",
    "splits_p = '/root/data_alfred/splits'"
   ]
  },
  {
   "cell_type": "code",
   "execution_count": null,
   "metadata": {},
   "outputs": [],
   "source": []
  },
  {
   "cell_type": "markdown",
   "metadata": {},
   "source": [
    "## Subgoal counts in Original"
   ]
  },
  {
   "cell_type": "code",
   "execution_count": 26,
   "metadata": {},
   "outputs": [
    {
     "name": "stdout",
     "output_type": "stream",
     "text": [
      "21023\n"
     ]
    },
    {
     "data": {
      "text/plain": [
       "[{'repeat_idx': 0,\n",
       "  'task': 'pick_cool_then_place_in_recep-LettuceSliced-None-DiningTable-17/trial_T20190909_070538_437648'},\n",
       " {'repeat_idx': 1,\n",
       "  'task': 'pick_cool_then_place_in_recep-LettuceSliced-None-DiningTable-17/trial_T20190909_070538_437648'},\n",
       " {'repeat_idx': 2,\n",
       "  'task': 'pick_cool_then_place_in_recep-LettuceSliced-None-DiningTable-17/trial_T20190909_070538_437648'},\n",
       " {'repeat_idx': 0,\n",
       "  'task': 'pick_two_obj_and_place-Candle-None-Cabinet-414/trial_T20190908_190650_163902'},\n",
       " {'repeat_idx': 1,\n",
       "  'task': 'pick_two_obj_and_place-Candle-None-Cabinet-414/trial_T20190908_190650_163902'},\n",
       " {'repeat_idx': 2,\n",
       "  'task': 'pick_two_obj_and_place-Candle-None-Cabinet-414/trial_T20190908_190650_163902'},\n",
       " {'repeat_idx': 0,\n",
       "  'task': 'pick_heat_then_place_in_recep-Egg-None-SinkBasin-20/trial_T20190908_205050_000947'},\n",
       " {'repeat_idx': 1,\n",
       "  'task': 'pick_heat_then_place_in_recep-Egg-None-SinkBasin-20/trial_T20190908_205050_000947'},\n",
       " {'repeat_idx': 2,\n",
       "  'task': 'pick_heat_then_place_in_recep-Egg-None-SinkBasin-20/trial_T20190908_205050_000947'},\n",
       " {'repeat_idx': 0,\n",
       "  'task': 'pick_two_obj_and_place-SprayBottle-None-Toilet-405/trial_T20190907_151132_176889'}]"
      ]
     },
     "execution_count": 26,
     "metadata": {},
     "output_type": "execute_result"
    }
   ],
   "source": [
    "splits_p = '/root/data_alfred/splits'\n",
    "\n",
    "with open(os.path.join(splits_p, 'oct21.json'), 'r') as f:\n",
    "    splits_oct21 = json.load(f)\n",
    "\n",
    "train_split_oct21 = splits_oct21['train']\n",
    "print(len(train_split_oct21))\n",
    "train_split_oct21[:10]"
   ]
  },
  {
   "cell_type": "code",
   "execution_count": 27,
   "metadata": {},
   "outputs": [
    {
     "data": {
      "text/plain": [
       "[('1', 548),\n",
       " ('21', 542),\n",
       " ('18', 481),\n",
       " ('20', 476),\n",
       " ('15', 456),\n",
       " ('4', 451),\n",
       " ('24', 432),\n",
       " ('23', 430),\n",
       " ('11', 426),\n",
       " ('16', 423),\n",
       " ('30', 421),\n",
       " ('19', 421),\n",
       " ('27', 418),\n",
       " ('17', 411),\n",
       " ('13', 411),\n",
       " ('7', 406),\n",
       " ('26', 399),\n",
       " ('5', 389),\n",
       " ('25', 383),\n",
       " ('6', 374),\n",
       " ('3', 367),\n",
       " ('14', 360),\n",
       " ('28', 359),\n",
       " ('2', 357),\n",
       " ('12', 342),\n",
       " ('22', 297),\n",
       " ('8', 276),\n",
       " ('214', 185),\n",
       " ('427', 165),\n",
       " ('218', 163),\n",
       " ('224', 163),\n",
       " ('305', 162),\n",
       " ('303', 159),\n",
       " ('203', 156),\n",
       " ('307', 150),\n",
       " ('212', 150),\n",
       " ('311', 150),\n",
       " ('318', 149),\n",
       " ('217', 145),\n",
       " ('316', 145),\n",
       " ('225', 144),\n",
       " ('420', 144),\n",
       " ('223', 142),\n",
       " ('328', 140),\n",
       " ('317', 139),\n",
       " ('417', 138),\n",
       " ('204', 137),\n",
       " ('430', 136),\n",
       " ('324', 135),\n",
       " ('230', 135),\n",
       " ('403', 134),\n",
       " ('201', 133),\n",
       " ('304', 131),\n",
       " ('423', 131),\n",
       " ('326', 129),\n",
       " ('327', 129),\n",
       " ('413', 129),\n",
       " ('314', 128),\n",
       " ('205', 128),\n",
       " ('323', 127),\n",
       " ('313', 127),\n",
       " ('310', 126),\n",
       " ('222', 126),\n",
       " ('309', 126),\n",
       " ('426', 123),\n",
       " ('228', 123),\n",
       " ('402', 122),\n",
       " ('302', 120),\n",
       " ('229', 120),\n",
       " ('429', 120),\n",
       " ('208', 120),\n",
       " ('428', 118),\n",
       " ('216', 118),\n",
       " ('414', 117),\n",
       " ('409', 117),\n",
       " ('211', 117),\n",
       " ('221', 117),\n",
       " ('227', 117),\n",
       " ('301', 115),\n",
       " ('206', 115),\n",
       " ('320', 115),\n",
       " ('401', 114),\n",
       " ('329', 114),\n",
       " ('213', 114),\n",
       " ('416', 113),\n",
       " ('408', 113),\n",
       " ('411', 113),\n",
       " ('209', 111),\n",
       " ('322', 111),\n",
       " ('415', 111),\n",
       " ('319', 109),\n",
       " ('207', 108),\n",
       " ('405', 106),\n",
       " ('410', 104),\n",
       " ('210', 103),\n",
       " ('412', 101),\n",
       " ('406', 101),\n",
       " ('422', 100),\n",
       " ('419', 97),\n",
       " ('330', 95),\n",
       " ('421', 94),\n",
       " ('407', 94),\n",
       " ('202', 91),\n",
       " ('306', 90),\n",
       " ('418', 86),\n",
       " ('321', 76),\n",
       " ('220', 75),\n",
       " ('312', 73)]"
      ]
     },
     "execution_count": 27,
     "metadata": {},
     "output_type": "execute_result"
    }
   ],
   "source": [
    "scenes_original = []\n",
    "for task in train_split_oct21:\n",
    "    scenes_original.append(task['task'].split('/')[0].split('-')[-1])\n",
    "Counter(scenes_original).most_common()"
   ]
  },
  {
   "cell_type": "code",
   "execution_count": 27,
   "metadata": {},
   "outputs": [],
   "source": [
    "ct_subgoals = defaultdict(int)\n",
    "\n",
    "for task in train_split_oct21:\n",
    "    json_path = os.path.join(data_p, task['task'], 'pp', 'ann_{}.json'.format(task['repeat_idx']))\n",
    "    with open(json_path, 'r') as f:\n",
    "        traj_data = json.load(f)\n",
    "    \n",
    "    for a in traj_data['plan']['high_pddl']:\n",
    "        ct_subgoals[a['discrete_action']['action']] += 1"
   ]
  },
  {
   "cell_type": "code",
   "execution_count": 28,
   "metadata": {},
   "outputs": [
    {
     "data": {
      "text/plain": [
       "defaultdict(int,\n",
       "            {'GotoLocation': 67896,\n",
       "             'PickupObject': 30848,\n",
       "             'SliceObject': 3068,\n",
       "             'PutObject': 28485,\n",
       "             'CoolObject': 2950,\n",
       "             'NoOp': 21023,\n",
       "             'HeatObject': 2943,\n",
       "             'CleanObject': 2842,\n",
       "             'ToggleObject': 2251})"
      ]
     },
     "execution_count": 28,
     "metadata": {},
     "output_type": "execute_result"
    }
   ],
   "source": [
    "ct_subgoals"
   ]
  },
  {
   "cell_type": "markdown",
   "metadata": {},
   "source": [
    "## Subgoal counts in New Partial Trajectories"
   ]
  },
  {
   "cell_type": "code",
   "execution_count": 24,
   "metadata": {
    "scrolled": true
   },
   "outputs": [
    {
     "name": "stdout",
     "output_type": "stream",
     "text": [
      "7570\n"
     ]
    },
    {
     "data": {
      "text/plain": [
       "[{'task': 'look_at_obj_in_light-BaseballBat-None-DeskLamp-301/trial_T20200814_164125_595727',\n",
       "  'repeat_idx': 0,\n",
       "  'full_traj_success': False,\n",
       "  'collected_subgoals': 2},\n",
       " {'task': 'look_at_obj_in_light-BaseballBat-None-DeskLamp-324/trial_T20200814_164653_293251',\n",
       "  'repeat_idx': 0,\n",
       "  'full_traj_success': True,\n",
       "  'collected_subgoals': 5},\n",
       " {'task': 'look_at_obj_in_light-BasketBall-None-DeskLamp-319/trial_T20200814_165040_882757',\n",
       "  'repeat_idx': 0,\n",
       "  'full_traj_success': True,\n",
       "  'collected_subgoals': 5},\n",
       " {'task': 'look_at_obj_in_light-BasketBall-None-DeskLamp-327/trial_T20200814_165217_576013',\n",
       "  'repeat_idx': 0,\n",
       "  'full_traj_success': True,\n",
       "  'collected_subgoals': 5},\n",
       " {'task': 'look_at_obj_in_light-Book-None-DeskLamp-301/trial_T20200814_165504_049184',\n",
       "  'repeat_idx': 0,\n",
       "  'full_traj_success': False,\n",
       "  'collected_subgoals': 2},\n",
       " {'task': 'look_at_obj_in_light-Book-None-DeskLamp-327/trial_T20200814_170059_770461',\n",
       "  'repeat_idx': 0,\n",
       "  'full_traj_success': True,\n",
       "  'collected_subgoals': 5},\n",
       " {'task': 'look_at_obj_in_light-Book-None-FloorLamp-201/trial_T20200814_170405_173500',\n",
       "  'repeat_idx': 0,\n",
       "  'full_traj_success': False,\n",
       "  'collected_subgoals': 2},\n",
       " {'task': 'look_at_obj_in_light-Book-None-FloorLamp-202/trial_T20200814_170659_775297',\n",
       "  'repeat_idx': 0,\n",
       "  'full_traj_success': True,\n",
       "  'collected_subgoals': 5},\n",
       " {'task': 'look_at_obj_in_light-Book-None-FloorLamp-203/trial_T20200814_170954_686903',\n",
       "  'repeat_idx': 0,\n",
       "  'full_traj_success': False,\n",
       "  'collected_subgoals': 2},\n",
       " {'task': 'look_at_obj_in_light-Book-None-FloorLamp-209/trial_T20200814_171445_058163',\n",
       "  'repeat_idx': 0,\n",
       "  'full_traj_success': True,\n",
       "  'collected_subgoals': 5}]"
      ]
     },
     "execution_count": 24,
     "metadata": {},
     "output_type": "execute_result"
    }
   ],
   "source": [
    "splits_p = '/root/data_alfred/splits'\n",
    "\n",
    "with open(os.path.join(splits_p, 'data_augmentation_experiment1_20200826.json'), 'r') as f:\n",
    "    splits_aug = json.load(f)\n",
    "\n",
    "    \n",
    "train_split_aug = splits_aug['augmentation']\n",
    "print(len(train_split_aug))\n",
    "train_split_aug[:10]"
   ]
  },
  {
   "cell_type": "code",
   "execution_count": 25,
   "metadata": {},
   "outputs": [
    {
     "data": {
      "text/plain": [
       "[('28', 389),\n",
       " ('3', 276),\n",
       " ('8', 255),\n",
       " ('21', 228),\n",
       " ('24', 226),\n",
       " ('27', 217),\n",
       " ('9', 205),\n",
       " ('4', 202),\n",
       " ('23', 201),\n",
       " ('18', 200),\n",
       " ('6', 195),\n",
       " ('11', 193),\n",
       " ('20', 191),\n",
       " ('19', 189),\n",
       " ('22', 178),\n",
       " ('15', 177),\n",
       " ('14', 176),\n",
       " ('26', 163),\n",
       " ('17', 161),\n",
       " ('7', 161),\n",
       " ('25', 151),\n",
       " ('2', 147),\n",
       " ('16', 141),\n",
       " ('29', 135),\n",
       " ('30', 117),\n",
       " ('5', 116),\n",
       " ('1', 113),\n",
       " ('10', 106),\n",
       " ('13', 99),\n",
       " ('301', 77),\n",
       " ('12', 76),\n",
       " ('203', 59),\n",
       " ('318', 58),\n",
       " ('205', 53),\n",
       " ('303', 51),\n",
       " ('201', 48),\n",
       " ('209', 48),\n",
       " ('316', 47),\n",
       " ('317', 46),\n",
       " ('230', 45),\n",
       " ('229', 43),\n",
       " ('305', 43),\n",
       " ('206', 35),\n",
       " ('211', 35),\n",
       " ('304', 34),\n",
       " ('310', 34),\n",
       " ('213', 33),\n",
       " ('215', 33),\n",
       " ('220', 33),\n",
       " ('227', 32),\n",
       " ('219', 32),\n",
       " ('224', 30),\n",
       " ('210', 30),\n",
       " ('225', 29),\n",
       " ('329', 29),\n",
       " ('217', 28),\n",
       " ('218', 28),\n",
       " ('228', 28),\n",
       " ('208', 28),\n",
       " ('214', 27),\n",
       " ('222', 27),\n",
       " ('313', 27),\n",
       " ('414', 27),\n",
       " ('323', 26),\n",
       " ('314', 26),\n",
       " ('402', 26),\n",
       " ('204', 25),\n",
       " ('207', 25),\n",
       " ('223', 24),\n",
       " ('302', 24),\n",
       " ('307', 24),\n",
       " ('216', 23),\n",
       " ('416', 23),\n",
       " ('430', 23),\n",
       " ('410', 23),\n",
       " ('221', 21),\n",
       " ('422', 21),\n",
       " ('311', 21),\n",
       " ('425', 21),\n",
       " ('417', 20),\n",
       " ('319', 19),\n",
       " ('226', 19),\n",
       " ('308', 19),\n",
       " ('421', 19),\n",
       " ('418', 18),\n",
       " ('409', 18),\n",
       " ('212', 17),\n",
       " ('403', 17),\n",
       " ('328', 17),\n",
       " ('202', 16),\n",
       " ('424', 16),\n",
       " ('428', 16),\n",
       " ('429', 16),\n",
       " ('322', 16),\n",
       " ('330', 15),\n",
       " ('404', 15),\n",
       " ('321', 15),\n",
       " ('309', 15),\n",
       " ('324', 14),\n",
       " ('327', 14),\n",
       " ('420', 14),\n",
       " ('411', 14),\n",
       " ('426', 13),\n",
       " ('415', 13),\n",
       " ('427', 13),\n",
       " ('408', 13),\n",
       " ('412', 12),\n",
       " ('405', 11),\n",
       " ('423', 11),\n",
       " ('306', 11),\n",
       " ('325', 11),\n",
       " ('326', 10),\n",
       " ('315', 9),\n",
       " ('413', 9),\n",
       " ('312', 8),\n",
       " ('406', 8),\n",
       " ('407', 6),\n",
       " ('419', 6),\n",
       " ('320', 6),\n",
       " ('401', 4)]"
      ]
     },
     "execution_count": 25,
     "metadata": {},
     "output_type": "execute_result"
    }
   ],
   "source": [
    "scenes_partial = []\n",
    "for task in train_split_aug:\n",
    "    scenes_partial.append(task['task'].split('/')[0].split('-')[-1])\n",
    "Counter(scenes_partial).most_common()"
   ]
  },
  {
   "cell_type": "code",
   "execution_count": 36,
   "metadata": {},
   "outputs": [],
   "source": [
    "ct_subgoals = defaultdict(int)\n",
    "\n",
    "for task in train_split_aug:\n",
    "    \n",
    "    if 'full_traj_success' in task.keys():\n",
    "        data_dir = data_aug_p\n",
    "        pp_folder = 'pp_explainer'\n",
    "    else:\n",
    "        data_dir = data_p\n",
    "        pp_folder = 'pp'\n",
    "    \n",
    "    json_path = os.path.join(data_dir, task['task'], pp_folder, 'ann_{}.json'.format(task['repeat_idx']))\n",
    "    with open(json_path, 'r') as f:\n",
    "        traj_data = json.load(f)\n",
    "    \n",
    "    for a in traj_data['plan']['high_pddl']:\n",
    "        ct_subgoals[a['discrete_action']['action']] += 1"
   ]
  },
  {
   "cell_type": "code",
   "execution_count": 37,
   "metadata": {},
   "outputs": [
    {
     "data": {
      "text/plain": [
       "defaultdict(int,\n",
       "            {'GotoLocation': 17452,\n",
       "             'PickupObject': 9828,\n",
       "             'NoOp': 7570,\n",
       "             'ToggleObject': 71,\n",
       "             'PutObject': 3029,\n",
       "             'SliceObject': 669,\n",
       "             'CleanObject': 209,\n",
       "             'CoolObject': 187,\n",
       "             'HeatObject': 89})"
      ]
     },
     "execution_count": 37,
     "metadata": {},
     "output_type": "execute_result"
    }
   ],
   "source": [
    "ct_subgoals"
   ]
  },
  {
   "cell_type": "markdown",
   "metadata": {},
   "source": [
    "## Subgoal counts in New 12K Full Trajectories"
   ]
  },
  {
   "cell_type": "code",
   "execution_count": 22,
   "metadata": {
    "scrolled": true
   },
   "outputs": [
    {
     "name": "stdout",
     "output_type": "stream",
     "text": [
      "11947\n"
     ]
    },
    {
     "data": {
      "text/plain": [
       "[{'task': 'pick_and_place_simple-CellPhone-None-Sofa-224/trial_T20190912_062415_255725',\n",
       "  'repeat_idx': 0,\n",
       "  'full_traj_success': True,\n",
       "  'collected_subgoals': 5},\n",
       " {'task': 'pick_heat_then_place_in_recep-Tomato-None-DiningTable-19/trial_T20190911_051611_152502',\n",
       "  'repeat_idx': 0,\n",
       "  'full_traj_success': True,\n",
       "  'collected_subgoals': 7},\n",
       " {'task': 'pick_cool_then_place_in_recep-Tomato-None-Microwave-20/trial_T20190911_220048_789694',\n",
       "  'repeat_idx': 0,\n",
       "  'full_traj_success': True,\n",
       "  'collected_subgoals': 7},\n",
       " {'task': 'pick_and_place_simple-CellPhone-None-Dresser-314/trial_T20190910_153622_489437',\n",
       "  'repeat_idx': 0,\n",
       "  'full_traj_success': True,\n",
       "  'collected_subgoals': 4},\n",
       " {'task': 'pick_and_place_simple-CreditCard-None-SideTable-313/trial_T20190913_140646_900196',\n",
       "  'repeat_idx': 0,\n",
       "  'full_traj_success': True,\n",
       "  'collected_subgoals': 4},\n",
       " {'task': 'pick_cool_then_place_in_recep-AppleSliced-None-SinkBasin-7/trial_T20190910_135634_526097',\n",
       "  'repeat_idx': 0,\n",
       "  'full_traj_success': True,\n",
       "  'collected_subgoals': 13},\n",
       " {'task': 'pick_clean_then_place_in_recep-Knife-None-CounterTop-1/trial_T20190910_215336_708071',\n",
       "  'repeat_idx': 0,\n",
       "  'full_traj_success': True,\n",
       "  'collected_subgoals': 7},\n",
       " {'task': 'pick_and_place_simple-Pencil-None-CoffeeTable-201/trial_T20190914_065521_488084',\n",
       "  'repeat_idx': 0,\n",
       "  'full_traj_success': True,\n",
       "  'collected_subgoals': 5},\n",
       " {'task': 'pick_clean_then_place_in_recep-Ladle-None-Cabinet-4/trial_T20190910_231717_161345',\n",
       "  'repeat_idx': 0,\n",
       "  'full_traj_success': True,\n",
       "  'collected_subgoals': 7},\n",
       " {'task': 'pick_two_obj_and_place-SoapBar-None-Toilet-423/trial_T20190912_095303_466439',\n",
       "  'repeat_idx': 0,\n",
       "  'full_traj_success': True,\n",
       "  'collected_subgoals': 9}]"
      ]
     },
     "execution_count": 22,
     "metadata": {},
     "output_type": "execute_result"
    }
   ],
   "source": [
    "splits_p = '/root/data_alfred/splits/unlabeled_12k_20201206.json'\n",
    "\n",
    "with open(splits_p, 'r') as f:\n",
    "    splits_aug = json.load(f)\n",
    "\n",
    "train_split_aug = splits_aug['augmentation']\n",
    "print(len(train_split_aug))\n",
    "train_split_aug[:10]"
   ]
  },
  {
   "cell_type": "code",
   "execution_count": 23,
   "metadata": {
    "scrolled": true
   },
   "outputs": [
    {
     "data": {
      "text/plain": [
       "[('16', 332),\n",
       " ('17', 302),\n",
       " ('7', 293),\n",
       " ('11', 287),\n",
       " ('20', 280),\n",
       " ('26', 280),\n",
       " ('15', 261),\n",
       " ('13', 260),\n",
       " ('27', 259),\n",
       " ('19', 255),\n",
       " ('18', 253),\n",
       " ('23', 249),\n",
       " ('1', 247),\n",
       " ('5', 243),\n",
       " ('24', 237),\n",
       " ('4', 230),\n",
       " ('21', 223),\n",
       " ('25', 214),\n",
       " ('2', 212),\n",
       " ('30', 204),\n",
       " ('12', 177),\n",
       " ('14', 166),\n",
       " ('6', 159),\n",
       " ('3', 144),\n",
       " ('28', 121),\n",
       " ('403', 114),\n",
       " ('406', 111),\n",
       " ('201', 108),\n",
       " ('204', 108),\n",
       " ('413', 105),\n",
       " ('301', 105),\n",
       " ('311', 104),\n",
       " ('323', 104),\n",
       " ('430', 102),\n",
       " ('415', 102),\n",
       " ('411', 102),\n",
       " ('209', 102),\n",
       " ('401', 102),\n",
       " ('229', 102),\n",
       " ('8', 102),\n",
       " ('326', 102),\n",
       " ('313', 99),\n",
       " ('228', 96),\n",
       " ('213', 96),\n",
       " ('408', 93),\n",
       " ('426', 93),\n",
       " ('203', 93),\n",
       " ('427', 93),\n",
       " ('402', 92),\n",
       " ('407', 92),\n",
       " ('221', 90),\n",
       " ('305', 90),\n",
       " ('414', 90),\n",
       " ('220', 90),\n",
       " ('422', 90),\n",
       " ('230', 90),\n",
       " ('211', 90),\n",
       " ('418', 87),\n",
       " ('307', 87),\n",
       " ('216', 87),\n",
       " ('316', 86),\n",
       " ('210', 84),\n",
       " ('405', 84),\n",
       " ('22', 84),\n",
       " ('212', 81),\n",
       " ('410', 78),\n",
       " ('202', 78),\n",
       " ('227', 78),\n",
       " ('214', 77),\n",
       " ('314', 75),\n",
       " ('423', 75),\n",
       " ('412', 72),\n",
       " ('208', 72),\n",
       " ('205', 72),\n",
       " ('419', 72),\n",
       " ('302', 69),\n",
       " ('223', 69),\n",
       " ('409', 66),\n",
       " ('224', 63),\n",
       " ('328', 63),\n",
       " ('218', 62),\n",
       " ('327', 60),\n",
       " ('428', 57),\n",
       " ('429', 54),\n",
       " ('206', 51),\n",
       " ('330', 51),\n",
       " ('225', 48),\n",
       " ('417', 48),\n",
       " ('303', 48),\n",
       " ('217', 48),\n",
       " ('319', 48),\n",
       " ('310', 45),\n",
       " ('306', 45),\n",
       " ('312', 43),\n",
       " ('222', 42),\n",
       " ('416', 42),\n",
       " ('420', 39),\n",
       " ('318', 35),\n",
       " ('322', 33),\n",
       " ('207', 33),\n",
       " ('421', 33),\n",
       " ('304', 33),\n",
       " ('317', 33),\n",
       " ('321', 30),\n",
       " ('309', 27),\n",
       " ('324', 27),\n",
       " ('329', 24),\n",
       " ('320', 9)]"
      ]
     },
     "execution_count": 23,
     "metadata": {},
     "output_type": "execute_result"
    }
   ],
   "source": [
    "scenes_new12k = []\n",
    "for task in train_split_aug:\n",
    "    scenes_new12k.append(task['task'].split('/')[0].split('-')[-1])\n",
    "Counter(scenes_new12k).most_common()"
   ]
  },
  {
   "cell_type": "code",
   "execution_count": 5,
   "metadata": {},
   "outputs": [],
   "source": [
    "data_aug_p = '/root/data_alfred/unlabeled_12k_20201206/seen'\n",
    "\n",
    "ct_subgoals = defaultdict(int)\n",
    "\n",
    "for task in train_split_aug:\n",
    "    \n",
    "    if 'full_traj_success' in task.keys():\n",
    "        data_dir = data_aug_p\n",
    "        pp_folder = 'pp_explainer'\n",
    "    else:\n",
    "        data_dir = data_p\n",
    "        pp_folder = 'pp'\n",
    "    \n",
    "    json_path = os.path.join(data_dir, task['task'], pp_folder, 'ann_{}.json'.format(task['repeat_idx']))\n",
    "    with open(json_path, 'r') as f:\n",
    "        traj_data = json.load(f)\n",
    "    \n",
    "    for a in traj_data['plan']['high_pddl']:\n",
    "        ct_subgoals[a['discrete_action']['action']] += 1"
   ]
  },
  {
   "cell_type": "code",
   "execution_count": 6,
   "metadata": {},
   "outputs": [
    {
     "data": {
      "text/plain": [
       "defaultdict(int,\n",
       "            {'GotoLocation': 38882,\n",
       "             'PickupObject': 17063,\n",
       "             'PutObject': 16674,\n",
       "             'NoOp': 11947,\n",
       "             'HeatObject': 1727,\n",
       "             'CoolObject': 1677,\n",
       "             'SliceObject': 1774,\n",
       "             'CleanObject': 2081,\n",
       "             'ToggleObject': 378})"
      ]
     },
     "execution_count": 6,
     "metadata": {},
     "output_type": "execute_result"
    }
   ],
   "source": [
    "ct_subgoals"
   ]
  },
  {
   "cell_type": "markdown",
   "metadata": {},
   "source": [
    "## Compare distribution by scene number"
   ]
  },
  {
   "cell_type": "code",
   "execution_count": null,
   "metadata": {},
   "outputs": [],
   "source": [
    "scenes_new12k\n",
    "scenes_partial\n",
    "scenes_original"
   ]
  },
  {
   "cell_type": "code",
   "execution_count": 32,
   "metadata": {},
   "outputs": [
    {
     "data": {
      "text/plain": [
       "120"
      ]
     },
     "execution_count": 32,
     "metadata": {},
     "output_type": "execute_result"
    }
   ],
   "source": [
    "scenes = set(scenes_new12k) | set(scenes_partial) |  set(scenes_original)\n",
    "len(scenes)"
   ]
  },
  {
   "cell_type": "code",
   "execution_count": 39,
   "metadata": {},
   "outputs": [],
   "source": [
    "scene_ordered_by_original_counts = list(Counter(scenes_original).most_common())\n",
    "scene_ordered_by_original_counts = [x for x,y in scene_ordered_by_original_counts]"
   ]
  },
  {
   "cell_type": "code",
   "execution_count": 42,
   "metadata": {},
   "outputs": [
    {
     "data": {
      "text/plain": [
       "77"
      ]
     },
     "execution_count": 42,
     "metadata": {},
     "output_type": "execute_result"
    }
   ],
   "source": [
    "Counter(scenes_partial)['301']"
   ]
  },
  {
   "cell_type": "code",
   "execution_count": 54,
   "metadata": {},
   "outputs": [
    {
     "data": {
      "image/png": "[encoded data removed]",
      "text/plain": [
       "<Figure size 1440x720 with 1 Axes>"
      ]
     },
     "metadata": {
      "needs_background": "light"
     },
     "output_type": "display_data"
    }
   ],
   "source": [
    "scenes = scene_ordered_by_original_counts\n",
    "ct_original = [Counter(scenes_original)[s] for s in scenes]\n",
    "ct_partial = [Counter(scenes_partial)[s] for s in scenes]\n",
    "ct_new12k = [Counter(scenes_new12k)[s] for s in scenes]\n",
    "\n",
    "def subcategorybar(scenes, vals, legends, width=0.8):\n",
    "    n = len(vals)\n",
    "    _scenes = np.arange(len(scenes))\n",
    "    plt.figure(figsize=(20,10))\n",
    "    for i in range(n):\n",
    "        plt.bar(_scenes - width/2. + i/float(n)*width, vals[i], \n",
    "                width=width/float(n), align=\"edge\", label=legends[i])\n",
    "    plt.xticks(rotation=90)\n",
    "    plt.xticks(_scenes, scenes)\n",
    "    plt.legend()\n",
    "    \n",
    "subcategorybar(scenes, [ct_original,ct_partial,ct_new12k], ['original', 'AAAI augmentation: partial fails', 'post AAAI augmentation: new12k'])\n",
    "\n",
    "plt.show()"
   ]
  },
  {
   "cell_type": "code",
   "execution_count": null,
   "metadata": {},
   "outputs": [],
   "source": []
  }
 ],
 "metadata": {
  "kernelspec": {
   "display_name": "Python 3",
   "language": "python",
   "name": "python3"
  },
  "language_info": {
   "codemirror_mode": {
    "name": "ipython",
    "version": 3
   },
   "file_extension": ".py",
   "mimetype": "text/x-python",
   "name": "python",
   "nbconvert_exporter": "python",
   "pygments_lexer": "ipython3",
   "version": "3.6.9"
  }
 },
 "nbformat": 4,
 "nbformat_minor": 4
}
