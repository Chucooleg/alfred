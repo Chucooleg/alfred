{
 "cells": [
  {
   "cell_type": "raw",
   "metadata": {},
   "source": [
    "# After running this notebook, use Preprocess_sampled_instructions_for_augmentation.ipynb to preprocess (numericalize) before training"
   ]
  },
  {
   "cell_type": "code",
   "execution_count": null,
   "metadata": {},
   "outputs": [],
   "source": []
  },
  {
   "cell_type": "code",
   "execution_count": 6,
   "metadata": {},
   "outputs": [],
   "source": [
    "import numpy as np\n",
    "import json\n",
    "import os\n",
    "from datetime import datetime\n",
    "from collections import defaultdict\n",
    "from math import ceil\n",
    "import random"
   ]
  },
  {
   "cell_type": "code",
   "execution_count": 7,
   "metadata": {},
   "outputs": [],
   "source": [
    "data = '/root/data_alfred/json_feat_2.1.0/'\n",
    "instr_TIMESTAMP = datetime.now().strftime(\"%Y%m%d_%H%M\")\n",
    "# instr_TIMESTAMP = '20200810_1829' # Explainer\n",
    "instr_TIMESTAMP = '20200812_2328' # Explainer\n"
   ]
  },
  {
   "cell_type": "code",
   "execution_count": 8,
   "metadata": {
    "scrolled": false
   },
   "outputs": [
    {
     "data": {
      "text/plain": [
       "'20200812_2328'"
      ]
     },
     "execution_count": 8,
     "metadata": {},
     "output_type": "execute_result"
    }
   ],
   "source": [
    "instr_TIMESTAMP"
   ]
  },
  {
   "cell_type": "markdown",
   "metadata": {},
   "source": [
    "## DATA"
   ]
  },
  {
   "cell_type": "code",
   "execution_count": 11,
   "metadata": {},
   "outputs": [],
   "source": [
    "def perplexity(probs):\n",
    "    return 2**(-1*np.sum(np.log2(probs))/len(probs))"
   ]
  },
  {
   "cell_type": "code",
   "execution_count": 31,
   "metadata": {},
   "outputs": [],
   "source": [
    "def augment_one_task(pred, key, num_best_candidates=3, num_sample_instructions=6, choices=[0, 1, 2, 0, 1, 2]):\n",
    "\n",
    "    num_subgoals = len(pred[key]['action_high'])-1\n",
    "    top_candidates = {}\n",
    "    \n",
    "    # Filter to top 3, unique temperature sampled instructions by perplexity\n",
    "    for subgoal_i in range(num_subgoals):\n",
    "        candidates = [can[str(subgoal_i)] for can in pred[key]['p_lang_instr']]\n",
    "        candidates_scores = [perplexity(score[str(subgoal_i)]) for score in pred[key]['p_lang_probs']]\n",
    "        instr_score_pairs = [(round(perplex,3), instr) for instr, perplex in zip(candidates, candidates_scores) if instr != '']\n",
    "        sorted_candidates = sorted(instr_score_pairs, key=lambda x:x[0], reverse=False)\n",
    "        \n",
    "        top_candidates[subgoal_i] = []\n",
    "        last = ''\n",
    "        ct = 0\n",
    "        repeat = 0\n",
    "        for score, can in sorted_candidates:\n",
    "            if can != last and can != last+' .' and can != last+'.':\n",
    "                last = can\n",
    "                top_candidates[subgoal_i].append(can[0].upper() + can[1:].replace(' .', '.'))\n",
    "                ct += 1\n",
    "            if ct == num_best_candidates:\n",
    "                break\n",
    "        while ct < num_best_candidates:\n",
    "            # if temperature doesn't generate 3 unique sentences\n",
    "            try:\n",
    "                top_candidates[subgoal_i].append(top_candidates[subgoal_i][-1])\n",
    "            except:\n",
    "                if not top_candidates[subgoal_i]:\n",
    "                    top_candidates[subgoal_i].append('')\n",
    "            \n",
    "            repeat += 1\n",
    "            ct += 1\n",
    "    \n",
    "    # Sample from the filtered\n",
    "    choices_per_subgoal = {subgoal_i:random.sample(choices, num_sample_instructions) for subgoal_i in range(num_subgoals)}\n",
    "    \n",
    "    new_instructions = []\n",
    "    for sampled_instr_i in range(num_sample_instructions):\n",
    "        high_descs = [] \n",
    "        for subgoal_i in range(num_subgoals):\n",
    "            try:\n",
    "                high_descs.append((top_candidates[subgoal_i][choices_per_subgoal[subgoal_i].pop()]))\n",
    "            except:\n",
    "                import pdb; pdb.set_trace()\n",
    "        out = {'timestamp': datetime.now().strftime(\"%Y%m%d_%H%M%S_%f\"), 'high_descs':high_descs}\n",
    "        new_instructions.append(out)\n",
    "    # ---------------------\n",
    "\n",
    "    return new_instructions, repeat\n",
    "\n",
    "\n",
    "def augment_split(pred, num_best_candidates, num_sample_instructions, data, instr_timestamp, prefix='explainer'):\n",
    "    '''\n",
    "    pred: loaded from {}_sampled.temperature_{}.preds.json.\n",
    "    num_best_candidates: int. number of top generated instructions per subgoal to keep.\n",
    "    num_sample_instructions: int. sample 3-6 new instructions\n",
    "    instr_timestamp: str. timestamp for the whole instruction set\n",
    "    '''\n",
    "    out = {}\n",
    "    outpaths = {}\n",
    "    repeats = defaultdict(int)\n",
    "    pred_keys = list(pred.keys())\n",
    "    ct = 0\n",
    "    total = len(pred_keys)\n",
    "    \n",
    "    # [0, 1, 2, 0, 1, 2] for num_best_candidates= 3, num_sample_instructions=6\n",
    "    # [0, 1, 2, 3, 0, 1] for num_best_candidates=4, num_sample_instructions=6\n",
    "    choices = (list(range(num_best_candidates)) * ceil(num_sample_instructions / num_best_candidates))[:num_sample_instructions]\n",
    "    \n",
    "    for k in pred_keys:\n",
    "        new_instructions, sampling_repeat = augment_one_task(pred, k, num_best_candidates, num_sample_instructions, choices)\n",
    "        out[k] = new_instructions\n",
    "        \n",
    "        #pred[k]['root'] is '/root/data_alfred/json_feat_2.1.0/pick_cool_then_place_in_recep-LettuceSliced-None-DiningTable-17/trial_T20190909_070538_437648'\n",
    "        save_dir = pred[k]['root'].replace(data, os.path.join(data,split+'/'))\n",
    "        save_p = os.path.join(save_dir, '{}_instructions_temperature_0.75_T{}.json'.format(prefix, instr_timestamp))\n",
    "        with open(save_p, 'w') as f:\n",
    "            json.dump(new_instructions,f)\n",
    "        outpaths[k] = save_p\n",
    "        repeats[k] += sampling_repeat\n",
    "        ct += 1\n",
    "        \n",
    "        if ct%1000 == 0:\n",
    "            print(f'completed {ct}/{total}')\n",
    "        \n",
    "    return out, outpaths, repeats"
   ]
  },
  {
   "cell_type": "markdown",
   "metadata": {},
   "source": [
    "## Explainer"
   ]
  },
  {
   "cell_type": "code",
   "execution_count": 16,
   "metadata": {},
   "outputs": [],
   "source": [
    "dout = '/root/data/home/hoyeung/blob_alfred_data/exp_all/model:seq2seq_per_subgoal,name:v2_epoch_40_obj_instance_enc_max_pool_dec_aux_loss_weighted_bce_1to2_sample_sentences/'\n",
    "\n",
    "split = 'train'\n",
    "temperature = '0.75'\n",
    "pred_f = os.path.join(dout, '{}_sampled.temperature_{}.preds.json'.format(split, temperature))\n",
    "with open(pred_f, 'r') as f:\n",
    "    explainer_pred = json.load(f)"
   ]
  },
  {
   "cell_type": "code",
   "execution_count": 143,
   "metadata": {
    "scrolled": true
   },
   "outputs": [
    {
     "name": "stderr",
     "output_type": "stream",
     "text": [
      "/opt/conda/envs/pytorch-py3.6/lib/python3.6/site-packages/ipykernel_launcher.py:2: RuntimeWarning: invalid value encountered in double_scalars\n",
      "  \n"
     ]
    },
    {
     "name": "stdout",
     "output_type": "stream",
     "text": [
      "completed 1000/20806\n",
      "completed 2000/20806\n",
      "completed 3000/20806\n",
      "completed 4000/20806\n",
      "completed 5000/20806\n",
      "completed 6000/20806\n",
      "completed 7000/20806\n",
      "completed 8000/20806\n",
      "completed 9000/20806\n",
      "completed 10000/20806\n",
      "completed 11000/20806\n",
      "completed 12000/20806\n",
      "completed 13000/20806\n",
      "completed 14000/20806\n",
      "completed 15000/20806\n",
      "completed 16000/20806\n",
      "completed 17000/20806\n",
      "completed 18000/20806\n",
      "completed 19000/20806\n",
      "completed 20000/20806\n"
     ]
    }
   ],
   "source": [
    "out, outpaths, repeats = augment_split(pred, num_best_candidates=4, num_sample_instructions=6, data=data, instr_timestamp=instr_TIMESTAMP, prefix='explainer')"
   ]
  },
  {
   "cell_type": "code",
   "execution_count": 132,
   "metadata": {
    "scrolled": true
   },
   "outputs": [
    {
     "data": {
      "text/plain": [
       "[{'timestamp': '20200810_195806_041141',\n",
       "  'high_descs': ['Turn around and go to the sink.',\n",
       "   'Pick up the egg from the sink.',\n",
       "   'Turn right and walk to the microwave.',\n",
       "   'Put the egg in the microwave and shut the door and then open the door and take the egg out again and shut the door.',\n",
       "   'Turn to the left to face the counter to the left of the sink.',\n",
       "   'Put the egg in the sink']},\n",
       " {'timestamp': '20200810_195806_041159',\n",
       "  'high_descs': ['Move to the sink to the right of you',\n",
       "   \"Pick up the egg that ' s in front of you to the right of the sink.\",\n",
       "   'Turn right and walk to the microwave.',\n",
       "   'Heat the egg in the microwave.',\n",
       "   'Turn to the left to face the sink.',\n",
       "   'Put the egg in the sink.']},\n",
       " {'timestamp': '20200810_195806_041167',\n",
       "  'high_descs': ['Turn around and walk to the sink on your right.',\n",
       "   'Pick up the egg on the counter.',\n",
       "   'Turn right to face the microwave.',\n",
       "   'Put the egg in the microwave and shut the door and then open the door and take the egg out again and shut the door.',\n",
       "   'Turn left to face the sink.',\n",
       "   'Place the egg in the sink']},\n",
       " {'timestamp': '20200810_195806_041173',\n",
       "  'high_descs': ['Turn around and go to the sink.',\n",
       "   \"Pick up the egg that ' s in front of you.\",\n",
       "   'Take a small step to your right to face the microwave.',\n",
       "   'Open the microwave and put the egg inside then close the door , turn the microwave on , after a couple seconds open the microwave back up and remove the now heated egg then close the microwave door',\n",
       "   'Move slightly to the left to face the counter to the right of the sink.',\n",
       "   'Place the egg in the sink']},\n",
       " {'timestamp': '20200810_195806_041179',\n",
       "  'high_descs': ['Turn around and walk to the sink on your right.',\n",
       "   \"Pick up the egg that ' s in front of you.\",\n",
       "   'Turn right to face the microwave.',\n",
       "   'Open the microwave and place the egg inside , then close the door , turn on the microwave , after a couple seconds open the microwave back up and remove the now chilled egg then close the door.',\n",
       "   'Turn left to face the sink.',\n",
       "   'Place the egg in the sink.']},\n",
       " {'timestamp': '20200810_195806_041186',\n",
       "  'high_descs': ['Turn around and walk to the sink on the left.',\n",
       "   'Pick up the egg from the sink.',\n",
       "   'Turn right and face the microwave in front of you.',\n",
       "   'Heat the egg in the microwave.',\n",
       "   'Turn to the left to face the sink.',\n",
       "   'Put the egg in the sink']}]"
      ]
     },
     "execution_count": 132,
     "metadata": {},
     "output_type": "execute_result"
    }
   ],
   "source": [
    "out['trial_T20190908_205050_000947_1']"
   ]
  },
  {
   "cell_type": "code",
   "execution_count": 139,
   "metadata": {},
   "outputs": [
    {
     "data": {
      "text/plain": [
       "669"
      ]
     },
     "execution_count": 139,
     "metadata": {},
     "output_type": "execute_result"
    }
   ],
   "source": [
    "sum(repeats.values())"
   ]
  },
  {
   "cell_type": "code",
   "execution_count": 20,
   "metadata": {},
   "outputs": [
    {
     "data": {
      "text/plain": [
       "[{'0': 'turn around and walk to the counter between the fridge and the stove .',\n",
       "  '1': 'take the tomato from the flush',\n",
       "  '2': 'turn around , go to the microwave that is on the counter top , to your right .',\n",
       "  '3': 'put the tomato in the microwave .',\n",
       "  '4': 'turn left then face the lettuce on your right .',\n",
       "  '5': 'pick up the tomato on the table .',\n",
       "  '6': 'turn right and walk to the microwave .',\n",
       "  '7': 'put the tomato in the microwave .',\n",
       "  '8': 'turn around and walk forward to face the stove .',\n",
       "  '9': 'pick up the knife knife from the counter .',\n",
       "  '10': 'turn around and go to the microwave .',\n",
       "  '11': 'open the microwave door , slice the tomato inside',\n",
       "  '12': 'place the tomato slice inside of the microwave'},\n",
       " {'0': 'turn to the left walk to the counter of the fridge',\n",
       "  '1': 'pick up a tomato off of the counter in front of you .',\n",
       "  '2': 'turn around and walk to the microwave .',\n",
       "  '3': 'open the microwave door , put the tomato in , and close the door .',\n",
       "  '4': 'walk back to the bowl on the table .',\n",
       "  '5': 'pick up the tomato off of the table .',\n",
       "  '6': 'turn right and go to the microwave',\n",
       "  '7': 'place the tomato in the microwave .',\n",
       "  '8': 'turn to the left , go to the stove .',\n",
       "  '9': 'pick up the knife on the counter next to the stove .',\n",
       "  '10': 'turn around and head towards the microwave .',\n",
       "  '11': 'cut the tomato in the microwave .',\n",
       "  '12': ''},\n",
       " {'0': 'turn left and walk to the counter that has the toaster on it .',\n",
       "  '1': 'pick up a tomato slice from the counter',\n",
       "  '2': 'carry the chilled tomato back to the microwave .',\n",
       "  '3': 'put the tomato in the microwave',\n",
       "  '4': 'walk back to the kitchen island',\n",
       "  '5': 'pick up a slice of tomato on the table .',\n",
       "  '6': 'turn left and walk towards the wall , then turn left and walk to the microwave .',\n",
       "  '7': 'put the tomato in the microwave .',\n",
       "  '8': 'turn left and walk to the stove on the right .',\n",
       "  '9': 'pick up the knife on the counter',\n",
       "  '10': 'turn around go to the microwave',\n",
       "  '11': 'open the microwave door and cut the tomato on the second shelf .',\n",
       "  '12': 'cut the tomato in the microwave into slices .'},\n",
       " {'0': 'turn around and move to the counter to the right of the fridge .',\n",
       "  '1': 'take the tomato out of the bin .',\n",
       "  '2': 'go back to the microwave to the right .',\n",
       "  '3': 'put the tomato in the microwave .',\n",
       "  '4': 'go left and then turn right to face the kitchen table .',\n",
       "  '5': 'pick up the tomato on the edge of the table .',\n",
       "  '6': 'turn right and walk up to the microwave',\n",
       "  '7': 'place the tomato in the oven on the left . and close the door .',\n",
       "  '8': 'turn around and walk to to the stove .',\n",
       "  '9': 'pick up the knife on the counter',\n",
       "  '10': 'turn around and walk to the microwave .',\n",
       "  '11': 'slice the tomato in the microwave .',\n",
       "  '12': 'cut the tomato in the microwave into slices .'},\n",
       " {'0': 'turn left and walk over to the counter to the right of the fridge .',\n",
       "  '1': 'pick up a tomato slice from the counter',\n",
       "  '2': 'move to the microwave to the right of you',\n",
       "  '3': 'put the tomato in the microwave .',\n",
       "  '4': 'turn left and walk to the wall then turn right to face the white table .',\n",
       "  '5': 'pick up a piece of tomato on the table .',\n",
       "  '6': 'turn around and go to the microwave .',\n",
       "  '7': 'put tomato in microwave , close door',\n",
       "  '8': 'turn around and walk the stove top above the stove top .',\n",
       "  '9': 'pick up the knife on the counter in front of the toaster',\n",
       "  '10': 'turn around and walk to the microwave on the counter .',\n",
       "  '11': 'open the microwave door in front of you and take it out .',\n",
       "  '12': 'slice the tomato in the microwave .'},\n",
       " {'0': 'move to the counter to the left of the fridge',\n",
       "  '1': 'pick up a tomato slice',\n",
       "  '2': 'turn around and walk to the microwave .',\n",
       "  '3': 'put the tomato in the microwave',\n",
       "  '4': 'walk over to the round table .',\n",
       "  '5': 'pick up tomato from table',\n",
       "  '6': 'move to the right of the table',\n",
       "  '7': 'put the tomato in the microwave and close the door .',\n",
       "  '8': 'turn around , go to the left of the stove .',\n",
       "  '9': 'pick up the knife from the counter',\n",
       "  '10': 'turn around and go to the microwave .',\n",
       "  '11': 'open the microwave door , slice the tomato that is in the microwave , close the microwave .',\n",
       "  '12': 'open the microwave door .'},\n",
       " {'0': 'turn to your left and walk to the counter .',\n",
       "  '1': 'pick up the tomato on the counter',\n",
       "  '2': 'turn around and go to the microwave',\n",
       "  '3': 'put the tomato inside the microwave and close the microwave .',\n",
       "  '4': 'turn left , walk to the table .',\n",
       "  '5': 'take a slice of tomato from the table .',\n",
       "  '6': 'turn to the right and walk over to the microwave .',\n",
       "  '7': 'place the tomato in the microwave .',\n",
       "  '8': 'turn around and walk forward to face the counter to the left of the stove .',\n",
       "  '9': 'pick up the knife from the counter .',\n",
       "  '10': 'turn around and walk back to the microwave .',\n",
       "  '11': '',\n",
       "  '12': 'slice the tomato inside the microwave .'},\n",
       " {'0': 'turn around and walk to the counter with the toaster on it .',\n",
       "  '1': 'pick up a slice of tomato .',\n",
       "  '2': 'walk to face microwave',\n",
       "  '3': 'open the microwave and put the tomato in then close the door',\n",
       "  '4': 'turn around and step forward to face the table .',\n",
       "  '5': 'pick up the tomato from the table',\n",
       "  '6': 'turn right and walk to the microwave on the counter on the left .',\n",
       "  '7': 'put the tomato in the microwave , on the left side .',\n",
       "  '8': 'turn left and go to the stove on your left .',\n",
       "  '9': 'pick up the knife on the left of the stove .',\n",
       "  '10': 'turn around and go to the microwave .',\n",
       "  '11': 'cut the tomato inside the microwave',\n",
       "  '12': 'cut the tomato in the microwave into slices .'},\n",
       " {'0': 'turn left , walk to the counter',\n",
       "  '1': 'pick up a tomato slice from the counter',\n",
       "  '2': 'turn around and walk to the microwave .',\n",
       "  '3': 'put the tomato in the microwave .',\n",
       "  '4': 'turn around and move toward the door , then turn right and walk to the white table .',\n",
       "  '5': 'pick up the tomato on front of the egg from the table',\n",
       "  '6': 'turn right and walk the the microwave on your left .',\n",
       "  '7': 'place the tomato in the microwave .',\n",
       "  '8': 'turn around , turn left , head to the stove',\n",
       "  '9': 'pick up the knife on the counter .',\n",
       "  '10': 'turn around and go back to the microwave .',\n",
       "  '11': '',\n",
       "  '12': 'cut the tomato in the microwave .'},\n",
       " {'0': 'turn around and walk to the counter where the bread is .',\n",
       "  '1': 'pick up tomato from counter',\n",
       "  '2': 'take a step right and face the microwave .',\n",
       "  '3': 'put the tomato in the microwave',\n",
       "  '4': 'turn back to the table',\n",
       "  '5': 'pick up a slice of tomato on the table .',\n",
       "  '6': 'turn right and walk to the microwave on your left .',\n",
       "  '7': 'put the tomato in the microwave .',\n",
       "  '8': 'turn around and walk back to the counter .',\n",
       "  '9': 'pick up the knife in front of the tea pot .',\n",
       "  '10': 'turn to the right and go to the microwave',\n",
       "  '11': 'cut the tomato in the microwave into slices .',\n",
       "  '12': 'use the knife and slice the tomato in the microwave'}]"
      ]
     },
     "execution_count": 20,
     "metadata": {},
     "output_type": "execute_result"
    }
   ],
   "source": [
    "explainer_pred['trial_T20190907_013704_727644_0']['p_lang_instr']"
   ]
  },
  {
   "cell_type": "code",
   "execution_count": 21,
   "metadata": {},
   "outputs": [
    {
     "data": {
      "text/plain": [
       "[{'0': 'turn left and walk to the toaster on the counter .',\n",
       "  '1': 'pick up the tomato to the left of the toaster .',\n",
       "  '2': 'turn around and go to the right , then turn left to go to the microwave .',\n",
       "  '3': 'place the tomato in the microwave and shut the door .',\n",
       "  '4': 'turn left and go to the right table . the right .',\n",
       "  '5': 'take the tomato from the table .',\n",
       "  '6': 'bring the tomato to the microwave .',\n",
       "  '7': 'place the tomato in the microwave',\n",
       "  '8': 'turn around and walk over to the kitchen counter that is to the left of the stove .',\n",
       "  '9': 'take the knife from the counter .',\n",
       "  '10': 'turn around , go straight to the microwave .',\n",
       "  '11': 'cut the tomato in the microwave in front of you and close it .',\n",
       "  '12': ''},\n",
       " {'0': 'turn to the left and walk to to the toaster on the counter .',\n",
       "  '1': 'pick up the tomato on the counter',\n",
       "  '2': 'turn around and go right and stand in front of the microwave .',\n",
       "  '3': 'put the tomato in the microwave',\n",
       "  '4': 'turn left and go to the white table',\n",
       "  '5': 'take the knife from the table .',\n",
       "  '6': 'turn right and walk forward to face the microwave on the counter .',\n",
       "  '7': 'place the tomato in the microwave .',\n",
       "  '8': 'turn around , go back to the counter .',\n",
       "  '9': 'take the knife from the counter .',\n",
       "  '10': 'turn around , go to the microwave .',\n",
       "  '11': '',\n",
       "  '12': ''},\n",
       " {'0': 'turn around and go to the toaster',\n",
       "  '1': 'pick up the tomato to the left of the toaster .',\n",
       "  '2': 'turn right then head to the microwave',\n",
       "  '3': 'place the tomato in the microwave .',\n",
       "  '4': 'turn left and walk over to the white table , then face the white table .',\n",
       "  '5': 'take the tomato from the table .',\n",
       "  '6': 'walk right to the microwave',\n",
       "  '7': 'place the tomato in the microwave',\n",
       "  '8': 'turn around and walk over to the counter .',\n",
       "  '9': 'pick up the knife from the counter .',\n",
       "  '10': 'walk back to the microwave .',\n",
       "  '11': 'open the microwave in front of you and place the knife .',\n",
       "  '12': ''},\n",
       " {'0': 'turn around and walk to to the toaster .',\n",
       "  '1': 'pick up a slice of tomato',\n",
       "  '2': 'turn around and face the microwave on the counter .',\n",
       "  '3': 'put the tomato in the microwave',\n",
       "  '4': 'turn left and walk over to the kitchen table .',\n",
       "  '5': 'take the tomato from the table .',\n",
       "  '6': 'walk to the microwave to your right .',\n",
       "  '7': 'put the tomato in the microwave .',\n",
       "  '8': 'turn around and walk over to the kitchen counter',\n",
       "  '9': 'take the knife from the counter that is in front of you .',\n",
       "  '10': 'turn around , walk to microwave',\n",
       "  '11': 'open the microwave door',\n",
       "  '12': ''},\n",
       " {'0': 'turn around and go to the counter to the left of the stove .',\n",
       "  '1': 'pick up the tomato from the counter .',\n",
       "  '2': 'turn around and take a right at the counter and walk to the microwave .',\n",
       "  '3': 'open the microwave , put the tomato in the microwave and close the door',\n",
       "  '4': 'turn to the left to the white table',\n",
       "  '5': 'pick up the tomato from the table',\n",
       "  '6': 'move to the right to the refrigerator to the right of the sink',\n",
       "  '7': 'put the tomato in the microwave .',\n",
       "  '8': 'turn around and walk over to the counter .',\n",
       "  '9': 'take the knife from the counter .',\n",
       "  '10': 'turn around and go to the microwave .',\n",
       "  '11': 'open the microwave door and cut up the apple to the right of the egg inside the microwave .',\n",
       "  '12': ''},\n",
       " {'0': 'turn around and go to the toaster',\n",
       "  '1': 'pick up the tomato to the left of the toaster .',\n",
       "  '2': 'turn around and go right to stand in front of the microwave .',\n",
       "  '3': 'put the tomato in the microwave and close the door .',\n",
       "  '4': 'turn left and walk over to the white table',\n",
       "  '5': 'take the tomato from the table .',\n",
       "  '6': 'go to the microwave',\n",
       "  '7': 'place the tomato inside the microwave and close the door',\n",
       "  '8': 'turn around and walk forwards to the counter with the knife on it .',\n",
       "  '9': 'pick up the knife on the counter .',\n",
       "  '10': 'turn around and walk to the microwave .',\n",
       "  '11': 'cut the tomato in the microwave .',\n",
       "  '12': ''},\n",
       " {'0': 'turn around and move to the toaster on the counter .',\n",
       "  '1': 'pick up a tomato slice',\n",
       "  '2': 'turn around and go to the microwave',\n",
       "  '3': 'put the tomato inside the microwave',\n",
       "  '4': 'go to the white table',\n",
       "  '5': 'take the tomato from the table .',\n",
       "  '6': 'turn right and go to the microwave',\n",
       "  '7': 'put the tomato in the microwave',\n",
       "  '8': 'turn around and walk over to the kitchen counter',\n",
       "  '9': 'grab the knife in front of the sponge',\n",
       "  '10': 'pick up the knife and close the stove',\n",
       "  '11': 'open the microwave and cut the tomato in the microwave .',\n",
       "  '12': ''},\n",
       " {'0': 'turn around and take a step to your left so you are in front of the toaster next to the toaster .',\n",
       "  '1': 'pick up a tomato slice on the counter .',\n",
       "  '2': 'turn around , turn right , then left to go to the microwave .',\n",
       "  '3': 'put the chilled tomato inside the microwave and close the door .',\n",
       "  '4': 'turn left then turn right again to face the table .',\n",
       "  '5': 'take the tomato from the table .',\n",
       "  '6': \"turn right and walk over to the microwave that ' s on the counter to the left\",\n",
       "  '7': 'put the tomato in the microwave .',\n",
       "  '8': 'turn around and head towards the counter',\n",
       "  '9': 'pick up the knife with the yellow handle on the counter .',\n",
       "  '10': 'turn around and head to the microwave .',\n",
       "  '11': 'cut the tomato in the microwave in front of you and close .',\n",
       "  '12': ''},\n",
       " {'0': 'turn left and walk to the toaster on the counter .',\n",
       "  '1': 'take the tomato that is in the kitchen counter .',\n",
       "  '2': 'turn around and take a right again to the left to face the microwave .',\n",
       "  '3': 'place the tomato inside the microwave and close it .',\n",
       "  '4': 'turn left then head to the table',\n",
       "  '5': 'take the tomato from the table .',\n",
       "  '6': 'turn right and go to the microwave on your left .',\n",
       "  '7': 'place the tomato in the microwave , close the door',\n",
       "  '8': 'turn around and walk to the counter to the left of the stove .',\n",
       "  '9': 'pick up the knife in front of the be .',\n",
       "  '10': 'turn around and go to the microwave .',\n",
       "  '11': 'cut the microwave in front of you and close the door .',\n",
       "  '12': ''},\n",
       " {'0': 'turn around and walk forward to face the toaster on the counter .',\n",
       "  '1': 'pick up a tomato slice from the counter .',\n",
       "  '2': 'turn around , walk to the microwave',\n",
       "  '3': 'place the tomato in the microwave',\n",
       "  '4': 'turn left and go back to the white table .',\n",
       "  '5': 'pick up the tomato from the table .',\n",
       "  '6': 'turn right back to the microwave .',\n",
       "  '7': 'place the tomato in the microwave',\n",
       "  '8': 'turn around and walk over to the counter .',\n",
       "  '9': 'pick up the knife on the counter .',\n",
       "  '10': 'walk in the room to face microwave .',\n",
       "  '11': 'open the microwave and cut the potato inside the microwave .',\n",
       "  '12': ''}]"
      ]
     },
     "execution_count": 21,
     "metadata": {},
     "output_type": "execute_result"
    }
   ],
   "source": [
    "pred['trial_T20190907_013704_727644_0']['p_lang_instr']"
   ]
  },
  {
   "cell_type": "code",
   "execution_count": null,
   "metadata": {},
   "outputs": [],
   "source": []
  },
  {
   "cell_type": "code",
   "execution_count": null,
   "metadata": {},
   "outputs": [],
   "source": []
  },
  {
   "cell_type": "code",
   "execution_count": null,
   "metadata": {},
   "outputs": [],
   "source": []
  },
  {
   "cell_type": "markdown",
   "metadata": {},
   "source": [
    "## Baseline"
   ]
  },
  {
   "cell_type": "code",
   "execution_count": 32,
   "metadata": {},
   "outputs": [],
   "source": [
    "dout = '/root/data/home/hoyeung/blob_alfred_data/exp_all/model:seq2seq_per_subgoal,name:v2_epoch_35_baseline_sample_sentences/'\n",
    "\n",
    "split = 'train'\n",
    "temperature = '0.75'\n",
    "pred_f = os.path.join(dout, '{}_sampled.temperature_{}.preds.json'.format(split, temperature))\n",
    "with open(pred_f, 'r') as f:\n",
    "    pred = json.load(f)"
   ]
  },
  {
   "cell_type": "code",
   "execution_count": 33,
   "metadata": {
    "scrolled": true
   },
   "outputs": [
    {
     "name": "stderr",
     "output_type": "stream",
     "text": [
      "/opt/conda/envs/pytorch-py3.6/lib/python3.6/site-packages/ipykernel_launcher.py:2: RuntimeWarning: invalid value encountered in double_scalars\n",
      "  \n"
     ]
    },
    {
     "name": "stdout",
     "output_type": "stream",
     "text": [
      "completed 1000/6505\n",
      "completed 2000/6505\n",
      "completed 3000/6505\n",
      "completed 4000/6505\n",
      "completed 5000/6505\n",
      "completed 6000/6505\n"
     ]
    }
   ],
   "source": [
    "out, outpaths, repeats = augment_split(pred, num_best_candidates=4, num_sample_instructions=6, data=data, instr_timestamp=instr_TIMESTAMP, prefix='baseline')"
   ]
  },
  {
   "cell_type": "code",
   "execution_count": null,
   "metadata": {},
   "outputs": [],
   "source": []
  },
  {
   "cell_type": "code",
   "execution_count": null,
   "metadata": {},
   "outputs": [],
   "source": [
    "# find . -type f -name 'explained_instructions_temperature_0.75_T20200812_2328.json' -delete"
   ]
  },
  {
   "cell_type": "code",
   "execution_count": null,
   "metadata": {},
   "outputs": [],
   "source": []
  },
  {
   "cell_type": "code",
   "execution_count": null,
   "metadata": {},
   "outputs": [],
   "source": []
  },
  {
   "cell_type": "code",
   "execution_count": null,
   "metadata": {},
   "outputs": [],
   "source": []
  },
  {
   "cell_type": "code",
   "execution_count": null,
   "metadata": {},
   "outputs": [],
   "source": []
  },
  {
   "cell_type": "markdown",
   "metadata": {},
   "source": [
    "## Reference"
   ]
  },
  {
   "cell_type": "code",
   "execution_count": 105,
   "metadata": {},
   "outputs": [
    {
     "data": {
      "text/plain": [
       "{'anns': [{'assignment_id': 'A2BLQ1GVEHJR8T_32Q90QCQ1V2QNJEA05FKN0E2M8WKEU',\n",
       "   'high_descs': ['Turn left and go around the end of the white table on your left and turn to face back toward the stove.',\n",
       "    'Pick up the tomato from the corner of the table.',\n",
       "    'Carry the tomato around the table to the microwave above the stove.',\n",
       "    'Heat the tomato in the microwave.',\n",
       "    'Go to the refrigerator that is behind you to the left.',\n",
       "    'Put the tomato on the center of the shelf that is second from the top in the refrigerator.'],\n",
       "   'task_desc': 'Put a cooked tomato into the refrigerator.',\n",
       "   'votes': [1, 1]},\n",
       "  {'assignment_id': 'A1ELPYAFO7MANS_3BDCF01OG0BZDUDJL63F93JXTKPLYW',\n",
       "   'high_descs': ['Turn left and walk to the far end of the table.',\n",
       "    'Pick up the tomato on the table.',\n",
       "    'Turn left and walk to the microwave.',\n",
       "    'Heat the tomato in the microwave.',\n",
       "    'Turn around and veer right to the fridge.',\n",
       "    'Place the tomato in the fridge on the fourth shelf to the bottom.'],\n",
       "   'task_desc': 'Place a heated tomato in a fridge.',\n",
       "   'votes': [1, 1]},\n",
       "  {'assignment_id': 'AJQGWGESKQT4Y_3LOTDFNYAAG9OX8NKUITTTTXLGNFW6',\n",
       "   'high_descs': ['Go left and the turn to the left to stand at the end of the white table near the lettuce.',\n",
       "    'Pick the tomato up from the corner of the white table.',\n",
       "    'Turn around and cross the room to face the microwave.',\n",
       "    'Put the tomato in the microwave and turn it on and then take the tomato out and shut the door.',\n",
       "    'Turn around and then turn right to face the fridge.',\n",
       "    'Put the tomato in the fridge and shut the door.'],\n",
       "   'task_desc': 'Put a heated tomato in the fridge.',\n",
       "   'votes': [1, 1]}]}"
      ]
     },
     "execution_count": 105,
     "metadata": {},
     "output_type": "execute_result"
    }
   ],
   "source": [
    "# Check how turk_annotation is structured\n",
    "traj['turk_annotations']"
   ]
  },
  {
   "cell_type": "code",
   "execution_count": 172,
   "metadata": {},
   "outputs": [
    {
     "data": {
      "text/plain": [
       "[{'timestamp': '20200809_212959_377798',\n",
       "  'high_descs': ['Turn left and walk to the white table.',\n",
       "   'Pick up the knife from the table',\n",
       "   'Cut the lettuce on the table into slices.',\n",
       "   'Turn left and walk to the fridge',\n",
       "   'Put the knife in the fridge',\n",
       "   'Turn right , go forward , turn left at the white table.',\n",
       "   'Pick up the head of lettuce on the table.',\n",
       "   'Turn around and go to the fridge.',\n",
       "   'Place the lettuce in the fridge and close the door and then open the door and remove the lettuce again.',\n",
       "   'Turn around and walk to the end of the table , then turn right and face the white table.',\n",
       "   'Put the lettuce on the table in front of the loaf of bread.']},\n",
       " {'timestamp': '20200809_212959_377947',\n",
       "  'high_descs': ['Turn left and take a step steps , then turn left and walk up to the white table.',\n",
       "   'Pick up the knife on the table',\n",
       "   'Slice the lettuce on the table.',\n",
       "   'Turn to your left and go to the fridge',\n",
       "   'Put the knife in the fridge',\n",
       "   'Turn right and walk back to the white table.',\n",
       "   'Pick up the head of lettuce on the table.',\n",
       "   'Turn left and walk to the fridge.',\n",
       "   'Open the fridge , place the lettuce inside , and close the door. then open the door and take the lettuce out.',\n",
       "   'Turn around and walk to the end of the table , then turn right and face the white table.',\n",
       "   'Put the lettuce on the table.']},\n",
       " {'timestamp': '20200809_212959_378066',\n",
       "  'high_descs': ['Turn left and take a step steps , then turn left and walk up to the white table.',\n",
       "   'Pick up the knife on the table.',\n",
       "   'Cut the lettuce on the table into slices.',\n",
       "   'Turn around and walk to the fridge.',\n",
       "   'Put the knife in the fridge.',\n",
       "   'Turn right , go forward a bit , turn left , go forward , turn left to the white table.',\n",
       "   'Pick up the head of lettuce from the table',\n",
       "   'Turn around and go to the refrigerator.',\n",
       "   'Place the lettuce slice inside of the fridge , close the door and then open the door and take the lettuce out.',\n",
       "   'Turn around and walk to the end of the table , then turn right and face the white table.',\n",
       "   'Put the lettuce on the table in front of the loaf of bread.']},\n",
       " {'timestamp': '20200809_212959_378183',\n",
       "  'high_descs': ['Turn left and take a step steps , then turn left and walk up to the white table.',\n",
       "   'Pick up the knife from the table',\n",
       "   'Cut the lettuce on the table into slices.',\n",
       "   'Turn to your left and go to the fridge',\n",
       "   'Place the knife in the fridge',\n",
       "   'Turn right , go forward , turn left at the white table.',\n",
       "   'Pick up the head of lettuce from the table',\n",
       "   'Turn around and go to the refrigerator.',\n",
       "   'Place the lettuce slice inside of the fridge , close the door and then open the door and take the lettuce out.',\n",
       "   'Turn right and walk to the table in the corner of the room',\n",
       "   'Put the lettuce on the table.']},\n",
       " {'timestamp': '20200809_212959_378298',\n",
       "  'high_descs': ['Turn left and walk to the white table.',\n",
       "   'Pick up the knife on the table.',\n",
       "   'Slice the lettuce on the table.',\n",
       "   'Turn around and walk to the fridge.',\n",
       "   'Put the knife in the fridge',\n",
       "   'Turn right and walk back to the white table.',\n",
       "   'Pick up a slice of lettuce on the table.',\n",
       "   'Turn around and go to the refrigerator.',\n",
       "   'Open the fridge , place the lettuce inside , and close the door. then open the door and take the lettuce out.',\n",
       "   'Turn right and take one step then turn right and walk to the room , then turn right to face the kitchen table.',\n",
       "   'Put the lettuce on the table.']},\n",
       " {'timestamp': '20200809_212959_378440',\n",
       "  'high_descs': ['Turn left and take a step steps , then turn left and walk up to the white table.',\n",
       "   'Pick up the knife on the table.',\n",
       "   'Cut the lettuce on the table into slices.',\n",
       "   'Turn left and walk to the fridge',\n",
       "   'Put the knife in the fridge.',\n",
       "   'Turn right , go forward , turn left at the white table.',\n",
       "   'Pick up the head of lettuce on the table.',\n",
       "   'Turn left and walk to the fridge.',\n",
       "   'Place the lettuce in the fridge and close the door and then open the door and remove the lettuce again.',\n",
       "   'Turn right and walk to the table in the corner of the room',\n",
       "   'Put the lettuce on the table.']}]"
      ]
     },
     "execution_count": 172,
     "metadata": {},
     "output_type": "execute_result"
    }
   ],
   "source": [
    "new_instructions"
   ]
  },
  {
   "cell_type": "code",
   "execution_count": null,
   "metadata": {},
   "outputs": [],
   "source": []
  }
 ],
 "metadata": {
  "kernelspec": {
   "display_name": "Python 3",
   "language": "python",
   "name": "python3"
  },
  "language_info": {
   "codemirror_mode": {
    "name": "ipython",
    "version": 3
   },
   "file_extension": ".py",
   "mimetype": "text/x-python",
   "name": "python",
   "nbconvert_exporter": "python",
   "pygments_lexer": "ipython3",
   "version": "3.6.9"
  }
 },
 "nbformat": 4,
 "nbformat_minor": 4
}
