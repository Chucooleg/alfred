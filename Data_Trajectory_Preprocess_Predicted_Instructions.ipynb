{
 "cells": [
  {
   "cell_type": "markdown",
   "metadata": {},
   "source": [
    "# Write predicted language into data"
   ]
  },
  {
   "cell_type": "code",
   "execution_count": 125,
   "metadata": {},
   "outputs": [],
   "source": [
    "import os\n",
    "os.environ['ALFRED_ROOT'] = '/root/data/home/hoyeung/alfred/'\n",
    "\n",
    "import sys\n",
    "sys.path.append(os.path.join(os.environ['ALFRED_ROOT']))\n",
    "sys.path.append(os.path.join(os.environ['ALFRED_ROOT'], 'models'))\n",
    "\n",
    "import torch\n",
    "import pprint\n",
    "import json\n",
    "import data.preprocess_language_predictions as preprocess_language_predictions\n",
    "from importlib import import_module\n",
    "from collections import Counter\n",
    "\n",
    "import importlib"
   ]
  },
  {
   "cell_type": "code",
   "execution_count": 119,
   "metadata": {},
   "outputs": [],
   "source": [
    "class args:\n",
    "    pass\n",
    "\n",
    "# settings\n",
    "args.seed = 123\n",
    "args.data = '/root/data_alfred/json_feat_2.1.0'\n",
    "args.split_dir = '/root/data_alfred/splits/'\n",
    "args.splits = os.path.join(args.split_dir, 'apr13.json')\n",
    "args.pp_folder = 'pp'\n",
    "args.pframe = 300\n",
    "args.fast_epoch = False"
   ]
  },
  {
   "cell_type": "markdown",
   "metadata": {},
   "source": [
    "## Existing Data"
   ]
  },
  {
   "cell_type": "code",
   "execution_count": 84,
   "metadata": {},
   "outputs": [],
   "source": [
    "with open(args.splits, 'r') as f:\n",
    "    splits = json.load(f)"
   ]
  },
  {
   "cell_type": "code",
   "execution_count": 85,
   "metadata": {},
   "outputs": [
    {
     "data": {
      "text/plain": [
       "dict_keys(['tests_seen', 'tests_unseen', 'train', 'valid_seen', 'valid_unseen', 'train_sanity'])"
      ]
     },
     "execution_count": 85,
     "metadata": {},
     "output_type": "execute_result"
    }
   ],
   "source": [
    "splits.keys()"
   ]
  },
  {
   "cell_type": "code",
   "execution_count": 86,
   "metadata": {},
   "outputs": [
    {
     "data": {
      "text/plain": [
       "{'repeat_idx': 0,\n",
       " 'task': 'pick_cool_then_place_in_recep-LettuceSliced-None-DiningTable-17/trial_T20190909_070538_437648'}"
      ]
     },
     "execution_count": 86,
     "metadata": {},
     "output_type": "execute_result"
    }
   ],
   "source": [
    "splits['train'][0]"
   ]
  },
  {
   "cell_type": "code",
   "execution_count": 87,
   "metadata": {},
   "outputs": [
    {
     "data": {
      "text/plain": [
       "{'repeat_idx': 0,\n",
       " 'task': 'pick_heat_then_place_in_recep-PotatoSliced-None-SinkBasin-13/trial_T20190909_115736_122556'}"
      ]
     },
     "execution_count": 87,
     "metadata": {},
     "output_type": "execute_result"
    }
   ],
   "source": [
    "splits['valid_seen'][0]"
   ]
  },
  {
   "cell_type": "code",
   "execution_count": 88,
   "metadata": {},
   "outputs": [
    {
     "data": {
      "text/plain": [
       "{'repeat_idx': 0, 'task': 'trial_T20190909_042500_949430'}"
      ]
     },
     "execution_count": 88,
     "metadata": {},
     "output_type": "execute_result"
    }
   ],
   "source": [
    "splits['tests_seen'][0]"
   ]
  },
  {
   "cell_type": "code",
   "execution_count": null,
   "metadata": {},
   "outputs": [],
   "source": []
  },
  {
   "cell_type": "markdown",
   "metadata": {},
   "source": [
    "## Predicted Data"
   ]
  },
  {
   "cell_type": "code",
   "execution_count": 143,
   "metadata": {},
   "outputs": [],
   "source": [
    "def write_new_raw_data(splits, split_name, pred_version, high_descs_model_directory, high_descs_epoch, task_desc_model_directory, task_desc_epoch):\n",
    "    \n",
    "    # load predicted lang instructions\n",
    "    with open('/root/data/home/hoyeung/blob_alfred_data/exp_all/{}/{}_argmax.debug_epoch_{}.preds.json'.format(high_descs_model_directory, split_name, high_descs_epoch), 'r') as f:\n",
    "        pred_data_high_descs = json.load(f)\n",
    "    with open('/root/data/home/hoyeung/blob_alfred_data/exp_all/{}/{}_argmax.debug_epoch_{}.preds.json'.format(task_desc_model_directory, split_name, task_desc_epoch), 'r') as f:\n",
    "        pred_data_task_desc = json.load(f)\n",
    "    assert set(pred_data_high_descs.keys()) - set(pred_data_task_desc.keys()) == set()\n",
    "    assert set(pred_data_task_desc.keys()) - set(pred_data_high_descs.keys()) == set()\n",
    "\n",
    "    pred_task_ids = list(pred_data_high_descs.keys())\n",
    "    new_split = []\n",
    "    out_paths = []\n",
    "    \n",
    "    if split_name == 'train_sanity':\n",
    "        split_name = 'train'\n",
    "    \n",
    "    for task_id in pred_task_ids:\n",
    "        # loop through task ids here\n",
    "        root = pred_data_high_descs[task_id]['root'].replace('data/json_feat_2.1.0/', '{}/'.format(split_name))\n",
    "         \n",
    "        # get raw data from path\n",
    "        with open(os.path.join(args.data, root, 'traj_data.json'), 'r') as f:\n",
    "            raw_traj_data = json.load(f)\n",
    "        \n",
    "        # DANGER!\n",
    "#         del(raw_traj_data['turk_annotations']['anns'][-1])\n",
    "        \n",
    "        next_r_idx = len(raw_traj_data['turk_annotations']['anns'])\n",
    "    \n",
    "        # write to raw data\n",
    "        append_ann = {}\n",
    "        append_ann['pred_version'] = pred_version  # e.g. v1\n",
    "        high_descs = pred_data_high_descs[task_id]['p_lang_instr']\n",
    "        append_ann['high_descs'] = [word.strip()+'.' for word in high_descs.split('.') if word != '']\n",
    "        append_ann['task_desc'] = pred_data_task_desc[task_id]['p_lang_instr']\n",
    "        raw_traj_data['turk_annotations']['anns'].append(append_ann) \n",
    "\n",
    "        # write out to raw data path\n",
    "        out_path = os.path.join(args.data, root, 'traj_data.json')\n",
    "        out_paths.append(out_path)\n",
    "        \n",
    "        with open(out_path, 'w') as f:\n",
    "            json.dump(raw_traj_data, f)\n",
    "\n",
    "        with open('dummy.json', 'w') as f:\n",
    "            json.dump(raw_traj_data, f)\n",
    "            \n",
    "        # add to split\n",
    "        append_split_entry = {\n",
    "            'repeat_idx': next_r_idx,\n",
    "            'task': root.replace(split_name+'/', '')\n",
    "        }\n",
    "        new_split.append(append_split_entry)\n",
    "        \n",
    "    with open(os.path.join(args.split_dir, '{}_{}_split.json'.format(split_name, pred_version)), 'w') as f:\n",
    "        json.dump(new_split, f)\n",
    "        \n",
    "    with open(os.path.join(args.split_dir, '{}_{}_out_paths.json'.format(split_name, pred_version)), 'w') as f:\n",
    "        json.dump(new_split, f)    \n",
    "    \n",
    "    return new_split, out_paths"
   ]
  },
  {
   "cell_type": "code",
   "execution_count": 144,
   "metadata": {},
   "outputs": [],
   "source": [
    "train_sanity_new_split, train_sanity_raw_out_paths = write_new_raw_data(    \n",
    "    splits=splits,                               \n",
    "    split_name='train_sanity', \n",
    "    pred_version='v1', \n",
    "    high_descs_model_directory='model:seq2seq_nl_with_frames,name:v1_epoch_50_low_level_instrs',\n",
    "    high_descs_epoch=49, \n",
    "    task_desc_model_directory='model:seq2seq_nl_with_frames,name:v1.5_epoch_50_high_level_instrs', \n",
    "    task_desc_epoch=10)"
   ]
  },
  {
   "cell_type": "code",
   "execution_count": 146,
   "metadata": {},
   "outputs": [],
   "source": [
    "valid_seen_new_split, valid_seen_raw_out_paths = write_new_raw_data(    \n",
    "    splits=splits,                               \n",
    "    split_name='valid_seen', \n",
    "    pred_version='v1', \n",
    "    high_descs_model_directory='model:seq2seq_nl_with_frames,name:v1_epoch_50_low_level_instrs',\n",
    "    high_descs_epoch=49, \n",
    "    task_desc_model_directory='model:seq2seq_nl_with_frames,name:v1.5_epoch_50_high_level_instrs', \n",
    "    task_desc_epoch=10)"
   ]
  },
  {
   "cell_type": "code",
   "execution_count": 147,
   "metadata": {},
   "outputs": [],
   "source": [
    "valid_unseen_new_split, valid_unseen_raw_out_paths = write_new_raw_data(    \n",
    "    splits=splits,                               \n",
    "    split_name='valid_unseen', \n",
    "    pred_version='v1', \n",
    "    high_descs_model_directory='model:seq2seq_nl_with_frames,name:v1_epoch_50_low_level_instrs',\n",
    "    high_descs_epoch=49, \n",
    "    task_desc_model_directory='model:seq2seq_nl_with_frames,name:v1.5_epoch_50_high_level_instrs', \n",
    "    task_desc_epoch=10)"
   ]
  },
  {
   "cell_type": "markdown",
   "metadata": {},
   "source": [
    "## Save to new split file"
   ]
  },
  {
   "cell_type": "code",
   "execution_count": 149,
   "metadata": {},
   "outputs": [],
   "source": [
    "def write_new_splits(path, splits):\n",
    "    with open(path, 'w') as f:\n",
    "        json.dump(splits, f)"
   ]
  },
  {
   "cell_type": "code",
   "execution_count": 150,
   "metadata": {},
   "outputs": [],
   "source": [
    "pred_version='v1'\n",
    "\n",
    "splits['train_sanity_{}'.format(pred_version)] = train_sanity_new_split\n",
    "splits['valid_seen_{}'.format(pred_version)] = valid_seen_new_split\n",
    "splits['valid_unseen_{}'.format(pred_version)] = valid_unseen_new_split"
   ]
  },
  {
   "cell_type": "code",
   "execution_count": 151,
   "metadata": {},
   "outputs": [
    {
     "data": {
      "text/plain": [
       "'/root/data_alfred/splits/'"
      ]
     },
     "execution_count": 151,
     "metadata": {},
     "output_type": "execute_result"
    }
   ],
   "source": [
    "args.split_dir"
   ]
  },
  {
   "cell_type": "code",
   "execution_count": 152,
   "metadata": {},
   "outputs": [],
   "source": [
    "date = 'apr25'\n",
    "write_new_splits(os.path.join(args.split_dir, '{}.json'.format(date)), splits)"
   ]
  },
  {
   "cell_type": "code",
   "execution_count": 153,
   "metadata": {},
   "outputs": [
    {
     "data": {
      "text/plain": [
       "[{'repeat_idx': 3,\n",
       "  'task': 'look_at_obj_in_light-CellPhone-None-FloorLamp-219/trial_T20190908_044113_026049'},\n",
       " {'repeat_idx': 3,\n",
       "  'task': 'pick_heat_then_place_in_recep-Apple-None-SinkBasin-10/trial_T20190907_020258_749030'},\n",
       " {'repeat_idx': 3,\n",
       "  'task': 'pick_clean_then_place_in_recep-Bowl-None-Cabinet-10/trial_T20190909_061130_844814'},\n",
       " {'repeat_idx': 3,\n",
       "  'task': 'pick_and_place_with_movable_recep-Spoon-Mug-CounterTop-10/trial_T20190907_155006_533262'},\n",
       " {'repeat_idx': 3,\n",
       "  'task': 'pick_and_place_simple-SaltShaker-None-Cabinet-10/trial_T20190906_191501_563086'},\n",
       " {'repeat_idx': 3,\n",
       "  'task': 'pick_two_obj_and_place-PepperShaker-None-Drawer-10/trial_T20190912_221141_608117'},\n",
       " {'repeat_idx': 3,\n",
       "  'task': 'pick_cool_then_place_in_recep-TomatoSliced-None-CounterTop-10/trial_T20190909_061838_159982'},\n",
       " {'repeat_idx': 3,\n",
       "  'task': 'pick_heat_then_place_in_recep-Apple-None-GarbageCan-10/trial_T20190908_145356_918528'},\n",
       " {'repeat_idx': 3,\n",
       "  'task': 'look_at_obj_in_light-Newspaper-None-FloorLamp-219/trial_T20190907_171035_866841'},\n",
       " {'repeat_idx': 3,\n",
       "  'task': 'look_at_obj_in_light-BasketBall-None-DeskLamp-308/trial_T20190907_161235_786153'},\n",
       " {'repeat_idx': 3,\n",
       "  'task': 'look_at_obj_in_light-Bowl-None-DeskLamp-308/trial_T20190907_133953_562557'},\n",
       " {'repeat_idx': 3,\n",
       "  'task': 'pick_heat_then_place_in_recep-Mug-None-CoffeeMachine-10/trial_T20190907_171933_349922'},\n",
       " {'repeat_idx': 3,\n",
       "  'task': 'pick_clean_then_place_in_recep-Pan-None-CounterTop-10/trial_T20190908_032518_891433'},\n",
       " {'repeat_idx': 3,\n",
       "  'task': 'pick_clean_then_place_in_recep-Egg-None-Microwave-10/trial_T20190909_120632_691361'},\n",
       " {'repeat_idx': 3,\n",
       "  'task': 'pick_clean_then_place_in_recep-Mug-None-CoffeeMachine-10/trial_T20190907_221208_560499'},\n",
       " {'repeat_idx': 3,\n",
       "  'task': 'pick_heat_then_place_in_recep-AppleSliced-None-GarbageCan-10/trial_T20190908_073749_086690'},\n",
       " {'repeat_idx': 3,\n",
       "  'task': 'pick_cool_then_place_in_recep-LettuceSliced-None-GarbageCan-10/trial_T20190909_213642_049125'},\n",
       " {'repeat_idx': 3,\n",
       "  'task': 'look_at_obj_in_light-RemoteControl-None-FloorLamp-219/trial_T20190909_032740_934457'},\n",
       " {'repeat_idx': 3,\n",
       "  'task': 'pick_heat_then_place_in_recep-Potato-None-GarbageCan-10/trial_T20190907_161817_163233'},\n",
       " {'repeat_idx': 3,\n",
       "  'task': 'pick_and_place_simple-SoapBottle-None-Toilet-424/trial_T20190907_004321_405868'},\n",
       " {'repeat_idx': 3,\n",
       "  'task': 'pick_and_place_simple-Pencil-None-Shelf-308/trial_T20190908_122024_052056'},\n",
       " {'repeat_idx': 3,\n",
       "  'task': 'pick_and_place_with_movable_recep-ButterKnife-Pan-SinkBasin-10/trial_T20190907_194135_468990'},\n",
       " {'repeat_idx': 5,\n",
       "  'task': 'look_at_obj_in_light-Box-None-FloorLamp-219/trial_T20190907_103041_110705'},\n",
       " {'repeat_idx': 6,\n",
       "  'task': 'look_at_obj_in_light-Laptop-None-FloorLamp-219/trial_T20190906_180922_517529'},\n",
       " {'repeat_idx': 3,\n",
       "  'task': 'pick_cool_then_place_in_recep-Lettuce-None-SinkBasin-10/trial_T20190907_040327_147149'},\n",
       " {'repeat_idx': 3,\n",
       "  'task': 'pick_clean_then_place_in_recep-Pan-None-CounterTop-10/trial_T20190908_032434_013084'},\n",
       " {'repeat_idx': 3,\n",
       "  'task': 'pick_cool_then_place_in_recep-Egg-None-SinkBasin-10/trial_T20190907_173215_875825'},\n",
       " {'repeat_idx': 6,\n",
       "  'task': 'look_at_obj_in_light-Laptop-None-FloorLamp-219/trial_T20190906_181009_893506'},\n",
       " {'repeat_idx': 3,\n",
       "  'task': 'pick_two_obj_and_place-SoapBar-None-GarbageCan-424/trial_T20190909_064309_357168'},\n",
       " {'repeat_idx': 5,\n",
       "  'task': 'pick_two_obj_and_place-AppleSliced-None-CounterTop-10/trial_T20190907_061133_385225'},\n",
       " {'repeat_idx': 3,\n",
       "  'task': 'pick_cool_then_place_in_recep-Lettuce-None-CounterTop-10/trial_T20190909_174840_771703'},\n",
       " {'repeat_idx': 4,\n",
       "  'task': 'pick_cool_then_place_in_recep-Lettuce-None-SinkBasin-10/trial_T20190907_040303_217739'},\n",
       " {'repeat_idx': 3,\n",
       "  'task': 'look_at_obj_in_light-KeyChain-None-FloorLamp-219/trial_T20190909_103526_341991'},\n",
       " {'repeat_idx': 3,\n",
       "  'task': 'pick_clean_then_place_in_recep-LettuceSliced-None-GarbageCan-10/trial_T20190918_143430_997524'},\n",
       " {'repeat_idx': 3,\n",
       "  'task': 'pick_clean_then_place_in_recep-Plate-None-CounterTop-10/trial_T20190908_213533_897289'},\n",
       " {'repeat_idx': 3,\n",
       "  'task': 'look_at_obj_in_light-KeyChain-None-FloorLamp-219/trial_T20190909_103507_522012'},\n",
       " {'repeat_idx': 3,\n",
       "  'task': 'look_at_obj_in_light-Pencil-None-DeskLamp-308/trial_T20190908_220656_510400'},\n",
       " {'repeat_idx': 3,\n",
       "  'task': 'pick_cool_then_place_in_recep-Tomato-None-Microwave-10/trial_T20190909_102710_795182'},\n",
       " {'repeat_idx': 3,\n",
       "  'task': 'pick_cool_then_place_in_recep-BreadSliced-None-Microwave-10/trial_T20190906_224718_745017'},\n",
       " {'repeat_idx': 3,\n",
       "  'task': 'pick_and_place_with_movable_recep-KeyChain-Box-ArmChair-219/trial_T20190918_192011_115694'},\n",
       " {'repeat_idx': 3,\n",
       "  'task': 'pick_cool_then_place_in_recep-Mug-None-CoffeeMachine-10/trial_T20190907_183853_958104'},\n",
       " {'repeat_idx': 3,\n",
       "  'task': 'pick_and_place_simple-SaltShaker-None-Drawer-10/trial_T20190909_021613_077537'},\n",
       " {'repeat_idx': 3,\n",
       "  'task': 'pick_clean_then_place_in_recep-SoapBar-None-CounterTop-424/trial_T20190907_074106_050405'},\n",
       " {'repeat_idx': 3,\n",
       "  'task': 'pick_heat_then_place_in_recep-TomatoSliced-None-SinkBasin-10/trial_T20190909_025340_208825'},\n",
       " {'repeat_idx': 3,\n",
       "  'task': 'look_at_obj_in_light-Statue-None-FloorLamp-219/trial_T20190908_041411_333458'},\n",
       " {'repeat_idx': 3,\n",
       "  'task': 'pick_heat_then_place_in_recep-AppleSliced-None-GarbageCan-10/trial_T20190908_073839_704604'},\n",
       " {'repeat_idx': 3,\n",
       "  'task': 'pick_clean_then_place_in_recep-SoapBar-None-Cabinet-424/trial_T20190908_214926_337906'},\n",
       " {'repeat_idx': 3,\n",
       "  'task': 'pick_and_place_simple-SaltShaker-None-Drawer-10/trial_T20190909_021650_880235'},\n",
       " {'repeat_idx': 3,\n",
       "  'task': 'pick_cool_then_place_in_recep-Bread-None-CounterTop-10/trial_T20190908_091747_866951'},\n",
       " {'repeat_idx': 6,\n",
       "  'task': 'pick_heat_then_place_in_recep-Apple-None-Fridge-10/trial_T20190906_182435_622538'},\n",
       " {'repeat_idx': 3,\n",
       "  'task': 'pick_clean_then_place_in_recep-Spatula-None-Drawer-10/trial_T20190907_080825_222432'},\n",
       " {'repeat_idx': 3,\n",
       "  'task': 'pick_heat_then_place_in_recep-Mug-None-Cabinet-10/trial_T20190909_021100_341887'},\n",
       " {'repeat_idx': 3,\n",
       "  'task': 'pick_and_place_simple-Plunger-None-Cabinet-424/trial_T20190908_021537_611374'},\n",
       " {'repeat_idx': 3,\n",
       "  'task': 'pick_heat_then_place_in_recep-TomatoSliced-None-SinkBasin-10/trial_T20190909_025529_706272'},\n",
       " {'repeat_idx': 3,\n",
       "  'task': 'pick_and_place_simple-Plunger-None-Cabinet-424/trial_T20190908_062908_529599'},\n",
       " {'repeat_idx': 3,\n",
       "  'task': 'pick_heat_then_place_in_recep-Cup-None-Cabinet-10/trial_T20190907_083507_594820'},\n",
       " {'repeat_idx': 3,\n",
       "  'task': 'look_at_obj_in_light-CellPhone-None-FloorLamp-219/trial_T20190908_044123_416784'},\n",
       " {'repeat_idx': 3,\n",
       "  'task': 'look_at_obj_in_light-Mug-None-DeskLamp-308/trial_T20190908_201421_021646'},\n",
       " {'repeat_idx': 3,\n",
       "  'task': 'look_at_obj_in_light-TissueBox-None-FloorLamp-219/trial_T20190906_213948_501157'},\n",
       " {'repeat_idx': 3,\n",
       "  'task': 'look_at_obj_in_light-Box-None-FloorLamp-219/trial_T20190907_102952_001375'},\n",
       " {'repeat_idx': 3,\n",
       "  'task': 'pick_heat_then_place_in_recep-AppleSliced-None-CounterTop-10/trial_T20190908_131635_504536'},\n",
       " {'repeat_idx': 3,\n",
       "  'task': 'pick_and_place_simple-Vase-None-Safe-219/trial_T20190908_205246_776817'},\n",
       " {'repeat_idx': 3,\n",
       "  'task': 'pick_heat_then_place_in_recep-Egg-None-GarbageCan-10/trial_T20190908_113523_123938'},\n",
       " {'repeat_idx': 3,\n",
       "  'task': 'pick_and_place_with_movable_recep-Glassbottle-Plate-SinkBasin-10/trial_T20190908_123236_460615'},\n",
       " {'repeat_idx': 3,\n",
       "  'task': 'look_at_obj_in_light-RemoteControl-None-FloorLamp-219/trial_T20190909_032721_511027'},\n",
       " {'repeat_idx': 3,\n",
       "  'task': 'pick_and_place_simple-Mug-None-Desk-308/trial_T20190908_125200_737896'},\n",
       " {'repeat_idx': 3,\n",
       "  'task': 'pick_and_place_simple-Plunger-None-Cabinet-424/trial_T20190908_021510_064551'},\n",
       " {'repeat_idx': 3,\n",
       "  'task': 'look_at_obj_in_light-BasketBall-None-DeskLamp-308/trial_T20190907_161210_531813'},\n",
       " {'repeat_idx': 3,\n",
       "  'task': 'pick_cool_then_place_in_recep-Tomato-None-Microwave-10/trial_T20190909_102608_318800'},\n",
       " {'repeat_idx': 3,\n",
       "  'task': 'pick_cool_then_place_in_recep-Egg-None-SinkBasin-10/trial_T20190907_173120_648218'},\n",
       " {'repeat_idx': 3,\n",
       "  'task': 'pick_clean_then_place_in_recep-Spatula-None-Drawer-10/trial_T20190907_080730_211959'},\n",
       " {'repeat_idx': 3,\n",
       "  'task': 'pick_cool_then_place_in_recep-Pan-None-CounterTop-10/trial_T20190908_114656_768805'},\n",
       " {'repeat_idx': 3,\n",
       "  'task': 'pick_heat_then_place_in_recep-Apple-None-SinkBasin-10/trial_T20190907_020329_050110'},\n",
       " {'repeat_idx': 3,\n",
       "  'task': 'pick_and_place_simple-BaseballBat-None-Bed-308/trial_T20190906_185530_954329'},\n",
       " {'repeat_idx': 3,\n",
       "  'task': 'look_at_obj_in_light-Book-None-DeskLamp-308/trial_T20190908_144951_587345'},\n",
       " {'repeat_idx': 3,\n",
       "  'task': 'pick_and_place_with_movable_recep-Glassbottle-Plate-SinkBasin-10/trial_T20190908_015839_519239'},\n",
       " {'repeat_idx': 3,\n",
       "  'task': 'pick_and_place_simple-Mug-None-Desk-308/trial_T20190909_210238_431966'},\n",
       " {'repeat_idx': 3,\n",
       "  'task': 'look_at_obj_in_light-Mug-None-DeskLamp-308/trial_T20190908_161733_213242'},\n",
       " {'repeat_idx': 3,\n",
       "  'task': 'pick_clean_then_place_in_recep-Bowl-None-Cabinet-10/trial_T20190909_061158_110530'},\n",
       " {'repeat_idx': 3,\n",
       "  'task': 'pick_and_place_with_movable_recep-Fork-Cup-SinkBasin-10/trial_T20190907_144232_616550'},\n",
       " {'repeat_idx': 3,\n",
       "  'task': 'pick_and_place_with_movable_recep-ButterKnife-Cup-SinkBasin-10/trial_T20190909_025512_298420'},\n",
       " {'repeat_idx': 3,\n",
       "  'task': 'pick_cool_then_place_in_recep-Pan-None-CounterTop-10/trial_T20190908_114622_738670'},\n",
       " {'repeat_idx': 3,\n",
       "  'task': 'look_at_obj_in_light-Vase-None-FloorLamp-219/trial_T20190908_071731_613441'},\n",
       " {'repeat_idx': 3,\n",
       "  'task': 'pick_clean_then_place_in_recep-LettuceSliced-None-GarbageCan-10/trial_T20190908_115403_911841'},\n",
       " {'repeat_idx': 3,\n",
       "  'task': 'look_at_obj_in_light-Bowl-None-DeskLamp-308/trial_T20190907_133935_066606'},\n",
       " {'repeat_idx': 3,\n",
       "  'task': 'pick_and_place_with_movable_recep-ButterKnife-Cup-CounterTop-10/trial_T20190908_235919_129519'},\n",
       " {'repeat_idx': 3,\n",
       "  'task': 'pick_clean_then_place_in_recep-SoapBar-None-Cabinet-424/trial_T20190908_214946_567644'},\n",
       " {'repeat_idx': 3,\n",
       "  'task': 'pick_and_place_simple-SaltShaker-None-Cabinet-10/trial_T20190906_191445_723170'},\n",
       " {'repeat_idx': 3,\n",
       "  'task': 'pick_clean_then_place_in_recep-Cloth-None-Cabinet-424/trial_T20190908_022345_347148'},\n",
       " {'repeat_idx': 3,\n",
       "  'task': 'pick_clean_then_place_in_recep-Mug-None-CoffeeMachine-10/trial_T20190907_221355_558505'},\n",
       " {'repeat_idx': 3,\n",
       "  'task': 'pick_heat_then_place_in_recep-Cup-None-Cabinet-10/trial_T20190907_083346_800823'},\n",
       " {'repeat_idx': 3,\n",
       "  'task': 'pick_heat_then_place_in_recep-Egg-None-GarbageCan-10/trial_T20190908_113432_673307'},\n",
       " {'repeat_idx': 3,\n",
       "  'task': 'pick_two_obj_and_place-KeyChain-None-Safe-219/trial_T20190909_011850_153676'},\n",
       " {'repeat_idx': 3,\n",
       "  'task': 'pick_clean_then_place_in_recep-Cloth-None-Cabinet-424/trial_T20190908_022436_073995'},\n",
       " {'repeat_idx': 6,\n",
       "  'task': 'pick_heat_then_place_in_recep-Apple-None-Fridge-10/trial_T20190906_182259_116320'},\n",
       " {'repeat_idx': 3,\n",
       "  'task': 'pick_and_place_with_movable_recep-Fork-Cup-CounterTop-10/trial_T20190908_112034_166152'},\n",
       " {'repeat_idx': 3,\n",
       "  'task': 'pick_cool_then_place_in_recep-Bread-None-CounterTop-10/trial_T20190908_091835_825830'},\n",
       " {'repeat_idx': 3,\n",
       "  'task': 'pick_two_obj_and_place-ToiletPaper-None-Cabinet-424/trial_T20190906_202926_527010'},\n",
       " {'repeat_idx': 3,\n",
       "  'task': 'pick_clean_then_place_in_recep-Cloth-None-CounterTop-424/trial_T20190908_100512_362932'},\n",
       " {'repeat_idx': 6,\n",
       "  'task': 'pick_and_place_simple-PepperShaker-None-Drawer-10/trial_T20190906_184021_215264'},\n",
       " {'repeat_idx': 3,\n",
       "  'task': 'pick_two_obj_and_place-PepperShaker-None-Drawer-10/trial_T20190908_010306_215435'},\n",
       " {'repeat_idx': 3,\n",
       "  'task': 'pick_and_place_with_movable_recep-ButterKnife-Cup-CounterTop-10/trial_T20190908_235816_620828'},\n",
       " {'repeat_idx': 3,\n",
       "  'task': 'pick_clean_then_place_in_recep-Egg-None-Microwave-10/trial_T20190909_120554_888709'},\n",
       " {'repeat_idx': 3,\n",
       "  'task': 'pick_cool_then_place_in_recep-LettuceSliced-None-GarbageCan-10/trial_T20190908_204424_983859'},\n",
       " {'repeat_idx': 6,\n",
       "  'task': 'pick_and_place_with_movable_recep-Spoon-Mug-CounterTop-10/trial_T20190907_155109_353266'},\n",
       " {'repeat_idx': 3,\n",
       "  'task': 'pick_two_obj_and_place-Pillow-None-Sofa-219/trial_T20190907_163240_345855'},\n",
       " {'repeat_idx': 6,\n",
       "  'task': 'pick_heat_then_place_in_recep-Apple-None-Fridge-10/trial_T20190906_182353_418140'},\n",
       " {'repeat_idx': 3,\n",
       "  'task': 'pick_and_place_with_movable_recep-Fork-Cup-CounterTop-10/trial_T20190908_111818_332166'},\n",
       " {'repeat_idx': 3,\n",
       "  'task': 'pick_heat_then_place_in_recep-Egg-None-GarbageCan-10/trial_T20190908_113610_425142'},\n",
       " {'repeat_idx': 3,\n",
       "  'task': 'pick_clean_then_place_in_recep-SoapBar-None-Cabinet-424/trial_T20190908_215019_162873'},\n",
       " {'repeat_idx': 3,\n",
       "  'task': 'look_at_obj_in_light-CD-None-DeskLamp-308/trial_T20190908_142046_281296'},\n",
       " {'repeat_idx': 3,\n",
       "  'task': 'pick_two_obj_and_place-KeyChain-None-Safe-219/trial_T20190909_011803_423115'},\n",
       " {'repeat_idx': 3,\n",
       "  'task': 'look_at_obj_in_light-Bowl-None-DeskLamp-308/trial_T20190907_133919_856963'},\n",
       " {'repeat_idx': 3,\n",
       "  'task': 'pick_two_obj_and_place-ToiletPaper-None-Cabinet-424/trial_T20190906_203003_627271'},\n",
       " {'repeat_idx': 3,\n",
       "  'task': 'pick_two_obj_and_place-Pillow-None-Sofa-219/trial_T20190907_163327_486300'},\n",
       " {'repeat_idx': 3,\n",
       "  'task': 'look_at_obj_in_light-Book-None-DeskLamp-308/trial_T20190908_020029_636862'},\n",
       " {'repeat_idx': 3,\n",
       "  'task': 'look_at_obj_in_light-TissueBox-None-FloorLamp-219/trial_T20190906_213926_964767'},\n",
       " {'repeat_idx': 6,\n",
       "  'task': 'look_at_obj_in_light-Laptop-None-FloorLamp-219/trial_T20190906_180831_140621'},\n",
       " {'repeat_idx': 3,\n",
       "  'task': 'pick_clean_then_place_in_recep-Mug-None-CoffeeMachine-10/trial_T20190907_221300_362511'},\n",
       " {'repeat_idx': 6,\n",
       "  'task': 'pick_two_obj_and_place-AppleSliced-None-CounterTop-10/trial_T20190907_061009_396474'},\n",
       " {'repeat_idx': 3,\n",
       "  'task': 'look_at_obj_in_light-Statue-None-FloorLamp-219/trial_T20190908_041333_727215'},\n",
       " {'repeat_idx': 3,\n",
       "  'task': 'pick_heat_then_place_in_recep-AppleSliced-None-CounterTop-10/trial_T20190908_131500_521936'},\n",
       " {'repeat_idx': 3,\n",
       "  'task': 'pick_and_place_simple-BaseballBat-None-Bed-308/trial_T20190906_185515_986084'},\n",
       " {'repeat_idx': 3,\n",
       "  'task': 'pick_cool_then_place_in_recep-Potato-None-Microwave-10/trial_T20190907_033228_194678'},\n",
       " {'repeat_idx': 5,\n",
       "  'task': 'pick_and_place_with_movable_recep-Fork-Cup-SinkBasin-10/trial_T20190907_144303_250492'},\n",
       " {'repeat_idx': 3,\n",
       "  'task': 'pick_clean_then_place_in_recep-Egg-None-Microwave-10/trial_T20190909_120712_273910'},\n",
       " {'repeat_idx': 3,\n",
       "  'task': 'pick_and_place_with_movable_recep-Spoon-Pan-SinkBasin-10/trial_T20190908_092900_630408'},\n",
       " {'repeat_idx': 3,\n",
       "  'task': 'pick_heat_then_place_in_recep-Mug-None-CoffeeMachine-10/trial_T20190907_171806_406231'},\n",
       " {'repeat_idx': 3,\n",
       "  'task': 'pick_heat_then_place_in_recep-Tomato-None-GarbageCan-10/trial_T20190908_225453_272533'},\n",
       " {'repeat_idx': 3,\n",
       "  'task': 'pick_and_place_with_movable_recep-Egg-Bowl-CounterTop-10/trial_T20190912_190125_832581'},\n",
       " {'repeat_idx': 3,\n",
       "  'task': 'pick_clean_then_place_in_recep-Knife-None-CounterTop-10/trial_T20190909_110347_624008'},\n",
       " {'repeat_idx': 3,\n",
       "  'task': 'pick_clean_then_place_in_recep-Plate-None-CounterTop-10/trial_T20190908_213420_728917'},\n",
       " {'repeat_idx': 3,\n",
       "  'task': 'pick_cool_then_place_in_recep-Egg-None-SinkBasin-10/trial_T20190907_173149_648833'},\n",
       " {'repeat_idx': 3,\n",
       "  'task': 'pick_cool_then_place_in_recep-Mug-None-CoffeeMachine-10/trial_T20190907_183715_299073'},\n",
       " {'repeat_idx': 4,\n",
       "  'task': 'pick_two_obj_and_place-CD-None-Safe-308/trial_T20190907_051013_060265'},\n",
       " {'repeat_idx': 3,\n",
       "  'task': 'pick_cool_then_place_in_recep-LettuceSliced-None-GarbageCan-10/trial_T20190909_213855_654145'},\n",
       " {'repeat_idx': 4,\n",
       "  'task': 'pick_heat_then_place_in_recep-Apple-None-SinkBasin-10/trial_T20190907_020403_745438'},\n",
       " {'repeat_idx': 3,\n",
       "  'task': 'pick_clean_then_place_in_recep-Cloth-None-CounterTop-424/trial_T20190908_100632_546757'},\n",
       " {'repeat_idx': 3,\n",
       "  'task': 'pick_two_obj_and_place-SoapBar-None-GarbageCan-424/trial_T20190909_064221_368939'},\n",
       " {'repeat_idx': 3,\n",
       "  'task': 'pick_and_place_simple-Watch-None-Safe-219/trial_T20190907_074643_810052'},\n",
       " {'repeat_idx': 3,\n",
       "  'task': 'look_at_obj_in_light-BaseballBat-None-DeskLamp-308/trial_T20190906_214631_761426'},\n",
       " {'repeat_idx': 3,\n",
       "  'task': 'look_at_obj_in_light-RemoteControl-None-FloorLamp-219/trial_T20190909_032758_971610'},\n",
       " {'repeat_idx': 3,\n",
       "  'task': 'pick_cool_then_place_in_recep-Tomato-None-Microwave-10/trial_T20190909_102644_926781'},\n",
       " {'repeat_idx': 3,\n",
       "  'task': 'pick_and_place_with_movable_recep-Glassbottle-Plate-SinkBasin-10/trial_T20190908_123311_648354'},\n",
       " {'repeat_idx': 3,\n",
       "  'task': 'pick_heat_then_place_in_recep-AppleSliced-None-GarbageCan-10/trial_T20190908_073656_715770'},\n",
       " {'repeat_idx': 3,\n",
       "  'task': 'pick_heat_then_place_in_recep-BreadSliced-None-CounterTop-10/trial_T20190908_025158_582174'},\n",
       " {'repeat_idx': 3,\n",
       "  'task': 'pick_and_place_with_movable_recep-Pencil-Bowl-Shelf-308/trial_T20190909_232711_494127'},\n",
       " {'repeat_idx': 3,\n",
       "  'task': 'pick_heat_then_place_in_recep-Apple-None-GarbageCan-10/trial_T20190908_145143_820541'},\n",
       " {'repeat_idx': 3,\n",
       "  'task': 'pick_and_place_simple-SoapBottle-None-Toilet-424/trial_T20190907_004351_281384'},\n",
       " {'repeat_idx': 3,\n",
       "  'task': 'pick_and_place_with_movable_recep-Egg-Bowl-CounterTop-10/trial_T20190913_033141_859977'},\n",
       " {'repeat_idx': 3,\n",
       "  'task': 'pick_cool_then_place_in_recep-Lettuce-None-CounterTop-10/trial_T20190909_123133_763972'},\n",
       " {'repeat_idx': 3,\n",
       "  'task': 'look_at_obj_in_light-Vase-None-FloorLamp-219/trial_T20190908_203635_515565'},\n",
       " {'repeat_idx': 3,\n",
       "  'task': 'look_at_obj_in_light-Newspaper-None-FloorLamp-219/trial_T20190907_171015_909996'},\n",
       " {'repeat_idx': 3,\n",
       "  'task': 'pick_and_place_with_movable_recep-ButterKnife-Pan-SinkBasin-10/trial_T20190907_194015_037530'},\n",
       " {'repeat_idx': 3,\n",
       "  'task': 'pick_two_obj_and_place-CD-None-Safe-308/trial_T20190907_051056_585414'},\n",
       " {'repeat_idx': 3,\n",
       "  'task': 'look_at_obj_in_light-Pencil-None-DeskLamp-308/trial_T20190908_220545_153480'},\n",
       " {'repeat_idx': 5,\n",
       "  'task': 'pick_two_obj_and_place-CD-None-Safe-308/trial_T20190907_050942_897916'},\n",
       " {'repeat_idx': 3,\n",
       "  'task': 'look_at_obj_in_light-Statue-None-FloorLamp-219/trial_T20190908_041353_333106'},\n",
       " {'repeat_idx': 3,\n",
       "  'task': 'pick_cool_then_place_in_recep-Potato-None-Microwave-10/trial_T20190907_033157_424297'},\n",
       " {'repeat_idx': 3,\n",
       "  'task': 'look_at_obj_in_light-CreditCard-None-FloorLamp-219/trial_T20190909_103610_740356'},\n",
       " {'repeat_idx': 3,\n",
       "  'task': 'pick_and_place_simple-Vase-None-Safe-219/trial_T20190908_205204_244321'},\n",
       " {'repeat_idx': 3,\n",
       "  'task': 'look_at_obj_in_light-TissueBox-None-FloorLamp-219/trial_T20190906_213857_471360'},\n",
       " {'repeat_idx': 3,\n",
       "  'task': 'look_at_obj_in_light-BasketBall-None-DeskLamp-308/trial_T20190907_161252_926204'},\n",
       " {'repeat_idx': 6,\n",
       "  'task': 'pick_and_place_with_movable_recep-Spoon-Mug-CounterTop-10/trial_T20190907_155134_457504'},\n",
       " {'repeat_idx': 3,\n",
       "  'task': 'look_at_obj_in_light-Newspaper-None-FloorLamp-219/trial_T20190907_170955_824797'},\n",
       " {'repeat_idx': 3,\n",
       "  'task': 'pick_clean_then_place_in_recep-Knife-None-CounterTop-10/trial_T20190909_110445_675754'},\n",
       " {'repeat_idx': 3,\n",
       "  'task': 'pick_and_place_simple-BaseballBat-None-Bed-308/trial_T20190906_185459_653538'},\n",
       " {'repeat_idx': 3,\n",
       "  'task': 'look_at_obj_in_light-CD-None-DeskLamp-308/trial_T20190908_141942_810052'},\n",
       " {'repeat_idx': 5,\n",
       "  'task': 'pick_and_place_with_movable_recep-Fork-Cup-SinkBasin-10/trial_T20190907_144323_122735'},\n",
       " {'repeat_idx': 3,\n",
       "  'task': 'pick_cool_then_place_in_recep-Lettuce-None-CounterTop-10/trial_T20190909_174807_646433'},\n",
       " {'repeat_idx': 3,\n",
       "  'task': 'pick_and_place_with_movable_recep-Fork-Cup-CounterTop-10/trial_T20190918_231203_583927'},\n",
       " {'repeat_idx': 5,\n",
       "  'task': 'pick_clean_then_place_in_recep-SoapBar-None-CounterTop-424/trial_T20190907_074124_966890'},\n",
       " {'repeat_idx': 3,\n",
       "  'task': 'pick_cool_then_place_in_recep-Mug-None-CoffeeMachine-10/trial_T20190907_183807_477267'},\n",
       " {'repeat_idx': 3,\n",
       "  'task': 'pick_heat_then_place_in_recep-PotatoSliced-None-Fridge-10/trial_T20190909_123918_983775'},\n",
       " {'repeat_idx': 3,\n",
       "  'task': 'pick_and_place_simple-Watch-None-Safe-219/trial_T20190907_074556_124850'},\n",
       " {'repeat_idx': 3,\n",
       "  'task': 'pick_and_place_with_movable_recep-Spoon-Pan-SinkBasin-10/trial_T20190908_092954_222448'},\n",
       " {'repeat_idx': 3,\n",
       "  'task': 'look_at_obj_in_light-KeyChain-None-FloorLamp-219/trial_T20190909_103543_580765'},\n",
       " {'repeat_idx': 3,\n",
       "  'task': 'pick_heat_then_place_in_recep-PotatoSliced-None-Fridge-10/trial_T20190909_124126_852630'},\n",
       " {'repeat_idx': 3,\n",
       "  'task': 'pick_two_obj_and_place-SoapBar-None-Cabinet-424/trial_T20190909_081720_491733'},\n",
       " {'repeat_idx': 3,\n",
       "  'task': 'pick_cool_then_place_in_recep-Mug-None-Cabinet-10/trial_T20190909_121710_650938'},\n",
       " {'repeat_idx': 3,\n",
       "  'task': 'pick_and_place_with_movable_recep-Pencil-Bowl-Shelf-308/trial_T20190909_185126_784929'},\n",
       " {'repeat_idx': 3,\n",
       "  'task': 'pick_and_place_with_movable_recep-Egg-Bowl-CounterTop-10/trial_T20190908_062352_374890'},\n",
       " {'repeat_idx': 3,\n",
       "  'task': 'pick_and_place_with_movable_recep-ButterKnife-Pan-SinkBasin-10/trial_T20190907_194052_908074'},\n",
       " {'repeat_idx': 3,\n",
       "  'task': 'pick_cool_then_place_in_recep-Bread-None-CounterTop-10/trial_T20190908_091811_414150'},\n",
       " {'repeat_idx': 3,\n",
       "  'task': 'pick_cool_then_place_in_recep-Pan-None-CounterTop-10/trial_T20190908_114545_244903'},\n",
       " {'repeat_idx': 3,\n",
       "  'task': 'pick_cool_then_place_in_recep-BreadSliced-None-Microwave-10/trial_T20190906_224631_058932'},\n",
       " {'repeat_idx': 3,\n",
       "  'task': 'pick_and_place_with_movable_recep-KeyChain-Box-ArmChair-219/trial_T20190909_042101_443154'},\n",
       " {'repeat_idx': 3,\n",
       "  'task': 'pick_heat_then_place_in_recep-Apple-None-GarbageCan-10/trial_T20190908_145050_918567'},\n",
       " {'repeat_idx': 3,\n",
       "  'task': 'pick_clean_then_place_in_recep-Pan-None-CounterTop-10/trial_T20190908_032543_712058'},\n",
       " {'repeat_idx': 6,\n",
       "  'task': 'pick_and_place_simple-PepperShaker-None-Drawer-10/trial_T20190918_154424_844749'},\n",
       " {'repeat_idx': 3,\n",
       "  'task': 'pick_cool_then_place_in_recep-TomatoSliced-None-CounterTop-10/trial_T20190909_062026_099967'},\n",
       " {'repeat_idx': 3,\n",
       "  'task': 'pick_heat_then_place_in_recep-Potato-None-GarbageCan-10/trial_T20190907_161745_664033'},\n",
       " {'repeat_idx': 3,\n",
       "  'task': 'pick_heat_then_place_in_recep-BreadSliced-None-CounterTop-10/trial_T20190908_025303_695053'},\n",
       " {'repeat_idx': 3,\n",
       "  'task': 'pick_clean_then_place_in_recep-Cloth-None-CounterTop-424/trial_T20190908_114340_674467'},\n",
       " {'repeat_idx': 3,\n",
       "  'task': 'look_at_obj_in_light-AlarmClock-None-DeskLamp-308/trial_T20190908_222951_616606'},\n",
       " {'repeat_idx': 3,\n",
       "  'task': 'look_at_obj_in_light-AlarmClock-None-DeskLamp-308/trial_T20190908_222917_366542'},\n",
       " {'repeat_idx': 3,\n",
       "  'task': 'pick_heat_then_place_in_recep-Cup-None-Cabinet-10/trial_T20190907_083429_887065'},\n",
       " {'repeat_idx': 3,\n",
       "  'task': 'look_at_obj_in_light-BaseballBat-None-DeskLamp-308/trial_T20190906_214706_219505'},\n",
       " {'repeat_idx': 6,\n",
       "  'task': 'pick_and_place_simple-PepperShaker-None-Drawer-10/trial_T20190918_154326_823501'},\n",
       " {'repeat_idx': 3,\n",
       "  'task': 'pick_two_obj_and_place-SoapBar-None-GarbageCan-424/trial_T20190909_064053_839817'},\n",
       " {'repeat_idx': 3,\n",
       "  'task': 'look_at_obj_in_light-CD-None-DeskLamp-308/trial_T20190908_141958_463362'},\n",
       " {'repeat_idx': 3,\n",
       "  'task': 'pick_two_obj_and_place-SoapBar-None-Cabinet-424/trial_T20190909_081814_796540'},\n",
       " {'repeat_idx': 6,\n",
       "  'task': 'pick_clean_then_place_in_recep-SoapBar-None-CounterTop-424/trial_T20190907_074045_109439'},\n",
       " {'repeat_idx': 3,\n",
       "  'task': 'look_at_obj_in_light-Book-None-DeskLamp-308/trial_T20190908_020048_814402'},\n",
       " {'repeat_idx': 3,\n",
       "  'task': 'pick_and_place_simple-Pencil-None-Shelf-308/trial_T20190908_122154_042763'},\n",
       " {'repeat_idx': 3,\n",
       "  'task': 'pick_heat_then_place_in_recep-TomatoSliced-None-SinkBasin-10/trial_T20190910_160038_224287'},\n",
       " {'repeat_idx': 3,\n",
       "  'task': 'pick_cool_then_place_in_recep-Mug-None-Cabinet-10/trial_T20190909_121559_082363'},\n",
       " {'repeat_idx': 3,\n",
       "  'task': 'pick_clean_then_place_in_recep-LettuceSliced-None-GarbageCan-10/trial_T20190908_115651_521111'},\n",
       " {'repeat_idx': 3,\n",
       "  'task': 'pick_clean_then_place_in_recep-Bowl-None-Cabinet-10/trial_T20190909_061232_368489'},\n",
       " {'repeat_idx': 3,\n",
       "  'task': 'look_at_obj_in_light-AlarmClock-None-DeskLamp-308/trial_T20190908_222933_607649'},\n",
       " {'repeat_idx': 3,\n",
       "  'task': 'pick_and_place_simple-Mug-None-Desk-308/trial_T20190909_203041_433487'},\n",
       " {'repeat_idx': 3,\n",
       "  'task': 'look_at_obj_in_light-Pencil-None-DeskLamp-308/trial_T20190908_220604_010430'},\n",
       " {'repeat_idx': 3,\n",
       "  'task': 'pick_cool_then_place_in_recep-TomatoSliced-None-CounterTop-10/trial_T20190909_061805_153515'},\n",
       " {'repeat_idx': 3,\n",
       "  'task': 'pick_and_place_simple-Pencil-None-Shelf-308/trial_T20190908_121952_610012'},\n",
       " {'repeat_idx': 3,\n",
       "  'task': 'pick_heat_then_place_in_recep-BreadSliced-None-CounterTop-10/trial_T20190908_025420_586121'},\n",
       " {'repeat_idx': 3,\n",
       "  'task': 'pick_heat_then_place_in_recep-Potato-None-GarbageCan-10/trial_T20190907_161853_945788'},\n",
       " {'repeat_idx': 3,\n",
       "  'task': 'look_at_obj_in_light-CreditCard-None-FloorLamp-219/trial_T20190909_103628_479585'},\n",
       " {'repeat_idx': 3,\n",
       "  'task': 'look_at_obj_in_light-Vase-None-FloorLamp-219/trial_T20190908_203614_840353'},\n",
       " {'repeat_idx': 3,\n",
       "  'task': 'pick_clean_then_place_in_recep-Knife-None-CounterTop-10/trial_T20190909_110531_148235'},\n",
       " {'repeat_idx': 3,\n",
       "  'task': 'look_at_obj_in_light-Mug-None-DeskLamp-308/trial_T20190908_201444_037645'},\n",
       " {'repeat_idx': 4,\n",
       "  'task': 'pick_two_obj_and_place-AppleSliced-None-CounterTop-10/trial_T20190907_061347_004735'},\n",
       " {'repeat_idx': 3,\n",
       "  'task': 'pick_and_place_simple-SaltShaker-None-Drawer-10/trial_T20190909_021728_339782'},\n",
       " {'repeat_idx': 3,\n",
       "  'task': 'pick_two_obj_and_place-Pillow-None-Sofa-219/trial_T20190907_163408_914117'},\n",
       " {'repeat_idx': 3,\n",
       "  'task': 'pick_two_obj_and_place-PepperShaker-None-Drawer-10/trial_T20190912_221016_460197'},\n",
       " {'repeat_idx': 3,\n",
       "  'task': 'pick_heat_then_place_in_recep-Tomato-None-GarbageCan-10/trial_T20190908_225359_617900'},\n",
       " {'repeat_idx': 3,\n",
       "  'task': 'pick_clean_then_place_in_recep-Cloth-None-Cabinet-424/trial_T20190908_022321_380927'},\n",
       " {'repeat_idx': 3,\n",
       "  'task': 'pick_cool_then_place_in_recep-Lettuce-None-SinkBasin-10/trial_T20190907_040233_171346'},\n",
       " {'repeat_idx': 3,\n",
       "  'task': 'pick_clean_then_place_in_recep-Plate-None-CounterTop-10/trial_T20190908_213356_017769'},\n",
       " {'repeat_idx': 3,\n",
       "  'task': 'pick_two_obj_and_place-KeyChain-None-Safe-219/trial_T20190909_012027_782483'},\n",
       " {'repeat_idx': 3,\n",
       "  'task': 'pick_and_place_with_movable_recep-KeyChain-Box-ArmChair-219/trial_T20190918_185132_685516'},\n",
       " {'repeat_idx': 3,\n",
       "  'task': 'pick_cool_then_place_in_recep-BreadSliced-None-Microwave-10/trial_T20190906_224843_443882'},\n",
       " {'repeat_idx': 3,\n",
       "  'task': 'pick_and_place_simple-Vase-None-Safe-219/trial_T20190908_205221_748352'},\n",
       " {'repeat_idx': 3,\n",
       "  'task': 'pick_and_place_with_movable_recep-Pencil-Bowl-Shelf-308/trial_T20190909_125415_131061'},\n",
       " {'repeat_idx': 3,\n",
       "  'task': 'pick_and_place_with_movable_recep-ButterKnife-Cup-CounterTop-10/trial_T20190909_000045_648853'},\n",
       " {'repeat_idx': 3,\n",
       "  'task': 'look_at_obj_in_light-CreditCard-None-FloorLamp-219/trial_T20190909_103553_077615'},\n",
       " {'repeat_idx': 3,\n",
       "  'task': 'look_at_obj_in_light-Box-None-FloorLamp-219/trial_T20190907_103005_855069'},\n",
       " {'repeat_idx': 3,\n",
       "  'task': 'pick_heat_then_place_in_recep-Mug-None-CoffeeMachine-10/trial_T20190907_171850_960211'},\n",
       " {'repeat_idx': 3,\n",
       "  'task': 'pick_and_place_with_movable_recep-ButterKnife-Cup-SinkBasin-10/trial_T20190909_025413_784807'},\n",
       " {'repeat_idx': 3,\n",
       "  'task': 'pick_cool_then_place_in_recep-Potato-None-Microwave-10/trial_T20190907_033306_962974'},\n",
       " {'repeat_idx': 4,\n",
       "  'task': 'pick_and_place_simple-SoapBottle-None-Toilet-424/trial_T20190907_004404_604165'},\n",
       " {'repeat_idx': 3,\n",
       "  'task': 'look_at_obj_in_light-CellPhone-None-FloorLamp-219/trial_T20190908_044139_261907'},\n",
       " {'repeat_idx': 3,\n",
       "  'task': 'pick_two_obj_and_place-ToiletPaper-None-Cabinet-424/trial_T20190906_202903_584090'},\n",
       " {'repeat_idx': 3,\n",
       "  'task': 'pick_heat_then_place_in_recep-Mug-None-Cabinet-10/trial_T20190909_021200_669381'},\n",
       " {'repeat_idx': 3,\n",
       "  'task': 'pick_clean_then_place_in_recep-Spatula-None-Drawer-10/trial_T20190907_080800_275989'},\n",
       " {'repeat_idx': 3,\n",
       "  'task': 'pick_and_place_simple-SaltShaker-None-Cabinet-10/trial_T20190906_191429_743650'},\n",
       " {'repeat_idx': 3,\n",
       "  'task': 'pick_heat_then_place_in_recep-Mug-None-Cabinet-10/trial_T20190909_021247_306737'},\n",
       " {'repeat_idx': 3,\n",
       "  'task': 'pick_heat_then_place_in_recep-PotatoSliced-None-Fridge-10/trial_T20190909_123732_489327'},\n",
       " {'repeat_idx': 3,\n",
       "  'task': 'pick_and_place_with_movable_recep-ButterKnife-Cup-SinkBasin-10/trial_T20190909_025308_903206'},\n",
       " {'repeat_idx': 3,\n",
       "  'task': 'pick_heat_then_place_in_recep-Tomato-None-GarbageCan-10/trial_T20190908_225046_020282'},\n",
       " {'repeat_idx': 3,\n",
       "  'task': 'pick_heat_then_place_in_recep-AppleSliced-None-CounterTop-10/trial_T20190910_122059_929600'},\n",
       " {'repeat_idx': 3,\n",
       "  'task': 'pick_two_obj_and_place-SoapBar-None-Cabinet-424/trial_T20190909_081746_857594'},\n",
       " {'repeat_idx': 3,\n",
       "  'task': 'pick_cool_then_place_in_recep-Mug-None-Cabinet-10/trial_T20190909_121635_622676'},\n",
       " {'repeat_idx': 3,\n",
       "  'task': 'pick_and_place_simple-Watch-None-Safe-219/trial_T20190907_074524_006355'},\n",
       " {'repeat_idx': 3,\n",
       "  'task': 'pick_and_place_with_movable_recep-Spoon-Pan-SinkBasin-10/trial_T20190908_093016_806799'},\n",
       " {'repeat_idx': 3,\n",
       "  'task': 'look_at_obj_in_light-BaseballBat-None-DeskLamp-308/trial_T20190906_214648_973919'}]"
      ]
     },
     "execution_count": 153,
     "metadata": {},
     "output_type": "execute_result"
    }
   ],
   "source": [
    "valid_unseen_new_split"
   ]
  },
  {
   "cell_type": "markdown",
   "metadata": {},
   "source": [
    "## Purge predicted from raw data"
   ]
  },
  {
   "cell_type": "code",
   "execution_count": null,
   "metadata": {},
   "outputs": [],
   "source": [
    "def purge_predictions(out_paths):\n",
    "\n",
    "    for out_path in out_paths:\n",
    "\n",
    "        with open(out_path, 'r') as f:\n",
    "            traj_data = json.load(f)\n",
    "\n",
    "        with open(out_path.replace('.json', '_backup.json'), 'w') as f:\n",
    "            json.dump(traj_data, f)\n",
    "\n",
    "        annotations = []\n",
    "\n",
    "        for ann in raw_traj_data['turk_annotations']['anns']:\n",
    "            if 'pred_version' not in ann:\n",
    "                annotations.append(ann)\n",
    "\n",
    "        raw_traj_data['turk_annotations']['anns'] = annotations\n",
    "\n",
    "        with open(out_path, 'w') as f:\n",
    "            json.dump(traj_data, f)"
   ]
  },
  {
   "cell_type": "markdown",
   "metadata": {},
   "source": [
    "## Preprocess splits with existing vocab file"
   ]
  },
  {
   "cell_type": "code",
   "execution_count": 188,
   "metadata": {},
   "outputs": [
    {
     "data": {
      "text/plain": [
       "<module 'data.preprocess_language_predictions' from '/root/data/home/hoyeung/alfred/data/preprocess_language_predictions.py'>"
      ]
     },
     "execution_count": 188,
     "metadata": {},
     "output_type": "execute_result"
    }
   ],
   "source": [
    "importlib.reload(preprocess_language_predictions)"
   ]
  },
  {
   "cell_type": "code",
   "execution_count": 189,
   "metadata": {},
   "outputs": [
    {
     "name": "stderr",
     "output_type": "stream",
     "text": [
      "  1% (3 of 250) |                        | Elapsed Time: 0:00:00 ETA:   0:00:09"
     ]
    },
    {
     "name": "stdout",
     "output_type": "stream",
     "text": [
      "\n",
      "Preprocessing dataset and saving to pp folders ... This will take a while. Do this once as required.\n",
      "Preprocessing train_sanity_v1\n"
     ]
    },
    {
     "name": "stderr",
     "output_type": "stream",
     "text": [
      "100% (250 of 250) |######################| Elapsed Time: 0:00:05 Time:  0:00:05\n",
      "  2% (7 of 251) |                        | Elapsed Time: 0:00:00 ETA:   0:00:06"
     ]
    },
    {
     "name": "stdout",
     "output_type": "stream",
     "text": [
      "Preprocessing valid_seen_v1\n"
     ]
    },
    {
     "name": "stderr",
     "output_type": "stream",
     "text": [
      "100% (251 of 251) |######################| Elapsed Time: 0:00:05 Time:  0:00:05\n",
      "  1% (4 of 255) |                        | Elapsed Time: 0:00:00 ETA:  00:00:00"
     ]
    },
    {
     "name": "stdout",
     "output_type": "stream",
     "text": [
      "Preprocessing valid_unseen_v1\n"
     ]
    },
    {
     "name": "stderr",
     "output_type": "stream",
     "text": [
      "100% (255 of 255) |######################| Elapsed Time: 0:00:06 Time:  0:00:06\n"
     ]
    }
   ],
   "source": [
    "pred_version='v1'\n",
    "splits_to_preprocess = {}\n",
    "splits_to_preprocess['train_sanity_{}'.format(pred_version)] = train_sanity_new_split\n",
    "splits_to_preprocess['valid_seen_{}'.format(pred_version)] = valid_seen_new_split\n",
    "splits_to_preprocess['valid_unseen_{}'.format(pred_version)] = valid_unseen_new_split\n",
    "\n",
    "print(\"\\nPreprocessing dataset and saving to %s folders ... This will take a while. Do this once as required.\" % args.pp_folder)\n",
    "vocab = torch.load(os.path.join(args.data, \"%s.vocab\" % args.pp_folder))\n",
    "dataset = preprocess_language_predictions.Dataset(args, vocab=vocab)\n",
    "preprocess_json_paths = dataset.preprocess_splits(splits_to_preprocess)"
   ]
  },
  {
   "cell_type": "code",
   "execution_count": 192,
   "metadata": {},
   "outputs": [],
   "source": [
    "with open(os.path.join(args.split_dir, 'preprocessed_paths_{}.json'.format(pred_version)), 'w') as f:\n",
    "    json.dump(preprocess_json_paths, f)"
   ]
  },
  {
   "cell_type": "markdown",
   "metadata": {},
   "source": [
    "### Sanity Check"
   ]
  },
  {
   "cell_type": "code",
   "execution_count": 193,
   "metadata": {},
   "outputs": [
    {
     "data": {
      "text/plain": [
       "['/root/data_alfred/json_feat_2.1.0/pick_and_place_simple-WineBottle-None-Shelf-7/trial_T20190907_200104_945677/pp/ann_3.json',\n",
       " '/root/data_alfred/json_feat_2.1.0/pick_cool_then_place_in_recep-Bowl-None-Cabinet-24/trial_T20190909_112909_923737/pp/ann_3.json',\n",
       " '/root/data_alfred/json_feat_2.1.0/pick_heat_then_place_in_recep-AppleSliced-None-DiningTable-17/trial_T20190908_095621_618627/pp/ann_3.json',\n",
       " '/root/data_alfred/json_feat_2.1.0/pick_and_place_simple-TennisRacket-None-SideTable-310/trial_T20190907_040920_796378/pp/ann_3.json',\n",
       " '/root/data_alfred/json_feat_2.1.0/pick_two_obj_and_place-CreditCard-None-Desk-313/trial_T20190909_104526_715846/pp/ann_3.json',\n",
       " '/root/data_alfred/json_feat_2.1.0/pick_and_place_simple-Candle-None-Cart-430/trial_T20190909_055319_119903/pp/ann_3.json',\n",
       " '/root/data_alfred/json_feat_2.1.0/pick_heat_then_place_in_recep-PotatoSliced-None-Fridge-22/trial_T20190908_185723_946017/pp/ann_3.json',\n",
       " '/root/data_alfred/json_feat_2.1.0/pick_and_place_with_movable_recep-RemoteControl-Box-Sofa-220/trial_T20190907_023003_992808/pp/ann_3.json',\n",
       " '/root/data_alfred/json_feat_2.1.0/pick_heat_then_place_in_recep-Egg-None-SinkBasin-25/trial_T20190907_024723_698757/pp/ann_3.json',\n",
       " '/root/data_alfred/json_feat_2.1.0/pick_cool_then_place_in_recep-Plate-None-Cabinet-25/trial_T20190908_102731_668233/pp/ann_3.json']"
      ]
     },
     "execution_count": 193,
     "metadata": {},
     "output_type": "execute_result"
    }
   ],
   "source": [
    "with open(os.path.join(args.split_dir, 'preprocessed_paths_{}.json'.format(pred_version)), 'r') as f:\n",
    "    preprocess_json_paths = json.load(f)\n",
    "    \n",
    "preprocess_json_paths[:10]"
   ]
  },
  {
   "cell_type": "code",
   "execution_count": 197,
   "metadata": {},
   "outputs": [
    {
     "data": {
      "text/plain": [
       "[[47, 18, 4, 36, 18, 4, 19, 21, 4, 432, 16],\n",
       " [22, 23, 4, 492, 15, 4, 36, 16],\n",
       " [24, 25, 26, 47, 18, 4, 265, 16],\n",
       " [14, 4, 492, 15, 4, 66, 189, 21, 4, 160, 330, 16],\n",
       " [34]]"
      ]
     },
     "execution_count": 197,
     "metadata": {},
     "output_type": "execute_result"
    }
   ],
   "source": [
    "# machine\n",
    "with open('/root/data_alfred/json_feat_2.1.0/pick_and_place_simple-Candle-None-Cart-430/trial_T20190909_055319_119903/pp/ann_3.json', 'r') as f:\n",
    "    ex = json.load(f)\n",
    "    \n",
    "ex['num']['lang_instr']"
   ]
  },
  {
   "cell_type": "code",
   "execution_count": 198,
   "metadata": {},
   "outputs": [
    {
     "data": {
      "text/plain": [
       "[[24, 18, 4, 19, 37, 24, 38, 26, 30, 18, 4, 36, 16],\n",
       " [22, 23, 4, 492, 6, 4, 36, 16],\n",
       " [24, 25, 26, 37, 24, 19, 16, 156, 18, 4, 259, 189, 549, 16],\n",
       " [10, 4, 492, 15, 4, 254, 21, 4, 259, 189, 16],\n",
       " [34]]"
      ]
     },
     "execution_count": 198,
     "metadata": {},
     "output_type": "execute_result"
    }
   ],
   "source": [
    "# human\n",
    "with open('/root/data_alfred/json_feat_2.1.0/pick_and_place_simple-Candle-None-Cart-430/trial_T20190909_055319_119903/pp/ann_2.json', 'r') as f:\n",
    "    ex = json.load(f)\n",
    "    \n",
    "ex['num']['lang_instr']"
   ]
  },
  {
   "cell_type": "code",
   "execution_count": null,
   "metadata": {},
   "outputs": [],
   "source": []
  }
 ],
 "metadata": {
  "kernelspec": {
   "display_name": "Python 3",
   "language": "python",
   "name": "python3"
  },
  "language_info": {
   "codemirror_mode": {
    "name": "ipython",
    "version": 3
   },
   "file_extension": ".py",
   "mimetype": "text/x-python",
   "name": "python",
   "nbconvert_exporter": "python",
   "pygments_lexer": "ipython3",
   "version": "3.6.9"
  }
 },
 "nbformat": 4,
 "nbformat_minor": 2
}
