{
 "cells": [
  {
   "cell_type": "markdown",
   "metadata": {},
   "source": [
    "# Make a random subset of the training data\n",
    "\n",
    "- size 250\n",
    "\n",
    "- check it matches the larger distribution by number of subgoals, high level tasks, and scenes"
   ]
  },
  {
   "cell_type": "code",
   "execution_count": 1,
   "metadata": {},
   "outputs": [],
   "source": [
    "import os\n",
    "os.environ['ALFRED_ROOT'] = '/home/hoyeung/alfred/'\n",
    "\n",
    "import sys\n",
    "sys.path.append(os.path.join(os.environ['ALFRED_ROOT']))\n",
    "sys.path.append(os.path.join(os.environ['ALFRED_ROOT'], 'models'))\n",
    "\n",
    "import torch\n",
    "import pprint\n",
    "import json\n",
    "from data.preprocess import Dataset\n",
    "from importlib import import_module\n",
    "from collections import Counter"
   ]
  },
  {
   "cell_type": "code",
   "execution_count": 2,
   "metadata": {},
   "outputs": [],
   "source": [
    "class args:\n",
    "    pass\n",
    "\n",
    "# settings\n",
    "args.seed = 123\n",
    "args.data = 'data/json_feat_2.1.0'\n",
    "args.splits = 'data/splits/oct21.json'\n",
    "args.preprocess = False #!\n",
    "args.pp_folder = 'pp'\n",
    "args.save_every_epoch = False #!\n",
    "args.model = 'seq2seq_im'\n",
    "args.gpu = True\n",
    "args.dout = 'exp/model:seq2seq_im'\n",
    "args.resume = False #!"
   ]
  },
  {
   "cell_type": "markdown",
   "metadata": {},
   "source": [
    "# splits\n",
    "\n",
    "\n",
    "- Load here\n",
    "https://github.com/Chucooleg/alfred/blob/6d2a6d9b210ea2ab57a3d6c6b2810f796e9ad2d1/models/train/train_seq2seq.py#L80"
   ]
  },
  {
   "cell_type": "code",
   "execution_count": 4,
   "metadata": {},
   "outputs": [
    {
     "name": "stdout",
     "output_type": "stream",
     "text": [
      "{'tests_seen': 1533,\n",
      " 'tests_unseen': 1529,\n",
      " 'train': 21023,\n",
      " 'valid_seen': 820,\n",
      " 'valid_unseen': 821}\n"
     ]
    }
   ],
   "source": [
    "# load train/valid/tests splits\n",
    "with open(args.splits) as f:\n",
    "    splits = json.load(f)\n",
    "    pprint.pprint({k: len(v) for k, v in splits.items()})"
   ]
  },
  {
   "cell_type": "code",
   "execution_count": 5,
   "metadata": {},
   "outputs": [
    {
     "data": {
      "text/plain": [
       "list"
      ]
     },
     "execution_count": 5,
     "metadata": {},
     "output_type": "execute_result"
    }
   ],
   "source": [
    "type(splits['train'])"
   ]
  },
  {
   "cell_type": "code",
   "execution_count": 6,
   "metadata": {},
   "outputs": [
    {
     "data": {
      "text/plain": [
       "{'repeat_idx': 0,\n",
       " 'task': 'pick_cool_then_place_in_recep-LettuceSliced-None-DiningTable-17/trial_T20190909_070538_437648'}"
      ]
     },
     "execution_count": 6,
     "metadata": {},
     "output_type": "execute_result"
    }
   ],
   "source": [
    "splits['train'][0]"
   ]
  },
  {
   "cell_type": "code",
   "execution_count": 7,
   "metadata": {},
   "outputs": [
    {
     "data": {
      "text/plain": [
       "{'repeat_idx': 0,\n",
       " 'task': 'pick_heat_then_place_in_recep-PotatoSliced-None-SinkBasin-13/trial_T20190909_115736_122556'}"
      ]
     },
     "execution_count": 7,
     "metadata": {},
     "output_type": "execute_result"
    }
   ],
   "source": [
    "splits['valid_seen'][0]"
   ]
  },
  {
   "cell_type": "code",
   "execution_count": 8,
   "metadata": {},
   "outputs": [
    {
     "data": {
      "text/plain": [
       "{'repeat_idx': 0,\n",
       " 'task': 'look_at_obj_in_light-CellPhone-None-FloorLamp-219/trial_T20190908_044113_026049'}"
      ]
     },
     "execution_count": 8,
     "metadata": {},
     "output_type": "execute_result"
    }
   ],
   "source": [
    "splits['valid_unseen'][0]"
   ]
  },
  {
   "cell_type": "markdown",
   "metadata": {},
   "source": [
    "# Train\n",
    "\n",
    "\n",
    "- Load here\n",
    "https://github.com/Chucooleg/alfred/blob/6d2a6d9b210ea2ab57a3d6c6b2810f796e9ad2d1/models/train/train_seq2seq.py#L80"
   ]
  },
  {
   "cell_type": "code",
   "execution_count": 9,
   "metadata": {},
   "outputs": [
    {
     "name": "stdout",
     "output_type": "stream",
     "text": [
      "21023\n",
      "6574\n"
     ]
    }
   ],
   "source": [
    "print(len(splits['train']))\n",
    "print(len([t for t in splits['train'] if t['repeat_idx'] == 0]))"
   ]
  },
  {
   "cell_type": "code",
   "execution_count": 10,
   "metadata": {},
   "outputs": [
    {
     "data": {
      "text/plain": [
       "3.197900821417706"
      ]
     },
     "execution_count": 10,
     "metadata": {},
     "output_type": "execute_result"
    }
   ],
   "source": [
    "21023/6574"
   ]
  },
  {
   "cell_type": "code",
   "execution_count": 11,
   "metadata": {},
   "outputs": [],
   "source": [
    "train = splits['train']\n",
    "train_ann_0 = [t for t in splits['train'] if t['repeat_idx'] == 0]"
   ]
  },
  {
   "cell_type": "markdown",
   "metadata": {},
   "source": [
    "# Examine train distribution"
   ]
  },
  {
   "cell_type": "code",
   "execution_count": 12,
   "metadata": {},
   "outputs": [],
   "source": [
    "def load_task_json(task):\n",
    "    '''\n",
    "    load preprocessed json from disk\n",
    "    '''\n",
    "    json_path = os.path.join(args.data, task['task'], 'pp', 'ann_%d.json' % task['repeat_idx'])\n",
    "    with open(json_path) as f:\n",
    "        data = json.load(f)\n",
    "    return data"
   ]
  },
  {
   "cell_type": "code",
   "execution_count": 13,
   "metadata": {},
   "outputs": [],
   "source": [
    "def load_task_stats(split):\n",
    "\n",
    "    task_subgoals = []\n",
    "    task_lens = []\n",
    "    task_actions = []\n",
    "    task_scenes = []\n",
    "\n",
    "    for task in split:\n",
    "        task_params = task['task'].split('/')[0]\n",
    "        task_actions.append(task_params.split('-')[0])\n",
    "        task_scenes.append(task_params.split('-')[-1])\n",
    "        ex = load_task_json(task)\n",
    "        task_subgoals.append(len(ex['num']['action_high']))\n",
    "        task_lens.append(len(ex['num']['action_low']))\n",
    "        \n",
    "    return task_subgoals, task_lens, task_actions, task_scenes"
   ]
  },
  {
   "cell_type": "code",
   "execution_count": 19,
   "metadata": {},
   "outputs": [],
   "source": [
    "train_subgoals, train_lens, train_actions, train_scenes = load_task_stats(train)"
   ]
  },
  {
   "cell_type": "code",
   "execution_count": 42,
   "metadata": {},
   "outputs": [
    {
     "data": {
      "text/plain": [
       "[(7, 0.3194596394425153),\n",
       " (5, 0.2570993673595586),\n",
       " (9, 0.16753079960043762),\n",
       " (8, 0.108785615754174),\n",
       " (13, 0.08495457356228892),\n",
       " (11, 0.016886267421395613),\n",
       " (14, 0.016172763164153545),\n",
       " (12, 0.0156970936593255),\n",
       " (4, 0.004994529800694478),\n",
       " (6, 0.002854017028968273),\n",
       " (10, 0.0026637492270370545),\n",
       " (20, 0.0011416068115873092),\n",
       " (15, 0.0006183703562764591),\n",
       " (18, 0.0004281025543452409),\n",
       " (16, 0.0002854017028968273),\n",
       " (17, 0.0002854017028968273),\n",
       " (19, 0.00014270085144841365)]"
      ]
     },
     "execution_count": 42,
     "metadata": {},
     "output_type": "execute_result"
    }
   ],
   "source": [
    "ctr = Counter(train_subgoals).most_common()\n",
    "[(i[0], i[1]/len(train_subgoals)) for i in ctr]"
   ]
  },
  {
   "cell_type": "code",
   "execution_count": 44,
   "metadata": {},
   "outputs": [
    {
     "data": {
      "text/plain": [
       "[('pick_two_obj_and_place', 0.16905294201588736),\n",
       " ('pick_and_place_simple', 0.15435475431670076),\n",
       " ('pick_and_place_with_movable_recep', 0.15430718736621796),\n",
       " ('pick_cool_then_place_in_recep', 0.14003710222137658),\n",
       " ('pick_heat_then_place_in_recep', 0.13998953527089378),\n",
       " ('pick_clean_then_place_in_recep', 0.13518527327213054),\n",
       " ('look_at_obj_in_light', 0.10707320553679303)]"
      ]
     },
     "execution_count": 44,
     "metadata": {},
     "output_type": "execute_result"
    }
   ],
   "source": [
    "ctr = Counter(train_actions).most_common()\n",
    "[(i[0], i[1]/len(train_actions)) for i in ctr]"
   ]
  },
  {
   "cell_type": "code",
   "execution_count": 45,
   "metadata": {},
   "outputs": [
    {
     "data": {
      "text/plain": [
       "[('1', 0.02606668886457689),\n",
       " ('21', 0.025781287161680065),\n",
       " ('18', 0.022879703182228987),\n",
       " ('20', 0.022641868429814964),\n",
       " ('15', 0.021690529420158873),\n",
       " ('4', 0.02145269466774485),\n",
       " ('24', 0.020548922608571565),\n",
       " ('23', 0.020453788707605957),\n",
       " ('11', 0.020263520905674737),\n",
       " ('16', 0.020120820054226322),\n",
       " ('30', 0.020025686153260714),\n",
       " ('19', 0.020025686153260714),\n",
       " ('27', 0.0198829853018123),\n",
       " ('17', 0.01955001664843267),\n",
       " ('13', 0.01955001664843267),\n",
       " ('7', 0.019312181896018646),\n",
       " ('26', 0.018979213242639015),\n",
       " ('5', 0.01850354373781097),\n",
       " ('25', 0.01821814203491414),\n",
       " ('6', 0.0177900394805689),\n",
       " ('3', 0.01745707082718927),\n",
       " ('14', 0.017124102173809636),\n",
       " ('28', 0.017076535223326833),\n",
       " ('2', 0.016981401322361225),\n",
       " ('12', 0.016267897065119157),\n",
       " ('22', 0.01412738429339295),\n",
       " ('8', 0.013128478333254055),\n",
       " ('214', 0.00879988583931884),\n",
       " ('427', 0.00784854682966275),\n",
       " ('218', 0.007753412928697141),\n",
       " ('224', 0.007753412928697141),\n",
       " ('305', 0.007705845978214337),\n",
       " ('303', 0.007563145126765923),\n",
       " ('203', 0.007420444275317509),\n",
       " ('307', 0.007135042572420682),\n",
       " ('212', 0.007135042572420682),\n",
       " ('311', 0.007135042572420682),\n",
       " ('318', 0.007087475621937877),\n",
       " ('217', 0.00689720782000666),\n",
       " ('316', 0.00689720782000666),\n",
       " ('225', 0.0068496408695238545),\n",
       " ('420', 0.0068496408695238545),\n",
       " ('223', 0.006754506968558246),\n",
       " ('328', 0.006659373067592637),\n",
       " ('317', 0.006611806117109832),\n",
       " ('417', 0.006564239166627028),\n",
       " ('204', 0.006516672216144223),\n",
       " ('430', 0.006469105265661418),\n",
       " ('324', 0.006421538315178614),\n",
       " ('230', 0.006421538315178614),\n",
       " ('403', 0.006373971364695809),\n",
       " ('201', 0.006326404414213005),\n",
       " ('304', 0.006231270513247396),\n",
       " ('423', 0.006231270513247396),\n",
       " ('326', 0.006136136612281786),\n",
       " ('327', 0.006136136612281786),\n",
       " ('413', 0.006136136612281786),\n",
       " ('314', 0.006088569661798982),\n",
       " ('205', 0.006088569661798982),\n",
       " ('323', 0.006041002711316177),\n",
       " ('313', 0.006041002711316177),\n",
       " ('310', 0.005993435760833373),\n",
       " ('222', 0.005993435760833373),\n",
       " ('309', 0.005993435760833373),\n",
       " ('426', 0.0058507349093849595),\n",
       " ('228', 0.0058507349093849595),\n",
       " ('402', 0.005803167958902154),\n",
       " ('302', 0.005708034057936546),\n",
       " ('229', 0.005708034057936546),\n",
       " ('429', 0.005708034057936546),\n",
       " ('208', 0.005708034057936546),\n",
       " ('428', 0.005612900156970937),\n",
       " ('216', 0.005612900156970937),\n",
       " ('414', 0.005565333206488132),\n",
       " ('409', 0.005565333206488132),\n",
       " ('211', 0.005565333206488132),\n",
       " ('221', 0.005565333206488132),\n",
       " ('227', 0.005565333206488132),\n",
       " ('301', 0.005470199305522523),\n",
       " ('206', 0.005470199305522523),\n",
       " ('320', 0.005470199305522523),\n",
       " ('401', 0.005422632355039718),\n",
       " ('329', 0.005422632355039718),\n",
       " ('213', 0.005422632355039718),\n",
       " ('416', 0.005375065404556914),\n",
       " ('408', 0.005375065404556914),\n",
       " ('411', 0.005375065404556914),\n",
       " ('209', 0.005279931503591305),\n",
       " ('322', 0.005279931503591305),\n",
       " ('415', 0.005279931503591305),\n",
       " ('319', 0.0051847976026256955),\n",
       " ('207', 0.005137230652142891),\n",
       " ('405', 0.005042096751177282),\n",
       " ('410', 0.004946962850211673),\n",
       " ('210', 0.004899395899728869),\n",
       " ('412', 0.004804261998763259),\n",
       " ('406', 0.004804261998763259),\n",
       " ('422', 0.004756695048280454),\n",
       " ('419', 0.004613994196832041),\n",
       " ('330', 0.004518860295866432),\n",
       " ('421', 0.004471293345383627),\n",
       " ('407', 0.004471293345383627),\n",
       " ('202', 0.004328592493935214),\n",
       " ('306', 0.004281025543452409),\n",
       " ('418', 0.004090757741521191),\n",
       " ('321', 0.003615088236693146),\n",
       " ('220', 0.003567521286210341),\n",
       " ('312', 0.003472387385244732)]"
      ]
     },
     "execution_count": 45,
     "metadata": {},
     "output_type": "execute_result"
    }
   ],
   "source": [
    "ctr = Counter(train_scenes).most_common()\n",
    "[(i[0], i[1]/len(train_scenes)) for i in ctr]"
   ]
  },
  {
   "cell_type": "code",
   "execution_count": 28,
   "metadata": {},
   "outputs": [],
   "source": [
    "train_ann0_subgoals, train_ann0_lens, train_ann0_actions, train_ann0_scenes = load_task_stats(train_ann_0)"
   ]
  },
  {
   "cell_type": "code",
   "execution_count": 46,
   "metadata": {},
   "outputs": [
    {
     "data": {
      "text/plain": [
       "[(7, 0.32354730757529665),\n",
       " (5, 0.2613325220565866),\n",
       " (9, 0.16686948585336173),\n",
       " (8, 0.10587161545482203),\n",
       " (13, 0.08229388500152114),\n",
       " (11, 0.016580468512321266),\n",
       " (14, 0.015211439002129602),\n",
       " (12, 0.014755095832065714),\n",
       " (4, 0.005019774870702769),\n",
       " (6, 0.0030422878004259203),\n",
       " (10, 0.0027380590203833284),\n",
       " (20, 0.0010648007301490721),\n",
       " (18, 0.00045634317006388805),\n",
       " (15, 0.00045634317006388805),\n",
       " (16, 0.000304228780042592),\n",
       " (17, 0.000304228780042592),\n",
       " (19, 0.000152114390021296)]"
      ]
     },
     "execution_count": 46,
     "metadata": {},
     "output_type": "execute_result"
    }
   ],
   "source": [
    "ctr = Counter(train_ann0_subgoals).most_common()\n",
    "[(i[0], i[1]/len(train_ann0_subgoals)) for i in ctr]"
   ]
  },
  {
   "cell_type": "code",
   "execution_count": 47,
   "metadata": {},
   "outputs": [
    {
     "data": {
      "text/plain": [
       "[('pick_two_obj_and_place', 0.168542744143596),\n",
       " ('pick_and_place_simple', 0.15728627928202008),\n",
       " ('pick_and_place_with_movable_recep', 0.15028901734104047),\n",
       " ('pick_cool_then_place_in_recep', 0.13994523881959234),\n",
       " ('pick_heat_then_place_in_recep', 0.13964101003954973),\n",
       " ('pick_clean_then_place_in_recep', 0.13614237906905993),\n",
       " ('look_at_obj_in_light', 0.10815333130514147)]"
      ]
     },
     "execution_count": 47,
     "metadata": {},
     "output_type": "execute_result"
    }
   ],
   "source": [
    "ctr = Counter(train_ann0_actions).most_common()\n",
    "[(i[0], i[1]/len(train_ann0_actions)) for i in ctr]"
   ]
  },
  {
   "cell_type": "code",
   "execution_count": 48,
   "metadata": {},
   "outputs": [
    {
     "data": {
      "text/plain": [
       "[('1', 0.026163675083662914),\n",
       " ('21', 0.025403103133556433),\n",
       " ('20', 0.022817158503194403),\n",
       " ('18', 0.022360815333130515),\n",
       " ('15', 0.022056586553087922),\n",
       " ('4', 0.021600243383024034),\n",
       " ('23', 0.020383328262853665),\n",
       " ('16', 0.020383328262853665),\n",
       " ('19', 0.02023121387283237),\n",
       " ('11', 0.020079099482811075),\n",
       " ('24', 0.020079099482811075),\n",
       " ('27', 0.020079099482811075),\n",
       " ('13', 0.019774870702768482),\n",
       " ('7', 0.019318527532704594),\n",
       " ('17', 0.019014298752662),\n",
       " ('30', 0.019014298752662),\n",
       " ('25', 0.01871006997261941),\n",
       " ('26', 0.018253726802555523),\n",
       " ('6', 0.018253726802555523),\n",
       " ('5', 0.01794949802251293),\n",
       " ('14', 0.017341040462427744),\n",
       " ('2', 0.01718892607240645),\n",
       " ('3', 0.016884697292363856),\n",
       " ('28', 0.01673258290234256),\n",
       " ('12', 0.015363553392150897),\n",
       " ('22', 0.013842409491937937),\n",
       " ('8', 0.013386066321874049),\n",
       " ('214', 0.00836629145117128),\n",
       " ('305', 0.008062062671128689),\n",
       " ('427', 0.007909948281107393),\n",
       " ('218', 0.007757833891086097),\n",
       " ('224', 0.007757833891086097),\n",
       " ('212', 0.0074536051110435046),\n",
       " ('217', 0.007301490721022209),\n",
       " ('307', 0.007301490721022209),\n",
       " ('303', 0.007301490721022209),\n",
       " ('316', 0.007301490721022209),\n",
       " ('203', 0.007149376331000912),\n",
       " ('420', 0.007149376331000912),\n",
       " ('223', 0.006845147550958321),\n",
       " ('417', 0.006845147550958321),\n",
       " ('318', 0.006845147550958321),\n",
       " ('204', 0.006693033160937024),\n",
       " ('225', 0.006693033160937024),\n",
       " ('317', 0.0065409187709157286),\n",
       " ('327', 0.0065409187709157286),\n",
       " ('413', 0.0065409187709157286),\n",
       " ('328', 0.006388804380894433),\n",
       " ('310', 0.006388804380894433),\n",
       " ('230', 0.006388804380894433),\n",
       " ('423', 0.006388804380894433),\n",
       " ('205', 0.006388804380894433),\n",
       " ('311', 0.006388804380894433),\n",
       " ('314', 0.006236689990873136),\n",
       " ('323', 0.006236689990873136),\n",
       " ('222', 0.006236689990873136),\n",
       " ('326', 0.006236689990873136),\n",
       " ('309', 0.006236689990873136),\n",
       " ('430', 0.0060845756008518406),\n",
       " ('304', 0.0060845756008518406),\n",
       " ('402', 0.0060845756008518406),\n",
       " ('324', 0.0060845756008518406),\n",
       " ('228', 0.0060845756008518406),\n",
       " ('201', 0.0060845756008518406),\n",
       " ('403', 0.005932461210830545),\n",
       " ('313', 0.005932461210830545),\n",
       " ('409', 0.005780346820809248),\n",
       " ('428', 0.005780346820809248),\n",
       " ('229', 0.005780346820809248),\n",
       " ('216', 0.005780346820809248),\n",
       " ('429', 0.005780346820809248),\n",
       " ('416', 0.0056282324307879526),\n",
       " ('320', 0.0056282324307879526),\n",
       " ('426', 0.0056282324307879526),\n",
       " ('408', 0.0056282324307879526),\n",
       " ('329', 0.0056282324307879526),\n",
       " ('221', 0.0056282324307879526),\n",
       " ('208', 0.0056282324307879526),\n",
       " ('301', 0.005476118040766657),\n",
       " ('206', 0.005476118040766657),\n",
       " ('209', 0.005476118040766657),\n",
       " ('211', 0.005476118040766657),\n",
       " ('411', 0.005476118040766657),\n",
       " ('414', 0.00532400365074536),\n",
       " ('302', 0.00532400365074536),\n",
       " ('415', 0.00532400365074536),\n",
       " ('227', 0.00532400365074536),\n",
       " ('207', 0.00532400365074536),\n",
       " ('405', 0.0051718892607240646),\n",
       " ('401', 0.0051718892607240646),\n",
       " ('213', 0.0051718892607240646),\n",
       " ('319', 0.0051718892607240646),\n",
       " ('410', 0.005019774870702769),\n",
       " ('412', 0.005019774870702769),\n",
       " ('322', 0.005019774870702769),\n",
       " ('422', 0.005019774870702769),\n",
       " ('210', 0.004867660480681472),\n",
       " ('406', 0.004867660480681472),\n",
       " ('419', 0.004867660480681472),\n",
       " ('330', 0.0047155460906601766),\n",
       " ('407', 0.0047155460906601766),\n",
       " ('306', 0.004563431700638881),\n",
       " ('421', 0.0042592029205962886),\n",
       " ('202', 0.004107088530574992),\n",
       " ('418', 0.004107088530574992),\n",
       " ('220', 0.0038028597505324006),\n",
       " ('321', 0.0036507453605111044),\n",
       " ('312', 0.0034986309704898083)]"
      ]
     },
     "execution_count": 48,
     "metadata": {},
     "output_type": "execute_result"
    }
   ],
   "source": [
    "ctr = Counter(train_ann0_scenes).most_common()\n",
    "[(i[0], i[1]/len(train_ann0_scenes)) for i in ctr]"
   ]
  },
  {
   "cell_type": "code",
   "execution_count": null,
   "metadata": {},
   "outputs": [],
   "source": []
  },
  {
   "cell_type": "code",
   "execution_count": null,
   "metadata": {},
   "outputs": [],
   "source": []
  },
  {
   "cell_type": "code",
   "execution_count": null,
   "metadata": {},
   "outputs": [],
   "source": []
  },
  {
   "cell_type": "code",
   "execution_count": 14,
   "metadata": {},
   "outputs": [],
   "source": [
    "# sample randomly\n",
    "import numpy as np"
   ]
  },
  {
   "cell_type": "code",
   "execution_count": 15,
   "metadata": {},
   "outputs": [],
   "source": [
    "np.random.seed(42)\n",
    "train_subset = np.random.choice(train_ann_0, size=500, replace=False)"
   ]
  },
  {
   "cell_type": "code",
   "execution_count": 16,
   "metadata": {},
   "outputs": [],
   "source": [
    "train_subset_subgoals, train_subset_lens, train_subset_actions, train_subset_scenes = load_task_stats(train_subset)"
   ]
  },
  {
   "cell_type": "code",
   "execution_count": 58,
   "metadata": {
    "scrolled": true
   },
   "outputs": [
    {
     "data": {
      "text/plain": [
       "[(7, 0.308),\n",
       " (5, 0.288),\n",
       " (9, 0.144),\n",
       " (8, 0.096),\n",
       " (13, 0.092),\n",
       " (14, 0.036),\n",
       " (11, 0.02),\n",
       " (6, 0.012),\n",
       " (12, 0.004)]"
      ]
     },
     "execution_count": 58,
     "metadata": {},
     "output_type": "execute_result"
    }
   ],
   "source": [
    "# 42 250\n",
    "ctr = Counter(train_subset_subgoals).most_common(20)\n",
    "[(i[0], i[1]/len(train_subset_subgoals)) for i in ctr]"
   ]
  },
  {
   "cell_type": "code",
   "execution_count": 59,
   "metadata": {},
   "outputs": [
    {
     "data": {
      "text/plain": [
       "[('pick_and_place_simple', 0.184),\n",
       " ('pick_and_place_with_movable_recep', 0.164),\n",
       " ('pick_cool_then_place_in_recep', 0.156),\n",
       " ('pick_two_obj_and_place', 0.152),\n",
       " ('pick_clean_then_place_in_recep', 0.136),\n",
       " ('look_at_obj_in_light', 0.112),\n",
       " ('pick_heat_then_place_in_recep', 0.096)]"
      ]
     },
     "execution_count": 59,
     "metadata": {},
     "output_type": "execute_result"
    }
   ],
   "source": [
    "# 42 250\n",
    "ctr = Counter(train_subset_actions).most_common()\n",
    "[(i[0], i[1]/len(train_subset_actions)) for i in ctr]"
   ]
  },
  {
   "cell_type": "code",
   "execution_count": 60,
   "metadata": {},
   "outputs": [
    {
     "data": {
      "text/plain": [
       "[('21', 0.036),\n",
       " ('15', 0.032),\n",
       " ('14', 0.028),\n",
       " ('16', 0.028),\n",
       " ('24', 0.024),\n",
       " ('5', 0.024),\n",
       " ('3', 0.024),\n",
       " ('27', 0.024),\n",
       " ('11', 0.024),\n",
       " ('30', 0.024),\n",
       " ('205', 0.024),\n",
       " ('18', 0.024),\n",
       " ('313', 0.02),\n",
       " ('22', 0.02),\n",
       " ('25', 0.02),\n",
       " ('23', 0.02),\n",
       " ('19', 0.02),\n",
       " ('203', 0.02),\n",
       " ('2', 0.02),\n",
       " ('17', 0.016),\n",
       " ('20', 0.016),\n",
       " ('4', 0.016),\n",
       " ('1', 0.016),\n",
       " ('310', 0.012),\n",
       " ('416', 0.012),\n",
       " ('202', 0.012),\n",
       " ('224', 0.012),\n",
       " ('420', 0.012),\n",
       " ('428', 0.012),\n",
       " ('222', 0.012),\n",
       " ('13', 0.012),\n",
       " ('314', 0.012),\n",
       " ('417', 0.012),\n",
       " ('218', 0.012),\n",
       " ('411', 0.012),\n",
       " ('12', 0.012),\n",
       " ('220', 0.008),\n",
       " ('426', 0.008),\n",
       " ('312', 0.008),\n",
       " ('427', 0.008),\n",
       " ('6', 0.008),\n",
       " ('403', 0.008),\n",
       " ('429', 0.008),\n",
       " ('223', 0.008),\n",
       " ('423', 0.008),\n",
       " ('307', 0.008),\n",
       " ('26', 0.008),\n",
       " ('318', 0.008),\n",
       " ('320', 0.008),\n",
       " ('402', 0.008),\n",
       " ('323', 0.008),\n",
       " ('326', 0.008),\n",
       " ('304', 0.008),\n",
       " ('303', 0.008),\n",
       " ('421', 0.008),\n",
       " ('208', 0.008),\n",
       " ('28', 0.008),\n",
       " ('422', 0.008),\n",
       " ('321', 0.008),\n",
       " ('409', 0.008),\n",
       " ('212', 0.008),\n",
       " ('327', 0.008),\n",
       " ('225', 0.008),\n",
       " ('7', 0.004),\n",
       " ('430', 0.004),\n",
       " ('316', 0.004),\n",
       " ('230', 0.004),\n",
       " ('330', 0.004),\n",
       " ('211', 0.004),\n",
       " ('410', 0.004),\n",
       " ('229', 0.004),\n",
       " ('206', 0.004),\n",
       " ('406', 0.004),\n",
       " ('213', 0.004),\n",
       " ('311', 0.004),\n",
       " ('306', 0.004),\n",
       " ('401', 0.004),\n",
       " ('415', 0.004),\n",
       " ('322', 0.004),\n",
       " ('210', 0.004),\n",
       " ('317', 0.004),\n",
       " ('324', 0.004),\n",
       " ('204', 0.004),\n",
       " ('309', 0.004),\n",
       " ('412', 0.004),\n",
       " ('301', 0.004),\n",
       " ('413', 0.004),\n",
       " ('329', 0.004),\n",
       " ('414', 0.004),\n",
       " ('328', 0.004)]"
      ]
     },
     "execution_count": 60,
     "metadata": {},
     "output_type": "execute_result"
    }
   ],
   "source": [
    "# 42 250\n",
    "ctr = Counter(train_subset_scenes).most_common()\n",
    "[(i[0], i[1]/len(train_subset_scenes)) for i in ctr]"
   ]
  },
  {
   "cell_type": "markdown",
   "metadata": {},
   "source": [
    "## save the splits"
   ]
  },
  {
   "cell_type": "code",
   "execution_count": 66,
   "metadata": {},
   "outputs": [
    {
     "data": {
      "text/plain": [
       "'data/splits/oct21.json'"
      ]
     },
     "execution_count": 66,
     "metadata": {},
     "output_type": "execute_result"
    }
   ],
   "source": [
    "args.splits"
   ]
  },
  {
   "cell_type": "code",
   "execution_count": 64,
   "metadata": {},
   "outputs": [
    {
     "data": {
      "text/plain": [
       "250"
      ]
     },
     "execution_count": 64,
     "metadata": {},
     "output_type": "execute_result"
    }
   ],
   "source": [
    "len(train_subset)"
   ]
  },
  {
   "cell_type": "code",
   "execution_count": 72,
   "metadata": {},
   "outputs": [
    {
     "data": {
      "text/plain": [
       "dict_keys(['tests_seen', 'tests_unseen', 'train', 'valid_seen', 'valid_unseen', 'train_sanity'])"
      ]
     },
     "execution_count": 72,
     "metadata": {},
     "output_type": "execute_result"
    }
   ],
   "source": [
    "splits['train_sanity'] = list(train_subset)\n",
    "splits.keys()"
   ]
  },
  {
   "cell_type": "code",
   "execution_count": null,
   "metadata": {},
   "outputs": [],
   "source": [
    "with open(args.splits) as f:\n",
    "    splits = json.load(f)\n",
    "    pprint.pprint({k: len(v) for k, v in splits.items()})"
   ]
  },
  {
   "cell_type": "code",
   "execution_count": 73,
   "metadata": {},
   "outputs": [],
   "source": [
    "with open('data/splits/apr13.json', 'w') as f:\n",
    "    json.dump(splits, f)"
   ]
  },
  {
   "cell_type": "code",
   "execution_count": 74,
   "metadata": {},
   "outputs": [
    {
     "name": "stdout",
     "output_type": "stream",
     "text": [
      "{'tests_seen': 1533,\n",
      " 'tests_unseen': 1529,\n",
      " 'train': 21023,\n",
      " 'train_sanity': 250,\n",
      " 'valid_seen': 820,\n",
      " 'valid_unseen': 821}\n"
     ]
    }
   ],
   "source": [
    "with open('data/splits/apr13.json') as f:\n",
    "    splits = json.load(f)\n",
    "    pprint.pprint({k: len(v) for k, v in splits.items()})"
   ]
  },
  {
   "cell_type": "code",
   "execution_count": null,
   "metadata": {},
   "outputs": [],
   "source": []
  }
 ],
 "metadata": {
  "kernelspec": {
   "display_name": "Python 3",
   "language": "python",
   "name": "python3"
  },
  "language_info": {
   "codemirror_mode": {
    "name": "ipython",
    "version": 3
   },
   "file_extension": ".py",
   "mimetype": "text/x-python",
   "name": "python",
   "nbconvert_exporter": "python",
   "pygments_lexer": "ipython3",
   "version": "3.6.9"
  }
 },
 "nbformat": 4,
 "nbformat_minor": 2
}
