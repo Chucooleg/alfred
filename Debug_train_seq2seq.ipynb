{
 "cells": [
  {
   "cell_type": "markdown",
   "metadata": {},
   "source": [
    "# Training cycle debugging\n",
    "\n",
    "Basically run code copied from train_seq2seq.py in this notebook to catch bugs"
   ]
  },
  {
   "cell_type": "code",
   "execution_count": 1,
   "metadata": {},
   "outputs": [],
   "source": [
    "import os\n",
    "os.environ['ALFRED_ROOT'] = '/home/hoyeung/alfred/'\n",
    "\n",
    "import sys\n",
    "sys.path.append(os.path.join(os.environ['ALFRED_ROOT']))\n",
    "sys.path.append(os.path.join(os.environ['ALFRED_ROOT'], 'models'))\n",
    "\n",
    "# from argparse import ArgumentDefaultsHelpFormatter, ArgumentParser\n",
    "import torch\n",
    "import pprint\n",
    "import json\n",
    "from data.preprocess import Dataset\n",
    "from importlib import import_module, reload\n",
    "from argparse import ArgumentDefaultsHelpFormatter, ArgumentParser\n",
    "from models.utils.helper_utils import optimizer_to"
   ]
  },
  {
   "cell_type": "code",
   "execution_count": 2,
   "metadata": {},
   "outputs": [],
   "source": [
    "# import these if we want to debug a model such as seq2seq_nl_baseline.py\n",
    "\n",
    "import torch\n",
    "import pprint\n",
    "import json\n",
    "from data.preprocess import Dataset\n",
    "from importlib import import_module, reload\n",
    "from argparse import ArgumentDefaultsHelpFormatter, ArgumentParser\n",
    "from models.utils.helper_utils import optimizer_to"
   ]
  },
  {
   "cell_type": "markdown",
   "metadata": {},
   "source": [
    "# Parser"
   ]
  },
  {
   "cell_type": "code",
   "execution_count": 3,
   "metadata": {},
   "outputs": [],
   "source": [
    "# These are the default flags present in train_seq2seq.py\n",
    "\n",
    "parser = ArgumentParser(formatter_class=ArgumentDefaultsHelpFormatter)\n",
    "args = parser.parse_args('')\n",
    "\n",
    "# settings\n",
    "args.seed = 123\n",
    "args.data = 'data/json_feat_2.1.0'\n",
    "args.splits = 'data/splits/oct21.json'\n",
    "args.preprocess = False #!\n",
    "args.pp_folder = 'pp'\n",
    "args.monitor_train_every = 10\n",
    "args.save_every_epoch = False #!\n",
    "args.model = 'seq2seq_nl_baseline'\n",
    "args.gpu = True\n",
    "args.dout = 'exp/model:seq2seq_nl_baseline'\n",
    "args.resume = False #!\n",
    "\n",
    "# hyper parameters\n",
    "args.batch = 8\n",
    "args.epoch = 20\n",
    "args.lr = 1e-4\n",
    "args.decay_epoch = 10\n",
    "args.dhid = 512\n",
    "args.dframe = 2500\n",
    "args.demb = 100\n",
    "args.pframe = 300\n",
    "args.mask_loss_wt = 1.\n",
    "args.action_loss_wt = 1.\n",
    "args.subgoal_aux_loss_wt = 0.\n",
    "args.pm_aux_loss_wt = 0.\n",
    "\n",
    "# dropouts\n",
    "args.zero_goal = False #!\n",
    "args.zero_instr = False #!\n",
    "args.act_dropout = 0.\n",
    "args.lang_dropout = 0.\n",
    "args.input_dropout = 0.\n",
    "args.vis_dropout = 0.3\n",
    "args.hstate_dropout = 0.3\n",
    "args.attn_dropout = 0.\n",
    "args.actor_dropout = 0.\n",
    "args.word_dropout = 0.\n",
    "\n",
    "# other settings\n",
    "args.dec_teacher_forcing = False #!\n",
    "args.temp_no_history = False #!\n",
    "\n",
    "# debugging\n",
    "args.fast_epoch = False #!\n",
    "args.dataset_fraction = 0"
   ]
  },
  {
   "cell_type": "code",
   "execution_count": 4,
   "metadata": {},
   "outputs": [],
   "source": [
    "# overwrite the default flags\n",
    "\n",
    "args.preprocess = False # Turn this to True if running for the first time\n",
    "\n",
    "args.model = 'seq2seq_nl_baseline'  # found under models/model/ directory\n",
    "args.dout = 'exp/model:seq2seq_nl_baseline'\n",
    "\n",
    "args.dec_teacher_forcing = True\n",
    "args.gpu = False\n",
    "\n",
    "# light setup for debugging\n",
    "args.fast_epoch = True # Turn this to False if running for the first time to preprocess data properly\n",
    "args.epoch = 20"
   ]
  },
  {
   "cell_type": "code",
   "execution_count": 5,
   "metadata": {},
   "outputs": [
    {
     "data": {
      "text/plain": [
       "<torch._C.Generator at 0x7f92fc05f670>"
      ]
     },
     "execution_count": 5,
     "metadata": {},
     "output_type": "execute_result"
    }
   ],
   "source": [
    "torch.manual_seed(args.seed)"
   ]
  },
  {
   "cell_type": "markdown",
   "metadata": {},
   "source": [
    "# Setup and load data splits"
   ]
  },
  {
   "cell_type": "code",
   "execution_count": 6,
   "metadata": {},
   "outputs": [
    {
     "name": "stdout",
     "output_type": "stream",
     "text": [
      "args.out  exp/model:seq2seq_nl_baseline\n"
     ]
    }
   ],
   "source": [
    "# make output dir\n",
    "if not os.path.isdir(args.dout):\n",
    "    os.makedirs(args.dout)\n",
    "\n",
    "print('args.out ', args.dout)"
   ]
  },
  {
   "cell_type": "code",
   "execution_count": 7,
   "metadata": {},
   "outputs": [
    {
     "name": "stdout",
     "output_type": "stream",
     "text": [
      "{'tests_seen': 1533,\n",
      " 'tests_unseen': 1529,\n",
      " 'train': 21023,\n",
      " 'valid_seen': 820,\n",
      " 'valid_unseen': 821}\n"
     ]
    }
   ],
   "source": [
    "# load train/valid/tests splits\n",
    "with open(args.splits) as f:\n",
    "    splits = json.load(f)\n",
    "    pprint.pprint({k: len(v) for k, v in splits.items()})"
   ]
  },
  {
   "cell_type": "code",
   "execution_count": 8,
   "metadata": {},
   "outputs": [
    {
     "name": "stdout",
     "output_type": "stream",
     "text": [
      "{'word': Vocab(2360), 'action_low': Vocab(15), 'action_high': Vocab(93)}\n"
     ]
    }
   ],
   "source": [
    "# preprocess and save -- only need to preprocess once\n",
    "if args.preprocess:\n",
    "    print(\"\\nPreprocessing dataset and saving to %s folders ... This will take a while. Do this once as required.\" % args.pp_folder)\n",
    "    dataset = Dataset(args, None)\n",
    "    dataset.preprocess_splits(splits)\n",
    "    vocab = torch.load(os.path.join(args.dout, \"%s.vocab\" % args.pp_folder))\n",
    "else:\n",
    "    vocab = torch.load(os.path.join(args.data, \"%s.vocab\" % args.pp_folder))\n",
    "    \n",
    "print(vocab)"
   ]
  },
  {
   "cell_type": "markdown",
   "metadata": {},
   "source": [
    "# Model and Training"
   ]
  },
  {
   "cell_type": "code",
   "execution_count": 9,
   "metadata": {},
   "outputs": [],
   "source": [
    "# load the model architecture\n",
    "args.gpu = False\n",
    "args.resume = None # os.path.join(args.dout, 'best_seen.pth')\n",
    "\n",
    "M = import_module('model.{}'.format(args.model))\n",
    "if args.resume:\n",
    "    print(\"Loading: \" + args.resume)\n",
    "    model, optimizer, start_epoch = M.Module.load(args.resume)\n",
    "    print(\"Restarting at epoch {}/{}\".format(start_epoch, args.epoch-1))\n",
    "    if start_epoch >= args.epoch:\n",
    "        print('Checkpoint already finished {}/{} epochs.'.format(start_epoch, args.epoch))\n",
    "        sys.exit(0)\n",
    "else:\n",
    "    model = M.Module(args, vocab)\n",
    "    optimizer = None\n",
    "    start_epoch = 0\n",
    "\n",
    "if args.gpu:\n",
    "    model = model.to(torch.device('cuda'))\n",
    "    if not optimizer is None:\n",
    "        optimizer_to(optimizer, torch.device('cuda'))"
   ]
  },
  {
   "cell_type": "code",
   "execution_count": 10,
   "metadata": {
    "scrolled": false
   },
   "outputs": [
    {
     "data": {
      "text/plain": [
       "Module(\n",
       "  (emb_word): Embedding(2360, 100)\n",
       "  (emb_action_low): Embedding(15, 100)\n",
       "  (enc): LSTM(100, 512, batch_first=True, bidirectional=True)\n",
       "  (enc_att): SelfAttn(\n",
       "    (scorer): Linear(in_features=1024, out_features=1, bias=True)\n",
       "  )\n",
       "  (dec): LanguageDecoder(\n",
       "    (emb): Embedding(2360, 100)\n",
       "    (cell): LSTMCell(1124, 1024)\n",
       "    (attn): DotAttn()\n",
       "    (input_dropout): Dropout(p=0.0, inplace=False)\n",
       "    (attn_dropout): Dropout(p=0.0, inplace=False)\n",
       "    (hstate_dropout): Dropout(p=0.3, inplace=False)\n",
       "    (word_dropout): Dropout(p=0.0, inplace=False)\n",
       "    (word): Linear(in_features=2148, out_features=100, bias=True)\n",
       "    (h_tm1_fc): Linear(in_features=1024, out_features=1024, bias=True)\n",
       "  )\n",
       "  (act_dropout): Dropout(p=0.0, inplace=True)\n",
       ")"
      ]
     },
     "execution_count": 10,
     "metadata": {},
     "output_type": "execute_result"
    }
   ],
   "source": [
    "# examine model layers\n",
    "model"
   ]
  },
  {
   "cell_type": "code",
   "execution_count": 11,
   "metadata": {
    "scrolled": true
   },
   "outputs": [
    {
     "name": "stderr",
     "output_type": "stream",
     "text": [
      "epoch:   0%|          | 0/20 [00:00<?, ?it/s]\n",
      "batch:   0%|          | 0/2 [00:00<?, ?it/s]\u001b[A"
     ]
    },
    {
     "name": "stdout",
     "output_type": "stream",
     "text": [
      "Saving to: exp/model:seq2seq_nl_baseline\n"
     ]
    },
    {
     "name": "stderr",
     "output_type": "stream",
     "text": [
      "\n",
      "batch:  50%|█████     | 1/2 [00:04<00:04,  4.96s/it]\u001b[A\n",
      "batch: 100%|██████████| 2/2 [00:10<00:00,  5.35s/it]\u001b[A\n",
      "\n",
      "batch:   0%|          | 0/2 [00:00<?, ?it/s]\u001b[A\n",
      "batch:  50%|█████     | 1/2 [00:03<00:03,  3.95s/it]\u001b[A\n",
      "batch: 100%|██████████| 2/2 [00:06<00:00,  3.21s/it]\u001b[A\n",
      "/opt/conda/envs/pytorch-py3.6/lib/python3.6/site-packages/nltk/translate/bleu_score.py:523: UserWarning: \n",
      "The hypothesis contains 0 counts of 2-gram overlaps.\n",
      "Therefore the BLEU score evaluates to 0, independently of\n",
      "how many N-gram overlaps of lower order it contains.\n",
      "Consider using lower n-gram order or use SmoothingFunction()\n",
      "  warnings.warn(_msg)\n",
      "/opt/conda/envs/pytorch-py3.6/lib/python3.6/site-packages/nltk/translate/bleu_score.py:523: UserWarning: \n",
      "The hypothesis contains 0 counts of 3-gram overlaps.\n",
      "Therefore the BLEU score evaluates to 0, independently of\n",
      "how many N-gram overlaps of lower order it contains.\n",
      "Consider using lower n-gram order or use SmoothingFunction()\n",
      "  warnings.warn(_msg)\n",
      "/opt/conda/envs/pytorch-py3.6/lib/python3.6/site-packages/nltk/translate/bleu_score.py:523: UserWarning: \n",
      "The hypothesis contains 0 counts of 4-gram overlaps.\n",
      "Therefore the BLEU score evaluates to 0, independently of\n",
      "how many N-gram overlaps of lower order it contains.\n",
      "Consider using lower n-gram order or use SmoothingFunction()\n",
      "  warnings.warn(_msg)\n",
      "\n",
      "batch:   0%|          | 0/2 [00:00<?, ?it/s]\u001b[A\n",
      "batch:  50%|█████     | 1/2 [00:02<00:02,  2.89s/it]\u001b[A\n",
      "batch: 100%|██████████| 2/2 [00:04<00:00,  2.40s/it]\u001b[A\n"
     ]
    },
    {
     "name": "stdout",
     "output_type": "stream",
     "text": [
      "\n",
      "Found new best valid_seen!! Saving...\n",
      "Found new best valid_unseen!! Saving...\n"
     ]
    },
    {
     "name": "stderr",
     "output_type": "stream",
     "text": [
      "epoch:   5%|▌         | 1/20 [00:29<09:26, 29.80s/it]\n",
      "batch:   0%|          | 0/2 [00:00<?, ?it/s]\u001b[A"
     ]
    },
    {
     "name": "stdout",
     "output_type": "stream",
     "text": [
      "{'epoch': 0,\n",
      " 'train': {'loss_lang_instr': 5.071922063827515,\n",
      "           'total_loss': 5.071922063827515},\n",
      " 'valid_seen': {'BLEU': 3.471718950714187e-232,\n",
      "                'loss_lang_instr': 4.792473793029785,\n",
      "                'total_loss': 4.792473793029785},\n",
      " 'valid_unseen': {'BLEU': 2.8859132646597725e-232,\n",
      "                  'loss_lang_instr': 4.029761552810669,\n",
      "                  'total_loss': 4.029761552810669}}\n",
      "epoch_time                    29.8                                    \n",
      "forward_batch_train           10.712                                  \n",
      "forward_batch_valid_seen      6.431                                   \n",
      "forward_batch_valid_unseen    4.808                                   \n",
      "compute_metrics_valid_seen    3.995                                   \n",
      "compute_metrics_valid_unseen  3.379                                   \n",
      "torch_save_valid_unseen       0.114                                   \n",
      "torch_save_valid_seen         0.113                                   \n",
      "torch_save_last               0.112                                   \n",
      "make_debug_valid_seen         0.089                                   \n",
      "make_debug_valid_unseen       0.043                                   \n",
      "setup_time                    0.001                                   \n",
      "compute_metrics_train         0.0                                     \n",
      "make_debug_train              0.0                                     \n"
     ]
    },
    {
     "name": "stderr",
     "output_type": "stream",
     "text": [
      "\n",
      "batch:  50%|█████     | 1/2 [00:02<00:02,  2.88s/it]\u001b[A\n",
      "batch: 100%|██████████| 2/2 [00:05<00:00,  2.76s/it]\u001b[A\n",
      "\n",
      "batch:   0%|          | 0/2 [00:00<?, ?it/s]\u001b[A\n",
      "batch:  50%|█████     | 1/2 [00:01<00:01,  1.36s/it]\u001b[A\n",
      "batch: 100%|██████████| 2/2 [00:02<00:00,  1.24s/it]\u001b[A\n",
      "\n",
      "batch:   0%|          | 0/2 [00:00<?, ?it/s]\u001b[A\n",
      "batch:  50%|█████     | 1/2 [00:01<00:01,  1.04s/it]\u001b[A\n",
      "batch: 100%|██████████| 2/2 [00:02<00:00,  1.07s/it]\u001b[A\n"
     ]
    },
    {
     "name": "stdout",
     "output_type": "stream",
     "text": [
      "\n",
      "Found new best valid_seen!! Saving...\n",
      "Found new best valid_unseen!! Saving...\n"
     ]
    },
    {
     "name": "stderr",
     "output_type": "stream",
     "text": [
      "epoch:  10%|█         | 2/20 [00:45<07:38, 25.49s/it]\n",
      "batch:   0%|          | 0/2 [00:00<?, ?it/s]\u001b[A"
     ]
    },
    {
     "name": "stdout",
     "output_type": "stream",
     "text": [
      "{'epoch': 1,\n",
      " 'train': {'loss_lang_instr': 4.661640405654907,\n",
      "           'total_loss': 4.661640405654907},\n",
      " 'valid_seen': {'BLEU': 1.0420441773186205e-156,\n",
      "                'loss_lang_instr': 4.327688097953796,\n",
      "                'total_loss': 4.327688097953796},\n",
      " 'valid_unseen': {'BLEU': 6.4378053614892896e-232,\n",
      "                  'loss_lang_instr': 3.788380742073059,\n",
      "                  'total_loss': 3.788380742073059}}\n",
      "epoch_time                    45.241                                  \n",
      "forward_batch_train           16.23                                   \n",
      "forward_batch_valid_seen      8.919                                   \n",
      "forward_batch_valid_unseen    6.972                                   \n",
      "compute_metrics_valid_seen    4.249                                   \n",
      "compute_metrics_valid_unseen  3.649                                   \n",
      "torch_save_valid_seen         3.436                                   \n",
      "torch_save_last               1.241                                   \n",
      "torch_save_valid_unseen       0.266                                   \n",
      "make_debug_valid_seen         0.137                                   \n",
      "make_debug_valid_unseen       0.134                                   \n",
      "setup_time                    0.001                                   \n",
      "compute_metrics_train         0.001                                   \n",
      "make_debug_train              0.0                                     \n"
     ]
    },
    {
     "name": "stderr",
     "output_type": "stream",
     "text": [
      "\n",
      "batch:  50%|█████     | 1/2 [00:03<00:03,  3.98s/it]\u001b[A\n",
      "batch: 100%|██████████| 2/2 [00:07<00:00,  3.87s/it]\u001b[A\n",
      "\n",
      "batch:   0%|          | 0/2 [00:00<?, ?it/s]\u001b[A\n",
      "batch:  50%|█████     | 1/2 [00:01<00:01,  1.43s/it]\u001b[A\n",
      "batch: 100%|██████████| 2/2 [00:02<00:00,  1.43s/it]\u001b[A\n",
      "\n",
      "batch:   0%|          | 0/2 [00:00<?, ?it/s]\u001b[A\n",
      "batch:  50%|█████     | 1/2 [00:01<00:01,  1.59s/it]\u001b[A\n",
      "batch: 100%|██████████| 2/2 [00:03<00:00,  1.66s/it]\u001b[A\n"
     ]
    },
    {
     "name": "stdout",
     "output_type": "stream",
     "text": [
      "\n",
      "Found new best valid_seen!! Saving...\n",
      "Found new best valid_unseen!! Saving...\n"
     ]
    },
    {
     "name": "stderr",
     "output_type": "stream",
     "text": [
      "epoch:  15%|█▌        | 3/20 [01:00<06:23, 22.53s/it]\n",
      "batch:   0%|          | 0/2 [00:00<?, ?it/s]\u001b[A"
     ]
    },
    {
     "name": "stdout",
     "output_type": "stream",
     "text": [
      "{'epoch': 2,\n",
      " 'train': {'loss_lang_instr': 4.332609176635742,\n",
      "           'total_loss': 4.332609176635742},\n",
      " 'valid_seen': {'BLEU': 1.1532114505674793e-156,\n",
      "                'loss_lang_instr': 4.21867561340332,\n",
      "                'total_loss': 4.21867561340332},\n",
      " 'valid_unseen': {'BLEU': 1.1667015974228088e-156,\n",
      "                  'loss_lang_instr': 3.5581694841384888,\n",
      "                  'total_loss': 3.5581694841384888}}\n",
      "epoch_time                    60.856                                  \n",
      "forward_batch_train           23.966                                  \n",
      "forward_batch_valid_seen      11.81                                   \n",
      "forward_batch_valid_unseen    10.322                                  \n",
      "compute_metrics_valid_seen    4.519                                   \n",
      "torch_save_valid_seen         4.102                                   \n",
      "compute_metrics_valid_unseen  3.907                                   \n",
      "torch_save_last               1.393                                   \n",
      "torch_save_valid_unseen       0.416                                   \n",
      "make_debug_valid_seen         0.229                                   \n",
      "make_debug_valid_unseen       0.179                                   \n",
      "compute_metrics_train         0.001                                   \n",
      "setup_time                    0.001                                   \n",
      "make_debug_train              0.0                                     \n"
     ]
    },
    {
     "name": "stderr",
     "output_type": "stream",
     "text": [
      "\n",
      "batch:  50%|█████     | 1/2 [00:03<00:03,  3.38s/it]\u001b[A\n",
      "batch: 100%|██████████| 2/2 [00:06<00:00,  3.38s/it]\u001b[A\n",
      "\n",
      "batch:   0%|          | 0/2 [00:00<?, ?it/s]\u001b[A\n",
      "batch:  50%|█████     | 1/2 [00:01<00:01,  1.35s/it]\u001b[A\n",
      "batch: 100%|██████████| 2/2 [00:02<00:00,  1.27s/it]\u001b[A\n",
      "\n",
      "batch:   0%|          | 0/2 [00:00<?, ?it/s]\u001b[A\n",
      "batch:  50%|█████     | 1/2 [00:01<00:01,  1.40s/it]\u001b[A\n",
      "batch: 100%|██████████| 2/2 [00:02<00:00,  1.36s/it]\u001b[A\n"
     ]
    },
    {
     "name": "stdout",
     "output_type": "stream",
     "text": [
      "Found new best valid_unseen!! Saving...\n"
     ]
    },
    {
     "name": "stderr",
     "output_type": "stream",
     "text": [
      "epoch:  20%|██        | 4/20 [01:14<05:17, 19.84s/it]\n",
      "batch:   0%|          | 0/2 [00:00<?, ?it/s]\u001b[A"
     ]
    },
    {
     "name": "stdout",
     "output_type": "stream",
     "text": [
      "{'epoch': 3,\n",
      " 'train': {'loss_lang_instr': 4.126596212387085,\n",
      "           'total_loss': 4.126596212387085},\n",
      " 'valid_seen': {'BLEU': 1.1532114505674793e-156,\n",
      "                'loss_lang_instr': 4.300110816955566,\n",
      "                'total_loss': 4.300110816955566},\n",
      " 'valid_unseen': {'BLEU': 2.1693517720781004e-156,\n",
      "                  'loss_lang_instr': 3.5424221754074097,\n",
      "                  'total_loss': 3.5424221754074097}}\n",
      "epoch_time                    74.406                                  \n",
      "forward_batch_train           30.726                                  \n",
      "forward_batch_valid_seen      14.371                                  \n",
      "forward_batch_valid_unseen    13.071                                  \n",
      "compute_metrics_valid_seen    4.793                                   \n",
      "compute_metrics_valid_unseen  4.167                                   \n",
      "torch_save_valid_seen         4.102                                   \n",
      "torch_save_last               1.541                                   \n",
      "torch_save_valid_unseen       1.074                                   \n",
      "make_debug_valid_seen         0.275                                   \n",
      "make_debug_valid_unseen       0.27                                    \n",
      "compute_metrics_train         0.001                                   \n",
      "setup_time                    0.001                                   \n",
      "make_debug_train              0.0                                     \n"
     ]
    },
    {
     "name": "stderr",
     "output_type": "stream",
     "text": [
      "\n",
      "batch:  50%|█████     | 1/2 [00:03<00:03,  3.25s/it]\u001b[A\n",
      "batch: 100%|██████████| 2/2 [00:07<00:00,  3.53s/it]\u001b[A\n",
      "\n",
      "batch:   0%|          | 0/2 [00:00<?, ?it/s]\u001b[A\n",
      "batch:  50%|█████     | 1/2 [00:01<00:01,  1.32s/it]\u001b[A\n",
      "batch: 100%|██████████| 2/2 [00:02<00:00,  1.26s/it]\u001b[A\n",
      "\n",
      "batch:   0%|          | 0/2 [00:00<?, ?it/s]\u001b[A\n",
      "batch:  50%|█████     | 1/2 [00:01<00:01,  1.26s/it]\u001b[A\n",
      "batch: 100%|██████████| 2/2 [00:02<00:00,  1.26s/it]\u001b[A\n"
     ]
    },
    {
     "name": "stdout",
     "output_type": "stream",
     "text": [
      "\n",
      "Found new best valid_seen!! Saving...\n",
      "Found new best valid_unseen!! Saving...\n"
     ]
    },
    {
     "name": "stderr",
     "output_type": "stream",
     "text": [
      "epoch:  25%|██▌       | 5/20 [01:28<04:30, 18.03s/it]\n",
      "batch:   0%|          | 0/2 [00:00<?, ?it/s]\u001b[A"
     ]
    },
    {
     "name": "stdout",
     "output_type": "stream",
     "text": [
      "{'epoch': 4,\n",
      " 'train': {'loss_lang_instr': 4.101462244987488,\n",
      "           'total_loss': 4.101462244987488},\n",
      " 'valid_seen': {'BLEU': 3.05968150351665e-80,\n",
      "                'loss_lang_instr': 4.090612888336182,\n",
      "                'total_loss': 4.090612888336182},\n",
      " 'valid_unseen': {'BLEU': 6.397363076815268e-80,\n",
      "                  'loss_lang_instr': 3.4359012842178345,\n",
      "                  'total_loss': 3.4359012842178345}}\n",
      "epoch_time                    88.218                                  \n",
      "forward_batch_train           37.782                                  \n",
      "forward_batch_valid_seen      16.907                                  \n",
      "forward_batch_valid_unseen    15.601                                  \n",
      "compute_metrics_valid_seen    5.069                                   \n",
      "torch_save_valid_seen         4.758                                   \n",
      "compute_metrics_valid_unseen  4.477                                   \n",
      "torch_save_last               1.692                                   \n",
      "torch_save_valid_unseen       1.225                                   \n",
      "make_debug_valid_seen         0.371                                   \n",
      "make_debug_valid_unseen       0.315                                   \n",
      "compute_metrics_train         0.001                                   \n",
      "setup_time                    0.001                                   \n",
      "make_debug_train              0.0                                     \n"
     ]
    },
    {
     "name": "stderr",
     "output_type": "stream",
     "text": [
      "\n",
      "batch:  50%|█████     | 1/2 [00:02<00:02,  2.85s/it]\u001b[A\n",
      "batch: 100%|██████████| 2/2 [00:07<00:00,  3.73s/it]\u001b[A\n",
      "\n",
      "batch:   0%|          | 0/2 [00:00<?, ?it/s]\u001b[A\n",
      "batch:  50%|█████     | 1/2 [00:01<00:01,  1.39s/it]\u001b[A\n",
      "batch: 100%|██████████| 2/2 [00:02<00:00,  1.42s/it]\u001b[A\n",
      "\n",
      "batch:   0%|          | 0/2 [00:00<?, ?it/s]\u001b[A\n",
      "batch:  50%|█████     | 1/2 [00:01<00:01,  1.20s/it]\u001b[A\n",
      "batch: 100%|██████████| 2/2 [00:02<00:00,  1.31s/it]\u001b[A\n"
     ]
    },
    {
     "name": "stdout",
     "output_type": "stream",
     "text": [
      "Found new best valid_unseen!! Saving...\n"
     ]
    },
    {
     "name": "stderr",
     "output_type": "stream",
     "text": [
      "epoch:  30%|███       | 6/20 [01:42<03:57, 16.98s/it]\n",
      "batch:   0%|          | 0/2 [00:00<?, ?it/s]\u001b[A"
     ]
    },
    {
     "name": "stdout",
     "output_type": "stream",
     "text": [
      "{'epoch': 5,\n",
      " 'train': {'loss_lang_instr': 3.7053922414779663,\n",
      "           'total_loss': 3.7053922414779663},\n",
      " 'valid_seen': {'BLEU': 3.05968150351665e-80,\n",
      "                'loss_lang_instr': 4.1355592012405396,\n",
      "                'total_loss': 4.1355592012405396},\n",
      " 'valid_unseen': {'BLEU': 6.461741836178205e-80,\n",
      "                  'loss_lang_instr': 3.4506880044937134,\n",
      "                  'total_loss': 3.4506880044937134}}\n",
      "epoch_time                    102.734                                 \n",
      "forward_batch_train           45.247                                  \n",
      "forward_batch_valid_seen      19.764                                  \n",
      "forward_batch_valid_unseen    18.245                                  \n",
      "compute_metrics_valid_seen    5.333                                   \n",
      "compute_metrics_valid_unseen  4.76                                    \n",
      "torch_save_valid_seen         4.758                                   \n",
      "torch_save_valid_unseen       1.887                                   \n",
      "torch_save_last               1.841                                   \n",
      "make_debug_valid_seen         0.464                                   \n",
      "make_debug_valid_unseen       0.408                                   \n",
      "compute_metrics_train         0.001                                   \n",
      "setup_time                    0.001                                   \n",
      "make_debug_train              0.0                                     \n"
     ]
    },
    {
     "name": "stderr",
     "output_type": "stream",
     "text": [
      "\n",
      "batch:  50%|█████     | 1/2 [00:05<00:05,  5.35s/it]\u001b[A\n",
      "batch: 100%|██████████| 2/2 [00:08<00:00,  4.22s/it]\u001b[A\n",
      "\n",
      "batch:   0%|          | 0/2 [00:00<?, ?it/s]\u001b[A\n",
      "batch:  50%|█████     | 1/2 [00:01<00:01,  1.41s/it]\u001b[A\n",
      "batch: 100%|██████████| 2/2 [00:02<00:00,  1.33s/it]\u001b[A\n",
      "\n",
      "batch:   0%|          | 0/2 [00:00<?, ?it/s]\u001b[A\n",
      "batch:  50%|█████     | 1/2 [00:01<00:01,  1.50s/it]\u001b[A\n",
      "batch: 100%|██████████| 2/2 [00:04<00:00,  2.05s/it]\u001b[A\n"
     ]
    },
    {
     "name": "stdout",
     "output_type": "stream",
     "text": [
      "\n",
      "Found new best valid_seen!! Saving...\n",
      "Found new best valid_unseen!! Saving...\n"
     ]
    },
    {
     "name": "stderr",
     "output_type": "stream",
     "text": [
      "epoch:  35%|███▌      | 7/20 [01:59<03:40, 16.96s/it]\n",
      "batch:   0%|          | 0/2 [00:00<?, ?it/s]\u001b[A"
     ]
    },
    {
     "name": "stdout",
     "output_type": "stream",
     "text": [
      "{'epoch': 6,\n",
      " 'train': {'loss_lang_instr': 3.6735459566116333,\n",
      "           'total_loss': 3.6735459566116333},\n",
      " 'valid_seen': {'BLEU': 3.3230108299214737e-80,\n",
      "                'loss_lang_instr': 4.290937900543213,\n",
      "                'total_loss': 4.290937900543213},\n",
      " 'valid_unseen': {'BLEU': 6.95797567463231e-80,\n",
      "                  'loss_lang_instr': 3.5591847896575928,\n",
      "                  'total_loss': 3.5591847896575928}}\n",
      "epoch_time                    119.668                                 \n",
      "forward_batch_train           53.698                                  \n",
      "forward_batch_valid_seen      22.45                                   \n",
      "forward_batch_valid_unseen    22.375                                  \n",
      "compute_metrics_valid_seen    5.613                                   \n",
      "torch_save_valid_seen         5.415                                   \n",
      "compute_metrics_valid_unseen  5.034                                   \n",
      "torch_save_valid_unseen       2.036                                   \n",
      "torch_save_last               1.994                                   \n",
      "make_debug_valid_seen         0.571                                   \n",
      "make_debug_valid_unseen       0.452                                   \n",
      "compute_metrics_train         0.002                                   \n",
      "setup_time                    0.001                                   \n",
      "make_debug_train              0.0                                     \n"
     ]
    },
    {
     "name": "stderr",
     "output_type": "stream",
     "text": [
      "\n",
      "batch:  50%|█████     | 1/2 [00:03<00:03,  3.70s/it]\u001b[A\n",
      "batch: 100%|██████████| 2/2 [00:08<00:00,  4.06s/it]\u001b[A\n",
      "\n",
      "batch:   0%|          | 0/2 [00:00<?, ?it/s]\u001b[A\n",
      "batch:  50%|█████     | 1/2 [00:01<00:01,  1.45s/it]\u001b[A\n",
      "batch: 100%|██████████| 2/2 [00:02<00:00,  1.38s/it]\u001b[A\n",
      "\n",
      "batch:   0%|          | 0/2 [00:00<?, ?it/s]\u001b[A\n",
      "batch:  50%|█████     | 1/2 [00:01<00:01,  1.23s/it]\u001b[A\n",
      "batch: 100%|██████████| 2/2 [00:02<00:00,  1.22s/it]\u001b[A\n"
     ]
    },
    {
     "name": "stdout",
     "output_type": "stream",
     "text": [
      "\n",
      "Found new best valid_seen!! Saving...\n",
      "Found new best valid_unseen!! Saving...\n"
     ]
    },
    {
     "name": "stderr",
     "output_type": "stream",
     "text": [
      "epoch:  40%|████      | 8/20 [02:14<03:16, 16.40s/it]\n",
      "batch:   0%|          | 0/2 [00:00<?, ?it/s]\u001b[A"
     ]
    },
    {
     "name": "stdout",
     "output_type": "stream",
     "text": [
      "{'epoch': 7,\n",
      " 'train': {'loss_lang_instr': 3.5684820413589478,\n",
      "           'total_loss': 3.5684820413589478},\n",
      " 'valid_seen': {'BLEU': 0.0010979161592196537,\n",
      "                'loss_lang_instr': 4.2684584856033325,\n",
      "                'total_loss': 4.2684584856033325},\n",
      " 'valid_unseen': {'BLEU': 8.332688496156772e-80,\n",
      "                  'loss_lang_instr': 3.5604666471481323,\n",
      "                  'total_loss': 3.5604666471481323}}\n",
      "epoch_time                    134.75                                  \n",
      "forward_batch_train           61.819                                  \n",
      "forward_batch_valid_seen      25.224                                  \n",
      "forward_batch_valid_unseen    24.836                                  \n",
      "torch_save_valid_seen         6.073                                   \n",
      "compute_metrics_valid_seen    5.913                                   \n",
      "compute_metrics_valid_unseen  5.314                                   \n",
      "torch_save_valid_unseen       2.186                                   \n",
      "torch_save_last               2.143                                   \n",
      "make_debug_valid_seen         0.662                                   \n",
      "make_debug_valid_unseen       0.546                                   \n",
      "compute_metrics_train         0.002                                   \n",
      "setup_time                    0.001                                   \n",
      "make_debug_train              0.0                                     \n"
     ]
    },
    {
     "name": "stderr",
     "output_type": "stream",
     "text": [
      "\n",
      "batch:  50%|█████     | 1/2 [00:03<00:03,  3.21s/it]\u001b[A\n",
      "batch: 100%|██████████| 2/2 [00:06<00:00,  3.44s/it]\u001b[A\n",
      "\n",
      "batch:   0%|          | 0/2 [00:00<?, ?it/s]\u001b[A\n",
      "batch:  50%|█████     | 1/2 [00:01<00:01,  1.39s/it]\u001b[A\n",
      "batch: 100%|██████████| 2/2 [00:02<00:00,  1.26s/it]\u001b[A\n",
      "\n",
      "batch:   0%|          | 0/2 [00:00<?, ?it/s]\u001b[A\n",
      "batch:  50%|█████     | 1/2 [00:01<00:01,  1.35s/it]\u001b[A\n",
      "batch: 100%|██████████| 2/2 [00:02<00:00,  1.25s/it]\u001b[A\n"
     ]
    },
    {
     "name": "stdout",
     "output_type": "stream",
     "text": [
      "Found new best valid_unseen!! Saving...\n"
     ]
    },
    {
     "name": "stderr",
     "output_type": "stream",
     "text": [
      "epoch:  45%|████▌     | 9/20 [02:28<02:50, 15.50s/it]\n",
      "batch:   0%|          | 0/2 [00:00<?, ?it/s]\u001b[A"
     ]
    },
    {
     "name": "stdout",
     "output_type": "stream",
     "text": [
      "{'epoch': 8,\n",
      " 'train': {'loss_lang_instr': 3.420241594314575,\n",
      "           'total_loss': 3.420241594314575},\n",
      " 'valid_seen': {'BLEU': 1.2449261541901141e-79,\n",
      "                'loss_lang_instr': 4.183590531349182,\n",
      "                'total_loss': 4.183590531349182},\n",
      " 'valid_unseen': {'BLEU': 1.1007265126069781e-79,\n",
      "                  'loss_lang_instr': 3.5060874223709106,\n",
      "                  'total_loss': 3.5060874223709106}}\n",
      "epoch_time                    148.159                                 \n",
      "forward_batch_train           68.699                                  \n",
      "forward_batch_valid_seen      27.762                                  \n",
      "forward_batch_valid_unseen    27.346                                  \n",
      "compute_metrics_valid_seen    6.178                                   \n",
      "torch_save_valid_seen         6.073                                   \n",
      "compute_metrics_valid_unseen  5.578                                   \n",
      "torch_save_valid_unseen       2.841                                   \n",
      "torch_save_last               2.294                                   \n",
      "make_debug_valid_seen         0.708                                   \n",
      "make_debug_valid_unseen       0.64                                    \n",
      "compute_metrics_train         0.002                                   \n",
      "setup_time                    0.001                                   \n",
      "make_debug_train              0.0                                     \n"
     ]
    },
    {
     "name": "stderr",
     "output_type": "stream",
     "text": [
      "\n",
      "batch:  50%|█████     | 1/2 [00:03<00:03,  3.51s/it]\u001b[A\n",
      "batch: 100%|██████████| 2/2 [00:06<00:00,  3.06s/it]\u001b[A\n",
      "\n",
      "batch:   0%|          | 0/2 [00:00<?, ?it/s]\u001b[A\n",
      "batch:  50%|█████     | 1/2 [00:01<00:01,  1.27s/it]\u001b[A\n",
      "batch: 100%|██████████| 2/2 [00:02<00:00,  1.26s/it]\u001b[A\n",
      "\n",
      "batch:   0%|          | 0/2 [00:00<?, ?it/s]\u001b[A\n",
      "batch:  50%|█████     | 1/2 [00:01<00:01,  1.31s/it]\u001b[A\n",
      "batch: 100%|██████████| 2/2 [00:02<00:00,  1.31s/it]\u001b[A\n"
     ]
    },
    {
     "name": "stdout",
     "output_type": "stream",
     "text": [
      "Found new best valid_unseen!! Saving...\n"
     ]
    },
    {
     "name": "stderr",
     "output_type": "stream",
     "text": [
      "epoch:  50%|█████     | 10/20 [02:41<02:27, 14.71s/it]\n",
      "batch:   0%|          | 0/2 [00:00<?, ?it/s]\u001b[A"
     ]
    },
    {
     "name": "stdout",
     "output_type": "stream",
     "text": [
      "{'epoch': 9,\n",
      " 'train': {'loss_lang_instr': 3.5509294271469116,\n",
      "           'total_loss': 3.5509294271469116},\n",
      " 'valid_seen': {'BLEU': 1.7796410444059788e-79,\n",
      "                'loss_lang_instr': 4.20244288444519,\n",
      "                'total_loss': 4.20244288444519},\n",
      " 'valid_unseen': {'BLEU': 0.0012093792678755603,\n",
      "                  'loss_lang_instr': 3.4363412857055664,\n",
      "                  'total_loss': 3.4363412857055664}}\n",
      "epoch_time                    161.009                                 \n",
      "forward_batch_train           74.813                                  \n",
      "forward_batch_valid_seen      30.294                                  \n",
      "forward_batch_valid_unseen    29.987                                  \n",
      "compute_metrics_valid_seen    6.487                                   \n",
      "torch_save_valid_seen         6.073                                   \n",
      "compute_metrics_valid_unseen  5.878                                   \n",
      "torch_save_valid_unseen       3.504                                   \n",
      "torch_save_last               2.443                                   \n",
      "make_debug_valid_seen         0.801                                   \n",
      "make_debug_valid_unseen       0.685                                   \n",
      "compute_metrics_train         0.002                                   \n",
      "setup_time                    0.001                                   \n",
      "make_debug_train              0.0                                     \n"
     ]
    },
    {
     "name": "stderr",
     "output_type": "stream",
     "text": [
      "\n",
      "batch:  50%|█████     | 1/2 [00:04<00:04,  4.46s/it]\u001b[A\n",
      "batch: 100%|██████████| 2/2 [00:08<00:00,  4.42s/it]\u001b[A\n",
      "\n",
      "batch:   0%|          | 0/2 [00:00<?, ?it/s]\u001b[A\n",
      "batch:  50%|█████     | 1/2 [00:01<00:01,  1.24s/it]\u001b[A\n",
      "batch: 100%|██████████| 2/2 [00:02<00:00,  1.19s/it]\u001b[A\n",
      "\n",
      "batch:   0%|          | 0/2 [00:00<?, ?it/s]\u001b[A\n",
      "batch:  50%|█████     | 1/2 [00:01<00:01,  1.33s/it]\u001b[A\n",
      "batch: 100%|██████████| 2/2 [00:02<00:00,  1.46s/it]\u001b[A\n"
     ]
    },
    {
     "name": "stdout",
     "output_type": "stream",
     "text": [
      "\n",
      "Found new best valid_seen!! Saving...\n"
     ]
    },
    {
     "name": "stderr",
     "output_type": "stream",
     "text": [
      "epoch:  55%|█████▌    | 11/20 [02:57<02:16, 15.15s/it]\n",
      "batch:   0%|          | 0/2 [00:00<?, ?it/s]\u001b[A"
     ]
    },
    {
     "name": "stdout",
     "output_type": "stream",
     "text": [
      "{'epoch': 10,\n",
      " 'train': {'BLEU': 0.007043339815624692,\n",
      "           'loss_lang_instr': 3.239856481552124,\n",
      "           'total_loss': 3.239856481552124},\n",
      " 'valid_seen': {'BLEU': 0.001420766451137129,\n",
      "                'loss_lang_instr': 4.201016783714294,\n",
      "                'total_loss': 4.201016783714294},\n",
      " 'valid_unseen': {'BLEU': 0.0012093792678755603,\n",
      "                  'loss_lang_instr': 3.4575302600860596,\n",
      "                  'total_loss': 3.4575302600860596}}\n",
      "epoch_time                    177.183                                 \n",
      "forward_batch_train           83.648                                  \n",
      "forward_batch_valid_unseen    32.938                                  \n",
      "forward_batch_valid_seen      32.699                                  \n",
      "compute_metrics_valid_seen    6.775                                   \n",
      "torch_save_valid_seen         6.732                                   \n",
      "compute_metrics_valid_unseen  6.156                                   \n",
      "torch_save_valid_unseen       3.504                                   \n",
      "torch_save_last               2.593                                   \n",
      "make_debug_valid_seen         0.902                                   \n",
      "make_debug_valid_unseen       0.732                                   \n",
      "compute_metrics_train         0.354                                   \n",
      "make_debug_train              0.103                                   \n",
      "setup_time                    0.001                                   \n"
     ]
    },
    {
     "name": "stderr",
     "output_type": "stream",
     "text": [
      "\n",
      "batch:  50%|█████     | 1/2 [00:03<00:03,  3.68s/it]\u001b[A\n",
      "batch: 100%|██████████| 2/2 [00:07<00:00,  3.60s/it]\u001b[A\n",
      "\n",
      "batch:   0%|          | 0/2 [00:00<?, ?it/s]\u001b[A\n",
      "batch:  50%|█████     | 1/2 [00:01<00:01,  1.48s/it]\u001b[A\n",
      "batch: 100%|██████████| 2/2 [00:02<00:00,  1.38s/it]\u001b[A\n",
      "\n",
      "batch:   0%|          | 0/2 [00:00<?, ?it/s]\u001b[A\n",
      "batch:  50%|█████     | 1/2 [00:01<00:01,  1.18s/it]\u001b[A\n",
      "batch: 100%|██████████| 2/2 [00:02<00:00,  1.18s/it]\u001b[A\n"
     ]
    },
    {
     "name": "stdout",
     "output_type": "stream",
     "text": [
      "\n",
      "Found new best valid_seen!! Saving...\n"
     ]
    },
    {
     "name": "stderr",
     "output_type": "stream",
     "text": [
      "epoch:  60%|██████    | 12/20 [03:11<01:58, 14.77s/it]\n",
      "batch:   0%|          | 0/2 [00:00<?, ?it/s]\u001b[A"
     ]
    },
    {
     "name": "stdout",
     "output_type": "stream",
     "text": [
      "{'epoch': 11,\n",
      " 'train': {'loss_lang_instr': 3.269356608390808,\n",
      "           'total_loss': 3.269356608390808},\n",
      " 'valid_seen': {'BLEU': 0.0017290277616482297,\n",
      "                'loss_lang_instr': 4.214152097702026,\n",
      "                'total_loss': 4.214152097702026},\n",
      " 'valid_unseen': {'BLEU': 0.0012093792678755603,\n",
      "                  'loss_lang_instr': 3.4412035942077637,\n",
      "                  'total_loss': 3.4412035942077637}}\n",
      "epoch_time                    191.073                                 \n",
      "forward_batch_train           90.852                                  \n",
      "forward_batch_valid_seen      35.474                                  \n",
      "forward_batch_valid_unseen    35.324                                  \n",
      "torch_save_valid_seen         7.386                                   \n",
      "compute_metrics_valid_seen    7.072                                   \n",
      "compute_metrics_valid_unseen  6.434                                   \n",
      "torch_save_valid_unseen       3.504                                   \n",
      "torch_save_last               2.744                                   \n",
      "make_debug_valid_seen         1.0                                     \n",
      "make_debug_valid_unseen       0.776                                   \n",
      "compute_metrics_train         0.354                                   \n",
      "make_debug_train              0.103                                   \n",
      "setup_time                    0.001                                   \n"
     ]
    },
    {
     "name": "stderr",
     "output_type": "stream",
     "text": [
      "\n",
      "batch:  50%|█████     | 1/2 [00:02<00:02,  2.94s/it]\u001b[A\n",
      "batch: 100%|██████████| 2/2 [00:05<00:00,  2.81s/it]\u001b[A\n",
      "\n",
      "batch:   0%|          | 0/2 [00:00<?, ?it/s]\u001b[A\n",
      "batch:  50%|█████     | 1/2 [00:01<00:01,  1.25s/it]\u001b[A\n",
      "batch: 100%|██████████| 2/2 [00:02<00:00,  1.22s/it]\u001b[A\n",
      "\n",
      "batch:   0%|          | 0/2 [00:00<?, ?it/s]\u001b[A\n",
      "batch:  50%|█████     | 1/2 [00:01<00:01,  1.29s/it]\u001b[A\n",
      "batch: 100%|██████████| 2/2 [00:03<00:00,  1.52s/it]\u001b[A\n",
      "epoch:  65%|██████▌   | 13/20 [03:24<01:39, 14.21s/it]\n",
      "batch:   0%|          | 0/2 [00:00<?, ?it/s]\u001b[A"
     ]
    },
    {
     "name": "stdout",
     "output_type": "stream",
     "text": [
      "{'epoch': 12,\n",
      " 'train': {'loss_lang_instr': 3.225303053855896,\n",
      "           'total_loss': 3.225303053855896},\n",
      " 'valid_seen': {'BLEU': 0.0017290277616482297,\n",
      "                'loss_lang_instr': 4.218314051628113,\n",
      "                'total_loss': 4.218314051628113},\n",
      " 'valid_unseen': {'BLEU': 0.0012093792678755603,\n",
      "                  'loss_lang_instr': 3.464127779006958,\n",
      "                  'total_loss': 3.464127779006958}}\n",
      "epoch_time                    203.978                                 \n",
      "forward_batch_train           96.466                                  \n",
      "forward_batch_valid_unseen    38.373                                  \n",
      "forward_batch_valid_seen      37.922                                  \n",
      "torch_save_valid_seen         7.386                                   \n",
      "compute_metrics_valid_seen    7.367                                   \n",
      "compute_metrics_valid_unseen  6.706                                   \n",
      "torch_save_last               3.782                                   \n",
      "torch_save_valid_unseen       3.504                                   \n",
      "make_debug_valid_seen         1.093                                   \n",
      "make_debug_valid_unseen       0.87                                    \n",
      "compute_metrics_train         0.354                                   \n",
      "make_debug_train              0.103                                   \n",
      "setup_time                    0.001                                   \n"
     ]
    },
    {
     "name": "stderr",
     "output_type": "stream",
     "text": [
      "\n",
      "batch:  50%|█████     | 1/2 [00:02<00:02,  2.57s/it]\u001b[A\n",
      "batch: 100%|██████████| 2/2 [00:05<00:00,  2.69s/it]\u001b[A\n",
      "\n",
      "batch:   0%|          | 0/2 [00:00<?, ?it/s]\u001b[A\n",
      "batch:  50%|█████     | 1/2 [00:01<00:01,  1.37s/it]\u001b[A\n",
      "batch: 100%|██████████| 2/2 [00:02<00:00,  1.24s/it]\u001b[A\n",
      "\n",
      "batch:   0%|          | 0/2 [00:00<?, ?it/s]\u001b[A\n",
      "batch:  50%|█████     | 1/2 [00:01<00:01,  1.25s/it]\u001b[A\n",
      "batch: 100%|██████████| 2/2 [00:02<00:00,  1.16s/it]\u001b[A\n",
      "epoch:  70%|███████   | 14/20 [03:35<01:20, 13.40s/it]\n",
      "batch:   0%|          | 0/2 [00:00<?, ?it/s]\u001b[A"
     ]
    },
    {
     "name": "stdout",
     "output_type": "stream",
     "text": [
      "{'epoch': 13,\n",
      " 'train': {'loss_lang_instr': 3.228430986404419,\n",
      "           'total_loss': 3.228430986404419},\n",
      " 'valid_seen': {'BLEU': 0.0017290277616482297,\n",
      "                'loss_lang_instr': 4.224886894226074,\n",
      "                'total_loss': 4.224886894226074},\n",
      " 'valid_unseen': {'BLEU': 0.0012093792678755603,\n",
      "                  'loss_lang_instr': 3.4623749256134033,\n",
      "                  'total_loss': 3.4623749256134033}}\n",
      "epoch_time                    215.495                                 \n",
      "forward_batch_train           101.84                                  \n",
      "forward_batch_valid_unseen    40.706                                  \n",
      "forward_batch_valid_seen      40.421                                  \n",
      "compute_metrics_valid_seen    7.628                                   \n",
      "torch_save_valid_seen         7.386                                   \n",
      "compute_metrics_valid_unseen  6.966                                   \n",
      "torch_save_last               4.435                                   \n",
      "torch_save_valid_unseen       3.504                                   \n",
      "make_debug_valid_seen         1.138                                   \n",
      "make_debug_valid_unseen       0.957                                   \n",
      "compute_metrics_train         0.355                                   \n",
      "make_debug_train              0.103                                   \n",
      "setup_time                    0.001                                   \n"
     ]
    },
    {
     "name": "stderr",
     "output_type": "stream",
     "text": [
      "\n",
      "batch:  50%|█████     | 1/2 [00:02<00:02,  2.60s/it]\u001b[A\n",
      "batch: 100%|██████████| 2/2 [00:06<00:00,  3.19s/it]\u001b[A\n",
      "\n",
      "batch:   0%|          | 0/2 [00:00<?, ?it/s]\u001b[A\n",
      "batch:  50%|█████     | 1/2 [00:02<00:02,  2.15s/it]\u001b[A\n",
      "batch: 100%|██████████| 2/2 [00:04<00:00,  2.25s/it]\u001b[A\n",
      "\n",
      "batch:   0%|          | 0/2 [00:00<?, ?it/s]\u001b[A\n",
      "batch:  50%|█████     | 1/2 [00:01<00:01,  1.26s/it]\u001b[A\n",
      "batch: 100%|██████████| 2/2 [00:02<00:00,  1.19s/it]\u001b[A\n"
     ]
    },
    {
     "name": "stdout",
     "output_type": "stream",
     "text": [
      "\n",
      "Found new best valid_seen!! Saving...\n"
     ]
    },
    {
     "name": "stderr",
     "output_type": "stream",
     "text": [
      "epoch:  75%|███████▌  | 15/20 [03:50<01:09, 13.82s/it]\n",
      "batch:   0%|          | 0/2 [00:00<?, ?it/s]\u001b[A"
     ]
    },
    {
     "name": "stdout",
     "output_type": "stream",
     "text": [
      "{'epoch': 14,\n",
      " 'train': {'loss_lang_instr': 3.2111645936965942,\n",
      "           'total_loss': 3.2111645936965942},\n",
      " 'valid_seen': {'BLEU': 0.004694297237361548,\n",
      "                'loss_lang_instr': 4.19797158241272,\n",
      "                'total_loss': 4.19797158241272},\n",
      " 'valid_unseen': {'BLEU': 0.0012093792678755603,\n",
      "                  'loss_lang_instr': 3.460483193397522,\n",
      "                  'total_loss': 3.460483193397522}}\n",
      "epoch_time                    230.298                                 \n",
      "forward_batch_train           108.23                                  \n",
      "forward_batch_valid_seen      44.942                                  \n",
      "forward_batch_valid_unseen    43.106                                  \n",
      "torch_save_valid_seen         8.048                                   \n",
      "compute_metrics_valid_seen    7.891                                   \n",
      "compute_metrics_valid_unseen  7.24                                    \n",
      "torch_save_last               4.584                                   \n",
      "torch_save_valid_unseen       3.504                                   \n",
      "make_debug_valid_seen         1.233                                   \n",
      "make_debug_valid_unseen       1.001                                   \n",
      "compute_metrics_train         0.355                                   \n",
      "make_debug_train              0.103                                   \n",
      "setup_time                    0.001                                   \n"
     ]
    },
    {
     "name": "stderr",
     "output_type": "stream",
     "text": [
      "\n",
      "batch:  50%|█████     | 1/2 [00:02<00:02,  2.66s/it]\u001b[A\n",
      "batch: 100%|██████████| 2/2 [00:05<00:00,  2.79s/it]\u001b[A\n",
      "\n",
      "batch:   0%|          | 0/2 [00:00<?, ?it/s]\u001b[A\n",
      "batch:  50%|█████     | 1/2 [00:01<00:01,  1.28s/it]\u001b[A\n",
      "batch: 100%|██████████| 2/2 [00:02<00:00,  1.19s/it]\u001b[A\n",
      "\n",
      "batch:   0%|          | 0/2 [00:00<?, ?it/s]\u001b[A\n",
      "batch:  50%|█████     | 1/2 [00:01<00:01,  1.16s/it]\u001b[A\n",
      "batch: 100%|██████████| 2/2 [00:02<00:00,  1.25s/it]\u001b[A\n"
     ]
    },
    {
     "name": "stdout",
     "output_type": "stream",
     "text": [
      "\n",
      "Found new best valid_seen!! Saving...\n",
      "Found new best valid_unseen!! Saving...\n"
     ]
    },
    {
     "name": "stderr",
     "output_type": "stream",
     "text": [
      "epoch:  80%|████████  | 16/20 [04:02<00:53, 13.33s/it]\n",
      "batch:   0%|          | 0/2 [00:00<?, ?it/s]\u001b[A"
     ]
    },
    {
     "name": "stdout",
     "output_type": "stream",
     "text": [
      "{'epoch': 15,\n",
      " 'train': {'loss_lang_instr': 3.230161666870117,\n",
      "           'total_loss': 3.230161666870117},\n",
      " 'valid_seen': {'BLEU': 0.005666077834081894,\n",
      "                'loss_lang_instr': 4.2196513414382935,\n",
      "                'total_loss': 4.2196513414382935},\n",
      " 'valid_unseen': {'BLEU': 0.003183516167733599,\n",
      "                  'loss_lang_instr': 3.4635472297668457,\n",
      "                  'total_loss': 3.4635472297668457}}\n",
      "epoch_time                    242.464                                 \n",
      "forward_batch_train           113.817                                 \n",
      "forward_batch_valid_seen      47.343                                  \n",
      "forward_batch_valid_unseen    45.628                                  \n",
      "torch_save_valid_seen         8.705                                   \n",
      "compute_metrics_valid_seen    8.165                                   \n",
      "compute_metrics_valid_unseen  7.513                                   \n",
      "torch_save_last               4.735                                   \n",
      "torch_save_valid_unseen       3.654                                   \n",
      "make_debug_valid_seen         1.284                                   \n",
      "make_debug_valid_unseen       1.097                                   \n",
      "compute_metrics_train         0.355                                   \n",
      "make_debug_train              0.103                                   \n",
      "setup_time                    0.001                                   \n"
     ]
    },
    {
     "name": "stderr",
     "output_type": "stream",
     "text": [
      "\n",
      "batch:  50%|█████     | 1/2 [00:03<00:03,  3.11s/it]\u001b[A\n",
      "batch: 100%|██████████| 2/2 [00:05<00:00,  3.00s/it]\u001b[A\n",
      "\n",
      "batch:   0%|          | 0/2 [00:00<?, ?it/s]\u001b[A\n",
      "batch:  50%|█████     | 1/2 [00:01<00:01,  1.69s/it]\u001b[A\n",
      "batch: 100%|██████████| 2/2 [00:02<00:00,  1.49s/it]\u001b[A\n",
      "\n",
      "batch:   0%|          | 0/2 [00:00<?, ?it/s]\u001b[A\n",
      "batch:  50%|█████     | 1/2 [00:01<00:01,  1.53s/it]\u001b[A\n",
      "batch: 100%|██████████| 2/2 [00:02<00:00,  1.35s/it]\u001b[A\n",
      "epoch:  85%|████████▌ | 17/20 [04:15<00:39, 13.26s/it]\n",
      "batch:   0%|          | 0/2 [00:00<?, ?it/s]\u001b[A"
     ]
    },
    {
     "name": "stdout",
     "output_type": "stream",
     "text": [
      "{'epoch': 16,\n",
      " 'train': {'loss_lang_instr': 3.169914484024048,\n",
      "           'total_loss': 3.169914484024048},\n",
      " 'valid_seen': {'BLEU': 0.005654025358317886,\n",
      "                'loss_lang_instr': 4.202825427055359,\n",
      "                'total_loss': 4.202825427055359},\n",
      " 'valid_unseen': {'BLEU': 0.003183516167733599,\n",
      "                  'loss_lang_instr': 3.486653447151184,\n",
      "                  'total_loss': 3.486653447151184}}\n",
      "epoch_time                    255.555                                 \n",
      "forward_batch_train           119.82                                  \n",
      "forward_batch_valid_seen      50.341                                  \n",
      "forward_batch_valid_unseen    48.343                                  \n",
      "torch_save_valid_seen         8.705                                   \n",
      "compute_metrics_valid_seen    8.448                                   \n",
      "compute_metrics_valid_unseen  7.809                                   \n",
      "torch_save_last               5.39                                    \n",
      "torch_save_valid_unseen       3.654                                   \n",
      "make_debug_valid_seen         1.376                                   \n",
      "make_debug_valid_unseen       1.14                                    \n",
      "compute_metrics_train         0.355                                   \n",
      "make_debug_train              0.103                                   \n",
      "setup_time                    0.001                                   \n"
     ]
    },
    {
     "name": "stderr",
     "output_type": "stream",
     "text": [
      "\n",
      "batch:  50%|█████     | 1/2 [00:02<00:02,  2.66s/it]\u001b[A\n",
      "batch: 100%|██████████| 2/2 [00:05<00:00,  2.92s/it]\u001b[A\n",
      "\n",
      "batch:   0%|          | 0/2 [00:00<?, ?it/s]\u001b[A\n",
      "batch:  50%|█████     | 1/2 [00:01<00:01,  1.38s/it]\u001b[A\n",
      "batch: 100%|██████████| 2/2 [00:02<00:00,  1.22s/it]\u001b[A\n",
      "\n",
      "batch:   0%|          | 0/2 [00:00<?, ?it/s]\u001b[A\n",
      "batch:  50%|█████     | 1/2 [00:01<00:01,  1.10s/it]\u001b[A\n",
      "batch: 100%|██████████| 2/2 [00:02<00:00,  1.11s/it]\u001b[A\n"
     ]
    },
    {
     "name": "stdout",
     "output_type": "stream",
     "text": [
      "\n",
      "Found new best valid_seen!! Saving...\n",
      "Found new best valid_unseen!! Saving...\n"
     ]
    },
    {
     "name": "stderr",
     "output_type": "stream",
     "text": [
      "epoch:  90%|█████████ | 18/20 [04:27<00:25, 12.94s/it]\n",
      "batch:   0%|          | 0/2 [00:00<?, ?it/s]\u001b[A"
     ]
    },
    {
     "name": "stdout",
     "output_type": "stream",
     "text": [
      "{'epoch': 17,\n",
      " 'train': {'loss_lang_instr': 3.2095788717269897,\n",
      "           'total_loss': 3.2095788717269897},\n",
      " 'valid_seen': {'BLEU': 0.006230817273158473,\n",
      "                'loss_lang_instr': 4.206936478614807,\n",
      "                'total_loss': 4.206936478614807},\n",
      " 'valid_unseen': {'BLEU': 0.005084008324076588,\n",
      "                  'loss_lang_instr': 3.5179401636123657,\n",
      "                  'total_loss': 3.5179401636123657}}\n",
      "epoch_time                    267.76                                  \n",
      "forward_batch_train           125.669                                 \n",
      "forward_batch_valid_seen      52.802                                  \n",
      "forward_batch_valid_unseen    50.581                                  \n",
      "torch_save_valid_seen         9.36                                    \n",
      "compute_metrics_valid_seen    8.72                                    \n",
      "compute_metrics_valid_unseen  8.087                                   \n",
      "torch_save_last               5.537                                   \n",
      "torch_save_valid_unseen       3.803                                   \n",
      "make_debug_valid_seen         1.422                                   \n",
      "make_debug_valid_unseen       1.247                                   \n",
      "compute_metrics_train         0.356                                   \n",
      "make_debug_train              0.103                                   \n",
      "setup_time                    0.001                                   \n"
     ]
    },
    {
     "name": "stderr",
     "output_type": "stream",
     "text": [
      "\n",
      "batch:  50%|█████     | 1/2 [00:02<00:02,  2.71s/it]\u001b[A\n",
      "batch: 100%|██████████| 2/2 [00:05<00:00,  2.93s/it]\u001b[A\n",
      "\n",
      "batch:   0%|          | 0/2 [00:00<?, ?it/s]\u001b[A\n",
      "batch:  50%|█████     | 1/2 [00:01<00:01,  1.17s/it]\u001b[A\n",
      "batch: 100%|██████████| 2/2 [00:02<00:00,  1.07s/it]\u001b[A\n",
      "\n",
      "batch:   0%|          | 0/2 [00:00<?, ?it/s]\u001b[A\n",
      "batch:  50%|█████     | 1/2 [00:01<00:01,  1.20s/it]\u001b[A\n",
      "batch: 100%|██████████| 2/2 [00:02<00:00,  1.16s/it]\u001b[A\n",
      "epoch:  95%|█████████▌| 19/20 [04:39<00:12, 12.57s/it]\n",
      "batch:   0%|          | 0/2 [00:00<?, ?it/s]\u001b[A"
     ]
    },
    {
     "name": "stdout",
     "output_type": "stream",
     "text": [
      "{'epoch': 18,\n",
      " 'train': {'loss_lang_instr': 3.1863350868225098,\n",
      "           'total_loss': 3.1863350868225098},\n",
      " 'valid_seen': {'BLEU': 0.006230817273158473,\n",
      "                'loss_lang_instr': 4.167171001434326,\n",
      "                'total_loss': 4.167171001434326},\n",
      " 'valid_unseen': {'BLEU': 0.002381648093789713,\n",
      "                  'loss_lang_instr': 3.522326707839966,\n",
      "                  'total_loss': 3.522326707839966}}\n",
      "epoch_time                    279.445                                 \n",
      "forward_batch_train           131.527                                 \n",
      "forward_batch_valid_seen      54.948                                  \n",
      "forward_batch_valid_unseen    52.916                                  \n",
      "torch_save_valid_seen         9.36                                    \n",
      "compute_metrics_valid_seen    8.983                                   \n",
      "compute_metrics_valid_unseen  8.373                                   \n",
      "torch_save_last               6.194                                   \n",
      "torch_save_valid_unseen       3.803                                   \n",
      "make_debug_valid_seen         1.513                                   \n",
      "make_debug_valid_unseen       1.29                                    \n",
      "compute_metrics_train         0.356                                   \n",
      "make_debug_train              0.103                                   \n",
      "setup_time                    0.001                                   \n"
     ]
    },
    {
     "name": "stderr",
     "output_type": "stream",
     "text": [
      "\n",
      "batch:  50%|█████     | 1/2 [00:04<00:04,  4.80s/it]\u001b[A\n",
      "batch: 100%|██████████| 2/2 [00:09<00:00,  4.64s/it]\u001b[A\n",
      "\n",
      "batch:   0%|          | 0/2 [00:00<?, ?it/s]\u001b[A\n",
      "batch:  50%|█████     | 1/2 [00:01<00:01,  1.35s/it]\u001b[A\n",
      "batch: 100%|██████████| 2/2 [00:02<00:00,  1.26s/it]\u001b[A\n",
      "\n",
      "batch:   0%|          | 0/2 [00:00<?, ?it/s]\u001b[A\n",
      "batch:  50%|█████     | 1/2 [00:01<00:01,  1.15s/it]\u001b[A\n",
      "batch: 100%|██████████| 2/2 [00:02<00:00,  1.15s/it]\u001b[A\n"
     ]
    },
    {
     "name": "stdout",
     "output_type": "stream",
     "text": [
      "\n",
      "Found new best valid_seen!! Saving...\n"
     ]
    },
    {
     "name": "stderr",
     "output_type": "stream",
     "text": [
      "epoch: 100%|██████████| 20/20 [04:57<00:00, 14.89s/it]"
     ]
    },
    {
     "name": "stdout",
     "output_type": "stream",
     "text": [
      "{'epoch': 19,\n",
      " 'train': {'loss_lang_instr': 3.1608837842941284,\n",
      "           'total_loss': 3.1608837842941284},\n",
      " 'valid_seen': {'BLEU': 0.006351188978705782,\n",
      "                'loss_lang_instr': 4.219351053237915,\n",
      "                'total_loss': 4.219351053237915},\n",
      " 'valid_unseen': {'BLEU': 0.001968472204978389,\n",
      "                  'loss_lang_instr': 3.4981753826141357,\n",
      "                  'total_loss': 3.4981753826141357}}\n",
      "epoch_time                    297.739                                 \n",
      "forward_batch_train           140.8                                   \n",
      "forward_batch_valid_seen      57.485                                  \n",
      "forward_batch_valid_unseen    55.246                                  \n",
      "torch_save_valid_seen         11.96                                   \n",
      "compute_metrics_valid_seen    9.276                                   \n",
      "compute_metrics_valid_unseen  8.696                                   \n",
      "torch_save_last               6.95                                    \n",
      "torch_save_valid_unseen       3.803                                   \n",
      "make_debug_valid_seen         1.605                                   \n",
      "make_debug_valid_unseen       1.378                                   \n",
      "compute_metrics_train         0.356                                   \n",
      "make_debug_train              0.103                                   \n",
      "setup_time                    0.001                                   \n"
     ]
    },
    {
     "name": "stderr",
     "output_type": "stream",
     "text": [
      "\n"
     ]
    }
   ],
   "source": [
    "# main training loop -- debug here if breakpoints were inserted\n",
    "model.run_train(splits, optimizer=optimizer, start_epoch=start_epoch)"
   ]
  },
  {
   "cell_type": "code",
   "execution_count": null,
   "metadata": {},
   "outputs": [],
   "source": []
  }
 ],
 "metadata": {
  "kernelspec": {
   "display_name": "Python 3",
   "language": "python",
   "name": "python3"
  },
  "language_info": {
   "codemirror_mode": {
    "name": "ipython",
    "version": 3
   },
   "file_extension": ".py",
   "mimetype": "text/x-python",
   "name": "python",
   "nbconvert_exporter": "python",
   "pygments_lexer": "ipython3",
   "version": "3.6.9"
  }
 },
 "nbformat": 4,
 "nbformat_minor": 2
}
