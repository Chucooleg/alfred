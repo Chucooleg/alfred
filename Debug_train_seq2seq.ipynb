{
 "cells": [
  {
   "cell_type": "markdown",
   "metadata": {},
   "source": [
    "# Training cycle debugging\n",
    "\n",
    "Basically run code copied from train_seq2seq.py in this notebook to catch bugs"
   ]
  },
  {
   "cell_type": "code",
   "execution_count": 1,
   "metadata": {},
   "outputs": [],
   "source": [
    "import os\n",
    "os.environ['ALFRED_ROOT'] = '/home/hoyeung/alfred/'\n",
    "\n",
    "import sys\n",
    "sys.path.append(os.path.join(os.environ['ALFRED_ROOT']))\n",
    "sys.path.append(os.path.join(os.environ['ALFRED_ROOT'], 'models'))\n",
    "\n",
    "# from argparse import ArgumentDefaultsHelpFormatter, ArgumentParser\n",
    "import torch\n",
    "import pprint\n",
    "import json\n",
    "from data.preprocess import Dataset\n",
    "from importlib import import_module, reload\n",
    "from argparse import ArgumentDefaultsHelpFormatter, ArgumentParser\n",
    "from models.utils.helper_utils import optimizer_to"
   ]
  },
  {
   "cell_type": "code",
   "execution_count": 5,
   "metadata": {},
   "outputs": [
    {
     "data": {
      "text/plain": [
       "<module 'torch.nn' from '/opt/conda/envs/pytorch-py3.6/lib/python3.6/site-packages/torch/nn/__init__.py'>"
      ]
     },
     "execution_count": 5,
     "metadata": {},
     "output_type": "execute_result"
    }
   ],
   "source": [
    "# import these if we want to debug a model such as seq2seq_nl_baseline.py\n",
    "\n",
    "reload(nn)\n",
    "\n",
    "# from argparse import ArgumentDefaultsHelpFormatter, ArgumentParser\n",
    "import torch\n",
    "import pprint\n",
    "import json\n",
    "from data.preprocess import Dataset\n",
    "from importlib import import_module, reload\n",
    "from argparse import ArgumentDefaultsHelpFormatter, ArgumentParser\n",
    "from models.utils.helper_utils import optimizer_to"
   ]
  },
  {
   "cell_type": "markdown",
   "metadata": {},
   "source": [
    "# Parser"
   ]
  },
  {
   "cell_type": "code",
   "execution_count": 6,
   "metadata": {},
   "outputs": [],
   "source": [
    "# These are the default flags present in train_seq2seq.py\n",
    "\n",
    "parser = ArgumentParser(formatter_class=ArgumentDefaultsHelpFormatter)\n",
    "args = parser.parse_args('')\n",
    "\n",
    "# settings\n",
    "args.seed = 123\n",
    "args.data = 'data/json_feat_2.1.0'\n",
    "args.splits = 'data/splits/oct21.json'\n",
    "args.preprocess = False #!\n",
    "args.pp_folder = 'pp'\n",
    "args.save_every_epoch = False #!\n",
    "args.model = 'seq2seq_nl_baseline'\n",
    "args.gpu = True\n",
    "args.dout = 'exp/model:seq2seq_nl_baseline'\n",
    "args.resume = False #!\n",
    "\n",
    "# hyper parameters\n",
    "args.batch = 8\n",
    "args.epoch = 20\n",
    "args.lr = 1e-4\n",
    "args.decay_epoch = 10\n",
    "args.dhid = 512\n",
    "args.dframe = 2500\n",
    "args.demb = 100\n",
    "args.pframe = 300\n",
    "args.mask_loss_wt = 1.\n",
    "args.action_loss_wt = 1.\n",
    "args.subgoal_aux_loss_wt = 0.\n",
    "args.pm_aux_loss_wt = 0.\n",
    "\n",
    "# dropouts\n",
    "args.zero_goal = False #!\n",
    "args.zero_instr = False #!\n",
    "args.act_dropout = 0.\n",
    "args.lang_dropout = 0.\n",
    "args.input_dropout = 0.\n",
    "args.vis_dropout = 0.3\n",
    "args.hstate_dropout = 0.3\n",
    "args.attn_dropout = 0.\n",
    "args.actor_dropout = 0.\n",
    "args.word_dropout = 0.\n",
    "\n",
    "# other settings\n",
    "args.dec_teacher_forcing = False #!\n",
    "args.temp_no_history = False #!\n",
    "\n",
    "# debugging\n",
    "args.fast_epoch = False #!\n",
    "args.dataset_fraction = 0"
   ]
  },
  {
   "cell_type": "code",
   "execution_count": null,
   "metadata": {},
   "outputs": [],
   "source": [
    "# overwrite the default flags\n",
    "\n",
    "args.model = 'seq2seq_nl_baseline'  # found under models/model/ directory\n",
    "args.dout = 'exp/model:seq2seq_nl_baseline'\n",
    "\n",
    "args.dec_teacher_forcing = True\n",
    "args.gpu = True\n",
    "\n",
    "# light setup for debugging\n",
    "args.fast_epoch = True\n",
    "args.epoch = 5"
   ]
  },
  {
   "cell_type": "code",
   "execution_count": 7,
   "metadata": {},
   "outputs": [
    {
     "data": {
      "text/plain": [
       "<torch._C.Generator at 0x7f0c8bf0f810>"
      ]
     },
     "execution_count": 7,
     "metadata": {},
     "output_type": "execute_result"
    }
   ],
   "source": [
    "torch.manual_seed(args.seed)"
   ]
  },
  {
   "cell_type": "markdown",
   "metadata": {},
   "source": [
    "# Setup and load data splits"
   ]
  },
  {
   "cell_type": "code",
   "execution_count": 8,
   "metadata": {},
   "outputs": [
    {
     "name": "stdout",
     "output_type": "stream",
     "text": [
      "args.out  exp/model:seq2seq_nl_baseline\n"
     ]
    }
   ],
   "source": [
    "# make output dir\n",
    "if not os.path.isdir(args.dout):\n",
    "    os.makedirs(args.dout)\n",
    "\n",
    "print('args.out ', args.dout)"
   ]
  },
  {
   "cell_type": "code",
   "execution_count": 10,
   "metadata": {},
   "outputs": [
    {
     "name": "stdout",
     "output_type": "stream",
     "text": [
      "{'tests_seen': 1533,\n",
      " 'tests_unseen': 1529,\n",
      " 'train': 21023,\n",
      " 'valid_seen': 820,\n",
      " 'valid_unseen': 821}\n"
     ]
    }
   ],
   "source": [
    "# load train/valid/tests splits\n",
    "with open(args.splits) as f:\n",
    "    splits = json.load(f)\n",
    "    pprint.pprint({k: len(v) for k, v in splits.items()})"
   ]
  },
  {
   "cell_type": "code",
   "execution_count": 11,
   "metadata": {},
   "outputs": [
    {
     "name": "stdout",
     "output_type": "stream",
     "text": [
      "{'word': Vocab(2360), 'action_low': Vocab(15), 'action_high': Vocab(93)}\n"
     ]
    }
   ],
   "source": [
    "# preprocess and save -- only need to preprocess once\n",
    "if args.preprocess:\n",
    "    print(\"\\nPreprocessing dataset and saving to %s folders ... This will take a while. Do this once as required.\" % args.pp_folder)\n",
    "    dataset = Dataset(args, None)\n",
    "    dataset.preprocess_splits(splits)\n",
    "    vocab = torch.load(os.path.join(args.dout, \"%s.vocab\" % args.pp_folder))\n",
    "else:\n",
    "    vocab = torch.load(os.path.join(args.data, \"%s.vocab\" % args.pp_folder))\n",
    "    \n",
    "print(vocab)"
   ]
  },
  {
   "cell_type": "markdown",
   "metadata": {},
   "source": [
    "# Model and Training"
   ]
  },
  {
   "cell_type": "code",
   "execution_count": 12,
   "metadata": {},
   "outputs": [],
   "source": [
    "# load the model architecture\n",
    "\n",
    "M = import_module('model.{}'.format(args.model))\n",
    "reload(M)\n",
    "model = M.Module(args, vocab)\n",
    "optimizer = None\n",
    "\n",
    "if args.gpu:\n",
    "    model = model.to(torch.device('cuda'))\n",
    "    if not optimizer is None:\n",
    "        optimizer_to(optimizer, torch.device('cuda'))"
   ]
  },
  {
   "cell_type": "code",
   "execution_count": 13,
   "metadata": {
    "scrolled": false
   },
   "outputs": [
    {
     "data": {
      "text/plain": [
       "Module(\n",
       "  (emb_word): Embedding(2360, 100)\n",
       "  (emb_action_low): Embedding(15, 100)\n",
       "  (enc): LSTM(100, 512, batch_first=True, bidirectional=True)\n",
       "  (enc_att): SelfAttn(\n",
       "    (scorer): Linear(in_features=1024, out_features=1, bias=True)\n",
       "  )\n",
       "  (dec): LanguageDecoder(\n",
       "    (emb): Embedding(2360, 100)\n",
       "    (cell): LSTMCell(1124, 1024)\n",
       "    (attn): DotAttn()\n",
       "    (input_dropout): Dropout(p=0.0, inplace=False)\n",
       "    (attn_dropout): Dropout(p=0.0, inplace=False)\n",
       "    (hstate_dropout): Dropout(p=0.3, inplace=False)\n",
       "    (word_dropout): Dropout(p=0.0, inplace=False)\n",
       "    (word): Linear(in_features=2148, out_features=100, bias=True)\n",
       "    (h_tm1_fc): Linear(in_features=1024, out_features=1024, bias=True)\n",
       "  )\n",
       "  (act_dropout): Dropout(p=0.0, inplace=True)\n",
       ")"
      ]
     },
     "execution_count": 13,
     "metadata": {},
     "output_type": "execute_result"
    }
   ],
   "source": [
    "# examine model layers\n",
    "\n",
    "model"
   ]
  },
  {
   "cell_type": "code",
   "execution_count": 16,
   "metadata": {
    "scrolled": true
   },
   "outputs": [
    {
     "name": "stderr",
     "output_type": "stream",
     "text": [
      "epoch:   0%|          | 0/2 [00:00<?, ?it/s]\n",
      "batch:   0%|          | 0/2 [00:00<?, ?it/s]\u001b[A"
     ]
    },
    {
     "name": "stdout",
     "output_type": "stream",
     "text": [
      "Saving to: exp/model:seq2seq_nl_baseline\n"
     ]
    },
    {
     "name": "stderr",
     "output_type": "stream",
     "text": [
      "\n",
      "batch:  50%|█████     | 1/2 [00:00<00:00,  3.29it/s]\u001b[A\n",
      "batch: 100%|██████████| 2/2 [00:00<00:00,  3.35it/s]\u001b[A\n",
      "\n",
      "batch:   0%|          | 0/2 [00:00<?, ?it/s]\u001b[A\n",
      "batch:  50%|█████     | 1/2 [00:00<00:00,  4.44it/s]\u001b[A\n",
      "batch: 100%|██████████| 2/2 [00:00<00:00,  5.81it/s]\u001b[A\n",
      "\n",
      "batch:   0%|          | 0/2 [00:00<?, ?it/s]\u001b[A\n",
      "batch:  50%|█████     | 1/2 [00:00<00:00,  7.62it/s]\u001b[A\n",
      "batch: 100%|██████████| 2/2 [00:00<00:00,  5.73it/s]\u001b[A\n"
     ]
    },
    {
     "name": "stdout",
     "output_type": "stream",
     "text": [
      "\n",
      "Found new best valid_seen!! Saving...\n",
      "> /home/hoyeung/alfred/models/model/seq2seq.py(268)make_debug()\n",
      "-> return debug\n",
      "(Pdb) print(debug)\n",
      "{'trial_T20190909_115736_122556': {'lang_goal': 'Place a cooked potato slice in the sink', 'lang_instr': ['turn to the right twice and to to the end of the counter top and turn to the left and go to the end of the counter top', 'take the knife from the counter top', 'turn to the left and go to the front of the refrigerator and turn to the left and go to the refrigerator', 'open the refrigerator door and slice up the potato on the shelf with the knife and close the refrigerator door', 'turn to the right twice and take a few steps and turn to the left and go to the microwave', 'open the microwave door and put the knife in it and close the microwave door', 'turn to the left twice and take a few step and turn to the right and go to the refrigerator', 'open the refrigerator door and take a potato slice from the shelf and close the refrigerator door', 'turn to the right twice and take a few steps and turn to the left and go to the microwave', 'put the potato slice in the microwave and cook it and when finish cooking take out the potato slice from the microwave', 'turn to the right twice and take a few steps and turn to the left and go to the sink', 'put the potato slice in the sink'], 'word_inp_goal': [' place ', ' a ', ' cooked ', ' potato ', ' slice ', ' in ', ' the ', ' sink ', '<<goal>>'], 'word_inp_instr': [[' turn ', ' to ', ' the ', ' right ', ' twice ', ' and ', ' to ', ' to ', ' the ', ' end ', ' of ', ' the ', ' counter ', ' top ', ' and ', ' turn ', ' to ', ' the ', ' left ', ' and ', ' go ', ' to ', ' the ', ' end ', ' of ', ' the ', ' counter ', ' top '], [' take ', ' the ', ' knife ', ' from ', ' the ', ' counter ', ' top '], [' turn ', ' to ', ' the ', ' left ', ' and ', ' go ', ' to ', ' the ', ' front ', ' of ', ' the ', ' refrigerator ', ' and ', ' turn ', ' to ', ' the ', ' left ', ' and ', ' go ', ' to ', ' the ', ' refrigerator '], [' open ', ' the ', ' refrigerator ', ' door ', ' and ', ' slice ', ' up ', ' the ', ' potato ', ' on ', ' the ', ' shelf ', ' with ', ' the ', ' knife ', ' and ', ' close ', ' the ', ' refrigerator ', ' door '], [' turn ', ' to ', ' the ', ' right ', ' twice ', ' and ', ' take ', ' a ', ' few ', ' steps ', ' and ', ' turn ', ' to ', ' the ', ' left ', ' and ', ' go ', ' to ', ' the ', ' microwave '], [' open ', ' the ', ' microwave ', ' door ', ' and ', ' put ', ' the ', ' knife ', ' in ', ' it ', ' and ', ' close ', ' the ', ' microwave ', ' door '], [' turn ', ' to ', ' the ', ' left ', ' twice ', ' and ', ' take ', ' a ', ' few ', ' step ', ' and ', ' turn ', ' to ', ' the ', ' right ', ' and ', ' go ', ' to ', ' the ', ' refrigerator '], [' open ', ' the ', ' refrigerator ', ' door ', ' and ', ' take ', ' a ', ' potato ', ' slice ', ' from ', ' the ', ' shelf ', ' and ', ' close ', ' the ', ' refrigerator ', ' door '], [' turn ', ' to ', ' the ', ' right ', ' twice ', ' and ', ' take ', ' a ', ' few ', ' steps ', ' and ', ' turn ', ' to ', ' the ', ' left ', ' and ', ' go ', ' to ', ' the ', ' microwave '], [' put ', ' the ', ' potato ', ' slice ', ' in ', ' the ', ' microwave ', ' and ', ' cook ', ' it ', ' and ', ' when ', ' finish ', ' cooking ', ' take ', ' out ', ' the ', ' potato ', ' slice ', ' from ', ' the ', ' microwave '], [' turn ', ' to ', ' the ', ' right ', ' twice ', ' and ', ' take ', ' a ', ' few ', ' steps ', ' and ', ' turn ', ' to ', ' the ', ' left ', ' and ', ' go ', ' to ', ' the ', ' sink '], [' put ', ' the ', ' potato ', ' slice ', ' in ', ' the ', ' sink '], ['<<stop>>']], 'num_inp_goal': [10, 35, 247, 56, 55, 11, 4, 149, 2], 'num_inp_instr': [[24, 18, 4, 38, 401, 26, 18, 18, 4, 141, 21, 4, 36, 66, 26, 24, 18, 4, 19, 26, 30, 18, 4, 141, 21, 4, 36, 66], [69, 4, 63, 6, 4, 36, 66], [24, 18, 4, 19, 26, 30, 18, 4, 40, 21, 4, 71, 26, 24, 18, 4, 19, 26, 30, 18, 4, 71], [82, 4, 71, 83, 26, 55, 23, 4, 56, 15, 4, 189, 51, 4, 63, 26, 84, 4, 71, 83], [24, 18, 4, 38, 401, 26, 69, 35, 253, 224, 26, 24, 18, 4, 19, 26, 30, 18, 4, 57], [82, 4, 57, 83, 26, 14, 4, 63, 11, 52, 26, 84, 4, 57, 83], [24, 18, 4, 19, 401, 26, 69, 35, 253, 201, 26, 24, 18, 4, 38, 26, 30, 18, 4, 71], [82, 4, 71, 83, 26, 69, 35, 56, 55, 6, 4, 189, 26, 84, 4, 71, 83], [24, 18, 4, 38, 401, 26, 69, 35, 253, 224, 26, 24, 18, 4, 19, 26, 30, 18, 4, 57], [14, 4, 56, 55, 11, 4, 57, 26, 249, 52, 26, 185, 586, 556, 69, 75, 4, 56, 55, 6, 4, 57], [24, 18, 4, 38, 401, 26, 69, 35, 253, 224, 26, 24, 18, 4, 19, 26, 30, 18, 4, 149], [14, 4, 56, 55, 11, 4, 149], [34]], 'action_low': ['LookDown_15', 'RotateRight_90', 'RotateRight_90', 'MoveAhead_25', 'MoveAhead_25', 'MoveAhead_25', 'MoveAhead_25', 'MoveAhead_25', 'MoveAhead_25', 'MoveAhead_25', 'MoveAhead_25', 'MoveAhead_25', 'MoveAhead_25', 'MoveAhead_25', 'MoveAhead_25', 'RotateLeft_90', 'MoveAhead_25', 'MoveAhead_25', 'PickupObject', 'RotateLeft_90', 'MoveAhead_25', 'MoveAhead_25', 'MoveAhead_25', 'MoveAhead_25', 'MoveAhead_25', 'MoveAhead_25', 'MoveAhead_25', 'MoveAhead_25', 'RotateLeft_90', 'MoveAhead_25', 'MoveAhead_25', 'MoveAhead_25', 'MoveAhead_25', 'MoveAhead_25', 'MoveAhead_25', 'MoveAhead_25', 'LookUp_15', 'OpenObject', 'SliceObject', 'CloseObject', 'LookDown_15', 'RotateRight_90', 'RotateRight_90', 'MoveAhead_25', 'MoveAhead_25', 'MoveAhead_25', 'MoveAhead_25', 'MoveAhead_25', 'MoveAhead_25', 'MoveAhead_25', 'RotateLeft_90', 'MoveAhead_25', 'MoveAhead_25', 'MoveAhead_25', 'MoveAhead_25', 'LookUp_15', 'LookUp_15', 'OpenObject', 'PutObject', 'CloseObject', 'LookDown_15', 'LookDown_15', 'RotateLeft_90', 'RotateLeft_90', 'MoveAhead_25', 'MoveAhead_25', 'MoveAhead_25', 'MoveAhead_25', 'RotateRight_90', 'MoveAhead_25', 'MoveAhead_25', 'MoveAhead_25', 'MoveAhead_25', 'MoveAhead_25', 'MoveAhead_25', 'MoveAhead_25', 'LookUp_15', 'OpenObject', 'PickupObject', 'CloseObject', 'LookDown_15', 'RotateRight_90', 'RotateRight_90', 'MoveAhead_25', 'MoveAhead_25', 'MoveAhead_25', 'MoveAhead_25', 'MoveAhead_25', 'MoveAhead_25', 'MoveAhead_25', 'RotateLeft_90', 'MoveAhead_25', 'MoveAhead_25', 'MoveAhead_25', 'MoveAhead_25', 'LookUp_15', 'LookUp_15', 'OpenObject', 'PutObject', 'CloseObject', 'ToggleObjectOn', 'ToggleObjectOff', 'OpenObject', 'PickupObject', 'CloseObject', 'LookDown_15', 'LookDown_15', 'RotateRight_90', 'RotateRight_90', 'MoveAhead_25', 'MoveAhead_25', 'MoveAhead_25', 'MoveAhead_25', 'RotateLeft_90', 'MoveAhead_25', 'MoveAhead_25', 'MoveAhead_25', 'MoveAhead_25', 'LookDown_15', 'PutObject'], 'action_high': ['GotoLocation', 'PickupObject', 'GotoLocation', 'SliceObject', 'GotoLocation', 'PutObject', 'GotoLocation', 'PickupObject', 'GotoLocation', 'HeatObject', 'GotoLocation', 'PutObject', 'NoOp'], 'p_lang_instr': ['the', 'the', 'the', 'the', 'the', 'the', 'the', 'the', 'the', 'the', 'the', 'the', 'the', 'the', 'the', 'the', 'the', 'the', 'the', 'the', 'the', 'the', 'the', 'the', 'the', 'the', 'the', 'the', 'the', 'the', 'the', 'the', 'the', 'the', 'the', 'the', 'the', 'the', 'the', 'the', 'the', 'the', 'the', 'the', 'the', 'the', 'the', 'the', 'the', 'the', 'the', 'the', 'the', 'the', 'the', 'the', 'the', 'the', 'the', 'the', 'the', 'the', 'the', 'the', 'the', 'the', 'the', 'the', 'the', 'the', 'the', 'the', 'the', 'the', 'the', 'the', 'the', 'the', 'the', 'the', 'the', 'the', 'the', 'the', 'the', 'the', 'the', 'the', 'the', 'the', 'the', 'the', 'the', 'the', 'the', 'the', 'the', 'the', 'the', 'the', 'the', 'the', 'the', 'the', 'the', 'the', 'the', 'the', 'the', 'the', 'the', 'the', 'the', 'the', 'the', 'the', 'the', 'the', 'the', 'the', 'the', 'the', 'the', 'the', 'the', 'the', 'the', 'the', 'the', 'the', 'the', 'the', 'the', 'the', 'the', 'the', 'the', 'the', 'the', 'the', 'the', 'the', 'the', 'the', 'the', 'the', 'the', 'the', 'the', 'the', 'the', 'the', 'the', 'the', 'the', 'the', 'the', 'the', 'the', 'the', 'the', 'the', 'the', 'the', 'the', 'the', 'the', 'the', 'the', 'the', 'the', 'the', 'the', 'the', 'the', 'the', 'the', 'the', 'the', 'the', 'the', 'the', 'the', 'the', 'the', 'the', 'the', 'the', 'the', 'the', 'the', 'the', 'the', 'the', 'the', 'the', 'the', 'the', 'the', 'the', 'the', 'the', 'the', 'the', 'the', 'the', 'the', 'the', 'the', 'the', 'the', 'the', 'the', 'the', 'the', 'the', 'the', 'the', 'the']}, 'trial_T20190909_091246_807206': {'lang_goal': 'Place a vase on a coffee table', 'lang_instr': ['Turn right and cross the room, turn right  and walk to the tc stand on your left, turn to face the tv stand', 'Pick up the blue vase that is sitting on the tv stand ', 'Turn around to face the black coffee table in', 'Place the vase on the coffee table to the left of the computer'], 'word_inp_goal': [' place ', ' a ', ' vase ', ' on ', ' a ', ' coffee ', ' table ', '<<goal>>'], 'word_inp_instr': [[' turn ', ' right ', ' and ', ' cross ', ' the ', ' room ', ', ', ' turn ', ' right ', ' and ', ' walk ', ' to ', ' the ', ' tc ', ' stand ', ' on ', ' your ', ' left ', ', ', ' turn ', ' to ', ' face ', ' the ', ' tv ', ' stand '], [' pick ', ' up ', ' the ', ' blue ', ' vase ', ' that ', ' is ', ' sitting ', ' on ', ' the ', ' tv ', ' stand '], [' turn ', ' around ', ' to ', ' face ', ' the ', ' black ', ' coffee ', ' table ', ' in '], [' place ', ' the ', ' vase ', ' on ', ' the ', ' coffee ', ' table ', ' to ', ' the ', ' left ', ' of ', ' the ', ' computer '], ['<<stop>>']], 'num_inp_goal': [10, 35, 339, 15, 35, 117, 60, 2], 'num_inp_instr': [[24, 38, 26, 191, 4, 165, 9, 24, 38, 26, 47, 18, 4, 2315, 129, 15, 145, 19, 9, 24, 18, 39, 4, 132, 129], [22, 23, 4, 248, 339, 79, 150, 369, 15, 4, 132, 129], [24, 25, 18, 39, 4, 123, 117, 60, 11], [10, 4, 339, 15, 4, 117, 60, 18, 4, 19, 21, 4, 370], [34]], 'action_low': ['LookDown_15', 'MoveAhead_25', 'MoveAhead_25', 'RotateRight_90', 'MoveAhead_25', 'MoveAhead_25', 'MoveAhead_25', 'MoveAhead_25', 'MoveAhead_25', 'MoveAhead_25', 'MoveAhead_25', 'MoveAhead_25', 'MoveAhead_25', 'MoveAhead_25', 'MoveAhead_25', 'RotateRight_90', 'MoveAhead_25', 'MoveAhead_25', 'MoveAhead_25', 'MoveAhead_25', 'MoveAhead_25', 'MoveAhead_25', 'MoveAhead_25', 'MoveAhead_25', 'MoveAhead_25', 'MoveAhead_25', 'RotateLeft_90', 'LookDown_15', 'PickupObject', 'LookUp_15', 'RotateRight_90', 'RotateRight_90', 'LookDown_15', 'PutObject'], 'action_high': ['GotoLocation', 'PickupObject', 'GotoLocation', 'PutObject', 'NoOp'], 'p_lang_instr': ['the', 'curved', 'skinny', 'access', 'cans', 'pie', 'the', 'the', 'the', 'the', 'the', 'the', 'the', 'the', 'the', 'the', 'the', 'the', 'the', 'the', 'the', 'the', 'the', 'the', 'the', 'the', 'the', 'the', 'the', 'the', 'the', 'the', 'the', 'the', 'the', 'the', 'the', 'the', 'the', 'the', 'the', 'the', 'the', 'the', 'the', 'the', 'the', 'the', 'the', 'the', 'the', 'the', 'the', 'the', 'the', 'the', 'the', 'the', 'the', 'the', 'the', 'the', 'the', 'the', 'the', 'the', 'the', 'the', 'the', 'the', 'the', 'the', 'the', 'the', 'the', 'the', 'the', 'the', 'the', 'the', 'the', 'the', 'the', 'the', 'the', 'the', 'the', 'the', 'the', 'the', 'the', 'the', 'the', 'the', 'the', 'the', 'the', 'the', 'the', 'the', 'the', 'the', 'the', 'the', 'the', 'the', 'the', 'the', 'the', 'the', 'the', 'the', 'the', 'the', 'the', 'the', 'the', 'the', 'the', 'the', 'the', 'the', 'the', 'the', 'the', 'the', 'the', 'the', 'the', 'the', 'the', 'the', 'the', 'the', 'the', 'the', 'the', 'the', 'the', 'the', 'the', 'the', 'the', 'the', 'the', 'the', 'the', 'the', 'the', 'the', 'the', 'the', 'the', 'the', 'the', 'the', 'the', 'the', 'the', 'the', 'the', 'the', 'the', 'the', 'the', 'the', 'the', 'the', 'the', 'the', 'the', 'the', 'the', 'the', 'the', 'the', 'the', 'the', 'the', 'the', 'the', 'the', 'the', 'the', 'the', 'the', 'the', 'the', 'the', 'the', 'the', 'the', 'the', 'the', 'the', 'the', 'the', 'the', 'the', 'the', 'the', 'the', 'the', 'the', 'the', 'the', 'the', 'the', 'the', 'the', 'the', 'the', 'the', 'the', 'the', 'the', 'the', 'the', 'the']}, 'trial_T20190918_184236_557252': {'lang_goal': 'place a knife on the microwave oven table', 'lang_instr': ['move forward towards the sink', 'pick up a knife from the top of the sink', 'turnaround and heat towards the microwave oven ', 'place the knife on the table of the microwave oven'], 'word_inp_goal': [' place ', ' a ', ' knife ', ' on ', ' the ', ' microwave ', ' oven ', ' table ', '<<goal>>'], 'word_inp_instr': [[' move ', ' forward ', ' towards ', ' the ', ' sink '], [' pick ', ' up ', ' a ', ' knife ', ' from ', ' the ', ' top ', ' of ', ' the ', ' sink '], [' turnaround ', ' and ', ' heat ', ' towards ', ' the ', ' microwave ', ' oven '], [' place ', ' the ', ' knife ', ' on ', ' the ', ' table ', ' of ', ' the ', ' microwave ', ' oven '], ['<<stop>>']], 'num_inp_goal': [10, 35, 63, 15, 4, 57, 168, 60, 2], 'num_inp_instr': [[17, 144, 45, 4, 149], [22, 23, 35, 63, 6, 4, 66, 21, 4, 149], [897, 26, 183, 45, 4, 57, 168], [10, 4, 63, 15, 4, 60, 21, 4, 57, 168], [34]], 'action_low': ['LookDown_15', 'MoveAhead_25', 'MoveAhead_25', 'RotateLeft_90', 'MoveAhead_25', 'MoveAhead_25', 'MoveAhead_25', 'RotateRight_90', 'MoveAhead_25', 'MoveAhead_25', 'MoveAhead_25', 'MoveAhead_25', 'LookUp_15', 'PickupObject', 'LookDown_15', 'RotateRight_90', 'MoveAhead_25', 'MoveAhead_25', 'MoveAhead_25', 'MoveAhead_25', 'MoveAhead_25', 'MoveAhead_25', 'MoveAhead_25', 'MoveAhead_25', 'RotateRight_90', 'MoveAhead_25', 'MoveAhead_25', 'MoveAhead_25', 'MoveAhead_25', 'MoveAhead_25', 'PutObject'], 'action_high': ['GotoLocation', 'PickupObject', 'GotoLocation', 'PutObject', 'NoOp'], 'p_lang_instr': ['the', 'curved', 'skinny', 'access', 'cans', 'pie', 'coutertop', 'think', 'thet', 'fire', 'barstools', 'specifically', 'knives', 'the', 'the', 'the', 'the', 'the', 'the', 'the', 'the', 'the', 'the', 'the', 'the', 'the', 'the', 'the', 'the', 'the', 'the', 'the', 'the', 'the', 'the', 'the', 'the', 'the', 'the', 'the', 'the', 'the', 'the', 'the', 'the', 'the', 'the', 'the', 'the', 'the', 'the', 'the', 'the', 'the', 'the', 'the', 'the', 'the', 'the', 'the', 'the', 'the', 'the', 'the', 'the', 'the', 'the', 'the', 'the', 'the', 'the', 'the', 'the', 'the', 'the', 'the', 'the', 'the', 'the', 'the', 'the', 'the', 'the', 'the', 'the', 'the', 'the', 'the', 'the', 'the', 'the', 'the', 'the', 'the', 'the', 'the', 'the', 'the', 'the', 'the', 'the', 'the', 'the', 'the', 'the', 'the', 'the', 'the', 'the', 'the', 'the', 'the', 'the', 'the', 'the', 'the', 'the', 'the', 'the', 'the', 'the', 'the', 'the', 'the', 'the', 'the', 'the', 'the', 'the', 'the', 'the', 'the', 'the', 'the', 'the', 'the', 'the', 'the', 'the', 'the', 'the', 'the', 'the', 'the', 'the', 'the', 'the', 'the', 'the', 'the', 'the', 'the', 'the', 'the', 'the', 'the', 'the', 'the', 'the', 'the', 'the', 'the', 'the', 'the', 'the', 'the', 'the', 'the', 'the', 'the', 'the', 'the', 'the', 'the', 'the', 'the', 'the', 'the', 'the', 'the', 'the', 'the', 'the', 'the', 'the', 'the', 'the', 'the', 'the', 'the', 'the', 'the', 'the', 'the', 'the', 'the', 'the', 'the', 'the', 'the', 'the', 'the', 'the', 'the', 'the', 'the', 'the', 'the', 'the', 'the', 'the', 'the', 'the', 'the', 'the', 'the', 'the', 'the', 'the']}, 'trial_T20190908_052007_212776': {'lang_goal': 'Place a rinsed knife inside a drawer.', 'lang_instr': ['Turn left, hang a right around the counter and walk to the counter ahead with the toaster.', 'Pick up the knife to the right of the toaster on the counter.', 'Turn left, hang a left at the stove and walk to the sink ahead.', 'Put the knife inside the sink to the right of the spoon, rinse it for a few seconds and pick it back up.', 'Turn around, walk towards the fridge, and turn around again to face the cabinets under the counter to the right of the sink.', 'Put the rinsed knife inside the far right drawer and close the drawer.'], 'word_inp_goal': [' place ', ' a ', ' rinsed ', ' knife ', ' inside ', ' a ', ' drawer ', '. ', '<<goal>>'], 'word_inp_instr': [[' turn ', ' left ', ', ', ' hang ', ' a ', ' right ', ' around ', ' the ', ' counter ', ' and ', ' walk ', ' to ', ' the ', ' counter ', ' ahead ', ' with ', ' the ', ' toaster ', '. '], [' pick ', ' up ', ' the ', ' knife ', ' to ', ' the ', ' right ', ' of ', ' the ', ' toaster ', ' on ', ' the ', ' counter ', '. '], [' turn ', ' left ', ', ', ' hang ', ' a ', ' left ', ' at ', ' the ', ' stove ', ' and ', ' walk ', ' to ', ' the ', ' sink ', ' ahead ', '. '], [' put ', ' the ', ' knife ', ' inside ', ' the ', ' sink ', ' to ', ' the ', ' right ', ' of ', ' the ', ' spoon ', ', ', ' rinse ', ' it ', ' for ', ' a ', ' few ', ' seconds ', ' and ', ' pick ', ' it ', ' back ', ' up ', '. '], [' turn ', ' around ', ', ', ' walk ', ' towards ', ' the ', ' fridge ', ', ', ' and ', ' turn ', ' around ', ' again ', ' to ', ' face ', ' the ', ' cabinets ', ' under ', ' the ', ' counter ', ' to ', ' the ', ' right ', ' of ', ' the ', ' sink ', '. '], [' put ', ' the ', ' rinsed ', ' knife ', ' inside ', ' the ', ' far ', ' right ', ' drawer ', ' and ', ' close ', ' the ', ' drawer ', '. '], ['<<stop>>']], 'num_inp_goal': [10, 35, 677, 63, 68, 35, 298, 16, 2], 'num_inp_instr': [[24, 19, 9, 166, 35, 38, 25, 4, 36, 26, 47, 18, 4, 36, 205, 51, 4, 178, 16], [22, 23, 4, 63, 18, 4, 38, 21, 4, 178, 15, 4, 36, 16], [24, 19, 9, 166, 35, 19, 28, 4, 27, 26, 47, 18, 4, 149, 205, 16], [14, 4, 63, 68, 4, 149, 18, 4, 38, 21, 4, 268, 9, 176, 52, 213, 35, 253, 232, 26, 22, 52, 29, 23, 16], [24, 25, 9, 47, 45, 4, 85, 9, 26, 24, 25, 43, 18, 39, 4, 321, 94, 4, 36, 18, 4, 38, 21, 4, 149, 16], [14, 4, 677, 63, 68, 4, 31, 38, 298, 26, 84, 4, 298, 16], [34]], 'action_low': ['LookDown_15', 'RotateLeft_90', 'MoveAhead_25', 'MoveAhead_25', 'MoveAhead_25', 'RotateRight_90', 'MoveAhead_25', 'MoveAhead_25', 'MoveAhead_25', 'MoveAhead_25', 'MoveAhead_25', 'MoveAhead_25', 'MoveAhead_25', 'MoveAhead_25', 'RotateRight_90', 'MoveAhead_25', 'MoveAhead_25', 'RotateLeft_90', 'MoveAhead_25', 'PickupObject', 'RotateLeft_90', 'MoveAhead_25', 'MoveAhead_25', 'RotateLeft_90', 'MoveAhead_25', 'MoveAhead_25', 'MoveAhead_25', 'MoveAhead_25', 'MoveAhead_25', 'MoveAhead_25', 'MoveAhead_25', 'MoveAhead_25', 'MoveAhead_25', 'RotateLeft_90', 'MoveAhead_25', 'RotateRight_90', 'MoveAhead_25', 'MoveAhead_25', 'LookDown_15', 'PutObject', 'ToggleObjectOn', 'ToggleObjectOff', 'PickupObject', 'LookUp_15', 'RotateLeft_90', 'RotateLeft_90', 'MoveAhead_25', 'RotateLeft_90', 'MoveAhead_25', 'RotateLeft_90', 'OpenObject', 'PutObject', 'CloseObject'], 'action_high': ['GotoLocation', 'PickupObject', 'GotoLocation', 'CleanObject', 'GotoLocation', 'PutObject', 'NoOp'], 'p_lang_instr': ['the', 'curved', 'skinny', 'access', 'cans', 'pie', 'the', 'the', 'the', 'the', 'the', 'the', 'the', 'the', 'the', 'the', 'the', 'the', 'the', 'the', 'the', 'the', 'the', 'the', 'the', 'the', 'the', 'the', 'the', 'the', 'the', 'the', 'the', 'the', 'the', 'the', 'the', 'the', 'the', 'the', 'the', 'the', 'the', 'the', 'the', 'the', 'the', 'the', 'the', 'the', 'the', 'the', 'the', 'the', 'the', 'the', 'the', 'the', 'the', 'the', 'the', 'the', 'the', 'the', 'the', 'the', 'the', 'the', 'the', 'the', 'the', 'the', 'the', 'the', 'the', 'the', 'the', 'the', 'the', 'the', 'the', 'the', 'the', 'the', 'the', 'the', 'the', 'the', 'the', 'the', 'the', 'the', 'the', 'the', 'the', 'the', 'the', 'the', 'the', 'the', 'the', 'the', 'the', 'the', 'the', 'the', 'the', 'the', 'the', 'the', 'the', 'the', 'the', 'the', 'the', 'the', 'the', 'the', 'the', 'the', 'the', 'the', 'the', 'the', 'the', 'the', 'the', 'the', 'the', 'the', 'the', 'the', 'the', 'the', 'the', 'the', 'the', 'the', 'the', 'the', 'the', 'the', 'the', 'the', 'the', 'the', 'the', 'the', 'the', 'the', 'the', 'the', 'the', 'the', 'the', 'the', 'the', 'the', 'the', 'the', 'the', 'the', 'the', 'the', 'the', 'the', 'the', 'the', 'the', 'the', 'the', 'the', 'the', 'the', 'the', 'the', 'the', 'the', 'the', 'the', 'the', 'the', 'the', 'the', 'the', 'the', 'the', 'the', 'the', 'the', 'the', 'the', 'the', 'the', 'the', 'the', 'the', 'the', 'the', 'the', 'the', 'the', 'the', 'the', 'the', 'the', 'the', 'the', 'the', 'the', 'the', 'the', 'the', 'the', 'the', 'the', 'the', 'the', 'the']}, 'trial_T20190907_232225_725376': {'lang_goal': 'Place a cooked slice of apple to the right of the yellow knife on the counter.', 'lang_instr': ['Walk straight to the wall, turn left to the stove, and turn right to the sink.', 'Pick up the yellow knife from the sink.', 'Cut the apple in the sink into three pieces.', 'Place the knife in the sink.', 'Pick up a slice of apple from the sink.', 'Turn left to face the microwave.', 'Place the apple on the plate in the microwave, heat it up, and take apple back out.', 'Turn left and walk towards the counter.', 'Place the apple piece to the right of the yellow knife on the counter.'], 'word_inp_goal': [' place ', ' a ', ' cooked ', ' slice ', ' of ', ' apple ', ' to ', ' the ', ' right ', ' of ', ' the ', ' yellow ', ' knife ', ' on ', ' the ', ' counter ', '. ', '<<goal>>'], 'word_inp_instr': [[' walk ', ' straight ', ' to ', ' the ', ' wall ', ', ', ' turn ', ' left ', ' to ', ' the ', ' stove ', ', ', ' and ', ' turn ', ' right ', ' to ', ' the ', ' sink ', '. '], [' pick ', ' up ', ' the ', ' yellow ', ' knife ', ' from ', ' the ', ' sink ', '. '], [' cut ', ' the ', ' apple ', ' in ', ' the ', ' sink ', ' into ', ' three ', ' pieces ', '. '], [' place ', ' the ', ' knife ', ' in ', ' the ', ' sink ', '. '], [' pick ', ' up ', ' a ', ' slice ', ' of ', ' apple ', ' from ', ' the ', ' sink ', '. '], [' turn ', ' left ', ' to ', ' face ', ' the ', ' microwave ', '. '], [' place ', ' the ', ' apple ', ' on ', ' the ', ' plate ', ' in ', ' the ', ' microwave ', ', ', ' heat ', ' it ', ' up ', ', ', ' and ', ' take ', ' apple ', ' back ', ' out ', '. '], [' turn ', ' left ', ' and ', ' walk ', ' towards ', ' the ', ' counter ', '. '], [' place ', ' the ', ' apple ', ' piece ', ' to ', ' the ', ' right ', ' of ', ' the ', ' yellow ', ' knife ', ' on ', ' the ', ' counter ', '. '], ['<<stop>>']], 'num_inp_goal': [10, 35, 247, 55, 21, 33, 18, 4, 38, 21, 4, 62, 63, 15, 4, 36, 16, 2], 'num_inp_instr': [[47, 257, 18, 4, 258, 9, 24, 19, 18, 4, 27, 9, 26, 24, 38, 18, 4, 149, 16], [22, 23, 4, 62, 63, 6, 4, 149, 16], [67, 4, 33, 11, 4, 149, 152, 227, 305, 16], [10, 4, 63, 11, 4, 149, 16], [22, 23, 35, 55, 21, 33, 6, 4, 149, 16], [24, 19, 18, 39, 4, 57, 16], [10, 4, 33, 15, 4, 238, 11, 4, 57, 9, 183, 52, 23, 9, 26, 69, 33, 29, 75, 16], [24, 19, 26, 47, 45, 4, 36, 16], [10, 4, 33, 76, 18, 4, 38, 21, 4, 62, 63, 15, 4, 36, 16], [34]], 'action_low': ['LookDown_15', 'MoveAhead_25', 'MoveAhead_25', 'MoveAhead_25', 'MoveAhead_25', 'MoveAhead_25', 'MoveAhead_25', 'MoveAhead_25', 'MoveAhead_25', 'RotateLeft_90', 'MoveAhead_25', 'MoveAhead_25', 'MoveAhead_25', 'MoveAhead_25', 'MoveAhead_25', 'MoveAhead_25', 'MoveAhead_25', 'MoveAhead_25', 'MoveAhead_25', 'MoveAhead_25', 'RotateRight_90', 'MoveAhead_25', 'MoveAhead_25', 'MoveAhead_25', 'MoveAhead_25', 'PickupObject', 'SliceObject', 'PutObject', 'PickupObject', 'RotateLeft_90', 'OpenObject', 'PutObject', 'CloseObject', 'ToggleObjectOn', 'ToggleObjectOff', 'OpenObject', 'PickupObject', 'CloseObject', 'RotateLeft_90', 'MoveAhead_25', 'MoveAhead_25', 'MoveAhead_25', 'MoveAhead_25', 'PutObject'], 'action_high': ['GotoLocation', 'PickupObject', 'SliceObject', 'PutObject', 'PickupObject', 'GotoLocation', 'HeatObject', 'GotoLocation', 'PutObject', 'NoOp'], 'p_lang_instr': ['the', 'curved', 'skinny', 'access', 'cans', 'pie', 'the', 'the', 'the', 'the', 'the', 'the', 'the', 'the', 'the', 'the', 'the', 'the', 'the', 'the', 'the', 'the', 'the', 'the', 'the', 'the', 'the', 'the', 'the', 'the', 'the', 'the', 'the', 'the', 'the', 'the', 'the', 'the', 'the', 'the', 'the', 'the', 'the', 'the', 'the', 'the', 'the', 'the', 'the', 'the', 'the', 'the', 'the', 'the', 'the', 'the', 'the', 'the', 'the', 'the', 'the', 'the', 'the', 'the', 'the', 'the', 'the', 'the', 'the', 'the', 'the', 'the', 'the', 'the', 'the', 'the', 'the', 'the', 'the', 'the', 'the', 'the', 'the', 'the', 'the', 'the', 'the', 'the', 'the', 'the', 'the', 'the', 'the', 'the', 'the', 'the', 'the', 'the', 'the', 'the', 'the', 'the', 'the', 'the', 'the', 'the', 'the', 'the', 'the', 'the', 'the', 'the', 'the', 'the', 'the', 'the', 'the', 'the', 'the', 'the', 'the', 'the', 'the', 'the', 'the', 'the', 'the', 'the', 'the', 'the', 'the', 'the', 'the', 'the', 'the', 'the', 'the', 'the', 'the', 'the', 'the', 'the', 'the', 'the', 'the', 'the', 'the', 'the', 'the', 'the', 'the', 'the', 'the', 'the', 'the', 'the', 'the', 'the', 'the', 'the', 'the', 'the', 'the', 'the', 'the', 'the', 'the', 'the', 'the', 'the', 'the', 'the', 'the', 'the', 'the', 'the', 'the', 'the', 'the', 'the', 'the', 'the', 'the', 'the', 'the', 'the', 'the', 'the', 'the', 'the', 'the', 'the', 'the', 'the', 'the', 'the', 'the', 'the', 'the', 'the', 'the', 'the', 'the', 'the', 'the', 'the', 'the', 'the', 'the', 'the', 'the', 'the', 'the', 'the', 'the', 'the', 'the', 'the', 'the']}, 'trial_T20190908_065238_500229': {'lang_goal': 'Move two spoons to the kitchen counter. ', 'lang_instr': ['Look down at the sink in front of you. ', 'Pick up the spoon that is in the sink. ', 'Turn around so that the dishwasher is in front of you, to your left side. ', 'Place the spoon on the counter space above the dishwasher, to the left of the tomato. ', 'Walk forward, hanging a right once you reach the stove, then walk a few steps, and turn right again to face the green table.', 'Pick up the spoon that is between the head of lettuce and the metal spatula on the table. ', 'Turn to your right, hang a left when the stove is on your right, then walk to the kitchen sink and face the stove area.', 'Place the spoon behind the tomato that sits on the kitchen counter. '], 'word_inp_goal': [' move ', ' two ', ' spoons ', ' to ', ' the ', ' kitchen ', ' counter ', '. ', '<<goal>>'], 'word_inp_instr': [[' look ', ' down ', ' at ', ' the ', ' sink ', ' in ', ' front ', ' of ', ' you ', '. '], [' pick ', ' up ', ' the ', ' spoon ', ' that ', ' is ', ' in ', ' the ', ' sink ', '. '], [' turn ', ' around ', ' so ', ' that ', ' the ', ' dishwasher ', ' is ', ' in ', ' front ', ' of ', ' you ', ', ', ' to ', ' your ', ' left ', ' side ', '. '], [' place ', ' the ', ' spoon ', ' on ', ' the ', ' counter ', ' space ', ' above ', ' the ', ' dishwasher ', ', ', ' to ', ' the ', ' left ', ' of ', ' the ', ' tomato ', '. '], [' walk ', ' forward ', ', ', ' hanging ', ' a ', ' right ', ' once ', ' you ', ' reach ', ' the ', ' stove ', ', ', ' then ', ' walk ', ' a ', ' few ', ' steps ', ', ', ' and ', ' turn ', ' right ', ' again ', ' to ', ' face ', ' the ', ' green ', ' table ', '. '], [' pick ', ' up ', ' the ', ' spoon ', ' that ', ' is ', ' between ', ' the ', ' head ', ' of ', ' lettuce ', ' and ', ' the ', ' metal ', ' spatula ', ' on ', ' the ', ' table ', '. '], [' turn ', ' to ', ' your ', ' right ', ', ', ' hang ', ' a ', ' left ', ' when ', ' the ', ' stove ', ' is ', ' on ', ' your ', ' right ', ', ', ' then ', ' walk ', ' to ', ' the ', ' kitchen ', ' sink ', ' and ', ' face ', ' the ', ' stove ', ' area ', '. '], [' place ', ' the ', ' spoon ', ' behind ', ' the ', ' tomato ', ' that ', ' sits ', ' on ', ' the ', ' kitchen ', ' counter ', '. '], ['<<stop>>']], 'num_inp_goal': [17, 105, 747, 18, 4, 7, 36, 16, 2], 'num_inp_instr': [[92, 50, 28, 4, 149, 11, 40, 21, 203, 16], [22, 23, 4, 268, 79, 150, 11, 4, 149, 16], [24, 25, 229, 79, 4, 219, 150, 11, 40, 21, 203, 9, 18, 145, 19, 20, 16], [10, 4, 268, 15, 4, 36, 503, 218, 4, 219, 9, 18, 4, 19, 21, 4, 281, 16], [47, 144, 9, 290, 35, 38, 526, 203, 102, 4, 27, 9, 37, 47, 35, 253, 224, 9, 26, 24, 38, 43, 18, 39, 4, 292, 60, 16], [22, 23, 4, 268, 79, 150, 198, 4, 156, 21, 74, 26, 4, 160, 601, 15, 4, 60, 16], [24, 18, 145, 38, 9, 166, 35, 19, 185, 4, 27, 150, 15, 145, 38, 9, 37, 47, 18, 4, 7, 149, 26, 39, 4, 27, 688, 16], [10, 4, 268, 32, 4, 281, 79, 820, 15, 4, 7, 36, 16], [34]], 'action_low': ['LookDown_15', 'MoveAhead_25', 'LookDown_15', 'PickupObject', 'LookUp_15', 'RotateLeft_90', 'MoveAhead_25', 'RotateLeft_90', 'RotateLeft_90', 'LookUp_15', 'PutObject', 'LookDown_15', 'MoveAhead_25', 'MoveAhead_25', 'MoveAhead_25', 'MoveAhead_25', 'MoveAhead_25', 'RotateRight_90', 'MoveAhead_25', 'MoveAhead_25', 'MoveAhead_25', 'MoveAhead_25', 'MoveAhead_25', 'MoveAhead_25', 'RotateRight_90', 'PickupObject', 'RotateRight_90', 'MoveAhead_25', 'MoveAhead_25', 'MoveAhead_25', 'RotateLeft_90', 'MoveAhead_25', 'MoveAhead_25', 'MoveAhead_25', 'MoveAhead_25', 'MoveAhead_25', 'RotateRight_90', 'MoveAhead_25', 'MoveAhead_25', 'MoveAhead_25', 'RotateRight_90', 'LookUp_15', 'PutObject'], 'action_high': ['GotoLocation', 'PickupObject', 'GotoLocation', 'PutObject', 'GotoLocation', 'PickupObject', 'GotoLocation', 'PutObject', 'NoOp'], 'p_lang_instr': ['the', 'curved', 'skinny', 'access', 'cans', 'pie', 'the', 'the', 'the', 'the', 'the', 'the', 'the', 'the', 'the', 'the', 'the', 'the', 'the', 'the', 'the', 'the', 'the', 'the', 'the', 'the', 'the', 'the', 'the', 'the', 'the', 'the', 'the', 'the', 'the', 'the', 'the', 'the', 'the', 'the', 'the', 'the', 'the', 'the', 'the', 'the', 'the', 'the', 'the', 'the', 'the', 'the', 'the', 'the', 'the', 'the', 'the', 'the', 'the', 'the', 'the', 'the', 'the', 'the', 'the', 'the', 'the', 'the', 'the', 'the', 'the', 'the', 'the', 'the', 'the', 'the', 'the', 'the', 'the', 'the', 'the', 'the', 'the', 'the', 'the', 'the', 'the', 'the', 'the', 'the', 'the', 'the', 'the', 'the', 'the', 'the', 'the', 'the', 'the', 'the', 'the', 'the', 'the', 'the', 'the', 'the', 'the', 'the', 'the', 'the', 'the', 'the', 'the', 'the', 'the', 'the', 'the', 'the', 'the', 'the', 'the', 'the', 'the', 'the', 'the', 'the', 'the', 'the', 'the', 'the', 'the', 'the', 'the', 'the', 'the', 'the', 'the', 'the', 'the', 'the', 'the', 'the', 'the', 'the', 'the', 'the', 'the', 'the', 'the', 'the', 'the', 'the', 'the', 'the', 'the', 'the', 'the', 'the', 'the', 'the', 'the', 'the', 'the', 'the', 'the', 'the', 'the', 'the', 'the', 'the', 'the', 'the', 'the', 'the', 'the', 'the', 'the', 'the', 'the', 'the', 'the', 'the', 'the', 'the', 'the', 'the', 'the', 'the', 'the', 'the', 'the', 'the', 'the', 'the', 'the', 'the', 'the', 'the', 'the', 'the', 'the', 'the', 'the', 'the', 'the', 'the', 'the', 'the', 'the', 'the', 'the', 'the', 'the', 'the', 'the', 'the', 'the', 'the', 'the']}, 'trial_T20190908_192636_561572': {'lang_goal': 'Put a spoon in a pan on the counter.', 'lang_instr': ['Turn around and walk to the table with the  kitchen table.', 'Pick up the spoon.', 'Turn around and walk to the refrigerator.  ', 'Open the refrigerator.  Put the spoon on the pan in the refrigerator.  ', 'Grab the pan out of the refrigerator with the spoon.', 'Close the door and turn left.  Walk to the oven and counter, turn left and walk to the wall.  Turn right before the microwave.', 'Put the pan with the spoon on the counter.'], 'word_inp_goal': [' put ', ' a ', ' spoon ', ' in ', ' a ', ' pan ', ' on ', ' the ', ' counter ', '. ', '<<goal>>'], 'word_inp_instr': [[' turn ', ' around ', ' and ', ' walk ', ' to ', ' the ', ' table ', ' with ', ' the ', ' kitchen ', ' table ', '. '], [' pick ', ' up ', ' the ', ' spoon ', '. '], [' turn ', ' around ', ' and ', ' walk ', ' to ', ' the ', ' refrigerator ', '. '], [' open ', ' the ', ' refrigerator ', '. ', ' put ', ' the ', ' spoon ', ' on ', ' the ', ' pan ', ' in ', ' the ', ' refrigerator ', '. '], [' grab ', ' the ', ' pan ', ' out ', ' of ', ' the ', ' refrigerator ', ' with ', ' the ', ' spoon ', '. '], [' close ', ' the ', ' door ', ' and ', ' turn ', ' left ', '. ', ' walk ', ' to ', ' the ', ' oven ', ' and ', ' counter ', ', ', ' turn ', ' left ', ' and ', ' walk ', ' to ', ' the ', ' wall ', '. ', ' turn ', ' right ', ' before ', ' the ', ' microwave ', '. '], [' put ', ' the ', ' pan ', ' with ', ' the ', ' spoon ', ' on ', ' the ', ' counter ', '. '], ['<<stop>>']], 'num_inp_goal': [14, 35, 268, 11, 35, 13, 15, 4, 36, 16, 2], 'num_inp_instr': [[24, 25, 26, 47, 18, 4, 60, 51, 4, 7, 60, 16], [22, 23, 4, 268, 16], [24, 25, 26, 47, 18, 4, 71, 16], [82, 4, 71, 16, 14, 4, 268, 15, 4, 13, 11, 4, 71, 16], [114, 4, 13, 75, 21, 4, 71, 51, 4, 268, 16], [84, 4, 83, 26, 24, 19, 16, 47, 18, 4, 168, 26, 36, 9, 24, 19, 26, 47, 18, 4, 258, 16, 24, 38, 245, 4, 57, 16], [14, 4, 13, 51, 4, 268, 15, 4, 36, 16], [34]], 'action_low': ['LookDown_15', 'RotateRight_90', 'MoveAhead_25', 'MoveAhead_25', 'RotateRight_90', 'MoveAhead_25', 'MoveAhead_25', 'PickupObject', 'RotateLeft_90', 'MoveAhead_25', 'MoveAhead_25', 'RotateLeft_90', 'MoveAhead_25', 'MoveAhead_25', 'MoveAhead_25', 'MoveAhead_25', 'MoveAhead_25', 'MoveAhead_25', 'OpenObject', 'PutObject', 'PickupObject', 'CloseObject', 'RotateLeft_90', 'MoveAhead_25', 'MoveAhead_25', 'MoveAhead_25', 'MoveAhead_25', 'MoveAhead_25', 'MoveAhead_25', 'MoveAhead_25', 'RotateLeft_90', 'MoveAhead_25', 'MoveAhead_25', 'MoveAhead_25', 'MoveAhead_25', 'MoveAhead_25', 'MoveAhead_25', 'MoveAhead_25', 'RotateRight_90', 'PutObject'], 'action_high': ['GotoLocation', 'PickupObject', 'GotoLocation', 'PutObject', 'PickupObject', 'GotoLocation', 'PutObject', 'NoOp'], 'p_lang_instr': ['the', 'curved', 'skinny', 'access', 'cans', 'pie', 'the', 'the', 'the', 'the', 'the', 'the', 'the', 'the', 'the', 'the', 'the', 'the', 'the', 'the', 'the', 'the', 'the', 'the', 'the', 'the', 'the', 'the', 'the', 'the', 'the', 'the', 'the', 'the', 'the', 'the', 'the', 'the', 'the', 'the', 'the', 'the', 'the', 'the', 'the', 'the', 'the', 'the', 'the', 'the', 'the', 'the', 'the', 'the', 'the', 'the', 'the', 'the', 'the', 'the', 'the', 'the', 'the', 'the', 'the', 'the', 'the', 'the', 'the', 'the', 'the', 'the', 'the', 'the', 'the', 'the', 'the', 'the', 'the', 'the', 'the', 'the', 'the', 'the', 'the', 'the', 'the', 'the', 'the', 'the', 'the', 'the', 'the', 'the', 'the', 'the', 'the', 'the', 'the', 'the', 'the', 'the', 'the', 'the', 'the', 'the', 'the', 'the', 'the', 'the', 'the', 'the', 'the', 'the', 'the', 'the', 'the', 'the', 'the', 'the', 'the', 'the', 'the', 'the', 'the', 'the', 'the', 'the', 'the', 'the', 'the', 'the', 'the', 'the', 'the', 'the', 'the', 'the', 'the', 'the', 'the', 'the', 'the', 'the', 'the', 'the', 'the', 'the', 'the', 'the', 'the', 'the', 'the', 'the', 'the', 'the', 'the', 'the', 'the', 'the', 'the', 'the', 'the', 'the', 'the', 'the', 'the', 'the', 'the', 'the', 'the', 'the', 'the', 'the', 'the', 'the', 'the', 'the', 'the', 'the', 'the', 'the', 'the', 'the', 'the', 'the', 'the', 'the', 'the', 'the', 'the', 'the', 'the', 'the', 'the', 'the', 'the', 'the', 'the', 'the', 'the', 'the', 'the', 'the', 'the', 'the', 'the', 'the', 'the', 'the', 'the', 'the', 'the', 'the', 'the', 'the', 'the', 'the', 'the']}, 'trial_T20190908_165525_911839': {'lang_goal': 'Put a chilled slice of tomato in the microwave.', 'lang_instr': ['Turn and go to the counter by the sink.', 'Pick up the knife on the counter.', 'Cut the tomato on the counter. ', 'Turn and go to the microwave.', 'Put the knife in the microwave. ', 'Turn and go to the counter by the sink.', 'Pick up a slice of tomato on the counter. ', 'Turn and go to the refrigerator. ', 'Chill the slice of tomato in the refrigerator. ', 'Turn and go to the microwave. ', 'Put the slice of tomato in the microwave.'], 'word_inp_goal': [' put ', ' a ', ' chilled ', ' slice ', ' of ', ' tomato ', ' in ', ' the ', ' microwave ', '. ', '<<goal>>'], 'word_inp_instr': [[' turn ', ' and ', ' go ', ' to ', ' the ', ' counter ', ' by ', ' the ', ' sink ', '. '], [' pick ', ' up ', ' the ', ' knife ', ' on ', ' the ', ' counter ', '. '], [' cut ', ' the ', ' tomato ', ' on ', ' the ', ' counter ', '. '], [' turn ', ' and ', ' go ', ' to ', ' the ', ' microwave ', '. '], [' put ', ' the ', ' knife ', ' in ', ' the ', ' microwave ', '. '], [' turn ', ' and ', ' go ', ' to ', ' the ', ' counter ', ' by ', ' the ', ' sink ', '. '], [' pick ', ' up ', ' a ', ' slice ', ' of ', ' tomato ', ' on ', ' the ', ' counter ', '. '], [' turn ', ' and ', ' go ', ' to ', ' the ', ' refrigerator ', '. '], [' chill ', ' the ', ' slice ', ' of ', ' tomato ', ' in ', ' the ', ' refrigerator ', '. '], [' turn ', ' and ', ' go ', ' to ', ' the ', ' microwave ', '. '], [' put ', ' the ', ' slice ', ' of ', ' tomato ', ' in ', ' the ', ' microwave ', '. '], ['<<stop>>']], 'num_inp_goal': [14, 35, 54, 55, 21, 281, 11, 4, 57, 16, 2], 'num_inp_instr': [[24, 26, 30, 18, 4, 36, 120, 4, 149, 16], [22, 23, 4, 63, 15, 4, 36, 16], [67, 4, 281, 15, 4, 36, 16], [24, 26, 30, 18, 4, 57, 16], [14, 4, 63, 11, 4, 57, 16], [24, 26, 30, 18, 4, 36, 120, 4, 149, 16], [22, 23, 35, 55, 21, 281, 15, 4, 36, 16], [24, 26, 30, 18, 4, 71, 16], [72, 4, 55, 21, 281, 11, 4, 71, 16], [24, 26, 30, 18, 4, 57, 16], [14, 4, 55, 21, 281, 11, 4, 57, 16], [34]], 'action_low': ['LookDown_15', 'RotateLeft_90', 'MoveAhead_25', 'MoveAhead_25', 'MoveAhead_25', 'MoveAhead_25', 'MoveAhead_25', 'MoveAhead_25', 'MoveAhead_25', 'RotateRight_90', 'LookDown_15', 'PickupObject', 'SliceObject', 'LookUp_15', 'RotateRight_90', 'MoveAhead_25', 'RotateLeft_90', 'LookUp_15', 'LookUp_15', 'OpenObject', 'PutObject', 'CloseObject', 'LookDown_15', 'LookDown_15', 'RotateLeft_90', 'MoveAhead_25', 'RotateRight_90', 'LookDown_15', 'PickupObject', 'LookUp_15', 'RotateRight_90', 'MoveAhead_25', 'MoveAhead_25', 'MoveAhead_25', 'MoveAhead_25', 'MoveAhead_25', 'MoveAhead_25', 'MoveAhead_25', 'RotateRight_90', 'MoveAhead_25', 'MoveAhead_25', 'MoveAhead_25', 'MoveAhead_25', 'MoveAhead_25', 'LookDown_15', 'OpenObject', 'PutObject', 'CloseObject', 'OpenObject', 'PickupObject', 'CloseObject', 'LookUp_15', 'RotateRight_90', 'MoveAhead_25', 'MoveAhead_25', 'MoveAhead_25', 'MoveAhead_25', 'MoveAhead_25', 'MoveAhead_25', 'RotateRight_90', 'MoveAhead_25', 'MoveAhead_25', 'MoveAhead_25', 'MoveAhead_25', 'MoveAhead_25', 'LookUp_15', 'LookUp_15', 'OpenObject', 'PutObject', 'CloseObject'], 'action_high': ['GotoLocation', 'PickupObject', 'SliceObject', 'GotoLocation', 'PutObject', 'GotoLocation', 'PickupObject', 'GotoLocation', 'CoolObject', 'GotoLocation', 'PutObject', 'NoOp'], 'p_lang_instr': ['the', 'curved', 'skinny', 'access', 'the', 'the', 'the', 'the', 'the', 'the', 'the', 'the', 'the', 'the', 'the', 'the', 'the', 'the', 'the', 'the', 'the', 'the', 'the', 'the', 'the', 'the', 'the', 'the', 'the', 'the', 'the', 'the', 'the', 'the', 'the', 'the', 'the', 'the', 'the', 'the', 'the', 'the', 'the', 'the', 'the', 'the', 'the', 'the', 'the', 'the', 'the', 'the', 'the', 'the', 'the', 'the', 'the', 'the', 'the', 'the', 'the', 'the', 'the', 'the', 'the', 'the', 'the', 'the', 'the', 'the', 'the', 'the', 'the', 'the', 'the', 'the', 'the', 'the', 'the', 'the', 'the', 'the', 'the', 'the', 'the', 'the', 'the', 'the', 'the', 'the', 'the', 'the', 'the', 'the', 'the', 'the', 'the', 'the', 'the', 'the', 'the', 'the', 'the', 'the', 'the', 'the', 'the', 'the', 'the', 'the', 'the', 'the', 'the', 'the', 'the', 'the', 'the', 'the', 'the', 'the', 'the', 'the', 'the', 'the', 'the', 'the', 'the', 'the', 'the', 'the', 'the', 'the', 'the', 'the', 'the', 'the', 'the', 'the', 'the', 'the', 'the', 'the', 'the', 'the', 'the', 'the', 'the', 'the', 'the', 'the', 'the', 'the', 'the', 'the', 'the', 'the', 'the', 'the', 'the', 'the', 'the', 'the', 'the', 'the', 'the', 'the', 'the', 'the', 'the', 'the', 'the', 'the', 'the', 'the', 'the', 'the', 'the', 'the', 'the', 'the', 'the', 'the', 'the', 'the', 'the', 'the', 'the', 'the', 'the', 'the', 'the', 'the', 'the', 'the', 'the', 'the', 'the', 'the', 'the', 'the', 'the', 'the', 'the', 'the', 'the', 'the', 'the', 'the', 'the', 'the', 'the', 'the', 'the', 'the', 'the', 'the', 'the', 'the', 'the']}, 'trial_T20190911_131350_027076': {'lang_goal': 'put clean spoon on the table', 'lang_instr': ['turn around, walk forward, turn left to face table', 'pick up the spoon that is on the table', 'turn right, walk to the sink', 'put the spoon in the sink, turn on the water, take spoon out', 'turn around, walk forward, turn right, walk to table', 'put the spoon on the table'], 'word_inp_goal': [' put ', ' clean ', ' spoon ', ' on ', ' the ', ' table ', '<<goal>>'], 'word_inp_instr': [[' turn ', ' around ', ', ', ' walk ', ' forward ', ', ', ' turn ', ' left ', ' to ', ' face ', ' table '], [' pick ', ' up ', ' the ', ' spoon ', ' that ', ' is ', ' on ', ' the ', ' table '], [' turn ', ' right ', ', ', ' walk ', ' to ', ' the ', ' sink '], [' put ', ' the ', ' spoon ', ' in ', ' the ', ' sink ', ', ', ' turn ', ' on ', ' the ', ' water ', ', ', ' take ', ' spoon ', ' out '], [' turn ', ' around ', ', ', ' walk ', ' forward ', ', ', ' turn ', ' right ', ', ', ' walk ', ' to ', ' table '], [' put ', ' the ', ' spoon ', ' on ', ' the ', ' table '], ['<<stop>>']], 'num_inp_goal': [14, 337, 268, 15, 4, 60, 2], 'num_inp_instr': [[24, 25, 9, 47, 144, 9, 24, 19, 18, 39, 60], [22, 23, 4, 268, 79, 150, 15, 4, 60], [24, 38, 9, 47, 18, 4, 149], [14, 4, 268, 11, 4, 149, 9, 24, 15, 4, 179, 9, 69, 268, 75], [24, 25, 9, 47, 144, 9, 24, 38, 9, 47, 18, 60], [14, 4, 268, 15, 4, 60], [34]], 'action_low': ['LookDown_15', 'RotateRight_90', 'RotateRight_90', 'MoveAhead_25', 'MoveAhead_25', 'MoveAhead_25', 'MoveAhead_25', 'MoveAhead_25', 'MoveAhead_25', 'RotateLeft_90', 'MoveAhead_25', 'PickupObject', 'RotateRight_90', 'RotateRight_90', 'MoveAhead_25', 'MoveAhead_25', 'RotateLeft_90', 'MoveAhead_25', 'MoveAhead_25', 'MoveAhead_25', 'LookDown_15', 'PutObject', 'ToggleObjectOn', 'ToggleObjectOff', 'PickupObject', 'LookUp_15', 'RotateLeft_90', 'RotateLeft_90', 'MoveAhead_25', 'MoveAhead_25', 'MoveAhead_25', 'MoveAhead_25', 'MoveAhead_25', 'RotateRight_90', 'MoveAhead_25', 'MoveAhead_25', 'LookDown_15', 'PutObject'], 'action_high': ['GotoLocation', 'PickupObject', 'GotoLocation', 'CleanObject', 'GotoLocation', 'PutObject', 'NoOp'], 'p_lang_instr': ['the', 'curved', 'skinny', 'access', 'cans', 'pie', 'the', 'the', 'the', 'the', 'the', 'the', 'the', 'the', 'the', 'the', 'the', 'the', 'the', 'the', 'the', 'the', 'the', 'the', 'the', 'the', 'the', 'the', 'the', 'the', 'the', 'the', 'the', 'the', 'the', 'the', 'the', 'the', 'the', 'the', 'the', 'the', 'the', 'the', 'the', 'the', 'the', 'the', 'the', 'the', 'the', 'the', 'the', 'the', 'the', 'the', 'the', 'the', 'the', 'the', 'the', 'the', 'the', 'the', 'the', 'the', 'the', 'the', 'the', 'the', 'the', 'the', 'the', 'the', 'the', 'the', 'the', 'the', 'the', 'the', 'the', 'the', 'the', 'the', 'the', 'the', 'the', 'the', 'the', 'the', 'the', 'the', 'the', 'the', 'the', 'the', 'the', 'the', 'the', 'the', 'the', 'the', 'the', 'the', 'the', 'the', 'the', 'the', 'the', 'the', 'the', 'the', 'the', 'the', 'the', 'the', 'the', 'the', 'the', 'the', 'the', 'the', 'the', 'the', 'the', 'the', 'the', 'the', 'the', 'the', 'the', 'the', 'the', 'the', 'the']}, 'trial_T20190907_151802_277016': {'lang_goal': 'Slice an apple or vegetable followed by rinsing it', 'lang_instr': ['Turn to the right and walk to the white kitchen table on your left', 'Pick up the yellow handled knife on the table', 'Walk to the right end of the kitchen table and face it', 'Slice a apple on the table', 'Walk back to the left side of the kitchen table', 'Place the knife on top of the green lettuce head', 'Walk to the right end of the kitchen table and face it', 'Pick up the slice of apple on the table', 'Turn around and walk to the left and face the kitchen sink', 'Place the slice of apple in the sink and rinse it, then remove it', 'Turn around and walk to the end of the kitchen and face the table on the right', 'Place the apple slice back on the table'], 'word_inp_goal': [' slice ', ' an ', ' apple ', ' or ', ' vegetable ', ' followed ', ' by ', ' rinsing ', ' it ', '<<goal>>'], 'word_inp_instr': [[' turn ', ' to ', ' the ', ' right ', ' and ', ' walk ', ' to ', ' the ', ' white ', ' kitchen ', ' table ', ' on ', ' your ', ' left '], [' pick ', ' up ', ' the ', ' yellow ', ' handled ', ' knife ', ' on ', ' the ', ' table '], [' walk ', ' to ', ' the ', ' right ', ' end ', ' of ', ' the ', ' kitchen ', ' table ', ' and ', ' face ', ' it '], [' slice ', ' a ', ' apple ', ' on ', ' the ', ' table '], [' walk ', ' back ', ' to ', ' the ', ' left ', ' side ', ' of ', ' the ', ' kitchen ', ' table '], [' place ', ' the ', ' knife ', ' on ', ' top ', ' of ', ' the ', ' green ', ' lettuce ', ' head '], [' walk ', ' to ', ' the ', ' right ', ' end ', ' of ', ' the ', ' kitchen ', ' table ', ' and ', ' face ', ' it '], [' pick ', ' up ', ' the ', ' slice ', ' of ', ' apple ', ' on ', ' the ', ' table '], [' turn ', ' around ', ' and ', ' walk ', ' to ', ' the ', ' left ', ' and ', ' face ', ' the ', ' kitchen ', ' sink '], [' place ', ' the ', ' slice ', ' of ', ' apple ', ' in ', ' the ', ' sink ', ' and ', ' rinse ', ' it ', ', ', ' then ', ' remove ', ' it '], [' turn ', ' around ', ' and ', ' walk ', ' to ', ' the ', ' end ', ' of ', ' the ', ' kitchen ', ' and ', ' face ', ' the ', ' table ', ' on ', ' the ', ' right '], [' place ', ' the ', ' apple ', ' slice ', ' back ', ' on ', ' the ', ' table '], ['<<stop>>']], 'num_inp_goal': [55, 143, 33, 595, 477, 1012, 120, 1885, 52, 2], 'num_inp_instr': [[24, 18, 4, 38, 26, 47, 18, 4, 59, 7, 60, 15, 145, 19], [22, 23, 4, 62, 350, 63, 15, 4, 60], [47, 18, 4, 38, 141, 21, 4, 7, 60, 26, 39, 52], [55, 35, 33, 15, 4, 60], [47, 29, 18, 4, 19, 20, 21, 4, 7, 60], [10, 4, 63, 15, 66, 21, 4, 292, 74, 156], [47, 18, 4, 38, 141, 21, 4, 7, 60, 26, 39, 52], [22, 23, 4, 55, 21, 33, 15, 4, 60], [24, 25, 26, 47, 18, 4, 19, 26, 39, 4, 7, 149], [10, 4, 55, 21, 33, 11, 4, 149, 26, 176, 52, 9, 37, 91, 52], [24, 25, 26, 47, 18, 4, 141, 21, 4, 7, 26, 39, 4, 60, 15, 4, 38], [10, 4, 33, 55, 29, 15, 4, 60], [34]], 'action_low': ['LookDown_15', 'RotateRight_90', 'MoveAhead_25', 'MoveAhead_25', 'MoveAhead_25', 'MoveAhead_25', 'RotateLeft_90', 'MoveAhead_25', 'MoveAhead_25', 'LookDown_15', 'PickupObject', 'LookUp_15', 'RotateRight_90', 'MoveAhead_25', 'MoveAhead_25', 'MoveAhead_25', 'RotateLeft_90', 'LookDown_15', 'SliceObject', 'LookUp_15', 'RotateLeft_90', 'MoveAhead_25', 'MoveAhead_25', 'RotateRight_90', 'LookDown_15', 'PutObject', 'LookUp_15', 'RotateRight_90', 'MoveAhead_25', 'MoveAhead_25', 'RotateLeft_90', 'LookDown_15', 'PickupObject', 'LookUp_15', 'RotateRight_90', 'RotateRight_90', 'MoveAhead_25', 'MoveAhead_25', 'RotateLeft_90', 'MoveAhead_25', 'MoveAhead_25', 'MoveAhead_25', 'LookDown_15', 'PutObject', 'ToggleObjectOn', 'ToggleObjectOff', 'PickupObject', 'LookUp_15', 'RotateLeft_90', 'RotateLeft_90', 'MoveAhead_25', 'MoveAhead_25', 'MoveAhead_25', 'MoveAhead_25', 'MoveAhead_25', 'RotateRight_90', 'MoveAhead_25', 'MoveAhead_25', 'LookDown_15', 'PutObject'], 'action_high': ['GotoLocation', 'PickupObject', 'GotoLocation', 'SliceObject', 'GotoLocation', 'PutObject', 'GotoLocation', 'PickupObject', 'GotoLocation', 'CleanObject', 'GotoLocation', 'PutObject', 'NoOp'], 'p_lang_instr': ['the', 'the', 'the', 'the', 'the', 'the', 'the', 'the', 'the', 'the', 'the', 'the', 'the', 'the', 'the', 'the', 'the', 'the', 'the', 'the', 'the', 'the', 'the', 'the', 'the', 'the', 'the', 'the', 'the', 'the', 'the', 'the', 'the', 'the', 'the', 'the', 'the', 'the', 'the', 'the', 'the', 'the', 'the', 'the', 'the', 'the', 'the', 'the', 'the', 'the', 'the', 'the', 'the', 'the', 'the', 'the', 'the', 'the', 'the', 'the', 'the', 'the', 'the', 'the', 'the', 'the', 'the', 'the', 'the', 'the', 'the', 'the', 'the', 'the', 'the', 'the', 'the', 'the', 'the', 'the', 'the', 'the', 'the', 'the', 'the', 'the', 'the', 'the', 'the', 'the', 'the', 'the', 'the', 'the', 'the', 'the', 'the', 'the', 'the', 'the', 'the', 'the', 'the', 'the', 'the', 'the', 'the', 'the', 'the', 'the', 'the', 'the', 'the', 'the', 'the', 'the', 'the', 'the', 'the', 'the', 'the', 'the', 'the', 'the', 'the', 'the', 'the', 'the', 'the', 'the', 'the', 'the', 'the', 'the', 'the']}, 'trial_T20190909_010644_297017': {'lang_goal': 'Put the credit card in the drawer.', 'lang_instr': ['Turn right and go forward to the wall, then turn right and go to the end of the table, then turn right to face the table.', 'Pick up the credit card on the table.', 'Turn left and go to the wall, then turn right and go straight, then turn around to face the drawer.', 'Open the top drawer and put the credit card inside.'], 'word_inp_goal': [' put ', ' the ', ' credit ', ' card ', ' in ', ' the ', ' drawer ', '. ', '<<goal>>'], 'word_inp_instr': [[' turn ', ' right ', ' and ', ' go ', ' forward ', ' to ', ' the ', ' wall ', ', ', ' then ', ' turn ', ' right ', ' and ', ' go ', ' to ', ' the ', ' end ', ' of ', ' the ', ' table ', ', ', ' then ', ' turn ', ' right ', ' to ', ' face ', ' the ', ' table ', '. '], [' pick ', ' up ', ' the ', ' credit ', ' card ', ' on ', ' the ', ' table ', '. '], [' turn ', ' left ', ' and ', ' go ', ' to ', ' the ', ' wall ', ', ', ' then ', ' turn ', ' right ', ' and ', ' go ', ' straight ', ', ', ' then ', ' turn ', ' around ', ' to ', ' face ', ' the ', ' drawer ', '. '], [' open ', ' the ', ' top ', ' drawer ', ' and ', ' put ', ' the ', ' credit ', ' card ', ' inside ', '. '], ['<<stop>>']], 'num_inp_goal': [14, 4, 126, 131, 11, 4, 298, 16, 2], 'num_inp_instr': [[24, 38, 26, 30, 144, 18, 4, 258, 9, 37, 24, 38, 26, 30, 18, 4, 141, 21, 4, 60, 9, 37, 24, 38, 18, 39, 4, 60, 16], [22, 23, 4, 126, 131, 15, 4, 60, 16], [24, 19, 26, 30, 18, 4, 258, 9, 37, 24, 38, 26, 30, 257, 9, 37, 24, 25, 18, 39, 4, 298, 16], [82, 4, 66, 298, 26, 14, 4, 126, 131, 68, 16], [34]], 'action_low': ['LookDown_15', 'MoveAhead_25', 'MoveAhead_25', 'RotateRight_90', 'MoveAhead_25', 'MoveAhead_25', 'MoveAhead_25', 'MoveAhead_25', 'MoveAhead_25', 'MoveAhead_25', 'MoveAhead_25', 'MoveAhead_25', 'MoveAhead_25', 'MoveAhead_25', 'MoveAhead_25', 'MoveAhead_25', 'MoveAhead_25', 'MoveAhead_25', 'MoveAhead_25', 'MoveAhead_25', 'MoveAhead_25', 'MoveAhead_25', 'MoveAhead_25', 'MoveAhead_25', 'MoveAhead_25', 'MoveAhead_25', 'MoveAhead_25', 'MoveAhead_25', 'MoveAhead_25', 'MoveAhead_25', 'RotateRight_90', 'MoveAhead_25', 'MoveAhead_25', 'MoveAhead_25', 'MoveAhead_25', 'MoveAhead_25', 'MoveAhead_25', 'MoveAhead_25', 'MoveAhead_25', 'MoveAhead_25', 'MoveAhead_25', 'MoveAhead_25', 'RotateRight_90', 'LookDown_15', 'PickupObject', 'LookUp_15', 'RotateLeft_90', 'MoveAhead_25', 'MoveAhead_25', 'MoveAhead_25', 'MoveAhead_25', 'RotateRight_90', 'MoveAhead_25', 'MoveAhead_25', 'MoveAhead_25', 'MoveAhead_25', 'MoveAhead_25', 'RotateLeft_90', 'MoveAhead_25', 'RotateLeft_90', 'OpenObject', 'PutObject', 'CloseObject'], 'action_high': ['GotoLocation', 'PickupObject', 'GotoLocation', 'PutObject', 'NoOp'], 'p_lang_instr': ['the', 'the', 'the', 'the', 'the', 'the', 'the', 'the', 'the', 'the', 'the', 'the', 'the', 'the', 'the', 'the', 'the', 'the', 'the', 'the', 'the', 'the', 'the', 'the', 'the', 'the', 'the', 'the', 'the', 'the', 'the', 'the', 'the', 'the', 'the', 'the', 'the', 'the', 'the', 'the', 'the', 'the', 'the', 'the', 'the', 'the', 'the', 'the', 'the', 'the', 'the', 'the', 'the', 'the', 'the', 'the', 'the', 'the', 'the', 'the', 'the', 'the', 'the', 'the', 'the', 'the', 'the', 'the', 'the', 'the', 'the', 'the', 'the', 'the', 'the', 'the', 'the', 'the', 'the', 'the', 'the', 'the', 'the', 'the', 'the', 'the', 'the', 'the', 'the', 'the', 'the', 'the', 'the', 'the', 'the', 'the', 'the', 'the', 'the', 'the', 'the', 'the', 'the', 'the', 'the', 'the', 'the', 'the', 'the', 'the', 'the', 'the', 'the', 'the', 'the', 'the', 'the', 'the', 'the', 'the', 'the', 'the', 'the', 'the', 'the', 'the', 'the', 'the', 'the', 'the', 'the', 'the', 'the', 'the', 'the']}, 'trial_T20190909_011522_113515': {'lang_goal': 'To place a pan with a tomato slice in it in the fridge.', 'lang_instr': ['Walk forward to the wall then turn right to face the left end of the white table.', 'Pick up the knife on the white table.', 'Turn right and walk across the room and turn left to face the tomato on the counter.', 'Cut the tomato on the counter into slices.', 'Place the knife on the counter.', 'Pick up a slice of tomato on the counter.', 'Turn left and walk forward and turn right to face the stove.', 'Place the tomato in the pan on the front of the stove.', 'Pick up the pan on the front of the stove.', 'Turn around and walk to the right to face the fridge.', 'Place the pan with a tomato slice in it in the fridge.'], 'word_inp_goal': [' to ', ' place ', ' a ', ' pan ', ' with ', ' a ', ' tomato ', ' slice ', ' in ', ' it ', ' in ', ' the ', ' fridge ', '. ', '<<goal>>'], 'word_inp_instr': [[' walk ', ' forward ', ' to ', ' the ', ' wall ', ' then ', ' turn ', ' right ', ' to ', ' face ', ' the ', ' left ', ' end ', ' of ', ' the ', ' white ', ' table ', '. '], [' pick ', ' up ', ' the ', ' knife ', ' on ', ' the ', ' white ', ' table ', '. '], [' turn ', ' right ', ' and ', ' walk ', ' across ', ' the ', ' room ', ' and ', ' turn ', ' left ', ' to ', ' face ', ' the ', ' tomato ', ' on ', ' the ', ' counter ', '. '], [' cut ', ' the ', ' tomato ', ' on ', ' the ', ' counter ', ' into ', ' slices ', '. '], [' place ', ' the ', ' knife ', ' on ', ' the ', ' counter ', '. '], [' pick ', ' up ', ' a ', ' slice ', ' of ', ' tomato ', ' on ', ' the ', ' counter ', '. '], [' turn ', ' left ', ' and ', ' walk ', ' forward ', ' and ', ' turn ', ' right ', ' to ', ' face ', ' the ', ' stove ', '. '], [' place ', ' the ', ' tomato ', ' in ', ' the ', ' pan ', ' on ', ' the ', ' front ', ' of ', ' the ', ' stove ', '. '], [' pick ', ' up ', ' the ', ' pan ', ' on ', ' the ', ' front ', ' of ', ' the ', ' stove ', '. '], [' turn ', ' around ', ' and ', ' walk ', ' to ', ' the ', ' right ', ' to ', ' face ', ' the ', ' fridge ', '. '], [' place ', ' the ', ' pan ', ' with ', ' a ', ' tomato ', ' slice ', ' in ', ' it ', ' in ', ' the ', ' fridge ', '. '], ['<<stop>>']], 'num_inp_goal': [18, 10, 35, 13, 51, 35, 281, 55, 11, 52, 11, 4, 85, 16, 2], 'num_inp_instr': [[47, 144, 18, 4, 258, 37, 24, 38, 18, 39, 4, 19, 141, 21, 4, 59, 60, 16], [22, 23, 4, 63, 15, 4, 59, 60, 16], [24, 38, 26, 47, 164, 4, 165, 26, 24, 19, 18, 39, 4, 281, 15, 4, 36, 16], [67, 4, 281, 15, 4, 36, 152, 208, 16], [10, 4, 63, 15, 4, 36, 16], [22, 23, 35, 55, 21, 281, 15, 4, 36, 16], [24, 19, 26, 47, 144, 26, 24, 38, 18, 39, 4, 27, 16], [10, 4, 281, 11, 4, 13, 15, 4, 40, 21, 4, 27, 16], [22, 23, 4, 13, 15, 4, 40, 21, 4, 27, 16], [24, 25, 26, 47, 18, 4, 38, 18, 39, 4, 85, 16], [10, 4, 13, 51, 35, 281, 55, 11, 52, 11, 4, 85, 16], [34]], 'action_low': ['LookDown_15', 'MoveAhead_25', 'MoveAhead_25', 'MoveAhead_25', 'MoveAhead_25', 'MoveAhead_25', 'MoveAhead_25', 'MoveAhead_25', 'MoveAhead_25', 'MoveAhead_25', 'MoveAhead_25', 'MoveAhead_25', 'RotateRight_90', 'MoveAhead_25', 'MoveAhead_25', 'MoveAhead_25', 'PickupObject', 'RotateRight_90', 'MoveAhead_25', 'MoveAhead_25', 'MoveAhead_25', 'MoveAhead_25', 'MoveAhead_25', 'MoveAhead_25', 'MoveAhead_25', 'MoveAhead_25', 'MoveAhead_25', 'MoveAhead_25', 'MoveAhead_25', 'MoveAhead_25', 'MoveAhead_25', 'MoveAhead_25', 'MoveAhead_25', 'MoveAhead_25', 'MoveAhead_25', 'RotateLeft_90', 'SliceObject', 'PutObject', 'PickupObject', 'RotateLeft_90', 'MoveAhead_25', 'MoveAhead_25', 'MoveAhead_25', 'RotateRight_90', 'PutObject', 'PickupObject', 'RotateLeft_90', 'MoveAhead_25', 'MoveAhead_25', 'MoveAhead_25', 'MoveAhead_25', 'MoveAhead_25', 'MoveAhead_25', 'MoveAhead_25', 'MoveAhead_25', 'MoveAhead_25', 'MoveAhead_25', 'MoveAhead_25', 'MoveAhead_25', 'MoveAhead_25', 'RotateLeft_90', 'MoveAhead_25', 'MoveAhead_25', 'MoveAhead_25', 'LookDown_15', 'OpenObject', 'PutObject', 'CloseObject'], 'action_high': ['GotoLocation', 'PickupObject', 'GotoLocation', 'SliceObject', 'PutObject', 'PickupObject', 'GotoLocation', 'PutObject', 'PickupObject', 'GotoLocation', 'PutObject', 'NoOp'], 'p_lang_instr': ['the', 'the', 'the', 'the', 'the', 'the', 'the', 'the', 'the', 'the', 'the', 'the', 'the', 'the', 'the', 'the', 'the', 'the', 'the', 'the', 'the', 'the', 'the', 'the', 'the', 'the', 'the', 'the', 'the', 'the', 'the', 'the', 'the', 'the', 'the', 'the', 'the', 'the', 'the', 'the', 'the', 'the', 'the', 'the', 'the', 'the', 'the', 'the', 'the', 'the', 'the', 'the', 'the', 'the', 'the', 'the', 'the', 'the', 'the', 'the', 'the', 'the', 'the', 'the', 'the', 'the', 'the', 'the', 'the', 'the', 'the', 'the', 'the', 'the', 'the', 'the', 'the', 'the', 'the', 'the', 'the', 'the', 'the', 'the', 'the', 'the', 'the', 'the', 'the', 'the', 'the', 'the', 'the', 'the', 'the', 'the', 'the', 'the', 'the', 'the', 'the', 'the', 'the', 'the', 'the', 'the', 'the', 'the', 'the', 'the', 'the', 'the', 'the', 'the', 'the', 'the', 'the', 'the', 'the', 'the', 'the', 'the', 'the', 'the', 'the', 'the', 'the', 'the', 'the', 'the', 'the', 'the', 'the', 'the', 'the']}, 'trial_T20190907_183137_838565': {'lang_goal': 'Put the watch in the bowl on the nightstand. ', 'lang_instr': ['Turn around, walk around the bookshelf, turn to the desk. ', 'Pick the watch up off of the desk.', 'Put the watch in the bowl on the desk.', 'Pick up the bowl off of the desk. ', 'Walk back around the bookshelf, walk over between the two beds. ', 'Put the bowl on the nightstand. '], 'word_inp_goal': [' put ', ' the ', ' watch ', ' in ', ' the ', ' bowl ', ' on ', ' the ', ' nightstand ', '. ', '<<goal>>'], 'word_inp_instr': [[' turn ', ' around ', ', ', ' walk ', ' around ', ' the ', ' bookshelf ', ', ', ' turn ', ' to ', ' the ', ' desk ', '. '], [' pick ', ' the ', ' watch ', ' up ', ' off ', ' of ', ' the ', ' desk ', '. '], [' put ', ' the ', ' watch ', ' in ', ' the ', ' bowl ', ' on ', ' the ', ' desk ', '. '], [' pick ', ' up ', ' the ', ' bowl ', ' off ', ' of ', ' the ', ' desk ', '. '], [' walk ', ' back ', ' around ', ' the ', ' bookshelf ', ', ', ' walk ', ' over ', ' between ', ' the ', ' two ', ' beds ', '. '], [' put ', ' the ', ' bowl ', ' on ', ' the ', ' nightstand ', '. '], ['<<stop>>']], 'num_inp_goal': [14, 4, 442, 11, 4, 313, 15, 4, 453, 16, 2], 'num_inp_instr': [[24, 25, 9, 47, 25, 4, 367, 9, 24, 18, 4, 113, 16], [22, 4, 442, 23, 115, 21, 4, 113, 16], [14, 4, 442, 11, 4, 313, 15, 4, 113, 16], [22, 23, 4, 313, 115, 21, 4, 113, 16], [47, 29, 25, 4, 367, 9, 47, 53, 198, 4, 105, 673, 16], [14, 4, 313, 15, 4, 453, 16], [34]], 'action_low': ['LookDown_15', 'RotateLeft_90', 'MoveAhead_25', 'RotateLeft_90', 'MoveAhead_25', 'MoveAhead_25', 'MoveAhead_25', 'MoveAhead_25', 'RotateRight_90', 'MoveAhead_25', 'MoveAhead_25', 'MoveAhead_25', 'MoveAhead_25', 'MoveAhead_25', 'MoveAhead_25', 'RotateRight_90', 'MoveAhead_25', 'MoveAhead_25', 'MoveAhead_25', 'MoveAhead_25', 'MoveAhead_25', 'MoveAhead_25', 'RotateLeft_90', 'MoveAhead_25', 'RotateRight_90', 'MoveAhead_25', 'RotateLeft_90', 'MoveAhead_25', 'MoveAhead_25', 'MoveAhead_25', 'RotateLeft_90', 'LookDown_15', 'PickupObject', 'PutObject', 'PickupObject', 'LookUp_15', 'RotateLeft_90', 'MoveAhead_25', 'MoveAhead_25', 'MoveAhead_25', 'RotateRight_90', 'MoveAhead_25', 'MoveAhead_25', 'RotateLeft_90', 'MoveAhead_25', 'MoveAhead_25', 'RotateRight_90', 'MoveAhead_25', 'MoveAhead_25', 'MoveAhead_25', 'MoveAhead_25', 'MoveAhead_25', 'RotateLeft_90', 'MoveAhead_25', 'MoveAhead_25', 'MoveAhead_25', 'MoveAhead_25', 'MoveAhead_25', 'MoveAhead_25', 'RotateLeft_90', 'MoveAhead_25', 'MoveAhead_25', 'MoveAhead_25', 'MoveAhead_25', 'RotateRight_90', 'MoveAhead_25', 'MoveAhead_25', 'MoveAhead_25', 'MoveAhead_25', 'MoveAhead_25', 'MoveAhead_25', 'MoveAhead_25', 'RotateRight_90', 'MoveAhead_25', 'MoveAhead_25', 'MoveAhead_25', 'MoveAhead_25', 'MoveAhead_25', 'MoveAhead_25', 'MoveAhead_25', 'LookDown_15', 'PutObject'], 'action_high': ['GotoLocation', 'PickupObject', 'PutObject', 'PickupObject', 'GotoLocation', 'PutObject', 'NoOp'], 'p_lang_instr': ['the', 'the', 'the', 'the', 'the', 'the', 'the', 'the', 'the', 'the', 'the', 'the', 'the', 'the', 'the', 'the', 'the', 'the', 'the', 'the', 'the', 'the', 'the', 'the', 'the', 'the', 'the', 'the', 'the', 'the', 'the', 'the', 'the', 'the', 'the', 'the', 'the', 'the', 'the', 'the', 'the', 'the', 'the', 'the', 'the', 'the', 'the', 'the', 'the', 'the', 'the', 'the', 'the', 'the', 'the', 'the', 'the', 'the', 'the', 'the', 'the', 'the', 'the', 'the', 'the', 'the', 'the', 'the', 'the', 'the', 'the', 'the', 'the', 'the', 'the', 'the', 'the', 'the', 'the', 'the', 'the', 'the', 'the', 'the', 'the', 'the', 'the', 'the', 'the', 'the', 'the', 'the', 'the', 'the', 'the', 'the', 'the', 'the', 'the', 'the', 'the', 'the', 'the', 'the', 'the', 'the', 'the', 'the', 'the', 'the', 'the', 'the', 'the', 'the', 'the', 'the', 'the', 'the', 'the', 'the', 'the', 'the', 'the', 'the', 'the', 'the', 'the', 'the', 'the', 'the', 'the', 'the', 'the', 'the', 'the']}, 'trial_T20190907_033843_707544': {'lang_goal': 'Place spray bottles on the back of a toilet', 'lang_instr': ['Turn right and walk to the long stand that is along the wall across the room', 'Pick up the spray bottle that is closest to the wall.', 'Turn around and cross the room then turn left to face the side of the toilet', 'Place the spray bottle on the back of the toilet', 'Turn around and cross the room then turn right and walk to the long stand along the wall, the stand that is on the left', 'Pick up the yellow spray bottle.', 'Turn around and walk to the long stand and then turn left and walk across the room then turn left to face the side of the toilet', 'Place the spray bottle on the back to the toilet to the left of the other spray bottle'], 'word_inp_goal': [' place ', ' spray ', ' bottles ', ' on ', ' the ', ' back ', ' of ', ' a ', ' toilet ', '<<goal>>'], 'word_inp_instr': [[' turn ', ' right ', ' and ', ' walk ', ' to ', ' the ', ' long ', ' stand ', ' that ', ' is ', ' along ', ' the ', ' wall ', ' across ', ' the ', ' room '], [' pick ', ' up ', ' the ', ' spray ', ' bottle ', ' that ', ' is ', ' closest ', ' to ', ' the ', ' wall ', '. '], [' turn ', ' around ', ' and ', ' cross ', ' the ', ' room ', ' then ', ' turn ', ' left ', ' to ', ' face ', ' the ', ' side ', ' of ', ' the ', ' toilet '], [' place ', ' the ', ' spray ', ' bottle ', ' on ', ' the ', ' back ', ' of ', ' the ', ' toilet '], [' turn ', ' around ', ' and ', ' cross ', ' the ', ' room ', ' then ', ' turn ', ' right ', ' and ', ' walk ', ' to ', ' the ', ' long ', ' stand ', ' along ', ' the ', ' wall ', ', ', ' the ', ' stand ', ' that ', ' is ', ' on ', ' the ', ' left '], [' pick ', ' up ', ' the ', ' yellow ', ' spray ', ' bottle ', '. '], [' turn ', ' around ', ' and ', ' walk ', ' to ', ' the ', ' long ', ' stand ', ' and ', ' then ', ' turn ', ' left ', ' and ', ' walk ', ' across ', ' the ', ' room ', ' then ', ' turn ', ' left ', ' to ', ' face ', ' the ', ' side ', ' of ', ' the ', ' toilet '], [' place ', ' the ', ' spray ', ' bottle ', ' on ', ' the ', ' back ', ' to ', ' the ', ' toilet ', ' to ', ' the ', ' left ', ' of ', ' the ', ' other ', ' spray ', ' bottle '], ['<<stop>>']], 'num_inp_goal': [10, 473, 288, 15, 4, 29, 21, 35, 265, 2], 'num_inp_instr': [[24, 38, 26, 47, 18, 4, 44, 129, 79, 150, 302, 4, 258, 164, 4, 165], [22, 23, 4, 473, 260, 79, 150, 100, 18, 4, 258, 16], [24, 25, 26, 191, 4, 165, 37, 24, 19, 18, 39, 4, 20, 21, 4, 265], [10, 4, 473, 260, 15, 4, 29, 21, 4, 265], [24, 25, 26, 191, 4, 165, 37, 24, 38, 26, 47, 18, 4, 44, 129, 302, 4, 258, 9, 4, 129, 79, 150, 15, 4, 19], [22, 23, 4, 62, 473, 260, 16], [24, 25, 26, 47, 18, 4, 44, 129, 26, 37, 24, 19, 26, 47, 164, 4, 165, 37, 24, 19, 18, 39, 4, 20, 21, 4, 265], [10, 4, 473, 260, 15, 4, 29, 18, 4, 265, 18, 4, 19, 21, 4, 61, 473, 260], [34]], 'action_low': ['LookDown_15', 'RotateRight_90', 'MoveAhead_25', 'MoveAhead_25', 'MoveAhead_25', 'MoveAhead_25', 'MoveAhead_25', 'MoveAhead_25', 'RotateLeft_90', 'MoveAhead_25', 'RotateRight_90', 'MoveAhead_25', 'LookDown_15', 'PickupObject', 'LookUp_15', 'RotateRight_90', 'MoveAhead_25', 'RotateRight_90', 'MoveAhead_25', 'MoveAhead_25', 'MoveAhead_25', 'MoveAhead_25', 'MoveAhead_25', 'MoveAhead_25', 'MoveAhead_25', 'MoveAhead_25', 'MoveAhead_25', 'MoveAhead_25', 'RotateLeft_90', 'LookUp_15', 'LookUp_15', 'PutObject', 'LookDown_15', 'LookDown_15', 'RotateLeft_90', 'MoveAhead_25', 'MoveAhead_25', 'MoveAhead_25', 'MoveAhead_25', 'MoveAhead_25', 'MoveAhead_25', 'MoveAhead_25', 'MoveAhead_25', 'MoveAhead_25', 'MoveAhead_25', 'RotateRight_90', 'MoveAhead_25', 'MoveAhead_25', 'MoveAhead_25', 'MoveAhead_25', 'MoveAhead_25', 'LookDown_15', 'PickupObject', 'LookUp_15', 'RotateRight_90', 'RotateRight_90', 'MoveAhead_25', 'MoveAhead_25', 'MoveAhead_25', 'MoveAhead_25', 'MoveAhead_25', 'RotateLeft_90', 'MoveAhead_25', 'MoveAhead_25', 'MoveAhead_25', 'MoveAhead_25', 'MoveAhead_25', 'MoveAhead_25', 'MoveAhead_25', 'MoveAhead_25', 'MoveAhead_25', 'MoveAhead_25', 'RotateLeft_90', 'LookUp_15', 'LookUp_15', 'PutObject'], 'action_high': ['GotoLocation', 'PickupObject', 'GotoLocation', 'PutObject', 'GotoLocation', 'PickupObject', 'GotoLocation', 'PutObject', 'NoOp'], 'p_lang_instr': ['the', 'the', 'the', 'the', 'the', 'the', 'the', 'the', 'the', 'the', 'the', 'the', 'the', 'the', 'the', 'the', 'the', 'the', 'the', 'the', 'the', 'the', 'the', 'the', 'the', 'the', 'the', 'the', 'the', 'the', 'the', 'the', 'the', 'the', 'the', 'the', 'the', 'the', 'the', 'the', 'the', 'the', 'the', 'the', 'the', 'the', 'the', 'the', 'the', 'the', 'the', 'the', 'the', 'the', 'the', 'the', 'the', 'the', 'the', 'the', 'the', 'the', 'the', 'the', 'the', 'the', 'the', 'the', 'the', 'the', 'the', 'the', 'the', 'the', 'the', 'the', 'the', 'the', 'the', 'the', 'the', 'the', 'the', 'the', 'the', 'the', 'the', 'the', 'the', 'the', 'the', 'the', 'the', 'the', 'the', 'the', 'the', 'the', 'the', 'the', 'the', 'the', 'the', 'the', 'the', 'the', 'the', 'the', 'the', 'the', 'the', 'the', 'the', 'the', 'the', 'the', 'the', 'the', 'the', 'the', 'the', 'the', 'the', 'the', 'the', 'the', 'the', 'the', 'the', 'the', 'the', 'the', 'the', 'the', 'the']}, 'trial_T20190910_173916_331859': {'lang_goal': 'Put a chilled tomato in the microwave', 'lang_instr': ['Turn left  and go through the kitchen to the front of the counter top on the left of  the sink', 'Pick up the red tomato on the left side of the counter. ', 'Turn around and go to the front of the refrigerator. ', 'Chill the tomato in the refrigerator and take it out. ', 'Turn around and go left to the front of the microwave above the stove. ', 'Place the chilled tomato in the microwave and close it.'], 'word_inp_goal': [' put ', ' a ', ' chilled ', ' tomato ', ' in ', ' the ', ' microwave ', '<<goal>>'], 'word_inp_instr': [[' turn ', ' left ', ' and ', ' go ', ' through ', ' the ', ' kitchen ', ' to ', ' the ', ' front ', ' of ', ' the ', ' counter ', ' top ', ' on ', ' the ', ' left ', ' of ', ' the ', ' sink '], [' pick ', ' up ', ' the ', ' red ', ' tomato ', ' on ', ' the ', ' left ', ' side ', ' of ', ' the ', ' counter ', '. '], [' turn ', ' around ', ' and ', ' go ', ' to ', ' the ', ' front ', ' of ', ' the ', ' refrigerator ', '. '], [' chill ', ' the ', ' tomato ', ' in ', ' the ', ' refrigerator ', ' and ', ' take ', ' it ', ' out ', '. '], [' turn ', ' around ', ' and ', ' go ', ' left ', ' to ', ' the ', ' front ', ' of ', ' the ', ' microwave ', ' above ', ' the ', ' stove ', '. '], [' place ', ' the ', ' chilled ', ' tomato ', ' in ', ' the ', ' microwave ', ' and ', ' close ', ' it ', '. '], ['<<stop>>']], 'num_inp_goal': [14, 35, 54, 281, 11, 4, 57, 2], 'num_inp_instr': [[24, 19, 26, 30, 505, 4, 7, 18, 4, 40, 21, 4, 36, 66, 15, 4, 19, 21, 4, 149], [22, 23, 4, 139, 281, 15, 4, 19, 20, 21, 4, 36, 16], [24, 25, 26, 30, 18, 4, 40, 21, 4, 71, 16], [72, 4, 281, 11, 4, 71, 26, 69, 52, 75, 16], [24, 25, 26, 30, 19, 18, 4, 40, 21, 4, 57, 218, 4, 27, 16], [10, 4, 54, 281, 11, 4, 57, 26, 84, 52, 16], [34]], 'action_low': ['LookDown_15', 'RotateLeft_90', 'MoveAhead_25', 'MoveAhead_25', 'MoveAhead_25', 'MoveAhead_25', 'MoveAhead_25', 'MoveAhead_25', 'MoveAhead_25', 'MoveAhead_25', 'MoveAhead_25', 'RotateLeft_90', 'MoveAhead_25', 'RotateRight_90', 'MoveAhead_25', 'RotateLeft_90', 'MoveAhead_25', 'MoveAhead_25', 'MoveAhead_25', 'RotateLeft_90', 'MoveAhead_25', 'RotateRight_90', 'MoveAhead_25', 'MoveAhead_25', 'MoveAhead_25', 'MoveAhead_25', 'MoveAhead_25', 'MoveAhead_25', 'MoveAhead_25', 'PickupObject', 'RotateRight_90', 'MoveAhead_25', 'MoveAhead_25', 'MoveAhead_25', 'MoveAhead_25', 'MoveAhead_25', 'RotateRight_90', 'MoveAhead_25', 'MoveAhead_25', 'MoveAhead_25', 'MoveAhead_25', 'MoveAhead_25', 'MoveAhead_25', 'MoveAhead_25', 'MoveAhead_25', 'MoveAhead_25', 'LookDown_15', 'OpenObject', 'PutObject', 'CloseObject', 'OpenObject', 'PickupObject', 'CloseObject', 'LookUp_15', 'RotateRight_90', 'RotateRight_90', 'MoveAhead_25', 'MoveAhead_25', 'MoveAhead_25', 'MoveAhead_25', 'MoveAhead_25', 'MoveAhead_25', 'RotateLeft_90', 'MoveAhead_25', 'MoveAhead_25', 'MoveAhead_25', 'MoveAhead_25', 'MoveAhead_25', 'LookUp_15', 'LookUp_15', 'OpenObject', 'PutObject', 'CloseObject'], 'action_high': ['GotoLocation', 'PickupObject', 'GotoLocation', 'CoolObject', 'GotoLocation', 'PutObject', 'NoOp'], 'p_lang_instr': ['the', 'the', 'the', 'the', 'the', 'the', 'the', 'the', 'the', 'the', 'the', 'the', 'the', 'the', 'the', 'the', 'the', 'the', 'the', 'the', 'the', 'the', 'the', 'the', 'the', 'the', 'the', 'the', 'the', 'the', 'the', 'the', 'the', 'the', 'the', 'the', 'the', 'the', 'the', 'the', 'the', 'the', 'the', 'the', 'the', 'the', 'the', 'the', 'the', 'the', 'the', 'the', 'the', 'the', 'the', 'the', 'the', 'the', 'the', 'the', 'the', 'the', 'the', 'the', 'the', 'the', 'the', 'the', 'the', 'the', 'the', 'the', 'the', 'the', 'the', 'the', 'the', 'the', 'the', 'the', 'the', 'the', 'the', 'the', 'the', 'the', 'the', 'the', 'the', 'the', 'the', 'the', 'the', 'the', 'the', 'the', 'the', 'the', 'the', 'the', 'the', 'the', 'the', 'the', 'the', 'the', 'the', 'the', 'the', 'the', 'the', 'the', 'the', 'the', 'the', 'the', 'the', 'the', 'the', 'the', 'the', 'the', 'the', 'the', 'the', 'the', 'the', 'the', 'the', 'the', 'the', 'the', 'the', 'the', 'the']}, 'trial_T20190907_164342_432289': {'lang_goal': 'Turn a lamp on with a remote in hand.', 'lang_instr': ['Turn around and face the table with the remote on it.', 'Pick the remote up from the table.', 'Turn left and then right to face the lamp in the corner.', 'Turn the lamp on.'], 'word_inp_goal': [' turn ', ' a ', ' lamp ', ' on ', ' with ', ' a ', ' remote ', ' in ', ' hand ', '. ', '<<goal>>'], 'word_inp_instr': [[' turn ', ' around ', ' and ', ' face ', ' the ', ' table ', ' with ', ' the ', ' remote ', ' on ', ' it ', '. '], [' pick ', ' the ', ' remote ', ' up ', ' from ', ' the ', ' table ', '. '], [' turn ', ' left ', ' and ', ' then ', ' right ', ' to ', ' face ', ' the ', ' lamp ', ' in ', ' the ', ' corner ', '. '], [' turn ', ' the ', ' lamp ', ' on ', '. '], ['<<stop>>']], 'num_inp_goal': [24, 35, 96, 15, 51, 35, 194, 11, 243, 16, 2], 'num_inp_instr': [[24, 25, 26, 39, 4, 60, 51, 4, 194, 15, 52, 16], [22, 4, 194, 23, 6, 4, 60, 16], [24, 19, 26, 37, 38, 18, 39, 4, 96, 11, 4, 121, 16], [24, 4, 96, 15, 16], [34]], 'action_low': ['LookDown_15', 'RotateRight_90', 'RotateRight_90', 'MoveAhead_25', 'MoveAhead_25', 'MoveAhead_25', 'MoveAhead_25', 'MoveAhead_25', 'MoveAhead_25', 'MoveAhead_25', 'MoveAhead_25', 'MoveAhead_25', 'MoveAhead_25', 'RotateRight_90', 'MoveAhead_25', 'MoveAhead_25', 'MoveAhead_25', 'MoveAhead_25', 'MoveAhead_25', 'MoveAhead_25', 'RotateRight_90', 'MoveAhead_25', 'LookDown_15', 'PickupObject', 'LookUp_15', 'RotateLeft_90', 'RotateLeft_90', 'MoveAhead_25', 'MoveAhead_25', 'MoveAhead_25', 'MoveAhead_25', 'MoveAhead_25', 'MoveAhead_25', 'RotateRight_90', 'MoveAhead_25', 'MoveAhead_25', 'MoveAhead_25', 'MoveAhead_25', 'LookUp_15', 'LookUp_15', 'LookUp_15', 'ToggleObjectOn'], 'action_high': ['GotoLocation', 'PickupObject', 'GotoLocation', 'ToggleObject', 'NoOp'], 'p_lang_instr': ['the', 'the', 'the', 'the', 'the', 'the', 'the', 'the', 'the', 'the', 'the', 'the', 'the', 'the', 'the', 'the', 'the', 'the', 'the', 'the', 'the', 'the', 'the', 'the', 'the', 'the', 'the', 'the', 'the', 'the', 'the', 'the', 'the', 'the', 'the', 'the', 'the', 'the', 'the', 'the', 'the', 'the', 'the', 'the', 'the', 'the', 'the', 'the', 'the', 'the', 'the', 'the', 'the', 'the', 'the', 'the', 'the', 'the', 'the', 'the', 'the', 'the', 'the', 'the', 'the', 'the', 'the', 'the', 'the', 'the', 'the', 'the', 'the', 'the', 'the', 'the', 'the', 'the', 'the', 'the', 'the', 'the', 'the', 'the', 'the', 'the', 'the', 'the', 'the', 'the', 'the', 'the', 'the', 'the', 'the', 'the', 'the', 'the', 'the', 'the', 'the', 'the', 'the', 'the', 'the', 'the', 'the', 'the', 'the', 'the', 'the', 'the', 'the', 'the', 'the', 'the', 'the', 'the', 'the', 'the', 'the', 'the', 'the', 'the', 'the', 'the', 'the', 'the', 'the', 'the', 'the', 'the', 'the', 'the', 'the']}}\n"
     ]
    },
    {
     "name": "stdout",
     "output_type": "stream",
     "text": [
      "(Pdb) for k in debug: print(k)\n",
      "trial_T20190909_115736_122556\n",
      "trial_T20190909_091246_807206\n",
      "trial_T20190918_184236_557252\n",
      "trial_T20190908_052007_212776\n",
      "trial_T20190907_232225_725376\n",
      "trial_T20190908_065238_500229\n",
      "trial_T20190908_192636_561572\n",
      "trial_T20190908_165525_911839\n",
      "trial_T20190911_131350_027076\n",
      "trial_T20190907_151802_277016\n",
      "trial_T20190909_010644_297017\n",
      "trial_T20190909_011522_113515\n",
      "trial_T20190907_183137_838565\n",
      "trial_T20190907_033843_707544\n",
      "trial_T20190910_173916_331859\n",
      "trial_T20190907_164342_432289\n",
      "(Pdb) c\n",
      "Found new best valid_unseen!! Saving...\n",
      "> /home/hoyeung/alfred/models/model/seq2seq.py(268)make_debug()\n",
      "-> return debug\n",
      "(Pdb) q\n"
     ]
    },
    {
     "name": "stderr",
     "output_type": "stream",
     "text": [
      "epoch:   0%|          | 0/2 [01:10<?, ?it/s]\n"
     ]
    },
    {
     "ename": "BdbQuit",
     "evalue": "",
     "output_type": "error",
     "traceback": [
      "\u001b[0;31m---------------------------------------------------------------------------\u001b[0m",
      "\u001b[0;31mBdbQuit\u001b[0m                                   Traceback (most recent call last)",
      "\u001b[0;32m<ipython-input-16-8bb4d220b0eb>\u001b[0m in \u001b[0;36m<module>\u001b[0;34m\u001b[0m\n\u001b[0;32m----> 1\u001b[0;31m \u001b[0mmodel\u001b[0m\u001b[0;34m.\u001b[0m\u001b[0mrun_train\u001b[0m\u001b[0;34m(\u001b[0m\u001b[0msplits\u001b[0m\u001b[0;34m,\u001b[0m \u001b[0moptimizer\u001b[0m\u001b[0;34m=\u001b[0m\u001b[0moptimizer\u001b[0m\u001b[0;34m)\u001b[0m\u001b[0;34m\u001b[0m\u001b[0;34m\u001b[0m\u001b[0m\n\u001b[0m",
      "\u001b[0;32m/home/hoyeung/alfred/models/model/seq2seq.py\u001b[0m in \u001b[0;36mrun_train\u001b[0;34m(self, splits, args, optimizer)\u001b[0m\n\u001b[1;32m    168\u001b[0m                 \u001b[0mfpred\u001b[0m \u001b[0;34m=\u001b[0m \u001b[0mos\u001b[0m\u001b[0;34m.\u001b[0m\u001b[0mpath\u001b[0m\u001b[0;34m.\u001b[0m\u001b[0mjoin\u001b[0m\u001b[0;34m(\u001b[0m\u001b[0margs\u001b[0m\u001b[0;34m.\u001b[0m\u001b[0mdout\u001b[0m\u001b[0;34m,\u001b[0m \u001b[0;34m'valid_unseen.debug.preds.json'\u001b[0m\u001b[0;34m)\u001b[0m\u001b[0;34m\u001b[0m\u001b[0;34m\u001b[0m\u001b[0m\n\u001b[1;32m    169\u001b[0m                 \u001b[0;32mwith\u001b[0m \u001b[0mopen\u001b[0m\u001b[0;34m(\u001b[0m\u001b[0mfpred\u001b[0m\u001b[0;34m,\u001b[0m \u001b[0;34m'wt'\u001b[0m\u001b[0;34m)\u001b[0m \u001b[0;32mas\u001b[0m \u001b[0mf\u001b[0m\u001b[0;34m:\u001b[0m\u001b[0;34m\u001b[0m\u001b[0;34m\u001b[0m\u001b[0m\n\u001b[0;32m--> 170\u001b[0;31m                     \u001b[0mjson\u001b[0m\u001b[0;34m.\u001b[0m\u001b[0mdump\u001b[0m\u001b[0;34m(\u001b[0m\u001b[0mself\u001b[0m\u001b[0;34m.\u001b[0m\u001b[0mmake_debug\u001b[0m\u001b[0;34m(\u001b[0m\u001b[0mp_valid_unseen\u001b[0m\u001b[0;34m,\u001b[0m \u001b[0mvalid_unseen\u001b[0m\u001b[0;34m)\u001b[0m\u001b[0;34m,\u001b[0m \u001b[0mf\u001b[0m\u001b[0;34m,\u001b[0m \u001b[0mindent\u001b[0m\u001b[0;34m=\u001b[0m\u001b[0;36m2\u001b[0m\u001b[0;34m)\u001b[0m\u001b[0;34m\u001b[0m\u001b[0;34m\u001b[0m\u001b[0m\n\u001b[0m\u001b[1;32m    171\u001b[0m \u001b[0;34m\u001b[0m\u001b[0m\n\u001b[1;32m    172\u001b[0m                 \u001b[0mbest_loss\u001b[0m\u001b[0;34m[\u001b[0m\u001b[0;34m'valid_unseen'\u001b[0m\u001b[0;34m]\u001b[0m \u001b[0;34m=\u001b[0m \u001b[0mtotal_valid_unseen_loss\u001b[0m\u001b[0;34m\u001b[0m\u001b[0;34m\u001b[0m\u001b[0m\n",
      "\u001b[0;32m/home/hoyeung/alfred/models/model/seq2seq.py\u001b[0m in \u001b[0;36mmake_debug\u001b[0;34m(self, preds, data)\u001b[0m\n\u001b[1;32m    266\u001b[0m             }\n\u001b[1;32m    267\u001b[0m         \u001b[0;32mimport\u001b[0m \u001b[0mpdb\u001b[0m\u001b[0;34m;\u001b[0m \u001b[0mpdb\u001b[0m\u001b[0;34m.\u001b[0m\u001b[0mset_trace\u001b[0m\u001b[0;34m(\u001b[0m\u001b[0;34m)\u001b[0m\u001b[0;34m\u001b[0m\u001b[0;34m\u001b[0m\u001b[0m\n\u001b[0;32m--> 268\u001b[0;31m         \u001b[0;32mreturn\u001b[0m \u001b[0mdebug\u001b[0m\u001b[0;34m\u001b[0m\u001b[0;34m\u001b[0m\u001b[0m\n\u001b[0m\u001b[1;32m    269\u001b[0m \u001b[0;34m\u001b[0m\u001b[0m\n\u001b[1;32m    270\u001b[0m     \u001b[0;32mdef\u001b[0m \u001b[0mload_task_json\u001b[0m\u001b[0;34m(\u001b[0m\u001b[0mself\u001b[0m\u001b[0;34m,\u001b[0m \u001b[0mtask\u001b[0m\u001b[0;34m)\u001b[0m\u001b[0;34m:\u001b[0m\u001b[0;34m\u001b[0m\u001b[0;34m\u001b[0m\u001b[0m\n",
      "\u001b[0;32m/home/hoyeung/alfred/models/model/seq2seq.py\u001b[0m in \u001b[0;36mmake_debug\u001b[0;34m(self, preds, data)\u001b[0m\n\u001b[1;32m    266\u001b[0m             }\n\u001b[1;32m    267\u001b[0m         \u001b[0;32mimport\u001b[0m \u001b[0mpdb\u001b[0m\u001b[0;34m;\u001b[0m \u001b[0mpdb\u001b[0m\u001b[0;34m.\u001b[0m\u001b[0mset_trace\u001b[0m\u001b[0;34m(\u001b[0m\u001b[0;34m)\u001b[0m\u001b[0;34m\u001b[0m\u001b[0;34m\u001b[0m\u001b[0m\n\u001b[0;32m--> 268\u001b[0;31m         \u001b[0;32mreturn\u001b[0m \u001b[0mdebug\u001b[0m\u001b[0;34m\u001b[0m\u001b[0;34m\u001b[0m\u001b[0m\n\u001b[0m\u001b[1;32m    269\u001b[0m \u001b[0;34m\u001b[0m\u001b[0m\n\u001b[1;32m    270\u001b[0m     \u001b[0;32mdef\u001b[0m \u001b[0mload_task_json\u001b[0m\u001b[0;34m(\u001b[0m\u001b[0mself\u001b[0m\u001b[0;34m,\u001b[0m \u001b[0mtask\u001b[0m\u001b[0;34m)\u001b[0m\u001b[0;34m:\u001b[0m\u001b[0;34m\u001b[0m\u001b[0;34m\u001b[0m\u001b[0m\n",
      "\u001b[0;32m/opt/conda/envs/pytorch-py3.6/lib/python3.6/bdb.py\u001b[0m in \u001b[0;36mtrace_dispatch\u001b[0;34m(self, frame, event, arg)\u001b[0m\n\u001b[1;32m     49\u001b[0m             \u001b[0;32mreturn\u001b[0m \u001b[0;31m# None\u001b[0m\u001b[0;34m\u001b[0m\u001b[0;34m\u001b[0m\u001b[0m\n\u001b[1;32m     50\u001b[0m         \u001b[0;32mif\u001b[0m \u001b[0mevent\u001b[0m \u001b[0;34m==\u001b[0m \u001b[0;34m'line'\u001b[0m\u001b[0;34m:\u001b[0m\u001b[0;34m\u001b[0m\u001b[0;34m\u001b[0m\u001b[0m\n\u001b[0;32m---> 51\u001b[0;31m             \u001b[0;32mreturn\u001b[0m \u001b[0mself\u001b[0m\u001b[0;34m.\u001b[0m\u001b[0mdispatch_line\u001b[0m\u001b[0;34m(\u001b[0m\u001b[0mframe\u001b[0m\u001b[0;34m)\u001b[0m\u001b[0;34m\u001b[0m\u001b[0;34m\u001b[0m\u001b[0m\n\u001b[0m\u001b[1;32m     52\u001b[0m         \u001b[0;32mif\u001b[0m \u001b[0mevent\u001b[0m \u001b[0;34m==\u001b[0m \u001b[0;34m'call'\u001b[0m\u001b[0;34m:\u001b[0m\u001b[0;34m\u001b[0m\u001b[0;34m\u001b[0m\u001b[0m\n\u001b[1;32m     53\u001b[0m             \u001b[0;32mreturn\u001b[0m \u001b[0mself\u001b[0m\u001b[0;34m.\u001b[0m\u001b[0mdispatch_call\u001b[0m\u001b[0;34m(\u001b[0m\u001b[0mframe\u001b[0m\u001b[0;34m,\u001b[0m \u001b[0marg\u001b[0m\u001b[0;34m)\u001b[0m\u001b[0;34m\u001b[0m\u001b[0;34m\u001b[0m\u001b[0m\n",
      "\u001b[0;32m/opt/conda/envs/pytorch-py3.6/lib/python3.6/bdb.py\u001b[0m in \u001b[0;36mdispatch_line\u001b[0;34m(self, frame)\u001b[0m\n\u001b[1;32m     68\u001b[0m         \u001b[0;32mif\u001b[0m \u001b[0mself\u001b[0m\u001b[0;34m.\u001b[0m\u001b[0mstop_here\u001b[0m\u001b[0;34m(\u001b[0m\u001b[0mframe\u001b[0m\u001b[0;34m)\u001b[0m \u001b[0;32mor\u001b[0m \u001b[0mself\u001b[0m\u001b[0;34m.\u001b[0m\u001b[0mbreak_here\u001b[0m\u001b[0;34m(\u001b[0m\u001b[0mframe\u001b[0m\u001b[0;34m)\u001b[0m\u001b[0;34m:\u001b[0m\u001b[0;34m\u001b[0m\u001b[0;34m\u001b[0m\u001b[0m\n\u001b[1;32m     69\u001b[0m             \u001b[0mself\u001b[0m\u001b[0;34m.\u001b[0m\u001b[0muser_line\u001b[0m\u001b[0;34m(\u001b[0m\u001b[0mframe\u001b[0m\u001b[0;34m)\u001b[0m\u001b[0;34m\u001b[0m\u001b[0;34m\u001b[0m\u001b[0m\n\u001b[0;32m---> 70\u001b[0;31m             \u001b[0;32mif\u001b[0m \u001b[0mself\u001b[0m\u001b[0;34m.\u001b[0m\u001b[0mquitting\u001b[0m\u001b[0;34m:\u001b[0m \u001b[0;32mraise\u001b[0m \u001b[0mBdbQuit\u001b[0m\u001b[0;34m\u001b[0m\u001b[0;34m\u001b[0m\u001b[0m\n\u001b[0m\u001b[1;32m     71\u001b[0m         \u001b[0;32mreturn\u001b[0m \u001b[0mself\u001b[0m\u001b[0;34m.\u001b[0m\u001b[0mtrace_dispatch\u001b[0m\u001b[0;34m\u001b[0m\u001b[0;34m\u001b[0m\u001b[0m\n\u001b[1;32m     72\u001b[0m \u001b[0;34m\u001b[0m\u001b[0m\n",
      "\u001b[0;31mBdbQuit\u001b[0m: "
     ]
    }
   ],
   "source": [
    "# main training loop -- debug here if breakpoints were inserted\n",
    "model.run_train(splits, optimizer=optimizer)"
   ]
  },
  {
   "cell_type": "markdown",
   "metadata": {},
   "source": [
    "# Look at debugging outputs"
   ]
  },
  {
   "cell_type": "code",
   "execution_count": null,
   "metadata": {},
   "outputs": [],
   "source": [
    "import subprocess\n",
    "\n",
    "subprocess.call(['ls -l {}'.format(args.dout)])"
   ]
  },
  {
   "cell_type": "code",
   "execution_count": 18,
   "metadata": {},
   "outputs": [],
   "source": [
    "with open(os.path.join(args.dout, 'valid_seen.debug.preds.json'), 'r') as f:\n",
    "    debug_tr = json.load(f)"
   ]
  },
  {
   "cell_type": "code",
   "execution_count": 19,
   "metadata": {},
   "outputs": [
    {
     "data": {
      "text/plain": [
       "dict"
      ]
     },
     "execution_count": 19,
     "metadata": {},
     "output_type": "execute_result"
    }
   ],
   "source": [
    "print(type(debug_tr))\n",
    "print(len(debug_tr))"
   ]
  },
  {
   "cell_type": "code",
   "execution_count": 20,
   "metadata": {
    "scrolled": true
   },
   "outputs": [
    {
     "data": {
      "text/plain": [
       "dict_keys(['trial_T20190909_115736_122556', 'trial_T20190909_091246_807206', 'trial_T20190918_184236_557252', 'trial_T20190908_052007_212776', 'trial_T20190907_232225_725376', 'trial_T20190908_065238_500229', 'trial_T20190908_192636_561572', 'trial_T20190908_165525_911839', 'trial_T20190911_131350_027076', 'trial_T20190907_151802_277016', 'trial_T20190909_010644_297017', 'trial_T20190909_011522_113515', 'trial_T20190907_183137_838565', 'trial_T20190907_033843_707544', 'trial_T20190910_173916_331859', 'trial_T20190907_164342_432289'])"
      ]
     },
     "execution_count": 20,
     "metadata": {},
     "output_type": "execute_result"
    }
   ],
   "source": [
    "# all the task numbers\n",
    "debug_tr.keys()\n",
    "# let's look at one of them below\n",
    "task_num = 'trial_T20190909_115736_122556'"
   ]
  },
  {
   "cell_type": "code",
   "execution_count": 29,
   "metadata": {},
   "outputs": [
    {
     "data": {
      "text/plain": [
       "dict_keys(['lang_goal', 'lang_instr', 'word_inp_goal', 'word_inp_instr', 'num_inp_goal', 'num_inp_instr', 'action_low', 'action_high', 'p_lang_instr'])"
      ]
     },
     "execution_count": 29,
     "metadata": {},
     "output_type": "execute_result"
    }
   ],
   "source": [
    "# We log these from each task\n",
    "debug_tr[task_num].keys()"
   ]
  },
  {
   "cell_type": "code",
   "execution_count": 50,
   "metadata": {},
   "outputs": [
    {
     "data": {
      "text/plain": [
       "'Put two spray bottles on a toilet tank.'"
      ]
     },
     "execution_count": 50,
     "metadata": {},
     "output_type": "execute_result"
    }
   ],
   "source": [
    "# Gold goal description\n",
    "debug_tr[task_num]['lang_goal']"
   ]
  },
  {
   "cell_type": "code",
   "execution_count": 51,
   "metadata": {},
   "outputs": [
    {
     "data": {
      "text/plain": [
       "['Turn left, go straight, turn left to face the blue bin next to the toilet, look up.',\n",
       " 'Take the purple spray bottle from the cabinet above the toilet.',\n",
       " 'Go backwards while facing towards the blue bin.',\n",
       " 'Put the spray bottle on the left side of the toilet tank.',\n",
       " 'Go forward to the blue bin, turn right, look up.',\n",
       " 'Take the purple spray bottle from the cabinet above that is first from the right.',\n",
       " 'Turn to face the blue bin. Go backwards while facing towards the blue bin.',\n",
       " 'Put the spray bottle on the center of the toilet tank.']"
      ]
     },
     "execution_count": 51,
     "metadata": {},
     "output_type": "execute_result"
    }
   ],
   "source": [
    "# Gold low-level instruction description\n",
    "debug_tr[task_num]['lang_instr']"
   ]
  },
  {
   "cell_type": "code",
   "execution_count": 52,
   "metadata": {},
   "outputs": [
    {
     "data": {
      "text/plain": [
       "['LookDown_15',\n",
       " 'RotateLeft_90',\n",
       " 'MoveAhead_25',\n",
       " 'MoveAhead_25',\n",
       " 'MoveAhead_25',\n",
       " 'MoveAhead_25',\n",
       " 'RotateLeft_90',\n",
       " 'LookUp_15',\n",
       " 'LookUp_15',\n",
       " 'LookUp_15',\n",
       " 'LookUp_15',\n",
       " 'LookUp_15',\n",
       " 'OpenObject',\n",
       " 'PickupObject',\n",
       " 'CloseObject',\n",
       " 'LookDown_15',\n",
       " 'LookDown_15',\n",
       " 'LookDown_15',\n",
       " 'LookDown_15',\n",
       " 'LookDown_15',\n",
       " 'RotateLeft_90',\n",
       " 'RotateLeft_90',\n",
       " 'MoveAhead_25',\n",
       " 'MoveAhead_25',\n",
       " 'RotateRight_90',\n",
       " 'RotateRight_90',\n",
       " 'LookUp_15',\n",
       " 'LookUp_15',\n",
       " 'PutObject',\n",
       " 'LookDown_15',\n",
       " 'LookDown_15',\n",
       " 'MoveAhead_25',\n",
       " 'MoveAhead_25',\n",
       " 'RotateRight_90',\n",
       " 'LookUp_15',\n",
       " 'LookUp_15',\n",
       " 'LookUp_15',\n",
       " 'LookUp_15',\n",
       " 'OpenObject',\n",
       " 'PickupObject',\n",
       " 'CloseObject',\n",
       " 'LookDown_15',\n",
       " 'LookDown_15',\n",
       " 'LookDown_15',\n",
       " 'LookDown_15',\n",
       " 'RotateRight_90',\n",
       " 'MoveAhead_25',\n",
       " 'MoveAhead_25',\n",
       " 'RotateRight_90',\n",
       " 'RotateRight_90',\n",
       " 'LookUp_15',\n",
       " 'LookUp_15',\n",
       " 'PutObject']"
      ]
     },
     "execution_count": 52,
     "metadata": {},
     "output_type": "execute_result"
    }
   ],
   "source": [
    "# Gold Input low-level action description\n",
    "debug_tr[task_num]['action_low']"
   ]
  },
  {
   "cell_type": "code",
   "execution_count": 53,
   "metadata": {},
   "outputs": [
    {
     "data": {
      "text/plain": [
       "['GotoLocation',\n",
       " 'PickupObject',\n",
       " 'GotoLocation',\n",
       " 'PutObject',\n",
       " 'GotoLocation',\n",
       " 'PickupObject',\n",
       " 'GotoLocation',\n",
       " 'PutObject',\n",
       " 'NoOp']"
      ]
     },
     "execution_count": 53,
     "metadata": {},
     "output_type": "execute_result"
    }
   ],
   "source": [
    "# Gold Input high-level subgoal action description\n",
    "debug_tr[task_num]['action_high']"
   ]
  },
  {
   "cell_type": "code",
   "execution_count": 54,
   "metadata": {},
   "outputs": [
    {
     "data": {
      "text/plain": [
       "['the',\n",
       " 'left',\n",
       " 'and',\n",
       " 'family',\n",
       " 'to',\n",
       " 'to',\n",
       " 'to',\n",
       " 'left',\n",
       " 'to',\n",
       " 'the',\n",
       " 'the',\n",
       " 'toilet',\n",
       " 'to',\n",
       " 'coach',\n",
       " 'the',\n",
       " 'the',\n",
       " 'toilet',\n",
       " '.',\n",
       " 'of',\n",
       " 'drop',\n",
       " 'the',\n",
       " 'turn',\n",
       " 'the',\n",
       " 'toilet',\n",
       " 'edge',\n",
       " 'bottle',\n",
       " 'the',\n",
       " 'the',\n",
       " 'toilet',\n",
       " '.',\n",
       " 'the',\n",
       " 'toilet',\n",
       " '.',\n",
       " 'the',\n",
       " 'the',\n",
       " 'the',\n",
       " 'the',\n",
       " 'the',\n",
       " 'the',\n",
       " 'toilet',\n",
       " 'to',\n",
       " 'coach',\n",
       " 'turn',\n",
       " 'the',\n",
       " 'toilet',\n",
       " 'bottle',\n",
       " 'the',\n",
       " 'the',\n",
       " 'toilet',\n",
       " '.',\n",
       " 'transfer',\n",
       " 'the',\n",
       " 'toilet',\n",
       " '.',\n",
       " 'coach',\n",
       " 'turn',\n",
       " 'to',\n",
       " 'the',\n",
       " 'the',\n",
       " 'toilet',\n",
       " 'right',\n",
       " 'coach',\n",
       " 'family',\n",
       " 'left',\n",
       " 'and',\n",
       " 'family',\n",
       " 'to',\n",
       " 'the',\n",
       " 'turn',\n",
       " 'the',\n",
       " 'toilet',\n",
       " 'edge',\n",
       " 'bottle',\n",
       " 'the',\n",
       " 'the',\n",
       " 'toilet',\n",
       " '.',\n",
       " 'the',\n",
       " 'the',\n",
       " 'the',\n",
       " 'the',\n",
       " 'the',\n",
       " 'toilet',\n",
       " 'of',\n",
       " 'turn',\n",
       " 'left',\n",
       " 'the',\n",
       " 'the',\n",
       " 'toilet',\n",
       " 'right',\n",
       " 'coach',\n",
       " 'turn',\n",
       " 'the',\n",
       " 'to',\n",
       " 'the',\n",
       " 'to',\n",
       " 'the',\n",
       " 'toilet',\n",
       " 'to',\n",
       " 'coach',\n",
       " 'turn',\n",
       " 'the',\n",
       " 'toilet',\n",
       " 'bottle',\n",
       " 'the',\n",
       " 'the',\n",
       " 'toilet',\n",
       " 'the',\n",
       " 'the',\n",
       " 'toilet',\n",
       " '.',\n",
       " 'handbooks',\n",
       " 'turn',\n",
       " 'and',\n",
       " 'the',\n",
       " 'the',\n",
       " 'the',\n",
       " 'spin',\n",
       " 'spin',\n",
       " 'to',\n",
       " 'the',\n",
       " 'spin',\n",
       " 'spin',\n",
       " 'the',\n",
       " 'spin',\n",
       " 'to',\n",
       " 'to',\n",
       " 'to',\n",
       " 'the',\n",
       " 'to',\n",
       " 'to',\n",
       " 'rag',\n",
       " 'to',\n",
       " 'the',\n",
       " 'the',\n",
       " 'balance',\n",
       " 'balance',\n",
       " 'bottle',\n",
       " 'bottle',\n",
       " 'balance',\n",
       " 'to',\n",
       " 'balance',\n",
       " 'anymore',\n",
       " 'spin',\n",
       " 'to',\n",
       " 'bottle',\n",
       " 'spin',\n",
       " 'anymore',\n",
       " 'the',\n",
       " 'the',\n",
       " 'to']"
      ]
     },
     "execution_count": 54,
     "metadata": {},
     "output_type": "execute_result"
    }
   ],
   "source": [
    "# Prediction result\n",
    "\" \".join(debug_tr[task_num]['p_lang_instr'])"
   ]
  }
 ],
 "metadata": {
  "kernelspec": {
   "display_name": "Python 3",
   "language": "python",
   "name": "python3"
  },
  "language_info": {
   "codemirror_mode": {
    "name": "ipython",
    "version": 3
   },
   "file_extension": ".py",
   "mimetype": "text/x-python",
   "name": "python",
   "nbconvert_exporter": "python",
   "pygments_lexer": "ipython3",
   "version": "3.6.9"
  }
 },
 "nbformat": 4,
 "nbformat_minor": 2
}
