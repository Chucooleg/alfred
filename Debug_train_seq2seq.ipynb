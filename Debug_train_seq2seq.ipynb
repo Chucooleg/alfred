{
 "cells": [
  {
   "cell_type": "markdown",
   "metadata": {},
   "source": [
    "# Training cycle debugging\n",
    "\n",
    "Basically run code copied from train_seq2seq.py in this notebook to catch bugs"
   ]
  },
  {
   "cell_type": "code",
   "execution_count": 3,
   "metadata": {},
   "outputs": [],
   "source": [
    "import os\n",
    "os.environ['ALFRED_ROOT'] = '/home/hoyeung/alfred/'\n",
    "\n",
    "import sys\n",
    "sys.path.append(os.path.join(os.environ['ALFRED_ROOT']))\n",
    "sys.path.append(os.path.join(os.environ['ALFRED_ROOT'], 'models'))\n",
    "\n",
    "# from argparse import ArgumentDefaultsHelpFormatter, ArgumentParser\n",
    "import torch\n",
    "import pprint\n",
    "import json\n",
    "from data.preprocess import Dataset\n",
    "from importlib import import_module, reload\n",
    "from argparse import ArgumentDefaultsHelpFormatter, ArgumentParser\n",
    "from models.utils.helper_utils import optimizer_to"
   ]
  },
  {
   "cell_type": "code",
   "execution_count": 4,
   "metadata": {},
   "outputs": [],
   "source": [
    "# import these if we want to debug a model such as seq2seq_nl_baseline.py\n",
    "\n",
    "import torch\n",
    "import pprint\n",
    "import json\n",
    "from data.preprocess import Dataset\n",
    "from importlib import import_module, reload\n",
    "from argparse import ArgumentDefaultsHelpFormatter, ArgumentParser\n",
    "from models.utils.helper_utils import optimizer_to"
   ]
  },
  {
   "cell_type": "markdown",
   "metadata": {},
   "source": [
    "# Parser"
   ]
  },
  {
   "cell_type": "code",
   "execution_count": 5,
   "metadata": {},
   "outputs": [],
   "source": [
    "# These are the default flags present in train_seq2seq.py\n",
    "\n",
    "parser = ArgumentParser(formatter_class=ArgumentDefaultsHelpFormatter)\n",
    "args = parser.parse_args('')\n",
    "\n",
    "# settings\n",
    "args.seed = 123\n",
    "args.data = 'data/json_feat_2.1.0'\n",
    "args.splits = 'data/splits/oct21.json'\n",
    "args.preprocess = False #!\n",
    "args.pp_folder = 'pp'\n",
    "args.save_every_epoch = False #!\n",
    "args.model = 'seq2seq_nl_baseline'\n",
    "args.gpu = True\n",
    "args.dout = 'exp/model:seq2seq_nl_baseline'\n",
    "args.resume = False #!\n",
    "\n",
    "# hyper parameters\n",
    "args.batch = 8\n",
    "args.epoch = 20\n",
    "args.lr = 1e-4\n",
    "args.decay_epoch = 10\n",
    "args.dhid = 512\n",
    "args.dframe = 2500\n",
    "args.demb = 100\n",
    "args.pframe = 300\n",
    "args.mask_loss_wt = 1.\n",
    "args.action_loss_wt = 1.\n",
    "args.subgoal_aux_loss_wt = 0.\n",
    "args.pm_aux_loss_wt = 0.\n",
    "\n",
    "# dropouts\n",
    "args.zero_goal = False #!\n",
    "args.zero_instr = False #!\n",
    "args.act_dropout = 0.\n",
    "args.lang_dropout = 0.\n",
    "args.input_dropout = 0.\n",
    "args.vis_dropout = 0.3\n",
    "args.hstate_dropout = 0.3\n",
    "args.attn_dropout = 0.\n",
    "args.actor_dropout = 0.\n",
    "args.word_dropout = 0.\n",
    "\n",
    "# other settings\n",
    "args.dec_teacher_forcing = False #!\n",
    "args.temp_no_history = False #!\n",
    "\n",
    "# debugging\n",
    "args.fast_epoch = False #!\n",
    "args.dataset_fraction = 0"
   ]
  },
  {
   "cell_type": "code",
   "execution_count": 6,
   "metadata": {},
   "outputs": [],
   "source": [
    "# overwrite the default flags\n",
    "\n",
    "args.preprocess = False # Turn this to True if running for the first time\n",
    "\n",
    "args.model = 'seq2seq_nl_baseline'  # found under models/model/ directory\n",
    "args.dout = 'exp/model:seq2seq_nl_baseline'\n",
    "\n",
    "args.dec_teacher_forcing = True\n",
    "# args.gpu = False\n",
    "\n",
    "# light setup for debugging\n",
    "args.fast_epoch = True # Turn this to False if running for the first time to preprocess data properly\n",
    "args.epoch = 5"
   ]
  },
  {
   "cell_type": "code",
   "execution_count": 7,
   "metadata": {},
   "outputs": [
    {
     "data": {
      "text/plain": [
       "<torch._C.Generator at 0x7fe0c803b5b0>"
      ]
     },
     "execution_count": 7,
     "metadata": {},
     "output_type": "execute_result"
    }
   ],
   "source": [
    "torch.manual_seed(args.seed)"
   ]
  },
  {
   "cell_type": "markdown",
   "metadata": {},
   "source": [
    "# Setup and load data splits"
   ]
  },
  {
   "cell_type": "code",
   "execution_count": 8,
   "metadata": {},
   "outputs": [
    {
     "name": "stdout",
     "output_type": "stream",
     "text": [
      "args.out  exp/model:seq2seq_nl_baseline\n"
     ]
    }
   ],
   "source": [
    "# make output dir\n",
    "if not os.path.isdir(args.dout):\n",
    "    os.makedirs(args.dout)\n",
    "\n",
    "print('args.out ', args.dout)"
   ]
  },
  {
   "cell_type": "code",
   "execution_count": 9,
   "metadata": {},
   "outputs": [
    {
     "name": "stdout",
     "output_type": "stream",
     "text": [
      "{'tests_seen': 1533,\n",
      " 'tests_unseen': 1529,\n",
      " 'train': 21023,\n",
      " 'valid_seen': 820,\n",
      " 'valid_unseen': 821}\n"
     ]
    }
   ],
   "source": [
    "# load train/valid/tests splits\n",
    "with open(args.splits) as f:\n",
    "    splits = json.load(f)\n",
    "    pprint.pprint({k: len(v) for k, v in splits.items()})"
   ]
  },
  {
   "cell_type": "code",
   "execution_count": 10,
   "metadata": {},
   "outputs": [
    {
     "name": "stdout",
     "output_type": "stream",
     "text": [
      "{'word': Vocab(2360), 'action_low': Vocab(15), 'action_high': Vocab(93)}\n"
     ]
    }
   ],
   "source": [
    "# preprocess and save -- only need to preprocess once\n",
    "if args.preprocess:\n",
    "    print(\"\\nPreprocessing dataset and saving to %s folders ... This will take a while. Do this once as required.\" % args.pp_folder)\n",
    "    dataset = Dataset(args, None)\n",
    "    dataset.preprocess_splits(splits)\n",
    "    vocab = torch.load(os.path.join(args.dout, \"%s.vocab\" % args.pp_folder))\n",
    "else:\n",
    "    vocab = torch.load(os.path.join(args.data, \"%s.vocab\" % args.pp_folder))\n",
    "    \n",
    "print(vocab)"
   ]
  },
  {
   "cell_type": "markdown",
   "metadata": {},
   "source": [
    "# Model and Training"
   ]
  },
  {
   "cell_type": "code",
   "execution_count": 11,
   "metadata": {},
   "outputs": [],
   "source": [
    "# load the model architecture\n",
    "args.gpu = False\n",
    "\n",
    "M = import_module('model.{}'.format(args.model))\n",
    "reload(M)\n",
    "model = M.Module(args, vocab)\n",
    "optimizer = None\n",
    "\n",
    "if args.gpu:\n",
    "    model = model.to(torch.device('cuda'))\n",
    "    if not optimizer is None:\n",
    "        optimizer_to(optimizer, torch.device('cuda'))"
   ]
  },
  {
   "cell_type": "code",
   "execution_count": 12,
   "metadata": {
    "scrolled": false
   },
   "outputs": [
    {
     "data": {
      "text/plain": [
       "Module(\n",
       "  (emb_word): Embedding(2360, 100)\n",
       "  (emb_action_low): Embedding(15, 100)\n",
       "  (enc): LSTM(100, 512, batch_first=True, bidirectional=True)\n",
       "  (enc_att): SelfAttn(\n",
       "    (scorer): Linear(in_features=1024, out_features=1, bias=True)\n",
       "  )\n",
       "  (dec): LanguageDecoder(\n",
       "    (emb): Embedding(2360, 100)\n",
       "    (cell): LSTMCell(1124, 1024)\n",
       "    (attn): DotAttn()\n",
       "    (input_dropout): Dropout(p=0.0, inplace=False)\n",
       "    (attn_dropout): Dropout(p=0.0, inplace=False)\n",
       "    (hstate_dropout): Dropout(p=0.3, inplace=False)\n",
       "    (word_dropout): Dropout(p=0.0, inplace=False)\n",
       "    (word): Linear(in_features=2148, out_features=100, bias=True)\n",
       "    (h_tm1_fc): Linear(in_features=1024, out_features=1024, bias=True)\n",
       "  )\n",
       "  (act_dropout): Dropout(p=0.0, inplace=True)\n",
       ")"
      ]
     },
     "execution_count": 12,
     "metadata": {},
     "output_type": "execute_result"
    }
   ],
   "source": [
    "# examine model layers\n",
    "\n",
    "model"
   ]
  },
  {
   "cell_type": "code",
   "execution_count": 13,
   "metadata": {
    "scrolled": true
   },
   "outputs": [
    {
     "name": "stderr",
     "output_type": "stream",
     "text": [
      "epoch:   0%|          | 0/5 [00:00<?, ?it/s]\n",
      "batch:   0%|          | 0/2 [00:00<?, ?it/s]\u001b[A"
     ]
    },
    {
     "name": "stdout",
     "output_type": "stream",
     "text": [
      "Saving to: exp/model:seq2seq_nl_baseline\n"
     ]
    },
    {
     "name": "stderr",
     "output_type": "stream",
     "text": [
      "\n",
      "batch:  50%|█████     | 1/2 [00:08<00:08,  8.22s/it]\u001b[A\n",
      "batch: 100%|██████████| 2/2 [00:14<00:00,  7.43s/it]\u001b[A\n",
      "/root/.local/lib/python3.6/site-packages/nltk/translate/bleu_score.py:523: UserWarning: \n",
      "The hypothesis contains 0 counts of 2-gram overlaps.\n",
      "Therefore the BLEU score evaluates to 0, independently of\n",
      "how many N-gram overlaps of lower order it contains.\n",
      "Consider using lower n-gram order or use SmoothingFunction()\n",
      "  warnings.warn(_msg)\n",
      "/root/.local/lib/python3.6/site-packages/nltk/translate/bleu_score.py:523: UserWarning: \n",
      "The hypothesis contains 0 counts of 3-gram overlaps.\n",
      "Therefore the BLEU score evaluates to 0, independently of\n",
      "how many N-gram overlaps of lower order it contains.\n",
      "Consider using lower n-gram order or use SmoothingFunction()\n",
      "  warnings.warn(_msg)\n",
      "/root/.local/lib/python3.6/site-packages/nltk/translate/bleu_score.py:523: UserWarning: \n",
      "The hypothesis contains 0 counts of 4-gram overlaps.\n",
      "Therefore the BLEU score evaluates to 0, independently of\n",
      "how many N-gram overlaps of lower order it contains.\n",
      "Consider using lower n-gram order or use SmoothingFunction()\n",
      "  warnings.warn(_msg)\n",
      "\n",
      "batch:   0%|          | 0/2 [00:00<?, ?it/s]\u001b[A\n",
      "batch:  50%|█████     | 1/2 [00:03<00:03,  3.09s/it]\u001b[A\n",
      "batch: 100%|██████████| 2/2 [00:04<00:00,  2.41s/it]\u001b[A\n",
      "\n",
      "batch:   0%|          | 0/2 [00:00<?, ?it/s]\u001b[A\n",
      "batch:  50%|█████     | 1/2 [00:01<00:01,  1.38s/it]\u001b[A\n",
      "batch: 100%|██████████| 2/2 [00:03<00:00,  1.79s/it]\u001b[A\n"
     ]
    },
    {
     "name": "stdout",
     "output_type": "stream",
     "text": [
      "\n",
      "Found new best valid_seen!! Saving...\n",
      "Found new best valid_unseen!! Saving...\n"
     ]
    },
    {
     "name": "stderr",
     "output_type": "stream",
     "text": [
      "epoch:  20%|██        | 1/5 [00:27<01:51, 27.83s/it]\n",
      "batch:   0%|          | 0/2 [00:00<?, ?it/s]\u001b[A"
     ]
    },
    {
     "name": "stdout",
     "output_type": "stream",
     "text": [
      "{'epoch': 0,\n",
      " 'train': {'lang_instr_bleu': 6.683068037262772e-232,\n",
      "           'loss_lang_instr': 5.071922063827515,\n",
      "           'total_loss': 5.071922063827515},\n",
      " 'valid_seen': {'lang_instr_bleu': 3.9290016210209286e-232,\n",
      "                'loss_lang_instr': 4.792473793029785,\n",
      "                'total_loss': 4.792473793029785},\n",
      " 'valid_unseen': {'lang_instr_bleu': 3.1867248496889685e-232,\n",
      "                  'loss_lang_instr': 4.029761552810669,\n",
      "                  'total_loss': 4.029761552810669}}\n"
     ]
    },
    {
     "name": "stderr",
     "output_type": "stream",
     "text": [
      "\n",
      "batch:  50%|█████     | 1/2 [00:04<00:04,  4.71s/it]\u001b[A\n",
      "batch: 100%|██████████| 2/2 [00:09<00:00,  4.95s/it]\u001b[A\n",
      "\n",
      "batch:   0%|          | 0/2 [00:00<?, ?it/s]\u001b[A\n",
      "batch:  50%|█████     | 1/2 [00:02<00:02,  2.05s/it]\u001b[A\n",
      "batch: 100%|██████████| 2/2 [00:03<00:00,  1.60s/it]\u001b[A\n",
      "\n",
      "batch:   0%|          | 0/2 [00:00<?, ?it/s]\u001b[A\n",
      "batch:  50%|█████     | 1/2 [00:01<00:01,  1.89s/it]\u001b[A\n",
      "batch: 100%|██████████| 2/2 [00:02<00:00,  1.49s/it]\u001b[A\n"
     ]
    },
    {
     "name": "stdout",
     "output_type": "stream",
     "text": [
      "\n",
      "Found new best valid_seen!! Saving...\n",
      "Found new best valid_unseen!! Saving...\n"
     ]
    },
    {
     "name": "stderr",
     "output_type": "stream",
     "text": [
      "epoch:  40%|████      | 2/5 [00:46<01:14, 24.93s/it]\n",
      "batch:   0%|          | 0/2 [00:00<?, ?it/s]\u001b[A"
     ]
    },
    {
     "name": "stdout",
     "output_type": "stream",
     "text": [
      "{'epoch': 1,\n",
      " 'train': {'lang_instr_bleu': 5.088483292973611e-156,\n",
      "           'loss_lang_instr': 4.661640405654907,\n",
      "           'total_loss': 4.661640405654907},\n",
      " 'valid_seen': {'lang_instr_bleu': 1.5549792577983414e-156,\n",
      "                'loss_lang_instr': 4.327688097953796,\n",
      "                'total_loss': 4.327688097953796},\n",
      " 'valid_unseen': {'lang_instr_bleu': 7.194683268642414e-232,\n",
      "                  'loss_lang_instr': 3.788380742073059,\n",
      "                  'total_loss': 3.788380742073059}}\n"
     ]
    },
    {
     "name": "stderr",
     "output_type": "stream",
     "text": [
      "\n",
      "batch:  50%|█████     | 1/2 [00:05<00:05,  5.00s/it]\u001b[A\n",
      "batch: 100%|██████████| 2/2 [00:08<00:00,  4.47s/it]\u001b[A\n",
      "\n",
      "batch:   0%|          | 0/2 [00:00<?, ?it/s]\u001b[A\n",
      "batch:  50%|█████     | 1/2 [00:01<00:01,  1.33s/it]\u001b[A\n",
      "batch: 100%|██████████| 2/2 [00:02<00:00,  1.23s/it]\u001b[A\n",
      "\n",
      "batch:   0%|          | 0/2 [00:00<?, ?it/s]\u001b[A\n",
      "batch:  50%|█████     | 1/2 [00:01<00:01,  1.59s/it]\u001b[A\n",
      "batch: 100%|██████████| 2/2 [00:03<00:00,  1.51s/it]\u001b[A\n"
     ]
    },
    {
     "name": "stdout",
     "output_type": "stream",
     "text": [
      "\n",
      "Found new best valid_seen!! Saving...\n",
      "Found new best valid_unseen!! Saving...\n"
     ]
    },
    {
     "name": "stderr",
     "output_type": "stream",
     "text": [
      "epoch:  60%|██████    | 3/5 [01:02<00:44, 22.48s/it]\n",
      "batch:   0%|          | 0/2 [00:00<?, ?it/s]\u001b[A"
     ]
    },
    {
     "name": "stdout",
     "output_type": "stream",
     "text": [
      "{'epoch': 2,\n",
      " 'train': {'lang_instr_bleu': 7.362170604348541e-156,\n",
      "           'loss_lang_instr': 4.332609176635742,\n",
      "           'total_loss': 4.332609176635742},\n",
      " 'valid_seen': {'lang_instr_bleu': 1.3501496389559961e-156,\n",
      "                'loss_lang_instr': 4.21867561340332,\n",
      "                'total_loss': 4.21867561340332},\n",
      " 'valid_unseen': {'lang_instr_bleu': 1.4440599808465304e-156,\n",
      "                  'loss_lang_instr': 3.5581694841384888,\n",
      "                  'total_loss': 3.5581694841384888}}\n"
     ]
    },
    {
     "name": "stderr",
     "output_type": "stream",
     "text": [
      "\n",
      "batch:  50%|█████     | 1/2 [00:04<00:04,  4.87s/it]\u001b[A\n",
      "batch: 100%|██████████| 2/2 [00:11<00:00,  5.64s/it]\u001b[A\n",
      "\n",
      "batch:   0%|          | 0/2 [00:00<?, ?it/s]\u001b[A\n",
      "batch:  50%|█████     | 1/2 [00:01<00:01,  1.88s/it]\u001b[A\n",
      "batch: 100%|██████████| 2/2 [00:03<00:00,  1.65s/it]\u001b[A\n",
      "\n",
      "batch:   0%|          | 0/2 [00:00<?, ?it/s]\u001b[A\n",
      "batch:  50%|█████     | 1/2 [00:01<00:01,  1.17s/it]\u001b[A\n",
      "batch: 100%|██████████| 2/2 [00:03<00:00,  1.51s/it]\u001b[A\n"
     ]
    },
    {
     "name": "stdout",
     "output_type": "stream",
     "text": [
      "Found new best valid_unseen!! Saving...\n"
     ]
    },
    {
     "name": "stderr",
     "output_type": "stream",
     "text": [
      "epoch:  80%|████████  | 4/5 [01:22<00:21, 21.65s/it]\n",
      "batch:   0%|          | 0/2 [00:00<?, ?it/s]\u001b[A"
     ]
    },
    {
     "name": "stdout",
     "output_type": "stream",
     "text": [
      "{'epoch': 3,\n",
      " 'train': {'lang_instr_bleu': 7.671953962491568e-156,\n",
      "           'loss_lang_instr': 4.126596212387085,\n",
      "           'total_loss': 4.126596212387085},\n",
      " 'valid_seen': {'lang_instr_bleu': 1.3501496389559961e-156,\n",
      "                'loss_lang_instr': 4.300110816955566,\n",
      "                'total_loss': 4.300110816955566},\n",
      " 'valid_unseen': {'lang_instr_bleu': 2.813714642243753e-156,\n",
      "                  'loss_lang_instr': 3.5424221754074097,\n",
      "                  'total_loss': 3.5424221754074097}}\n"
     ]
    },
    {
     "name": "stderr",
     "output_type": "stream",
     "text": [
      "\n",
      "batch:  50%|█████     | 1/2 [00:04<00:04,  4.22s/it]\u001b[A\n",
      "batch: 100%|██████████| 2/2 [00:09<00:00,  4.57s/it]\u001b[A\n",
      "\n",
      "batch:   0%|          | 0/2 [00:00<?, ?it/s]\u001b[A\n",
      "batch:  50%|█████     | 1/2 [00:02<00:02,  2.28s/it]\u001b[A\n",
      "batch: 100%|██████████| 2/2 [00:04<00:00,  2.08s/it]\u001b[A\n",
      "\n",
      "batch:   0%|          | 0/2 [00:00<?, ?it/s]\u001b[A\n",
      "batch:  50%|█████     | 1/2 [00:02<00:02,  2.08s/it]\u001b[A\n",
      "batch: 100%|██████████| 2/2 [00:04<00:00,  2.30s/it]\u001b[A\n"
     ]
    },
    {
     "name": "stdout",
     "output_type": "stream",
     "text": [
      "\n",
      "Found new best valid_seen!! Saving...\n",
      "Found new best valid_unseen!! Saving...\n"
     ]
    },
    {
     "name": "stderr",
     "output_type": "stream",
     "text": [
      "epoch: 100%|██████████| 5/5 [01:45<00:00, 21.12s/it]"
     ]
    },
    {
     "name": "stdout",
     "output_type": "stream",
     "text": [
      "{'epoch': 4,\n",
      " 'train': {'lang_instr_bleu': 7.371685413995356e-156,\n",
      "           'loss_lang_instr': 4.101462244987488,\n",
      "           'total_loss': 4.101462244987488},\n",
      " 'valid_seen': {'lang_instr_bleu': 5.5860632126028606e-80,\n",
      "                'loss_lang_instr': 4.090612888336182,\n",
      "                'total_loss': 4.090612888336182},\n",
      " 'valid_unseen': {'lang_instr_bleu': 8.81515743544235e-80,\n",
      "                  'loss_lang_instr': 3.4359012842178345,\n",
      "                  'total_loss': 3.4359012842178345}}\n"
     ]
    },
    {
     "name": "stderr",
     "output_type": "stream",
     "text": [
      "\n"
     ]
    }
   ],
   "source": [
    "# main training loop -- debug here if breakpoints were inserted\n",
    "model.run_train(splits, optimizer=optimizer)"
   ]
  },
  {
   "cell_type": "markdown",
   "metadata": {},
   "source": [
    "# Look at debugging outputs"
   ]
  },
  {
   "cell_type": "code",
   "execution_count": null,
   "metadata": {},
   "outputs": [],
   "source": [
    "import subprocess\n",
    "\n",
    "subprocess.call(['ls -l {}'.format(args.dout)])"
   ]
  },
  {
   "cell_type": "code",
   "execution_count": 18,
   "metadata": {},
   "outputs": [],
   "source": [
    "with open(os.path.join(args.dout, 'valid_seen.debug.preds.json'), 'r') as f:\n",
    "    debug_tr = json.load(f)"
   ]
  },
  {
   "cell_type": "code",
   "execution_count": 19,
   "metadata": {},
   "outputs": [
    {
     "data": {
      "text/plain": [
       "dict"
      ]
     },
     "execution_count": 19,
     "metadata": {},
     "output_type": "execute_result"
    }
   ],
   "source": [
    "print(type(debug_tr))\n",
    "print(len(debug_tr))"
   ]
  },
  {
   "cell_type": "code",
   "execution_count": 20,
   "metadata": {
    "scrolled": true
   },
   "outputs": [
    {
     "data": {
      "text/plain": [
       "dict_keys(['trial_T20190909_115736_122556', 'trial_T20190909_091246_807206', 'trial_T20190918_184236_557252', 'trial_T20190908_052007_212776', 'trial_T20190907_232225_725376', 'trial_T20190908_065238_500229', 'trial_T20190908_192636_561572', 'trial_T20190908_165525_911839', 'trial_T20190911_131350_027076', 'trial_T20190907_151802_277016', 'trial_T20190909_010644_297017', 'trial_T20190909_011522_113515', 'trial_T20190907_183137_838565', 'trial_T20190907_033843_707544', 'trial_T20190910_173916_331859', 'trial_T20190907_164342_432289'])"
      ]
     },
     "execution_count": 20,
     "metadata": {},
     "output_type": "execute_result"
    }
   ],
   "source": [
    "# all the task numbers\n",
    "debug_tr.keys()\n",
    "# let's look at one of them below\n",
    "task_num = 'trial_T20190909_115736_122556'"
   ]
  },
  {
   "cell_type": "code",
   "execution_count": 29,
   "metadata": {},
   "outputs": [
    {
     "data": {
      "text/plain": [
       "dict_keys(['lang_goal', 'lang_instr', 'word_inp_goal', 'word_inp_instr', 'num_inp_goal', 'num_inp_instr', 'action_low', 'action_high', 'p_lang_instr'])"
      ]
     },
     "execution_count": 29,
     "metadata": {},
     "output_type": "execute_result"
    }
   ],
   "source": [
    "# We log these from each task\n",
    "debug_tr[task_num].keys()"
   ]
  },
  {
   "cell_type": "code",
   "execution_count": 50,
   "metadata": {},
   "outputs": [
    {
     "data": {
      "text/plain": [
       "'Put two spray bottles on a toilet tank.'"
      ]
     },
     "execution_count": 50,
     "metadata": {},
     "output_type": "execute_result"
    }
   ],
   "source": [
    "# Gold goal description\n",
    "debug_tr[task_num]['lang_goal']"
   ]
  },
  {
   "cell_type": "code",
   "execution_count": 51,
   "metadata": {},
   "outputs": [
    {
     "data": {
      "text/plain": [
       "['Turn left, go straight, turn left to face the blue bin next to the toilet, look up.',\n",
       " 'Take the purple spray bottle from the cabinet above the toilet.',\n",
       " 'Go backwards while facing towards the blue bin.',\n",
       " 'Put the spray bottle on the left side of the toilet tank.',\n",
       " 'Go forward to the blue bin, turn right, look up.',\n",
       " 'Take the purple spray bottle from the cabinet above that is first from the right.',\n",
       " 'Turn to face the blue bin. Go backwards while facing towards the blue bin.',\n",
       " 'Put the spray bottle on the center of the toilet tank.']"
      ]
     },
     "execution_count": 51,
     "metadata": {},
     "output_type": "execute_result"
    }
   ],
   "source": [
    "# Gold low-level instruction description\n",
    "debug_tr[task_num]['lang_instr']"
   ]
  },
  {
   "cell_type": "code",
   "execution_count": 52,
   "metadata": {},
   "outputs": [
    {
     "data": {
      "text/plain": [
       "['LookDown_15',\n",
       " 'RotateLeft_90',\n",
       " 'MoveAhead_25',\n",
       " 'MoveAhead_25',\n",
       " 'MoveAhead_25',\n",
       " 'MoveAhead_25',\n",
       " 'RotateLeft_90',\n",
       " 'LookUp_15',\n",
       " 'LookUp_15',\n",
       " 'LookUp_15',\n",
       " 'LookUp_15',\n",
       " 'LookUp_15',\n",
       " 'OpenObject',\n",
       " 'PickupObject',\n",
       " 'CloseObject',\n",
       " 'LookDown_15',\n",
       " 'LookDown_15',\n",
       " 'LookDown_15',\n",
       " 'LookDown_15',\n",
       " 'LookDown_15',\n",
       " 'RotateLeft_90',\n",
       " 'RotateLeft_90',\n",
       " 'MoveAhead_25',\n",
       " 'MoveAhead_25',\n",
       " 'RotateRight_90',\n",
       " 'RotateRight_90',\n",
       " 'LookUp_15',\n",
       " 'LookUp_15',\n",
       " 'PutObject',\n",
       " 'LookDown_15',\n",
       " 'LookDown_15',\n",
       " 'MoveAhead_25',\n",
       " 'MoveAhead_25',\n",
       " 'RotateRight_90',\n",
       " 'LookUp_15',\n",
       " 'LookUp_15',\n",
       " 'LookUp_15',\n",
       " 'LookUp_15',\n",
       " 'OpenObject',\n",
       " 'PickupObject',\n",
       " 'CloseObject',\n",
       " 'LookDown_15',\n",
       " 'LookDown_15',\n",
       " 'LookDown_15',\n",
       " 'LookDown_15',\n",
       " 'RotateRight_90',\n",
       " 'MoveAhead_25',\n",
       " 'MoveAhead_25',\n",
       " 'RotateRight_90',\n",
       " 'RotateRight_90',\n",
       " 'LookUp_15',\n",
       " 'LookUp_15',\n",
       " 'PutObject']"
      ]
     },
     "execution_count": 52,
     "metadata": {},
     "output_type": "execute_result"
    }
   ],
   "source": [
    "# Gold Input low-level action description\n",
    "debug_tr[task_num]['action_low']"
   ]
  },
  {
   "cell_type": "code",
   "execution_count": 53,
   "metadata": {},
   "outputs": [
    {
     "data": {
      "text/plain": [
       "['GotoLocation',\n",
       " 'PickupObject',\n",
       " 'GotoLocation',\n",
       " 'PutObject',\n",
       " 'GotoLocation',\n",
       " 'PickupObject',\n",
       " 'GotoLocation',\n",
       " 'PutObject',\n",
       " 'NoOp']"
      ]
     },
     "execution_count": 53,
     "metadata": {},
     "output_type": "execute_result"
    }
   ],
   "source": [
    "# Gold Input high-level subgoal action description\n",
    "debug_tr[task_num]['action_high']"
   ]
  },
  {
   "cell_type": "code",
   "execution_count": 54,
   "metadata": {},
   "outputs": [
    {
     "data": {
      "text/plain": [
       "['the',\n",
       " 'left',\n",
       " 'and',\n",
       " 'family',\n",
       " 'to',\n",
       " 'to',\n",
       " 'to',\n",
       " 'left',\n",
       " 'to',\n",
       " 'the',\n",
       " 'the',\n",
       " 'toilet',\n",
       " 'to',\n",
       " 'coach',\n",
       " 'the',\n",
       " 'the',\n",
       " 'toilet',\n",
       " '.',\n",
       " 'of',\n",
       " 'drop',\n",
       " 'the',\n",
       " 'turn',\n",
       " 'the',\n",
       " 'toilet',\n",
       " 'edge',\n",
       " 'bottle',\n",
       " 'the',\n",
       " 'the',\n",
       " 'toilet',\n",
       " '.',\n",
       " 'the',\n",
       " 'toilet',\n",
       " '.',\n",
       " 'the',\n",
       " 'the',\n",
       " 'the',\n",
       " 'the',\n",
       " 'the',\n",
       " 'the',\n",
       " 'toilet',\n",
       " 'to',\n",
       " 'coach',\n",
       " 'turn',\n",
       " 'the',\n",
       " 'toilet',\n",
       " 'bottle',\n",
       " 'the',\n",
       " 'the',\n",
       " 'toilet',\n",
       " '.',\n",
       " 'transfer',\n",
       " 'the',\n",
       " 'toilet',\n",
       " '.',\n",
       " 'coach',\n",
       " 'turn',\n",
       " 'to',\n",
       " 'the',\n",
       " 'the',\n",
       " 'toilet',\n",
       " 'right',\n",
       " 'coach',\n",
       " 'family',\n",
       " 'left',\n",
       " 'and',\n",
       " 'family',\n",
       " 'to',\n",
       " 'the',\n",
       " 'turn',\n",
       " 'the',\n",
       " 'toilet',\n",
       " 'edge',\n",
       " 'bottle',\n",
       " 'the',\n",
       " 'the',\n",
       " 'toilet',\n",
       " '.',\n",
       " 'the',\n",
       " 'the',\n",
       " 'the',\n",
       " 'the',\n",
       " 'the',\n",
       " 'toilet',\n",
       " 'of',\n",
       " 'turn',\n",
       " 'left',\n",
       " 'the',\n",
       " 'the',\n",
       " 'toilet',\n",
       " 'right',\n",
       " 'coach',\n",
       " 'turn',\n",
       " 'the',\n",
       " 'to',\n",
       " 'the',\n",
       " 'to',\n",
       " 'the',\n",
       " 'toilet',\n",
       " 'to',\n",
       " 'coach',\n",
       " 'turn',\n",
       " 'the',\n",
       " 'toilet',\n",
       " 'bottle',\n",
       " 'the',\n",
       " 'the',\n",
       " 'toilet',\n",
       " 'the',\n",
       " 'the',\n",
       " 'toilet',\n",
       " '.',\n",
       " 'handbooks',\n",
       " 'turn',\n",
       " 'and',\n",
       " 'the',\n",
       " 'the',\n",
       " 'the',\n",
       " 'spin',\n",
       " 'spin',\n",
       " 'to',\n",
       " 'the',\n",
       " 'spin',\n",
       " 'spin',\n",
       " 'the',\n",
       " 'spin',\n",
       " 'to',\n",
       " 'to',\n",
       " 'to',\n",
       " 'the',\n",
       " 'to',\n",
       " 'to',\n",
       " 'rag',\n",
       " 'to',\n",
       " 'the',\n",
       " 'the',\n",
       " 'balance',\n",
       " 'balance',\n",
       " 'bottle',\n",
       " 'bottle',\n",
       " 'balance',\n",
       " 'to',\n",
       " 'balance',\n",
       " 'anymore',\n",
       " 'spin',\n",
       " 'to',\n",
       " 'bottle',\n",
       " 'spin',\n",
       " 'anymore',\n",
       " 'the',\n",
       " 'the',\n",
       " 'to']"
      ]
     },
     "execution_count": 54,
     "metadata": {},
     "output_type": "execute_result"
    }
   ],
   "source": [
    "# Prediction result\n",
    "debug_tr[task_num]['p_lang_instr']"
   ]
  }
 ],
 "metadata": {
  "kernelspec": {
   "display_name": "Python 3",
   "language": "python",
   "name": "python3"
  },
  "language_info": {
   "codemirror_mode": {
    "name": "ipython",
    "version": 3
   },
   "file_extension": ".py",
   "mimetype": "text/x-python",
   "name": "python",
   "nbconvert_exporter": "python",
   "pygments_lexer": "ipython3",
   "version": "3.6.9"
  }
 },
 "nbformat": 4,
 "nbformat_minor": 2
}
