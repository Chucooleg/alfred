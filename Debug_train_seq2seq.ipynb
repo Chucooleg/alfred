{
 "cells": [
  {
   "cell_type": "markdown",
   "metadata": {},
   "source": [
    "# Training cycle debugging\n",
    "\n",
    "Basically run code copied from train_seq2seq.py in this notebook to catch bugs"
   ]
  },
  {
   "cell_type": "code",
   "execution_count": 1,
   "metadata": {},
   "outputs": [],
   "source": [
    "import os\n",
    "os.environ['ALFRED_ROOT'] = '/root/data/home/hoyeung/alfred/'\n",
    "\n",
    "import sys\n",
    "sys.path.append(os.path.join(os.environ['ALFRED_ROOT']))\n",
    "sys.path.append(os.path.join(os.environ['ALFRED_ROOT'], 'models'))\n",
    "\n",
    "# from argparse import ArgumentDefaultsHelpFormatter, ArgumentParser\n",
    "import torch\n",
    "import pprint\n",
    "import json\n",
    "from data.preprocess import Dataset\n",
    "from importlib import import_module, reload\n",
    "from argparse import ArgumentDefaultsHelpFormatter, ArgumentParser\n",
    "from models.utils.helper_utils import optimizer_to"
   ]
  },
  {
   "cell_type": "markdown",
   "metadata": {},
   "source": [
    "# Parser"
   ]
  },
  {
   "cell_type": "code",
   "execution_count": 2,
   "metadata": {},
   "outputs": [],
   "source": [
    "# These are the default flags present in train_seq2seq.py\n",
    "\n",
    "parser = ArgumentParser(formatter_class=ArgumentDefaultsHelpFormatter)\n",
    "args = parser.parse_args('')\n",
    "\n",
    "# settings\n",
    "args.seed = 123\n",
    "args.data = '/root/data_alfred/json_feat_2.1.0'\n",
    "args.splits = '/root/data_alfred/splits/may17.json'\n",
    "args.preprocess = False #!\n",
    "args.pp_folder = 'pp'\n",
    "args.monitor_train_every = 10\n",
    "args.save_every_epoch = False #!\n",
    "args.model = 'seq2seq_per_subgoal'\n",
    "args.gpu = True\n",
    "args.dout = 'exp/model:seq2seq_per_subgoal'\n",
    "args.resume = False #!\n",
    "\n",
    "# hyper parameters\n",
    "args.batch = 8\n",
    "args.epoch = 20\n",
    "args.lr = 1e-4\n",
    "args.decay_epoch = 10\n",
    "args.dhid = 512\n",
    "args.dframe = 2500\n",
    "args.demb = 100\n",
    "args.pframe = 300\n",
    "args.mask_loss_wt = 1.\n",
    "args.action_loss_wt = 1.\n",
    "args.subgoal_aux_loss_wt = 0.\n",
    "args.pm_aux_loss_wt = 0.\n",
    "\n",
    "# architecture ablations\n",
    "# args.maxpool_over_object_states = False\n",
    "# args.aux_loss_over_object_states = False\n",
    "args.encoder_addons = 'none'\n",
    "args.decoder_addons = 'none'\n",
    "\n",
    "# dropouts\n",
    "args.zero_goal = False #!\n",
    "args.zero_instr = False #!\n",
    "args.act_dropout = 0.\n",
    "args.lang_dropout = 0.\n",
    "args.input_dropout = 0.\n",
    "args.vis_dropout = 0.3\n",
    "args.hstate_dropout = 0.3\n",
    "args.attn_dropout = 0.\n",
    "args.actor_dropout = 0.\n",
    "args.word_dropout = 0.\n",
    "\n",
    "# other settings\n",
    "args.train_teacher_forcing = False #!\n",
    "args.train_student_forcing_prob = 0.1\n",
    "args.temp_no_history = False #!\n",
    "\n",
    "# debugging\n",
    "args.fast_epoch = False #!\n",
    "args.dataset_fraction = 0"
   ]
  },
  {
   "cell_type": "code",
   "execution_count": 3,
   "metadata": {},
   "outputs": [],
   "source": [
    "# overwrite the default flags\n",
    "\n",
    "args.preprocess = False # Turn this to True if running for the first time\n",
    "\n",
    "args.model = 'seq2seq_per_subgoal'  # found under models/model/ directory\n",
    "args.dout = '/root/data_alfred/exp/model:seq2seq_per_subgoal_fast_epoch'\n",
    "\n",
    "args.train_teacher_forcing = True\n",
    "args.gpu = False\n",
    "\n",
    "# light setup for debugging\n",
    "args.fast_epoch = True # Turn this to False if running for the first time to preprocess data properly\n",
    "args.epoch = 20"
   ]
  },
  {
   "cell_type": "code",
   "execution_count": 4,
   "metadata": {},
   "outputs": [],
   "source": [
    "# args.maxpool_over_object_states = True\n",
    "# args.aux_loss_over_object_states = True\n",
    "\n",
    "args.encoder_addons = 'biattn_obj'\n",
    "args.decoder_addons = 'aux_loss'"
   ]
  },
  {
   "cell_type": "code",
   "execution_count": 5,
   "metadata": {},
   "outputs": [
    {
     "data": {
      "text/plain": [
       "<torch._C.Generator at 0x7f9e10179870>"
      ]
     },
     "execution_count": 5,
     "metadata": {},
     "output_type": "execute_result"
    }
   ],
   "source": [
    "torch.manual_seed(args.seed)"
   ]
  },
  {
   "cell_type": "markdown",
   "metadata": {},
   "source": [
    "# Setup and load data splits"
   ]
  },
  {
   "cell_type": "code",
   "execution_count": 6,
   "metadata": {},
   "outputs": [
    {
     "name": "stdout",
     "output_type": "stream",
     "text": [
      "args.out  /root/data_alfred/exp/model:seq2seq_per_subgoal_fast_epoch\n"
     ]
    }
   ],
   "source": [
    "# make output dir\n",
    "if not os.path.isdir(args.dout):\n",
    "    os.makedirs(args.dout)\n",
    "\n",
    "print('args.out ', args.dout)"
   ]
  },
  {
   "cell_type": "code",
   "execution_count": 7,
   "metadata": {},
   "outputs": [
    {
     "name": "stdout",
     "output_type": "stream",
     "text": [
      "{'tests_seen': 1533,\n",
      " 'tests_unseen': 1529,\n",
      " 'train': 20806,\n",
      " 'train_sanity': 246,\n",
      " 'train_sanity_v1': 246,\n",
      " 'valid_seen': 814,\n",
      " 'valid_seen_v1': 249,\n",
      " 'valid_unseen': 818,\n",
      " 'valid_unseen_v1': 254}\n"
     ]
    }
   ],
   "source": [
    "# load train/valid/tests splits\n",
    "with open(args.splits) as f:\n",
    "    splits = json.load(f)\n",
    "    pprint.pprint({k: len(v) for k, v in splits.items()})"
   ]
  },
  {
   "cell_type": "code",
   "execution_count": 8,
   "metadata": {},
   "outputs": [
    {
     "name": "stdout",
     "output_type": "stream",
     "text": [
      "{'action_high': Vocab(93), 'word': Vocab(2360), 'action_low': Vocab(15)}\n"
     ]
    }
   ],
   "source": [
    "# preprocess and save -- only need to preprocess once\n",
    "if args.preprocess:\n",
    "    print(\"\\nPreprocessing dataset and saving to %s folders ... This will take a while. Do this once as required.\" % args.pp_folder)\n",
    "    dataset = Dataset(args, None)\n",
    "    dataset.preprocess_splits(splits)\n",
    "    vocab = torch.load(os.path.join(args.dout, \"%s.vocab\" % args.pp_folder))\n",
    "else:\n",
    "    vocab = torch.load(os.path.join(args.data, \"%s.vocab\" % args.pp_folder))\n",
    "    \n",
    "print(vocab)"
   ]
  },
  {
   "cell_type": "code",
   "execution_count": 9,
   "metadata": {},
   "outputs": [],
   "source": [
    "object_vocab = torch.load(os.path.join(args.data, '%s.vocab' % 'objects'))"
   ]
  },
  {
   "cell_type": "markdown",
   "metadata": {},
   "source": [
    "# Model and Training"
   ]
  },
  {
   "cell_type": "code",
   "execution_count": 10,
   "metadata": {},
   "outputs": [],
   "source": [
    "# load the model architecture\n",
    "args.gpu = False\n",
    "args.resume = None # os.path.join(args.dout, 'best_seen.pth')\n",
    "\n",
    "M = import_module('model.{}'.format(args.model))\n",
    "if args.resume:\n",
    "    print(\"Loading: \" + args.resume)\n",
    "    model, optimizer, start_epoch = M.Module.load(args.resume)\n",
    "    print(\"Restarting at epoch {}/{}\".format(start_epoch, args.epoch-1))\n",
    "    if start_epoch >= args.epoch:\n",
    "        print('Checkpoint already finished {}/{} epochs.'.format(start_epoch, args.epoch))\n",
    "        sys.exit(0)\n",
    "else:\n",
    "    model = M.Module(args, vocab, object_vocab)\n",
    "    optimizer = None\n",
    "    start_epoch = 0\n",
    "\n",
    "if args.gpu:\n",
    "    model = model.to(torch.device('cuda'))\n",
    "    if not optimizer is None:\n",
    "        optimizer_to(optimizer, torch.device('cuda'))"
   ]
  },
  {
   "cell_type": "code",
   "execution_count": 11,
   "metadata": {
    "scrolled": false
   },
   "outputs": [
    {
     "data": {
      "text/plain": [
       "Module(\n",
       "  (emb_word): Embedding(2360, 100)\n",
       "  (emb_action_low): Embedding(15, 100)\n",
       "  (emb_object): Embedding(109, 512, padding_idx=0)\n",
       "  (enc): ActionFrameAttnEncoderPerSubgoalObjAttn(\n",
       "    (emb): Embedding(15, 100)\n",
       "    (vis_dropout): Dropout(p=0.3, inplace=False)\n",
       "    (act_dropout): Dropout(p=0.0, inplace=True)\n",
       "    (vis_encoder): ResnetVisualEncoder(\n",
       "      (conv1): Conv2d(512, 256, kernel_size=(1, 1), stride=(1, 1))\n",
       "      (conv2): Conv2d(256, 64, kernel_size=(1, 1), stride=(1, 1))\n",
       "      (fc): Linear(in_features=3136, out_features=2500, bias=True)\n",
       "      (bn1): BatchNorm2d(256, eps=1e-05, momentum=0.1, affine=True, track_running_stats=True)\n",
       "      (bn2): BatchNorm2d(64, eps=1e-05, momentum=0.1, affine=True, track_running_stats=True)\n",
       "    )\n",
       "    (enc_att): SelfAttn(\n",
       "      (scorer): Linear(in_features=1024, out_features=1, bias=True)\n",
       "    )\n",
       "    (encoder): LSTM(2600, 512, batch_first=True, bidirectional=True)\n",
       "    (input_dropout): Dropout(p=0.0, inplace=False)\n",
       "    (hstate_dropout): Dropout(p=0.3, inplace=False)\n",
       "    (attn_dropout): Dropout(p=0.0, inplace=False)\n",
       "    (obj_emb): Embedding(109, 512, padding_idx=0)\n",
       "    (obj_attn): DotAttn()\n",
       "    (h_tm1_fc): Linear(in_features=512, out_features=512, bias=True)\n",
       "    (forward_cell): LSTMCell(3624, 512)\n",
       "    (backward_cell): LSTMCell(3624, 512)\n",
       "  )\n",
       "  (dec): LanguageDecoder(\n",
       "    (emb): Embedding(2360, 100)\n",
       "    (obj_emb): Embedding(109, 512, padding_idx=0)\n",
       "    (cell): LSTMCell(1124, 1024)\n",
       "    (attn): DotAttn()\n",
       "    (input_dropout): Dropout(p=0.0, inplace=False)\n",
       "    (attn_dropout): Dropout(p=0.0, inplace=False)\n",
       "    (hstate_dropout): Dropout(p=0.3, inplace=False)\n",
       "    (word_dropout): Dropout(p=0.0, inplace=False)\n",
       "    (word): Linear(in_features=2148, out_features=100, bias=True)\n",
       "    (h_tm1_fc): Linear(in_features=1024, out_features=1024, bias=True)\n",
       "    (h_enc_fc): Linear(in_features=1, out_features=2, bias=True)\n",
       "  )\n",
       "  (vis_dropout): Dropout(p=0.3, inplace=False)\n",
       "  (act_dropout): Dropout(p=0.0, inplace=True)\n",
       "  (aux_criterion): BCEWithLogitsLoss()\n",
       "  (language_crtierion): CrossEntropyLoss()\n",
       ")"
      ]
     },
     "execution_count": 11,
     "metadata": {},
     "output_type": "execute_result"
    }
   ],
   "source": [
    "# examine model layers\n",
    "model"
   ]
  },
  {
   "cell_type": "code",
   "execution_count": null,
   "metadata": {
    "scrolled": false
   },
   "outputs": [
    {
     "name": "stderr",
     "output_type": "stream",
     "text": [
      "epoch:   0%|          | 0/20 [00:00<?, ?it/s]\n",
      "batch:   0%|          | 0/2 [00:00<?, ?it/s]\u001b[A"
     ]
    },
    {
     "name": "stdout",
     "output_type": "stream",
     "text": [
      "Saving to: /root/data_alfred/exp/model:seq2seq_per_subgoal_fast_epoch\n"
     ]
    },
    {
     "name": "stderr",
     "output_type": "stream",
     "text": [
      "/root/data/home/hoyeung/alfred/models/model/seq2seq_per_subgoal.py:265: UserWarning: To copy construct from a tensor, it is recommended to use sourceTensor.clone().detach() or sourceTensor.clone().detach().requires_grad_(True), rather than torch.tensor(sourceTensor).\n",
      "  empty_tensor = torch.ones(torch.tensor(v[0][0][0]).unsqueeze(0).shape, device=device, dtype=torch.float if ('frames' in k) else torch.long) * self.pad\n",
      "/root/data/home/hoyeung/alfred/models/model/seq2seq_per_subgoal.py:276: UserWarning: To copy construct from a tensor, it is recommended to use sourceTensor.clone().detach() or sourceTensor.clone().detach().requires_grad_(True), rather than torch.tensor(sourceTensor).\n",
      "  seqs.append(torch.tensor(v[subgoal_i][batch_i], device=device, dtype=torch.float if ('frames' in k) else torch.long))\n",
      "/opt/conda/envs/pytorch-py3.6/lib/python3.6/site-packages/torch/nn/functional.py:1350: UserWarning: nn.functional.sigmoid is deprecated. Use torch.sigmoid instead.\n",
      "  warnings.warn(\"nn.functional.sigmoid is deprecated. Use torch.sigmoid instead.\")\n",
      "\n",
      "batch:  50%|█████     | 1/2 [00:18<00:18, 18.77s/it]\u001b[A\n",
      "batch: 100%|██████████| 2/2 [00:47<00:00, 23.67s/it]\u001b[A\n",
      "\n",
      "batch:   0%|          | 0/2 [00:00<?, ?it/s]\u001b[A\n",
      "batch:  50%|█████     | 1/2 [00:07<00:07,  7.10s/it]\u001b[A\n",
      "batch: 100%|██████████| 2/2 [00:10<00:00,  5.32s/it]\u001b[A\n",
      "\n",
      "batch:   0%|          | 0/2 [00:00<?, ?it/s]\u001b[A\n",
      "batch:  50%|█████     | 1/2 [00:06<00:06,  6.94s/it]\u001b[A\n",
      "batch: 100%|██████████| 2/2 [00:16<00:00,  8.36s/it]\u001b[A\n",
      "\n",
      "batch:   0%|          | 0/2 [00:00<?, ?it/s]\u001b[A\n",
      "batch:  50%|█████     | 1/2 [00:08<00:08,  8.95s/it]\u001b[A\n",
      "batch: 100%|██████████| 2/2 [00:18<00:00,  9.10s/it]\u001b[A\n",
      "\n",
      "batch:   0%|          | 0/2 [00:00<?, ?it/s]\u001b[A\n",
      "batch:  50%|█████     | 1/2 [00:40<00:40, 40.19s/it]\u001b[A\n",
      "batch: 100%|██████████| 2/2 [01:12<00:00, 36.35s/it]\u001b[A\n",
      "/opt/conda/envs/pytorch-py3.6/lib/python3.6/site-packages/nltk/translate/bleu_score.py:523: UserWarning: \n",
      "The hypothesis contains 0 counts of 2-gram overlaps.\n",
      "Therefore the BLEU score evaluates to 0, independently of\n",
      "how many N-gram overlaps of lower order it contains.\n",
      "Consider using lower n-gram order or use SmoothingFunction()\n",
      "  warnings.warn(_msg)\n",
      "/opt/conda/envs/pytorch-py3.6/lib/python3.6/site-packages/nltk/translate/bleu_score.py:523: UserWarning: \n",
      "The hypothesis contains 0 counts of 3-gram overlaps.\n",
      "Therefore the BLEU score evaluates to 0, independently of\n",
      "how many N-gram overlaps of lower order it contains.\n",
      "Consider using lower n-gram order or use SmoothingFunction()\n",
      "  warnings.warn(_msg)\n",
      "/opt/conda/envs/pytorch-py3.6/lib/python3.6/site-packages/nltk/translate/bleu_score.py:523: UserWarning: \n",
      "The hypothesis contains 0 counts of 4-gram overlaps.\n",
      "Therefore the BLEU score evaluates to 0, independently of\n",
      "how many N-gram overlaps of lower order it contains.\n",
      "Consider using lower n-gram order or use SmoothingFunction()\n",
      "  warnings.warn(_msg)\n",
      "\n",
      "batch:   0%|          | 0/2 [00:00<?, ?it/s]\u001b[A\n",
      "batch:  50%|█████     | 1/2 [01:05<01:05, 65.07s/it]\u001b[A\n",
      "batch: 100%|██████████| 2/2 [02:10<00:00, 65.29s/it]\u001b[A\n",
      "\n",
      "batch:   0%|          | 0/2 [00:00<?, ?it/s]\u001b[A\n",
      "batch:  50%|█████     | 1/2 [00:54<00:54, 54.31s/it]\u001b[A\n",
      "batch: 100%|██████████| 2/2 [01:28<00:00, 44.04s/it]\u001b[A\n"
     ]
    },
    {
     "name": "stdout",
     "output_type": "stream",
     "text": [
      "\n",
      "Found new best valid_seen!! Saving...\n",
      "Found new best valid_unseen!! Saving...\n",
      "Found new best train_sanity!! Saving...\n"
     ]
    },
    {
     "name": "stderr",
     "output_type": "stream",
     "text": [
      "epoch:   5%|▌         | 1/20 [06:26<2:02:30, 386.88s/it]\n",
      "batch:   0%|          | 0/2 [00:00<?, ?it/s]\u001b[A"
     ]
    },
    {
     "name": "stdout",
     "output_type": "stream",
     "text": [
      "{'epoch': 0,\n",
      " 'train_sanity': {'BLEU': 1.7724518441416312e-157,\n",
      "                  'perplexity': 155.2275619506836,\n",
      "                  'total_loss': 11.482679843902588},\n",
      " 'valid_seen': {'BLEU': 2.6851921485929244e-157,\n",
      "                'perplexity': 160.757568359375,\n",
      "                'total_loss': 11.707912921905518},\n",
      " 'valid_unseen': {'BLEU': 1.3425960742964622e-157,\n",
      "                  'perplexity': 156.80821990966797,\n",
      "                  'total_loss': 11.604719638824463}}\n",
      "epoch_time                    386.879                                 \n",
      "compute_metrics_validation_sets337.971                                 \n",
      "forward_batch_train_with_iterate47.346                                  \n",
      "forward_batch_train           47.001                                  \n",
      "torch_save_valid_seen         0.337                                   \n",
      "torch_save_last               0.331                                   \n",
      "torch_save_train_sanity       0.33                                    \n",
      "torch_save_valid_unseen       0.329                                   \n",
      "iterate_featurize             0.312                                   \n",
      "iterate_load_task_json        0.18                                    \n",
      "featurize_input_resnet_features0.149                                   \n",
      "featurize_tensorization_and_padding0.137                                   \n",
      "make_debug_train              0.096                                   \n",
      "make_debug_valid_seen         0.094                                   \n",
      "featurize_torch_load_time     0.082                                   \n",
      "make_debug_valid_unseen       0.043                                   \n",
      "setup_time                    0.001                                   \n",
      "featurize_outputs             0.001                                   \n",
      "featurize_input_action_low    0.0                                     \n",
      "compute_metrics_train         0.0                                     \n"
     ]
    },
    {
     "name": "stderr",
     "output_type": "stream",
     "text": [
      "\n",
      "batch:  50%|█████     | 1/2 [00:17<00:17, 17.33s/it]\u001b[A\n",
      "batch: 100%|██████████| 2/2 [00:33<00:00, 16.84s/it]\u001b[A\n",
      "\n",
      "batch:   0%|          | 0/2 [00:00<?, ?it/s]\u001b[A\n",
      "batch:  50%|█████     | 1/2 [00:04<00:04,  4.04s/it]\u001b[A\n",
      "batch: 100%|██████████| 2/2 [00:06<00:00,  3.50s/it]\u001b[A\n",
      "\n",
      "batch:   0%|          | 0/2 [00:00<?, ?it/s]\u001b[A\n",
      "batch:  50%|█████     | 1/2 [00:04<00:04,  4.96s/it]\u001b[A\n",
      "batch: 100%|██████████| 2/2 [00:12<00:00,  6.48s/it]\u001b[A\n",
      "\n",
      "batch:   0%|          | 0/2 [00:00<?, ?it/s]\u001b[A\n",
      "batch:  50%|█████     | 1/2 [00:07<00:07,  7.03s/it]\u001b[A\n",
      "batch: 100%|██████████| 2/2 [00:12<00:00,  6.18s/it]\u001b[A\n",
      "\n",
      "batch:   0%|          | 0/2 [00:00<?, ?it/s]\u001b[A\n",
      "batch:  50%|█████     | 1/2 [00:35<00:35, 35.99s/it]\u001b[A\n",
      "batch: 100%|██████████| 2/2 [00:54<00:00, 27.27s/it]\u001b[A\n",
      "\n",
      "batch:   0%|          | 0/2 [00:00<?, ?it/s]\u001b[A\n",
      "batch:  50%|█████     | 1/2 [00:33<00:33, 33.75s/it]\u001b[A\n",
      "batch: 100%|██████████| 2/2 [01:09<00:00, 34.77s/it]\u001b[A\n",
      "\n",
      "batch:   0%|          | 0/2 [00:00<?, ?it/s]\u001b[A\n",
      "batch:  50%|█████     | 1/2 [00:32<00:32, 32.02s/it]\u001b[A\n",
      "batch: 100%|██████████| 2/2 [01:07<00:00, 33.84s/it]\u001b[A\n"
     ]
    },
    {
     "name": "stdout",
     "output_type": "stream",
     "text": [
      "\n",
      "Found new best valid_seen!! Saving...\n",
      "Found new best valid_unseen!! Saving...\n",
      "Found new best train_sanity!! Saving...\n"
     ]
    },
    {
     "name": "stderr",
     "output_type": "stream",
     "text": [
      "epoch:  10%|█         | 2/20 [10:59<1:45:44, 352.47s/it]\n",
      "batch:   0%|          | 0/2 [00:00<?, ?it/s]\u001b[A"
     ]
    },
    {
     "name": "stdout",
     "output_type": "stream",
     "text": [
      "{'epoch': 1,\n",
      " 'train_sanity': {'BLEU': 2.924577758301233e-156,\n",
      "                  'perplexity': 105.12337875366211,\n",
      "                  'total_loss': 10.003964900970459},\n",
      " 'valid_seen': {'BLEU': 3.033164078734298e-81,\n",
      "                'perplexity': 114.88747787475586,\n",
      "                'total_loss': 10.053014755249023},\n",
      " 'valid_unseen': {'BLEU': 2.1957490126883007e-156,\n",
      "                  'perplexity': 107.27132034301758,\n",
      "                  'total_loss': 9.859097480773926}}\n",
      "epoch_time                    659.061                                 \n",
      "compute_metrics_validation_sets563.0                                   \n",
      "forward_batch_train_with_iterate81.037                                  \n",
      "forward_batch_train           80.39                                   \n",
      "torch_save_last               5.039                                   \n",
      "torch_save_train_sanity       3.159                                   \n",
      "torch_save_valid_unseen       2.828                                   \n",
      "torch_save_valid_seen         2.569                                   \n",
      "make_debug_valid_seen         1.144                                   \n",
      "iterate_featurize             0.566                                   \n",
      "iterate_load_task_json        0.307                                   \n",
      "featurize_tensorization_and_padding0.29                                    \n",
      "featurize_input_resnet_features0.231                                   \n",
      "make_debug_train              0.192                                   \n",
      "featurize_torch_load_time     0.127                                   \n",
      "make_debug_valid_unseen       0.086                                   \n",
      "featurize_outputs             0.001                                   \n",
      "setup_time                    0.001                                   \n",
      "featurize_input_action_low    0.001                                   \n",
      "compute_metrics_train         0.0                                     \n"
     ]
    },
    {
     "name": "stderr",
     "output_type": "stream",
     "text": [
      "\n",
      "batch:  50%|█████     | 1/2 [00:17<00:17, 17.69s/it]\u001b[A\n",
      "batch: 100%|██████████| 2/2 [00:32<00:00, 16.16s/it]\u001b[A\n",
      "\n",
      "batch:   0%|          | 0/2 [00:00<?, ?it/s]\u001b[A\n",
      "batch:  50%|█████     | 1/2 [00:04<00:04,  4.55s/it]\u001b[A\n",
      "batch: 100%|██████████| 2/2 [00:06<00:00,  3.26s/it]\u001b[A\n",
      "\n",
      "batch:   0%|          | 0/2 [00:00<?, ?it/s]\u001b[A\n",
      "batch:  50%|█████     | 1/2 [00:05<00:05,  5.91s/it]\u001b[A\n",
      "batch: 100%|██████████| 2/2 [00:11<00:00,  5.78s/it]\u001b[A\n",
      "\n",
      "batch:   0%|          | 0/2 [00:00<?, ?it/s]\u001b[A\n",
      "batch:  50%|█████     | 1/2 [00:05<00:05,  5.19s/it]\u001b[A\n",
      "batch: 100%|██████████| 2/2 [00:09<00:00,  4.85s/it]\u001b[A\n",
      "\n",
      "batch:   0%|          | 0/2 [00:00<?, ?it/s]\u001b[A\n",
      "batch:  50%|█████     | 1/2 [00:33<00:33, 33.20s/it]\u001b[A\n",
      "batch: 100%|██████████| 2/2 [00:47<00:00, 23.55s/it]\u001b[A\n",
      "\n",
      "batch:   0%|          | 0/2 [00:00<?, ?it/s]\u001b[A\n",
      "batch:  50%|█████     | 1/2 [00:30<00:30, 30.30s/it]\u001b[A\n",
      "batch: 100%|██████████| 2/2 [01:02<00:00, 31.49s/it]\u001b[A\n",
      "\n",
      "batch:   0%|          | 0/2 [00:00<?, ?it/s]\u001b[A\n",
      "batch:  50%|█████     | 1/2 [00:30<00:30, 30.18s/it]\u001b[A\n",
      "batch: 100%|██████████| 2/2 [01:05<00:00, 32.79s/it]\u001b[A\n"
     ]
    },
    {
     "name": "stdout",
     "output_type": "stream",
     "text": [
      "\n",
      "Found new best valid_seen!! Saving...\n",
      "Found new best valid_unseen!! Saving...\n",
      "Found new best train_sanity!! Saving...\n"
     ]
    },
    {
     "name": "stderr",
     "output_type": "stream",
     "text": [
      "epoch:  15%|█▌        | 3/20 [15:10<1:31:19, 322.31s/it]\n",
      "batch:   0%|          | 0/2 [00:00<?, ?it/s]\u001b[A"
     ]
    },
    {
     "name": "stdout",
     "output_type": "stream",
     "text": [
      "{'epoch': 2,\n",
      " 'train_sanity': {'BLEU': 7.5208704470569245e-81,\n",
      "                  'perplexity': 87.17150497436523,\n",
      "                  'total_loss': 9.522510051727295},\n",
      " 'valid_seen': {'BLEU': 1.126297066127311e-79,\n",
      "                'perplexity': 96.10115432739258,\n",
      "                'total_loss': 9.471346855163574},\n",
      " 'valid_unseen': {'BLEU': 3.293123435144804e-81,\n",
      "                  'perplexity': 87.1397476196289,\n",
      "                  'total_loss': 9.265686511993408}}\n",
      "epoch_time                    910.979                                 \n",
      "compute_metrics_validation_sets767.39                                  \n",
      "forward_batch_train_with_iterate113.363                                 \n",
      "forward_batch_train           112.433                                 \n",
      "torch_save_last               10.392                                  \n",
      "torch_save_train_sanity       6.965                                   \n",
      "torch_save_valid_unseen       5.265                                   \n",
      "torch_save_valid_seen         4.707                                   \n",
      "make_debug_train              1.508                                   \n",
      "make_debug_valid_seen         1.186                                   \n",
      "iterate_featurize             0.849                                   \n",
      "featurize_tensorization_and_padding0.465                                   \n",
      "iterate_load_task_json        0.428                                   \n",
      "featurize_input_resnet_features0.319                                   \n",
      "make_debug_valid_unseen       0.191                                   \n",
      "featurize_torch_load_time     0.175                                   \n",
      "featurize_input_action_low    0.001                                   \n",
      "featurize_outputs             0.001                                   \n",
      "setup_time                    0.001                                   \n",
      "compute_metrics_train         0.001                                   \n"
     ]
    },
    {
     "name": "stderr",
     "output_type": "stream",
     "text": [
      "\n",
      "batch:  50%|█████     | 1/2 [00:15<00:15, 15.83s/it]\u001b[A\n",
      "batch: 100%|██████████| 2/2 [00:32<00:00, 16.22s/it]\u001b[A\n",
      "\n",
      "batch:   0%|          | 0/2 [00:00<?, ?it/s]\u001b[A\n",
      "batch:  50%|█████     | 1/2 [00:03<00:03,  3.99s/it]\u001b[A\n",
      "batch: 100%|██████████| 2/2 [00:05<00:00,  2.96s/it]\u001b[A\n",
      "\n",
      "batch:   0%|          | 0/2 [00:00<?, ?it/s]\u001b[A\n",
      "batch:  50%|█████     | 1/2 [00:05<00:05,  5.91s/it]\u001b[A\n",
      "batch: 100%|██████████| 2/2 [00:10<00:00,  5.27s/it]\u001b[A\n",
      "\n",
      "batch:   0%|          | 0/2 [00:00<?, ?it/s]\u001b[A\n",
      "batch:  50%|█████     | 1/2 [00:03<00:03,  3.95s/it]\u001b[A\n",
      "batch: 100%|██████████| 2/2 [00:07<00:00,  3.75s/it]\u001b[A\n",
      "\n",
      "batch:   0%|          | 0/2 [00:00<?, ?it/s]\u001b[A\n",
      "batch:  50%|█████     | 1/2 [00:30<00:30, 30.61s/it]\u001b[A\n",
      "batch: 100%|██████████| 2/2 [00:46<00:00, 23.28s/it]\u001b[A\n",
      "\n",
      "batch:   0%|          | 0/2 [00:00<?, ?it/s]\u001b[A\n",
      "batch:  50%|█████     | 1/2 [00:30<00:30, 30.22s/it]\u001b[A\n",
      "batch: 100%|██████████| 2/2 [01:03<00:00, 31.53s/it]\u001b[A\n",
      "\n",
      "batch:   0%|          | 0/2 [00:00<?, ?it/s]\u001b[A\n",
      "batch:  50%|█████     | 1/2 [00:36<00:36, 36.09s/it]\u001b[A\n",
      "batch: 100%|██████████| 2/2 [01:00<00:00, 30.04s/it]\u001b[A\n",
      "epoch:  20%|██        | 4/20 [19:00<1:18:32, 294.51s/it]\n",
      "batch:   0%|          | 0/2 [00:00<?, ?it/s]\u001b[A"
     ]
    },
    {
     "name": "stdout",
     "output_type": "stream",
     "text": [
      "{'epoch': 3,\n",
      " 'train_sanity': {'BLEU': 5.223081130927093e-81,\n",
      "                  'perplexity': 78.18582153320312,\n",
      "                  'total_loss': 9.252532482147217},\n",
      " 'valid_seen': {'BLEU': 1.1815502053523823e-80,\n",
      "                'perplexity': 84.53696060180664,\n",
      "                'total_loss': 9.125615119934082},\n",
      " 'valid_unseen': {'BLEU': 2.07426013162108e-156,\n",
      "                  'perplexity': 78.54051971435547,\n",
      "                  'total_loss': 9.00125789642334}}\n",
      "epoch_time                    1140.62                                 \n",
      "compute_metrics_validation_sets962.102                                 \n",
      "forward_batch_train_with_iterate145.815                                 \n",
      "forward_batch_train           144.606                                 \n",
      "torch_save_last               12.689                                  \n",
      "torch_save_train_sanity       6.965                                   \n",
      "torch_save_valid_unseen       5.265                                   \n",
      "torch_save_valid_seen         4.707                                   \n",
      "make_debug_train              1.548                                   \n",
      "make_debug_valid_seen         1.227                                   \n",
      "iterate_featurize             1.135                                   \n",
      "featurize_tensorization_and_padding0.63                                    \n",
      "iterate_load_task_json        0.517                                   \n",
      "featurize_input_resnet_features0.421                                   \n",
      "make_debug_valid_unseen       0.285                                   \n",
      "featurize_torch_load_time     0.231                                   \n",
      "featurize_outputs             0.002                                   \n",
      "featurize_input_action_low    0.002                                   \n",
      "compute_metrics_train         0.002                                   \n",
      "setup_time                    0.001                                   \n"
     ]
    },
    {
     "name": "stderr",
     "output_type": "stream",
     "text": [
      "\n",
      "batch:  50%|█████     | 1/2 [00:15<00:15, 15.33s/it]\u001b[A\n",
      "batch: 100%|██████████| 2/2 [00:32<00:00, 16.26s/it]\u001b[A\n",
      "\n",
      "batch:   0%|          | 0/2 [00:00<?, ?it/s]\u001b[A\n",
      "batch:  50%|█████     | 1/2 [00:03<00:03,  3.96s/it]\u001b[A\n",
      "batch: 100%|██████████| 2/2 [00:06<00:00,  3.22s/it]\u001b[A\n",
      "\n",
      "batch:   0%|          | 0/2 [00:00<?, ?it/s]\u001b[A\n",
      "batch:  50%|█████     | 1/2 [00:06<00:06,  6.11s/it]\u001b[A\n",
      "batch: 100%|██████████| 2/2 [00:09<00:00,  4.84s/it]\u001b[A\n",
      "\n",
      "batch:   0%|          | 0/2 [00:00<?, ?it/s]\u001b[A\n",
      "batch:  50%|█████     | 1/2 [00:05<00:05,  5.37s/it]\u001b[A\n",
      "batch: 100%|██████████| 2/2 [00:10<00:00,  5.11s/it]\u001b[A\n",
      "\n",
      "batch:   0%|          | 0/2 [00:00<?, ?it/s]\u001b[A\n",
      "batch:  50%|█████     | 1/2 [00:32<00:32, 32.75s/it]\u001b[A\n",
      "batch: 100%|██████████| 2/2 [00:45<00:00, 22.92s/it]\u001b[A\n",
      "\n",
      "batch:   0%|          | 0/2 [00:00<?, ?it/s]\u001b[A\n",
      "batch:  50%|█████     | 1/2 [00:29<00:29, 29.60s/it]\u001b[A\n",
      "batch: 100%|██████████| 2/2 [01:05<00:00, 32.79s/it]\u001b[A\n",
      "\n",
      "batch:   0%|          | 0/2 [00:00<?, ?it/s]\u001b[A\n",
      "batch:  50%|█████     | 1/2 [00:30<00:30, 30.13s/it]\u001b[A\n",
      "batch: 100%|██████████| 2/2 [01:03<00:00, 31.59s/it]\u001b[A\n",
      "epoch:  25%|██▌       | 5/20 [22:57<1:09:18, 277.24s/it]\n",
      "batch:   0%|          | 0/2 [00:00<?, ?it/s]\u001b[A"
     ]
    },
    {
     "name": "stdout",
     "output_type": "stream",
     "text": [
      "{'epoch': 4,\n",
      " 'train_sanity': {'BLEU': 1.3020014462697315e-155,\n",
      "                  'perplexity': 71.10909271240234,\n",
      "                  'total_loss': 9.010494709014893},\n",
      " 'valid_seen': {'BLEU': 1.4846437723891347e-155,\n",
      "                'perplexity': 75.15960311889648,\n",
      "                'total_loss': 8.855387210845947},\n",
      " 'valid_unseen': {'BLEU': 1.7443462387331522e-155,\n",
      "                  'perplexity': 72.67127227783203,\n",
      "                  'total_loss': 8.800154209136963}}\n",
      "epoch_time                    1377.559                                \n",
      "compute_metrics_validation_sets1164.004                                \n",
      "forward_batch_train_with_iterate178.344                                 \n",
      "forward_batch_train           176.783                                 \n",
      "torch_save_last               14.964                                  \n",
      "torch_save_train_sanity       6.965                                   \n",
      "torch_save_valid_unseen       5.265                                   \n",
      "torch_save_valid_seen         4.707                                   \n",
      "make_debug_train              1.641                                   \n",
      "iterate_featurize             1.483                                   \n",
      "make_debug_valid_seen         1.319                                   \n",
      "featurize_tensorization_and_padding0.856                                   \n",
      "iterate_load_task_json        0.715                                   \n",
      "featurize_input_resnet_features0.526                                   \n",
      "make_debug_valid_unseen       0.328                                   \n",
      "featurize_torch_load_time     0.287                                   \n",
      "featurize_input_action_low    0.002                                   \n",
      "featurize_outputs             0.002                                   \n",
      "compute_metrics_train         0.002                                   \n",
      "setup_time                    0.001                                   \n"
     ]
    },
    {
     "name": "stderr",
     "output_type": "stream",
     "text": [
      "\n",
      "batch:  50%|█████     | 1/2 [00:14<00:14, 14.66s/it]\u001b[A\n",
      "batch: 100%|██████████| 2/2 [00:29<00:00, 14.89s/it]\u001b[A\n",
      "\n",
      "batch:   0%|          | 0/2 [00:00<?, ?it/s]\u001b[A\n",
      "batch:  50%|█████     | 1/2 [00:03<00:03,  3.64s/it]\u001b[A\n",
      "batch: 100%|██████████| 2/2 [00:05<00:00,  2.89s/it]\u001b[A\n",
      "\n",
      "batch:   0%|          | 0/2 [00:00<?, ?it/s]\u001b[A\n",
      "batch:  50%|█████     | 1/2 [00:05<00:05,  5.68s/it]\u001b[A\n",
      "batch: 100%|██████████| 2/2 [00:10<00:00,  5.32s/it]\u001b[A\n",
      "\n",
      "batch:   0%|          | 0/2 [00:00<?, ?it/s]\u001b[A\n",
      "batch:  50%|█████     | 1/2 [00:04<00:04,  4.93s/it]\u001b[A\n",
      "batch: 100%|██████████| 2/2 [00:08<00:00,  4.26s/it]\u001b[A\n",
      "\n",
      "batch:   0%|          | 0/2 [00:00<?, ?it/s]\u001b[A\n",
      "batch:  50%|█████     | 1/2 [00:33<00:33, 33.62s/it]\u001b[A\n",
      "batch: 100%|██████████| 2/2 [00:48<00:00, 24.47s/it]\u001b[A\n",
      "\n",
      "batch:   0%|          | 0/2 [00:00<?, ?it/s]\u001b[A\n",
      "batch:  50%|█████     | 1/2 [00:28<00:28, 28.74s/it]\u001b[A\n",
      "batch: 100%|██████████| 2/2 [01:04<00:00, 32.45s/it]\u001b[A\n",
      "\n",
      "batch:   0%|          | 0/2 [00:00<?, ?it/s]\u001b[A\n",
      "batch:  50%|█████     | 1/2 [00:31<00:31, 31.79s/it]\u001b[A\n",
      "batch: 100%|██████████| 2/2 [01:03<00:00, 31.97s/it]\u001b[A\n",
      "epoch:  30%|███       | 6/20 [26:54<1:01:53, 265.22s/it]\n",
      "batch:   0%|          | 0/2 [00:00<?, ?it/s]\u001b[A"
     ]
    },
    {
     "name": "stdout",
     "output_type": "stream",
     "text": [
      "{'epoch': 5,\n",
      " 'train_sanity': {'BLEU': 1.1871283924259859e-155,\n",
      "                  'perplexity': 63.69926643371582,\n",
      "                  'total_loss': 8.840510845184326},\n",
      " 'valid_seen': {'BLEU': 1.6223348257232558e-155,\n",
      "                'perplexity': 66.11241149902344,\n",
      "                'total_loss': 8.663967609405518},\n",
      " 'valid_unseen': {'BLEU': 1.5309408648864078e-155,\n",
      "                  'perplexity': 65.72210311889648,\n",
      "                  'total_loss': 8.639078617095947}}\n",
      "epoch_time                    1614.727                                \n",
      "compute_metrics_validation_sets1367.744                                \n",
      "forward_batch_train_with_iterate208.131                                 \n",
      "forward_batch_train           206.256                                 \n",
      "torch_save_last               18.371                                  \n",
      "torch_save_train_sanity       6.965                                   \n",
      "torch_save_valid_unseen       5.265                                   \n",
      "torch_save_valid_seen         4.707                                   \n",
      "make_debug_train              1.736                                   \n",
      "iterate_featurize             1.733                                   \n",
      "make_debug_valid_seen         1.411                                   \n",
      "featurize_tensorization_and_padding0.972                                   \n",
      "iterate_load_task_json        0.873                                   \n",
      "featurize_input_resnet_features0.634                                   \n",
      "make_debug_valid_unseen       0.37                                    \n",
      "featurize_torch_load_time     0.343                                   \n",
      "featurize_input_action_low    0.003                                   \n",
      "featurize_outputs             0.002                                   \n",
      "compute_metrics_train         0.002                                   \n",
      "setup_time                    0.001                                   \n"
     ]
    },
    {
     "name": "stderr",
     "output_type": "stream",
     "text": [
      "\n",
      "batch:  50%|█████     | 1/2 [00:18<00:18, 18.16s/it]\u001b[A\n",
      "batch: 100%|██████████| 2/2 [00:32<00:00, 16.27s/it]\u001b[A\n",
      "\n",
      "batch:   0%|          | 0/2 [00:00<?, ?it/s]\u001b[A\n",
      "batch:  50%|█████     | 1/2 [00:03<00:03,  3.28s/it]\u001b[A\n",
      "batch: 100%|██████████| 2/2 [00:05<00:00,  2.62s/it]\u001b[A\n",
      "\n",
      "batch:   0%|          | 0/2 [00:00<?, ?it/s]\u001b[A\n",
      "batch:  50%|█████     | 1/2 [00:04<00:04,  4.15s/it]\u001b[A\n",
      "batch: 100%|██████████| 2/2 [00:09<00:00,  4.66s/it]\u001b[A\n",
      "\n",
      "batch:   0%|          | 0/2 [00:00<?, ?it/s]\u001b[A\n",
      "batch:  50%|█████     | 1/2 [00:05<00:05,  5.05s/it]\u001b[A\n",
      "batch: 100%|██████████| 2/2 [00:09<00:00,  4.93s/it]\u001b[A\n",
      "\n",
      "batch:   0%|          | 0/2 [00:00<?, ?it/s]\u001b[A\n",
      "batch:  50%|█████     | 1/2 [00:36<00:36, 36.29s/it]\u001b[A\n",
      "batch: 100%|██████████| 2/2 [00:51<00:00, 25.63s/it]\u001b[A\n",
      "\n",
      "batch:   0%|          | 0/2 [00:00<?, ?it/s]\u001b[A\n",
      "batch:  50%|█████     | 1/2 [00:28<00:28, 28.80s/it]\u001b[A\n",
      "batch: 100%|██████████| 2/2 [01:09<00:00, 34.59s/it]\u001b[A\n",
      "\n",
      "batch:   0%|          | 0/2 [00:00<?, ?it/s]\u001b[A\n",
      "batch:  50%|█████     | 1/2 [00:36<00:36, 36.90s/it]\u001b[A\n",
      "batch: 100%|██████████| 2/2 [01:03<00:00, 31.79s/it]\u001b[A\n"
     ]
    },
    {
     "name": "stdout",
     "output_type": "stream",
     "text": [
      "\n",
      "Found new best valid_seen!! Saving...\n",
      "Found new best valid_unseen!! Saving...\n",
      "Found new best train_sanity!! Saving...\n"
     ]
    },
    {
     "name": "stderr",
     "output_type": "stream",
     "text": [
      "epoch:  35%|███▌      | 7/20 [31:12<56:59, 263.01s/it]  \n",
      "batch:   0%|          | 0/2 [00:00<?, ?it/s]\u001b[A"
     ]
    },
    {
     "name": "stdout",
     "output_type": "stream",
     "text": [
      "{'epoch': 6,\n",
      " 'train_sanity': {'BLEU': 8.795341470012513e-80,\n",
      "                  'perplexity': 58.91527557373047,\n",
      "                  'total_loss': 8.725086688995361},\n",
      " 'valid_seen': {'BLEU': 1.5602035303574024e-79,\n",
      "                'perplexity': 59.71653747558594,\n",
      "                'total_loss': 8.534575939178467},\n",
      " 'valid_unseen': {'BLEU': 8.688939422852377e-81,\n",
      "                  'perplexity': 60.35763931274414,\n",
      "                  'total_loss': 8.50069808959961}}\n",
      "epoch_time                    1872.586                                \n",
      "compute_metrics_validation_sets1577.124                                \n",
      "forward_batch_train_with_iterate240.669                                 \n",
      "forward_batch_train           238.469                                 \n",
      "torch_save_last               24.256                                  \n",
      "torch_save_train_sanity       11.133                                  \n",
      "torch_save_valid_unseen       8.172                                   \n",
      "torch_save_valid_seen         7.41                                    \n",
      "iterate_featurize             2.009                                   \n",
      "make_debug_train              1.838                                   \n",
      "make_debug_valid_seen         1.453                                   \n",
      "featurize_tensorization_and_padding1.142                                   \n",
      "iterate_load_task_json        1.035                                   \n",
      "featurize_input_resnet_features0.719                                   \n",
      "make_debug_valid_unseen       0.499                                   \n",
      "featurize_torch_load_time     0.389                                   \n",
      "featurize_input_action_low    0.003                                   \n",
      "featurize_outputs             0.003                                   \n",
      "compute_metrics_train         0.002                                   \n",
      "setup_time                    0.001                                   \n"
     ]
    },
    {
     "name": "stderr",
     "output_type": "stream",
     "text": [
      "\n",
      "batch:  50%|█████     | 1/2 [00:16<00:16, 16.98s/it]\u001b[A\n",
      "batch: 100%|██████████| 2/2 [00:33<00:00, 16.85s/it]\u001b[A\n",
      "\n",
      "batch:   0%|          | 0/2 [00:00<?, ?it/s]\u001b[A\n",
      "batch:  50%|█████     | 1/2 [00:03<00:03,  3.97s/it]\u001b[A\n",
      "batch: 100%|██████████| 2/2 [00:05<00:00,  2.91s/it]\u001b[A\n",
      "\n",
      "batch:   0%|          | 0/2 [00:00<?, ?it/s]\u001b[A\n",
      "batch:  50%|█████     | 1/2 [00:04<00:04,  4.65s/it]\u001b[A\n",
      "batch: 100%|██████████| 2/2 [00:08<00:00,  4.35s/it]\u001b[A\n",
      "\n",
      "batch:   0%|          | 0/2 [00:00<?, ?it/s]\u001b[A\n",
      "batch:  50%|█████     | 1/2 [00:05<00:05,  5.84s/it]\u001b[A\n",
      "batch: 100%|██████████| 2/2 [00:10<00:00,  5.25s/it]\u001b[A\n",
      "\n",
      "batch:   0%|          | 0/2 [00:00<?, ?it/s]\u001b[A\n",
      "batch:  50%|█████     | 1/2 [00:31<00:31, 31.02s/it]\u001b[A\n",
      "batch: 100%|██████████| 2/2 [00:43<00:00, 22.00s/it]\u001b[A\n",
      "\n",
      "batch:   0%|          | 0/2 [00:00<?, ?it/s]\u001b[A\n",
      "batch:  50%|█████     | 1/2 [00:35<00:35, 35.71s/it]\u001b[A\n",
      "batch: 100%|██████████| 2/2 [01:06<00:00, 33.08s/it]\u001b[A\n",
      "\n",
      "batch:   0%|          | 0/2 [00:00<?, ?it/s]\u001b[A\n",
      "batch:  50%|█████     | 1/2 [00:32<00:32, 32.20s/it]\u001b[A\n",
      "batch: 100%|██████████| 2/2 [01:09<00:00, 34.71s/it]\u001b[A\n"
     ]
    },
    {
     "name": "stdout",
     "output_type": "stream",
     "text": [
      "\n",
      "Found new best valid_seen!! Saving...\n",
      "Found new best valid_unseen!! Saving...\n",
      "Found new best train_sanity!! Saving...\n"
     ]
    },
    {
     "name": "stderr",
     "output_type": "stream",
     "text": [
      "epoch:  40%|████      | 8/20 [35:27<52:07, 260.67s/it]\n",
      "batch:   0%|          | 0/2 [00:00<?, ?it/s]\u001b[A"
     ]
    },
    {
     "name": "stdout",
     "output_type": "stream",
     "text": [
      "{'epoch': 7,\n",
      " 'train_sanity': {'BLEU': 0.004925737546891541,\n",
      "                  'perplexity': 55.29231834411621,\n",
      "                  'total_loss': 8.633923530578613},\n",
      " 'valid_seen': {'BLEU': 0.005792379855923519,\n",
      "                'perplexity': 55.56051826477051,\n",
      "                'total_loss': 8.422352313995361},\n",
      " 'valid_unseen': {'BLEU': 0.002198131661770655,\n",
      "                  'perplexity': 56.51415824890137,\n",
      "                  'total_loss': 8.393368244171143}}\n",
      "epoch_time                    2127.779                                \n",
      "compute_metrics_validation_sets1782.68                                 \n",
      "forward_batch_train_with_iterate274.377                                 \n",
      "forward_batch_train           271.9                                   \n",
      "torch_save_last               27.45                                   \n",
      "torch_save_train_sanity       16.018                                  \n",
      "torch_save_valid_unseen       13.483                                  \n",
      "torch_save_valid_seen         9.689                                   \n",
      "iterate_featurize             2.281                                   \n",
      "make_debug_train              1.938                                   \n",
      "make_debug_valid_seen         1.499                                   \n",
      "featurize_tensorization_and_padding1.31                                    \n",
      "iterate_load_task_json        1.139                                   \n",
      "featurize_input_resnet_features0.806                                   \n",
      "make_debug_valid_unseen       0.608                                   \n",
      "featurize_torch_load_time     0.434                                   \n",
      "featurize_input_action_low    0.004                                   \n",
      "compute_metrics_train         0.003                                   \n",
      "featurize_outputs             0.003                                   \n",
      "setup_time                    0.001                                   \n"
     ]
    },
    {
     "name": "stderr",
     "output_type": "stream",
     "text": [
      "\n",
      "batch:  50%|█████     | 1/2 [00:18<00:18, 18.63s/it]\u001b[A\n",
      "batch: 100%|██████████| 2/2 [00:35<00:00, 17.69s/it]\u001b[A\n",
      "\n",
      "batch:   0%|          | 0/2 [00:00<?, ?it/s]\u001b[A\n",
      "batch:  50%|█████     | 1/2 [00:04<00:04,  4.34s/it]\u001b[A\n",
      "batch: 100%|██████████| 2/2 [00:06<00:00,  3.32s/it]\u001b[A\n",
      "\n",
      "batch:   0%|          | 0/2 [00:00<?, ?it/s]\u001b[A\n",
      "batch:  50%|█████     | 1/2 [00:05<00:05,  5.57s/it]\u001b[A\n",
      "batch: 100%|██████████| 2/2 [00:12<00:00,  6.31s/it]\u001b[A\n",
      "\n",
      "batch:   0%|          | 0/2 [00:00<?, ?it/s]\u001b[A\n",
      "batch:  50%|█████     | 1/2 [00:05<00:05,  5.14s/it]\u001b[A\n",
      "batch: 100%|██████████| 2/2 [00:08<00:00,  4.48s/it]\u001b[A\n",
      "\n",
      "batch:   0%|          | 0/2 [00:00<?, ?it/s]\u001b[A\n",
      "batch:  50%|█████     | 1/2 [00:30<00:30, 30.78s/it]\u001b[A\n",
      "batch: 100%|██████████| 2/2 [00:46<00:00, 23.22s/it]\u001b[A\n",
      "\n",
      "batch:   0%|          | 0/2 [00:00<?, ?it/s]\u001b[A\n",
      "batch:  50%|█████     | 1/2 [00:32<00:32, 32.75s/it]\u001b[A\n",
      "batch: 100%|██████████| 2/2 [01:07<00:00, 33.91s/it]\u001b[A\n",
      "\n",
      "batch:   0%|          | 0/2 [00:00<?, ?it/s]\u001b[A\n",
      "batch:  50%|█████     | 1/2 [00:32<00:32, 32.88s/it]\u001b[A\n",
      "batch: 100%|██████████| 2/2 [01:09<00:00, 34.57s/it]\u001b[A\n"
     ]
    },
    {
     "name": "stdout",
     "output_type": "stream",
     "text": [
      "Found new best valid_unseen!! Saving...\n"
     ]
    },
    {
     "name": "stderr",
     "output_type": "stream",
     "text": [
      "epoch:  45%|████▌     | 9/20 [39:42<47:27, 258.84s/it]\n",
      "batch:   0%|          | 0/2 [00:00<?, ?it/s]\u001b[A"
     ]
    },
    {
     "name": "stdout",
     "output_type": "stream",
     "text": [
      "{'epoch': 8,\n",
      " 'train_sanity': {'BLEU': 3.6881298133374667e-79,\n",
      "                  'perplexity': 49.15816879272461,\n",
      "                  'total_loss': 8.47033166885376},\n",
      " 'valid_seen': {'BLEU': 0.00039599275611208745,\n",
      "                'perplexity': 49.4355411529541,\n",
      "                'total_loss': 8.249424934387207},\n",
      " 'valid_unseen': {'BLEU': 0.0037429670246547503,\n",
      "                  'perplexity': 50.82699203491211,\n",
      "                  'total_loss': 8.263648748397827}}\n",
      "epoch_time                    2382.369                                \n",
      "compute_metrics_validation_sets1995.255                                \n",
      "forward_batch_train_with_iterate309.762                                 \n",
      "forward_batch_train           306.934                                 \n",
      "torch_save_last               31.51                                   \n",
      "torch_save_train_sanity       16.018                                  \n",
      "torch_save_valid_unseen       15.811                                  \n",
      "torch_save_valid_seen         9.689                                   \n",
      "iterate_featurize             2.533                                   \n",
      "make_debug_train              2.039                                   \n",
      "make_debug_valid_seen         1.593                                   \n",
      "featurize_tensorization_and_padding1.429                                   \n",
      "iterate_load_task_json        1.363                                   \n",
      "featurize_input_resnet_features0.912                                   \n",
      "make_debug_valid_unseen       0.653                                   \n",
      "featurize_torch_load_time     0.502                                   \n",
      "featurize_input_action_low    0.004                                   \n",
      "compute_metrics_train         0.003                                   \n",
      "featurize_outputs             0.003                                   \n",
      "setup_time                    0.001                                   \n"
     ]
    },
    {
     "name": "stderr",
     "output_type": "stream",
     "text": [
      "\n",
      "batch:  50%|█████     | 1/2 [00:17<00:17, 17.69s/it]\u001b[A\n",
      "batch: 100%|██████████| 2/2 [00:32<00:00, 16.29s/it]\u001b[A\n",
      "\n",
      "batch:   0%|          | 0/2 [00:00<?, ?it/s]\u001b[A\n",
      "batch:  50%|█████     | 1/2 [00:05<00:05,  5.12s/it]\u001b[A\n",
      "batch: 100%|██████████| 2/2 [00:09<00:00,  4.53s/it]\u001b[A\n",
      "\n",
      "batch:   0%|          | 0/2 [00:00<?, ?it/s]\u001b[A\n",
      "batch:  50%|█████     | 1/2 [00:07<00:07,  7.66s/it]\u001b[A\n",
      "batch: 100%|██████████| 2/2 [00:15<00:00,  7.56s/it]\u001b[A\n",
      "\n",
      "batch:   0%|          | 0/2 [00:00<?, ?it/s]\u001b[A\n",
      "batch:  50%|█████     | 1/2 [00:07<00:07,  7.54s/it]\u001b[A\n",
      "batch: 100%|██████████| 2/2 [00:14<00:00,  7.03s/it]\u001b[A\n",
      "\n",
      "batch:   0%|          | 0/2 [00:00<?, ?it/s]\u001b[A\n",
      "batch:  50%|█████     | 1/2 [00:57<00:57, 57.62s/it]\u001b[A\n",
      "batch: 100%|██████████| 2/2 [01:27<00:00, 43.60s/it]\u001b[A\n",
      "\n",
      "batch:   0%|          | 0/2 [00:00<?, ?it/s]\u001b[A\n",
      "batch:  50%|█████     | 1/2 [00:58<00:58, 58.86s/it]\u001b[A\n",
      "batch: 100%|██████████| 2/2 [01:55<00:00, 57.66s/it]\u001b[A\n",
      "\n",
      "batch:   0%|          | 0/2 [00:00<?, ?it/s]\u001b[A\n",
      "batch:  50%|█████     | 1/2 [01:00<01:00, 60.15s/it]\u001b[A\n",
      "batch: 100%|██████████| 2/2 [01:43<00:00, 51.80s/it]\u001b[A\n",
      "epoch:  50%|█████     | 10/20 [46:02<49:13, 295.31s/it]\n",
      "batch:   0%|          | 0/2 [00:00<?, ?it/s]\u001b[A"
     ]
    },
    {
     "name": "stdout",
     "output_type": "stream",
     "text": [
      "{'epoch': 9,\n",
      " 'train_sanity': {'BLEU': 4.063552690154093e-79,\n",
      "                  'perplexity': 45.16494178771973,\n",
      "                  'total_loss': 8.336349964141846},\n",
      " 'valid_seen': {'BLEU': 0.0003199893409621375,\n",
      "                'perplexity': 45.35989952087402,\n",
      "                'total_loss': 8.10684871673584},\n",
      " 'valid_unseen': {'BLEU': 0.0034167964786093723,\n",
      "                  'perplexity': 47.23642158508301,\n",
      "                  'total_loss': 8.165297031402588}}\n",
      "epoch_time                    2762.756                                \n",
      "compute_metrics_validation_sets2340.539                                \n",
      "forward_batch_train_with_iterate342.338                                 \n",
      "forward_batch_train           339.211                                 \n",
      "torch_save_last               33.801                                  \n",
      "torch_save_train_sanity       16.018                                  \n",
      "torch_save_valid_unseen       15.811                                  \n",
      "torch_save_valid_seen         9.689                                   \n",
      "iterate_featurize             2.771                                   \n",
      "make_debug_train              2.132                                   \n",
      "make_debug_valid_seen         1.688                                   \n",
      "featurize_tensorization_and_padding1.556                                   \n",
      "iterate_load_task_json        1.508                                   \n",
      "featurize_input_resnet_features1.001                                   \n",
      "make_debug_valid_unseen       0.696                                   \n",
      "featurize_torch_load_time     0.55                                    \n",
      "featurize_input_action_low    0.005                                   \n",
      "compute_metrics_train         0.003                                   \n",
      "featurize_outputs             0.003                                   \n",
      "setup_time                    0.001                                   \n"
     ]
    },
    {
     "name": "stderr",
     "output_type": "stream",
     "text": [
      "\n",
      "batch:  50%|█████     | 1/2 [00:16<00:16, 16.48s/it]\u001b[A\n",
      "batch: 100%|██████████| 2/2 [00:34<00:00, 17.22s/it]\u001b[A\n",
      "\n",
      "batch:   0%|          | 0/2 [00:00<?, ?it/s]\u001b[A\n",
      "batch:  50%|█████     | 1/2 [00:03<00:03,  3.09s/it]\u001b[A\n",
      "batch: 100%|██████████| 2/2 [00:04<00:00,  2.37s/it]\u001b[A\n",
      "\n",
      "batch:   0%|          | 0/2 [00:00<?, ?it/s]\u001b[A\n",
      "batch:  50%|█████     | 1/2 [00:06<00:06,  6.34s/it]\u001b[A\n",
      "batch: 100%|██████████| 2/2 [00:11<00:00,  5.60s/it]\u001b[A\n",
      "\n",
      "batch:   0%|          | 0/2 [00:00<?, ?it/s]\u001b[A\n",
      "batch:  50%|█████     | 1/2 [00:05<00:05,  5.10s/it]\u001b[A\n",
      "batch: 100%|██████████| 2/2 [00:10<00:00,  5.42s/it]\u001b[A\n",
      "\n",
      "batch:   0%|          | 0/2 [00:00<?, ?it/s]\u001b[A\n",
      "batch:  50%|█████     | 1/2 [00:32<00:32, 32.40s/it]\u001b[A\n",
      "batch: 100%|██████████| 2/2 [00:46<00:00, 23.13s/it]\u001b[A\n",
      "\n",
      "batch:   0%|          | 0/2 [00:00<?, ?it/s]\u001b[A\n",
      "batch:  50%|█████     | 1/2 [00:50<00:50, 50.12s/it]\u001b[A\n",
      "batch: 100%|██████████| 2/2 [01:28<00:00, 44.24s/it]\u001b[A\n",
      "\n",
      "batch:   0%|          | 0/2 [00:00<?, ?it/s]\u001b[A\n",
      "batch:  50%|█████     | 1/2 [00:36<00:36, 36.77s/it]\u001b[A\n",
      "batch: 100%|██████████| 2/2 [01:08<00:00, 34.26s/it]\u001b[A\n"
     ]
    },
    {
     "name": "stdout",
     "output_type": "stream",
     "text": [
      "Found new best valid_unseen!! Saving...\n"
     ]
    },
    {
     "name": "stderr",
     "output_type": "stream",
     "text": [
      "epoch:  55%|█████▌    | 11/20 [50:36<43:18, 288.73s/it]\n",
      "batch:   0%|          | 0/2 [00:00<?, ?it/s]\u001b[A"
     ]
    },
    {
     "name": "stdout",
     "output_type": "stream",
     "text": [
      "{'epoch': 10,\n",
      " 'train_sanity': {'BLEU': 3.80434944810643e-79,\n",
      "                  'perplexity': 44.79294776916504,\n",
      "                  'total_loss': 8.318325757980347},\n",
      " 'valid_seen': {'BLEU': 0.0014430363098751342,\n",
      "                'perplexity': 44.969770431518555,\n",
      "                'total_loss': 8.08597183227539},\n",
      " 'valid_unseen': {'BLEU': 0.006402887332794452,\n",
      "                  'perplexity': 46.84660339355469,\n",
      "                  'total_loss': 8.146264553070068}}\n",
      "epoch_time                    3036.137                                \n",
      "compute_metrics_validation_sets2571.526                                \n",
      "forward_batch_train_with_iterate376.787                                 \n",
      "forward_batch_train           373.298                                 \n",
      "torch_save_last               39.554                                  \n",
      "torch_save_valid_unseen       17.753                                  \n",
      "torch_save_train_sanity       16.018                                  \n",
      "torch_save_valid_seen         9.689                                   \n",
      "iterate_featurize             3.059                                   \n",
      "make_debug_train              2.239                                   \n",
      "featurize_tensorization_and_padding1.734                                   \n",
      "make_debug_valid_seen         1.731                                   \n",
      "iterate_load_task_json        1.677                                   \n",
      "featurize_input_resnet_features1.092                                   \n",
      "make_debug_valid_unseen       0.791                                   \n",
      "featurize_torch_load_time     0.598                                   \n",
      "featurize_input_action_low    0.005                                   \n",
      "compute_metrics_train         0.004                                   \n",
      "featurize_outputs             0.003                                   \n",
      "setup_time                    0.001                                   \n"
     ]
    },
    {
     "name": "stderr",
     "output_type": "stream",
     "text": [
      "\n",
      "batch:  50%|█████     | 1/2 [00:16<00:16, 16.46s/it]\u001b[A\n",
      "batch: 100%|██████████| 2/2 [00:30<00:00, 15.11s/it]\u001b[A\n",
      "\n",
      "batch:   0%|          | 0/2 [00:00<?, ?it/s]\u001b[A\n",
      "batch:  50%|█████     | 1/2 [00:04<00:04,  4.42s/it]\u001b[A\n",
      "batch: 100%|██████████| 2/2 [00:06<00:00,  3.34s/it]\u001b[A\n",
      "\n",
      "batch:   0%|          | 0/2 [00:00<?, ?it/s]\u001b[A\n",
      "batch:  50%|█████     | 1/2 [00:05<00:05,  5.23s/it]\u001b[A\n",
      "batch: 100%|██████████| 2/2 [00:10<00:00,  5.30s/it]\u001b[A\n",
      "\n",
      "batch:   0%|          | 0/2 [00:00<?, ?it/s]\u001b[A\n",
      "batch:  50%|█████     | 1/2 [00:03<00:03,  3.60s/it]\u001b[A\n",
      "batch: 100%|██████████| 2/2 [00:06<00:00,  3.40s/it]\u001b[A\n",
      "\n",
      "batch:   0%|          | 0/2 [00:00<?, ?it/s]\u001b[A\n",
      "batch:  50%|█████     | 1/2 [00:23<00:23, 23.29s/it]\u001b[A\n",
      "batch: 100%|██████████| 2/2 [00:34<00:00, 17.10s/it]\u001b[A\n",
      "\n",
      "batch:   0%|          | 0/2 [00:00<?, ?it/s]\u001b[A\n",
      "batch:  50%|█████     | 1/2 [00:31<00:31, 31.62s/it]\u001b[A\n",
      "batch: 100%|██████████| 2/2 [00:56<00:00, 28.30s/it]\u001b[A\n",
      "\n",
      "batch:   0%|          | 0/2 [00:00<?, ?it/s]\u001b[A\n",
      "batch:  50%|█████     | 1/2 [00:32<00:32, 32.19s/it]\u001b[A\n",
      "batch: 100%|██████████| 2/2 [01:02<00:00, 31.37s/it]\u001b[A\n"
     ]
    },
    {
     "name": "stdout",
     "output_type": "stream",
     "text": [
      "Found new best valid_unseen!! Saving...\n"
     ]
    },
    {
     "name": "stderr",
     "output_type": "stream",
     "text": [
      "epoch:  60%|██████    | 12/20 [54:12<35:36, 267.03s/it]\n",
      "batch:   0%|          | 0/2 [00:00<?, ?it/s]\u001b[A"
     ]
    },
    {
     "name": "stdout",
     "output_type": "stream",
     "text": [
      "{'epoch': 11,\n",
      " 'train_sanity': {'BLEU': 4.052394682647e-79,\n",
      "                  'perplexity': 44.37904167175293,\n",
      "                  'total_loss': 8.30155324935913},\n",
      " 'valid_seen': {'BLEU': 0.0001735138842122374,\n",
      "                'perplexity': 44.69742774963379,\n",
      "                'total_loss': 8.071208953857422},\n",
      " 'valid_unseen': {'BLEU': 0.010346157650158921,\n",
      "                  'perplexity': 46.59224891662598,\n",
      "                  'total_loss': 8.131822109222412}}\n",
      "epoch_time                    3252.531                                \n",
      "compute_metrics_validation_sets2750.029                                \n",
      "forward_batch_train_with_iterate407.014                                 \n",
      "forward_batch_train           403.218                                 \n",
      "torch_save_last               43.372                                  \n",
      "torch_save_valid_unseen       21.359                                  \n",
      "torch_save_train_sanity       16.018                                  \n",
      "torch_save_valid_seen         9.689                                   \n",
      "iterate_featurize             3.389                                   \n",
      "make_debug_train              2.282                                   \n",
      "featurize_tensorization_and_padding1.959                                   \n",
      "make_debug_valid_seen         1.827                                   \n",
      "iterate_load_task_json        1.781                                   \n",
      "featurize_input_resnet_features1.178                                   \n",
      "make_debug_valid_unseen       0.889                                   \n",
      "featurize_torch_load_time     0.645                                   \n",
      "featurize_input_action_low    0.006                                   \n",
      "compute_metrics_train         0.004                                   \n",
      "featurize_outputs             0.004                                   \n",
      "setup_time                    0.001                                   \n"
     ]
    },
    {
     "name": "stderr",
     "output_type": "stream",
     "text": [
      "\n",
      "batch:  50%|█████     | 1/2 [00:17<00:17, 17.63s/it]\u001b[A\n",
      "batch: 100%|██████████| 2/2 [00:33<00:00, 16.92s/it]\u001b[A\n",
      "\n",
      "batch:   0%|          | 0/2 [00:00<?, ?it/s]\u001b[A\n",
      "batch:  50%|█████     | 1/2 [00:05<00:05,  5.01s/it]\u001b[A\n",
      "batch: 100%|██████████| 2/2 [00:07<00:00,  3.53s/it]\u001b[A\n",
      "\n",
      "batch:   0%|          | 0/2 [00:00<?, ?it/s]\u001b[A\n",
      "batch:  50%|█████     | 1/2 [00:04<00:04,  4.67s/it]\u001b[A\n",
      "batch: 100%|██████████| 2/2 [00:09<00:00,  4.77s/it]\u001b[A\n",
      "\n",
      "batch:   0%|          | 0/2 [00:00<?, ?it/s]\u001b[A\n",
      "batch:  50%|█████     | 1/2 [00:05<00:05,  5.88s/it]\u001b[A\n",
      "batch: 100%|██████████| 2/2 [00:09<00:00,  4.92s/it]\u001b[A\n",
      "\n",
      "batch:   0%|          | 0/2 [00:00<?, ?it/s]\u001b[A\n",
      "batch:  50%|█████     | 1/2 [00:32<00:32, 32.58s/it]\u001b[A\n",
      "batch: 100%|██████████| 2/2 [00:47<00:00, 23.68s/it]\u001b[A\n",
      "\n",
      "batch:   0%|          | 0/2 [00:00<?, ?it/s]\u001b[A\n",
      "batch:  50%|█████     | 1/2 [00:34<00:34, 34.78s/it]\u001b[A\n",
      "batch: 100%|██████████| 2/2 [01:09<00:00, 34.52s/it]\u001b[A\n",
      "\n",
      "batch:   0%|          | 0/2 [00:00<?, ?it/s]\u001b[A\n",
      "batch:  50%|█████     | 1/2 [00:37<00:37, 37.06s/it]\u001b[A\n",
      "batch: 100%|██████████| 2/2 [01:03<00:00, 31.77s/it]\u001b[A\n"
     ]
    },
    {
     "name": "stdout",
     "output_type": "stream",
     "text": [
      "\n",
      "Found new best valid_seen!! Saving...\n",
      "Found new best valid_unseen!! Saving...\n"
     ]
    },
    {
     "name": "stderr",
     "output_type": "stream",
     "text": [
      "epoch:  65%|██████▌   | 13/20 [58:25<30:40, 262.92s/it]\n",
      "batch:   0%|          | 0/2 [00:00<?, ?it/s]\u001b[A"
     ]
    },
    {
     "name": "stdout",
     "output_type": "stream",
     "text": [
      "{'epoch': 12,\n",
      " 'train_sanity': {'BLEU': 4.8624303314505153e-79,\n",
      "                  'perplexity': 44.08770942687988,\n",
      "                  'total_loss': 8.286047458648682},\n",
      " 'valid_seen': {'BLEU': 0.007105578590705607,\n",
      "                'perplexity': 44.502891540527344,\n",
      "                'total_loss': 8.053915977478027},\n",
      " 'valid_unseen': {'BLEU': 0.01290240942771798,\n",
      "                  'perplexity': 46.460554122924805,\n",
      "                  'total_loss': 8.11527705192566}}\n",
      "epoch_time                    3505.862                                \n",
      "compute_metrics_validation_sets2957.35                                 \n",
      "forward_batch_train_with_iterate440.855                                 \n",
      "forward_batch_train           436.788                                 \n",
      "torch_save_last               49.405                                  \n",
      "torch_save_valid_unseen       23.959                                  \n",
      "torch_save_train_sanity       16.018                                  \n",
      "torch_save_valid_seen         12.962                                  \n",
      "iterate_featurize             3.597                                   \n",
      "make_debug_train              2.381                                   \n",
      "featurize_tensorization_and_padding2.06                                    \n",
      "iterate_load_task_json        1.986                                   \n",
      "make_debug_valid_seen         1.932                                   \n",
      "featurize_input_resnet_features1.267                                   \n",
      "make_debug_valid_unseen       0.945                                   \n",
      "featurize_torch_load_time     0.692                                   \n",
      "featurize_input_action_low    0.006                                   \n",
      "compute_metrics_train         0.004                                   \n",
      "featurize_outputs             0.004                                   \n",
      "setup_time                    0.001                                   \n"
     ]
    },
    {
     "name": "stderr",
     "output_type": "stream",
     "text": [
      "\n",
      "batch:  50%|█████     | 1/2 [00:14<00:14, 14.58s/it]\u001b[A\n",
      "batch: 100%|██████████| 2/2 [00:31<00:00, 15.56s/it]\u001b[A\n",
      "\n",
      "batch:   0%|          | 0/2 [00:00<?, ?it/s]\u001b[A\n",
      "batch:  50%|█████     | 1/2 [00:04<00:04,  4.73s/it]\u001b[A\n",
      "batch: 100%|██████████| 2/2 [00:07<00:00,  3.74s/it]\u001b[A\n",
      "\n",
      "batch:   0%|          | 0/2 [00:00<?, ?it/s]\u001b[A\n",
      "batch:  50%|█████     | 1/2 [00:04<00:04,  4.52s/it]\u001b[A\n",
      "batch: 100%|██████████| 2/2 [00:09<00:00,  4.53s/it]\u001b[A\n",
      "\n",
      "batch:   0%|          | 0/2 [00:00<?, ?it/s]\u001b[A\n",
      "batch:  50%|█████     | 1/2 [00:03<00:03,  3.69s/it]\u001b[A\n",
      "batch: 100%|██████████| 2/2 [00:09<00:00,  4.67s/it]\u001b[A\n",
      "\n",
      "batch:   0%|          | 0/2 [00:00<?, ?it/s]\u001b[A\n",
      "batch:  50%|█████     | 1/2 [00:27<00:27, 27.44s/it]\u001b[A\n",
      "batch: 100%|██████████| 2/2 [00:44<00:00, 22.45s/it]\u001b[A\n",
      "\n",
      "batch:   0%|          | 0/2 [00:00<?, ?it/s]\u001b[A"
     ]
    }
   ],
   "source": [
    "# main training loop -- debug here if breakpoints were inserted\n",
    "model.run_train(splits, optimizer=optimizer, start_epoch=start_epoch)"
   ]
  },
  {
   "cell_type": "code",
   "execution_count": null,
   "metadata": {},
   "outputs": [],
   "source": [
    "torch.sum(state_t[0])\n",
    "\n",
    "torch.sum(state_t[1])\n",
    "\n",
    "enc_act[:,t-1,:]\n",
    "enc_act[:,t+1,:]\n",
    "enc_act[:,t,:]"
   ]
  },
  {
   "cell_type": "code",
   "execution_count": null,
   "metadata": {},
   "outputs": [],
   "source": []
  },
  {
   "cell_type": "code",
   "execution_count": null,
   "metadata": {},
   "outputs": [],
   "source": []
  },
  {
   "cell_type": "code",
   "execution_count": null,
   "metadata": {},
   "outputs": [],
   "source": []
  },
  {
   "cell_type": "code",
   "execution_count": null,
   "metadata": {},
   "outputs": [],
   "source": [
    "feat['object_visibility'][subgoal_i][torch.arange(batch_size),action_low_seq_lengths,:]"
   ]
  },
  {
   "cell_type": "code",
   "execution_count": null,
   "metadata": {},
   "outputs": [],
   "source": [
    "feat['object_visibility'][subgoal_i][torch.arange(feat['action_low'][0].shape[0]),action_low_seq_lengths,:]"
   ]
  },
  {
   "cell_type": "code",
   "execution_count": null,
   "metadata": {},
   "outputs": [],
   "source": [
    "11, 17, 42"
   ]
  },
  {
   "cell_type": "code",
   "execution_count": null,
   "metadata": {},
   "outputs": [],
   "source": [
    "epoch_time                    110.233                                 \n",
    "compute_metrics_validation_sets87.779                                  \n",
    "forward_batch_train_with_iterate14.776                                  \n",
    "forward_batch_train           14.518                                  \n",
    "torch_save_train_sanity       3.805                                   \n",
    "torch_save_valid_unseen       2.162                                   \n",
    "make_debug_train              0.928                                   \n",
    "torch_save_last               0.341                                   \n",
    "torch_save_valid_seen         0.296                                   \n",
    "iterate_featurize             0.244                                   \n",
    "iterate_load_task_json        0.161                                   \n",
    "featurize_input_resnet_features0.115                                   \n",
    "featurize_tensorization_and_padding0.113                                   \n",
    "make_debug_valid_seen         0.099                                   \n",
    "featurize_torch_load_time     0.06                                    \n",
    "make_debug_valid_unseen       0.045                                   \n",
    "setup_time                    0.001                                   \n",
    "featurize_outputs             0.001                                   \n",
    "featurize_input_action_low    0.0                                     \n",
    "compute_metrics_train         0.0  "
   ]
  }
 ],
 "metadata": {
  "kernelspec": {
   "display_name": "Python 3",
   "language": "python",
   "name": "python3"
  },
  "language_info": {
   "codemirror_mode": {
    "name": "ipython",
    "version": 3
   },
   "file_extension": ".py",
   "mimetype": "text/x-python",
   "name": "python",
   "nbconvert_exporter": "python",
   "pygments_lexer": "ipython3",
   "version": "3.6.9"
  }
 },
 "nbformat": 4,
 "nbformat_minor": 2
}
