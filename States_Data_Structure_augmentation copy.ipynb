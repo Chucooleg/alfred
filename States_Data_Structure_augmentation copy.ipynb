{
 "cells": [
  {
   "cell_type": "code",
   "execution_count": 1,
   "metadata": {},
   "outputs": [],
   "source": [
    "import json\n",
    "from collections import defaultdict\n",
    "import torch\n",
    "from vocab import Vocab\n",
    "import os\n",
    "import progressbar\n",
    "from argparse import ArgumentDefaultsHelpFormatter, ArgumentParser\n",
    "from collections import Counter"
   ]
  },
  {
   "cell_type": "raw",
   "metadata": {},
   "source": [
    "# to run just a single example\n",
    "states_path = '/root/data_alfred/json_feat_2.1.0/pick_and_place_simple-TennisRacket-None-Bed-303/trial_T20190906_193617_277654/pp/metadata_states.json'\n",
    "\n",
    "with open(states_path, 'r') as f:\n",
    "    saved_states = json.load(f)"
   ]
  },
  {
   "cell_type": "markdown",
   "metadata": {},
   "source": [
    "## Setup"
   ]
  },
  {
   "cell_type": "code",
   "execution_count": 2,
   "metadata": {},
   "outputs": [],
   "source": [
    "object_state_types = ['isToggled', 'isBroken', 'isFilledWithLiquid', 'isDirty',\n",
    "                      'isUsedUp', 'isCooked', 'ObjectTemperature', 'isSliced',\n",
    "                      'isOpen', 'isPickedUp', 'mass', 'parentReceptacles']\n",
    "receptacle_key = 'receptacleObjectIds'"
   ]
  },
  {
   "cell_type": "raw",
   "metadata": {},
   "source": [
    "object_vocab = dict()\n",
    "object_vocab['object_type'] = Vocab(['<<pad>>'])"
   ]
  },
  {
   "cell_type": "raw",
   "metadata": {},
   "source": [
    "object_vocab = torch.load('/root/data_alfred/json_feat_2.1.0/objects_20200522.vocab')\n",
    "object_vocab"
   ]
  },
  {
   "cell_type": "markdown",
   "metadata": {},
   "source": [
    "## Transformations"
   ]
  },
  {
   "cell_type": "code",
   "execution_count": 3,
   "metadata": {},
   "outputs": [],
   "source": [
    "def detect_type_state_change(instance_state_change, object_instance_list_sorted, object_type_list_sorted):\n",
    "    state_change = []\n",
    "    \n",
    "    curr_typ = object_instance_list_sorted[0].split('|')[0]\n",
    "    changes = []\n",
    "    for i, instance_name in enumerate(object_instance_list_sorted):\n",
    "        instance_typ = instance_name.split('|')[0]\n",
    "        if instance_typ != curr_typ:\n",
    "            state_change.append(True in changes)\n",
    "            changes = []\n",
    "            curr_typ = instance_typ\n",
    "        changes.append(instance_state_change[i])\n",
    "            \n",
    "    # don't forget about last typ!\n",
    "    state_change.append(int(True in changes))\n",
    "    assert len(state_change) == len(object_type_list_sorted)\n",
    "    return state_change\n",
    "\n",
    "def detect_type_visibility(instance_visible, object_instance_list_sorted, object_type_list_sorted):\n",
    "    type_visible = []\n",
    "    \n",
    "    curr_typ = object_instance_list_sorted[0].split('|')[0]\n",
    "    visible = []\n",
    "    for i, instance_name in enumerate(object_instance_list_sorted):\n",
    "        instance_typ = instance_name.split('|')[0]\n",
    "        if instance_typ != curr_typ:\n",
    "            type_visible.append(True in visible)\n",
    "            visible = []\n",
    "            curr_typ = instance_typ\n",
    "        visible.append(instance_visible[i])\n",
    "            \n",
    "    # don't forget about last typ!\n",
    "    type_visible.append(int(True in visible))\n",
    "    assert len(type_visible) == len(object_type_list_sorted)\n",
    "    return type_visible"
   ]
  },
  {
   "cell_type": "code",
   "execution_count": 4,
   "metadata": {},
   "outputs": [],
   "source": [
    "def shift_states(saved_states):\n",
    "    # shift all the states to the last time step\n",
    "    shifted_states = [{} for _ in range(len(saved_states))]\n",
    "\n",
    "    for t, state in enumerate(saved_states):\n",
    "        new_state = {k:v for k,v in state.items() if k != 'objects_metadata'}\n",
    "        if t < len(saved_states) - 1:\n",
    "            new_state['objects_metadata'] = saved_states[t+1]['objects_metadata']\n",
    "        elif t == len(saved_states) - 1: # <<stop>> action\n",
    "            new_state['objects_metadata'] = saved_states[t]['objects_metadata']\n",
    "        shifted_states[t] = new_state\n",
    "        \n",
    "    return shifted_states"
   ]
  },
  {
   "cell_type": "code",
   "execution_count": 5,
   "metadata": {},
   "outputs": [],
   "source": [
    "def get_receptacle_list(state, object_instance_list_sorted):\n",
    "    '''make receptacleId list in the same order as object Id List'''\n",
    "    # positions corresponds to end of task\n",
    "    receptacleId_lookup = defaultdict(lambda: 'None')\n",
    "    for o in state['objects_metadata']:\n",
    "        if o['parentReceptacles']:\n",
    "            receptacleId_lookup[o['objectId'].lower()] = o['parentReceptacles'][0].lower()\n",
    "        else:\n",
    "            receptacleId_lookup[o['objectId'].lower()] = 'none'\n",
    "\n",
    "    receptacleId_list = []\n",
    "    receptacleType_list = []    \n",
    "    for i, instance_name in enumerate(object_instance_list_sorted):\n",
    "        receptacleId = receptacleId_lookup[instance_name]\n",
    "        receptacleId_list.append(receptacleId)\n",
    "        receptacleType_list.append(receptacleId.split('|')[0])\n",
    "    \n",
    "    assert len(receptacleId_list) == len(object_instance_list_sorted)\n",
    "    return receptacleId_list, receptacleType_list"
   ]
  },
  {
   "cell_type": "code",
   "execution_count": 6,
   "metadata": {},
   "outputs": [],
   "source": [
    "def get_object_states(obj, required_state_types):\n",
    "    o_states = {}\n",
    "    for state_typ in required_state_types:\n",
    "        if state_typ in obj.keys():\n",
    "            o_states[state_typ] = obj[state_typ]\n",
    "        else:\n",
    "            o_states[state_typ] = None\n",
    "    return o_states\n",
    "\n",
    "def detect_state_change(last_obj_states, curr_obj_states, objectId_list):\n",
    "    state_change = []\n",
    "    for obj_Id in objectId_list:\n",
    "        if (not obj_Id in last_obj_states) and (not obj_Id in curr_obj_states):\n",
    "            state_change.append(False)\n",
    "        elif not obj_Id in last_obj_states:\n",
    "            state_change.append(True)\n",
    "        elif not obj_Id in curr_obj_states:\n",
    "            raise Exception('Objects should always appear in next time step.')\n",
    "        else:\n",
    "            if last_obj_states[obj_Id] == curr_obj_states[obj_Id]:\n",
    "                state_change.append(False)\n",
    "            else:\n",
    "                state_change.append(True)\n",
    "    assert len(state_change) == len(objectId_list)\n",
    "    return state_change\n",
    "\n",
    "def detect_receptacle_change(last_obj_receptacles, curr_obj_receptacles, objectId_list):\n",
    "    receptacle_change = []\n",
    "    for obj_Id in objectId_list:\n",
    "        # TODO\n",
    "        if (not obj_Id in last_obj_receptacles) and (not obj_Id in curr_obj_receptacles):\n",
    "            receptacle_change.append(False)\n",
    "        elif not obj_Id in last_obj_receptacles:\n",
    "            receptacle_change.append(True)\n",
    "        elif not obj_Id in curr_obj_receptacles:\n",
    "            raise Exception('Objects should always appear in next time step.')\n",
    "        else:\n",
    "            if last_obj_receptacles[obj_Id] == curr_obj_receptacles[obj_Id]:\n",
    "                receptacle_change.append(False)\n",
    "            else:\n",
    "                receptacle_change.append(True)\n",
    "    assert len(receptacle_change) == len(objectId_list)\n",
    "    return receptacle_change"
   ]
  },
  {
   "cell_type": "code",
   "execution_count": 7,
   "metadata": {},
   "outputs": [],
   "source": [
    "def get_obj_distance(state, object_instance_list_sorted):\n",
    "    dist_lookup = defaultdict(lambda: 1e6)\n",
    "    for o in state['objects_metadata']:\n",
    "        dist_lookup[o['objectId'].lower()] = o['distance']\n",
    "    dist_list = []\n",
    "    for i, instance_name in enumerate(object_instance_list_sorted):\n",
    "        dist_list.append(dist_lookup[instance_name])\n",
    "    return dist_list"
   ]
  },
  {
   "cell_type": "code",
   "execution_count": 8,
   "metadata": {
    "scrolled": true
   },
   "outputs": [],
   "source": [
    "def extract_states_for_model(shifted_states, saved_states, root):\n",
    "\n",
    "    objectId_list = sorted([o['objectId'].lower() for o in shifted_states[-1]['objects_metadata']])\n",
    "    objectTyp_list = sorted(set([o.split('|')[0].lower() for o in objectId_list]))\n",
    "    num_subgoals = len(set([s['subgoal_step'] for s in shifted_states]))\n",
    "\n",
    "    try:\n",
    "        feat = {\n",
    "            'subgoal': [[] for _ in range(num_subgoals)],\n",
    "#             'subgoal_i': [[] for _ in range(num_subgoals)],\n",
    "#             'subgoal_t': [[] for _ in range(num_subgoals)],\n",
    "#             'overall_t': [[] for _ in range(num_subgoals)],\n",
    "\n",
    "            'objectInstanceList': objectId_list,\n",
    "            'objectInstanceList_TypeNum': object_vocab['object_type'].word2index([o.split('|')[0] for o in objectId_list], train=True),\n",
    "            'objectReceptacleList': [[] for _ in range(num_subgoals)], # [subgoal_i][subgoal timestep] = [receptacle Id for ob in objectId_list]\n",
    "            'objectReceptacleList_TypeNum': [[] for _ in range(num_subgoals)],\n",
    "            'instance_visibile': [[] for _ in range(num_subgoals)], # [subgoal_i][subgoal timestep] = [T/F for ob in objectId_list]\n",
    "            'instance_state_change': [[] for _ in range(num_subgoals)],\n",
    "            'instance_state_change_since_last_subgoal': [[] for _ in range(num_subgoals)],\n",
    "            'instance_distance': [[] for _ in range(num_subgoals)],\n",
    "            'instance_receptacle_change': [[] for _ in range(num_subgoals)],\n",
    "            'instance_receptacle_change_since_last_subgoal': [[] for _ in range(num_subgoals)],\n",
    "            'objectTypeList': objectTyp_list,\n",
    "            'objectTypeList_TypeNum': object_vocab['object_type'].word2index(objectTyp_list, train=True),\n",
    "            'type_visibile': [[] for _ in range(num_subgoals)], # [subgoal_i][subgoal timestep] = [T/F for ob in objectTyp_list]\n",
    "            'type_state_change': [[] for _ in range(num_subgoals)],\n",
    "            'type_state_change_since_last_subgoal': [[] for _ in range(num_subgoals)],\n",
    "        }\n",
    "    except:\n",
    "        import pdb; pdb.set_trace()\n",
    "\n",
    "    last_obj_states = {obj['objectId'].lower():get_object_states(obj, object_state_types) for obj in saved_states[0]['objects_metadata']}\n",
    "    last_subgoal_obj_states = None\n",
    "    \n",
    "    last_obj_receptacles = {obj['objectId'].lower():obj['parentReceptacles'] for obj in saved_states[0]['objects_metadata']}\n",
    "    last_subgoal_obj_receptacles = None\n",
    "    \n",
    "    for t, state in enumerate(shifted_states):\n",
    "\n",
    "        subgoal_i = state['subgoal_step']\n",
    "        subgoal = state['subgoal']\n",
    "\n",
    "        if state['new_subgoal']:\n",
    "            subgoal_t = 0\n",
    "            last_subgoal_obj_states = last_obj_states\n",
    "            last_subgoal_obj_receptacles = last_obj_receptacles\n",
    "\n",
    "        feat['subgoal'][subgoal_i].append(subgoal)\n",
    "#         feat['subgoal_i'][subgoal_i].append(subgoal_i)\n",
    "#         feat['subgoal_t'][subgoal_i].append(subgoal_t)\n",
    "#         feat['overall_t'][subgoal_i].append(t)\n",
    "\n",
    "        # get receptacles identity\n",
    "        receptacle_list, receptacle_type_list = get_receptacle_list(state, objectId_list)\n",
    "        receptacle_type_num = object_vocab['object_type'].word2index(receptacle_type_list, train=True)\n",
    "        feat['objectReceptacleList'][subgoal_i].append(receptacle_list)\n",
    "        feat['objectReceptacleList_TypeNum'][subgoal_i].append(receptacle_type_num)\n",
    "        \n",
    "        # get state change\n",
    "        curr_obj_states = {obj['objectId'].lower():get_object_states(obj, object_state_types) for obj in state['objects_metadata']}\n",
    "        \n",
    "        # list same order as objectId_list\n",
    "        state_change = detect_state_change(last_obj_states, curr_obj_states, objectId_list)\n",
    "        state_change_since_last_subgoal = detect_state_change(last_subgoal_obj_states, curr_obj_states, objectId_list)\n",
    "        last_obj_states = curr_obj_states\n",
    "        \n",
    "        feat['instance_state_change'][subgoal_i].append(state_change)\n",
    "        feat['instance_state_change_since_last_subgoal'][subgoal_i].append(state_change_since_last_subgoal)\n",
    "    \n",
    "        # get instance distance\n",
    "        obj_dist = get_obj_distance(state, objectId_list)\n",
    "        \n",
    "        feat['instance_distance'][subgoal_i].append(obj_dist)\n",
    "        \n",
    "        # get receptacles state\n",
    "        curr_obj_receptacles = {obj['objectId'].lower():obj['parentReceptacles'] for obj in state['objects_metadata']}\n",
    "        \n",
    "        # get receptacle change\n",
    "        receptacle_change = detect_receptacle_change(last_obj_receptacles, curr_obj_receptacles, objectId_list)\n",
    "        receptacle_change_since_last_subgoal = detect_receptacle_change(last_subgoal_obj_receptacles, curr_obj_receptacles, objectId_list)\n",
    "        last_obj_receptacles = curr_obj_receptacles\n",
    "        \n",
    "        feat['instance_receptacle_change'][subgoal_i].append(receptacle_change)\n",
    "        feat['instance_receptacle_change_since_last_subgoal'][subgoal_i].append(receptacle_change_since_last_subgoal)\n",
    "    \n",
    "        # get visibility\n",
    "        visible = [False for _ in objectId_list]\n",
    "        for ob in state['objects_metadata']:\n",
    "            pos = objectId_list.index(ob['objectId'].lower())\n",
    "            visible[pos] = ob['visible']\n",
    "        feat['instance_visibile'][subgoal_i].append(visible)\n",
    "        \n",
    "        # get type state change\n",
    "        type_state_change = detect_type_state_change(state_change, objectId_list, objectTyp_list)\n",
    "        feat['type_state_change'][subgoal_i].append(type_state_change)\n",
    "        type_state_change_since_last_subgoal = detect_type_state_change(state_change_since_last_subgoal, objectId_list, objectTyp_list)\n",
    "        feat['type_state_change_since_last_subgoal'][subgoal_i].append(type_state_change_since_last_subgoal)\n",
    "\n",
    "        # get type visibility\n",
    "        type_visible = detect_type_visibility(visible, objectId_list, objectTyp_list)\n",
    "        feat['type_visibile'][subgoal_i].append(type_visible)\n",
    "\n",
    "        subgoal_t += 1\n",
    "        \n",
    "    return feat"
   ]
  },
  {
   "cell_type": "code",
   "execution_count": 9,
   "metadata": {},
   "outputs": [],
   "source": [
    "subgoal_count_specific_features = [\n",
    "    'objectReceptacleList',\n",
    "    'objectReceptacleList_TypeNum',\n",
    "    'instance_visibile',\n",
    "    'instance_state_change',\n",
    "    'instance_state_change_since_last_subgoal',\n",
    "    'instance_distance',\n",
    "    'instance_receptacle_change',\n",
    "    'instance_receptacle_change_since_last_subgoal',\n",
    "    'type_visibile',\n",
    "    'type_state_change',\n",
    "    'type_state_change_since_last_subgoal'\n",
    "]\n",
    "\n",
    "def check_and_correct_alignments(extracted_features, traj_data):\n",
    "    subgoal_len_features = [(i,len(subgoal)) for i, subgoal in enumerate(extracted_features['instance_visibile'])]\n",
    "    counter_items = list(Counter([low_a['high_idx'] for low_a in traj_data['plan']['low_actions']]).items())\n",
    "\n",
    "    if counter_items == subgoal_len_features[:-1]:\n",
    "        corrected = False\n",
    "    else:\n",
    "        # last subgoal has one more timestep\n",
    "        assert subgoal_len_features[-1][1] == counter_items[-1][1] + 1, \\\n",
    "            'Alignment error.' # lumped the last two subgoals together\n",
    "            \n",
    "        apply_alignment_correction(extracted_features, subgoal_count_specific_features)\n",
    "        \n",
    "        subgoal_len_features2 = [\n",
    "            (i,len(subgoal)) for i, subgoal in enumerate(extracted_features['instance_visibile'])\n",
    "        ]\n",
    "\n",
    "        assert counter_items == subgoal_len_features2[:-1]\n",
    "\n",
    "        corrected = True       \n",
    "            \n",
    "    return corrected\n",
    "\n",
    "\n",
    "def apply_alignment_correction(extracted_feat, subgoal_count_specific_features):\n",
    "    for feat in subgoal_count_specific_features:\n",
    "        extracted_feat[feat] = split_last_subgoal(extracted_feat[feat])\n",
    "    \n",
    "    \n",
    "def split_last_subgoal(feature):\n",
    "    '''feature: feature[subgoal_i][subgoal timestep] = [val1, val2, ...] '''\n",
    "    aligned_feature = feature[:-1] + [feature[-1][:-1]] + [[feature[-1][-1]]]\n",
    "    return aligned_feature"
   ]
  },
  {
   "cell_type": "markdown",
   "metadata": {},
   "source": [
    "## Args"
   ]
  },
  {
   "cell_type": "code",
   "execution_count": 10,
   "metadata": {},
   "outputs": [],
   "source": [
    "parser = ArgumentParser(formatter_class=ArgumentDefaultsHelpFormatter)\n",
    "args = parser.parse_args('')\n",
    "\n",
    "# settings\n",
    "args.data_root = '/root/data_alfred/'\n",
    "args.data = '/root/data_alfred/unlabeled_12k_20201206/seen/'\n",
    "# args.splits = '/root/data_alfred/splits/debug_20201210.json'\n",
    "args.splits = '/root/data_alfred/splits/unlabeled_12k_20201206.json'"
   ]
  },
  {
   "cell_type": "code",
   "execution_count": 11,
   "metadata": {},
   "outputs": [
    {
     "data": {
      "text/plain": [
       "{'object_type': Vocab(111)}"
      ]
     },
     "execution_count": 11,
     "metadata": {},
     "output_type": "execute_result"
    }
   ],
   "source": [
    "object_vocab = torch.load(os.path.join(args.data, 'objects_20200522.object_vocab'))\n",
    "object_vocab"
   ]
  },
  {
   "cell_type": "markdown",
   "metadata": {},
   "source": [
    "## AUGMENTATION SPLIT"
   ]
  },
  {
   "cell_type": "code",
   "execution_count": 12,
   "metadata": {
    "scrolled": true
   },
   "outputs": [
    {
     "name": "stdout",
     "output_type": "stream",
     "text": [
      "success paths =  11947\n",
      "failed paths =  104\n"
     ]
    }
   ],
   "source": [
    "with open(args.splits, 'r') as f:\n",
    "    success_outpaths = json.load(f)['augmentation']\n",
    "    \n",
    "len(success_outpaths)\n",
    "\n",
    "with open(args.splits.replace('.json', '_failed.json'), 'r') as f:\n",
    "    failed_roots = json.load(f)['augmentation']\n",
    "    \n",
    "print('success paths = ', len(success_outpaths))\n",
    "print('failed paths = ', len(failed_roots))"
   ]
  },
  {
   "cell_type": "code",
   "execution_count": 13,
   "metadata": {
    "scrolled": true
   },
   "outputs": [
    {
     "data": {
      "text/plain": [
       "{'task': 'pick_and_place_simple-CellPhone-None-Sofa-224/trial_T20190912_062415_255725',\n",
       " 'repeat_idx': 0,\n",
       " 'full_traj_success': True,\n",
       " 'collected_subgoals': 5}"
      ]
     },
     "execution_count": 13,
     "metadata": {},
     "output_type": "execute_result"
    }
   ],
   "source": [
    "success_outpaths[0]"
   ]
  },
  {
   "cell_type": "code",
   "execution_count": 14,
   "metadata": {
    "scrolled": true
   },
   "outputs": [
    {
     "name": "stderr",
     "output_type": "stream",
     "text": [
      "100% (11947 of 11947) |##################| Elapsed Time: 0:41:02 Time:  0:41:02\n"
     ]
    },
    {
     "name": "stdout",
     "output_type": "stream",
     "text": [
      "11947\n"
     ]
    }
   ],
   "source": [
    "extract_feat_dum = []\n",
    "extract_feat_outpaths = []\n",
    "corrected = 0\n",
    "\n",
    "for task in progressbar.progressbar(success_outpaths):\n",
    "    \n",
    "    # load metadata\n",
    "    metadata_outpath = os.path.join(args.data, task['task'], 'metadata_states.json')\n",
    "    with open(metadata_outpath, 'r') as f:\n",
    "        saved_states = json.load(f)\n",
    "    \n",
    "    # load traj data\n",
    "    pp_folder = 'pp_model_seq2seq_per_subgoal,name_v2_epoch_40_obj_instance_enc_max_pool_dec_aux_loss_weighted_bce_1to2'\n",
    "    traj_data_p = os.path.join(args.data, task['task'], pp_folder, f'ann_{task[\"repeat_idx\"]}.json')\n",
    "    with open(traj_data_p, 'r') as f:\n",
    "        traj_data = json.load(f)\n",
    "\n",
    "    # extract obj state features\n",
    "    root = os.path.join(args.data, task['task'])\n",
    "    shifted_states = shift_states(saved_states)\n",
    "    extract_feat = extract_states_for_model(shifted_states, saved_states, root)\n",
    "    extract_feat['metadata_path'] = metadata_outpath\n",
    "    extract_feat['root'] = root\n",
    "    \n",
    "    # check if extracted features align with traj data, apply correction\n",
    "    corrected += int(check_and_correct_alignments(extract_feat, traj_data))\n",
    "    \n",
    "    # save out\n",
    "    extract_feat_outpath = metadata_outpath.replace('/metadata_states.json', '/extracted_feature_states.json')\n",
    "    with open(extract_feat_outpath, 'w') as f:\n",
    "        json.dump(extract_feat ,f)\n",
    "    \n",
    "    # copy of all output paths\n",
    "    extract_feat_outpaths.append(extract_feat_outpath)\n",
    "    extract_feat_dum.append(extract_feat)\n",
    "    \n",
    "print(len(extract_feat_dum))"
   ]
  },
  {
   "cell_type": "code",
   "execution_count": 17,
   "metadata": {},
   "outputs": [
    {
     "data": {
      "text/plain": [
       "['/root/data_alfred/unlabeled_12k_20201206/seen/pick_and_place_simple-CellPhone-None-Sofa-224/trial_T20190912_062415_255725/extracted_feature_states.json',\n",
       " '/root/data_alfred/unlabeled_12k_20201206/seen/pick_heat_then_place_in_recep-Tomato-None-DiningTable-19/trial_T20190911_051611_152502/extracted_feature_states.json',\n",
       " '/root/data_alfred/unlabeled_12k_20201206/seen/pick_cool_then_place_in_recep-Tomato-None-Microwave-20/trial_T20190911_220048_789694/extracted_feature_states.json',\n",
       " '/root/data_alfred/unlabeled_12k_20201206/seen/pick_and_place_simple-CellPhone-None-Dresser-314/trial_T20190910_153622_489437/extracted_feature_states.json',\n",
       " '/root/data_alfred/unlabeled_12k_20201206/seen/pick_and_place_simple-CreditCard-None-SideTable-313/trial_T20190913_140646_900196/extracted_feature_states.json',\n",
       " '/root/data_alfred/unlabeled_12k_20201206/seen/pick_cool_then_place_in_recep-AppleSliced-None-SinkBasin-7/trial_T20190910_135634_526097/extracted_feature_states.json',\n",
       " '/root/data_alfred/unlabeled_12k_20201206/seen/pick_clean_then_place_in_recep-Knife-None-CounterTop-1/trial_T20190910_215336_708071/extracted_feature_states.json',\n",
       " '/root/data_alfred/unlabeled_12k_20201206/seen/pick_and_place_simple-Pencil-None-CoffeeTable-201/trial_T20190914_065521_488084/extracted_feature_states.json',\n",
       " '/root/data_alfred/unlabeled_12k_20201206/seen/pick_clean_then_place_in_recep-Ladle-None-Cabinet-4/trial_T20190910_231717_161345/extracted_feature_states.json',\n",
       " '/root/data_alfred/unlabeled_12k_20201206/seen/pick_two_obj_and_place-SoapBar-None-Toilet-423/trial_T20190912_095303_466439/extracted_feature_states.json']"
      ]
     },
     "execution_count": 17,
     "metadata": {},
     "output_type": "execute_result"
    }
   ],
   "source": [
    "extract_feat_outpaths[:10]"
   ]
  },
  {
   "cell_type": "code",
   "execution_count": 18,
   "metadata": {},
   "outputs": [],
   "source": [
    "date = '20201228'\n",
    "split_name = 'augmentation'\n",
    "with open('/root/data_alfred/splits/extract_feat_states_{}_{}_notebook_outpaths.json'.format(date, split_name), 'w') as f:\n",
    "    json.dump(extract_feat_outpaths, f)"
   ]
  },
  {
   "cell_type": "code",
   "execution_count": null,
   "metadata": {},
   "outputs": [],
   "source": []
  }
 ],
 "metadata": {
  "kernelspec": {
   "display_name": "Python 3",
   "language": "python",
   "name": "python3"
  },
  "language_info": {
   "codemirror_mode": {
    "name": "ipython",
    "version": 3
   },
   "file_extension": ".py",
   "mimetype": "text/x-python",
   "name": "python",
   "nbconvert_exporter": "python",
   "pygments_lexer": "ipython3",
   "version": "3.6.9"
  }
 },
 "nbformat": 4,
 "nbformat_minor": 4
}