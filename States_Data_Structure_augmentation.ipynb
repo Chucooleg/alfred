{
 "cells": [
  {
   "cell_type": "code",
   "execution_count": 31,
   "metadata": {},
   "outputs": [],
   "source": [
    "import json\n",
    "from collections import defaultdict\n",
    "import torch\n",
    "from vocab import Vocab\n",
    "import os\n",
    "from argparse import ArgumentDefaultsHelpFormatter, ArgumentParser"
   ]
  },
  {
   "cell_type": "raw",
   "metadata": {},
   "source": [
    "# to run just a single example\n",
    "states_path = '/root/data_alfred/json_feat_2.1.0/pick_and_place_simple-TennisRacket-None-Bed-303/trial_T20190906_193617_277654/pp/metadata_states.json'\n",
    "\n",
    "with open(states_path, 'r') as f:\n",
    "    saved_states = json.load(f)"
   ]
  },
  {
   "cell_type": "markdown",
   "metadata": {},
   "source": [
    "## Setup"
   ]
  },
  {
   "cell_type": "code",
   "execution_count": 2,
   "metadata": {},
   "outputs": [],
   "source": [
    "object_state_types = ['isToggled', 'isBroken', 'isFilledWithLiquid', 'isDirty',\n",
    "                      'isUsedUp', 'isCooked', 'ObjectTemperature', 'isSliced',\n",
    "                      'isOpen', 'isPickedUp', 'mass', 'parentReceptacles']\n",
    "receptacle_key = 'receptacleObjectIds'"
   ]
  },
  {
   "cell_type": "raw",
   "metadata": {},
   "source": [
    "object_vocab = dict()\n",
    "object_vocab['object_type'] = Vocab(['<<pad>>'])"
   ]
  },
  {
   "cell_type": "raw",
   "metadata": {},
   "source": [
    "object_vocab = torch.load('/root/data_alfred/json_feat_2.1.0/objects_20200522.vocab')\n",
    "object_vocab"
   ]
  },
  {
   "cell_type": "markdown",
   "metadata": {},
   "source": [
    "## Transformations"
   ]
  },
  {
   "cell_type": "code",
   "execution_count": 3,
   "metadata": {},
   "outputs": [],
   "source": [
    "def detect_type_state_change(instance_state_change, object_instance_list_sorted, object_type_list_sorted):\n",
    "    state_change = []\n",
    "    \n",
    "    curr_typ = object_instance_list_sorted[0].split('|')[0]\n",
    "    changes = []\n",
    "    for i, instance_name in enumerate(object_instance_list_sorted):\n",
    "        instance_typ = instance_name.split('|')[0]\n",
    "        if instance_typ != curr_typ:\n",
    "            state_change.append(True in changes)\n",
    "            changes = []\n",
    "            curr_typ = instance_typ\n",
    "        changes.append(instance_state_change[i])\n",
    "            \n",
    "    # don't forget about last typ!\n",
    "    state_change.append(int(True in changes))\n",
    "    assert len(state_change) == len(object_type_list_sorted)\n",
    "    return state_change\n",
    "\n",
    "def detect_type_visibility(instance_visible, object_instance_list_sorted, object_type_list_sorted):\n",
    "    type_visible = []\n",
    "    \n",
    "    curr_typ = object_instance_list_sorted[0].split('|')[0]\n",
    "    visible = []\n",
    "    for i, instance_name in enumerate(object_instance_list_sorted):\n",
    "        instance_typ = instance_name.split('|')[0]\n",
    "        if instance_typ != curr_typ:\n",
    "            type_visible.append(True in visible)\n",
    "            visible = []\n",
    "            curr_typ = instance_typ\n",
    "        visible.append(instance_visible[i])\n",
    "            \n",
    "    # don't forget about last typ!\n",
    "    type_visible.append(int(True in visible))\n",
    "    assert len(type_visible) == len(object_type_list_sorted)\n",
    "    return type_visible"
   ]
  },
  {
   "cell_type": "code",
   "execution_count": 4,
   "metadata": {},
   "outputs": [],
   "source": [
    "def shift_states(saved_states):\n",
    "    # shift all the states to the last time step\n",
    "    shifted_states = [{} for _ in range(len(saved_states))]\n",
    "\n",
    "    for t, state in enumerate(saved_states):\n",
    "        new_state = {k:v for k,v in state.items() if k != 'objects_metadata'}\n",
    "        if t < len(saved_states) - 1:\n",
    "            new_state['objects_metadata'] = saved_states[t+1]['objects_metadata']\n",
    "        elif t == len(saved_states) - 1: # <<stop>> action\n",
    "            new_state['objects_metadata'] = saved_states[t]['objects_metadata']\n",
    "        shifted_states[t] = new_state\n",
    "        \n",
    "    return shifted_states"
   ]
  },
  {
   "cell_type": "code",
   "execution_count": 5,
   "metadata": {},
   "outputs": [],
   "source": [
    "def get_receptacle_list(state, object_instance_list_sorted):\n",
    "    '''make receptacleId list in the same order as object Id List'''\n",
    "    # positions corresponds to end of task\n",
    "    receptacleId_lookup = defaultdict(lambda: 'None')\n",
    "    for o in state['objects_metadata']:\n",
    "        if o['parentReceptacles']:\n",
    "            receptacleId_lookup[o['objectId'].lower()] = o['parentReceptacles'][0].lower()\n",
    "        else:\n",
    "            receptacleId_lookup[o['objectId'].lower()] = 'none'\n",
    "\n",
    "    receptacleId_list = []\n",
    "    receptacleType_list = []    \n",
    "    for i, instance_name in enumerate(object_instance_list_sorted):\n",
    "        receptacleId = receptacleId_lookup[instance_name]\n",
    "        receptacleId_list.append(receptacleId)\n",
    "        receptacleType_list.append(receptacleId.split('|')[0])\n",
    "    \n",
    "    assert len(receptacleId_list) == len(object_instance_list_sorted)\n",
    "    return receptacleId_list, receptacleType_list"
   ]
  },
  {
   "cell_type": "code",
   "execution_count": 6,
   "metadata": {},
   "outputs": [],
   "source": [
    "def get_object_states(obj, required_state_types):\n",
    "    o_states = {}\n",
    "    for state_typ in required_state_types:\n",
    "        if state_typ in obj.keys():\n",
    "            o_states[state_typ] = obj[state_typ]\n",
    "        else:\n",
    "            o_states[state_typ] = None\n",
    "    return o_states\n",
    "\n",
    "def detect_state_change(last_obj_states, curr_obj_states, objectId_list):\n",
    "    state_change = []\n",
    "    for obj_Id in objectId_list:\n",
    "        if (not obj_Id in last_obj_states) and (not obj_Id in curr_obj_states):\n",
    "            state_change.append(False)\n",
    "        elif not obj_Id in last_obj_states:\n",
    "            state_change.append(True)\n",
    "        elif not obj_Id in curr_obj_states:\n",
    "            raise Exception('Objects should always appear in next time step.')\n",
    "        else:\n",
    "            if last_obj_states[obj_Id] == curr_obj_states[obj_Id]:\n",
    "                state_change.append(False)\n",
    "            else:\n",
    "                state_change.append(True)\n",
    "    assert len(state_change) == len(objectId_list)\n",
    "    return state_change\n",
    "\n",
    "def detect_receptacle_change(last_obj_receptacles, curr_obj_receptacles, objectId_list):\n",
    "    receptacle_change = []\n",
    "    for obj_Id in objectId_list:\n",
    "        # TODO\n",
    "        if (not obj_Id in last_obj_receptacles) and (not obj_Id in curr_obj_receptacles):\n",
    "            receptacle_change.append(False)\n",
    "        elif not obj_Id in last_obj_receptacles:\n",
    "            receptacle_change.append(True)\n",
    "        elif not obj_Id in curr_obj_receptacles:\n",
    "            raise Exception('Objects should always appear in next time step.')\n",
    "        else:\n",
    "            if last_obj_receptacles[obj_Id] == curr_obj_receptacles[obj_Id]:\n",
    "                receptacle_change.append(False)\n",
    "            else:\n",
    "                receptacle_change.append(True)\n",
    "    assert len(receptacle_change) == len(objectId_list)\n",
    "    return receptacle_change"
   ]
  },
  {
   "cell_type": "code",
   "execution_count": 7,
   "metadata": {},
   "outputs": [],
   "source": [
    "def get_obj_distance(state, object_instance_list_sorted):\n",
    "    dist_lookup = defaultdict(lambda: 1e6)\n",
    "    for o in state['objects_metadata']:\n",
    "        dist_lookup[o['objectId'].lower()] = o['distance']\n",
    "    dist_list = []\n",
    "    for i, instance_name in enumerate(object_instance_list_sorted):\n",
    "        dist_list.append(dist_lookup[instance_name])\n",
    "    return dist_list"
   ]
  },
  {
   "cell_type": "code",
   "execution_count": 8,
   "metadata": {
    "scrolled": true
   },
   "outputs": [],
   "source": [
    "def extract_states_for_model(shifted_states, saved_states, root):\n",
    "\n",
    "    objectId_list = sorted([o['objectId'].lower() for o in shifted_states[-1]['objects_metadata']])\n",
    "    objectTyp_list = sorted(set([o.split('|')[0].lower() for o in objectId_list]))\n",
    "    num_subgoals = len(set([s['subgoal_step'] for s in shifted_states]))\n",
    "\n",
    "    try:\n",
    "        feat = {\n",
    "            'subgoal': [[] for _ in range(num_subgoals)],\n",
    "#             'subgoal_i': [[] for _ in range(num_subgoals)],\n",
    "#             'subgoal_t': [[] for _ in range(num_subgoals)],\n",
    "#             'overall_t': [[] for _ in range(num_subgoals)],\n",
    "\n",
    "            'objectInstanceList': objectId_list,\n",
    "            'objectInstanceList_TypeNum': object_vocab['object_type'].word2index([o.split('|')[0] for o in objectId_list], train=True),\n",
    "            'objectReceptacleList': [[] for _ in range(num_subgoals)], # [subgoal_i][subgoal timestep] = [receptacle Id for ob in objectId_list]\n",
    "            'objectReceptacleList_TypeNum': [[] for _ in range(num_subgoals)],\n",
    "            'instance_visibile': [[] for _ in range(num_subgoals)], # [subgoal_i][subgoal timestep] = [T/F for ob in objectId_list]\n",
    "            'instance_state_change': [[] for _ in range(num_subgoals)],\n",
    "            'instance_state_change_since_last_subgoal': [[] for _ in range(num_subgoals)],\n",
    "            'instance_distance': [[] for _ in range(num_subgoals)],\n",
    "            'instance_receptacle_change': [[] for _ in range(num_subgoals)],\n",
    "            'instance_receptacle_change_since_last_subgoal': [[] for _ in range(num_subgoals)],\n",
    "            'objectTypeList': objectTyp_list,\n",
    "            'objectTypeList_TypeNum': object_vocab['object_type'].word2index(objectTyp_list, train=True),\n",
    "            'type_visibile': [[] for _ in range(num_subgoals)], # [subgoal_i][subgoal timestep] = [T/F for ob in objectTyp_list]\n",
    "            'type_state_change': [[] for _ in range(num_subgoals)],\n",
    "            'type_state_change_since_last_subgoal': [[] for _ in range(num_subgoals)],\n",
    "        }\n",
    "    except:\n",
    "        import pdb; pdb.set_trace()\n",
    "\n",
    "    last_obj_states = {obj['objectId'].lower():get_object_states(obj, object_state_types) for obj in saved_states[0]['objects_metadata']}\n",
    "    last_subgoal_obj_states = None\n",
    "    \n",
    "    last_obj_receptacles = {obj['objectId'].lower():obj['parentReceptacles'] for obj in saved_states[0]['objects_metadata']}\n",
    "    last_subgoal_obj_receptacles = None\n",
    "    \n",
    "    for t, state in enumerate(shifted_states):\n",
    "\n",
    "        subgoal_i = state['subgoal_step']\n",
    "        subgoal = state['subgoal']\n",
    "\n",
    "        if state['new_subgoal']:\n",
    "            subgoal_t = 0\n",
    "            last_subgoal_obj_states = last_obj_states\n",
    "            last_subgoal_obj_receptacles = last_obj_receptacles\n",
    "\n",
    "        feat['subgoal'][subgoal_i].append(subgoal)\n",
    "#         feat['subgoal_i'][subgoal_i].append(subgoal_i)\n",
    "#         feat['subgoal_t'][subgoal_i].append(subgoal_t)\n",
    "#         feat['overall_t'][subgoal_i].append(t)\n",
    "\n",
    "        # get receptacles identity\n",
    "        receptacle_list, receptacle_type_list = get_receptacle_list(state, objectId_list)\n",
    "        receptacle_type_num = object_vocab['object_type'].word2index(receptacle_type_list, train=True)\n",
    "        feat['objectReceptacleList'][subgoal_i].append(receptacle_list)\n",
    "        feat['objectReceptacleList_TypeNum'][subgoal_i].append(receptacle_type_num)\n",
    "        \n",
    "        # get state change\n",
    "        curr_obj_states = {obj['objectId'].lower():get_object_states(obj, object_state_types) for obj in state['objects_metadata']}\n",
    "        \n",
    "        # list same order as objectId_list\n",
    "        state_change = detect_state_change(last_obj_states, curr_obj_states, objectId_list)\n",
    "        state_change_since_last_subgoal = detect_state_change(last_subgoal_obj_states, curr_obj_states, objectId_list)\n",
    "        last_obj_states = curr_obj_states\n",
    "        \n",
    "        feat['instance_state_change'][subgoal_i].append(state_change)\n",
    "        feat['instance_state_change_since_last_subgoal'][subgoal_i].append(state_change_since_last_subgoal)\n",
    "    \n",
    "        # get instance distance\n",
    "        obj_dist = get_obj_distance(state, objectId_list)\n",
    "        \n",
    "        feat['instance_distance'][subgoal_i].append(obj_dist)\n",
    "        \n",
    "        # get receptacles state\n",
    "        curr_obj_receptacles = {obj['objectId'].lower():obj['parentReceptacles'] for obj in state['objects_metadata']}\n",
    "        \n",
    "        # get receptacle change\n",
    "        receptacle_change = detect_receptacle_change(last_obj_receptacles, curr_obj_receptacles, objectId_list)\n",
    "        receptacle_change_since_last_subgoal = detect_receptacle_change(last_subgoal_obj_receptacles, curr_obj_receptacles, objectId_list)\n",
    "        last_obj_receptacles = curr_obj_receptacles\n",
    "        \n",
    "        feat['instance_receptacle_change'][subgoal_i].append(receptacle_change)\n",
    "        feat['instance_receptacle_change_since_last_subgoal'][subgoal_i].append(receptacle_change_since_last_subgoal)\n",
    "    \n",
    "        # get visibility\n",
    "        visible = [False for _ in objectId_list]\n",
    "        for ob in state['objects_metadata']:\n",
    "            pos = objectId_list.index(ob['objectId'].lower())\n",
    "            visible[pos] = ob['visible']\n",
    "        feat['instance_visibile'][subgoal_i].append(visible)\n",
    "        \n",
    "        # get type state change\n",
    "        type_state_change = detect_type_state_change(state_change, objectId_list, objectTyp_list)\n",
    "        feat['type_state_change'][subgoal_i].append(type_state_change)\n",
    "        type_state_change_since_last_subgoal = detect_type_state_change(state_change_since_last_subgoal, objectId_list, objectTyp_list)\n",
    "        feat['type_state_change_since_last_subgoal'][subgoal_i].append(type_state_change_since_last_subgoal)\n",
    "\n",
    "        # get type visibility\n",
    "        type_visible = detect_type_visibility(visible, objectId_list, objectTyp_list)\n",
    "        feat['type_visibile'][subgoal_i].append(type_visible)\n",
    "\n",
    "        subgoal_t += 1\n",
    "        \n",
    "    return feat"
   ]
  },
  {
   "cell_type": "markdown",
   "metadata": {},
   "source": [
    "## Args"
   ]
  },
  {
   "cell_type": "code",
   "execution_count": 32,
   "metadata": {},
   "outputs": [],
   "source": [
    "parser = ArgumentParser(formatter_class=ArgumentDefaultsHelpFormatter)\n",
    "args = parser.parse_args('')\n",
    "\n",
    "# settings\n",
    "args.data_root = '/root/data_alfred/'\n",
    "args.data = '/root/data_alfred/unlabeled_12k_20201206/seen/'\n",
    "args.splits = '/root/data_alfred/splits/debug_20201210.json'"
   ]
  },
  {
   "cell_type": "code",
   "execution_count": 39,
   "metadata": {},
   "outputs": [
    {
     "data": {
      "text/plain": [
       "{'object_type': Vocab(111)}"
      ]
     },
     "execution_count": 39,
     "metadata": {},
     "output_type": "execute_result"
    }
   ],
   "source": [
    "object_vocab = torch.load(os.path.join(args.data, 'objects_20200522.object_vocab'))\n",
    "object_vocab"
   ]
  },
  {
   "cell_type": "markdown",
   "metadata": {},
   "source": [
    "## TRAIN"
   ]
  },
  {
   "cell_type": "code",
   "execution_count": 33,
   "metadata": {
    "scrolled": true
   },
   "outputs": [
    {
     "name": "stdout",
     "output_type": "stream",
     "text": [
      "success paths =  198\n",
      "failed paths =  2\n"
     ]
    }
   ],
   "source": [
    "with open(args.splits, 'r') as f:\n",
    "    success_outpaths = json.load(f)['augmentation']\n",
    "    \n",
    "len(success_outpaths)\n",
    "\n",
    "with open(args.splits.replace('.json', '_failed.json'), 'r') as f:\n",
    "    failed_roots = json.load(f)['augmentation']\n",
    "    \n",
    "print('success paths = ', len(success_outpaths))\n",
    "print('failed paths = ', len(failed_roots))"
   ]
  },
  {
   "cell_type": "code",
   "execution_count": 34,
   "metadata": {},
   "outputs": [
    {
     "data": {
      "text/plain": [
       "{'task': 'pick_cool_then_place_in_recep-Tomato-None-SinkBasin-21/trial_T20190910_135147_740373',\n",
       " 'repeat_idx': 0,\n",
       " 'full_traj_success': True,\n",
       " 'collected_subgoals': 6}"
      ]
     },
     "execution_count": 34,
     "metadata": {},
     "output_type": "execute_result"
    }
   ],
   "source": [
    "success_outpaths[0]"
   ]
  },
  {
   "cell_type": "code",
   "execution_count": 46,
   "metadata": {
    "scrolled": true
   },
   "outputs": [
    {
     "name": "stdout",
     "output_type": "stream",
     "text": [
      "198\n"
     ]
    }
   ],
   "source": [
    "extract_feat_dum = []\n",
    "extract_feat_outpaths = []\n",
    "\n",
    "for task in success_outpaths:\n",
    "    \n",
    "    metadata_outpath = os.path.join(args.data, task['task'], 'metadata_states.json')\n",
    "    with open(metadata_outpath, 'r') as f:\n",
    "        saved_states = json.load(f)\n",
    "    \n",
    "    root = os.path.join(args.data, task['task'])\n",
    "    \n",
    "    shifted_states = shift_states(saved_states)\n",
    "    extract_feat = extract_states_for_model(shifted_states, saved_states, root)\n",
    "    extract_feat['metadata_path'] = metadata_outpath\n",
    "    extract_feat['root'] = root\n",
    "    \n",
    "    extract_feat_outpath = metadata_outpath.replace('/metadata_states.json', '/extracted_feature_states.json')\n",
    "    with open(extract_feat_outpath, 'w') as f:\n",
    "        json.dump(extract_feat ,f)\n",
    "    \n",
    "    extract_feat_outpaths.append(extract_feat_outpath)\n",
    "    extract_feat_dum.append(extract_feat)\n",
    "    \n",
    "print(len(extract_feat_dum))"
   ]
  },
  {
   "cell_type": "code",
   "execution_count": 45,
   "metadata": {},
   "outputs": [
    {
     "data": {
      "text/plain": [
       "['/root/data_alfred/unlabeled_12k_20201206/seen/pick_cool_then_place_in_recep-Tomato-None-SinkBasin-21/trial_T20190910_135147_740373/extracted_feature_states.json',\n",
       " '/root/data_alfred/unlabeled_12k_20201206/seen/pick_heat_then_place_in_recep-Mug-None-SinkBasin-18/trial_T20190910_113852_697425/extracted_feature_states.json',\n",
       " '/root/data_alfred/unlabeled_12k_20201206/seen/pick_clean_then_place_in_recep-Spoon-None-CounterTop-11/trial_T20190913_132015_402664/extracted_feature_states.json',\n",
       " '/root/data_alfred/unlabeled_12k_20201206/seen/pick_and_place_with_movable_recep-CellPhone-Plate-Shelf-211/trial_T20190909_182029_502585/extracted_feature_states.json',\n",
       " '/root/data_alfred/unlabeled_12k_20201206/seen/pick_clean_then_place_in_recep-Lettuce-None-DiningTable-23/trial_T20190912_150010_333678/extracted_feature_states.json',\n",
       " '/root/data_alfred/unlabeled_12k_20201206/seen/pick_two_obj_and_place-RemoteControl-None-SideTable-220/trial_T20190911_203801_914153/extracted_feature_states.json',\n",
       " '/root/data_alfred/unlabeled_12k_20201206/seen/pick_and_place_with_movable_recep-DishSponge-Pan-DiningTable-27/trial_T20190911_214933_577704/extracted_feature_states.json',\n",
       " '/root/data_alfred/unlabeled_12k_20201206/seen/pick_two_obj_and_place-SoapBar-None-Cabinet-405/trial_T20190911_210418_202549/extracted_feature_states.json',\n",
       " '/root/data_alfred/unlabeled_12k_20201206/seen/pick_and_place_with_movable_recep-Ladle-Plate-CounterTop-16/trial_T20190912_005436_300378/extracted_feature_states.json',\n",
       " '/root/data_alfred/unlabeled_12k_20201206/seen/pick_and_place_simple-SoapBar-None-BathtubBasin-430/trial_T20190910_051912_041268/extracted_feature_states.json',\n",
       " '/root/data_alfred/unlabeled_12k_20201206/seen/pick_clean_then_place_in_recep-DishSponge-None-GarbageCan-12/trial_T20190912_165957_080447/extracted_feature_states.json',\n",
       " '/root/data_alfred/unlabeled_12k_20201206/seen/pick_and_place_simple-CellPhone-None-Shelf-204/trial_T20190911_213310_036356/extracted_feature_states.json',\n",
       " '/root/data_alfred/unlabeled_12k_20201206/seen/pick_and_place_simple-SoapBar-None-CounterTop-408/trial_T20190910_093718_503621/extracted_feature_states.json',\n",
       " '/root/data_alfred/unlabeled_12k_20201206/seen/pick_and_place_with_movable_recep-KeyChain-Box-Sofa-218/trial_T20190911_175614_690958/extracted_feature_states.json',\n",
       " '/root/data_alfred/unlabeled_12k_20201206/seen/pick_cool_then_place_in_recep-Potato-None-Microwave-21/trial_T20190910_150249_441191/extracted_feature_states.json',\n",
       " '/root/data_alfred/unlabeled_12k_20201206/seen/pick_clean_then_place_in_recep-LettuceSliced-None-Fridge-21/trial_T20190910_125554_956271/extracted_feature_states.json',\n",
       " '/root/data_alfred/unlabeled_12k_20201206/seen/pick_clean_then_place_in_recep-Tomato-None-GarbageCan-25/trial_T20190911_124628_565994/extracted_feature_states.json',\n",
       " '/root/data_alfred/unlabeled_12k_20201206/seen/pick_heat_then_place_in_recep-Mug-None-Cabinet-13/trial_T20190909_200851_657326/extracted_feature_states.json',\n",
       " '/root/data_alfred/unlabeled_12k_20201206/seen/pick_and_place_simple-CreditCard-None-Sofa-211/trial_T20190912_084058_350525/extracted_feature_states.json',\n",
       " '/root/data_alfred/unlabeled_12k_20201206/seen/pick_and_place_with_movable_recep-Egg-Bowl-Fridge-17/trial_T20190910_095514_075528/extracted_feature_states.json',\n",
       " '/root/data_alfred/unlabeled_12k_20201206/seen/pick_cool_then_place_in_recep-Plate-None-Cabinet-5/trial_T20190909_180526_775885/extracted_feature_states.json',\n",
       " '/root/data_alfred/unlabeled_12k_20201206/seen/pick_cool_then_place_in_recep-TomatoSliced-None-Microwave-15/trial_T20190911_193016_683694/extracted_feature_states.json',\n",
       " '/root/data_alfred/unlabeled_12k_20201206/seen/pick_and_place_simple-Statue-None-Dresser-224/trial_T20190912_060648_798981/extracted_feature_states.json',\n",
       " '/root/data_alfred/unlabeled_12k_20201206/seen/pick_two_obj_and_place-TissueBox-None-SideTable-230/trial_T20190910_085356_998824/extracted_feature_states.json',\n",
       " '/root/data_alfred/unlabeled_12k_20201206/seen/pick_and_place_simple-HandTowel-None-CounterTop-418/trial_T20190912_100731_712304/extracted_feature_states.json',\n",
       " '/root/data_alfred/unlabeled_12k_20201206/seen/pick_and_place_simple-CD-None-Dresser-314/trial_T20190911_124510_564318/extracted_feature_states.json',\n",
       " '/root/data_alfred/unlabeled_12k_20201206/seen/pick_heat_then_place_in_recep-TomatoSliced-None-DiningTable-7/trial_T20190912_181719_664730/extracted_feature_states.json',\n",
       " '/root/data_alfred/unlabeled_12k_20201206/seen/pick_heat_then_place_in_recep-Apple-None-SinkBasin-27/trial_T20190910_014538_380175/extracted_feature_states.json',\n",
       " '/root/data_alfred/unlabeled_12k_20201206/seen/pick_clean_then_place_in_recep-Spatula-None-DiningTable-27/trial_T20190911_153256_306404/extracted_feature_states.json',\n",
       " '/root/data_alfred/unlabeled_12k_20201206/seen/pick_clean_then_place_in_recep-ButterKnife-None-CounterTop-20/trial_T20190913_131446_689553/extracted_feature_states.json',\n",
       " '/root/data_alfred/unlabeled_12k_20201206/seen/pick_two_obj_and_place-Pencil-None-Shelf-312/trial_T20190911_100116_738500/extracted_feature_states.json',\n",
       " '/root/data_alfred/unlabeled_12k_20201206/seen/pick_heat_then_place_in_recep-Tomato-None-GarbageCan-18/trial_T20190910_012652_376098/extracted_feature_states.json',\n",
       " '/root/data_alfred/unlabeled_12k_20201206/seen/pick_two_obj_and_place-DishSponge-None-CounterTop-427/trial_T20190918_182245_690380/extracted_feature_states.json',\n",
       " '/root/data_alfred/unlabeled_12k_20201206/seen/pick_cool_then_place_in_recep-Tomato-None-GarbageCan-7/trial_T20190912_003703_319776/extracted_feature_states.json',\n",
       " '/root/data_alfred/unlabeled_12k_20201206/seen/pick_and_place_with_movable_recep-CreditCard-Box-Sofa-214/trial_T20190911_223640_923547/extracted_feature_states.json',\n",
       " '/root/data_alfred/unlabeled_12k_20201206/seen/pick_cool_then_place_in_recep-BreadSliced-None-GarbageCan-11/trial_T20190911_171950_229997/extracted_feature_states.json',\n",
       " '/root/data_alfred/unlabeled_12k_20201206/seen/pick_heat_then_place_in_recep-Cup-None-DiningTable-16/trial_T20190911_024237_657695/extracted_feature_states.json',\n",
       " '/root/data_alfred/unlabeled_12k_20201206/seen/pick_heat_then_place_in_recep-Mug-None-CounterTop-14/trial_T20190911_001553_287287/extracted_feature_states.json',\n",
       " '/root/data_alfred/unlabeled_12k_20201206/seen/pick_clean_then_place_in_recep-Egg-None-GarbageCan-8/trial_T20190911_185607_007169/extracted_feature_states.json',\n",
       " '/root/data_alfred/unlabeled_12k_20201206/seen/pick_two_obj_and_place-Pen-None-Drawer-328/trial_T20190914_004720_964199/extracted_feature_states.json',\n",
       " '/root/data_alfred/unlabeled_12k_20201206/seen/pick_two_obj_and_place-HandTowel-None-Toilet-423/trial_T20190910_074700_004748/extracted_feature_states.json',\n",
       " '/root/data_alfred/unlabeled_12k_20201206/seen/pick_and_place_with_movable_recep-CreditCard-Box-Sofa-230/trial_T20190910_143227_956092/extracted_feature_states.json',\n",
       " '/root/data_alfred/unlabeled_12k_20201206/seen/pick_two_obj_and_place-DishSponge-None-Drawer-430/trial_T20190911_220020_667272/extracted_feature_states.json',\n",
       " '/root/data_alfred/unlabeled_12k_20201206/seen/pick_and_place_simple-TissueBox-None-SideTable-203/trial_T20190912_062510_032911/extracted_feature_states.json',\n",
       " '/root/data_alfred/unlabeled_12k_20201206/seen/pick_clean_then_place_in_recep-LettuceSliced-None-Fridge-6/trial_T20190918_191726_944098/extracted_feature_states.json',\n",
       " '/root/data_alfred/unlabeled_12k_20201206/seen/pick_two_obj_and_place-Pencil-None-Drawer-310/trial_T20190912_140944_626038/extracted_feature_states.json',\n",
       " '/root/data_alfred/unlabeled_12k_20201206/seen/pick_clean_then_place_in_recep-Mug-None-CoffeeMachine-23/trial_T20190909_185559_591890/extracted_feature_states.json',\n",
       " '/root/data_alfred/unlabeled_12k_20201206/seen/pick_clean_then_place_in_recep-PotatoSliced-None-GarbageCan-27/trial_T20190918_153044_946925/extracted_feature_states.json',\n",
       " '/root/data_alfred/unlabeled_12k_20201206/seen/pick_two_obj_and_place-ToiletPaper-None-Drawer-415/trial_T20190913_025525_886058/extracted_feature_states.json',\n",
       " '/root/data_alfred/unlabeled_12k_20201206/seen/pick_and_place_with_movable_recep-Spoon-Plate-SinkBasin-17/trial_T20190919_053452_629134/extracted_feature_states.json',\n",
       " '/root/data_alfred/unlabeled_12k_20201206/seen/pick_heat_then_place_in_recep-Potato-None-GarbageCan-1/trial_T20190912_062546_827008/extracted_feature_states.json',\n",
       " '/root/data_alfred/unlabeled_12k_20201206/seen/pick_and_place_simple-CreditCard-None-Desk-313/trial_T20190909_214349_790781/extracted_feature_states.json',\n",
       " '/root/data_alfred/unlabeled_12k_20201206/seen/look_at_obj_in_light-Pen-None-DeskLamp-314/trial_T20190909_201330_619233/extracted_feature_states.json',\n",
       " '/root/data_alfred/unlabeled_12k_20201206/seen/pick_and_place_simple-RemoteControl-None-SideTable-222/trial_T20190910_030034_886797/extracted_feature_states.json',\n",
       " '/root/data_alfred/unlabeled_12k_20201206/seen/pick_clean_then_place_in_recep-PotatoSliced-None-CounterTop-16/trial_T20190918_172321_356821/extracted_feature_states.json',\n",
       " '/root/data_alfred/unlabeled_12k_20201206/seen/pick_and_place_with_movable_recep-AppleSliced-Pan-Fridge-16/trial_T20190912_030651_221260/extracted_feature_states.json',\n",
       " '/root/data_alfred/unlabeled_12k_20201206/seen/pick_two_obj_and_place-SoapBar-None-Toilet-408/trial_T20190911_024414_052839/extracted_feature_states.json',\n",
       " '/root/data_alfred/unlabeled_12k_20201206/seen/pick_clean_then_place_in_recep-LettuceSliced-None-Fridge-15/trial_T20190912_155920_874846/extracted_feature_states.json',\n",
       " '/root/data_alfred/unlabeled_12k_20201206/seen/pick_cool_then_place_in_recep-Bowl-None-SinkBasin-6/trial_T20190910_053643_276126/extracted_feature_states.json',\n",
       " '/root/data_alfred/unlabeled_12k_20201206/seen/pick_heat_then_place_in_recep-AppleSliced-None-GarbageCan-26/trial_T20190910_055853_441729/extracted_feature_states.json',\n",
       " '/root/data_alfred/unlabeled_12k_20201206/seen/pick_and_place_simple-HandTowel-None-GarbageCan-428/trial_T20190911_153903_120836/extracted_feature_states.json',\n",
       " '/root/data_alfred/unlabeled_12k_20201206/seen/pick_and_place_simple-AlarmClock-None-Shelf-305/trial_T20190912_115554_695339/extracted_feature_states.json',\n",
       " '/root/data_alfred/unlabeled_12k_20201206/seen/pick_and_place_simple-KeyChain-None-CoffeeTable-222/trial_T20190910_120319_708185/extracted_feature_states.json',\n",
       " '/root/data_alfred/unlabeled_12k_20201206/seen/pick_and_place_simple-KeyChain-None-Shelf-216/trial_T20190911_215506_572043/extracted_feature_states.json',\n",
       " '/root/data_alfred/unlabeled_12k_20201206/seen/pick_two_obj_and_place-KeyChain-None-Shelf-324/trial_T20190919_015047_872355/extracted_feature_states.json',\n",
       " '/root/data_alfred/unlabeled_12k_20201206/seen/pick_clean_then_place_in_recep-Apple-None-CounterTop-6/trial_T20190913_123535_854525/extracted_feature_states.json',\n",
       " '/root/data_alfred/unlabeled_12k_20201206/seen/pick_and_place_simple-Watch-None-Shelf-326/trial_T20190909_202432_303834/extracted_feature_states.json',\n",
       " '/root/data_alfred/unlabeled_12k_20201206/seen/pick_two_obj_and_place-CreditCard-None-Shelf-204/trial_T20190912_074210_154158/extracted_feature_states.json',\n",
       " '/root/data_alfred/unlabeled_12k_20201206/seen/pick_clean_then_place_in_recep-Bowl-None-Microwave-2/trial_T20190910_011551_819286/extracted_feature_states.json',\n",
       " '/root/data_alfred/unlabeled_12k_20201206/seen/pick_and_place_simple-RemoteControl-None-SideTable-222/trial_T20190910_030034_886797/extracted_feature_states.json',\n",
       " '/root/data_alfred/unlabeled_12k_20201206/seen/pick_and_place_simple-ToiletPaper-None-SideTable-420/trial_T20190910_091934_609680/extracted_feature_states.json',\n",
       " '/root/data_alfred/unlabeled_12k_20201206/seen/pick_clean_then_place_in_recep-PotatoSliced-None-CounterTop-4/trial_T20190912_082914_084956/extracted_feature_states.json',\n",
       " '/root/data_alfred/unlabeled_12k_20201206/seen/pick_clean_then_place_in_recep-LettuceSliced-None-GarbageCan-16/trial_T20190911_071605_171465/extracted_feature_states.json',\n",
       " '/root/data_alfred/unlabeled_12k_20201206/seen/pick_heat_then_place_in_recep-PotatoSliced-None-GarbageCan-1/trial_T20190914_012459_383291/extracted_feature_states.json',\n",
       " '/root/data_alfred/unlabeled_12k_20201206/seen/pick_heat_then_place_in_recep-Mug-None-CounterTop-17/trial_T20190918_142916_589350/extracted_feature_states.json',\n",
       " '/root/data_alfred/unlabeled_12k_20201206/seen/pick_heat_then_place_in_recep-Tomato-None-CounterTop-13/trial_T20190909_215823_879085/extracted_feature_states.json',\n",
       " '/root/data_alfred/unlabeled_12k_20201206/seen/pick_cool_then_place_in_recep-PotatoSliced-None-SinkBasin-23/trial_T20190918_155651_818840/extracted_feature_states.json',\n",
       " '/root/data_alfred/unlabeled_12k_20201206/seen/pick_two_obj_and_place-CD-None-SideTable-323/trial_T20190912_171326_576457/extracted_feature_states.json',\n",
       " '/root/data_alfred/unlabeled_12k_20201206/seen/pick_and_place_with_movable_recep-KeyChain-Box-CoffeeTable-230/trial_T20190911_001455_159736/extracted_feature_states.json',\n",
       " '/root/data_alfred/unlabeled_12k_20201206/seen/pick_and_place_simple-ToiletPaper-None-ToiletPaperHanger-405/trial_T20190910_030158_492824/extracted_feature_states.json',\n",
       " '/root/data_alfred/unlabeled_12k_20201206/seen/pick_and_place_with_movable_recep-TomatoSliced-Pan-SinkBasin-16/trial_T20190913_102927_285868/extracted_feature_states.json',\n",
       " '/root/data_alfred/unlabeled_12k_20201206/seen/pick_two_obj_and_place-Book-None-Ottoman-203/trial_T20190910_212541_036210/extracted_feature_states.json',\n",
       " '/root/data_alfred/unlabeled_12k_20201206/seen/pick_and_place_simple-SprayBottle-None-Cabinet-422/trial_T20190911_194809_993081/extracted_feature_states.json',\n",
       " '/root/data_alfred/unlabeled_12k_20201206/seen/pick_clean_then_place_in_recep-DishSponge-None-Cabinet-4/trial_T20190912_161452_890505/extracted_feature_states.json',\n",
       " '/root/data_alfred/unlabeled_12k_20201206/seen/pick_cool_then_place_in_recep-LettuceSliced-None-CounterTop-30/trial_T20190911_055535_820917/extracted_feature_states.json',\n",
       " '/root/data_alfred/unlabeled_12k_20201206/seen/pick_clean_then_place_in_recep-SoapBar-None-Shelf-415/trial_T20190910_080324_540014/extracted_feature_states.json',\n",
       " '/root/data_alfred/unlabeled_12k_20201206/seen/pick_two_obj_and_place-KeyChain-None-ArmChair-206/trial_T20190911_043129_439693/extracted_feature_states.json',\n",
       " '/root/data_alfred/unlabeled_12k_20201206/seen/pick_two_obj_and_place-SoapBar-None-Shelf-429/trial_T20190911_063944_451500/extracted_feature_states.json',\n",
       " '/root/data_alfred/unlabeled_12k_20201206/seen/pick_and_place_with_movable_recep-Pencil-Bowl-SideTable-326/trial_T20190910_102311_197157/extracted_feature_states.json',\n",
       " '/root/data_alfred/unlabeled_12k_20201206/seen/pick_and_place_with_movable_recep-Spatula-Pan-DiningTable-20/trial_T20190912_203103_244513/extracted_feature_states.json',\n",
       " '/root/data_alfred/unlabeled_12k_20201206/seen/pick_cool_then_place_in_recep-Tomato-None-SinkBasin-6/trial_T20190911_134502_358588/extracted_feature_states.json',\n",
       " '/root/data_alfred/unlabeled_12k_20201206/seen/pick_cool_then_place_in_recep-Tomato-None-SinkBasin-23/trial_T20190910_011517_021276/extracted_feature_states.json',\n",
       " '/root/data_alfred/unlabeled_12k_20201206/seen/pick_clean_then_place_in_recep-Tomato-None-Microwave-24/trial_T20190911_165010_056365/extracted_feature_states.json',\n",
       " '/root/data_alfred/unlabeled_12k_20201206/seen/pick_clean_then_place_in_recep-Plate-None-Fridge-25/trial_T20190911_180453_936367/extracted_feature_states.json',\n",
       " '/root/data_alfred/unlabeled_12k_20201206/seen/pick_cool_then_place_in_recep-Lettuce-None-SinkBasin-17/trial_T20190910_024416_844730/extracted_feature_states.json',\n",
       " '/root/data_alfred/unlabeled_12k_20201206/seen/pick_two_obj_and_place-KeyChain-None-Ottoman-203/trial_T20190911_150353_763518/extracted_feature_states.json',\n",
       " '/root/data_alfred/unlabeled_12k_20201206/seen/pick_and_place_simple-SoapBar-None-Cart-430/trial_T20190909_180600_314562/extracted_feature_states.json',\n",
       " '/root/data_alfred/unlabeled_12k_20201206/seen/pick_cool_then_place_in_recep-BreadSliced-None-CounterTop-15/trial_T20190911_205115_517449/extracted_feature_states.json',\n",
       " '/root/data_alfred/unlabeled_12k_20201206/seen/pick_cool_then_place_in_recep-Cup-None-Microwave-22/trial_T20190910_002228_190696/extracted_feature_states.json',\n",
       " '/root/data_alfred/unlabeled_12k_20201206/seen/pick_heat_then_place_in_recep-PotatoSliced-None-Fridge-26/trial_T20190910_121402_902796/extracted_feature_states.json',\n",
       " '/root/data_alfred/unlabeled_12k_20201206/seen/pick_clean_then_place_in_recep-Spoon-None-CounterTop-17/trial_T20190912_084936_154056/extracted_feature_states.json',\n",
       " '/root/data_alfred/unlabeled_12k_20201206/seen/pick_cool_then_place_in_recep-Pot-None-SinkBasin-4/trial_T20190909_235749_934394/extracted_feature_states.json',\n",
       " '/root/data_alfred/unlabeled_12k_20201206/seen/pick_and_place_simple-SoapBar-None-SinkBasin-426/trial_T20190914_040754_812368/extracted_feature_states.json',\n",
       " '/root/data_alfred/unlabeled_12k_20201206/seen/pick_and_place_simple-CreditCard-None-Dresser-323/trial_T20190911_140450_816720/extracted_feature_states.json',\n",
       " '/root/data_alfred/unlabeled_12k_20201206/seen/pick_and_place_with_movable_recep-Fork-Mug-SinkBasin-6/trial_T20190911_172519_700288/extracted_feature_states.json',\n",
       " '/root/data_alfred/unlabeled_12k_20201206/seen/pick_cool_then_place_in_recep-Potato-None-SinkBasin-2/trial_T20190911_145302_584046/extracted_feature_states.json',\n",
       " '/root/data_alfred/unlabeled_12k_20201206/seen/pick_heat_then_place_in_recep-Mug-None-DiningTable-24/trial_T20190913_090935_399385/extracted_feature_states.json',\n",
       " '/root/data_alfred/unlabeled_12k_20201206/seen/pick_clean_then_place_in_recep-Egg-None-Fridge-19/trial_T20190914_074458_151399/extracted_feature_states.json',\n",
       " '/root/data_alfred/unlabeled_12k_20201206/seen/pick_and_place_simple-Cloth-None-Toilet-413/trial_T20190911_051710_451103/extracted_feature_states.json',\n",
       " '/root/data_alfred/unlabeled_12k_20201206/seen/pick_and_place_simple-SoapBottle-None-GarbageCan-403/trial_T20190910_061139_686215/extracted_feature_states.json',\n",
       " '/root/data_alfred/unlabeled_12k_20201206/seen/pick_cool_then_place_in_recep-Tomato-None-CounterTop-13/trial_T20190911_055807_292630/extracted_feature_states.json',\n",
       " '/root/data_alfred/unlabeled_12k_20201206/seen/pick_heat_then_place_in_recep-Mug-None-DiningTable-27/trial_T20190911_010737_555056/extracted_feature_states.json',\n",
       " '/root/data_alfred/unlabeled_12k_20201206/seen/pick_two_obj_and_place-Kettle-None-CounterTop-5/trial_T20190911_151142_362531/extracted_feature_states.json',\n",
       " '/root/data_alfred/unlabeled_12k_20201206/seen/pick_two_obj_and_place-ToiletPaper-None-Cabinet-422/trial_T20190918_190802_589825/extracted_feature_states.json',\n",
       " '/root/data_alfred/unlabeled_12k_20201206/seen/pick_and_place_simple-SoapBar-None-SinkBasin-412/trial_T20190911_162637_153039/extracted_feature_states.json',\n",
       " '/root/data_alfred/unlabeled_12k_20201206/seen/pick_and_place_simple-Pen-None-SideTable-209/trial_T20190912_015113_839907/extracted_feature_states.json',\n",
       " '/root/data_alfred/unlabeled_12k_20201206/seen/pick_and_place_simple-CellPhone-None-ArmChair-203/trial_T20190910_150417_575456/extracted_feature_states.json',\n",
       " '/root/data_alfred/unlabeled_12k_20201206/seen/pick_clean_then_place_in_recep-AppleSliced-None-Microwave-14/trial_T20190912_104705_790253/extracted_feature_states.json',\n",
       " '/root/data_alfred/unlabeled_12k_20201206/seen/pick_clean_then_place_in_recep-SoapBar-None-GarbageCan-418/trial_T20190909_164714_661237/extracted_feature_states.json',\n",
       " '/root/data_alfred/unlabeled_12k_20201206/seen/pick_cool_then_place_in_recep-Bowl-None-Cabinet-1/trial_T20190910_075631_920118/extracted_feature_states.json',\n",
       " '/root/data_alfred/unlabeled_12k_20201206/seen/pick_and_place_simple-CD-None-SideTable-302/trial_T20190910_181133_461317/extracted_feature_states.json',\n",
       " '/root/data_alfred/unlabeled_12k_20201206/seen/pick_heat_then_place_in_recep-AppleSliced-None-SinkBasin-23/trial_T20190913_221719_111252/extracted_feature_states.json',\n",
       " '/root/data_alfred/unlabeled_12k_20201206/seen/pick_and_place_with_movable_recep-Spatula-Pan-DiningTable-11/trial_T20190911_011448_202821/extracted_feature_states.json',\n",
       " '/root/data_alfred/unlabeled_12k_20201206/seen/pick_and_place_simple-SoapBar-None-Drawer-420/trial_T20190910_052819_421884/extracted_feature_states.json',\n",
       " '/root/data_alfred/unlabeled_12k_20201206/seen/pick_clean_then_place_in_recep-DishSponge-None-Cabinet-12/trial_T20190911_015825_133118/extracted_feature_states.json',\n",
       " '/root/data_alfred/unlabeled_12k_20201206/seen/pick_two_obj_and_place-SprayBottle-None-SideTable-419/trial_T20190910_104444_206236/extracted_feature_states.json',\n",
       " '/root/data_alfred/unlabeled_12k_20201206/seen/pick_clean_then_place_in_recep-Bowl-None-Cabinet-23/trial_T20190911_023428_142103/extracted_feature_states.json',\n",
       " '/root/data_alfred/unlabeled_12k_20201206/seen/pick_and_place_simple-TissueBox-None-Shelf-212/trial_T20190912_062526_984652/extracted_feature_states.json',\n",
       " '/root/data_alfred/unlabeled_12k_20201206/seen/pick_and_place_simple-Book-None-Dresser-209/trial_T20190910_200656_502852/extracted_feature_states.json',\n",
       " '/root/data_alfred/unlabeled_12k_20201206/seen/pick_and_place_with_movable_recep-CreditCard-Bowl-Dresser-305/trial_T20190913_220756_445328/extracted_feature_states.json',\n",
       " '/root/data_alfred/unlabeled_12k_20201206/seen/pick_two_obj_and_place-Cloth-None-Drawer-317/trial_T20190912_074432_157310/extracted_feature_states.json',\n",
       " '/root/data_alfred/unlabeled_12k_20201206/seen/pick_and_place_simple-Book-None-CoffeeTable-202/trial_T20190910_142025_937076/extracted_feature_states.json',\n",
       " '/root/data_alfred/unlabeled_12k_20201206/seen/pick_cool_then_place_in_recep-Potato-None-Microwave-12/trial_T20190909_233235_652561/extracted_feature_states.json',\n",
       " '/root/data_alfred/unlabeled_12k_20201206/seen/pick_heat_then_place_in_recep-TomatoSliced-None-GarbageCan-12/trial_T20190910_230114_930772/extracted_feature_states.json',\n",
       " '/root/data_alfred/unlabeled_12k_20201206/seen/pick_two_obj_and_place-Cloth-None-SinkBasin-411/trial_T20190911_175803_780958/extracted_feature_states.json',\n",
       " '/root/data_alfred/unlabeled_12k_20201206/seen/pick_and_place_simple-RemoteControl-None-CoffeeTable-218/trial_T20190914_091119_154424/extracted_feature_states.json',\n",
       " '/root/data_alfred/unlabeled_12k_20201206/seen/pick_and_place_simple-HandTowel-None-Toilet-410/trial_T20190910_221648_750870/extracted_feature_states.json',\n",
       " '/root/data_alfred/unlabeled_12k_20201206/seen/pick_heat_then_place_in_recep-BreadSliced-None-GarbageCan-21/trial_T20190911_105532_063114/extracted_feature_states.json',\n",
       " '/root/data_alfred/unlabeled_12k_20201206/seen/pick_and_place_simple-Pen-None-Shelf-328/trial_T20190911_042513_019244/extracted_feature_states.json',\n",
       " '/root/data_alfred/unlabeled_12k_20201206/seen/pick_and_place_with_movable_recep-ButterKnife-Pan-CounterTop-14/trial_T20190918_190134_866959/extracted_feature_states.json',\n",
       " '/root/data_alfred/unlabeled_12k_20201206/seen/pick_and_place_simple-Mug-None-Desk-305/trial_T20190912_053338_493960/extracted_feature_states.json',\n",
       " '/root/data_alfred/unlabeled_12k_20201206/seen/pick_cool_then_place_in_recep-Plate-None-CounterTop-20/trial_T20190910_215151_568583/extracted_feature_states.json',\n",
       " '/root/data_alfred/unlabeled_12k_20201206/seen/pick_two_obj_and_place-ToiletPaper-None-CounterTop-412/trial_T20190909_222658_042627/extracted_feature_states.json',\n",
       " '/root/data_alfred/unlabeled_12k_20201206/seen/pick_cool_then_place_in_recep-Tomato-None-DiningTable-15/trial_T20190912_023232_910336/extracted_feature_states.json',\n",
       " '/root/data_alfred/unlabeled_12k_20201206/seen/pick_and_place_simple-AlarmClock-None-SideTable-303/trial_T20190912_132330_532701/extracted_feature_states.json',\n",
       " '/root/data_alfred/unlabeled_12k_20201206/seen/pick_cool_then_place_in_recep-Mug-None-SinkBasin-12/trial_T20190911_140815_794538/extracted_feature_states.json',\n",
       " '/root/data_alfred/unlabeled_12k_20201206/seen/pick_clean_then_place_in_recep-Fork-None-CounterTop-14/trial_T20190910_061703_764977/extracted_feature_states.json',\n",
       " '/root/data_alfred/unlabeled_12k_20201206/seen/pick_two_obj_and_place-KeyChain-None-Shelf-301/trial_T20190914_053851_056613/extracted_feature_states.json',\n",
       " '/root/data_alfred/unlabeled_12k_20201206/seen/pick_clean_then_place_in_recep-Plate-None-CounterTop-11/trial_T20190912_000748_443914/extracted_feature_states.json',\n",
       " '/root/data_alfred/unlabeled_12k_20201206/seen/pick_cool_then_place_in_recep-PotatoSliced-None-Microwave-1/trial_T20190911_064608_733442/extracted_feature_states.json',\n",
       " '/root/data_alfred/unlabeled_12k_20201206/seen/pick_two_obj_and_place-Candle-None-CounterTop-423/trial_T20190912_092726_354191/extracted_feature_states.json',\n",
       " '/root/data_alfred/unlabeled_12k_20201206/seen/pick_and_place_simple-Statue-None-DiningTable-204/trial_T20190911_005325_021490/extracted_feature_states.json',\n",
       " '/root/data_alfred/unlabeled_12k_20201206/seen/pick_clean_then_place_in_recep-Plate-None-CounterTop-16/trial_T20190914_062146_738298/extracted_feature_states.json',\n",
       " '/root/data_alfred/unlabeled_12k_20201206/seen/pick_clean_then_place_in_recep-Spatula-None-DiningTable-18/trial_T20190910_205942_622238/extracted_feature_states.json',\n",
       " '/root/data_alfred/unlabeled_12k_20201206/seen/pick_cool_then_place_in_recep-Cup-None-SinkBasin-13/trial_T20190912_022814_074142/extracted_feature_states.json',\n",
       " '/root/data_alfred/unlabeled_12k_20201206/seen/pick_two_obj_and_place-SoapBar-None-GarbageCan-407/trial_T20190911_224453_497489/extracted_feature_states.json',\n",
       " '/root/data_alfred/unlabeled_12k_20201206/seen/pick_two_obj_and_place-SoapBar-None-GarbageCan-429/trial_T20190911_060446_683282/extracted_feature_states.json',\n",
       " '/root/data_alfred/unlabeled_12k_20201206/seen/pick_cool_then_place_in_recep-PotatoSliced-None-GarbageCan-7/trial_T20190911_070638_672577/extracted_feature_states.json',\n",
       " '/root/data_alfred/unlabeled_12k_20201206/seen/pick_heat_then_place_in_recep-TomatoSliced-None-CounterTop-24/trial_T20190910_102744_068993/extracted_feature_states.json',\n",
       " '/root/data_alfred/unlabeled_12k_20201206/seen/pick_heat_then_place_in_recep-BreadSliced-None-Fridge-12/trial_T20190910_003502_872629/extracted_feature_states.json',\n",
       " '/root/data_alfred/unlabeled_12k_20201206/seen/pick_two_obj_and_place-KeyChain-None-Sofa-211/trial_T20190914_053320_543255/extracted_feature_states.json',\n",
       " '/root/data_alfred/unlabeled_12k_20201206/seen/pick_cool_then_place_in_recep-TomatoSliced-None-DiningTable-15/trial_T20190909_171453_342130/extracted_feature_states.json',\n",
       " '/root/data_alfred/unlabeled_12k_20201206/seen/pick_heat_then_place_in_recep-Egg-None-GarbageCan-17/trial_T20190911_095024_912705/extracted_feature_states.json',\n",
       " '/root/data_alfred/unlabeled_12k_20201206/seen/pick_and_place_simple-Cloth-None-Cart-430/trial_T20190909_180050_682827/extracted_feature_states.json',\n",
       " '/root/data_alfred/unlabeled_12k_20201206/seen/pick_and_place_simple-CreditCard-None-Sofa-227/trial_T20190911_195410_318630/extracted_feature_states.json',\n",
       " '/root/data_alfred/unlabeled_12k_20201206/seen/pick_and_place_with_movable_recep-Spatula-Plate-SinkBasin-16/trial_T20190918_162217_568936/extracted_feature_states.json',\n",
       " '/root/data_alfred/unlabeled_12k_20201206/seen/pick_clean_then_place_in_recep-Bowl-None-CounterTop-18/trial_T20190910_114344_653788/extracted_feature_states.json',\n",
       " '/root/data_alfred/unlabeled_12k_20201206/seen/look_at_obj_in_light-KeyChain-None-DeskLamp-225/trial_T20190910_093745_237197/extracted_feature_states.json',\n",
       " '/root/data_alfred/unlabeled_12k_20201206/seen/pick_and_place_simple-AlarmClock-None-Dresser-305/trial_T20190913_205209_814944/extracted_feature_states.json',\n",
       " '/root/data_alfred/unlabeled_12k_20201206/seen/pick_cool_then_place_in_recep-Cup-None-Cabinet-1/trial_T20190910_230015_528937/extracted_feature_states.json',\n",
       " '/root/data_alfred/unlabeled_12k_20201206/seen/pick_clean_then_place_in_recep-Cup-None-Microwave-17/trial_T20190913_084530_540549/extracted_feature_states.json',\n",
       " '/root/data_alfred/unlabeled_12k_20201206/seen/pick_and_place_simple-Cloth-None-SinkBasin-408/trial_T20190914_052954_561372/extracted_feature_states.json',\n",
       " '/root/data_alfred/unlabeled_12k_20201206/seen/pick_clean_then_place_in_recep-SoapBar-None-Drawer-427/trial_T20190910_074946_224869/extracted_feature_states.json',\n",
       " '/root/data_alfred/unlabeled_12k_20201206/seen/pick_heat_then_place_in_recep-BreadSliced-None-GarbageCan-20/trial_T20190911_024651_004884/extracted_feature_states.json',\n",
       " '/root/data_alfred/unlabeled_12k_20201206/seen/pick_heat_then_place_in_recep-Apple-None-SinkBasin-16/trial_T20190910_035043_304327/extracted_feature_states.json',\n",
       " '/root/data_alfred/unlabeled_12k_20201206/seen/pick_clean_then_place_in_recep-Mug-None-CoffeeMachine-12/trial_T20190913_141747_498153/extracted_feature_states.json',\n",
       " '/root/data_alfred/unlabeled_12k_20201206/seen/pick_and_place_simple-Candle-None-Dresser-415/trial_T20190911_232207_318539/extracted_feature_states.json',\n",
       " '/root/data_alfred/unlabeled_12k_20201206/seen/pick_and_place_simple-TissueBox-None-GarbageCan-419/trial_T20190912_051934_194424/extracted_feature_states.json',\n",
       " '/root/data_alfred/unlabeled_12k_20201206/seen/pick_heat_then_place_in_recep-BreadSliced-None-GarbageCan-5/trial_T20190910_010023_816770/extracted_feature_states.json',\n",
       " '/root/data_alfred/unlabeled_12k_20201206/seen/pick_and_place_simple-Watch-None-Desk-301/trial_T20190912_105247_514591/extracted_feature_states.json',\n",
       " '/root/data_alfred/unlabeled_12k_20201206/seen/pick_and_place_simple-RemoteControl-None-CoffeeTable-222/trial_T20190910_114724_746676/extracted_feature_states.json',\n",
       " '/root/data_alfred/unlabeled_12k_20201206/seen/look_at_obj_in_light-Pencil-None-DeskLamp-317/trial_T20190909_195231_285444/extracted_feature_states.json',\n",
       " '/root/data_alfred/unlabeled_12k_20201206/seen/pick_and_place_with_movable_recep-KeyChain-Box-SideTable-220/trial_T20190910_224142_396226/extracted_feature_states.json',\n",
       " '/root/data_alfred/unlabeled_12k_20201206/seen/pick_heat_then_place_in_recep-TomatoSliced-None-CounterTop-27/trial_T20190910_032909_537714/extracted_feature_states.json',\n",
       " '/root/data_alfred/unlabeled_12k_20201206/seen/pick_two_obj_and_place-CellPhone-None-SideTable-330/trial_T20190910_061051_290680/extracted_feature_states.json',\n",
       " '/root/data_alfred/unlabeled_12k_20201206/seen/pick_clean_then_place_in_recep-Egg-None-Microwave-6/trial_T20190910_173714_459443/extracted_feature_states.json',\n",
       " '/root/data_alfred/unlabeled_12k_20201206/seen/pick_clean_then_place_in_recep-Knife-None-DiningTable-27/trial_T20190911_033726_046450/extracted_feature_states.json',\n",
       " '/root/data_alfred/unlabeled_12k_20201206/seen/pick_cool_then_place_in_recep-Mug-None-Microwave-5/trial_T20190912_092656_041288/extracted_feature_states.json',\n",
       " '/root/data_alfred/unlabeled_12k_20201206/seen/pick_clean_then_place_in_recep-Lettuce-None-Fridge-20/trial_T20190912_113939_476605/extracted_feature_states.json',\n",
       " '/root/data_alfred/unlabeled_12k_20201206/seen/pick_clean_then_place_in_recep-Cloth-None-Toilet-403/trial_T20190909_234318_038559/extracted_feature_states.json',\n",
       " '/root/data_alfred/unlabeled_12k_20201206/seen/pick_two_obj_and_place-RemoteControl-None-Sofa-224/trial_T20190914_000549_580190/extracted_feature_states.json',\n",
       " '/root/data_alfred/unlabeled_12k_20201206/seen/pick_heat_then_place_in_recep-AppleSliced-None-GarbageCan-16/trial_T20190918_164216_274533/extracted_feature_states.json',\n",
       " '/root/data_alfred/unlabeled_12k_20201206/seen/pick_two_obj_and_place-KeyChain-None-Shelf-316/trial_T20190911_062715_028541/extracted_feature_states.json',\n",
       " '/root/data_alfred/unlabeled_12k_20201206/seen/pick_clean_then_place_in_recep-Spoon-None-DiningTable-23/trial_T20190911_105228_152738/extracted_feature_states.json',\n",
       " '/root/data_alfred/unlabeled_12k_20201206/seen/pick_two_obj_and_place-Candle-None-CounterTop-412/trial_T20190909_210210_073159/extracted_feature_states.json',\n",
       " '/root/data_alfred/unlabeled_12k_20201206/seen/pick_and_place_with_movable_recep-Knife-Pot-CounterTop-1/trial_T20190918_220230_284512/extracted_feature_states.json',\n",
       " '/root/data_alfred/unlabeled_12k_20201206/seen/pick_and_place_simple-Statue-None-Dresser-224/trial_T20190912_060648_798981/extracted_feature_states.json',\n",
       " '/root/data_alfred/unlabeled_12k_20201206/seen/pick_and_place_with_movable_recep-Pen-Mug-SideTable-303/trial_T20190912_142921_271997/extracted_feature_states.json']"
      ]
     },
     "execution_count": 45,
     "metadata": {},
     "output_type": "execute_result"
    }
   ],
   "source": [
    "extract_feat_outpaths"
   ]
  },
  {
   "cell_type": "code",
   "execution_count": 16,
   "metadata": {},
   "outputs": [],
   "source": [
    "date = '20201227'\n",
    "split_name = 'augmentation'\n",
    "with open('/root/data_alfred/splits/extract_feat_states_{}_{}_notebook_outpaths.json'.format(date, split_name), 'w') as f:\n",
    "    json.dump(extract_feat_outpaths, f)"
   ]
  },
  {
   "cell_type": "markdown",
   "metadata": {},
   "source": [
    "## Save Vocab"
   ]
  },
  {
   "cell_type": "code",
   "execution_count": 31,
   "metadata": {},
   "outputs": [],
   "source": [
    "date = '20200522'\n",
    "vocab_dout_path = os.path.join('/root/data_alfred/json_feat_2.1.0', '{}_{}.vocab'.format('objects', date))\n",
    "torch.save(object_vocab, vocab_dout_path)"
   ]
  },
  {
   "cell_type": "code",
   "execution_count": 29,
   "metadata": {},
   "outputs": [
    {
     "data": {
      "text/plain": [
       "Vocab(111)"
      ]
     },
     "execution_count": 29,
     "metadata": {},
     "output_type": "execute_result"
    }
   ],
   "source": [
    "object_vocab['object_type']"
   ]
  },
  {
   "cell_type": "code",
   "execution_count": 27,
   "metadata": {},
   "outputs": [
    {
     "data": {
      "text/plain": [
       "'/root/data_alfred/json_feat_2.1.0/objects, date_date.vocab'"
      ]
     },
     "execution_count": 27,
     "metadata": {},
     "output_type": "execute_result"
    }
   ],
   "source": [
    "vocab_dout_path"
   ]
  },
  {
   "cell_type": "code",
   "execution_count": 30,
   "metadata": {},
   "outputs": [
    {
     "data": {
      "text/plain": [
       "'/root/data_alfred/json_feat_2.1.0/objects_date.vocab'"
      ]
     },
     "execution_count": 30,
     "metadata": {},
     "output_type": "execute_result"
    }
   ],
   "source": [
    "vocab_dout_path"
   ]
  },
  {
   "cell_type": "code",
   "execution_count": 32,
   "metadata": {},
   "outputs": [
    {
     "data": {
      "text/plain": [
       "'/root/data_alfred/json_feat_2.1.0/objects_20200522.vocab'"
      ]
     },
     "execution_count": 32,
     "metadata": {},
     "output_type": "execute_result"
    }
   ],
   "source": [
    "vocab_dout_path"
   ]
  },
  {
   "cell_type": "code",
   "execution_count": 33,
   "metadata": {},
   "outputs": [
    {
     "data": {
      "text/plain": [
       "{'object_type': Vocab(111)}"
      ]
     },
     "execution_count": 33,
     "metadata": {},
     "output_type": "execute_result"
    }
   ],
   "source": [
    "dum_vocab = torch.load('/root/data_alfred/json_feat_2.1.0/objects_20200522.vocab')\n",
    "dum_vocab"
   ]
  },
  {
   "cell_type": "code",
   "execution_count": null,
   "metadata": {},
   "outputs": [],
   "source": []
  }
 ],
 "metadata": {
  "kernelspec": {
   "display_name": "Python 3",
   "language": "python",
   "name": "python3"
  },
  "language_info": {
   "codemirror_mode": {
    "name": "ipython",
    "version": 3
   },
   "file_extension": ".py",
   "mimetype": "text/x-python",
   "name": "python",
   "nbconvert_exporter": "python",
   "pygments_lexer": "ipython3",
   "version": "3.6.9"
  }
 },
 "nbformat": 4,
 "nbformat_minor": 4
}
