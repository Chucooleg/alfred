{
 "cells": [
  {
   "cell_type": "code",
   "execution_count": null,
   "metadata": {},
   "outputs": [],
   "source": [
    "## TODO HERE!!!"
   ]
  },
  {
   "cell_type": "code",
   "execution_count": 32,
   "metadata": {},
   "outputs": [],
   "source": [
    "import json\n",
    "from collections import defaultdict\n",
    "import torch\n",
    "from vocab import Vocab\n",
    "import os\n",
    "import progressbar\n",
    "from argparse import ArgumentDefaultsHelpFormatter, ArgumentParser\n",
    "from collections import Counter\n",
    "from shutil import copyfile"
   ]
  },
  {
   "cell_type": "raw",
   "metadata": {},
   "source": [
    "# to run just a single example\n",
    "states_path = '/root/data_alfred/json_feat_2.1.0/pick_and_place_simple-TennisRacket-None-Bed-303/trial_T20190906_193617_277654/pp/metadata_states.json'\n",
    "\n",
    "with open(states_path, 'r') as f:\n",
    "    saved_states = json.load(f)"
   ]
  },
  {
   "cell_type": "markdown",
   "metadata": {},
   "source": [
    "## Setup"
   ]
  },
  {
   "cell_type": "code",
   "execution_count": 5,
   "metadata": {},
   "outputs": [],
   "source": [
    "object_state_types = ['isToggled', 'isBroken', 'isFilledWithLiquid', 'isDirty',\n",
    "                      'isUsedUp', 'isCooked', 'ObjectTemperature', 'isSliced',\n",
    "                      'isOpen', 'isPickedUp', 'mass', 'parentReceptacles']\n",
    "receptacle_key = 'receptacleObjectIds'"
   ]
  },
  {
   "cell_type": "markdown",
   "metadata": {},
   "source": [
    "## Args"
   ]
  },
  {
   "cell_type": "code",
   "execution_count": 33,
   "metadata": {},
   "outputs": [],
   "source": [
    "parser = ArgumentParser(formatter_class=ArgumentDefaultsHelpFormatter)\n",
    "args = parser.parse_args('')\n",
    "\n",
    "# settings\n",
    "args.data_root = '/root/media/legg/data-850-evo/'\n",
    "args.data = '/root/media/legg/data-850-evo/json_data_augmentation_20200820/'\n",
    "args.splits = '/root/home/legg/data_alfred/splits/sample_failed_20200820.json'"
   ]
  },
  {
   "cell_type": "code",
   "execution_count": 34,
   "metadata": {},
   "outputs": [
    {
     "data": {
      "text/plain": [
       "{'object_type': Vocab(111)}"
      ]
     },
     "execution_count": 34,
     "metadata": {},
     "output_type": "execute_result"
    }
   ],
   "source": [
    "object_vocab = torch.load(os.path.join(args.data, 'objects_20200522.object_vocab'))\n",
    "object_vocab"
   ]
  },
  {
   "cell_type": "markdown",
   "metadata": {},
   "source": [
    "## Hack: Simply copy the extracted_feature_states.json from full explainer pp folder to one directory up"
   ]
  },
  {
   "cell_type": "code",
   "execution_count": 35,
   "metadata": {},
   "outputs": [
    {
     "name": "stdout",
     "output_type": "stream",
     "text": [
      "success paths =  7649\n"
     ]
    }
   ],
   "source": [
    "with open(args.splits, 'r') as f:\n",
    "    success_outpaths = json.load(f)['augmentation']\n",
    "    \n",
    "len(success_outpaths)\n",
    "    \n",
    "print('success paths = ', len(success_outpaths))"
   ]
  },
  {
   "cell_type": "code",
   "execution_count": 37,
   "metadata": {},
   "outputs": [
    {
     "name": "stderr",
     "output_type": "stream",
     "text": [
      "100% (7649 of 7649) |####################| Elapsed Time: 0:00:11 Time:  0:00:11\n"
     ]
    }
   ],
   "source": [
    "for task in progressbar.progressbar(success_outpaths):\n",
    "    \n",
    "    pp_folder = 'pp_model:seq2seq_per_subgoal,name:v2_epoch_40_obj_instance_enc_max_pool_dec_aux_loss_weighted_bce_1to2'\n",
    "    src_p = os.path.join(args.data, task['task'], pp_folder, f'extracted_feature_states.json')\n",
    "    dst_p = os.path.join(args.data, task['task'], f'extracted_feature_states.json')\n",
    "    \n",
    "    copyfile(src_p, dst_p)"
   ]
  },
  {
   "cell_type": "markdown",
   "metadata": {},
   "source": [
    "## (Ignore Below: Original Code) AUGMENTATION SPLIT"
   ]
  },
  {
   "cell_type": "code",
   "execution_count": 22,
   "metadata": {
    "scrolled": true
   },
   "outputs": [
    {
     "name": "stdout",
     "output_type": "stream",
     "text": [
      "success paths =  7649\n"
     ]
    }
   ],
   "source": [
    "with open(args.splits, 'r') as f:\n",
    "    success_outpaths = json.load(f)['augmentation']\n",
    "    \n",
    "len(success_outpaths)\n",
    "    \n",
    "print('success paths = ', len(success_outpaths))"
   ]
  },
  {
   "cell_type": "code",
   "execution_count": 23,
   "metadata": {
    "scrolled": true
   },
   "outputs": [
    {
     "data": {
      "text/plain": [
       "{'task': 'look_at_obj_in_light-BaseballBat-None-DeskLamp-301/trial_T20200814_164125_595727',\n",
       " 'repeat_idx': 0,\n",
       " 'full_traj_success': False,\n",
       " 'collected_subgoals': 2}"
      ]
     },
     "execution_count": 23,
     "metadata": {},
     "output_type": "execute_result"
    }
   ],
   "source": [
    "success_outpaths[0]"
   ]
  },
  {
   "cell_type": "code",
   "execution_count": 27,
   "metadata": {
    "scrolled": true
   },
   "outputs": [
    {
     "name": "stderr",
     "output_type": "stream",
     "text": [
      "\r",
      "N/A% (0 of 7649) |                       | Elapsed Time: 0:00:00 ETA:  --:--:--"
     ]
    },
    {
     "name": "stdout",
     "output_type": "stream",
     "text": [
      "> \u001b[0;32m<ipython-input-12-768027a895ed>\u001b[0m(30)\u001b[0;36mcheck_and_correct_alignments\u001b[0;34m()\u001b[0m\n",
      "\u001b[0;32m     28 \u001b[0;31m            \u001b[0;32mimport\u001b[0m \u001b[0mpdb\u001b[0m\u001b[0;34m;\u001b[0m \u001b[0mpdb\u001b[0m\u001b[0;34m.\u001b[0m\u001b[0mset_trace\u001b[0m\u001b[0;34m(\u001b[0m\u001b[0;34m)\u001b[0m\u001b[0;34m\u001b[0m\u001b[0;34m\u001b[0m\u001b[0m\n",
      "\u001b[0m\u001b[0;32m     29 \u001b[0;31m\u001b[0;34m\u001b[0m\u001b[0m\n",
      "\u001b[0m\u001b[0;32m---> 30 \u001b[0;31m        \u001b[0mapply_alignment_correction\u001b[0m\u001b[0;34m(\u001b[0m\u001b[0mextracted_features\u001b[0m\u001b[0;34m,\u001b[0m \u001b[0msubgoal_count_specific_features\u001b[0m\u001b[0;34m)\u001b[0m\u001b[0;34m\u001b[0m\u001b[0;34m\u001b[0m\u001b[0m\n",
      "\u001b[0m\u001b[0;32m     31 \u001b[0;31m\u001b[0;34m\u001b[0m\u001b[0m\n",
      "\u001b[0m\u001b[0;32m     32 \u001b[0;31m        \u001b[0msubgoal_len_features2\u001b[0m \u001b[0;34m=\u001b[0m \u001b[0;34m[\u001b[0m\u001b[0;34m(\u001b[0m\u001b[0mi\u001b[0m\u001b[0;34m,\u001b[0m\u001b[0mlen\u001b[0m\u001b[0;34m(\u001b[0m\u001b[0msubgoal\u001b[0m\u001b[0;34m)\u001b[0m\u001b[0;34m)\u001b[0m \u001b[0;32mfor\u001b[0m \u001b[0mi\u001b[0m\u001b[0;34m,\u001b[0m \u001b[0msubgoal\u001b[0m \u001b[0;32min\u001b[0m \u001b[0menumerate\u001b[0m\u001b[0;34m(\u001b[0m\u001b[0mextracted_features\u001b[0m\u001b[0;34m[\u001b[0m\u001b[0;34m'instance_visibile'\u001b[0m\u001b[0;34m]\u001b[0m\u001b[0;34m)\u001b[0m\u001b[0;34m]\u001b[0m\u001b[0;34m\u001b[0m\u001b[0;34m\u001b[0m\u001b[0m\n",
      "\u001b[0m\n",
      "ipdb> q\n"
     ]
    },
    {
     "ename": "BdbQuit",
     "evalue": "",
     "output_type": "error",
     "traceback": [
      "\u001b[0;31m---------------------------------------------------------------------------\u001b[0m",
      "\u001b[0;31mAssertionError\u001b[0m                            Traceback (most recent call last)",
      "\u001b[0;32m<ipython-input-12-768027a895ed>\u001b[0m in \u001b[0;36mcheck_and_correct_alignments\u001b[0;34m(extracted_features, traj_data)\u001b[0m\n\u001b[1;32m     19\u001b[0m     \u001b[0;32mtry\u001b[0m\u001b[0;34m:\u001b[0m\u001b[0;34m\u001b[0m\u001b[0;34m\u001b[0m\u001b[0m\n\u001b[0;32m---> 20\u001b[0;31m         \u001b[0;32massert\u001b[0m \u001b[0mcounter_items\u001b[0m \u001b[0;34m==\u001b[0m \u001b[0msubgoal_len_features\u001b[0m\u001b[0;34m[\u001b[0m\u001b[0;34m:\u001b[0m\u001b[0;34m-\u001b[0m\u001b[0;36m1\u001b[0m\u001b[0;34m]\u001b[0m\u001b[0;34m\u001b[0m\u001b[0;34m\u001b[0m\u001b[0m\n\u001b[0m\u001b[1;32m     21\u001b[0m         \u001b[0mcorrected\u001b[0m \u001b[0;34m=\u001b[0m \u001b[0;32mFalse\u001b[0m\u001b[0;34m\u001b[0m\u001b[0;34m\u001b[0m\u001b[0m\n",
      "\u001b[0;31mAssertionError\u001b[0m: ",
      "\nDuring handling of the above exception, another exception occurred:\n",
      "\u001b[0;31mBdbQuit\u001b[0m                                   Traceback (most recent call last)",
      "\u001b[0;32m<ipython-input-27-f15dd447ae1a>\u001b[0m in \u001b[0;36m<module>\u001b[0;34m\u001b[0m\n\u001b[1;32m     24\u001b[0m \u001b[0;34m\u001b[0m\u001b[0m\n\u001b[1;32m     25\u001b[0m     \u001b[0;31m# check if extracted features align with traj data, apply correction\u001b[0m\u001b[0;34m\u001b[0m\u001b[0;34m\u001b[0m\u001b[0;34m\u001b[0m\u001b[0m\n\u001b[0;32m---> 26\u001b[0;31m     \u001b[0mcorrected\u001b[0m \u001b[0;34m+=\u001b[0m \u001b[0mint\u001b[0m\u001b[0;34m(\u001b[0m\u001b[0mcheck_and_correct_alignments\u001b[0m\u001b[0;34m(\u001b[0m\u001b[0mextract_feat\u001b[0m\u001b[0;34m,\u001b[0m \u001b[0mtraj_data\u001b[0m\u001b[0;34m)\u001b[0m\u001b[0;34m)\u001b[0m\u001b[0;34m\u001b[0m\u001b[0;34m\u001b[0m\u001b[0m\n\u001b[0m\u001b[1;32m     27\u001b[0m \u001b[0;34m\u001b[0m\u001b[0m\n\u001b[1;32m     28\u001b[0m     \u001b[0;31m# save out\u001b[0m\u001b[0;34m\u001b[0m\u001b[0;34m\u001b[0m\u001b[0;34m\u001b[0m\u001b[0m\n",
      "\u001b[0;32m<ipython-input-12-768027a895ed>\u001b[0m in \u001b[0;36mcheck_and_correct_alignments\u001b[0;34m(extracted_features, traj_data)\u001b[0m\n\u001b[1;32m     28\u001b[0m             \u001b[0;32mimport\u001b[0m \u001b[0mpdb\u001b[0m\u001b[0;34m;\u001b[0m \u001b[0mpdb\u001b[0m\u001b[0;34m.\u001b[0m\u001b[0mset_trace\u001b[0m\u001b[0;34m(\u001b[0m\u001b[0;34m)\u001b[0m\u001b[0;34m\u001b[0m\u001b[0;34m\u001b[0m\u001b[0m\n\u001b[1;32m     29\u001b[0m \u001b[0;34m\u001b[0m\u001b[0m\n\u001b[0;32m---> 30\u001b[0;31m         \u001b[0mapply_alignment_correction\u001b[0m\u001b[0;34m(\u001b[0m\u001b[0mextracted_features\u001b[0m\u001b[0;34m,\u001b[0m \u001b[0msubgoal_count_specific_features\u001b[0m\u001b[0;34m)\u001b[0m\u001b[0;34m\u001b[0m\u001b[0;34m\u001b[0m\u001b[0m\n\u001b[0m\u001b[1;32m     31\u001b[0m \u001b[0;34m\u001b[0m\u001b[0m\n\u001b[1;32m     32\u001b[0m         \u001b[0msubgoal_len_features2\u001b[0m \u001b[0;34m=\u001b[0m \u001b[0;34m[\u001b[0m\u001b[0;34m(\u001b[0m\u001b[0mi\u001b[0m\u001b[0;34m,\u001b[0m\u001b[0mlen\u001b[0m\u001b[0;34m(\u001b[0m\u001b[0msubgoal\u001b[0m\u001b[0;34m)\u001b[0m\u001b[0;34m)\u001b[0m \u001b[0;32mfor\u001b[0m \u001b[0mi\u001b[0m\u001b[0;34m,\u001b[0m \u001b[0msubgoal\u001b[0m \u001b[0;32min\u001b[0m \u001b[0menumerate\u001b[0m\u001b[0;34m(\u001b[0m\u001b[0mextracted_features\u001b[0m\u001b[0;34m[\u001b[0m\u001b[0;34m'instance_visibile'\u001b[0m\u001b[0;34m]\u001b[0m\u001b[0;34m)\u001b[0m\u001b[0;34m]\u001b[0m\u001b[0;34m\u001b[0m\u001b[0;34m\u001b[0m\u001b[0m\n",
      "\u001b[0;32m<ipython-input-12-768027a895ed>\u001b[0m in \u001b[0;36mcheck_and_correct_alignments\u001b[0;34m(extracted_features, traj_data)\u001b[0m\n\u001b[1;32m     28\u001b[0m             \u001b[0;32mimport\u001b[0m \u001b[0mpdb\u001b[0m\u001b[0;34m;\u001b[0m \u001b[0mpdb\u001b[0m\u001b[0;34m.\u001b[0m\u001b[0mset_trace\u001b[0m\u001b[0;34m(\u001b[0m\u001b[0;34m)\u001b[0m\u001b[0;34m\u001b[0m\u001b[0;34m\u001b[0m\u001b[0m\n\u001b[1;32m     29\u001b[0m \u001b[0;34m\u001b[0m\u001b[0m\n\u001b[0;32m---> 30\u001b[0;31m         \u001b[0mapply_alignment_correction\u001b[0m\u001b[0;34m(\u001b[0m\u001b[0mextracted_features\u001b[0m\u001b[0;34m,\u001b[0m \u001b[0msubgoal_count_specific_features\u001b[0m\u001b[0;34m)\u001b[0m\u001b[0;34m\u001b[0m\u001b[0;34m\u001b[0m\u001b[0m\n\u001b[0m\u001b[1;32m     31\u001b[0m \u001b[0;34m\u001b[0m\u001b[0m\n\u001b[1;32m     32\u001b[0m         \u001b[0msubgoal_len_features2\u001b[0m \u001b[0;34m=\u001b[0m \u001b[0;34m[\u001b[0m\u001b[0;34m(\u001b[0m\u001b[0mi\u001b[0m\u001b[0;34m,\u001b[0m\u001b[0mlen\u001b[0m\u001b[0;34m(\u001b[0m\u001b[0msubgoal\u001b[0m\u001b[0;34m)\u001b[0m\u001b[0;34m)\u001b[0m \u001b[0;32mfor\u001b[0m \u001b[0mi\u001b[0m\u001b[0;34m,\u001b[0m \u001b[0msubgoal\u001b[0m \u001b[0;32min\u001b[0m \u001b[0menumerate\u001b[0m\u001b[0;34m(\u001b[0m\u001b[0mextracted_features\u001b[0m\u001b[0;34m[\u001b[0m\u001b[0;34m'instance_visibile'\u001b[0m\u001b[0;34m]\u001b[0m\u001b[0;34m)\u001b[0m\u001b[0;34m]\u001b[0m\u001b[0;34m\u001b[0m\u001b[0;34m\u001b[0m\u001b[0m\n",
      "\u001b[0;32m~/miniconda/lib/python3.8/bdb.py\u001b[0m in \u001b[0;36mtrace_dispatch\u001b[0;34m(self, frame, event, arg)\u001b[0m\n\u001b[1;32m     86\u001b[0m             \u001b[0;32mreturn\u001b[0m \u001b[0;31m# None\u001b[0m\u001b[0;34m\u001b[0m\u001b[0;34m\u001b[0m\u001b[0m\n\u001b[1;32m     87\u001b[0m         \u001b[0;32mif\u001b[0m \u001b[0mevent\u001b[0m \u001b[0;34m==\u001b[0m \u001b[0;34m'line'\u001b[0m\u001b[0;34m:\u001b[0m\u001b[0;34m\u001b[0m\u001b[0;34m\u001b[0m\u001b[0m\n\u001b[0;32m---> 88\u001b[0;31m             \u001b[0;32mreturn\u001b[0m \u001b[0mself\u001b[0m\u001b[0;34m.\u001b[0m\u001b[0mdispatch_line\u001b[0m\u001b[0;34m(\u001b[0m\u001b[0mframe\u001b[0m\u001b[0;34m)\u001b[0m\u001b[0;34m\u001b[0m\u001b[0;34m\u001b[0m\u001b[0m\n\u001b[0m\u001b[1;32m     89\u001b[0m         \u001b[0;32mif\u001b[0m \u001b[0mevent\u001b[0m \u001b[0;34m==\u001b[0m \u001b[0;34m'call'\u001b[0m\u001b[0;34m:\u001b[0m\u001b[0;34m\u001b[0m\u001b[0;34m\u001b[0m\u001b[0m\n\u001b[1;32m     90\u001b[0m             \u001b[0;32mreturn\u001b[0m \u001b[0mself\u001b[0m\u001b[0;34m.\u001b[0m\u001b[0mdispatch_call\u001b[0m\u001b[0;34m(\u001b[0m\u001b[0mframe\u001b[0m\u001b[0;34m,\u001b[0m \u001b[0marg\u001b[0m\u001b[0;34m)\u001b[0m\u001b[0;34m\u001b[0m\u001b[0;34m\u001b[0m\u001b[0m\n",
      "\u001b[0;32m~/miniconda/lib/python3.8/bdb.py\u001b[0m in \u001b[0;36mdispatch_line\u001b[0;34m(self, frame)\u001b[0m\n\u001b[1;32m    111\u001b[0m         \u001b[0;32mif\u001b[0m \u001b[0mself\u001b[0m\u001b[0;34m.\u001b[0m\u001b[0mstop_here\u001b[0m\u001b[0;34m(\u001b[0m\u001b[0mframe\u001b[0m\u001b[0;34m)\u001b[0m \u001b[0;32mor\u001b[0m \u001b[0mself\u001b[0m\u001b[0;34m.\u001b[0m\u001b[0mbreak_here\u001b[0m\u001b[0;34m(\u001b[0m\u001b[0mframe\u001b[0m\u001b[0;34m)\u001b[0m\u001b[0;34m:\u001b[0m\u001b[0;34m\u001b[0m\u001b[0;34m\u001b[0m\u001b[0m\n\u001b[1;32m    112\u001b[0m             \u001b[0mself\u001b[0m\u001b[0;34m.\u001b[0m\u001b[0muser_line\u001b[0m\u001b[0;34m(\u001b[0m\u001b[0mframe\u001b[0m\u001b[0;34m)\u001b[0m\u001b[0;34m\u001b[0m\u001b[0;34m\u001b[0m\u001b[0m\n\u001b[0;32m--> 113\u001b[0;31m             \u001b[0;32mif\u001b[0m \u001b[0mself\u001b[0m\u001b[0;34m.\u001b[0m\u001b[0mquitting\u001b[0m\u001b[0;34m:\u001b[0m \u001b[0;32mraise\u001b[0m \u001b[0mBdbQuit\u001b[0m\u001b[0;34m\u001b[0m\u001b[0;34m\u001b[0m\u001b[0m\n\u001b[0m\u001b[1;32m    114\u001b[0m         \u001b[0;32mreturn\u001b[0m \u001b[0mself\u001b[0m\u001b[0;34m.\u001b[0m\u001b[0mtrace_dispatch\u001b[0m\u001b[0;34m\u001b[0m\u001b[0;34m\u001b[0m\u001b[0m\n\u001b[1;32m    115\u001b[0m \u001b[0;34m\u001b[0m\u001b[0m\n",
      "\u001b[0;31mBdbQuit\u001b[0m: "
     ]
    }
   ],
   "source": [
    "extract_feat_dum = []\n",
    "extract_feat_outpaths = []\n",
    "corrected = 0\n",
    "\n",
    "for task in progressbar.progressbar(success_outpaths):\n",
    "    \n",
    "    # load metadata\n",
    "    metadata_outpath = os.path.join(args.data, task['task'], 'metadata_states.json')\n",
    "    with open(metadata_outpath, 'r') as f:\n",
    "        saved_states = json.load(f)\n",
    "    \n",
    "    # load traj data\n",
    "    pp_folder = 'pp_model:seq2seq_per_subgoal,name:v2_epoch_40_obj_instance_enc_max_pool_dec_aux_loss_weighted_bce_1to2'\n",
    "    traj_data_p = os.path.join(args.data, task['task'], pp_folder, f'demo_{task[\"repeat_idx\"]}.json')\n",
    "    with open(traj_data_p, 'r') as f:\n",
    "        traj_data = json.load(f)\n",
    "\n",
    "    # extract obj state features\n",
    "    root = os.path.join(args.data, task['task'])\n",
    "    shifted_states = shift_states(saved_states)\n",
    "    extract_feat = extract_states_for_model(shifted_states, saved_states, root)\n",
    "    extract_feat['metadata_path'] = metadata_outpath\n",
    "    extract_feat['root'] = root\n",
    "    \n",
    "    # check if extracted features align with traj data, apply correction\n",
    "    corrected += int(check_and_correct_alignments(extract_feat, traj_data))\n",
    "    \n",
    "    # save out\n",
    "    extract_feat_outpath = metadata_outpath.replace('/metadata_states.json', '/extracted_feature_states.json')\n",
    "    with open(extract_feat_outpath, 'w') as f:\n",
    "        json.dump(extract_feat ,f)\n",
    "    \n",
    "    # copy of all output paths\n",
    "    extract_feat_outpaths.append(extract_feat_outpath)\n",
    "    extract_feat_dum.append(extract_feat)\n",
    "    \n",
    "print(len(extract_feat_dum))"
   ]
  },
  {
   "cell_type": "code",
   "execution_count": 17,
   "metadata": {},
   "outputs": [
    {
     "data": {
      "text/plain": [
       "['/root/data_alfred/unlabeled_12k_20201206/seen/pick_and_place_simple-CellPhone-None-Sofa-224/trial_T20190912_062415_255725/extracted_feature_states.json',\n",
       " '/root/data_alfred/unlabeled_12k_20201206/seen/pick_heat_then_place_in_recep-Tomato-None-DiningTable-19/trial_T20190911_051611_152502/extracted_feature_states.json',\n",
       " '/root/data_alfred/unlabeled_12k_20201206/seen/pick_cool_then_place_in_recep-Tomato-None-Microwave-20/trial_T20190911_220048_789694/extracted_feature_states.json',\n",
       " '/root/data_alfred/unlabeled_12k_20201206/seen/pick_and_place_simple-CellPhone-None-Dresser-314/trial_T20190910_153622_489437/extracted_feature_states.json',\n",
       " '/root/data_alfred/unlabeled_12k_20201206/seen/pick_and_place_simple-CreditCard-None-SideTable-313/trial_T20190913_140646_900196/extracted_feature_states.json',\n",
       " '/root/data_alfred/unlabeled_12k_20201206/seen/pick_cool_then_place_in_recep-AppleSliced-None-SinkBasin-7/trial_T20190910_135634_526097/extracted_feature_states.json',\n",
       " '/root/data_alfred/unlabeled_12k_20201206/seen/pick_clean_then_place_in_recep-Knife-None-CounterTop-1/trial_T20190910_215336_708071/extracted_feature_states.json',\n",
       " '/root/data_alfred/unlabeled_12k_20201206/seen/pick_and_place_simple-Pencil-None-CoffeeTable-201/trial_T20190914_065521_488084/extracted_feature_states.json',\n",
       " '/root/data_alfred/unlabeled_12k_20201206/seen/pick_clean_then_place_in_recep-Ladle-None-Cabinet-4/trial_T20190910_231717_161345/extracted_feature_states.json',\n",
       " '/root/data_alfred/unlabeled_12k_20201206/seen/pick_two_obj_and_place-SoapBar-None-Toilet-423/trial_T20190912_095303_466439/extracted_feature_states.json']"
      ]
     },
     "execution_count": 17,
     "metadata": {},
     "output_type": "execute_result"
    }
   ],
   "source": [
    "extract_feat_outpaths[:10]"
   ]
  },
  {
   "cell_type": "code",
   "execution_count": 18,
   "metadata": {},
   "outputs": [],
   "source": [
    "date = '20201228'\n",
    "split_name = 'augmentation'\n",
    "with open('/root/data_alfred/splits/extract_feat_states_{}_{}_notebook_outpaths.json'.format(date, split_name), 'w') as f:\n",
    "    json.dump(extract_feat_outpaths, f)"
   ]
  },
  {
   "cell_type": "code",
   "execution_count": null,
   "metadata": {},
   "outputs": [],
   "source": []
  }
 ],
 "metadata": {
  "kernelspec": {
   "display_name": "Python 3",
   "language": "python",
   "name": "python3"
  },
  "language_info": {
   "codemirror_mode": {
    "name": "ipython",
    "version": 3
   },
   "file_extension": ".py",
   "mimetype": "text/x-python",
   "name": "python",
   "nbconvert_exporter": "python",
   "pygments_lexer": "ipython3",
   "version": "3.8.3"
  }
 },
 "nbformat": 4,
 "nbformat_minor": 4
}
