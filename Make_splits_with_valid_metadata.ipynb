{
 "cells": [
  {
   "cell_type": "code",
   "execution_count": 4,
   "metadata": {},
   "outputs": [],
   "source": [
    "import json\n",
    "import os"
   ]
  },
  {
   "cell_type": "code",
   "execution_count": 2,
   "metadata": {},
   "outputs": [],
   "source": [
    "with open('/root/data_alfred/splits/apr25.json', 'r') as f:\n",
    "    apr25 = json.load(f)"
   ]
  },
  {
   "cell_type": "code",
   "execution_count": 3,
   "metadata": {
    "scrolled": true
   },
   "outputs": [
    {
     "data": {
      "text/plain": [
       "dict_keys(['tests_seen', 'tests_unseen', 'train', 'valid_seen', 'valid_unseen', 'train_sanity', 'train_sanity_v1', 'valid_seen_v1', 'valid_unseen_v1'])"
      ]
     },
     "execution_count": 3,
     "metadata": {},
     "output_type": "execute_result"
    }
   ],
   "source": [
    "apr25.keys()"
   ]
  },
  {
   "cell_type": "code",
   "execution_count": 32,
   "metadata": {},
   "outputs": [
    {
     "name": "stdout",
     "output_type": "stream",
     "text": [
      "tests_seen : 1533\n",
      "tests_unseen : 1529\n",
      "train : 21023\n",
      "valid_seen : 820\n",
      "valid_unseen : 821\n",
      "train_sanity : 250\n",
      "train_sanity_v1 : 250\n",
      "valid_seen_v1 : 251\n",
      "valid_unseen_v1 : 255\n"
     ]
    }
   ],
   "source": [
    "for k,v in apr25.items():\n",
    "    print(k, ':', len(v))"
   ]
  },
  {
   "cell_type": "code",
   "execution_count": 30,
   "metadata": {},
   "outputs": [],
   "source": [
    "may17 = {k:[] for k in apr25.keys()}"
   ]
  },
  {
   "cell_type": "code",
   "execution_count": 13,
   "metadata": {},
   "outputs": [],
   "source": [
    "failed_roots = []\n",
    "failed_roots_files = [\n",
    "    'collect_states_20200511_train_notebook_failed_roots.json',\n",
    "    'collect_states_20200511_valid_seen_notebook_failed_roots.json',\n",
    "    'collect_states_20200511_valid_unseen_notebook_failed_roots.json'\n",
    "]\n",
    "\n",
    "for failed_roots_file in failed_roots_files:\n",
    "    path = os.path.join('/root/data_alfred/splits/', failed_roots_file)\n",
    "    with open(path, 'r') as f:\n",
    "        failed_roots += json.load(f)\n",
    "        \n",
    "failed_task_names = [t.split('/')[-1] for t in failed_roots]"
   ]
  },
  {
   "cell_type": "code",
   "execution_count": 31,
   "metadata": {
    "scrolled": true
   },
   "outputs": [],
   "source": [
    "failed_sanity_check = {}\n",
    "\n",
    "for split_name in apr25.keys():\n",
    "    failed_sanity_check[split_name] = []\n",
    "    for task in apr25[split_name]:\n",
    "        if task['task'].split('/')[-1] in failed_task_names:\n",
    "            failed_sanity_check[split_name].append(task['task'].split('/')[-1])\n",
    "        else:\n",
    "            may17[split_name].append(task)"
   ]
  },
  {
   "cell_type": "code",
   "execution_count": 33,
   "metadata": {},
   "outputs": [
    {
     "name": "stdout",
     "output_type": "stream",
     "text": [
      "tests_seen : 1533\n",
      "tests_unseen : 1529\n",
      "train : 20806\n",
      "valid_seen : 814\n",
      "valid_unseen : 818\n",
      "train_sanity : 246\n",
      "train_sanity_v1 : 246\n",
      "valid_seen_v1 : 249\n",
      "valid_unseen_v1 : 254\n"
     ]
    }
   ],
   "source": [
    "for k,v in may17.items():\n",
    "    print(k, ':', len(v))"
   ]
  },
  {
   "cell_type": "code",
   "execution_count": 34,
   "metadata": {},
   "outputs": [],
   "source": [
    "with open('/root/data_alfred/splits/may17.json', 'w') as f:\n",
    "    json.dump(may17, f)\n"
   ]
  },
  {
   "cell_type": "code",
   "execution_count": null,
   "metadata": {},
   "outputs": [],
   "source": []
  }
 ],
 "metadata": {
  "kernelspec": {
   "display_name": "Python 3",
   "language": "python",
   "name": "python3"
  },
  "language_info": {
   "codemirror_mode": {
    "name": "ipython",
    "version": 3
   },
   "file_extension": ".py",
   "mimetype": "text/x-python",
   "name": "python",
   "nbconvert_exporter": "python",
   "pygments_lexer": "ipython3",
   "version": "3.6.9"
  }
 },
 "nbformat": 4,
 "nbformat_minor": 4
}
