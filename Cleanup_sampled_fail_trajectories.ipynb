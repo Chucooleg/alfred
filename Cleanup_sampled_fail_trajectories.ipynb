{
 "cells": [
  {
   "cell_type": "code",
   "execution_count": 1,
   "metadata": {},
   "outputs": [],
   "source": [
    "import os\n",
    "import json\n",
    "import numpy as np\n",
    "import shutil\n",
    "from collections import defaultdict"
   ]
  },
  {
   "cell_type": "code",
   "execution_count": 2,
   "metadata": {},
   "outputs": [
    {
     "data": {
      "text/plain": [
       "13918"
      ]
     },
     "execution_count": 2,
     "metadata": {},
     "output_type": "execute_result"
    }
   ],
   "source": [
    "# directory with newly sampled trajectories\n",
    "data = '/root/data_alfred/demo_generated/'\n",
    "\n",
    "# write to ~/ for now because of permission problems to write in /data_alfred\n",
    "dout = '/root/data_alfred/json_data_augmentation_20200820/'\n",
    "dout_split = '/root/data_alfred/splits/'\n",
    "\n",
    "sampling_directory_names = ['new_trajectories_T20200814_164117_470008', \n",
    "                            'new_trajectories_T20200816_210636_008457', \n",
    "                            'new_trajectories_T20200820_065140_149815']\n",
    "\n",
    "# task name text files\n",
    "with open('/root/data/home/hoyeung/alfred/gen/scripts/task_names.txt') as f:\n",
    "    task_name_list = f.read().splitlines()\n",
    "len(task_name_list)"
   ]
  },
  {
   "cell_type": "markdown",
   "metadata": {},
   "source": [
    "## filter down to sampled trajectories with 1) at least 1 successful subgoal and 2) given a task name, the best trial with max number of subgoal"
   ]
  },
  {
   "cell_type": "code",
   "execution_count": 3,
   "metadata": {
    "tags": []
   },
   "outputs": [],
   "source": [
    "# filter down to sampled trajectories with 1) at least 1 successful subgoal and 2) given a task name, the best trial with max number of subgoal\n",
    "\n",
    "task_to_traj = {}\n",
    "missing = []\n",
    "\n",
    "for task_name in task_name_list:\n",
    "    \n",
    "    task_info = {'best_trial_dir':None, 'max_collected_subgoals':0, 'full_traj_success':False}\n",
    "\n",
    "    found_task_dir = False\n",
    "    for sampl_dir in sampling_directory_names:\n",
    "        task_dir = os.path.join(data, sampl_dir, task_name)\n",
    "        if os.path.exists(task_dir):\n",
    "            found_task_dir = True\n",
    "            for trial_dir in os.listdir(task_dir):\n",
    "                traj_data_p = os.path.join(task_dir, trial_dir, 'traj_data.json')\n",
    "                if os.path.exists(traj_data_p):\n",
    "                    with open(traj_data_p, 'r') as f:\n",
    "                        traj_data = json.load(f)\n",
    "                    collected_num_subgoals = len(traj_data['plan']['high_pddl'])\n",
    "                    if os.path.exists(os.path.join(task_dir, trial_dir, 'video.mp4')):\n",
    "                        # save successful full trajectory\n",
    "                        task_info['best_trial_dir'] = os.path.join(sampl_dir, task_name, trial_dir)\n",
    "                        task_info['max_collected_subgoals'] = collected_num_subgoals\n",
    "                        task_info['full_traj_success'] = True\n",
    "                        task_to_traj[task_name] = task_info\n",
    "                        break\n",
    "                    else:\n",
    "                        # save the longest version. save only if at least one subgoal has been completed. \n",
    "                        if len(traj_data['plan']['high_pddl']) > task_info['collected_subgoals'] and len(traj_data['plan']['high_pddl']) > 1:\n",
    "                            task_info['collected_subgoals'] = collected_num_subgoals - 1 # the last subgoal failed, remove it\n",
    "                            task_info['best_trial_dir'] = os.path.join(sampl_dir, task_name, trial_dir)\n",
    "                            task_info['full_traj_success'] = False\n",
    "                            task_to_traj[task_name] = task_info\n",
    "\n",
    "    if not found_task_dir:\n",
    "        missing.append(task_name)\n"
   ]
  },
  {
   "cell_type": "code",
   "execution_count": 22,
   "metadata": {},
   "outputs": [
    {
     "data": {
      "text/plain": [
       "{'best_trial_dir': 'new_trajectories_T20200814_164117_470008/pick_and_place_with_movable_recep-Apple-Plate-DiningTable-11/trial_T20200814_220339_693684',\n",
       " 'max_collected_subgoals': 2,\n",
       " 'full_traj_success': False}"
      ]
     },
     "execution_count": 22,
     "metadata": {},
     "output_type": "execute_result"
    }
   ],
   "source": [
    "task_to_traj['pick_and_place_with_movable_recep-Apple-Plate-DiningTable-11']"
   ]
  },
  {
   "cell_type": "code",
   "execution_count": 4,
   "metadata": {},
   "outputs": [
    {
     "data": {
      "text/plain": [
       "8851"
      ]
     },
     "execution_count": 4,
     "metadata": {},
     "output_type": "execute_result"
    }
   ],
   "source": [
    "len(task_to_traj.keys())"
   ]
  },
  {
   "cell_type": "code",
   "execution_count": 5,
   "metadata": {},
   "outputs": [
    {
     "data": {
      "text/plain": [
       "'look_at_obj_in_light-BaseballBat-None-DeskLamp-301'"
      ]
     },
     "execution_count": 5,
     "metadata": {},
     "output_type": "execute_result"
    }
   ],
   "source": [
    "list(task_to_traj.keys())[0]"
   ]
  },
  {
   "cell_type": "code",
   "execution_count": 52,
   "metadata": {},
   "outputs": [
    {
     "data": {
      "text/plain": [
       "{'best_trial_dir': 'new_trajectories_T20200816_210636_008457/pick_two_obj_and_place-Cloth-None-SinkBasin-422/trial_T20200818_005722_610055',\n",
       " 'max_collected_subgoals': 6,\n",
       " 'full_traj_success': False}"
      ]
     },
     "execution_count": 52,
     "metadata": {},
     "output_type": "execute_result"
    }
   ],
   "source": [
    "task_to_traj['pick_two_obj_and_place-Cloth-None-SinkBasin-422']"
   ]
  },
  {
   "cell_type": "markdown",
   "metadata": {},
   "source": [
    "## look at subgoal distribution"
   ]
  },
  {
   "cell_type": "code",
   "execution_count": 7,
   "metadata": {},
   "outputs": [],
   "source": [
    "subgoal_counts = defaultdict(int)\n",
    "\n",
    "for k in task_to_traj.keys():\n",
    "    subgoal_counts[task_to_traj[k]['max_collected_subgoals']] += 1"
   ]
  },
  {
   "cell_type": "code",
   "execution_count": 8,
   "metadata": {},
   "outputs": [
    {
     "data": {
      "text/plain": [
       "[(3, 3291),\n",
       " (6, 1194),\n",
       " (1, 1171),\n",
       " (2, 1150),\n",
       " (5, 733),\n",
       " (4, 365),\n",
       " (7, 314),\n",
       " (9, 276),\n",
       " (8, 143),\n",
       " (12, 94),\n",
       " (11, 43),\n",
       " (10, 36),\n",
       " (13, 32),\n",
       " (14, 8),\n",
       " (16, 1)]"
      ]
     },
     "execution_count": 8,
     "metadata": {},
     "output_type": "execute_result"
    }
   ],
   "source": [
    "sorted([(num_subgoal, ct)for num_subgoal, ct in subgoal_counts.items()], key=lambda x: x[1], reverse=True)"
   ]
  },
  {
   "cell_type": "code",
   "execution_count": 16,
   "metadata": {},
   "outputs": [
    {
     "name": "stdout",
     "output_type": "stream",
     "text": [
      "pick_two_obj_and_place-TomatoSliced-None-SinkBasin-22\n"
     ]
    }
   ],
   "source": [
    "for k in task_to_traj.keys():\n",
    "    if task_to_traj[k]['max_collected_subgoals'] == 16:\n",
    "        print(k)"
   ]
  },
  {
   "cell_type": "markdown",
   "metadata": {},
   "source": [
    "## clean up the collected trajectory to remove the failed last step"
   ]
  },
  {
   "cell_type": "code",
   "execution_count": 22,
   "metadata": {
    "tags": []
   },
   "outputs": [],
   "source": [
    "# clean up the collected trajectory to remove the failed last step\n",
    "\n",
    "split_entries = []\n",
    "images_to_move = {} # [(src, des)]\n",
    "for task_name in task_to_traj.keys():\n",
    "    \n",
    "    # first check if clean traj is already saved\n",
    "    # pick_two_obj_and_place-Bread-None-Microwave-20/trial_T20200817_133657_955225\n",
    "    task_name_trial_name = '/'.join(task_to_traj[task_name]['best_trial_dir'].split('/')[-2:])\n",
    "    # /home/hoyeung/json_data_augmentation_20200819/pick_two_obj_and_place-Bread-None-Microwave-20/trial_T20200817_133657_955225\n",
    "    traj_data_out_dir = os.path.join(dout, task_name_trial_name)\n",
    "    if not os.path.exists(os.path.join(traj_data_out_dir, 'traj_data.json')):\n",
    "#     if True:\n",
    "        # make directory if not exists\n",
    "        if not os.path.exists(traj_data_out_dir):\n",
    "            os.makedirs(traj_data_out_dir)\n",
    "\n",
    "        num_complete_subgoals = task_to_traj[task_name]['max_collected_subgoals'] \n",
    "        traj_data_p = os.path.join(data, task_to_traj[task_name]['best_trial_dir'], 'traj_data.json')\n",
    "        with open(traj_data_p, 'r') as f:\n",
    "            traj_data = json.load(f)\n",
    "\n",
    "        if task_to_traj[task_name]['full_traj_success']:\n",
    "            pass # anything to do here?\n",
    "        else:\n",
    "            # remove the failed last subgoal from plan\n",
    "            traj_data['plan']['high_pddl'].pop()\n",
    "            # e.g. 5 complete, high idx to keep 0, 1, 2, 3, 4, all low actions with high idx 5 should be removed\n",
    "            while traj_data['plan']['low_actions'][-1]['high_idx'] >= num_complete_subgoals:\n",
    "                traj_data['plan']['low_actions'].pop()\n",
    "            \n",
    "            # remove the failed last subgoal from language template\n",
    "            traj_data['template']['high_descs'].pop()\n",
    "\n",
    "            # remove the failed last subgoal from image frames\n",
    "            while traj_data['images'][-1]['high_idx'] >= num_complete_subgoals:\n",
    "                traj_data['images'].pop()\n",
    "\n",
    "        # prepare to copy the only useful images over\n",
    "        images_to_move[task_name] = [\n",
    "            (os.path.join(data, task_to_traj[task_name]['best_trial_dir'], 'raw_images', image_entry['image_name']),\n",
    "            os.path.join(traj_data_out_dir, 'raw_images', image_entry['image_name']))\n",
    "            for image_entry in traj_data['images']]\n",
    "\n",
    "        # save the trajectory to dout = '/data_alfred/json_data_augmentation_<date>/'\n",
    "        traj_data_out_p = os.path.join(traj_data_out_dir, 'traj_data.json')\n",
    "        # import pdb; pdb.set_trace()\n",
    "        with open(traj_data_out_p, 'w') as f:\n",
    "            json.dump(traj_data, f)\n",
    "\n",
    "    # Save to raw split\n",
    "    split_entries.append({\n",
    "        'task':task_name_trial_name, \n",
    "        'repeat_idx':0, \n",
    "        'full_traj_success':task_to_traj[task_name]['full_traj_success'],\n",
    "        'collected_subgoals': task_to_traj[task_name]['collected_subgoals']\n",
    "    })\n",
    "\n",
    "# Save to raw split\n",
    "split_path = os.path.join(dout_split, 'sample_failed_20200820_raw.json')\n",
    "with open(split_path, 'w') as f:\n",
    "    json.dump({'augmentation':split_entries}, f)\n"
   ]
  },
  {
   "cell_type": "code",
   "execution_count": 14,
   "metadata": {},
   "outputs": [
    {
     "data": {
      "text/plain": [
       "5779"
      ]
     },
     "execution_count": 14,
     "metadata": {},
     "output_type": "execute_result"
    }
   ],
   "source": [
    "# first 2 rounds\n",
    "len(images_to_move)"
   ]
  },
  {
   "cell_type": "code",
   "execution_count": 26,
   "metadata": {},
   "outputs": [
    {
     "data": {
      "text/plain": [
       "{'task': 'look_at_obj_in_light-BaseballBat-None-DeskLamp-301/trial_T20200814_164125_595727',\n",
       " 'repeat_idx': 0,\n",
       " 'full_traj_success': False,\n",
       " 'collected_subgoals': 2}"
      ]
     },
     "execution_count": 26,
     "metadata": {},
     "output_type": "execute_result"
    }
   ],
   "source": [
    "split_entries[0]"
   ]
  },
  {
   "cell_type": "code",
   "execution_count": 23,
   "metadata": {},
   "outputs": [
    {
     "data": {
      "text/plain": [
       "3072"
      ]
     },
     "execution_count": 23,
     "metadata": {},
     "output_type": "execute_result"
    }
   ],
   "source": [
    "# third round\n",
    "len(images_to_move)"
   ]
  },
  {
   "cell_type": "code",
   "execution_count": 24,
   "metadata": {},
   "outputs": [
    {
     "data": {
      "text/plain": [
       "8851"
      ]
     },
     "execution_count": 24,
     "metadata": {},
     "output_type": "execute_result"
    }
   ],
   "source": [
    "5779 + 3072"
   ]
  },
  {
   "cell_type": "code",
   "execution_count": 30,
   "metadata": {},
   "outputs": [
    {
     "data": {
      "text/plain": [
       "('/root/data_alfred/demo_generated/new_trajectories_T20200820_065140_149815/pick_and_place_with_movable_recep-Lettuce-Bowl-DiningTable-16/trial_T20200820_065158_967281/raw_images/000000000.png',\n",
       " '/root/data_alfred/json_data_augmentation_20200820/pick_and_place_with_movable_recep-Lettuce-Bowl-DiningTable-16/trial_T20200820_065158_967281/raw_images/000000000.png')"
      ]
     },
     "execution_count": 30,
     "metadata": {},
     "output_type": "execute_result"
    }
   ],
   "source": [
    "images_to_move['pick_and_place_with_movable_recep-Lettuce-Bowl-DiningTable-16'][0]"
   ]
  },
  {
   "cell_type": "markdown",
   "metadata": {},
   "source": [
    "## Copy images over"
   ]
  },
  {
   "cell_type": "code",
   "execution_count": 31,
   "metadata": {},
   "outputs": [],
   "source": [
    "# copy only useful image files over\n",
    "dest_paths = []\n",
    "for key in images_to_move.keys():\n",
    "    for src_fpath, dest_fpath in images_to_move[key]:\n",
    "        os.makedirs(os.path.dirname(dest_fpath), exist_ok=True)\n",
    "        dest_paths.append(shutil.copy(src_fpath, dest_fpath))"
   ]
  },
  {
   "cell_type": "code",
   "execution_count": 16,
   "metadata": {},
   "outputs": [
    {
     "data": {
      "text/plain": [
       "917884"
      ]
     },
     "execution_count": 16,
     "metadata": {},
     "output_type": "execute_result"
    }
   ],
   "source": [
    "# first 2 rounds\n",
    "len(dest_paths)"
   ]
  },
  {
   "cell_type": "code",
   "execution_count": 32,
   "metadata": {},
   "outputs": [
    {
     "data": {
      "text/plain": [
       "496918"
      ]
     },
     "execution_count": 32,
     "metadata": {},
     "output_type": "execute_result"
    }
   ],
   "source": [
    "# third round\n",
    "len(dest_paths)"
   ]
  },
  {
   "cell_type": "markdown",
   "metadata": {},
   "source": [
    "## Ignore below"
   ]
  },
  {
   "cell_type": "code",
   "execution_count": 2,
   "metadata": {},
   "outputs": [],
   "source": [
    "import json\n",
    "with open('/data_alfred/splits/may17.json', 'r') as f:\n",
    "    splits = json.load(f) "
   ]
  },
  {
   "cell_type": "code",
   "execution_count": 3,
   "metadata": {},
   "outputs": [
    {
     "data": {
      "text/plain": [
       "{'repeat_idx': 0,\n",
       " 'task': 'pick_cool_then_place_in_recep-LettuceSliced-None-DiningTable-17/trial_T20190909_070538_437648'}"
      ]
     },
     "execution_count": 3,
     "metadata": {},
     "output_type": "execute_result"
    }
   ],
   "source": [
    "splits['train'][0]"
   ]
  },
  {
   "cell_type": "code",
   "execution_count": 9,
   "metadata": {},
   "outputs": [
    {
     "data": {
      "text/plain": [
       "dict_keys(['images', 'plan', 'scene', 'template', 'pddl_state', 'dataset_params', 'pddl_params', 'task_type', 'task_id'])"
      ]
     },
     "execution_count": 9,
     "metadata": {},
     "output_type": "execute_result"
    }
   ],
   "source": [
    "with open(os.path.join(data, task_to_traj['pick_clean_then_place_in_recep-SoapBar-None-CounterTop-421']['best_trial_dir'], 'traj_data.json'), 'r') as f:\n",
    "    traj_data = json.load(f)\n",
    "\n",
    "traj_data.keys()"
   ]
  },
  {
   "cell_type": "code",
   "execution_count": 11,
   "metadata": {},
   "outputs": [
    {
     "data": {
      "text/plain": [
       "['000000000.png',\n",
       " '000000001.png',\n",
       " '000000002.png',\n",
       " '000000003.png',\n",
       " '000000004.png',\n",
       " '000000005.png',\n",
       " '000000006.png',\n",
       " '000000007.png',\n",
       " '000000008.png',\n",
       " '000000009.png',\n",
       " '000000010.png',\n",
       " '000000011.png',\n",
       " '000000012.png',\n",
       " '000000013.png',\n",
       " '000000014.png',\n",
       " '000000015.png',\n",
       " '000000016.png',\n",
       " '000000017.png',\n",
       " '000000018.png',\n",
       " '000000019.png',\n",
       " '000000020.png',\n",
       " '000000021.png',\n",
       " '000000022.png',\n",
       " '000000023.png',\n",
       " '000000024.png',\n",
       " '000000025.png',\n",
       " '000000026.png',\n",
       " '000000027.png',\n",
       " '000000028.png',\n",
       " '000000029.png',\n",
       " '000000030.png',\n",
       " '000000031.png',\n",
       " '000000032.png',\n",
       " '000000033.png',\n",
       " '000000034.png',\n",
       " '000000035.png',\n",
       " '000000036.png',\n",
       " '000000037.png',\n",
       " '000000038.png',\n",
       " '000000039.png',\n",
       " '000000040.png',\n",
       " '000000041.png',\n",
       " '000000042.png',\n",
       " '000000043.png',\n",
       " '000000044.png',\n",
       " '000000045.png',\n",
       " '000000046.png',\n",
       " '000000047.png',\n",
       " '000000048.png',\n",
       " '000000049.png',\n",
       " '000000050.png',\n",
       " '000000051.png',\n",
       " '000000052.png',\n",
       " '000000053.png',\n",
       " '000000054.png',\n",
       " '000000055.png',\n",
       " '000000056.png',\n",
       " '000000057.png',\n",
       " '000000058.png',\n",
       " '000000059.png',\n",
       " '000000060.png',\n",
       " '000000061.png',\n",
       " '000000062.png',\n",
       " '000000063.png',\n",
       " '000000064.png',\n",
       " '000000065.png',\n",
       " '000000066.png',\n",
       " '000000067.png',\n",
       " '000000068.png',\n",
       " '000000069.png',\n",
       " '000000070.png',\n",
       " '000000071.png',\n",
       " '000000072.png',\n",
       " '000000073.png',\n",
       " '000000074.png',\n",
       " '000000075.png',\n",
       " '000000076.png',\n",
       " '000000077.png',\n",
       " '000000078.png',\n",
       " '000000079.png',\n",
       " '000000080.png',\n",
       " '000000081.png',\n",
       " '000000082.png',\n",
       " '000000083.png',\n",
       " '000000084.png',\n",
       " '000000085.png',\n",
       " '000000086.png',\n",
       " '000000087.png',\n",
       " '000000088.png',\n",
       " '000000089.png',\n",
       " '000000090.png',\n",
       " '000000091.png',\n",
       " '000000092.png',\n",
       " '000000093.png',\n",
       " '000000094.png',\n",
       " '000000095.png',\n",
       " '000000096.png',\n",
       " '000000097.png',\n",
       " '000000098.png',\n",
       " '000000099.png',\n",
       " '000000100.png',\n",
       " '000000101.png',\n",
       " '000000102.png',\n",
       " '000000103.png',\n",
       " '000000104.png',\n",
       " '000000105.png',\n",
       " '000000106.png',\n",
       " '000000107.png',\n",
       " '000000108.png',\n",
       " '000000109.png',\n",
       " '000000110.png',\n",
       " '000000111.png',\n",
       " '000000112.png',\n",
       " '000000113.png',\n",
       " '000000114.png',\n",
       " '000000115.png',\n",
       " '000000116.png',\n",
       " '000000117.png',\n",
       " '000000118.png',\n",
       " '000000119.png',\n",
       " '000000120.png',\n",
       " '000000121.png',\n",
       " '000000122.png',\n",
       " '000000123.png',\n",
       " '000000124.png',\n",
       " '000000125.png',\n",
       " '000000126.png',\n",
       " '000000127.png',\n",
       " '000000128.png',\n",
       " '000000129.png',\n",
       " '000000130.png',\n",
       " '000000131.png',\n",
       " '000000132.png',\n",
       " '000000133.png',\n",
       " '000000134.png',\n",
       " '000000135.png',\n",
       " '000000136.png',\n",
       " '000000137.png',\n",
       " '000000138.png',\n",
       " '000000139.png',\n",
       " '000000140.png',\n",
       " '000000141.png',\n",
       " '000000142.png',\n",
       " '000000143.png',\n",
       " '000000144.png',\n",
       " '000000145.png',\n",
       " '000000146.png',\n",
       " '000000147.png',\n",
       " '000000148.png',\n",
       " '000000149.png',\n",
       " '000000150.png',\n",
       " '000000151.png',\n",
       " '000000152.png',\n",
       " '000000153.png',\n",
       " '000000154.png',\n",
       " '000000155.png',\n",
       " '000000156.png',\n",
       " '000000157.png',\n",
       " '000000158.png',\n",
       " '000000159.png',\n",
       " '000000160.png',\n",
       " '000000161.png',\n",
       " '000000162.png',\n",
       " '000000163.png',\n",
       " '000000164.png',\n",
       " '000000165.png',\n",
       " '000000166.png',\n",
       " '000000167.png',\n",
       " '000000168.png',\n",
       " '000000169.png',\n",
       " '000000170.png',\n",
       " '000000171.png',\n",
       " '000000172.png',\n",
       " '000000173.png',\n",
       " '000000174.png',\n",
       " '000000175.png',\n",
       " '000000176.png',\n",
       " '000000177.png',\n",
       " '000000178.png',\n",
       " '000000179.png',\n",
       " '000000180.png',\n",
       " '000000181.png',\n",
       " '000000182.png',\n",
       " '000000183.png',\n",
       " '000000184.png',\n",
       " '000000185.png',\n",
       " '000000186.png',\n",
       " '000000187.png']"
      ]
     },
     "execution_count": 11,
     "metadata": {},
     "output_type": "execute_result"
    }
   ],
   "source": [
    "[image_entry['image_name'] for image_entry in traj_data['images']]"
   ]
  },
  {
   "cell_type": "code",
   "execution_count": null,
   "metadata": {},
   "outputs": [],
   "source": []
  }
 ],
 "metadata": {
  "kernelspec": {
   "display_name": "Python 3",
   "language": "python",
   "name": "python3"
  },
  "language_info": {
   "codemirror_mode": {
    "name": "ipython",
    "version": 3
   },
   "file_extension": ".py",
   "mimetype": "text/x-python",
   "name": "python",
   "nbconvert_exporter": "python",
   "pygments_lexer": "ipython3",
   "version": "3.6.9"
  }
 },
 "nbformat": 4,
 "nbformat_minor": 2
}
