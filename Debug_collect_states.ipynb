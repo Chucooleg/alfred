{
 "cells": [
  {
   "cell_type": "code",
   "execution_count": 1,
   "metadata": {},
   "outputs": [],
   "source": [
    "import os\n",
    "os.environ['ALFRED_ROOT'] = '/root/data/home/hoyeung/alfred/'\n",
    "\n",
    "import sys\n",
    "sys.path.append(os.path.join(os.environ['ALFRED_ROOT']))\n",
    "sys.path.append(os.path.join(os.environ['ALFRED_ROOT'], 'models'))\n",
    "sys.path.append(os.path.join(os.environ['ALFRED_ROOT'], 'gen'))\n",
    "# sys.path.append(os.path.join(os.environ['ALFRED_ROOT'], 'models', 'eval'))\n",
    "\n",
    "import torch\n",
    "import pprint\n",
    "import json\n",
    "from importlib import import_module, reload\n",
    "from gen.utils.image_util import decompress_mask as util_decompress_mask\n",
    "import gen.constants as constants\n",
    "import pickle"
   ]
  },
  {
   "cell_type": "code",
   "execution_count": 2,
   "metadata": {},
   "outputs": [],
   "source": [
    "import json\n",
    "import numpy as np\n",
    "from PIL import Image\n",
    "from datetime import datetime\n",
    "from eval.eval import Eval\n",
    "from env.thor_env import ThorEnv\n",
    "from eval.eval_task import EvalTask\n",
    "from collections import defaultdict"
   ]
  },
  {
   "cell_type": "markdown",
   "metadata": {},
   "source": [
    "## UPDATE DATE & SPLIT"
   ]
  },
  {
   "cell_type": "code",
   "execution_count": 3,
   "metadata": {},
   "outputs": [],
   "source": [
    "date = '20200511'\n",
    "split_name = 'train'"
   ]
  },
  {
   "cell_type": "code",
   "execution_count": 4,
   "metadata": {},
   "outputs": [],
   "source": [
    "import logging\n",
    "logging.basicConfig(filename='/root/data_alfred/splits/collect_states_{}_{}.log'.format(date, split_name),level=logging.DEBUG)"
   ]
  },
  {
   "cell_type": "code",
   "execution_count": 5,
   "metadata": {},
   "outputs": [],
   "source": [
    "class args:\n",
    "    pass\n",
    "\n",
    "# settings\n",
    "args.splits = '/root/data_alfred/splits/apr25.json'\n",
    "args.data = '/root/data_alfred/json_feat_2.1.0'\n",
    "args.reward_config = 'models/config/rewards.json'\n",
    "args.eval_split = 'valid_seen'\n",
    "args.model_path = '/root/data_alfred/pretrained_model/model:seq2seq_im_mask,name:base30_pm010_sg010_01/best_seen.pth'\n",
    "args.model = 'models.model.seq2seq_im_mask'\n",
    "args.preprocess = False\n",
    "args.shuffle = False\n",
    "args.gpu = False\n",
    "args.num_threads = 1  \n",
    "\n",
    "# eval params\n",
    "args.max_steps = 1000\n",
    "args.max_fails = 10\n",
    "\n",
    "# eval settings\n",
    "args.subgoals = ''\n",
    "args.smooth_nav = False\n",
    "args.skip_model_unroll_with_expert = False\n",
    "args.no_teacher_force_unroll_with_expert = False\n",
    "\n",
    "# debug\n",
    "args.debug = False\n",
    "args.fast_epoch = False"
   ]
  },
  {
   "cell_type": "code",
   "execution_count": 6,
   "metadata": {},
   "outputs": [],
   "source": [
    "def load_task_json(task):\n",
    "    '''\n",
    "    load preprocessed json from disk\n",
    "    '''\n",
    "    json_path = os.path.join(args.data, task['task'], '%s' % 'pp', 'ann_%d.json' % task['repeat_idx'])\n",
    "    with open(json_path) as f:\n",
    "        data = json.load(f)\n",
    "    return data"
   ]
  },
  {
   "cell_type": "code",
   "execution_count": 7,
   "metadata": {},
   "outputs": [],
   "source": [
    "def decompress_mask(compressed_mask):\n",
    "    '''\n",
    "    decompress mask from json files\n",
    "    '''\n",
    "    mask = np.array(util_decompress_mask(compressed_mask))\n",
    "    mask = np.expand_dims(mask, axis=0)\n",
    "    return mask\n",
    "\n",
    "class CollectStates(EvalTask): \n",
    "    \n",
    "    object_state_list = ['isToggled', 'isBroken', 'isFilledWithLiquid', 'isDirty',\n",
    "                  'isUsedUp', 'isCooked', 'ObjectTemperature', 'isSliced',\n",
    "                  'isOpen', 'isPickedUp', 'mass', 'receptacleObjectIds']\n",
    "\n",
    "    object_symbol_list = constants.OBJECTS\n",
    "    \n",
    "    @classmethod\n",
    "    def get_object_list(cls, traj_data):\n",
    "        # TODO rewrite\n",
    "        object_list = [ob['objectName'] for ob in traj_data['scene']['object_poses']]\n",
    "        for ob in object_list:\n",
    "            assert ob.split('_')[0] in constants.OBJECTS\n",
    "        return object_list\n",
    "    \n",
    "    @classmethod\n",
    "    def get_object_states(cls, metadata):\n",
    "        object_states = defaultdict(dict)\n",
    "        for ob in metadata['objects']:\n",
    "            symbol = ob['name'].split('_')[0]\n",
    "            # assert symbol in cls.object_symbol_list\n",
    "            object_states[ob['name']]['symbol'] = symbol\n",
    "            object_states[ob['name']]['states'] = {state:ob[state] for state in cls.object_state_list}\n",
    "            object_states[ob['name']]['states']['parentReceptacles'] = ob['parentReceptacles'][0].split('|')[0] if ob['parentReceptacles'] is not None else None\n",
    "        return object_states\n",
    "\n",
    "    @classmethod    \n",
    "    def divide_objects_by_change(cls, object_states_curr, object_states_last):\n",
    "        objects_unchanged = []\n",
    "        objects_changed = []\n",
    "        for ob_name in object_states_last.keys():\n",
    "            changed = False\n",
    "            for state in cls.object_state_list + ['parentReceptacles']:\n",
    "                if state in object_states_last[ob_name]['states'].keys():\n",
    "                    if object_states_last[ob_name]['states'][state] != object_states_curr[ob_name]['states'][state]:\n",
    "                        changed = True\n",
    "            if changed == False:\n",
    "                objects_unchanged.append(ob_name)\n",
    "            else:\n",
    "                objects_changed.append(ob_name)\n",
    "        return objects_changed, objects_unchanged\n",
    "\n",
    "    @classmethod  \n",
    "    def get_unchanged_symbols(cls, objects_changed, objects_unchanged, symbol_set):\n",
    "        objects_symbols_changed = [ob_name.split('_')[0] for ob_name in objects_changed]\n",
    "        objects_symbols_unchanged = [ob_name.split('_')[0] for ob_name in objects_unchanged]\n",
    "        return list((set(objects_symbols_unchanged) - set(objects_symbols_changed)) & symbol_set)\n",
    "\n",
    "    @classmethod\n",
    "    def get_object_symbols_present_in_scene(cls, traj_data):\n",
    "        object_list = [ob['objectName'] for ob in traj_data['scene']['object_poses']]\n",
    "        extracted_symbols = [ob.split('_')[0] for ob in object_list]\n",
    "        # for symbol in extracted_symbols:\n",
    "        #     assert symbol in cls.object_symbol_list\n",
    "        return extracted_symbols\n",
    "\n",
    "    @classmethod\n",
    "    def get_receptacle_symbols_present_in_scene(cls, metadata):\n",
    "        receptacle_list = [ob['name'] for ob in metadata['objects'] if ob['receptacle']]\n",
    "        extracted_symbols = [ob.split('_')[0] for ob in receptacle_list]\n",
    "        return extracted_symbols\n",
    "\n",
    "    @classmethod\n",
    "    def get_visibility(cls, metadata, object_symbols, receptacle_symbols):\n",
    "        visible_objects = {ob:False for ob in object_symbols}\n",
    "        visible_receptacles = {recp:False for recp in receptacle_symbols}\n",
    "        for ob in metadata['objects']:\n",
    "            if ob['visible']:\n",
    "                symbol = ob['name'].split('_')[0]\n",
    "                if ob['receptacle']:\n",
    "                    visible_receptacles[symbol] = True\n",
    "                else:\n",
    "                    visible_objects[symbol] = True\n",
    "        return [ob for ob in visible_objects.keys() if visible_objects[ob]], [recp for recp in visible_receptacles.keys() if visible_receptacles[recp]]\n",
    "        \n",
    "    @classmethod\n",
    "    # add lock back\n",
    "    def evaluate(cls, env, r_idx, traj_data, args, successes, failures, results, ct):\n",
    "        \n",
    "        logging.info('count = {}'.format(ct))\n",
    "        logging.info(traj_data['root'])\n",
    "        logging.info(traj_data['task_type'])\n",
    "        \n",
    "        # setup scene\n",
    "        reward_type = 'dense'\n",
    "        cls.setup_scene(env, traj_data, r_idx, args, reward_type=reward_type)\n",
    "        \n",
    "        # goal instr\n",
    "        goal_instr = traj_data['turk_annotations']['anns'][r_idx]['task_desc']\n",
    "        \n",
    "        # ground-truth actions\n",
    "        # e.g. ['LookDown_15', 'MoveAhead_25', 'MoveAhead_25', ... '<<stop>>']\n",
    "        groundtruth_action_low = [a['discrete_action']['action'] for a in traj_data['plan']['low_actions']]\n",
    "        groundtruth_action_low.append(cls.STOP_TOKEN)\n",
    "        # e.g. [0,0,0, ... , 11]\n",
    "        groundtruth_subgoal_alignment = traj_data['num']['low_to_high_idx']\n",
    "        \n",
    "        # ground-truth mask and valid interacts\n",
    "        # lenght = total T\n",
    "        # e.g. [0,1,0, ... , 1]\n",
    "        action_low_group = [a for a_group in traj_data['num']['action_low'] for a in a_group]\n",
    "        groundtruth_valid_interacts = [a['valid_interact'] for a in action_low_group]\n",
    "        # len=num timestep with valid interact, np shape (1 , 300 , 300)\n",
    "        groundtruth_low_mask = [decompress_mask(a['mask']) for a in action_low_group if a['mask'] is not None]\n",
    "        \n",
    "        # ground-truth high-level subgoals\n",
    "        # e.g. ['GotoLocation', 'PickupObject', 'SliceObject', 'GotoLocation', 'PutObject', ... 'NoOp']\n",
    "        groundtruth_action_high = [a['discrete_action']['action'] for a in traj_data['plan']['high_pddl']]\n",
    "        \n",
    "        assert len(groundtruth_action_low) == len(groundtruth_subgoal_alignment) == len(groundtruth_valid_interacts)\n",
    "        assert len(groundtruth_action_high) == groundtruth_subgoal_alignment[-1] + 1\n",
    "        assert sum(groundtruth_valid_interacts) == len(groundtruth_low_mask)\n",
    "\n",
    "        # initialize state dictionary for all timesteps\n",
    "        states = []\n",
    "\n",
    "        # get symbols and initial object states\n",
    "        event = env.last_event\n",
    "        obj_symbol_set = set(cls.get_object_symbols_present_in_scene(traj_data))\n",
    "        receptacle_symbol_set = set(cls.get_receptacle_symbols_present_in_scene(event.metadata))\n",
    "        object_states_last = cls.get_object_states(event.metadata) # includes receptacles\n",
    "        \n",
    "        done, success = False, False\n",
    "        fails = 0\n",
    "        t = 0\n",
    "        reward = 0\n",
    "        action, mask = None, None\n",
    "        interact_ct = 0\n",
    "        high_idx = -1\n",
    "        while not done:            \n",
    "            # if last action was stop, break\n",
    "            if action == cls.STOP_TOKEN:\n",
    "                done = True\n",
    "                logging.info(\"predicted STOP\")\n",
    "                break\n",
    "            \n",
    "#             import pdb;pdb.set_trace()\n",
    "            if high_idx < groundtruth_subgoal_alignment[t]:\n",
    "                high_idx = groundtruth_subgoal_alignment[t]\n",
    "                new_subgoal = True\n",
    "            else:\n",
    "                new_subgoal = False\n",
    "            \n",
    "            # collect metadata states only\n",
    "            states.append({\n",
    "                'new_subgoal': new_subgoal,\n",
    "                'time_step': t,\n",
    "                'subgoal_step': groundtruth_subgoal_alignment[t],\n",
    "                'subgoal': groundtruth_action_high[groundtruth_subgoal_alignment[t]],\n",
    "                'objects_metadata': event.metadata['objects'],\n",
    "            })\n",
    "                    \n",
    "#             # transition to next subgoal\n",
    "#             if high_idx < groundtruth_subgoal_alignment[t]:\n",
    "#                 high_idx = groundtruth_subgoal_alignment[t]\n",
    "# #                 event = env.last_event\n",
    "#                 object_states_curr = cls.get_object_states(event.metadata)\n",
    "#                 visible_objects, visible_receptacles = cls.get_visibility(event.metadata, obj_symbol_set, receptacle_symbol_set)\n",
    "#                 objects_changed, objects_unchanged = cls.divide_objects_by_change(object_states_curr, object_states_last)\n",
    "#                 states.append({\n",
    "#                     'time_step': t,\n",
    "#                     'subgoal_step': high_idx,\n",
    "#                     'raw_object_metadata': event.metadata['objects'],\n",
    "#                     'receptacle_states_delta': cls.get_unchanged_symbols(objects_changed, objects_unchanged, receptacle_symbol_set),\n",
    "#                     'object_states_delta': cls.get_unchanged_symbols(objects_changed, objects_unchanged, obj_symbol_set),\n",
    "#                     'visible_objects': visible_objects,\n",
    "#                     'visible_receptacles': visible_receptacles,\n",
    "#                     'subgoals': groundtruth_action_high[high_idx]\n",
    "#                 })\n",
    "#                 object_states_last = object_states_curr\n",
    "                \n",
    "    \n",
    "            # collect groundtruth action and mask\n",
    "            # single string\n",
    "            action = groundtruth_action_low[t]\n",
    "            # expect (300, 300)\n",
    "            if groundtruth_valid_interacts[t]:\n",
    "                mask = groundtruth_low_mask[interact_ct][0]\n",
    "                interact_ct += 1\n",
    "            else:\n",
    "                mask = None\n",
    "\n",
    "            # interact with the env\n",
    "            t_success, event, _, err, _ = env.va_interact(action, interact_mask=mask, smooth_nav=args.smooth_nav, debug=args.debug)\n",
    "            if not t_success:\n",
    "                fails += 1\n",
    "                if fails >= args.max_fails:\n",
    "                    logging.info(\"Interact API failed %d times\" % fails + \"; latest error '%s'\" % err)\n",
    "                    break            \n",
    " \n",
    "            # next time-step\n",
    "            t_reward, t_done = env.get_transition_reward()\n",
    "            reward += t_reward\n",
    "            t += 1\n",
    "        \n",
    "        # make sure we have used all masks\n",
    "        assert interact_ct == sum(groundtruth_valid_interacts)\n",
    "        \n",
    "        # check if goal was satisfied\n",
    "        goal_satisfied = env.get_goal_satisfied()\n",
    "        if goal_satisfied:\n",
    "            print(\"Goal Reached\")\n",
    "            success = True\n",
    "        assert success\n",
    "\n",
    "        # goal_conditions\n",
    "        pcs = env.get_goal_conditions_met()\n",
    "        goal_condition_success_rate = pcs[0] / float(pcs[1])\n",
    "\n",
    "        # SPL\n",
    "        path_len_weight = len(traj_data['plan']['low_actions'])\n",
    "        s_spl = (1 if goal_satisfied else 0) * min(1., path_len_weight / float(t))\n",
    "        pc_spl = goal_condition_success_rate * min(1., path_len_weight / float(t))\n",
    "\n",
    "        # path length weighted SPL\n",
    "        plw_s_spl = s_spl * path_len_weight\n",
    "        plw_pc_spl = pc_spl * path_len_weight\n",
    "        \n",
    "        \n",
    "        log_entry = {'trial': traj_data['task_id'],\n",
    "                     'type': traj_data['task_type'],\n",
    "                     'repeat_idx': int(r_idx),\n",
    "                     'goal_instr': goal_instr,\n",
    "                     'completed_goal_conditions': int(pcs[0]),\n",
    "                     'total_goal_conditions': int(pcs[1]),\n",
    "                     'goal_condition_success': float(goal_condition_success_rate),\n",
    "                     'success_spl': float(s_spl),\n",
    "                     'path_len_weighted_success_spl': float(plw_s_spl),\n",
    "                     'goal_condition_spl': float(pc_spl),\n",
    "                     'path_len_weighted_goal_condition_spl': float(plw_pc_spl),\n",
    "                     'path_len_weight': int(path_len_weight),\n",
    "                     'reward': float(reward)}\n",
    "        if success:\n",
    "            successes.append(log_entry)\n",
    "        else:\n",
    "            failures.append(log_entry)\n",
    "\n",
    "        # overall results\n",
    "        results['all'] = cls.get_metrics(successes, failures)\n",
    "\n",
    "        logging.info(\"-------------\")\n",
    "        logging.info(\"SR: %d/%d = %.3f\" % (results['all']['success']['num_successes'],\n",
    "                                    results['all']['success']['num_evals'],\n",
    "                                    results['all']['success']['success_rate']))\n",
    "        logging.info(\"GC: %d/%d = %.3f\" % (results['all']['goal_condition_success']['completed_goal_conditions'],\n",
    "                                    results['all']['goal_condition_success']['total_goal_conditions'],\n",
    "                                    results['all']['goal_condition_success']['goal_condition_success_rate']))\n",
    "        logging.info(\"PLW SR: %.3f\" % (results['all']['path_length_weighted_success_rate']))\n",
    "        logging.info(\"PLW GC: %.3f\" % (results['all']['path_length_weighted_goal_condition_success_rate']))\n",
    "        logging.info(\"-------------\")\n",
    "\n",
    "        # task type specific results\n",
    "        task_types = ['pick_and_place_simple', 'pick_clean_then_place_in_recep', 'pick_heat_then_place_in_recep',\n",
    "                      'pick_cool_then_place_in_recep', 'pick_two_obj_and_place', 'look_at_obj_in_light',\n",
    "                      'pick_and_place_with_movable_recep']\n",
    "        for task_type in task_types:\n",
    "            task_successes = [s for s in (list(successes)) if s['type'] == task_type]\n",
    "            task_failures = [f for f in (list(failures)) if f['type'] == task_type]\n",
    "            if len(task_successes) > 0 or len(task_failures) > 0:\n",
    "                results[task_type] = cls.get_metrics(task_successes, task_failures)\n",
    "            else:\n",
    "                results[task_type] = {}\n",
    "\n",
    "        logging.info(\"Goal Reached\")\n",
    "        outpath = os.path.join(traj_data['root'], 'pp', 'metadata_states.json')\n",
    "        logging.info('outpath = {}'.format(outpath))\n",
    "        with open(outpath, 'w') as f:\n",
    "            json.dump(states, f)\n",
    "\n",
    "        logging.info(\"----------------------------------------\")\n",
    " \n",
    "        return success, states, outpath"
   ]
  },
  {
   "cell_type": "code",
   "execution_count": 8,
   "metadata": {
    "scrolled": false
   },
   "outputs": [],
   "source": [
    "with open(args.splits, 'r') as f:\n",
    "    splits = json.load(f)"
   ]
  },
  {
   "cell_type": "code",
   "execution_count": 9,
   "metadata": {},
   "outputs": [
    {
     "data": {
      "text/plain": [
       "dict_keys(['tests_seen', 'tests_unseen', 'train', 'valid_seen', 'valid_unseen', 'train_sanity', 'train_sanity_v1', 'valid_seen_v1', 'valid_unseen_v1'])"
      ]
     },
     "execution_count": 9,
     "metadata": {},
     "output_type": "execute_result"
    }
   ],
   "source": [
    "splits.keys()"
   ]
  },
  {
   "cell_type": "code",
   "execution_count": null,
   "metadata": {},
   "outputs": [],
   "source": [
    "%%capture capt\n",
    "\n",
    "env = ThorEnv()\n",
    "\n",
    "success_ct = 0\n",
    "r_idx = 0\n",
    "success_outpaths = []\n",
    "successes = []\n",
    "failures = []\n",
    "results = {}\n",
    "failed_roots = []\n",
    "tasks = [task for task in splits[split_name] if task['repeat_idx'] == 0]\n",
    "tot_ct = len(tasks)\n",
    "\n",
    "ct = 0\n",
    "for task in tasks:\n",
    "    if task['repeat_idx'] == 0:\n",
    "        print(ct, '/', tot_ct)\n",
    "        traj_data = load_task_json(task)\n",
    "        print(traj_data['root'])\n",
    "        try:\n",
    "            success, states, outpath = CollectStates.evaluate(env, r_idx, traj_data, args, successes, failures, results, ct)\n",
    "            success_ct += 1\n",
    "            success_outpaths.append(outpath)\n",
    "        except:\n",
    "            logging.info('FAILED: {}'.format(traj_data['root']))\n",
    "            print('-----FAILED----')\n",
    "            failed_roots.append(traj_data['root'])\n",
    "        \n",
    "        ct += 1"
   ]
  },
  {
   "cell_type": "code",
   "execution_count": 14,
   "metadata": {},
   "outputs": [
    {
     "data": {
      "text/plain": [
       "6574"
      ]
     },
     "execution_count": 14,
     "metadata": {},
     "output_type": "execute_result"
    }
   ],
   "source": [
    "len(failed_roots)\n",
    "len(tasks)"
   ]
  },
  {
   "cell_type": "code",
   "execution_count": 15,
   "metadata": {},
   "outputs": [
    {
     "data": {
      "text/plain": [
       "'/root/data_alfred/json_feat_2.1.0/pick_cool_then_place_in_recep-LettuceSliced-None-DiningTable-17/trial_T20190909_070538_437648/pp/metadata_states.json'"
      ]
     },
     "execution_count": 15,
     "metadata": {},
     "output_type": "execute_result"
    }
   ],
   "source": [
    "success_outpaths[0]"
   ]
  },
  {
   "cell_type": "code",
   "execution_count": 12,
   "metadata": {},
   "outputs": [
    {
     "data": {
      "text/plain": [
       "\"ThorEnv started.\\n0 / 251\\n/root/data_alfred/json_feat_2.1.0/pick_heat_then_place_in_recep-PotatoSliced-None-SinkBasin-13/trial_T20190909_115736_122556\\nResetting ThorEnv\\nTask: Place a cooked potato slice in the sink\\nGoal Reached\\n1 / 251\\n/root/data_alfred/json_feat_2.1.0/pick_and_place_simple-Vase-None-CoffeeTable-207/trial_T20190909_091246_807206\\nResetting ThorEnv\\nTask: Place a vase on a coffee table\\nGoal Reached\\n2 / 251\\n/root/data_alfred/json_feat_2.1.0/pick_and_place_simple-Knife-None-SideTable-3/trial_T20190918_184236_557252\\nResetting ThorEnv\\nTask: place a knife on the microwave oven table\\nGoal Reached\\n3 / 251\\n/root/data_alfred/json_feat_2.1.0/pick_clean_then_place_in_recep-ButterKnife-None-Drawer-30/trial_T20190908_052007_212776\\nResetting ThorEnv\\nTask: Place a rinsed knife inside a drawer.\\nGoal Reached\\n4 / 251\\n/root/data_alfred/json_feat_2.1.0/pick_heat_then_place_in_recep-AppleSliced-None-CounterTop-14/trial_T20190907_232225_725376\\nResetting ThorEnv\\nTask: Place a cooked slice of apple to the right of the yellow knife on the counter.\\n-----FAILED----\\n5 / 251\\n/root/data_alfred/json_feat_2.1.0/pick_two_obj_and_place-Spoon-None-CounterTop-23/trial_T20190908_065238_500229\\nResetting ThorEnv\\nTask: Move two spoons to the kitchen counter. \\nGoal Reached\\n6 / 251\\n/root/data_alfred/json_feat_2.1.0/pick_and_place_with_movable_recep-Ladle-Pan-SinkBasin-4/trial_T20190908_192636_561572\\nResetting ThorEnv\\nTask: Put a spoon in a pan on the counter.\\nGoal Reached\\n7 / 251\\n/root/data_alfred/json_feat_2.1.0/pick_cool_then_place_in_recep-TomatoSliced-None-Microwave-12/trial_T20190908_165525_911839\\nResetting ThorEnv\\nTask: Put a chilled slice of tomato in the microwave.\\nGoal Reached\\n8 / 251\\n/root/data_alfred/json_feat_2.1.0/pick_clean_then_place_in_recep-Ladle-None-DiningTable-27/trial_T20190911_131350_027076\\nResetting ThorEnv\\nTask: put clean spoon on the table\\nGoal Reached\\n9 / 251\\n/root/data_alfred/json_feat_2.1.0/pick_clean_then_place_in_recep-AppleSliced-None-DiningTable-27/trial_T20190907_151802_277016\\nResetting ThorEnv\\nTask: Slice an apple or vegetable followed by rinsing it\\nGoal Reached\\n10 / 251\\n/root/data_alfred/json_feat_2.1.0/pick_and_place_simple-CreditCard-None-Drawer-227/trial_T20190909_010644_297017\\nResetting ThorEnv\\nTask: Put the credit card in the drawer.\\nGoal Reached\\n11 / 251\\n/root/data_alfred/json_feat_2.1.0/pick_and_place_with_movable_recep-TomatoSliced-Pan-Fridge-11/trial_T20190909_011522_113515\\nResetting ThorEnv\\nTask: To place a pan with a tomato slice in it in the fridge.\\nGoal Reached\\n12 / 251\\n/root/data_alfred/json_feat_2.1.0/pick_and_place_with_movable_recep-Watch-Bowl-SideTable-326/trial_T20190907_183137_838565\\nResetting ThorEnv\\nTask: Put the watch in the bowl on the nightstand. \\nGoal Reached\\n13 / 251\\n/root/data_alfred/json_feat_2.1.0/pick_two_obj_and_place-SprayBottle-None-Toilet-429/trial_T20190907_033843_707544\\nResetting ThorEnv\\nTask: Place spray bottles on the back of a toilet\\nGoal Reached\\n14 / 251\\n/root/data_alfred/json_feat_2.1.0/pick_cool_then_place_in_recep-Tomato-None-Microwave-13/trial_T20190910_173916_331859\\nResetting ThorEnv\\nTask: Put a chilled tomato in the microwave\\nGoal Reached\\n15 / 251\\n/root/data_alfred/json_feat_2.1.0/look_at_obj_in_light-RemoteControl-None-FloorLamp-218/trial_T20190907_164342_432289\\nResetting ThorEnv\\nTask: Turn a lamp on with a remote in hand.\\nGoal Reached\\n16 / 251\\n/root/data_alfred/json_feat_2.1.0/pick_two_obj_and_place-SoapBottle-None-Drawer-415/trial_T20190907_161729_798002\\nResetting ThorEnv\\nTask: Put two dispensers in the bottom drawer of the dresser.\\nGoal Reached\\n17 / 251\\n/root/data_alfred/json_feat_2.1.0/pick_heat_then_place_in_recep-Apple-None-DiningTable-26/trial_T20190907_060234_011675\\nResetting ThorEnv\\nTask: Put a heated apple on the table. \\nGoal Reached\\n18 / 251\\n/root/data_alfred/json_feat_2.1.0/pick_heat_then_place_in_recep-AppleSliced-None-GarbageCan-11/trial_T20190906_211222_551053\\nResetting ThorEnv\\nTask: Warming up an apple slice.\\nGoal Reached\\n19 / 251\\n/root/data_alfred/json_feat_2.1.0/pick_and_place_simple-RemoteControl-None-ArmChair-230/trial_T20190909_021000_274398\\nResetting ThorEnv\\nTask: Place a remote control on a chair.\\nGoal Reached\\n20 / 251\\n/root/data_alfred/json_feat_2.1.0/pick_heat_then_place_in_recep-Egg-None-CounterTop-2/trial_T20190908_122951_021026\\nResetting ThorEnv\\nTask: Place a heated egg on the kitchen island.\\nGoal Reached\\n21 / 251\\n/root/data_alfred/json_feat_2.1.0/pick_heat_then_place_in_recep-AppleSliced-None-Fridge-26/trial_T20190907_234650_780308\\nResetting ThorEnv\\nTask: Place an apple slice into the refrigerator on the bottom shelf. \\nGoal Reached\\n22 / 251\\n/root/data_alfred/json_feat_2.1.0/pick_two_obj_and_place-Newspaper-None-Drawer-224/trial_T20190911_101248_326533\\nResetting ThorEnv\\nTask: Place the two newsletters in a tv drawer.\\nGoal Reached\\n23 / 251\\n/root/data_alfred/json_feat_2.1.0/look_at_obj_in_light-Pillow-None-DeskLamp-323/trial_T20190908_053153_077977\\nResetting ThorEnv\\nTask: Look at a pillow by the light of a lamp.\\nGoal Reached\\n24 / 251\\n/root/data_alfred/json_feat_2.1.0/pick_and_place_with_movable_recep-Spatula-Bowl-SideTable-28/trial_T20190906_195919_700947\\nResetting ThorEnv\\nTask: Put away spatula in the container on black table\\nGoal Reached\\n25 / 251\\n/root/data_alfred/json_feat_2.1.0/pick_and_place_simple-Book-None-Sofa-229/trial_T20190907_042856_259139\\nResetting ThorEnv\\nTask: Move a book from a desk to a sofa.\\nGoal Reached\\n26 / 251\\n/root/data_alfred/json_feat_2.1.0/look_at_obj_in_light-CD-None-DeskLamp-320/trial_T20190907_224451_655673\\nResetting ThorEnv\\nTask: Carry a CD while turning on a lamp\\nGoal Reached\\n27 / 251\\n/root/data_alfred/json_feat_2.1.0/pick_clean_then_place_in_recep-Mug-None-CoffeeMachine-26/trial_T20190907_233056_022802\\nResetting ThorEnv\\nTask: Put a clean mug under the coffee maker.\\nGoal Reached\\n28 / 251\\n/root/data_alfred/json_feat_2.1.0/pick_two_obj_and_place-SprayBottle-None-Toilet-402/trial_T20190910_222914_814642\\nResetting ThorEnv\\nTask: Put the green spray bottles on the toilet\\nGoal Reached\\n29 / 251\\n/root/data_alfred/json_feat_2.1.0/pick_clean_then_place_in_recep-ButterKnife-None-Drawer-8/trial_T20190909_124425_112757\\nResetting ThorEnv\\nTask: Place a clean knife in a drawer.\\nGoal Reached\\n30 / 251\\n/root/data_alfred/json_feat_2.1.0/pick_heat_then_place_in_recep-Apple-None-SinkBasin-25/trial_T20190909_103008_353204\\nResetting ThorEnv\\nTask: put heated apple in sink\\nGoal Reached\\n31 / 251\\n/root/data_alfred/json_feat_2.1.0/look_at_obj_in_light-CreditCard-None-FloorLamp-207/trial_T20190907_031918_448619\\nResetting ThorEnv\\nTask: Examine the credit card by the light of the lamp. \\nGoal Reached\\n32 / 251\\n/root/data_alfred/json_feat_2.1.0/look_at_obj_in_light-Vase-None-DeskLamp-303/trial_T20190907_150418_457594\\nResetting ThorEnv\\nTask: Turn on the desk lamp while holding a yellow disc\\nGoal Reached\\n33 / 251\\n/root/data_alfred/json_feat_2.1.0/pick_cool_then_place_in_recep-Bowl-None-Cabinet-20/trial_T20190909_112912_154874\\nResetting ThorEnv\\nTask: put chilled bowl in cabinet\\nGoal Reached\\n34 / 251\\n/root/data_alfred/json_feat_2.1.0/pick_cool_then_place_in_recep-Apple-None-GarbageCan-2/trial_T20190906_195943_081289\\nResetting ThorEnv\\nTask: Place a cool apple in the white bin.\\nGoal Reached\\n35 / 251\\n/root/data_alfred/json_feat_2.1.0/look_at_obj_in_light-CreditCard-None-FloorLamp-227/trial_T20190908_173610_612042\\nResetting ThorEnv\\nTask: examine the credit card under a lamp\\nGoal Reached\\n36 / 251\\n/root/data_alfred/json_feat_2.1.0/pick_clean_then_place_in_recep-Tomato-None-CounterTop-25/trial_T20190909_012550_586494\\nResetting ThorEnv\\nTask: wash a tomato and put it on the counter\\nGoal Reached\\n37 / 251\\n/root/data_alfred/json_feat_2.1.0/pick_cool_then_place_in_recep-Pan-None-StoveBurner-18/trial_T20190906_181023_216915\\nResetting ThorEnv\\nTask: Place a chilled frying pan on the stove.\\nGoal Reached\\n38 / 251\\n/root/data_alfred/json_feat_2.1.0/pick_heat_then_place_in_recep-Tomato-None-Fridge-24/trial_T20190908_033721_967359\\nResetting ThorEnv\\nTask: Put a cooked tomato into the refrigerator.\\nGoal Reached\\n39 / 251\\n/root/data_alfred/json_feat_2.1.0/look_at_obj_in_light-AlarmClock-None-DeskLamp-323/trial_T20190909_044715_250790\\nResetting ThorEnv\\nTask: look at the clock under the lamp\\nGoal Reached\\n40 / 251\\n/root/data_alfred/json_feat_2.1.0/pick_two_obj_and_place-KeyChain-None-Shelf-207/trial_T20190909_131701_482365\\nResetting ThorEnv\\nTask: Put two sets of keys on a shelf.\\nGoal Reached\\n41 / 251\\n/root/data_alfred/json_feat_2.1.0/pick_cool_then_place_in_recep-Pot-None-DiningTable-21/trial_T20190909_004531_429065\\nResetting ThorEnv\\nTask: Put a cold pot on a table.\\nGoal Reached\\n42 / 251\\n/root/data_alfred/json_feat_2.1.0/pick_and_place_simple-WineBottle-None-Shelf-7/trial_T20190907_200154_378982\\nResetting ThorEnv\\nTask: Put a wine bottle on the second from the bottom shelf, in the kitchen. \\nGoal Reached\\n43 / 251\\n/root/data_alfred/json_feat_2.1.0/pick_cool_then_place_in_recep-Bread-None-CounterTop-7/trial_T20190909_045605_307949\\nResetting ThorEnv\\nTask: Chill the bread from the counter in the fridge and put it to the left of the stove.\\nGoal Reached\\n44 / 251\\n/root/data_alfred/json_feat_2.1.0/pick_two_obj_and_place-TissueBox-None-Toilet-426/trial_T20190909_044602_338962\\nResetting ThorEnv\\nTask: Move two tissue boxes from the green cabinet counter top to the toilet\\nGoal Reached\\n45 / 251\\n/root/data_alfred/json_feat_2.1.0/pick_cool_then_place_in_recep-BreadSliced-None-DiningTable-27/trial_T20190908_075813_148407\\nResetting ThorEnv\\nTask: Slice the bread, take a slice, put the slice in the fridge, put the slice on the table\\nGoal Reached\\n46 / 251\\n/root/data_alfred/json_feat_2.1.0/pick_and_place_simple-Candle-None-Cart-401/trial_T20190909_081908_677973\\nResetting ThorEnv\\nTask: Put a candle on a rack.\\nGoal Reached\\n47 / 251\\n/root/data_alfred/json_feat_2.1.0/pick_clean_then_place_in_recep-Lettuce-None-Fridge-19/trial_T20190908_100138_446072\\nResetting ThorEnv\\nTask: place clean lettuce inside of the kitchen fridge\\nGoal Reached\\n48 / 251\\n/root/data_alfred/json_feat_2.1.0/look_at_obj_in_light-Bowl-None-DeskLamp-316/trial_T20190908_230702_962704\\nResetting ThorEnv\\nTask: Examine a bowl by the light of a desk lamp.\\nGoal Reached\\n49 / 251\\n/root/data_alfred/json_feat_2.1.0/pick_clean_then_place_in_recep-SoapBar-None-BathtubBasin-423/trial_T20190908_064808_086925\\nResetting ThorEnv\\nTask: wash the pink bar by the sink, put the pink bar in the tub\\nGoal Reached\\n50 / 251\\n/root/data_alfred/json_feat_2.1.0/pick_clean_then_place_in_recep-Ladle-None-CounterTop-8/trial_T20190909_121908_219603\\nResetting ThorEnv\\nTask: Place a clean ladle on a counter.\\nGoal Reached\\n51 / 251\\n/root/data_alfred/json_feat_2.1.0/pick_and_place_simple-SoapBar-None-Cart-401/trial_T20190907_054906_608944\\nResetting ThorEnv\\nTask: To place the soap on the rack.\\nGoal Reached\\n52 / 251\\n/root/data_alfred/json_feat_2.1.0/pick_two_obj_and_place-Glassbottle-None-Shelf-1/trial_T20190907_122204_941737\\nResetting ThorEnv\\nTask: Put the vases on the wooden shelf\\nGoal Reached\\n53 / 251\\n/root/data_alfred/json_feat_2.1.0/pick_heat_then_place_in_recep-Plate-None-Cabinet-1/trial_T20190908_070946_578973\\nResetting ThorEnv\\nTask: Put a heated white plate in a cabinet.\\nGoal Reached\\n54 / 251\\n/root/data_alfred/json_feat_2.1.0/pick_heat_then_place_in_recep-TomatoSliced-None-SinkBasin-15/trial_T20190909_044151_889150\\nResetting ThorEnv\\nTask: Put a cooked slice of tomato in a sink.\\nGoal Reached\\n55 / 251\\n/root/data_alfred/json_feat_2.1.0/pick_heat_then_place_in_recep-AppleSliced-None-SinkBasin-30/trial_T20190909_001852_804129\\nResetting ThorEnv\\nTask: Put the warm slice apple in the sink\\nGoal Reached\\n56 / 251\\n/root/data_alfred/json_feat_2.1.0/pick_heat_then_place_in_recep-BreadSliced-None-DiningTable-26/trial_T20190908_023536_977733\\nResetting ThorEnv\\nTask: place a hot bread slice on the table\\nGoal Reached\\n57 / 251\\n/root/data_alfred/json_feat_2.1.0/pick_two_obj_and_place-SoapBar-None-Toilet-412/trial_T20190908_071602_531614\\nResetting ThorEnv\\nTask: To move two bars of soap to the back of the toilet. \\nGoal Reached\\n58 / 251\\n/root/data_alfred/json_feat_2.1.0/pick_cool_then_place_in_recep-Lettuce-None-CounterTop-11/trial_T20190908_222555_651605\\nResetting ThorEnv\\nTask: Place a chilled head of lettuce on a counter.\\nGoal Reached\\n59 / 251\\n/root/data_alfred/json_feat_2.1.0/pick_two_obj_and_place-Book-None-Desk-302/trial_T20190906_181233_363875\\nResetting ThorEnv\\nTask: Put two books on a desk.\\nGoal Reached\\n60 / 251\\n/root/data_alfred/json_feat_2.1.0/pick_and_place_with_movable_recep-Knife-Bowl-SideTable-28/trial_T20190907_074712_870488\\nResetting ThorEnv\\nTask: put the cup with the knife on the table \\nGoal Reached\\n61 / 251\\n/root/data_alfred/json_feat_2.1.0/look_at_obj_in_light-RemoteControl-None-FloorLamp-202/trial_T20190908_232929_254246\\nResetting ThorEnv\\nTask: Examine a remote control by the light of a floor lamp.\\nGoal Reached\\n62 / 251\\n/root/data_alfred/json_feat_2.1.0/pick_clean_then_place_in_recep-SoapBar-None-BathtubBasin-413/trial_T20190908_191121_189259\\nResetting ThorEnv\\nTask: Wash a soap bar and put it in the tub.\\nGoal Reached\\n63 / 251\\n/root/data_alfred/json_feat_2.1.0/pick_heat_then_place_in_recep-AppleSliced-None-Fridge-18/trial_T20190911_045200_839773\\nResetting ThorEnv\\nTask: Cooking a sliced apple in the microwave\\nGoal Reached\\n64 / 251\\n/root/data_alfred/json_feat_2.1.0/pick_and_place_simple-Candle-None-Toilet-407/trial_T20190909_055248_059513\\nResetting ThorEnv\\nTask: Put a candle on the back of a toilet.\\nGoal Reached\\n65 / 251\\n/root/data_alfred/json_feat_2.1.0/pick_and_place_simple-SoapBar-None-Drawer-409/trial_T20190909_100455_031300\\nResetting ThorEnv\\nTask: Put a bar of soap in the drawer.\\nGoal Reached\\n66 / 251\\n/root/data_alfred/json_feat_2.1.0/pick_and_place_with_movable_recep-Pen-Mug-Desk-309/trial_T20190909_023218_500741\\nResetting ThorEnv\\nTask: Put a mug with a pen in it on the shelf.\\nGoal Reached\\n67 / 251\\n/root/data_alfred/json_feat_2.1.0/pick_clean_then_place_in_recep-Plate-None-Fridge-5/trial_T20190909_112854_740612\\nResetting ThorEnv\\nTask: Place a rinsed plate in the fridge.\\nGoal Reached\\n68 / 251\\n/root/data_alfred/json_feat_2.1.0/look_at_obj_in_light-Box-None-DeskLamp-205/trial_T20190907_074425_330493\\nResetting ThorEnv\\nTask: Turn on a light with a box in hand.\\nGoal Reached\\n69 / 251\\n/root/data_alfred/json_feat_2.1.0/pick_two_obj_and_place-Watch-None-Dresser-205/trial_T20190907_182211_592010\\nResetting ThorEnv\\nTask: Put two watches on the tv stand.\\nGoal Reached\\n70 / 251\\n/root/data_alfred/json_feat_2.1.0/pick_and_place_simple-SprayBottle-None-Cabinet-413/trial_T20190907_114903_411834\\nResetting ThorEnv\\nTask: Put a spray bottle into a cabinet under the sink.\\nGoal Reached\\n71 / 251\\n/root/data_alfred/json_feat_2.1.0/pick_and_place_simple-SprayBottle-None-Toilet-422/trial_T20190909_124835_952557\\nResetting ThorEnv\\nTask: put a spray bottle on top of the water tank\\nGoal Reached\\n72 / 251\\n/root/data_alfred/json_feat_2.1.0/pick_two_obj_and_place-SoapBar-None-Toilet-417/trial_T20190908_191330_157502\\nResetting ThorEnv\\nTask: To place two bars of soap on the back of the toilet.\\nGoal Reached\\n73 / 251\\n/root/data_alfred/json_feat_2.1.0/pick_cool_then_place_in_recep-LettuceSliced-None-SinkBasin-15/trial_T20190909_101835_683416\\nResetting ThorEnv\\nTask: put a chilled, cut slice of lettuce in the sink\\nGoal Reached\\n74 / 251\\n/root/data_alfred/json_feat_2.1.0/pick_heat_then_place_in_recep-Cup-None-Cabinet-22/trial_T20190907_173251_960848\\nResetting ThorEnv\\nTask: Heat a glass and place it in the cabinet.\\nGoal Reached\\n75 / 251\\n/root/data_alfred/json_feat_2.1.0/pick_cool_then_place_in_recep-BreadSliced-None-Microwave-11/trial_T20190909_102940_350963\\nResetting ThorEnv\\nTask: Put a slice of bread into a microwave\\nGoal Reached\\n76 / 251\\n/root/data_alfred/json_feat_2.1.0/pick_heat_then_place_in_recep-TomatoSliced-None-CounterTop-12/trial_T20190907_102658_284984\\nResetting ThorEnv\\nTask: Put a cooked slice of tomato on a kitchen counter.\\nGoal Reached\\n77 / 251\\n/root/data_alfred/json_feat_2.1.0/pick_cool_then_place_in_recep-Egg-None-Microwave-20/trial_T20190908_051942_388647\\nResetting ThorEnv\\nTask: cool the egg in the refrigerator, put the egg in the microwave\\nGoal Reached\\n78 / 251\\n/root/data_alfred/json_feat_2.1.0/pick_cool_then_place_in_recep-Tomato-None-GarbageCan-6/trial_T20190909_082934_483899\\nResetting ThorEnv\\nTask: Put a frozen tomato in to garbage bin. \\nGoal Reached\\n79 / 251\\n/root/data_alfred/json_feat_2.1.0/look_at_obj_in_light-KeyChain-None-FloorLamp-213/trial_T20190908_203806_730562\\nResetting ThorEnv\\nTask: grab the key chain from the sofa, turn on the floor lamp\\nGoal Reached\\n80 / 251\\n/root/data_alfred/json_feat_2.1.0/pick_cool_then_place_in_recep-PotatoSliced-None-SinkBasin-13/trial_T20190907_073447_193556\\nResetting ThorEnv\\nTask: Place a cold potato slice in the sink.\\nGoal Reached\\n81 / 251\\n/root/data_alfred/json_feat_2.1.0/pick_and_place_with_movable_recep-DishSponge-Pot-SinkBasin-1/trial_T20190908_103955_680867\\nResetting ThorEnv\\nTask: Put a pot with sponge in the sink. \\nGoal Reached\\n82 / 251\\n/root/data_alfred/json_feat_2.1.0/pick_heat_then_place_in_recep-Tomato-None-Fridge-15/trial_T20190909_020200_054379\\nResetting ThorEnv\\nTask: place a microwaved tomato inside of the fridge\\nGoal Reached\\n83 / 251\\n/root/data_alfred/json_feat_2.1.0/pick_heat_then_place_in_recep-Potato-None-Fridge-11/trial_T20190909_011341_436523\\nResetting ThorEnv\\nTask: Heat and chill a potato.\\nGoal Reached\\n84 / 251\\n/root/data_alfred/json_feat_2.1.0/pick_and_place_with_movable_recep-AppleSliced-Pan-CounterTop-8/trial_T20190909_002950_338362\\nResetting ThorEnv\\nTask: Slice the apple in the pan \\nGoal Reached\\n85 / 251\\n/root/data_alfred/json_feat_2.1.0/pick_and_place_with_movable_recep-Spatula-Pan-CounterTop-17/trial_T20190906_194903_710920\\nResetting ThorEnv\\nTask: Place a pan containing a spatula on the kitchen counter.\\nGoal Reached\\n86 / 251\\n/root/data_alfred/json_feat_2.1.0/pick_and_place_simple-SoapBottle-None-CounterTop-417/trial_T20190910_112922_368384\\nResetting ThorEnv\\nTask: Place a soap container on a counter.\\nGoal Reached\\n87 / 251\\n/root/data_alfred/json_feat_2.1.0/pick_and_place_simple-Box-None-Dresser-224/trial_T20190907_164104_229696\\nResetting ThorEnv\\nTask: move a box from the couch to the dresser\\nGoal Reached\\n88 / 251\\n/root/data_alfred/json_feat_2.1.0/pick_and_place_simple-Tomato-None-Microwave-13/trial_T20190908_124829_632660\\nResetting ThorEnv\\nTask: Put a tomato in the microwave.\\nGoal Reached\\n89 / 251\\n/root/data_alfred/json_feat_2.1.0/pick_and_place_with_movable_recep-Pencil-Bowl-Dresser-311/trial_T20190909_002301_857761\\nResetting ThorEnv\\nTask: Move the bowl and a pencil to the TV stand. \\n-----FAILED----\\n90 / 251\\n/root/data_alfred/json_feat_2.1.0/pick_clean_then_place_in_recep-Ladle-None-DiningTable-4/trial_T20190909_164840_568811\\nResetting ThorEnv\\nTask: get ladle, wash it, return it to wooden table\\nGoal Reached\\n91 / 251\\n/root/data_alfred/json_feat_2.1.0/pick_two_obj_and_place-CD-None-Drawer-304/trial_T20190907_230232_832893\\nResetting ThorEnv\\nTask: Move two CDs to the bottom drawer of the desk.\\nGoal Reached\\n92 / 251\\n/root/data_alfred/json_feat_2.1.0/pick_two_obj_and_place-Vase-None-Desk-204/trial_T20190906_181531_703961\\nResetting ThorEnv\\nTask: Put the yellow and blue jars on the black desk.\\nGoal Reached\\n93 / 251\\n/root/data_alfred/json_feat_2.1.0/pick_cool_then_place_in_recep-Lettuce-None-CounterTop-1/trial_T20190908_042713_075616\\nResetting ThorEnv\\nTask: Place a chilled head of lettuce on a counter.\\nGoal Reached\\n94 / 251\\n/root/data_alfred/json_feat_2.1.0/pick_and_place_simple-CellPhone-None-ArmChair-318/trial_T20190909_120047_968274\\nResetting ThorEnv\\nTask: Place a cell phone on a chair.\\nGoal Reached\\n95 / 251\\n/root/data_alfred/json_feat_2.1.0/pick_two_obj_and_place-LettuceSliced-None-Fridge-1/trial_T20190906_181501_970690\\nResetting ThorEnv\\nTask: Put cabbage in the refrigerator, use the knife to cut the cabbage\\nGoal Reached\\n96 / 251\\n/root/data_alfred/json_feat_2.1.0/pick_and_place_with_movable_recep-Knife-Mug-DiningTable-27/trial_T20190913_113749_095745\\nResetting ThorEnv\\nTask: Put a cup with a knife in it on the table to the left of the sink.\\nGoal Reached\\n97 / 251\\n/root/data_alfred/json_feat_2.1.0/pick_clean_then_place_in_recep-DishSponge-None-Cart-401/trial_T20190907_024634_972453\\nResetting ThorEnv\\nTask: Put a wet sponge on the metal rack. \\nGoal Reached\\n98 / 251\\n/root/data_alfred/json_feat_2.1.0/pick_heat_then_place_in_recep-Tomato-None-DiningTable-16/trial_T20190907_201243_698086\\nResetting ThorEnv\\nTask: Heat a tomato and place it on a table.\\nGoal Reached\\n99 / 251\\n/root/data_alfred/json_feat_2.1.0/look_at_obj_in_light-KeyChain-None-DeskLamp-327/trial_T20190906_202601_548273\\nResetting ThorEnv\\nTask: Examine the keys under the light of the table lamp\\nGoal Reached\\n100 / 251\\n/root/data_alfred/json_feat_2.1.0/pick_two_obj_and_place-SprayBottle-None-Cabinet-407/trial_T20190907_144556_144188\\nResetting ThorEnv\\nTask: Move the spray bottles to the cabinet under the sink. \\nGoal Reached\\n101 / 251\\n/root/data_alfred/json_feat_2.1.0/pick_and_place_with_movable_recep-RemoteControl-Box-Shelf-214/trial_T20190907_160619_888539\\nResetting ThorEnv\\nTask: Put away the remote in the box on the bench.\\nGoal Reached\\n102 / 251\\n/root/data_alfred/json_feat_2.1.0/pick_and_place_with_movable_recep-AppleSliced-Plate-Fridge-13/trial_T20190919_001342_371546\\nResetting ThorEnv\\nTask: Place a plate with a cut apple slice in the fridge\\nGoal Reached\\n103 / 251\\n/root/data_alfred/json_feat_2.1.0/pick_clean_then_place_in_recep-Lettuce-None-CounterTop-16/trial_T20190909_051630_092360\\nResetting ThorEnv\\nTask: Retrieve green vegetable from table, wash it in the sink, put it on the right side counter\\nGoal Reached\\n104 / 251\\n/root/data_alfred/json_feat_2.1.0/pick_clean_then_place_in_recep-LettuceSliced-None-Fridge-19/trial_T20190909_010452_388275\\nResetting ThorEnv\\nTask: Place clean lettuce in the fridge.\\nGoal Reached\\n105 / 251\\n/root/data_alfred/json_feat_2.1.0/look_at_obj_in_light-BaseballBat-None-DeskLamp-303/trial_T20190907_060414_846460\\nResetting ThorEnv\\nTask: Examine the baseball bat under the light of the table lamp\\nGoal Reached\\n106 / 251\\n/root/data_alfred/json_feat_2.1.0/pick_cool_then_place_in_recep-PotatoSliced-None-Microwave-18/trial_T20190908_041830_078220\\nResetting ThorEnv\\nTask: place a cold potato slice in the oven\\nGoal Reached\\n107 / 251\\n/root/data_alfred/json_feat_2.1.0/pick_and_place_with_movable_recep-Fork-Mug-DiningTable-18/trial_T20190906_235214_456832\\nResetting ThorEnv\\nTask: Place the cup with the fork on the table.\\nGoal Reached\\n108 / 251\\n/root/data_alfred/json_feat_2.1.0/pick_and_place_simple-CreditCard-None-ArmChair-201/trial_T20190908_124340_258012\\nResetting ThorEnv\\nTask: Place a credit card on a chair.\\nGoal Reached\\n109 / 251\\n/root/data_alfred/json_feat_2.1.0/pick_cool_then_place_in_recep-Tomato-None-Microwave-18/trial_T20190909_012524_159092\\nResetting ThorEnv\\nTask: Put a cold tomato in the microwave.\\nGoal Reached\\n110 / 251\\n/root/data_alfred/json_feat_2.1.0/pick_heat_then_place_in_recep-Tomato-None-SinkBasin-11/trial_T20190908_070653_021555\\nResetting ThorEnv\\nTask: Microwave the tomato and put it in the sink\\nGoal Reached\\n111 / 251\\n/root/data_alfred/json_feat_2.1.0/pick_clean_then_place_in_recep-SoapBar-None-Cabinet-402/trial_T20190908_055221_984342\\nResetting ThorEnv\\nTask: Put a clean bar of soap under the sink. \\nGoal Reached\\n112 / 251\\n/root/data_alfred/json_feat_2.1.0/look_at_obj_in_light-Pillow-None-FloorLamp-223/trial_T20190906_201007_149137\\nResetting ThorEnv\\nTask: hold a pillow while turning on a lamp\\nGoal Reached\\n113 / 251\\n/root/data_alfred/json_feat_2.1.0/pick_two_obj_and_place-KeyChain-None-Sofa-202/trial_T20190908_102840_789300\\nResetting ThorEnv\\nTask: Put two sets of keys on the couch.\\nGoal Reached\\n114 / 251\\n/root/data_alfred/json_feat_2.1.0/look_at_obj_in_light-Laptop-None-FloorLamp-205/trial_T20190907_130001_953970\\nResetting ThorEnv\\nTask: Grab the computer from the arm chair, turn off the floor lamp\\nGoal Reached\\n115 / 251\\n/root/data_alfred/json_feat_2.1.0/pick_two_obj_and_place-ToiletPaper-None-Toilet-408/trial_T20190909_080302_174780\\nResetting ThorEnv\\nTask: Put two rolls of toilet paper on the back of a toilet.\\nGoal Reached\\n116 / 251\\n/root/data_alfred/json_feat_2.1.0/pick_and_place_with_movable_recep-Fork-Cup-DiningTable-23/trial_T20190906_205421_980666\\nResetting ThorEnv\\nTask: Place a glass with a fork in it on the table in front of a glass pitcher.\\nGoal Reached\\n117 / 251\\n/root/data_alfred/json_feat_2.1.0/pick_heat_then_place_in_recep-Egg-None-Fridge-14/trial_T20190909_091314_636733\\nResetting ThorEnv\\nTask: cook an egg then put it back inside the fridge\\nGoal Reached\\n118 / 251\\n/root/data_alfred/json_feat_2.1.0/pick_and_place_simple-Mug-None-SideTable-329/trial_T20190909_032318_169393\\nResetting ThorEnv\\nTask: Move a mug to a nightstand.\\nGoal Reached\\n119 / 251\\n/root/data_alfred/json_feat_2.1.0/pick_heat_then_place_in_recep-BreadSliced-None-Fridge-19/trial_T20190908_070424_700178\\nResetting ThorEnv\\nTask: Slice the bread, cook a slice in the microwave, put it in the fridge\\nGoal Reached\\n120 / 251\\n/root/data_alfred/json_feat_2.1.0/pick_and_place_simple-Bowl-None-CoffeeTable-201/trial_T20190907_171639_045329\\nResetting ThorEnv\\nTask: Move a bowl from a dining table to a coffee table.\\nGoal Reached\\n121 / 251\\n/root/data_alfred/json_feat_2.1.0/pick_two_obj_and_place-ToiletPaper-None-Drawer-423/trial_T20190907_111251_461099\\nResetting ThorEnv\\nTask: To take the toilet paper on top of the toilet and place it in a drawer. \\nGoal Reached\\n122 / 251\\n/root/data_alfred/json_feat_2.1.0/pick_and_place_simple-Cloth-None-BathtubBasin-405/trial_T20190906_162502_940304\\nResetting ThorEnv\\nTask: move the red cloth from the cabinet to the tub\\nGoal Reached\\n123 / 251\\n/root/data_alfred/json_feat_2.1.0/pick_two_obj_and_place-Book-None-Desk-313/trial_T20190908_125930_920681\\nResetting ThorEnv\\nTask: Move two books from the bed to the desk.\\nGoal Reached\\n124 / 251\\n/root/data_alfred/json_feat_2.1.0/pick_and_place_with_movable_recep-TomatoSliced-Pan-DiningTable-28/trial_T20190908_133804_285739\\nResetting ThorEnv\\nTask: Move shaker to a different table, cut a tomato with a knife, move knife to pan on stove, move pan and tomato to table.\\nGoal Reached\\n125 / 251\\n/root/data_alfred/json_feat_2.1.0/pick_cool_then_place_in_recep-Pan-None-DiningTable-7/trial_T20190908_232648_241836\\nResetting ThorEnv\\nTask: Put a chilled pan on a kitchen table\\nGoal Reached\\n126 / 251\\n/root/data_alfred/json_feat_2.1.0/pick_clean_then_place_in_recep-SoapBar-None-Toilet-428/trial_T20190907_041436_588106\\nResetting ThorEnv\\nTask: Place the wet soap on top of the toilet next to the other soaps.\\nGoal Reached\\n127 / 251\\n/root/data_alfred/json_feat_2.1.0/pick_heat_then_place_in_recep-PotatoSliced-None-GarbageCan-15/trial_T20190908_042418_987263\\nResetting ThorEnv\\nTask: Slice a potato with a knife in order to throw it away. \\nGoal Reached\\n128 / 251\\n/root/data_alfred/json_feat_2.1.0/pick_and_place_with_movable_recep-PotatoSliced-Pot-DiningTable-28/trial_T20190910_001038_953470\\nResetting ThorEnv\\nTask: Put a pot containing a knife and slice of potato on a table. \\nGoal Reached\\n129 / 251\\n/root/data_alfred/json_feat_2.1.0/pick_two_obj_and_place-KeyChain-None-Sofa-225/trial_T20190907_143000_904569\\nResetting ThorEnv\\nTask: Move the keys to the computer on the sofa. \\nGoal Reached\\n130 / 251\\n/root/data_alfred/json_feat_2.1.0/look_at_obj_in_light-CD-None-DeskLamp-314/trial_T20190907_114323_767231\\nResetting ThorEnv\\nTask: Examine a CD by a lamp\\nGoal Reached\\n131 / 251\\n/root/data_alfred/json_feat_2.1.0/pick_cool_then_place_in_recep-Plate-None-Cabinet-7/trial_T20190907_231206_512424\\nResetting ThorEnv\\nTask: Put a chilled plate in a cabinet.\\nGoal Reached\\n132 / 251\\n/root/data_alfred/json_feat_2.1.0/pick_cool_then_place_in_recep-Egg-None-Microwave-24/trial_T20190908_234112_645480\\nResetting ThorEnv\\nTask: Put a cold egg in the microwave.\\nGoal Reached\\n133 / 251\\n/root/data_alfred/json_feat_2.1.0/pick_and_place_with_movable_recep-AppleSliced-Pot-CounterTop-4/trial_T20190906_180021_201134\\nResetting ThorEnv\\nTask: Put a cut apple in a pot.\\nGoal Reached\\n134 / 251\\n/root/data_alfred/json_feat_2.1.0/pick_heat_then_place_in_recep-Potato-None-Fridge-12/trial_T20190908_014451_271080\\nResetting ThorEnv\\nTask: cook the potato with microwave, put the potato in the refrigerator\\nGoal Reached\\n135 / 251\\n/root/data_alfred/json_feat_2.1.0/pick_and_place_simple-SprayBottle-None-Toilet-418/trial_T20190906_190942_706186\\nResetting ThorEnv\\nTask: Put a spray bottle on top of the toilet's water tank.\\nGoal Reached\\n136 / 251\\n/root/data_alfred/json_feat_2.1.0/look_at_obj_in_light-Laptop-None-DeskLamp-328/trial_T20190908_201550_622420\\nResetting ThorEnv\\nTask: Pick up a laptop and turn on a lamp\\nGoal Reached\\n137 / 251\\n/root/data_alfred/json_feat_2.1.0/pick_two_obj_and_place-Knife-None-Drawer-18/trial_T20190907_065232_689984\\nResetting ThorEnv\\nTask: place two knifes in the kitchen drawer\\nGoal Reached\\n138 / 251\\n/root/data_alfred/json_feat_2.1.0/pick_two_obj_and_place-Box-None-CoffeeTable-213/trial_T20190906_200927_069627\\nResetting ThorEnv\\nTask: Put two cardboard boxes on the coffee table.\\nGoal Reached\\n139 / 251\\n/root/data_alfred/json_feat_2.1.0/pick_clean_then_place_in_recep-Ladle-None-DiningTable-16/trial_T20190909_183724_205399\\nResetting ThorEnv\\nTask: Put a clean large metal spoon on the round white table.\\nGoal Reached\\n140 / 251\\n/root/data_alfred/json_feat_2.1.0/pick_cool_then_place_in_recep-Tomato-None-CounterTop-12/trial_T20190909_063844_274181\\nResetting ThorEnv\\nTask: Put a cool tomato on the counter.\\nGoal Reached\\n141 / 251\\n/root/data_alfred/json_feat_2.1.0/pick_and_place_simple-Watch-None-SideTable-222/trial_T20190909_051800_233558\\nResetting ThorEnv\\nTask: Put a watch on a table.\\nGoal Reached\\n142 / 251\\n/root/data_alfred/json_feat_2.1.0/pick_and_place_simple-Pencil-None-Desk-310/trial_T20190909_113054_894334\\nResetting ThorEnv\\nTask: Place a pencil on a desk.\\nGoal Reached\\n143 / 251\\n/root/data_alfred/json_feat_2.1.0/pick_heat_then_place_in_recep-Tomato-None-Fridge-23/trial_T20190909_082320_103350\\nResetting ThorEnv\\nTask: Place a tomato back in the refrigerator when done heating in the microwave.\\nGoal Reached\\n144 / 251\\n/root/data_alfred/json_feat_2.1.0/pick_clean_then_place_in_recep-ButterKnife-None-CounterTop-8/trial_T20190909_105559_983897\\nResetting ThorEnv\\nTask: wash the butter knife and put it back on the counter\\nGoal Reached\\n145 / 251\\n/root/data_alfred/json_feat_2.1.0/pick_and_place_simple-Candle-None-Toilet-429/trial_T20190908_052232_887934\\nResetting ThorEnv\\nTask: Put a bottle on the back of a newspaper.\\nGoal Reached\\n146 / 251\\n/root/data_alfred/json_feat_2.1.0/pick_and_place_simple-Knife-None-SinkBasin-20/trial_T20190907_223227_631229\\nResetting ThorEnv\\nTask: Move a knife to the kitchen sink. \\nGoal Reached\\n147 / 251\\n/root/data_alfred/json_feat_2.1.0/pick_cool_then_place_in_recep-Tomato-None-CounterTop-12/trial_T20190909_063754_216554\\nResetting ThorEnv\\nTask: Put a chilled tomato on the counter.\\nGoal Reached\\n148 / 251\\n/root/data_alfred/json_feat_2.1.0/pick_clean_then_place_in_recep-Cloth-None-Toilet-413/trial_T20190908_175253_104175\\nResetting ThorEnv\\nTask: Put a clean cloth on the back of the toilet.\\nGoal Reached\\n149 / 251\\n/root/data_alfred/json_feat_2.1.0/pick_cool_then_place_in_recep-Mug-None-CoffeeMachine-16/trial_T20190908_184242_348366\\nResetting ThorEnv\\nTask: Place a cooled mug on a coffee machine.\\nGoal Reached\\n150 / 251\\n/root/data_alfred/json_feat_2.1.0/pick_clean_then_place_in_recep-TomatoSliced-None-Microwave-20/trial_T20190918_161337_246067\\nResetting ThorEnv\\nTask: Place a rinsed slice of tomato in the microwave\\nGoal Reached\\n151 / 251\\n/root/data_alfred/json_feat_2.1.0/pick_and_place_with_movable_recep-AppleSliced-Pot-Fridge-24/trial_T20190909_064046_163660\\nResetting ThorEnv\\nTask: Put a large metal pan with an apple slice in it in the fridge.\\nGoal Reached\\n152 / 251\\n/root/data_alfred/json_feat_2.1.0/pick_heat_then_place_in_recep-AppleSliced-None-DiningTable-17/trial_T20190918_205656_000147\\nResetting ThorEnv\\nTask: Move a heated slice of apple to the white table with shelving below.\\nGoal Reached\\n153 / 251\\n/root/data_alfred/json_feat_2.1.0/pick_and_place_simple-TissueBox-None-Toilet-426/trial_T20190910_155319_795672\\nResetting ThorEnv\\nTask: Move tissues from counter to toilet\\nGoal Reached\\n154 / 251\\n/root/data_alfred/json_feat_2.1.0/pick_heat_then_place_in_recep-TomatoSliced-None-GarbageCan-16/trial_T20190909_004537_873323\\nResetting ThorEnv\\nTask: to cook a sliced tomato to throw it in the trash. \\nGoal Reached\\n155 / 251\\n/root/data_alfred/json_feat_2.1.0/look_at_obj_in_light-Pillow-None-DeskLamp-302/trial_T20190909_150916_682139\\nResetting ThorEnv\\nTask: Carry a purple pillow while turning on a lamp\\nGoal Reached\\n156 / 251\\n/root/data_alfred/json_feat_2.1.0/pick_cool_then_place_in_recep-Cup-None-Microwave-17/trial_T20190906_192817_654400\\nResetting ThorEnv\\nTask: Take the cup out of the microwave, put it in the fridge, back in the microwave.\\nGoal Reached\\n157 / 251\\n/root/data_alfred/json_feat_2.1.0/pick_clean_then_place_in_recep-SoapBar-None-Drawer-423/trial_T20190906_202340_749336\\nResetting ThorEnv\\nTask: Put away clean soap.\\nGoal Reached\\n158 / 251\\n/root/data_alfred/json_feat_2.1.0/pick_cool_then_place_in_recep-Cup-None-SideTable-21/trial_T20190906_192823_237997\\nResetting ThorEnv\\nTask: Place a chilled cup on the table.\\nGoal Reached\\n159 / 251\\n/root/data_alfred/json_feat_2.1.0/pick_and_place_simple-Book-None-SideTable-329/trial_T20190908_050633_745514\\nResetting ThorEnv\\nTask: move a magazine from the bed to the table\\nGoal Reached\\n160 / 251\\n/root/data_alfred/json_feat_2.1.0/pick_and_place_with_movable_recep-ButterKnife-Cup-DiningTable-23/trial_T20190908_233553_192059\\nResetting ThorEnv\\nTask: Put a glass with a butter knife in it on the kitchen island.\\nGoal Reached\\n161 / 251\\n/root/data_alfred/json_feat_2.1.0/pick_two_obj_and_place-AlarmClock-None-Dresser-305/trial_T20190907_165826_194855\\nResetting ThorEnv\\nTask: Move two alarm clocks from the desk to the night stand. \\nGoal Reached\\n162 / 251\\n/root/data_alfred/json_feat_2.1.0/pick_clean_then_place_in_recep-Plate-None-CounterTop-19/trial_T20190908_212725_836398\\nResetting ThorEnv\\nTask: Put a clean plate on the counter.\\nGoal Reached\\n163 / 251\\n/root/data_alfred/json_feat_2.1.0/pick_heat_then_place_in_recep-Mug-None-SideTable-21/trial_T20190909_090729_088825\\nResetting ThorEnv\\nTask: Put a heated mug down on a table.\\nGoal Reached\\n164 / 251\\n/root/data_alfred/json_feat_2.1.0/pick_cool_then_place_in_recep-AppleSliced-None-SideTable-21/trial_T20190907_013001_399963\\nResetting ThorEnv\\nTask: place a sliced apple down on the black table at the end of the kitchen counter\\nGoal Reached\\n165 / 251\\n/root/data_alfred/json_feat_2.1.0/pick_cool_then_place_in_recep-Apple-None-Microwave-19/trial_T20190906_210937_878489\\nResetting ThorEnv\\nTask: Take the apple from the table, put it in the refrigerator, take it out, heat the apple in the microwave\\nGoal Reached\\n166 / 251\\n/root/data_alfred/json_feat_2.1.0/pick_and_place_simple-RemoteControl-None-Sofa-207/trial_T20190909_153609_373481\\nResetting ThorEnv\\nTask: move the remote from the table to the couch\\nGoal Reached\\n167 / 251\\n/root/data_alfred/json_feat_2.1.0/pick_two_obj_and_place-RemoteControl-None-Ottoman-203/trial_T20190906_182952_858723\\nResetting ThorEnv\\nTask: Put two remotes on an ottoman.\\nGoal Reached\\n168 / 251\\n/root/data_alfred/json_feat_2.1.0/pick_and_place_with_movable_recep-TomatoSliced-Bowl-Fridge-20/trial_T20190907_060455_935544\\nResetting ThorEnv\\nTask: Put a plate containing a tomato slice on it, in the refrigerator. \\nGoal Reached\\n169 / 251\\n/root/data_alfred/json_feat_2.1.0/pick_clean_then_place_in_recep-ButterKnife-None-DiningTable-16/trial_T20190909_114508_617301\\nResetting ThorEnv\\nTask: To wash an knife and place it on the kitchen table.\\nGoal Reached\\n170 / 251\\n/root/data_alfred/json_feat_2.1.0/pick_heat_then_place_in_recep-Potato-None-SinkBasin-18/trial_T20190909_050524_644477\\nResetting ThorEnv\\nTask: Put a warm potato in the sink.\\nGoal Reached\\n171 / 251\\n/root/data_alfred/json_feat_2.1.0/pick_and_place_simple-SoapBottle-None-Cabinet-414/trial_T20190908_110131_524518\\nResetting ThorEnv\\nTask: Move a bottle from the counter to the drawer.\\nGoal Reached\\n172 / 251\\n/root/data_alfred/json_feat_2.1.0/pick_two_obj_and_place-Pan-None-CounterTop-14/trial_T20190907_012519_974044\\nResetting ThorEnv\\nTask: Place two pans on a counter.\\nGoal Reached\\n173 / 251\\n/root/data_alfred/json_feat_2.1.0/pick_clean_then_place_in_recep-SoapBar-None-Toilet-410/trial_T20190906_201148_878110\\nResetting ThorEnv\\nTask: Put wet soap on the toilet tank lid. \\nGoal Reached\\n174 / 251\\n/root/data_alfred/json_feat_2.1.0/pick_clean_then_place_in_recep-Cloth-None-Cabinet-405/trial_T20190907_080903_889497\\nResetting ThorEnv\\nTask: Put a wet towel in the cabinet.\\nGoal Reached\\n175 / 251\\n/root/data_alfred/json_feat_2.1.0/pick_clean_then_place_in_recep-LettuceSliced-None-CounterTop-19/trial_T20190909_005709_232606\\nResetting ThorEnv\\nTask: Put a washed piece of lettuce on the counter by the sink.\\nGoal Reached\\n176 / 251\\n/root/data_alfred/json_feat_2.1.0/pick_and_place_simple-Mug-None-SideTable-329/trial_T20190909_032340_274147\\nResetting ThorEnv\\nTask: Place a CD on a table.\\nGoal Reached\\n177 / 251\\n/root/data_alfred/json_feat_2.1.0/pick_and_place_simple-HandTowel-None-BathtubBasin-408/trial_T20190908_053502_505422\\nResetting ThorEnv\\nTask: Put a towel in a tub.\\nGoal Reached\\n178 / 251\\n/root/data_alfred/json_feat_2.1.0/pick_and_place_simple-HandTowel-None-BathtubBasin-419/trial_T20190908_023400_293044\\nResetting ThorEnv\\nTask: Place a towel in the bath tub.\\nGoal Reached\\n179 / 251\\n/root/data_alfred/json_feat_2.1.0/pick_cool_then_place_in_recep-Cup-None-SinkBasin-19/trial_T20190906_195826_107019\\nResetting ThorEnv\\nTask: Place the cup from the table in the sink. \\nGoal Reached\\n180 / 251\\n/root/data_alfred/json_feat_2.1.0/pick_clean_then_place_in_recep-Fork-None-CounterTop-23/trial_T20190908_233922_171295\\nResetting ThorEnv\\nTask: Place a rinsed fork on a counter.\\nGoal Reached\\n181 / 251\\n/root/data_alfred/json_feat_2.1.0/look_at_obj_in_light-CreditCard-None-FloorLamp-227/trial_T20190908_173545_981227\\nResetting ThorEnv\\nTask: Examine the credit card by the light of the floor lamp\\nGoal Reached\\n182 / 251\\n/root/data_alfred/json_feat_2.1.0/pick_and_place_simple-Plunger-None-Cabinet-414/trial_T20190909_031040_889814\\nResetting ThorEnv\\nTask: Move a plunger to the cabinet.\\nGoal Reached\\n183 / 251\\n/root/data_alfred/json_feat_2.1.0/pick_and_place_with_movable_recep-Watch-Bowl-Shelf-326/trial_T20190909_031836_927615\\nResetting ThorEnv\\nTask: Place a bowl with a watch on a shelf.\\nGoal Reached\\n184 / 251\\n/root/data_alfred/json_feat_2.1.0/pick_clean_then_place_in_recep-DishSponge-None-BathtubBasin-427/trial_T20190906_234735_610018\\nResetting ThorEnv\\nTask: Place a washed sponge in a tub.\\nGoal Reached\\n185 / 251\\n/root/data_alfred/json_feat_2.1.0/pick_two_obj_and_place-Spatula-None-Drawer-13/trial_T20190908_183331_203888\\nResetting ThorEnv\\nTask: Put two spatulas away in a drawer.\\nGoal Reached\\n186 / 251\\n/root/data_alfred/json_feat_2.1.0/look_at_obj_in_light-CreditCard-None-FloorLamp-206/trial_T20190908_083541_210340\\nResetting ThorEnv\\nTask: Examine a credit card by the light of a floor lamp.\\nGoal Reached\\n187 / 251\\n/root/data_alfred/json_feat_2.1.0/pick_and_place_simple-ToiletPaper-None-ToiletPaperHanger-415/trial_T20190908_050518_595510\\nResetting ThorEnv\\nTask: Put a roll of toilet paper on the toilet paper holder.\\nGoal Reached\\n188 / 251\\n/root/data_alfred/json_feat_2.1.0/pick_and_place_simple-Pencil-None-Dresser-330/trial_T20190909_071128_012892\\nResetting ThorEnv\\nTask: to grab a pencil from the night stand and place it on the dresser\\nGoal Reached\\n189 / 251\\n/root/data_alfred/json_feat_2.1.0/pick_two_obj_and_place-CreditCard-None-Dresser-311/trial_T20190907_201917_045715\\nResetting ThorEnv\\nTask: Put two credit cards on a cabinet.\\nGoal Reached\\n190 / 251\\n/root/data_alfred/json_feat_2.1.0/look_at_obj_in_light-Vase-None-FloorLamp-204/trial_T20190908_133349_808774\\nResetting ThorEnv\\nTask: Look at an object by the light of a lamp.\\nGoal Reached\\n191 / 251\\n/root/data_alfred/json_feat_2.1.0/look_at_obj_in_light-WateringCan-None-FloorLamp-212/trial_T20190907_034437_413802\\nResetting ThorEnv\\nTask: Turn on the lamp while holding the teapot.\\nGoal Reached\\n192 / 251\\n/root/data_alfred/json_feat_2.1.0/pick_clean_then_place_in_recep-SoapBar-None-Toilet-410/trial_T20190906_201106_979461\\nResetting ThorEnv\\nTask: place clean soap on top of the toilet\\nGoal Reached\\n193 / 251\\n/root/data_alfred/json_feat_2.1.0/pick_and_place_with_movable_recep-RemoteControl-Box-ArmChair-214/trial_T20190907_120634_187855\\nResetting ThorEnv\\nTask: put a remote in a box, putting the box onto a chair\\nGoal Reached\\n194 / 251\\n/root/data_alfred/json_feat_2.1.0/look_at_obj_in_light-TennisRacket-None-DeskLamp-324/trial_T20190907_065522_867032\\nResetting ThorEnv\\nTask: Turn the green lamp on while carrying a tennis racquet.\\nGoal Reached\\n195 / 251\\n/root/data_alfred/json_feat_2.1.0/pick_and_place_with_movable_recep-ButterKnife-Cup-SinkBasin-7/trial_T20190908_233333_221307\\nResetting ThorEnv\\nTask: To move a yellow cup to the sink and put a knife in the yellow cup. \\nGoal Reached\\n196 / 251\\n/root/data_alfred/json_feat_2.1.0/pick_and_place_simple-HandTowel-None-SinkBasin-422/trial_T20190907_061934_041977\\nResetting ThorEnv\\nTask: Place a towel inside a sink\\nGoal Reached\\n197 / 251\\n/root/data_alfred/json_feat_2.1.0/pick_heat_then_place_in_recep-Tomato-None-SinkBasin-11/trial_T20190908_070740_753071\\nResetting ThorEnv\\nTask: Put a microwaved tomato in the sink.\\nGoal Reached\\n198 / 251\\n/root/data_alfred/json_feat_2.1.0/pick_clean_then_place_in_recep-Cloth-None-Drawer-423/trial_T20190908_140701_251653\\nResetting ThorEnv\\nTask: Get wash rag wet and put it away in drawer.\\nGoal Reached\\n199 / 251\\n/root/data_alfred/json_feat_2.1.0/pick_and_place_with_movable_recep-PotatoSliced-Pot-DiningTable-21/trial_T20190907_113142_479158\\nResetting ThorEnv\\nTask: place a pan down on the kitchen table with a potato inside of it\\nGoal Reached\\n200 / 251\\n/root/data_alfred/json_feat_2.1.0/pick_and_place_with_movable_recep-Ladle-Plate-Cabinet-16/trial_T20190907_070303_578496\\nResetting ThorEnv\\nTask: Put a plate with a ladle in the cabinet closest to the stove.\\nGoal Reached\\n201 / 251\\n/root/data_alfred/json_feat_2.1.0/pick_and_place_simple-ToiletPaper-None-ToiletPaperHanger-406/trial_T20190908_122858_883968\\nResetting ThorEnv\\nTask: Put an empty toilet paper roll on a toilet paper holder.\\nGoal Reached\\n202 / 251\\n/root/data_alfred/json_feat_2.1.0/pick_heat_then_place_in_recep-Mug-None-CoffeeMachine-1/trial_T20190907_222640_487432\\nResetting ThorEnv\\nTask: Put a heated mug on the coffee machine. \\nGoal Reached\\n203 / 251\\n/root/data_alfred/json_feat_2.1.0/look_at_obj_in_light-CD-None-DeskLamp-302/trial_T20190907_154618_526741\\nResetting ThorEnv\\nTask: Grab the disc from the shelf, turn on the lamp on the cabinet\\nGoal Reached\\n204 / 251\\n/root/data_alfred/json_feat_2.1.0/pick_two_obj_and_place-CreditCard-None-Safe-323/trial_T20190907_001129_214240\\nResetting ThorEnv\\nTask: To put two cards in a safe.\\nGoal Reached\\n205 / 251\\n/root/data_alfred/json_feat_2.1.0/pick_and_place_with_movable_recep-Pen-Mug-Dresser-311/trial_T20190909_154212_097094\\nResetting ThorEnv\\nTask: Put the mug with pen on the tv stand\\nGoal Reached\\n206 / 251\\n/root/data_alfred/json_feat_2.1.0/pick_and_place_simple-SprayBottle-None-GarbageCan-409/trial_T20190908_054742_818364\\nResetting ThorEnv\\nTask: Put a spray bottle in a garbage bin.\\nGoal Reached\\n207 / 251\\n/root/data_alfred/json_feat_2.1.0/pick_clean_then_place_in_recep-Cloth-None-BathtubBasin-402/trial_T20190909_154521_553270\\nResetting ThorEnv\\nTask: Put a clean wash cloth in the tub.\\nGoal Reached\\n208 / 251\\n/root/data_alfred/json_feat_2.1.0/pick_and_place_with_movable_recep-Ladle-Plate-CounterTop-4/trial_T20190909_090126_143408\\nResetting ThorEnv\\nTask: Place a plate with a spoon on a counter.\\nGoal Reached\\n209 / 251\\n/root/data_alfred/json_feat_2.1.0/look_at_obj_in_light-Cloth-None-DeskLamp-303/trial_T20190908_170503_844252\\nResetting ThorEnv\\nTask: Pick up a towel and turn a light on.\\nGoal Reached\\n210 / 251\\n/root/data_alfred/json_feat_2.1.0/pick_and_place_simple-Watch-None-SideTable-222/trial_T20190909_051813_197569\\nResetting ThorEnv\\nTask: Put one watch on the end tale. \\nGoal Reached\\n211 / 251\\n/root/data_alfred/json_feat_2.1.0/pick_two_obj_and_place-SprayBottle-None-GarbageCan-419/trial_T20190908_164236_518264\\nResetting ThorEnv\\nTask: Move two spray bottles into a small grey bin.\\nGoal Reached\\n212 / 251\\n/root/data_alfred/json_feat_2.1.0/pick_cool_then_place_in_recep-Plate-None-Cabinet-27/trial_T20190906_173120_350651\\nResetting ThorEnv\\nTask: Put the plate from the table inside the refrigerator, and then store it in the cabinet under the sink.\\nGoal Reached\\n213 / 251\\n/root/data_alfred/json_feat_2.1.0/pick_clean_then_place_in_recep-DishSponge-None-CounterTop-403/trial_T20190908_144357_621068\\nResetting ThorEnv\\nTask: Put a wet sponge on the counter.\\nGoal Reached\\n214 / 251\\n/root/data_alfred/json_feat_2.1.0/look_at_obj_in_light-RemoteControl-None-FloorLamp-213/trial_T20190907_070857_687585\\nResetting ThorEnv\\nTask: Turn on a lamp while carrying a remote\\nGoal Reached\\n215 / 251\\n/root/data_alfred/json_feat_2.1.0/pick_cool_then_place_in_recep-WineBottle-None-DiningTable-17/trial_T20190908_024426_412044\\nResetting ThorEnv\\nTask: Set a chilled bottle of wine on the table.\\nGoal Reached\\n216 / 251\\n/root/data_alfred/json_feat_2.1.0/look_at_obj_in_light-Statue-None-DeskLamp-216/trial_T20190909_193045_208933\\nResetting ThorEnv\\nTask: Examine a statue by the light of a small lamp.\\nGoal Reached\\n217 / 251\\n/root/data_alfred/json_feat_2.1.0/pick_and_place_simple-SprayBottle-None-Cabinet-413/trial_T20190907_114931_692464\\nResetting ThorEnv\\nTask: put the green spray bottle into the drawer\\nGoal Reached\\n218 / 251\\n/root/data_alfred/json_feat_2.1.0/pick_and_place_simple-Egg-None-Microwave-4/trial_T20190906_234406_356490\\nResetting ThorEnv\\nTask: Put an egg in the microwave. \\nGoal Reached\\n219 / 251\\n/root/data_alfred/json_feat_2.1.0/pick_clean_then_place_in_recep-Fork-None-Drawer-8/trial_T20190908_132152_999725\\nResetting ThorEnv\\nTask: Wash a fork and place inside kitchen drawer.\\nGoal Reached\\n220 / 251\\n/root/data_alfred/json_feat_2.1.0/pick_and_place_simple-Plunger-None-Cabinet-406/trial_T20190906_200341_074379\\nResetting ThorEnv\\nTask: put the plunger inside the cupboard\\nGoal Reached\\n221 / 251\\n/root/data_alfred/json_feat_2.1.0/pick_cool_then_place_in_recep-LettuceSliced-None-SinkBasin-2/trial_T20190908_015957_501112\\nResetting ThorEnv\\nTask: place a cold lettuce slice in the sink\\nGoal Reached\\n222 / 251\\n/root/data_alfred/json_feat_2.1.0/pick_heat_then_place_in_recep-TomatoSliced-None-CounterTop-2/trial_T20190910_180358_375701\\nResetting ThorEnv\\nTask: Put the cooked tomato slice on the kitchen island\\nGoal Reached\\n223 / 251\\n/root/data_alfred/json_feat_2.1.0/pick_cool_then_place_in_recep-Apple-None-CounterTop-14/trial_T20190909_044933_815840\\nResetting ThorEnv\\nTask: put a chilled apple on a kitchen counter\\nGoal Reached\\n224 / 251\\n/root/data_alfred/json_feat_2.1.0/pick_cool_then_place_in_recep-Plate-None-CounterTop-1/trial_T20190906_205324_559361\\nResetting ThorEnv\\nTask: cool off a white plate\\nGoal Reached\\n225 / 251\\n/root/data_alfred/json_feat_2.1.0/pick_and_place_with_movable_recep-TissueBox-Plate-DiningTable-203/trial_T20190909_141915_002879\\nResetting ThorEnv\\nTask: Put a plate with tissues on it onto the dining table.\\nGoal Reached\\n226 / 251\\n/root/data_alfred/json_feat_2.1.0/pick_two_obj_and_place-RemoteControl-None-CoffeeTable-207/trial_T20190908_122244_451639\\nResetting ThorEnv\\nTask: Move two remotes to the coffee table.\\nGoal Reached\\n227 / 251\\n/root/data_alfred/json_feat_2.1.0/pick_heat_then_place_in_recep-Plate-None-DiningTable-28/trial_T20190908_001247_096796\\nResetting ThorEnv\\nTask: Warm a plate and place it on the table.\\nGoal Reached\\n228 / 251\\n/root/data_alfred/json_feat_2.1.0/pick_and_place_with_movable_recep-TomatoSliced-Pan-Fridge-16/trial_T20190908_134410_550530\\nResetting ThorEnv\\nTask: Place a pan with a tomato slice and a knife in it in the refrigerator\\nGoal Reached\\n229 / 251\\n/root/data_alfred/json_feat_2.1.0/pick_and_place_with_movable_recep-Spoon-Cup-SinkBasin-6/trial_T20190907_054459_336922\\nResetting ThorEnv\\nTask: Put a mug with a spoon in the sink basin.\\nGoal Reached\\n230 / 251\\n/root/data_alfred/json_feat_2.1.0/pick_heat_then_place_in_recep-Mug-None-Cabinet-3/trial_T20190909_014639_335717\\nResetting ThorEnv\\nTask: Move mug from coffee maker to microwave and heat, move to cabinet.\\nGoal Reached\\n231 / 251\\n/root/data_alfred/json_feat_2.1.0/look_at_obj_in_light-Bowl-None-DeskLamp-301/trial_T20190909_150719_492274\\nResetting ThorEnv\\nTask: take the bowl to the lamp\\nGoal Reached\\n232 / 251\\n/root/data_alfred/json_feat_2.1.0/pick_and_place_with_movable_recep-RemoteControl-Box-CoffeeTable-222/trial_T20190909_173505_631675\\nResetting ThorEnv\\nTask: Put the remote in the box, and put the box on the coffee table. \\nGoal Reached\\n233 / 251\\n/root/data_alfred/json_feat_2.1.0/pick_cool_then_place_in_recep-AppleSliced-None-DiningTable-18/trial_T20190909_022535_813547\\nResetting ThorEnv\\nTask: Place a cold apple slice on the table.\\nGoal Reached\\n234 / 251\\n/root/data_alfred/json_feat_2.1.0/look_at_obj_in_light-KeyChain-None-FloorLamp-204/trial_T20190909_030908_402835\\nResetting ThorEnv\\nTask: pick up keys, turn on lamp\\nGoal Reached\\n235 / 251\\n/root/data_alfred/json_feat_2.1.0/pick_clean_then_place_in_recep-Spatula-None-DiningTable-4/trial_T20190909_002804_564168\\nResetting ThorEnv\\nTask: Place a spatula on the table.\\nGoal Reached\\n236 / 251\\n/root/data_alfred/json_feat_2.1.0/pick_and_place_simple-CellPhone-None-Bed-324/trial_T20190907_233817_198528\\nResetting ThorEnv\\nTask: Take the blue cell phone from the dresser, put it on the bed\\nGoal Reached\\n237 / 251\\n/root/data_alfred/json_feat_2.1.0/pick_and_place_with_movable_recep-Spoon-Plate-DiningTable-15/trial_T20190907_112652_334388\\nResetting ThorEnv\\nTask: place a black plate with a spoon in it on top of the kitchen table\\nGoal Reached\\n238 / 251\\n/root/data_alfred/json_feat_2.1.0/pick_clean_then_place_in_recep-Ladle-None-CounterTop-14/trial_T20190909_113844_191747\\nResetting ThorEnv\\nTask: Place a rinsed spoon on a counter.\\nGoal Reached\\n239 / 251\\n/root/data_alfred/json_feat_2.1.0/pick_and_place_simple-Mug-None-Dresser-311/trial_T20190909_152837_739016\\nResetting ThorEnv\\nTask: Put the mug on the dresser with the television.\\nGoal Reached\\n240 / 251\\n/root/data_alfred/json_feat_2.1.0/pick_and_place_simple-Newspaper-None-Sofa-224/trial_T20190909_111324_949106\\nResetting ThorEnv\\nTask: Place a newspaper on a couch.\\nGoal Reached\\n241 / 251\\n/root/data_alfred/json_feat_2.1.0/pick_two_obj_and_place-SoapBar-None-GarbageCan-418/trial_T20190909_055538_380023\\nResetting ThorEnv\\nTask: To move two bars of soap to the black bin. \\nGoal Reached\\n242 / 251\\n/root/data_alfred/json_feat_2.1.0/pick_heat_then_place_in_recep-Mug-None-Cabinet-26/trial_T20190909_062333_424779\\nResetting ThorEnv\\nTask: place microwaved black mug in upper cabinet in between microwave and sink\\nGoal Reached\\n243 / 251\\n/root/data_alfred/json_feat_2.1.0/pick_cool_then_place_in_recep-TomatoSliced-None-SinkBasin-4/trial_T20190907_071506_149865\\nResetting ThorEnv\\nTask: Cut a tomato slice, refrigerate it, place it on a sponge\\nGoal Reached\\n244 / 251\\n/root/data_alfred/json_feat_2.1.0/pick_cool_then_place_in_recep-Apple-None-Microwave-5/trial_T20190908_150807_823817\\nResetting ThorEnv\\nTask: Put a chilled apple in the microwave. \\nGoal Reached\\n245 / 251\\n/root/data_alfred/json_feat_2.1.0/pick_and_place_with_movable_recep-Ladle-Plate-Cabinet-16/trial_T20190907_070152_814652\\nResetting ThorEnv\\nTask: Put away a plate and spoon, into a kitchen cabinet.\\nGoal Reached\\n246 / 251\\n/root/data_alfred/json_feat_2.1.0/pick_clean_then_place_in_recep-ButterKnife-None-Drawer-2/trial_T20190908_121728_511866\\nResetting ThorEnv\\nTask: Put a clean butter knife in a drawer.\\nGoal Reached\\n247 / 251\\n/root/data_alfred/json_feat_2.1.0/pick_and_place_simple-SprayBottle-None-Toilet-415/trial_T20190909_075955_678702\\nResetting ThorEnv\\nTask:  put the spray bottle on the back of the toilet\\nGoal Reached\\n248 / 251\\n/root/data_alfred/json_feat_2.1.0/pick_two_obj_and_place-SoapBar-None-GarbageCan-418/trial_T20190909_055649_717880\\nResetting ThorEnv\\nTask: Put two bars of soap into the trash can.\\nGoal Reached\\n249 / 251\\n/root/data_alfred/json_feat_2.1.0/pick_cool_then_place_in_recep-Pan-None-StoveBurner-23/trial_T20190906_215856_374127\\nResetting ThorEnv\\nTask: Put a chilled pan on the stove. \\nGoal Reached\\n250 / 251\\n/root/data_alfred/json_feat_2.1.0/pick_cool_then_place_in_recep-AppleSliced-None-GarbageCan-25/trial_T20190908_193525_796595\\nResetting ThorEnv\\nTask: Place a chilled apple section into the bin.\\nGoal Reached\\n\""
      ]
     },
     "execution_count": 12,
     "metadata": {},
     "output_type": "execute_result"
    }
   ],
   "source": [
    "capt.stdout"
   ]
  },
  {
   "cell_type": "code",
   "execution_count": 19,
   "metadata": {},
   "outputs": [],
   "source": [
    "import pickle"
   ]
  },
  {
   "cell_type": "code",
   "execution_count": 17,
   "metadata": {},
   "outputs": [],
   "source": [
    "with open('/root/data_alfred/splits/collect_states_{}_{}_notebook_capt_stdout.log'.format(date, split_name), 'w') as f:\n",
    "    f.write(capt.stdout)\n",
    "    \n",
    "with open('/root/data_alfred/splits/collect_states_{}_{}_notebook_capt_stderr.log'.format(date, split_name), 'w') as f:\n",
    "    f.write(capt.stderr)"
   ]
  },
  {
   "cell_type": "code",
   "execution_count": 22,
   "metadata": {},
   "outputs": [],
   "source": [
    "with open('/root/data_alfred/splits/collect_states_{}_{}_notebook_success_paths.json'.format(date, split_name), 'w') as f:\n",
    "    json.dump(success_outpaths, f)\n",
    "    \n",
    "with open('/root/data_alfred/splits/collect_states_{}_{}_notebook_failed_roots.json'.format(date, split_name), 'w') as f:\n",
    "    json.dump(failed_roots, f)"
   ]
  },
  {
   "cell_type": "code",
   "execution_count": 44,
   "metadata": {
    "scrolled": true
   },
   "outputs": [
    {
     "name": "stdout",
     "output_type": "stream",
     "text": [
      "ThorEnv started.\n",
      "Resetting ThorEnv\n",
      "Task: examine a phone with a lamp\n",
      "Goal Reached\n"
     ]
    }
   ],
   "source": [
    "# Debug one \n",
    "task = splits[split_name][0]\n",
    "traj_data = load_task_json(task)\n",
    "env = ThorEnv()\n",
    "r_idx = splits[split_name][2]['repeat_idx']\n",
    "traj_data_dum = load_task_json(splits[split_name][2])\n",
    "success, states, outpath = CollectStates.evaluate(env, r_idx, traj_data, args, [], [], {}, 0)"
   ]
  },
  {
   "cell_type": "code",
   "execution_count": null,
   "metadata": {},
   "outputs": [],
   "source": []
  }
 ],
 "metadata": {
  "kernelspec": {
   "display_name": "Python 3",
   "language": "python",
   "name": "python3"
  },
  "language_info": {
   "codemirror_mode": {
    "name": "ipython",
    "version": 3
   },
   "file_extension": ".py",
   "mimetype": "text/x-python",
   "name": "python",
   "nbconvert_exporter": "python",
   "pygments_lexer": "ipython3",
   "version": "3.6.9"
  }
 },
 "nbformat": 4,
 "nbformat_minor": 4
}
