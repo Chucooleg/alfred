{
 "cells": [
  {
   "cell_type": "code",
   "execution_count": 1,
   "metadata": {},
   "outputs": [
    {
     "name": "stdout",
     "output_type": "stream",
     "text": [
      "total 1641096\r\n",
      "-rwxr-xr-x 1 root root       988 Apr 29 22:47 best_seen.json\r\n",
      "-rwxr-xr-x 1 root root 551328788 Apr 29 22:47 best_seen.pth\r\n",
      "-rwxr-xr-x 1 root root       950 Apr 29 22:47 best_unseen.json\r\n",
      "-rwxr-xr-x 1 root root 551328788 Apr 29 22:47 best_unseen.pth\r\n",
      "-rwxr-xr-x 1 root root       832 Apr 29 22:47 config.json\r\n",
      "-rwxr-xr-x 1 root root 551328788 Apr 29 22:48 latest.pth\r\n",
      "-rw-r--r-- 1 root root   4483590 May  3 18:27 log_eval_subgoal_valid_seen.txt\r\n",
      "-rw-r--r-- 1 root root    104954 May  2 19:46 log_eval_train_sanity.txt\r\n",
      "-rw-r--r-- 1 root root    103779 May  2 21:01 log_eval_train_sanity_v1.txt\r\n",
      "-rw-r--r-- 1 root root    310698 Apr 30 05:19 log_eval_valid_seen.txt\r\n",
      "-rw-r--r-- 1 root root     95469 Apr 30 18:53 log_eval_valid_seen_v1.txt\r\n",
      "-rw-r--r-- 1 root root    340676 May  2 08:03 log_eval_valid_unseen.txt\r\n",
      "-rw-r--r-- 1 root root    104226 May  2 19:04 log_eval_valid_unseen_v1.txt\r\n",
      "-rw-r--r-- 1 root root   3041115 May  3 18:27 subgoal_results_20200503_182702_986719.json\r\n",
      "-rw-r--r-- 1 root root    156724 May  2 19:46 task_results_train_sanity_20200502_194600_453839.json\r\n",
      "-rw-r--r-- 1 root root    156232 May  2 21:01 task_results_train_sanity_v1_20200502_210151_556561.json\r\n",
      "-rw-r--r-- 1 root root    509098 Apr 30 05:19 task_results_valid_seen_20200430_051954_724389.json\r\n",
      "-rw-r--r-- 1 root root    157873 Apr 30 18:53 task_results_valid_seen_v1_20200430_185318_217672.json\r\n",
      "-rw-r--r-- 1 root root    506646 May  2 08:03 task_results_valid_unseen_20200502_080341_953884.json\r\n",
      "-rw-r--r-- 1 root root    159384 May  2 19:04 task_results_valid_unseen_v1_20200502_190436_917107.json\r\n",
      "-rwxr-xr-x 1 root root  15423254 Apr 29 22:48 train.debug.preds.json\r\n",
      "-rwxr-xr-x 1 root root    583474 Apr 29 22:48 valid_seen.debug.preds.json\r\n",
      "-rwxr-xr-x 1 root root    560868 Apr 29 22:48 valid_unseen.debug.preds.json\r\n"
     ]
    }
   ],
   "source": [
    "!ls -l /root/data_alfred/pretrained_model/model:seq2seq_im_mask,name:base30_pm010_sg010_01/"
   ]
  },
  {
   "cell_type": "code",
   "execution_count": 3,
   "metadata": {},
   "outputs": [],
   "source": [
    "import json"
   ]
  },
  {
   "cell_type": "code",
   "execution_count": 4,
   "metadata": {},
   "outputs": [],
   "source": [
    "with open('/root/data_alfred/pretrained_model/model:seq2seq_im_mask,name:base30_pm010_sg010_01/task_results_train_sanity_20200502_194600_453839.json', 'r') as f:\n",
    "    train_sanity_res = json.load(f)\n",
    "    \n",
    "with open('/root/data_alfred/pretrained_model/model:seq2seq_im_mask,name:base30_pm010_sg010_01/task_results_train_sanity_v1_20200502_210151_556561.json', 'r') as f:\n",
    "    train_sanity_v1_res = json.load(f)\n",
    "    \n",
    "with open('/root/data_alfred/pretrained_model/model:seq2seq_im_mask,name:base30_pm010_sg010_01/task_results_valid_seen_20200430_051954_724389.json', 'r') as f:\n",
    "    valid_seen_res = json.load(f)\n",
    "    \n",
    "with open('/root/data_alfred/pretrained_model/model:seq2seq_im_mask,name:base30_pm010_sg010_01/task_results_valid_seen_v1_20200430_185318_217672.json', 'r') as f:\n",
    "    valid_seen_v1_res = json.load(f)\n",
    "    \n",
    "with open('/root/data_alfred/pretrained_model/model:seq2seq_im_mask,name:base30_pm010_sg010_01/task_results_valid_unseen_20200502_080341_953884.json', 'r') as f:\n",
    "    valid_unseen_res = json.load(f)\n",
    "    \n",
    "with open('/root/data_alfred/pretrained_model/model:seq2seq_im_mask,name:base30_pm010_sg010_01/task_results_valid_unseen_v1_20200502_190436_917107.json', 'r') as f:\n",
    "    valid_unseen_v1_res = json.load(f)"
   ]
  },
  {
   "cell_type": "code",
   "execution_count": 18,
   "metadata": {},
   "outputs": [],
   "source": [
    "with open('/root/data_alfred/pretrained_model/model:seq2seq_im_mask,name:base30_pm010_sg010_01/subgoal_results_20200503_182702_986719.json', 'r') as f:\n",
    "    valid_seen_subgoal_results = json.load(f)"
   ]
  },
  {
   "cell_type": "code",
   "execution_count": 6,
   "metadata": {},
   "outputs": [
    {
     "name": "stdout",
     "output_type": "stream",
     "text": [
      "<class 'dict'>\n",
      "dict_keys(['failures', 'results', 'successes'])\n"
     ]
    }
   ],
   "source": [
    "print(type(train_sanity_res))\n",
    "print(train_sanity_res.keys())"
   ]
  },
  {
   "cell_type": "code",
   "execution_count": 13,
   "metadata": {},
   "outputs": [
    {
     "name": "stdout",
     "output_type": "stream",
     "text": [
      "train_sanity_res:\n",
      "failures : 250\n",
      "successes: 0\n",
      "train_sanity_v1_res:\n",
      "failures : 250\n",
      "successes: 0\n"
     ]
    }
   ],
   "source": [
    "print('train_sanity_res:')\n",
    "print('failures :', len(train_sanity_res['failures']))\n",
    "print('successes:', len(train_sanity_res['successes']))\n",
    "\n",
    "print('train_sanity_v1_res:')\n",
    "print('failures :', len(train_sanity_v1_res['failures']))\n",
    "print('successes:', len(train_sanity_v1_res['successes']))"
   ]
  },
  {
   "cell_type": "code",
   "execution_count": 15,
   "metadata": {},
   "outputs": [
    {
     "name": "stdout",
     "output_type": "stream",
     "text": [
      "valid_seen_res:\n",
      "failures : 791\n",
      "successes: 29\n",
      "valid_seen_v1_res:\n",
      "failures : 237\n",
      "successes: 14\n"
     ]
    }
   ],
   "source": [
    "print('valid_seen_res:')\n",
    "print('failures :', len(valid_seen_res['failures']))\n",
    "print('successes:', len(valid_seen_res['successes']))\n",
    "\n",
    "print('valid_seen_v1_res:')\n",
    "print('failures :', len(valid_seen_v1_res['failures']))\n",
    "print('successes:', len(valid_seen_v1_res['successes']))"
   ]
  },
  {
   "cell_type": "code",
   "execution_count": 56,
   "metadata": {},
   "outputs": [
    {
     "data": {
      "text/plain": [
       "dict_keys(['all', 'look_at_obj_in_light', 'pick_and_place_simple', 'pick_and_place_with_movable_recep', 'pick_clean_then_place_in_recep', 'pick_cool_then_place_in_recep', 'pick_heat_then_place_in_recep', 'pick_two_obj_and_place'])"
      ]
     },
     "execution_count": 56,
     "metadata": {},
     "output_type": "execute_result"
    }
   ],
   "source": [
    "valid_seen_v1_res['results'].keys()"
   ]
  },
  {
   "cell_type": "code",
   "execution_count": 64,
   "metadata": {},
   "outputs": [
    {
     "name": "stdout",
     "output_type": "stream",
     "text": [
      "\n",
      "TASK =  all\n",
      "Human  :\t0.0(0.0)\t6.02(4.27)\t3.54(1.87)\t10.15(6.86)\t0.12(0.03)\t6.65(5.37)\n",
      "Machine:\t0.0(0.0)\t6.34(4.39)\t5.58(3.11)\t11.72(7.63)\t0.0(0.0)\t6.82(5.57)\n",
      "\n",
      "TASK =  look_at_obj_in_light\n",
      "Human  :\t0.0(0.0)\t0.0(0.0)\t7.45(8.02)\t17.55(16.43)\t0.58(0.21)\t2.31(1.49)\n",
      "Machine:\t0.0(0.0)\t1.79(0.28)\t3.45(4.03)\t10.34(9.39)\t0.0(0.0)\t3.7(2.69)\n",
      "\n",
      "TASK =  pick_and_place_simple\n",
      "Human  :\t0.0(0.0)\t0.0(0.0)\t7.75(4.19)\t7.75(4.19)\t0.0(0.0)\t0.0(0.0)\n",
      "Machine:\t0.0(0.0)\t0.0(0.0)\t8.7(1.4)\t8.7(1.4)\t0.0(0.0)\t0.0(0.0)\n",
      "\n",
      "TASK =  pick_and_place_with_movable_recep\n",
      "Human  :\t0.0(0.0)\t0.0(0.0)\t1.74(1.03)\t3.9(1.91)\t0.0(0.0)\t0.0(0.0)\n",
      "Machine:\t0.0(0.0)\t0.0(0.0)\t0.0(0.0)\t2.68(1.44)\t0.0(0.0)\t0.0(0.0)\n",
      "\n",
      "TASK =  pick_clean_then_place_in_recep\n",
      "Human  :\t0.0(0.0)\t22.12(19.94)\t1.79(1.18)\t13.75(11.06)\t0.0(0.0)\t14.37(11.83)\n",
      "Machine:\t0.0(0.0)\t23.08(20.29)\t5.41(4.55)\t16.52(13.89)\t0.0(0.0)\t13.51(11.11)\n",
      "\n",
      "TASK =  pick_cool_then_place_in_recep\n",
      "Human  :\t0.0(0.0)\t6.92(6.65)\t4.76(2.31)\t14.39(10.16)\t0.0(0.0)\t11.3(9.4)\n",
      "Machine:\t0.0(0.0)\t6.92(6.97)\t13.16(5.98)\t20.0(12.2)\t0.0(0.0)\t11.11(9.59)\n",
      "\n",
      "TASK =  pick_heat_then_place_in_recep\n",
      "Human  :\t0.0(0.0)\t7.14(5.1)\t0.93(0.16)\t10.33(6.89)\t0.0(0.0)\t9.49(9.12)\n",
      "Machine:\t0.0(0.0)\t7.14(5.06)\t2.94(2.58)\t12.07(9.33)\t0.0(0.0)\t9.22(8.86)\n",
      "\n",
      "TASK =  pick_two_obj_and_place\n",
      "Human  :\t0.0(0.0)\t0.0(0.0)\t0.0(0.0)\t3.46(2.16)\t0.0(0.0)\t0.0(0.0)\n",
      "Machine:\t0.0(0.0)\t0.0(0.0)\t3.03(2.92)\t5.88(5.02)\t0.0(0.0)\t0.0(0.0)\n"
     ]
    }
   ],
   "source": [
    "for task in valid_seen_v1_res['results'].keys():\n",
    "    print('\\nTASK = ', task)\n",
    "    print('Human  :\\t{:<1}({:<1})\\t{:<1}({:<1})\\t{:<1}({:<1})\\t{:<1}({:<1})\\t{:<1}({:<1})\\t{:<1}({:<1})'.format(\n",
    "        round(train_sanity_res['results'][task]['success']['success_rate']*100,2), round(train_sanity_res['results'][task]['path_length_weighted_success_rate']*100,2), \\\n",
    "        round(train_sanity_res['results'][task]['goal_condition_success']['goal_condition_success_rate']*100,2), round(train_sanity_res['results'][task]['path_length_weighted_goal_condition_success_rate']*100,2), \\\n",
    "        round(valid_seen_res['results'][task]['success']['success_rate']*100,2), round(valid_seen_res['results'][task]['path_length_weighted_success_rate']*100,2), \\\n",
    "        round(valid_seen_res['results'][task]['goal_condition_success']['goal_condition_success_rate']*100,2), round(valid_seen_res['results'][task]['path_length_weighted_goal_condition_success_rate']*100,2), \\\n",
    "        round(valid_unseen_res['results'][task]['success']['success_rate']*100,2), round(valid_unseen_res['results'][task]['path_length_weighted_success_rate']*100,2), \\\n",
    "        round(valid_unseen_res['results'][task]['goal_condition_success']['goal_condition_success_rate']*100,2), round(valid_unseen_res['results'][task]['path_length_weighted_goal_condition_success_rate']*100,2)\n",
    "    ))\n",
    "    print('Machine:\\t{:<1}({:<1})\\t{:<1}({:<1})\\t{:<1}({:<1})\\t{:<1}({:<1})\\t{:<1}({:<1})\\t{:<1}({:<1})'.format(\n",
    "        round(train_sanity_v1_res['results'][task]['success']['success_rate']*100,2), round(train_sanity_v1_res['results'][task]['path_length_weighted_success_rate']*100,2), \\\n",
    "        round(train_sanity_v1_res['results'][task]['goal_condition_success']['goal_condition_success_rate']*100,2), round(train_sanity_v1_res['results'][task]['path_length_weighted_goal_condition_success_rate']*100,2), \\\n",
    "        round(valid_seen_v1_res['results'][task]['success']['success_rate']*100,2), round(valid_seen_v1_res['results'][task]['path_length_weighted_success_rate']*100,2), \\\n",
    "        round(valid_seen_v1_res['results'][task]['goal_condition_success']['goal_condition_success_rate']*100,2), round(valid_seen_v1_res['results'][task]['path_length_weighted_goal_condition_success_rate']*100,2), \\\n",
    "        round(valid_unseen_v1_res['results'][task]['success']['success_rate']*100,2), round(valid_unseen_v1_res['results'][task]['path_length_weighted_success_rate']*100,2), \\\n",
    "        round(valid_unseen_v1_res['results'][task]['goal_condition_success']['goal_condition_success_rate']*100,2), round(valid_unseen_v1_res['results'][task]['path_length_weighted_goal_condition_success_rate']*100,2)\n",
    "    ))"
   ]
  },
  {
   "cell_type": "code",
   "execution_count": 69,
   "metadata": {},
   "outputs": [
    {
     "name": "stdout",
     "output_type": "stream",
     "text": [
      "\n",
      "TASK =  all\n",
      "Human  :\t250(0)\t631(38)\t820(29)\t2109(214)\t821(1)\t2120(141)\n",
      "Machine:\t250(0)\t631(40)\t251(14)\t640(75)\t255(0)\t660(45)\n",
      "\n",
      "TASK =  look_at_obj_in_light\n",
      "Human  :\t28(0)\t56(0)\t94(7)\t188(33)\t173(1)\t346(8)\n",
      "Machine:\t28(0)\t56(1)\t29(1)\t58(6)\t54(0)\t108(4)\n",
      "\n",
      "TASK =  pick_and_place_simple\n",
      "Human  :\t46(0)\t48(0)\t142(11)\t142(11)\t100(0)\t100(0)\n",
      "Machine:\t46(0)\t48(0)\t46(4)\t46(4)\t30(0)\t30(0)\n",
      "\n",
      "TASK =  pick_and_place_with_movable_recep\n",
      "Human  :\t41(0)\t131(0)\t115(2)\t385(15)\t109(0)\t327(0)\n",
      "Machine:\t41(0)\t131(0)\t34(0)\t112(3)\t33(0)\t99(0)\n",
      "\n",
      "TASK =  pick_clean_then_place_in_recep\n",
      "Human  :\t34(0)\t104(23)\t112(2)\t349(48)\t113(0)\t348(50)\n",
      "Machine:\t34(0)\t104(24)\t37(2)\t115(19)\t36(0)\t111(15)\n",
      "\n",
      "TASK =  pick_cool_then_place_in_recep\n",
      "Human  :\t39(0)\t130(9)\t126(6)\t417(60)\t109(0)\t354(40)\n",
      "Machine:\t39(0)\t130(9)\t38(5)\t125(25)\t36(0)\t117(13)\n",
      "\n",
      "TASK =  pick_heat_then_place_in_recep\n",
      "Human  :\t24(0)\t84(6)\t107(1)\t368(38)\t136(0)\t453(43)\n",
      "Machine:\t24(0)\t84(6)\t34(1)\t116(14)\t42(0)\t141(13)\n",
      "\n",
      "TASK =  pick_two_obj_and_place\n",
      "Human  :\t38(0)\t78(0)\t124(0)\t260(9)\t81(0)\t192(0)\n",
      "Machine:\t38(0)\t78(0)\t33(1)\t68(4)\t24(0)\t54(0)\n"
     ]
    }
   ],
   "source": [
    "for task in valid_seen_v1_res['results'].keys():\n",
    "    print('\\nTASK = ', task)\n",
    "    print('Human  :\\t{:<1}({:<1})\\t{:<1}({:<1})\\t{:<1}({:<1})\\t{:<1}({:<1})\\t{:<1}({:<1})\\t{:<1}({:<1})'.format(\n",
    "        round(train_sanity_res['results'][task]['success']['num_evals'],2), round(train_sanity_res['results'][task]['success']['num_successes'],2), \\\n",
    "        round(train_sanity_res['results'][task]['goal_condition_success']['total_goal_conditions'],2), round(train_sanity_res['results'][task]['goal_condition_success']['completed_goal_conditions'],2), \\\n",
    "        round(valid_seen_res['results'][task]['success']['num_evals'],2), round(valid_seen_res['results'][task]['success']['num_successes'],2), \\\n",
    "        round(valid_seen_res['results'][task]['goal_condition_success']['total_goal_conditions'],2), round(valid_seen_res['results'][task]['goal_condition_success']['completed_goal_conditions'],2), \\\n",
    "        round(valid_unseen_res['results'][task]['success']['num_evals'],2), round(valid_unseen_res['results'][task]['success']['num_successes'],2), \\\n",
    "        round(valid_unseen_res['results'][task]['goal_condition_success']['total_goal_conditions'],2), round(valid_unseen_res['results'][task]['goal_condition_success']['completed_goal_conditions'],2)\n",
    "    ))\n",
    "    print('Machine:\\t{:<1}({:<1})\\t{:<1}({:<1})\\t{:<1}({:<1})\\t{:<1}({:<1})\\t{:<1}({:<1})\\t{:<1}({:<1})'.format(\n",
    "        round(train_sanity_v1_res['results'][task]['success']['num_evals'],2), round(train_sanity_v1_res['results'][task]['success']['num_successes'],2), \\\n",
    "        round(train_sanity_v1_res['results'][task]['goal_condition_success']['total_goal_conditions'],2), round(train_sanity_v1_res['results'][task]['goal_condition_success']['completed_goal_conditions'],2), \\\n",
    "        round(valid_seen_v1_res['results'][task]['success']['num_evals'],2), round(valid_seen_v1_res['results'][task]['success']['num_successes'],2), \\\n",
    "        round(valid_seen_v1_res['results'][task]['goal_condition_success']['total_goal_conditions'],2), round(valid_seen_v1_res['results'][task]['goal_condition_success']['completed_goal_conditions'],2), \\\n",
    "        round(valid_unseen_v1_res['results'][task]['success']['num_evals'],2), round(valid_unseen_v1_res['results'][task]['success']['num_successes'],2), \\\n",
    "        round(valid_unseen_v1_res['results'][task]['goal_condition_success']['total_goal_conditions'],2), round(valid_unseen_v1_res['results'][task]['goal_condition_success']['completed_goal_conditions'],2)\n",
    "    ))"
   ]
  },
  {
   "cell_type": "code",
   "execution_count": 67,
   "metadata": {},
   "outputs": [
    {
     "data": {
      "text/plain": [
       "{'num_evals': 821, 'num_successes': 1, 'success_rate': 0.001218026796589525}"
      ]
     },
     "execution_count": 67,
     "metadata": {},
     "output_type": "execute_result"
    }
   ],
   "source": [
    "valid_unseen_res['results'][task]['success']"
   ]
  },
  {
   "cell_type": "code",
   "execution_count": 34,
   "metadata": {},
   "outputs": [
    {
     "data": {
      "text/plain": [
       "{'goal_condition_success': {'completed_goal_conditions': 214,\n",
       "  'goal_condition_success_rate': 0.10146989094357516,\n",
       "  'total_goal_conditions': 2109},\n",
       " 'path_length_weighted_goal_condition_success_rate': 0.06861891665730457,\n",
       " 'path_length_weighted_success_rate': 0.018662806194290085,\n",
       " 'success': {'num_evals': 820,\n",
       "  'num_successes': 29,\n",
       "  'success_rate': 0.03536585365853658}}"
      ]
     },
     "execution_count": 34,
     "metadata": {},
     "output_type": "execute_result"
    }
   ],
   "source": [
    "valid_seen_res['results']['all']"
   ]
  },
  {
   "cell_type": "code",
   "execution_count": 20,
   "metadata": {},
   "outputs": [
    {
     "data": {
      "text/plain": [
       "dict_keys(['failures', 'results', 'successes'])"
      ]
     },
     "execution_count": 20,
     "metadata": {},
     "output_type": "execute_result"
    }
   ],
   "source": [
    "valid_seen_subgoal_results.keys()"
   ]
  },
  {
   "cell_type": "code",
   "execution_count": null,
   "metadata": {},
   "outputs": [],
   "source": []
  }
 ],
 "metadata": {
  "kernelspec": {
   "display_name": "Python 3",
   "language": "python",
   "name": "python3"
  },
  "language_info": {
   "codemirror_mode": {
    "name": "ipython",
    "version": 3
   },
   "file_extension": ".py",
   "mimetype": "text/x-python",
   "name": "python",
   "nbconvert_exporter": "python",
   "pygments_lexer": "ipython3",
   "version": "3.6.9"
  }
 },
 "nbformat": 4,
 "nbformat_minor": 4
}
