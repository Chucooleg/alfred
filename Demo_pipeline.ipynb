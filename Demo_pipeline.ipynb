{
 "cells": [
  {
   "cell_type": "code",
   "execution_count": 74,
   "metadata": {},
   "outputs": [],
   "source": [
    "#!ALFRED_ROOT='/root/data/home/hoyeung/alfred'\n",
    "import os\n",
    "import json\n",
    "os.environ[\"ALFRED_ROOT\"] = '/root/data/home/hoyeung/alfred/'"
   ]
  },
  {
   "cell_type": "markdown",
   "metadata": {},
   "source": [
    "# Step 1. Planner sample trajectory according to task tuple"
   ]
  },
  {
   "cell_type": "code",
   "execution_count": 148,
   "metadata": {},
   "outputs": [
    {
     "name": "stdout",
     "output_type": "stream",
     "text": [
      "Found path: /root/.ai2thor/releases/thor-201909061227-Linux64/thor-201909061227-Linux64\n",
      "Mono path[0] = '/root/.ai2thor/releases/thor-201909061227-Linux64/thor-201909061227-Linux64_Data/Managed'\n",
      "Mono config path = '/root/.ai2thor/releases/thor-201909061227-Linux64/thor-201909061227-Linux64_Data/Mono/etc'\n",
      "Preloaded 'ScreenSelector.so'\n",
      "Display 0 'default': 1152x864 (primary device).\n",
      "Logging to /root/.config/unity3d/Allen Institute for Artificial Intelligence/AI2-Thor/Player.log\n",
      "ThorEnv started.\n",
      "Force Unsave Success Data: False\n",
      "Task: ('pick_two_obj_and_place', 'Watch', 'None', 'Dresser', '205')\n",
      "PDDLGoalType: pick_two_obj_and_place\n",
      "Saving images to: /root/data_alfred/demo_generated/new_trajectories_T20200615_203135_456358/pick_two_obj_and_place-Watch-None-Dresser-205/trial_T20200615_203143_427981/raw_images/\n",
      "Resetting ThorEnv\n",
      "set seed in game_state_base reset 45\n",
      "setup random goal ----------------------------------------------\n",
      "seed None\n",
      "info ('train', 72418)\n",
      "--------------------------------------------------------------------\n",
      "\n",
      "\n",
      "Type: train Row:  63966 Scene FloorPlan205 seed 45\n",
      "problem id 63966\n",
      "Task: find two dresser and put them in \n",
      "Performing reset via thor_env API\n",
      "Resetting ThorEnv\n",
      "Performing restore via thor_env API\n",
      "planned logs_gen/planner/generated_problems/problem_63966.pddl in 1.77896, plan length 11 solver type 5\n",
      "planned logs_gen/planner/generated_problems/problem_63966.pddl in 1.78442, plan length 9 solver type 4\n",
      "planned logs_gen/planner/generated_problems/problem_63966.pddl in 1.79352, plan length 9 solver type 3\n",
      "plan\n",
      "000: GotoLocation loc: loc|-13|25|0|60\n",
      "001: PickupObject Watch|-03.36|+00.38|+06.70\tFull: {'objectId': 'Watch|-03.36|+00.38|+06.70', 'receptacleObjectId': 'Drawer|-03.48|+00.47|+06.71'}\n",
      "002: GotoLocation loc: loc|-13|24|0|60\n",
      "003: PutObject o: Watch|-03.36|+00.38|+06.70 r: Dresser|-03.20|-00.01|+06.79\n",
      "004: GotoLocation loc: loc|-11|25|0|60\n",
      "005: PickupObject Watch|-02.75|+00.38|+06.75\tFull: {'objectId': 'Watch|-02.75|+00.38|+06.75', 'receptacleObjectId': 'Drawer|-02.93|+00.47|+06.71'}\n",
      "006: GotoLocation loc: loc|-13|24|0|60\n",
      "007: PutObject o: Watch|-02.75|+00.38|+06.75 r: Dresser|-03.20|-00.01|+06.79\n",
      "008: Action: End\tFull: {'value': 1}\n",
      "step action Action: LookDown\n",
      "step action Action: RotateRight\n",
      "step action Action: MoveAhead\tFull: {'moveMagnitude': 0.25}\n",
      "step action Action: RotateRight\n",
      "step action Action: MoveAhead\tFull: {'moveMagnitude': 0.25}\n",
      "step action Action: MoveAhead\tFull: {'moveMagnitude': 0.25}\n",
      "step action Action: MoveAhead\tFull: {'moveMagnitude': 0.25}\n",
      "step action Action: MoveAhead\tFull: {'moveMagnitude': 0.25}\n",
      "step action Action: MoveAhead\tFull: {'moveMagnitude': 0.25}\n",
      "step action Action: MoveAhead\tFull: {'moveMagnitude': 0.25}\n",
      "step action Action: MoveAhead\tFull: {'moveMagnitude': 0.25}\n",
      "step action Action: MoveAhead\tFull: {'moveMagnitude': 0.25}\n",
      "step action Action: MoveAhead\tFull: {'moveMagnitude': 0.25}\n",
      "step action Action: MoveAhead\tFull: {'moveMagnitude': 0.25}\n",
      "step action Action: MoveAhead\tFull: {'moveMagnitude': 0.25}\n",
      "step action Action: MoveAhead\tFull: {'moveMagnitude': 0.25}\n",
      "step action Action: RotateLeft\n",
      "step action Action: MoveAhead\tFull: {'moveMagnitude': 0.25}\n",
      "step action Action: MoveAhead\tFull: {'moveMagnitude': 0.25}\n",
      "step action Action: MoveAhead\tFull: {'moveMagnitude': 0.25}\n",
      "step action Action: MoveAhead\tFull: {'moveMagnitude': 0.25}\n",
      "step action Action: MoveAhead\tFull: {'moveMagnitude': 0.25}\n",
      "step action Action: MoveAhead\tFull: {'moveMagnitude': 0.25}\n",
      "step action Action: MoveAhead\tFull: {'moveMagnitude': 0.25}\n",
      "step action Action: MoveAhead\tFull: {'moveMagnitude': 0.25}\n",
      "step action Action: MoveAhead\tFull: {'moveMagnitude': 0.25}\n",
      "step action Action: MoveAhead\tFull: {'moveMagnitude': 0.25}\n",
      "step action Action: RotateLeft\n",
      "step action Action: MoveAhead\tFull: {'moveMagnitude': 0.25}\n",
      "step action Action: MoveAhead\tFull: {'moveMagnitude': 0.25}\n",
      "step action Action: MoveAhead\tFull: {'moveMagnitude': 0.25}\n",
      "step action Action: MoveAhead\tFull: {'moveMagnitude': 0.25}\n",
      "step action Action: MoveAhead\tFull: {'moveMagnitude': 0.25}\n",
      "step action Action: MoveAhead\tFull: {'moveMagnitude': 0.25}\n",
      "step action Action: MoveAhead\tFull: {'moveMagnitude': 0.25}\n",
      "step action Action: RotateRight\n",
      "step action Action: MoveAhead\tFull: {'moveMagnitude': 0.25}\n",
      "step action Action: MoveAhead\tFull: {'moveMagnitude': 0.25}\n",
      "step action Action: MoveAhead\tFull: {'moveMagnitude': 0.25}\n",
      "step action Action: MoveAhead\tFull: {'moveMagnitude': 0.25}\n",
      "step action Action: MoveAhead\tFull: {'moveMagnitude': 0.25}\n",
      "step action Action: LookDown\n",
      "nav done\n",
      "step action PickupObject Watch|-03.36|+00.38|+06.70\tFull: {'objectId': 'Watch|-03.36|+00.38|+06.70', 'receptacleObjectId': 'Drawer|-03.48|+00.47|+06.71', 'forceVisible': True}\n",
      "Traceback (most recent call last):\n",
      "  File \"scripts/sample_demo_trajectories.py\", line 304, in sample_task_trajs\n",
      "    agent.step(action_dict)\n",
      "  File \"/root/data/home/hoyeung/alfred/gen/agents/deterministic_planner_agent.py\", line 18, in step\n",
      "    super(DeterministicPlannerAgent, self).step(action)\n",
      "  File \"/root/data/home/hoyeung/alfred/gen/agents/semantic_map_planner_agent.py\", line 66, in step\n",
      "    self.plan_agent.execute_plan()\n",
      "  File \"/root/data/home/hoyeung/alfred/gen/agents/plan_agent.py\", line 38, in execute_plan\n",
      "    self.controller_agent.step(plan_action, executing_plan=True)\n",
      "  File \"/root/data/home/hoyeung/alfred/gen/agents/deterministic_planner_agent.py\", line 18, in step\n",
      "    super(DeterministicPlannerAgent, self).step(action)\n",
      "  File \"/root/data/home/hoyeung/alfred/gen/agents/semantic_map_planner_agent.py\", line 80, in step\n",
      "    super(SemanticMapPlannerAgent, self).step(action)\n",
      "  File \"/root/data/home/hoyeung/alfred/gen/agents/agent_base.py\", line 44, in step\n",
      "    self.game_state.step(action)\n",
      "  File \"/root/data/home/hoyeung/alfred/gen/game_states/task_game_state_full_knowledge.py\", line 367, in step\n",
      "    GameStateBase.step(self, action_or_ind)\n",
      "  File \"/root/data/home/hoyeung/alfred/gen/game_states/game_state_base.py\", line 492, in step\n",
      "    self.open_recep(parent_recep)  # stores LL action\n",
      "  File \"/root/data/home/hoyeung/alfred/gen/game_states/game_state_base.py\", line 843, in open_recep\n",
      "    self.check_action_success(self.event)\n",
      "  File \"/root/data/home/hoyeung/alfred/gen/game_states/game_state_base.py\", line 882, in check_action_success\n",
      "    raise Exception(\"API Action Failed: %s\" % event.metadata['errorMessage'])\n",
      "Exception: API Action Failed: Object failed to open/close successfully.\n",
      "Error: API Action Failed: Object failed to open/close successfully.\n",
      "Invalid Task: skipping...\n",
      "Traceback (most recent call last):\n",
      "  File \"scripts/sample_demo_trajectories.py\", line 304, in sample_task_trajs\n",
      "    agent.step(action_dict)\n",
      "  File \"/root/data/home/hoyeung/alfred/gen/agents/deterministic_planner_agent.py\", line 18, in step\n",
      "    super(DeterministicPlannerAgent, self).step(action)\n",
      "  File \"/root/data/home/hoyeung/alfred/gen/agents/semantic_map_planner_agent.py\", line 66, in step\n",
      "    self.plan_agent.execute_plan()\n",
      "  File \"/root/data/home/hoyeung/alfred/gen/agents/plan_agent.py\", line 38, in execute_plan\n",
      "    self.controller_agent.step(plan_action, executing_plan=True)\n",
      "  File \"/root/data/home/hoyeung/alfred/gen/agents/deterministic_planner_agent.py\", line 18, in step\n",
      "    super(DeterministicPlannerAgent, self).step(action)\n",
      "  File \"/root/data/home/hoyeung/alfred/gen/agents/semantic_map_planner_agent.py\", line 80, in step\n",
      "    super(SemanticMapPlannerAgent, self).step(action)\n",
      "  File \"/root/data/home/hoyeung/alfred/gen/agents/agent_base.py\", line 44, in step\n",
      "    self.game_state.step(action)\n",
      "  File \"/root/data/home/hoyeung/alfred/gen/game_states/task_game_state_full_knowledge.py\", line 367, in step\n",
      "    GameStateBase.step(self, action_or_ind)\n",
      "  File \"/root/data/home/hoyeung/alfred/gen/game_states/game_state_base.py\", line 492, in step\n",
      "    self.open_recep(parent_recep)  # stores LL action\n",
      "  File \"/root/data/home/hoyeung/alfred/gen/game_states/game_state_base.py\", line 843, in open_recep\n",
      "    self.check_action_success(self.event)\n",
      "  File \"/root/data/home/hoyeung/alfred/gen/game_states/game_state_base.py\", line 882, in check_action_success\n",
      "    raise Exception(\"API Action Failed: %s\" % event.metadata['errorMessage'])\n",
      "Exception: API Action Failed: Object failed to open/close successfully.\n",
      "\n",
      "%%%%%%%%%%\n",
      "\terrors (2):\n",
      "\t(1.00) (2)\tAPI Action Failed: Object failed to open/close successfully.\n",
      "%%%%%%%%%%\n",
      "PDDLGoalType: pick_two_obj_and_place\n",
      "Saving images to: /root/data_alfred/demo_generated/new_trajectories_T20200615_203135_456358/pick_two_obj_and_place-Watch-None-Dresser-205/trial_T20200615_203237_966637/raw_images/\n",
      "Resetting ThorEnv\n"
     ]
    },
    {
     "name": "stdout",
     "output_type": "stream",
     "text": [
      "set seed in game_state_base reset 45\n",
      "setup random goal ----------------------------------------------\n",
      "seed None\n",
      "info ('train', 33772)\n",
      "--------------------------------------------------------------------\n",
      "\n",
      "\n",
      "Type: train Row:  63966 Scene FloorPlan205 seed 45\n",
      "problem id 63966\n",
      "Task: find two dresser and put them in \n",
      "Performing reset via thor_env API\n",
      "Resetting ThorEnv\n",
      "Performing restore via thor_env API\n",
      "planned logs_gen/planner/generated_problems/problem_63966.pddl in 1.75081, plan length 9 solver type 4\n",
      "planned logs_gen/planner/generated_problems/problem_63966.pddl in 1.76828, plan length 9 solver type 3\n",
      "planned logs_gen/planner/generated_problems/problem_63966.pddl in 1.76886, plan length 10 solver type 5\n",
      "plan\n",
      "000: GotoLocation loc: loc|-9|24|0|45\n",
      "001: PickupObject Watch|-02.14|+00.84|+06.77\tFull: {'objectId': 'Watch|-02.14|+00.84|+06.77', 'receptacleObjectId': 'SideTable|-02.07|00.00|+06.70'}\n",
      "002: GotoLocation loc: loc|-13|24|0|60\n",
      "003: PutObject o: Watch|-02.14|+00.84|+06.77 r: Dresser|-03.20|-00.01|+06.79\n",
      "004: GotoLocation loc: loc|-8|24|0|45\n",
      "005: PickupObject Watch|-02.01|+00.84|+06.70\tFull: {'objectId': 'Watch|-02.01|+00.84|+06.70', 'receptacleObjectId': 'SideTable|-02.07|00.00|+06.70'}\n",
      "006: GotoLocation loc: loc|-13|24|0|60\n",
      "007: PutObject o: Watch|-02.01|+00.84|+06.70 r: Dresser|-03.20|-00.01|+06.79\n",
      "008: Action: End\tFull: {'value': 1}\n",
      "step action Action: LookDown\n",
      "step action Action: RotateRight\n",
      "step action Action: MoveAhead\tFull: {'moveMagnitude': 0.25}\n",
      "step action Action: RotateRight\n",
      "step action Action: MoveAhead\tFull: {'moveMagnitude': 0.25}\n",
      "step action Action: MoveAhead\tFull: {'moveMagnitude': 0.25}\n",
      "step action Action: MoveAhead\tFull: {'moveMagnitude': 0.25}\n",
      "step action Action: MoveAhead\tFull: {'moveMagnitude': 0.25}\n",
      "step action Action: MoveAhead\tFull: {'moveMagnitude': 0.25}\n",
      "step action Action: MoveAhead\tFull: {'moveMagnitude': 0.25}\n",
      "step action Action: MoveAhead\tFull: {'moveMagnitude': 0.25}\n",
      "step action Action: MoveAhead\tFull: {'moveMagnitude': 0.25}\n",
      "step action Action: MoveAhead\tFull: {'moveMagnitude': 0.25}\n",
      "step action Action: MoveAhead\tFull: {'moveMagnitude': 0.25}\n",
      "step action Action: MoveAhead\tFull: {'moveMagnitude': 0.25}\n",
      "step action Action: MoveAhead\tFull: {'moveMagnitude': 0.25}\n",
      "step action Action: RotateLeft\n",
      "step action Action: MoveAhead\tFull: {'moveMagnitude': 0.25}\n",
      "step action Action: MoveAhead\tFull: {'moveMagnitude': 0.25}\n",
      "step action Action: MoveAhead\tFull: {'moveMagnitude': 0.25}\n",
      "step action Action: MoveAhead\tFull: {'moveMagnitude': 0.25}\n",
      "step action Action: MoveAhead\tFull: {'moveMagnitude': 0.25}\n",
      "step action Action: MoveAhead\tFull: {'moveMagnitude': 0.25}\n",
      "step action Action: MoveAhead\tFull: {'moveMagnitude': 0.25}\n",
      "step action Action: MoveAhead\tFull: {'moveMagnitude': 0.25}\n",
      "step action Action: MoveAhead\tFull: {'moveMagnitude': 0.25}\n",
      "step action Action: MoveAhead\tFull: {'moveMagnitude': 0.25}\n",
      "step action Action: RotateLeft\n",
      "step action Action: MoveAhead\tFull: {'moveMagnitude': 0.25}\n",
      "step action Action: MoveAhead\tFull: {'moveMagnitude': 0.25}\n",
      "step action Action: MoveAhead\tFull: {'moveMagnitude': 0.25}\n",
      "step action Action: RotateRight\n",
      "step action Action: MoveAhead\tFull: {'moveMagnitude': 0.25}\n",
      "step action Action: MoveAhead\tFull: {'moveMagnitude': 0.25}\n",
      "step action Action: MoveAhead\tFull: {'moveMagnitude': 0.25}\n",
      "step action Action: MoveAhead\tFull: {'moveMagnitude': 0.25}\n",
      "nav done\n",
      "step action PickupObject Watch|-02.14|+00.84|+06.77\tFull: {'objectId': 'Watch|-02.14|+00.84|+06.77', 'receptacleObjectId': 'SideTable|-02.07|00.00|+06.70', 'forceVisible': True}\n",
      "step action Action: RotateLeft\n",
      "step action Action: MoveAhead\tFull: {'moveMagnitude': 0.25}\n",
      "step action Action: MoveAhead\tFull: {'moveMagnitude': 0.25}\n",
      "step action Action: MoveAhead\tFull: {'moveMagnitude': 0.25}\n",
      "step action Action: MoveAhead\tFull: {'moveMagnitude': 0.25}\n",
      "step action Action: RotateRight\n",
      "step action Action: LookDown\n",
      "nav done\n",
      "step action PutObject o: Watch|-02.14|+00.84|+06.77 r: Dresser|-03.20|-00.01|+06.79\tFull: {'forceVisible': True}\n",
      "step action Action: LookUp\n",
      "step action Action: RotateRight\n",
      "step action Action: MoveAhead\tFull: {'moveMagnitude': 0.25}\n",
      "step action Action: MoveAhead\tFull: {'moveMagnitude': 0.25}\n",
      "step action Action: MoveAhead\tFull: {'moveMagnitude': 0.25}\n",
      "step action Action: MoveAhead\tFull: {'moveMagnitude': 0.25}\n",
      "step action Action: MoveAhead\tFull: {'moveMagnitude': 0.25}\n",
      "step action Action: RotateLeft\n",
      "nav done\n",
      "step action PickupObject Watch|-02.01|+00.84|+06.70\tFull: {'objectId': 'Watch|-02.01|+00.84|+06.70', 'receptacleObjectId': 'SideTable|-02.07|00.00|+06.70', 'forceVisible': True}\n",
      "step action Action: RotateLeft\n",
      "step action Action: MoveAhead\tFull: {'moveMagnitude': 0.25}\n",
      "step action Action: MoveAhead\tFull: {'moveMagnitude': 0.25}\n",
      "step action Action: MoveAhead\tFull: {'moveMagnitude': 0.25}\n",
      "step action Action: MoveAhead\tFull: {'moveMagnitude': 0.25}\n",
      "step action Action: MoveAhead\tFull: {'moveMagnitude': 0.25}\n",
      "step action Action: RotateRight\n",
      "step action Action: LookDown\n",
      "nav done\n",
      "step action PutObject o: Watch|-02.01|+00.84|+06.70 r: Dresser|-03.20|-00.01|+06.79\tFull: {'forceVisible': True}\n",
      "ffmpeg version 4.2.3 Copyright (c) 2000-2020 the FFmpeg developers\n",
      "  built with gcc 7.5.0 (crosstool-NG 1.24.0.123_1667d2b)\n",
      "  configuration: --prefix=/opt/conda/envs/pytorch-py3.6 --cc=/home/conda/feedstock_root/build_artifacts/ffmpeg_1590573566052/_build_env/bin/x86_64-conda_cos6-linux-gnu-cc --disable-doc --disable-openssl --enable-avresample --enable-gnutls --enable-gpl --enable-hardcoded-tables --enable-libfreetype --enable-libopenh264 --enable-libx264 --enable-pic --enable-pthreads --enable-shared --enable-static --enable-version3 --enable-zlib --enable-libmp3lame\n",
      "  libavutil      56. 31.100 / 56. 31.100\n",
      "  libavcodec     58. 54.100 / 58. 54.100\n",
      "  libavformat    58. 29.100 / 58. 29.100\n",
      "  libavdevice    58.  8.100 / 58.  8.100\n",
      "  libavfilter     7. 57.100 /  7. 57.100\n",
      "  libavresample   4.  0.  0 /  4.  0.  0\n",
      "  libswscale      5.  5.100 /  5.  5.100\n",
      "  libswresample   3.  5.100 /  3.  5.100\n",
      "  libpostproc    55.  5.100 / 55.  5.100\n",
      "Input #0, image2, from '/root/data_alfred/demo_generated/new_trajectories_T20200615_203135_456358/pick_two_obj_and_place-Watch-None-Dresser-205/trial_T20200615_203237_966637/raw_images/*.png':\n",
      "  Duration: 00:00:12.92, start: 0.000000, bitrate: N/A\n",
      "    Stream #0:0: Video: png, rgb24(pc), 300x300, 25 fps, 25 tbr, 25 tbn, 25 tbc\n",
      "Stream mapping:\n",
      "  Stream #0:0 -> #0:0 (png (native) -> h264 (libx264))\n",
      "Press [q] to stop, [?] for help\n",
      "\u001b[1;36m[libx264 @ 0x55f690cca040] \u001b[0musing cpu capabilities: MMX2 SSE2Fast SSSE3 SSE4.2 AVX FMA3 BMI2 AVX2\n",
      "\u001b[1;36m[libx264 @ 0x55f690cca040] \u001b[0mprofile High, level 1.2\n",
      "\u001b[1;36m[libx264 @ 0x55f690cca040] \u001b[0m264 - core 152 - H.264/MPEG-4 AVC codec - Copyleft 2003-2017 - http://www.videolan.org/x264.html - options: cabac=1 ref=3 deblock=1:0:0 analyse=0x3:0x113 me=hex subme=7 psy=1 psy_rd=1.00:0.00 mixed_ref=1 me_range=16 chroma_me=1 trellis=1 8x8dct=1 cqm=0 deadzone=21,11 fast_pskip=1 chroma_qp_offset=-2 threads=9 lookahead_threads=1 sliced_threads=0 nr=0 decimate=1 interlaced=0 bluray_compat=0 constrained_intra=0 bframes=3 b_pyramid=2 b_adapt=1 b_bias=0 direct=1 weightb=1 open_gop=0 weightp=2 keyint=250 keyint_min=5 scenecut=40 intra_refresh=0 rc_lookahead=40 rc=crf mbtree=1 crf=23.0 qcomp=0.60 qpmin=0 qpmax=69 qpstep=4 ip_ratio=1.40 aq=1:1.00\n",
      "Output #0, mp4, to '/root/data_alfred/demo_generated/new_trajectories_T20200615_203135_456358/pick_two_obj_and_place-Watch-None-Dresser-205/trial_T20200615_203237_966637/video.mp4':\n",
      "  Metadata:\n",
      "    encoder         : Lavf58.29.100\n",
      "    Stream #0:0: Video: h264 (libx264) (avc1 / 0x31637661), yuv420p, 300x300, q=-1--1, 5 fps, 10240 tbn, 5 tbc\n",
      "    Metadata:\n",
      "      encoder         : Lavc58.54.100 libx264\n",
      "    Side data:\n",
      "      cpb: bitrate max/min/avg: 0/0/0 buffer size: 0 vbv_delay: -1\n",
      "frame=  323 fps=0.0 q=-1.0 Lsize=    1223kB time=00:01:04.00 bitrate= 156.5kbits/s speed=72.6x    \n",
      "video:1218kB audio:0kB subtitle:0kB other streams:0kB global headers:0kB muxing overhead: 0.355871%\n",
      "\u001b[1;36m[libx264 @ 0x55f690cca040] \u001b[0mframe I:3     Avg QP:15.64  size: 13512\n",
      "\u001b[1;36m[libx264 @ 0x55f690cca040] \u001b[0mframe P:115   Avg QP:18.59  size:  6961\n",
      "\u001b[1;36m[libx264 @ 0x55f690cca040] \u001b[0mframe B:205   Avg QP:20.23  size:  1980\n",
      "\u001b[1;36m[libx264 @ 0x55f690cca040] \u001b[0mconsecutive B-frames: 10.2%  9.3% 18.6% 61.9%\n",
      "\u001b[1;36m[libx264 @ 0x55f690cca040] \u001b[0mmb I  I16..4:  4.9% 63.9% 31.2%\n",
      "\u001b[1;36m[libx264 @ 0x55f690cca040] \u001b[0mmb P  I16..4:  2.1% 13.7% 13.5%  P16..4: 15.6% 20.6% 19.5%  0.0%  0.0%    skip:14.9%\n",
      "\u001b[1;36m[libx264 @ 0x55f690cca040] \u001b[0mmb B  I16..4:  0.2%  0.5%  1.1%  B16..8: 16.8% 12.5%  9.1%  direct: 1.7%  skip:58.0%  L0:48.2% L1:39.9% BI:11.9%\n",
      "\u001b[1;36m[libx264 @ 0x55f690cca040] \u001b[0m8x8 transform intra:46.2% inter:50.1%\n",
      "\u001b[1;36m[libx264 @ 0x55f690cca040] \u001b[0mcoded y,uvDC,uvAC intra: 84.0% 84.2% 70.1% inter: 23.8% 18.1% 6.1%\n",
      "\u001b[1;36m[libx264 @ 0x55f690cca040] \u001b[0mi16 v,h,dc,p: 12% 65%  9% 14%\n",
      "\u001b[1;36m[libx264 @ 0x55f690cca040] \u001b[0mi8 v,h,dc,ddl,ddr,vr,hd,vl,hu: 14% 22% 23%  6%  7%  7%  7%  8%  7%\n",
      "\u001b[1;36m[libx264 @ 0x55f690cca040] \u001b[0mi4 v,h,dc,ddl,ddr,vr,hd,vl,hu: 20% 24% 15%  6%  8%  8%  8%  7%  5%\n",
      "\u001b[1;36m[libx264 @ 0x55f690cca040] \u001b[0mi8c dc,h,v,p: 49% 27% 17%  7%\n",
      "\u001b[1;36m[libx264 @ 0x55f690cca040] \u001b[0mWeighted P-Frames: Y:0.0% UV:0.0%\n",
      "\u001b[1;36m[libx264 @ 0x55f690cca040] \u001b[0mref P L0: 75.6% 15.8%  6.2%  2.3%\n",
      "\u001b[1;36m[libx264 @ 0x55f690cca040] \u001b[0mref B L0: 95.6%  3.9%  0.6%\n",
      "\u001b[1;36m[libx264 @ 0x55f690cca040] \u001b[0mref B L1: 99.0%  1.0%\n",
      "\u001b[1;36m[libx264 @ 0x55f690cca040] \u001b[0mkb/s:154.42\n",
      "---------------End of Sampling----------------\n",
      "('pick_two_obj_and_place', 'Watch', 'None', 'Dresser', '205')\n",
      "Finished a maximum of 5 trials, with 0 fails.\n",
      "%%%%%%%%%%\n"
     ]
    }
   ],
   "source": [
    "os.chdir(os.path.join(os.environ['ALFRED_ROOT'], 'gen')) #!cd $ALFRED_ROOT/gen/\n",
    "!python scripts/sample_demo_trajectories.py --debug --goal pick_two_obj_and_place --pickup Watch --movable None --receptacle Dresser --scene 205 --seed 45 --save_path /root/data_alfred/demo_generated/new_trajectories/"
   ]
  },
  {
   "cell_type": "markdown",
   "metadata": {},
   "source": [
    "# Step 1.5 Video of Sampled Trajectory"
   ]
  },
  {
   "cell_type": "markdown",
   "metadata": {},
   "source": [
    "https://youtu.be/nt5_WhiXBoE"
   ]
  },
  {
   "cell_type": "markdown",
   "metadata": {},
   "source": [
    "# Step 2. Resnet extract image features"
   ]
  },
  {
   "cell_type": "code",
   "execution_count": 76,
   "metadata": {},
   "outputs": [
    {
     "name": "stdout",
     "output_type": "stream",
     "text": [
      "/root/data_alfred/demo_generated/new_trajectories_T20200615_203135_456358/pick_two_obj_and_place-Watch-None-Dresser-205/trial_T20200615_203237_966637/raw_images\n",
      "Skipped:\n",
      "[]\n"
     ]
    }
   ],
   "source": [
    "os.chdir(os.path.join(os.environ['ALFRED_ROOT'])) #!cd $ALFRED_ROOT/\n",
    "!python models/utils/extract_resnet.py --data /root/data_alfred/demo_generated/new_trajectories_T20200615_203135_456358/ --gpu"
   ]
  },
  {
   "cell_type": "markdown",
   "metadata": {},
   "source": [
    "# Step 3. Agent Collect Object States"
   ]
  },
  {
   "cell_type": "code",
   "execution_count": 77,
   "metadata": {
    "scrolled": false
   },
   "outputs": [
    {
     "name": "stdout",
     "output_type": "stream",
     "text": [
      "Logger is writing to /root/data_alfred/demo_generated/new_trajectories_T20200615_203135_456358/collect_demo_obj_states_T20200617_002410_511571.log\n",
      "Found path: /root/.ai2thor/releases/thor-201909061227-Linux64/thor-201909061227-Linux64\n",
      "Mono path[0] = '/root/.ai2thor/releases/thor-201909061227-Linux64/thor-201909061227-Linux64_Data/Managed'\n",
      "Mono config path = '/root/.ai2thor/releases/thor-201909061227-Linux64/thor-201909061227-Linux64_Data/Mono/etc'\n",
      "Preloaded 'ScreenSelector.so'\n",
      "Display 0 'default': 1152x864 (primary device).\n",
      "Logging to /root/.config/unity3d/Allen Institute for Artificial Intelligence/AI2-Thor/Player.log\n",
      "ThorEnv started.\n",
      "Raw Splits are : dict_keys(['demo'])\n",
      "-----------START COLLECTING OBJECT STATES FROM RAW TRAJECTORIES-----------\n",
      "Split demo starts object states collection\n",
      "Tasks: [{'task': 'pick_two_obj_and_place-Watch-None-Dresser-205/trial_T20200615_203237_966637'}]\n",
      "N/A% (0 of 1) |                          | Elapsed Time: 0:00:00 ETA:  --:--:--\n",
      "Processing /root/data_alfred/demo_generated/new_trajectories_T20200615_203135_456358/pick_two_obj_and_place-Watch-None-Dresser-205/trial_T20200615_203237_966637\n",
      "Resetting ThorEnv\n",
      "Goal Reached\n",
      "Task succeeds to collect object state.\n",
      "100% (1 of 1) |##########################| Elapsed Time: 0:06:48 Time:  0:06:48\n",
      "Split demo object states collection results: successes=1, fails=0, total=1\n",
      "New split file for successful trajectories is saved to /root/data_alfred/splits/demo_T20200615_203135_456358.json\n"
     ]
    }
   ],
   "source": [
    "os.chdir(os.path.join(os.environ['ALFRED_ROOT'], 'gen')) #!cd $ALFRED_ROOT/gen/\n",
    "!python scripts/collect_demo_object_states.py --data /root/data_alfred/demo_generated/new_trajectories_T20200615_203135_456358 --raw_splits /root/data_alfred/splits/demo_T20200615_203135_456358_raw.json"
   ]
  },
  {
   "cell_type": "markdown",
   "metadata": {},
   "source": [
    "# Step 4. Preprocess Action Traces and Images Using Explainer Vocab"
   ]
  },
  {
   "cell_type": "code",
   "execution_count": 78,
   "metadata": {},
   "outputs": [
    {
     "name": "stdout",
     "output_type": "stream",
     "text": [
      "/root/data/home/hoyeung/blob_alfred_data/exp_all/model:seq2seq_per_subgoal,name:v2_epoch_40_obj_instance_enc_max_pool_dec_aux_loss_weighted_bce_1to2/net_epoch_32.pth\n",
      "Namespace(data='/root/data_alfred/demo_generated/new_trajectories_T20200615_203135_456358', explainer='/root/data/home/hoyeung/blob_alfred_data/exp_all/model:seq2seq_per_subgoal,name:v2_epoch_40_obj_instance_enc_max_pool_dec_aux_loss_weighted_bce_1to2/net_epoch_32.pth', fast_epoch=False, pframe=300, pp_folder='pp_model:seq2seq_per_subgoal,name:v2_epoch_40_obj_instance_enc_max_pool_dec_aux_loss_weighted_bce_1to2', splits='/root/data_alfred/splits/demo_T20200615_203135_456358.json')\n",
      "\n",
      "{'demo': 1}\n",
      "\n",
      "Preprocessing dataset and saving to pp_model:seq2seq_per_subgoal,name:v2_epoch_40_obj_instance_enc_max_pool_dec_aux_loss_weighted_bce_1to2 folders ... \n",
      "\n",
      "Preprocessing demo\n",
      "100% (1 of 1) |##########################| Elapsed Time: 0:00:00 Time:  0:00:00\n",
      "\n",
      "Finished preprocessing vocab, find results in /root/data_alfred/demo_generated/new_trajectories_T20200615_203135_456358/<goal type>/<task id>/pp_model:seq2seq_per_subgoal,name:v2_epoch_40_obj_instance_enc_max_pool_dec_aux_loss_weighted_bce_1to2\n",
      "\n",
      "Made a copy of vocab to /root/data_alfred/demo_generated/new_trajectories_T20200615_203135_456358/pp_model:seq2seq_per_subgoal,name:v2_epoch_40_obj_instance_enc_max_pool_dec_aux_loss_weighted_bce_1to2.vocab\n"
     ]
    }
   ],
   "source": [
    "os.chdir(os.path.join(os.environ['ALFRED_ROOT'])) #!cd $ALFRED_ROOT/\n",
    "!python data/preprocess_demo_trajectories.py --data /root/data_alfred/demo_generated/new_trajectories_T20200615_203135_456358 --splits /root/data_alfred/splits/demo_T20200615_203135_456358.json --explainer /root/data/home/hoyeung/blob_alfred_data/exp_all/model:seq2seq_per_subgoal,name:v2_epoch_40_obj_instance_enc_max_pool_dec_aux_loss_weighted_bce_1to2/net_epoch_32.pth "
   ]
  },
  {
   "cell_type": "markdown",
   "metadata": {},
   "source": [
    "# Step 5. Preprocess Object States Using Explainer Object Vocab"
   ]
  },
  {
   "cell_type": "code",
   "execution_count": 79,
   "metadata": {},
   "outputs": [
    {
     "name": "stdout",
     "output_type": "stream",
     "text": [
      "Splits are : dict_keys(['demo'])\n",
      "/root/data_alfred/demo_generated/new_trajectories_T20200615_203135_456358/pick_two_obj_and_place-Watch-None-Dresser-205/trial_T20200615_203237_966637\n",
      "Finished processing all splits.\n",
      "\n",
      "Finished preprocessing object vocab, find results in /root/data_alfred/demo_generated/new_trajectories_T20200615_203135_456358/<goal type>/<task id>/pp_model:seq2seq_per_subgoal,name:v2_epoch_40_obj_instance_enc_max_pool_dec_aux_loss_weighted_bce_1to2\n",
      "\n",
      "Made a copy of object vocab to /root/data_alfred/demo_generated/new_trajectories_T20200615_203135_456358/pp_model:seq2seq_per_subgoal,name:v2_epoch_40_obj_instance_enc_max_pool_dec_aux_loss_weighted_bce_1to2.object_vocab\n"
     ]
    }
   ],
   "source": [
    "os.chdir(os.path.join(os.environ['ALFRED_ROOT'])) #!cd $ALFRED_ROOT/\n",
    "!python data/preprocess_demo_object_states.py --data /root/data_alfred/demo_generated/new_trajectories_T20200615_203135_456358 --splits /root/data_alfred/splits/demo_T20200615_203135_456358.json --explainer /root/data/home/hoyeung/blob_alfred_data/exp_all/model:seq2seq_per_subgoal,name:v2_epoch_40_obj_instance_enc_max_pool_dec_aux_loss_weighted_bce_1to2/net_epoch_32.pth "
   ]
  },
  {
   "cell_type": "markdown",
   "metadata": {},
   "source": [
    "# Step 6. Explainer makes prediction"
   ]
  },
  {
   "cell_type": "code",
   "execution_count": 80,
   "metadata": {},
   "outputs": [
    {
     "name": "stdout",
     "output_type": "stream",
     "text": [
      "Input args:\n",
      "Namespace(batch=8, data='/root/data_alfred/demo_generated/new_trajectories_T20200615_203135_456358', debug=True, fast_epoch=False, gpu=True, high_level_explainer_checkpt_path='None', low_level_explainer_checkpt_path='/root/data/home/hoyeung/blob_alfred_data/exp_all/model:seq2seq_per_subgoal,name:v2_epoch_40_obj_instance_enc_max_pool_dec_aux_loss_weighted_bce_1to2/net_epoch_32.pth', seed=123, splits='/root/data_alfred/splits/demo_T20200615_203135_456358.json')\n",
      "{'demo': 1}\n",
      "Low-level Explainer Model path : /root/data/home/hoyeung/blob_alfred_data/exp_all/model:seq2seq_per_subgoal,name:v2_epoch_40_obj_instance_enc_max_pool_dec_aux_loss_weighted_bce_1to2/net_epoch_32.pth\n",
      "High-level Explainer Model path : None\n",
      "Output directory: /root/data_alfred/demo_generated/new_trajectories_T20200615_203135_456358/dout_explainer_low_model:seq2seq_per_subgoal,name:v2_epoch_40_obj_instance_enc_max_pool_dec_aux_loss_weighted_bce_1to2_high_None\n",
      "Loading low-level Explainer Model module : seq2seq_per_subgoal\n",
      "Processing demo split with low level explainer model.\n",
      "batch:   0%|                                              | 0/1 [00:00<?, ?it/s]/root/data/home/hoyeung/alfred/models/model/seq2seq_per_subgoal.py:301: UserWarning: To copy construct from a tensor, it is recommended to use sourceTensor.clone().detach() or sourceTensor.clone().detach().requires_grad_(True), rather than torch.tensor(sourceTensor).\n",
      "  empty_tensor = torch.ones(torch.tensor(v[0][0][0]).unsqueeze(0).shape, device=device, dtype=torch.float if ('frames' in k) else torch.long) * self.pad\n",
      "/root/data/home/hoyeung/alfred/models/model/seq2seq_per_subgoal.py:312: UserWarning: To copy construct from a tensor, it is recommended to use sourceTensor.clone().detach() or sourceTensor.clone().detach().requires_grad_(True), rather than torch.tensor(sourceTensor).\n",
      "  seqs.append(torch.tensor(v[subgoal_i][batch_i], device=device, dtype=torch.float if ('frames' in k) else torch.long))\n",
      "batch: 100%|██████████████████████████████████████| 1/1 [00:26<00:00, 26.46s/it]\n",
      "Saving low level language instruction outputs for demo to /root/data_alfred/demo_generated/new_trajectories_T20200615_203135_456358/dout_explainer_low_model:seq2seq_per_subgoal,name:v2_epoch_40_obj_instance_enc_max_pool_dec_aux_loss_weighted_bce_1to2_high_None/demo_low_output_preds.json\n",
      "Saving low level debug outputs for demo to /root/data_alfred/demo_generated/new_trajectories_T20200615_203135_456358/dout_explainer_low_model:seq2seq_per_subgoal,name:v2_epoch_40_obj_instance_enc_max_pool_dec_aux_loss_weighted_bce_1to2_high_None/demo_low_debug_preds.json\n"
     ]
    }
   ],
   "source": [
    "os.chdir(os.path.join(os.environ['ALFRED_ROOT'])) #!cd $ALFRED_ROOT/\n",
    "!python models/run_demo/explain_demo_trajectories.py --data /root/data_alfred/demo_generated/new_trajectories_T20200615_203135_456358 --splits /root/data_alfred/splits/demo_T20200615_203135_456358.json --low_level_explainer_checkpt_path /root/data/home/hoyeung/blob_alfred_data/exp_all/model:seq2seq_per_subgoal,name:v2_epoch_40_obj_instance_enc_max_pool_dec_aux_loss_weighted_bce_1to2/net_epoch_32.pth --gpu --debug"
   ]
  },
  {
   "cell_type": "markdown",
   "metadata": {},
   "source": [
    "# Examine Language Prediction"
   ]
  },
  {
   "cell_type": "code",
   "execution_count": 82,
   "metadata": {},
   "outputs": [
    {
     "name": "stdout",
     "output_type": "stream",
     "text": [
      "{'trial_T20200615_203237_966637': {'p_lang_instr': {'0': 'turn around and walk to the tv stand .', '1': 'pick up the watch from the table .', '2': 'turn left and walk to the tv stand .', '3': 'place the watch on the tv stand .', '4': 'turn right and walk to the end table .', '5': 'pick up the watch from the table .', '6': 'turn left and walk to the tv stand .', '7': 'place the watch on the tv stand .'}}}\n"
     ]
    }
   ],
   "source": [
    "p = '/root/data_alfred/demo_generated/new_trajectories_T20200615_203135_456358/dout_explainer_low_model:seq2seq_per_subgoal,name:v2_epoch_40_obj_instance_enc_max_pool_dec_aux_loss_weighted_bce_1to2_high_None/demo_low_output_preds.json'\n",
    "with open(p, 'r') as f:\n",
    "    lang_output = json.load(f)\n",
    "print(lang_output)"
   ]
  },
  {
   "cell_type": "raw",
   "metadata": {},
   "source": [
    "python scripts/sample_demo_trajectories.py --debug --goal pick_two_obj_and_place --pickup Watch --movable None --receptacle Dresser --scene 205  --save_path /root/data_alfred/demo_generated/new_trajectories/ --trials_before_fail 20 --num_threads 3"
   ]
  },
  {
   "cell_type": "code",
   "execution_count": null,
   "metadata": {},
   "outputs": [],
   "source": []
  }
 ],
 "metadata": {
  "kernelspec": {
   "display_name": "Python 3",
   "language": "python",
   "name": "python3"
  },
  "language_info": {
   "codemirror_mode": {
    "name": "ipython",
    "version": 3
   },
   "file_extension": ".py",
   "mimetype": "text/x-python",
   "name": "python",
   "nbconvert_exporter": "python",
   "pygments_lexer": "ipython3",
   "version": "3.6.9"
  }
 },
 "nbformat": 4,
 "nbformat_minor": 4
}
