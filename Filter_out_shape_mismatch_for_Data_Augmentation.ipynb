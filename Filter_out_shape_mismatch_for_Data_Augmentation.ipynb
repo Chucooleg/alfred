{
 "cells": [
  {
   "cell_type": "code",
   "execution_count": 7,
   "metadata": {},
   "outputs": [],
   "source": [
    "import json\n",
    "import os\n",
    "from collections import Counter\n",
    "import numpy as np\n",
    "import progressbar"
   ]
  },
  {
   "cell_type": "markdown",
   "metadata": {},
   "source": [
    "### Read Data and Splits"
   ]
  },
  {
   "cell_type": "code",
   "execution_count": 8,
   "metadata": {},
   "outputs": [],
   "source": [
    "data_p = '/root/media/legg/data-850-evo/json_data_augmentation_20200820'\n",
    "splits_p = '/root/home/legg/data_alfred/splits/sample_failed_20200820.json'"
   ]
  },
  {
   "cell_type": "code",
   "execution_count": 9,
   "metadata": {},
   "outputs": [],
   "source": [
    "with open(splits_p, 'r') as f:\n",
    "    splits = json.load(f)"
   ]
  },
  {
   "cell_type": "code",
   "execution_count": 10,
   "metadata": {},
   "outputs": [
    {
     "data": {
      "text/plain": [
       "7649"
      ]
     },
     "execution_count": 10,
     "metadata": {},
     "output_type": "execute_result"
    }
   ],
   "source": [
    "len(splits['augmentation'])"
   ]
  },
  {
   "cell_type": "code",
   "execution_count": 11,
   "metadata": {},
   "outputs": [
    {
     "data": {
      "text/plain": [
       "{'task': 'pick_and_place_simple-AlarmClock-None-Dresser-317/trial_T20200815_024233_857912',\n",
       " 'repeat_idx': 0,\n",
       " 'full_traj_success': True,\n",
       " 'collected_subgoals': 4}"
      ]
     },
     "execution_count": 11,
     "metadata": {},
     "output_type": "execute_result"
    }
   ],
   "source": [
    "# missing an entire subgoal\n",
    "{'task': 'pick_and_place_simple-AlarmClock-None-Dresser-317/trial_T20200815_024233_857912', 'repeat_idx': 0, 'full_traj_success': True, 'collected_subgoals': 4}"
   ]
  },
  {
   "cell_type": "markdown",
   "metadata": {},
   "source": [
    "### (Pre Explainer/Baseline Prediction) Filter down to only tasks with subgoal lengths match between actions and extracted object states features"
   ]
  },
  {
   "cell_type": "code",
   "execution_count": 6,
   "metadata": {},
   "outputs": [
    {
     "name": "stderr",
     "output_type": "stream",
     "text": [
      "100% (7649 of 7649) |####################| Elapsed Time: 0:00:20 Time:  0:00:20\n"
     ]
    }
   ],
   "source": [
    "fail = 0\n",
    "fail_full_success = []\n",
    "fail_full_fail = []\n",
    "error_free_split = []\n",
    "\n",
    "for task in progressbar.progressbar(splits['augmentation']):\n",
    "    \n",
    "    traj_data_p = os.path.join(data_p, task['task'], 'traj_data.json')\n",
    "    with open(traj_data_p, 'r') as f:\n",
    "        traj_data = json.load(f)\n",
    "    metadata_p = os.path.join(data_p, task['task'], 'metadata_states.json')\n",
    "\n",
    "    extracted_features_p = os.path.join(data_p, task['task'], 'pp_model:seq2seq_per_subgoal,name:v2_epoch_40_obj_instance_enc_max_pool_dec_aux_loss_weighted_bce_1to2', 'extracted_feature_states.json')\n",
    "    with open(extracted_features_p, 'r') as f:\n",
    "        extracted_features = json.load(f)\n",
    "        \n",
    "    subgoal_len_features = [(i,len(subgoal)) for i, subgoal in enumerate(extracted_features['instance_visibile'])]\n",
    "    counter_items = list(Counter([low_a['high_idx'] for low_a in traj_data['plan']['low_actions']]).items())\n",
    "    counter_items_num = list(Counter(traj_data['num']['low_to_high_idx']).items())\n",
    "    \n",
    "    if task['full_traj_success']:\n",
    "        subgoal_len_features = subgoal_len_features[:-1]\n",
    "        \n",
    "    try:\n",
    "        assert counter_items == subgoal_len_features\n",
    "        error_free_split.append(task)\n",
    "    except:\n",
    "        if task['full_traj_success']:\n",
    "            fail_full_success.append(task)\n",
    "        else:\n",
    "            fail_full_fail.append(task)\n",
    "#             import pdb; pdb.set_trace()\n",
    "#         with open(metadata_p, 'r') as f:\n",
    "#             metadata = json.load(f)\n",
    "        fail += 1"
   ]
  },
  {
   "cell_type": "code",
   "execution_count": 7,
   "metadata": {},
   "outputs": [
    {
     "data": {
      "text/plain": [
       "7570"
      ]
     },
     "execution_count": 7,
     "metadata": {},
     "output_type": "execute_result"
    }
   ],
   "source": [
    "len(error_free_split)"
   ]
  },
  {
   "cell_type": "code",
   "execution_count": 39,
   "metadata": {},
   "outputs": [
    {
     "data": {
      "text/plain": [
       "{'task': 'look_at_obj_in_light-BaseballBat-None-DeskLamp-301/trial_T20200814_164125_595727',\n",
       " 'repeat_idx': 0,\n",
       " 'full_traj_success': False,\n",
       " 'collected_subgoals': 2}"
      ]
     },
     "execution_count": 39,
     "metadata": {},
     "output_type": "execute_result"
    }
   ],
   "source": [
    "error_free_split[0]"
   ]
  },
  {
   "cell_type": "code",
   "execution_count": 38,
   "metadata": {},
   "outputs": [
    {
     "data": {
      "text/plain": [
       "[(3, 3290),\n",
       " (6, 1170),\n",
       " (2, 1149),\n",
       " (5, 727),\n",
       " (4, 313),\n",
       " (7, 310),\n",
       " (9, 270),\n",
       " (8, 142),\n",
       " (12, 83),\n",
       " (11, 43),\n",
       " (10, 33),\n",
       " (13, 31),\n",
       " (14, 8),\n",
       " (16, 1)]"
      ]
     },
     "execution_count": 38,
     "metadata": {},
     "output_type": "execute_result"
    }
   ],
   "source": [
    "Counter([t['collected_subgoals'] for t in error_free_split]).most_common()"
   ]
  },
  {
   "cell_type": "code",
   "execution_count": 40,
   "metadata": {},
   "outputs": [
    {
     "data": {
      "text/plain": [
       "[(False, 6963), (True, 607)]"
      ]
     },
     "execution_count": 40,
     "metadata": {},
     "output_type": "execute_result"
    }
   ],
   "source": [
    "Counter([t['full_traj_success'] for t in error_free_split]).most_common()"
   ]
  },
  {
   "cell_type": "markdown",
   "metadata": {},
   "source": [
    "### Save the Filtered Splits"
   ]
  },
  {
   "cell_type": "code",
   "execution_count": 35,
   "metadata": {},
   "outputs": [],
   "source": [
    "# save splits out!\n",
    "error_free_splits_p = '/root/data_alfred/splits/sample_failed_20200820_filtered.json'\n",
    "\n",
    "with open(error_free_splits_p, 'w') as f:\n",
    "    json.dump({'augmentation':error_free_split}, f)"
   ]
  },
  {
   "cell_type": "code",
   "execution_count": 13,
   "metadata": {},
   "outputs": [],
   "source": [
    "# save splits out!\n",
    "error_free_splits_p = '/root/home/legg/data_alfred/splits/sample_failed_20200820_filtered.json'\n",
    "\n",
    "with open(error_free_splits_p, 'r') as f:\n",
    "    error_free_split = json.load(f)['augmentation']"
   ]
  },
  {
   "cell_type": "code",
   "execution_count": 14,
   "metadata": {},
   "outputs": [
    {
     "data": {
      "text/plain": [
       "7570"
      ]
     },
     "execution_count": 14,
     "metadata": {},
     "output_type": "execute_result"
    }
   ],
   "source": [
    "len(error_free_split)"
   ]
  },
  {
   "cell_type": "markdown",
   "metadata": {},
   "source": [
    "### Create Toy Split for Testing"
   ]
  },
  {
   "cell_type": "code",
   "execution_count": 49,
   "metadata": {},
   "outputs": [],
   "source": [
    "# random_indices = np.random.choice(np.arange(len(error_free_split)), size=40)\n",
    "random_indices = [5598, 4992, 4753, 6209, 7330, 3377, 1974, 3502, 5065,  772, 5522,\n",
    "       1035, 4816,  732,   85, 3585, 5463, 5424, 5812, 1934, 7250, 1836,\n",
    "       5260, 3332, 5095, 4063, 5257, 7358,  581, 2470, 1164, 6440,  979,\n",
    "       6713, 2440,  714, 4139, 5027, 3355, 6355]"
   ]
  },
  {
   "cell_type": "code",
   "execution_count": 46,
   "metadata": {},
   "outputs": [
    {
     "data": {
      "text/plain": [
       "[(3, 14), (6, 9), (2, 8), (5, 3), (11, 2), (10, 1), (9, 1), (12, 1), (4, 1)]"
      ]
     },
     "execution_count": 46,
     "metadata": {},
     "output_type": "execute_result"
    }
   ],
   "source": [
    "Counter([error_free_split[t]['collected_subgoals'] for t in random_indices]).most_common()"
   ]
  },
  {
   "cell_type": "code",
   "execution_count": 53,
   "metadata": {},
   "outputs": [
    {
     "data": {
      "text/plain": [
       "[(False, 38), (True, 2)]"
      ]
     },
     "execution_count": 53,
     "metadata": {},
     "output_type": "execute_result"
    }
   ],
   "source": [
    "Counter([error_free_split[t]['full_traj_success'] for t in random_indices]).most_common()"
   ]
  },
  {
   "cell_type": "code",
   "execution_count": 51,
   "metadata": {},
   "outputs": [
    {
     "data": {
      "text/plain": [
       "{'task': 'pick_cool_then_place_in_recep-Bread-None-Microwave-18/trial_T20200817_101547_073180',\n",
       " 'repeat_idx': 0,\n",
       " 'full_traj_success': False,\n",
       " 'collected_subgoals': 3}"
      ]
     },
     "execution_count": 51,
     "metadata": {},
     "output_type": "execute_result"
    }
   ],
   "source": [
    "toy_split = [error_free_split[t] for t in random_indices]\n",
    "toy_split[0]"
   ]
  },
  {
   "cell_type": "code",
   "execution_count": 55,
   "metadata": {},
   "outputs": [],
   "source": [
    "toy_splits_p = '/root/data_alfred/splits/sample_failed_toy.json'\n",
    "with open(toy_splits_p, 'w') as f:\n",
    "    json.dump({'augmentation':toy_split}, f)"
   ]
  },
  {
   "cell_type": "code",
   "execution_count": 8,
   "metadata": {},
   "outputs": [],
   "source": [
    "toy_splits_p = '/root/data_alfred/splits/sample_failed_toy.json'\n",
    "with open(toy_splits_p, 'r') as f:\n",
    "    toy_split = json.load(f)['augmentation']"
   ]
  },
  {
   "cell_type": "markdown",
   "metadata": {},
   "source": [
    "### (Post Explainer/Baseline Prediction) Truncate predicted instruction subgoals to match true # subgoals"
   ]
  },
  {
   "cell_type": "code",
   "execution_count": 24,
   "metadata": {},
   "outputs": [],
   "source": [
    "def truncate_extra_subgoals(traj_data, num_subgoals, key='explainer_annotations'):\n",
    "    assert len(traj_data[key]['anns'][0]['high_descs']) >= num_subgoals\n",
    "    if len(traj_data[key]['anns'][0]['high_descs']) > num_subgoals:\n",
    "        traj_data[key]['anns'][0]['high_descs'] = traj_data[key]['anns'][0]['high_descs'][:num_subgoals]\n",
    "        return True\n",
    "    else:\n",
    "        return False\n",
    "\n",
    "def match_post_prediction_subgoal_lengths(split, data_p, overwrite_traj=False, debug=False):\n",
    "    '''\n",
    "    split: a list of tasks {'task':<task name>/<trial id>, 'repeat_idx':int, 'full_traj_success':boolean, 'collected_subgoals':int}\n",
    "    '''\n",
    "    adjusts_explainer = 0\n",
    "    adjusts_baseline = 0\n",
    "    adjusts_explainer_enconly = 0\n",
    "    adjusts_explainer_auxonly = 0\n",
    "    \n",
    "    for task in split:\n",
    "        traj_data_p = os.path.join(data_p, task['task'], 'traj_data.json')\n",
    "        with open(traj_data_p, 'r') as f:\n",
    "            traj_data = json.load(f)\n",
    "\n",
    "        if debug:\n",
    "            print (task)\n",
    "            print ('Explainer')\n",
    "            print (traj_data['explainer_annotations'])\n",
    "            print ('Explainer Enc only')\n",
    "            print (traj_data['explainer_enconly_annotations'])\n",
    "            print ('Explainer Aux only')\n",
    "            print (traj_data['explainer_auxonly_annotations'])\n",
    "            print ('Baseline')\n",
    "            print (traj_data['baseline_annotations'])\n",
    "            print ('----------------------------------------')\n",
    "            \n",
    "        true_num_subgoals = len(traj_data['num']['action_high'])-1\n",
    "        \n",
    "        # verify that the predicted instructions has # subgoals >= gold # subgoals\n",
    "        # when predicting in a batch of different tasks, model can decode more than necessary\n",
    "        assert len(traj_data['explainer_annotations']['anns'][0]['high_descs']) >= true_num_subgoals\n",
    "        assert len(traj_data['explainer_enconly_annotations']['anns'][0]['high_descs']) >= true_num_subgoals\n",
    "        assert len(traj_data['explainer_auxonly_annotations']['anns'][0]['high_descs']) >= true_num_subgoals\n",
    "        assert len(traj_data['baseline_annotations']['anns'][0]['high_descs']) >= true_num_subgoals\n",
    "        \n",
    "        adjusts_explainer += int(truncate_extra_subgoals(traj_data, true_num_subgoals, key='explainer_annotations'))\n",
    "        adjusts_explainer_enconly += int(truncate_extra_subgoals(traj_data, true_num_subgoals, key='explainer_enconly_annotations'))\n",
    "        adjusts_explainer_auxonly += int(truncate_extra_subgoals(traj_data, true_num_subgoals, key='explainer_auxonly_annotations'))\n",
    "        adjusts_baseline += int(truncate_extra_subgoals(traj_data, true_num_subgoals, key='baseline_annotations'))\n",
    "\n",
    "        if debug:\n",
    "            print (adjusts_explainer, adjusts_baseline)\n",
    "            print (task)\n",
    "            print ('Explainer')\n",
    "            print (traj_data['explainer_annotations'])\n",
    "            print ('Explainer Aux only')\n",
    "            print (traj_data['explainer_auxonly_annotations'])\n",
    "            print ('Explainer Enc only')\n",
    "            print (traj_data['explainer_enconly_annotations'])\n",
    "            print ('Baseline')\n",
    "            print (traj_data['baseline_annotations'])\n",
    "            print ('\\n\\n\\n\\n\\n\\n\\n\\n')\n",
    "        \n",
    "        # be careful about overwriting!\n",
    "        if overwrite_traj:\n",
    "            with open(traj_data_p, 'w') as f:\n",
    "                json.dump(traj_data, f)\n",
    "    \n",
    "    return adjusts_explainer, adjusts_baseline, adjusts_explainer_enconly, adjusts_explainer_auxonly\n",
    "        "
   ]
  },
  {
   "cell_type": "code",
   "execution_count": null,
   "metadata": {},
   "outputs": [],
   "source": [
    "# Verify with toy split and toy dataset\n",
    "print (len(toy_split))\n",
    "adjusts_explainer, adjusts_baseline = match_post_prediction_subgoal_lengths(toy_split, data_p, overwrite_traj=True, debug=True)"
   ]
  },
  {
   "cell_type": "code",
   "execution_count": 25,
   "metadata": {},
   "outputs": [
    {
     "name": "stdout",
     "output_type": "stream",
     "text": [
      "7570\n"
     ]
    },
    {
     "data": {
      "text/plain": [
       "(0, 0, 0, 0)"
      ]
     },
     "execution_count": 25,
     "metadata": {},
     "output_type": "execute_result"
    }
   ],
   "source": [
    "# Full run on explainer/baseline processed traj data\n",
    "print (len(error_free_split))\n",
    "match_post_prediction_subgoal_lengths(error_free_split, data_p, overwrite_traj=True, debug=False)"
   ]
  },
  {
   "cell_type": "markdown",
   "metadata": {},
   "source": [
    "### (Post Explainer/Baseline Prediction) Some Sanity Check, Ignore"
   ]
  },
  {
   "cell_type": "code",
   "execution_count": 48,
   "metadata": {},
   "outputs": [
    {
     "data": {
      "text/plain": [
       "{'task': 'look_at_obj_in_light-BaseballBat-None-DeskLamp-301/trial_T20200814_164125_595727',\n",
       " 'repeat_idx': 0,\n",
       " 'full_traj_success': False,\n",
       " 'collected_subgoals': 2}"
      ]
     },
     "execution_count": 48,
     "metadata": {},
     "output_type": "execute_result"
    }
   ],
   "source": [
    "error_free_split[0]"
   ]
  },
  {
   "cell_type": "code",
   "execution_count": 115,
   "metadata": {},
   "outputs": [
    {
     "data": {
      "text/plain": [
       "{'task': 'pick_cool_then_place_in_recep-Pot-None-Cabinet-21/trial_T20200818_085037_265666',\n",
       " 'repeat_idx': 0,\n",
       " 'full_traj_success': False,\n",
       " 'collected_subgoals': 5}"
      ]
     },
     "execution_count": 115,
     "metadata": {},
     "output_type": "execute_result"
    }
   ],
   "source": [
    "error_free_split[6000]"
   ]
  },
  {
   "cell_type": "code",
   "execution_count": 65,
   "metadata": {},
   "outputs": [],
   "source": [
    "traj_data_p = os.path.join(data_p, 'look_at_obj_in_light-BasketBall-None-DeskLamp-319/trial_T20200814_165040_882757', 'traj_data.json')\n",
    "with open(traj_data_p, 'r') as f:\n",
    "    traj_data = json.load(f)"
   ]
  },
  {
   "cell_type": "code",
   "execution_count": 116,
   "metadata": {},
   "outputs": [],
   "source": [
    "traj_data_p = os.path.join(data_p, 'pick_cool_then_place_in_recep-Pot-None-Cabinet-21/trial_T20200818_085037_265666', 'traj_data.json')\n",
    "with open(traj_data_p, 'r') as f:\n",
    "    traj_data = json.load(f)"
   ]
  },
  {
   "cell_type": "code",
   "execution_count": 117,
   "metadata": {
    "scrolled": true
   },
   "outputs": [
    {
     "data": {
      "text/plain": [
       "{'anns': [{'task_desc': 'put a cold pan on the table .',\n",
       "   'high_descs': ['turn to the left and face the white table .',\n",
       "    'pick up the pot on the stove .',\n",
       "    'turn around and walk to the fridge .',\n",
       "    'open the fridge and place the pot on the top shelf , close the door , wait a moment , and take it out again .',\n",
       "    'turn around and walk to the table .']}]}"
      ]
     },
     "execution_count": 117,
     "metadata": {},
     "output_type": "execute_result"
    }
   ],
   "source": [
    "traj_data['explainer_annotations']"
   ]
  },
  {
   "cell_type": "code",
   "execution_count": 118,
   "metadata": {},
   "outputs": [
    {
     "data": {
      "text/plain": [
       "{'anns': [{'task_desc': 'put a cold pan on the table .',\n",
       "   'high_descs': ['turn left and walk to the stove .',\n",
       "    'pick up the pot with the spoon in it .',\n",
       "    'turn around and go to the white table on the left .',\n",
       "    'open the fridge , put the pan inside , close the fridge , wait a few seconds , open the fridge , take the pan out , and close the refrigerator .',\n",
       "    'turn around , go to the white table on the right .']}]}"
      ]
     },
     "execution_count": 118,
     "metadata": {},
     "output_type": "execute_result"
    }
   ],
   "source": [
    "traj_data['baseline_annotations']"
   ]
  },
  {
   "cell_type": "code",
   "execution_count": 114,
   "metadata": {},
   "outputs": [
    {
     "data": {
      "text/plain": [
       "[{'discrete_action': {'action': 'GotoLocation', 'args': ['diningtable']},\n",
       "  'high_idx': 0,\n",
       "  'planner_action': {'action': 'GotoLocation', 'location': 'loc|-8|-3|3|60'}},\n",
       " {'discrete_action': {'action': 'PickupObject', 'args': ['lettuce']},\n",
       "  'high_idx': 1,\n",
       "  'planner_action': {'action': 'PickupObject',\n",
       "   'forceVisible': True,\n",
       "   'objectId': 'Lettuce|-02.58|+00.80|-00.61',\n",
       "   'receptacleObjectId': 'DiningTable|-02.87|+00.68|-00.51'}},\n",
       " {'discrete_action': {'action': 'GotoLocation', 'args': ['sink']},\n",
       "  'high_idx': 2,\n",
       "  'planner_action': {'action': 'GotoLocation', 'location': 'loc|-8|-13|2|60'}},\n",
       " {'discrete_action': {'action': 'CleanObject', 'args': ['lettuce']},\n",
       "  'high_idx': 3,\n",
       "  'planner_action': {'action': 'CleanObject',\n",
       "   'cleanObjectId': 'Sink|-01.79|+00.90|-03.75|SinkBasin',\n",
       "   'forceVisible': True,\n",
       "   'objectId': 'Sink|-01.79|+00.90|-03.75|SinkBasin',\n",
       "   'receptacleObjectId': 'Sink|-01.79|+00.90|-03.75|SinkBasin'}},\n",
       " {'discrete_action': {'action': 'NoOp', 'args': []},\n",
       "  'high_idx': 4,\n",
       "  'planner_action': {'action': 'End', 'value': 1}}]"
      ]
     },
     "execution_count": 114,
     "metadata": {},
     "output_type": "execute_result"
    }
   ],
   "source": [
    "traj_data['plan']['high_pddl']"
   ]
  },
  {
   "cell_type": "code",
   "execution_count": null,
   "metadata": {},
   "outputs": [],
   "source": []
  }
 ],
 "metadata": {
  "kernelspec": {
   "display_name": "Python 3",
   "language": "python",
   "name": "python3"
  },
  "language_info": {
   "codemirror_mode": {
    "name": "ipython",
    "version": 3
   },
   "file_extension": ".py",
   "mimetype": "text/x-python",
   "name": "python",
   "nbconvert_exporter": "python",
   "pygments_lexer": "ipython3",
   "version": "3.8.3"
  }
 },
 "nbformat": 4,
 "nbformat_minor": 4
}
