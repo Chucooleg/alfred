{
 "cells": [
  {
   "cell_type": "code",
   "execution_count": 307,
   "metadata": {},
   "outputs": [],
   "source": [
    "import json\n",
    "from collections import defaultdict"
   ]
  },
  {
   "cell_type": "code",
   "execution_count": 308,
   "metadata": {},
   "outputs": [],
   "source": [
    "states_path = '/root/data_alfred/json_feat_2.1.0/pick_and_place_simple-TennisRacket-None-Bed-303/trial_T20190906_193617_277654/pp/metadata_states.json'\n",
    "\n",
    "with open(states_path, 'r') as f:\n",
    "    saved_states = json.load(f)"
   ]
  },
  {
   "cell_type": "markdown",
   "metadata": {},
   "source": [
    "## Setup"
   ]
  },
  {
   "cell_type": "code",
   "execution_count": 309,
   "metadata": {},
   "outputs": [],
   "source": [
    "object_state_types = ['isToggled', 'isBroken', 'isFilledWithLiquid', 'isDirty',\n",
    "                      'isUsedUp', 'isCooked', 'ObjectTemperature', 'isSliced',\n",
    "                      'isOpen', 'isPickedUp', 'mass', 'receptacleObjectIds']"
   ]
  },
  {
   "cell_type": "code",
   "execution_count": null,
   "metadata": {},
   "outputs": [],
   "source": [
    "date = '20200511'\n",
    "split_name = 'train'"
   ]
  },
  {
   "cell_type": "code",
   "execution_count": null,
   "metadata": {},
   "outputs": [],
   "source": [
    "import logging\n",
    "logging.basicConfig(filename='/root/data_alfred/splits/collect_states_{}_{}.log'.format(date, split_name),level=logging.DEBUG)"
   ]
  },
  {
   "cell_type": "markdown",
   "metadata": {},
   "source": [
    "## Try on one task"
   ]
  },
  {
   "cell_type": "code",
   "execution_count": 310,
   "metadata": {},
   "outputs": [],
   "source": [
    "# shift all the states to the last time step\n",
    "shifted_states = [{} for _ in range(len(saved_states))]\n",
    "\n",
    "for t, state in enumerate(saved_states):\n",
    "    new_state = {k:v for k,v in state.items() if k != 'objects_metadata'}\n",
    "    if t < len(saved_states) - 1:\n",
    "        new_state['objects_metadata'] = saved_states[t+1]['objects_metadata']\n",
    "    elif t == len(saved_states) - 1:\n",
    "        new_state['objects_metadata'] = saved_states[t]['objects_metadata']\n",
    "    shifted_states[t] = new_state"
   ]
  },
  {
   "cell_type": "code",
   "execution_count": 311,
   "metadata": {},
   "outputs": [],
   "source": [
    "def get_object_states(obj, required_state_types):\n",
    "    o_states = {}\n",
    "    for state_typ in required_state_types:\n",
    "        if state_typ in obj.keys():\n",
    "            o_states[state_typ] = obj[state_typ]\n",
    "        else:\n",
    "            o_states[state_typ] = None\n",
    "    return o_states\n",
    "\n",
    "def detect_state_change(last_obj_states, curr_obj_states, objectId_list):\n",
    "    state_change = []\n",
    "    for obj_Id in objectId_list:\n",
    "        if (not obj_Id in last_obj_states) and (not obj_Id in curr_obj_states):\n",
    "            state_change.append(False)\n",
    "        elif not obj_Id in last_obj_states:\n",
    "            state_change.append(True)\n",
    "        elif not obj_Id in curr_obj_states:\n",
    "            raise Exception('Objects should always appear in next time step.')\n",
    "        else:\n",
    "            if last_obj_states[obj_Id] == curr_obj_states[obj_Id]:\n",
    "                state_change.append(False)\n",
    "            else:\n",
    "                state_change.append(True)\n",
    "    return state_change"
   ]
  },
  {
   "cell_type": "code",
   "execution_count": 312,
   "metadata": {},
   "outputs": [],
   "source": [
    "def detect_type_state_change(instance_state_change, object_instance_list_sorted, object_type_list_sorted):\n",
    "    state_change = []\n",
    "    \n",
    "    curr_typ = object_instance_list_sorted[0].split('|')[0]\n",
    "    changes = []\n",
    "    for i, instance_name in enumerate(object_instance_list_sorted):\n",
    "        instance_typ = instance_name.split('|')[0]\n",
    "        if instance_typ != curr_typ:\n",
    "            state_change.append(True in changes)\n",
    "            changes = []\n",
    "            curr_typ = instance_typ\n",
    "        changes.append(instance_state_change[i])\n",
    "            \n",
    "    # don't forget about last typ!\n",
    "    state_change.append(True in changes)\n",
    "    assert len(state_change) == len(object_type_list_sorted)\n",
    "    return state_change\n",
    "\n",
    "def detect_type_visibility(instance_visible, object_instance_list_sorted, object_type_list_sorted):\n",
    "    type_visible = []\n",
    "    \n",
    "    curr_typ = object_instance_list_sorted[0].split('|')[0]\n",
    "    visible = []\n",
    "    for i, instance_name in enumerate(object_instance_list_sorted):\n",
    "        instance_typ = instance_name.split('|')[0]\n",
    "        if instance_typ != curr_typ:\n",
    "            type_visible.append(True in visible)\n",
    "            visible = []\n",
    "            curr_typ = instance_typ\n",
    "        visible.append(instance_visible[i])\n",
    "            \n",
    "    # don't forget about last typ!\n",
    "    type_visible.append(True in visible)\n",
    "    assert len(type_visible) == len(object_type_list_sorted)\n",
    "    return type_visible"
   ]
  },
  {
   "cell_type": "code",
   "execution_count": 313,
   "metadata": {},
   "outputs": [],
   "source": [
    "objectId_list = sorted([o['objectId'] for o in shifted_states[-1]['objects_metadata']])\n",
    "objectTyp_list = sorted(set([o.split('|')[0] for o in objectId_list]))\n",
    "num_subgoals = len(set([s['subgoal_step'] for s in shifted_states]))\n",
    "\n",
    "feat = {\n",
    "    'subgoal': [[] for _ in range(num_subgoals)],\n",
    "    'subgoal_i': [[] for _ in range(num_subgoals)],\n",
    "    'subgoal_t': [[] for _ in range(num_subgoals)],\n",
    "    'overall_t': [[] for _ in range(num_subgoals)],\n",
    "    \n",
    "    'objectInstanceList': objectId_list,\n",
    "    'instance_visibile': [[] for _ in range(num_subgoals)], # [subgoal_i][subgoal timestep] = [T/F for ob in objectId_list]\n",
    "    'instance_state_change': [[] for _ in range(num_subgoals)],\n",
    "    \n",
    "    'objectTypeList': objectTyp_list,\n",
    "    'type_visibile': [[] for _ in range(num_subgoals)], # [subgoal_i][subgoal timestep] = [T/F for ob in objectTyp_list]\n",
    "    'type_state_change': [[] for _ in range(num_subgoals)]\n",
    "}\n",
    "\n",
    "last_obj_states = {obj['objectId']:get_object_states(obj, object_state_types) for obj in saved_states[0]['objects_metadata']}\n",
    "for t, state in enumerate(shifted_states):\n",
    "    \n",
    "    subgoal_i = state['subgoal_step']\n",
    "    subgoal = state['subgoal']\n",
    "    \n",
    "    if state['new_subgoal']:\n",
    "        subgoal_t = 0\n",
    "\n",
    "    feat['subgoal_i'][subgoal_i].append(subgoal_i)\n",
    "    feat['subgoal_t'][subgoal_i].append(subgoal_t)\n",
    "    feat['subgoal'][subgoal_i].append(subgoal)\n",
    "    feat['overall_t'][subgoal_i].append(t)\n",
    "        \n",
    "    # get state change\n",
    "    curr_obj_states = {obj['objectId']:get_object_states(obj, object_state_types) for obj in state['objects_metadata']}\n",
    "    # list same order as objectId_list\n",
    "    state_change = detect_state_change(last_obj_states, curr_obj_states, objectId_list)\n",
    "    last_obj_states = curr_obj_states\n",
    "    \n",
    "    feat['instance_state_change'][subgoal_i].append(state_change)\n",
    "    \n",
    "    # get visibility\n",
    "    visible = [False for _ in objectId_list]\n",
    "    for ob in state['objects_metadata']:\n",
    "        pos = objectId_list.index(ob['objectId'])\n",
    "        visible[pos] = ob['visible']\n",
    "    feat['instance_visibile'][subgoal_i].append(visible)\n",
    "    \n",
    "    # get type state change\n",
    "    type_state_change = detect_type_state_change(state_change, objectId_list, objectTyp_list)\n",
    "    feat['type_state_change'][subgoal_i].append(type_state_change)\n",
    "    \n",
    "    # get type visibility\n",
    "    type_visible = detect_type_visibility(visible, objectId_list, objectTyp_list)\n",
    "    feat['type_visibile'][subgoal_i].append(type_visible)\n",
    "    \n",
    "    subgoal_t += 1"
   ]
  },
  {
   "cell_type": "code",
   "execution_count": 314,
   "metadata": {},
   "outputs": [
    {
     "data": {
      "text/plain": [
       "[['GotoLocation',\n",
       "  'GotoLocation',\n",
       "  'GotoLocation',\n",
       "  'GotoLocation',\n",
       "  'GotoLocation',\n",
       "  'GotoLocation',\n",
       "  'GotoLocation',\n",
       "  'GotoLocation',\n",
       "  'GotoLocation',\n",
       "  'GotoLocation',\n",
       "  'GotoLocation',\n",
       "  'GotoLocation'],\n",
       " ['PickupObject'],\n",
       " ['GotoLocation',\n",
       "  'GotoLocation',\n",
       "  'GotoLocation',\n",
       "  'GotoLocation',\n",
       "  'GotoLocation',\n",
       "  'GotoLocation',\n",
       "  'GotoLocation',\n",
       "  'GotoLocation',\n",
       "  'GotoLocation',\n",
       "  'GotoLocation',\n",
       "  'GotoLocation',\n",
       "  'GotoLocation',\n",
       "  'GotoLocation',\n",
       "  'GotoLocation',\n",
       "  'GotoLocation',\n",
       "  'GotoLocation',\n",
       "  'GotoLocation',\n",
       "  'GotoLocation',\n",
       "  'GotoLocation',\n",
       "  'GotoLocation',\n",
       "  'GotoLocation',\n",
       "  'GotoLocation',\n",
       "  'GotoLocation'],\n",
       " ['PutObject'],\n",
       " ['NoOp']]"
      ]
     },
     "execution_count": 314,
     "metadata": {},
     "output_type": "execute_result"
    }
   ],
   "source": [
    "feat['subgoal']"
   ]
  },
  {
   "cell_type": "code",
   "execution_count": 315,
   "metadata": {},
   "outputs": [
    {
     "data": {
      "text/plain": [
       "dict_keys(['subgoal', 'subgoal_i', 'subgoal_t', 'overall_t', 'objectInstanceList', 'instance_visibile', 'instance_state_change', 'objectTypeList', 'type_visibile', 'type_state_change'])"
      ]
     },
     "execution_count": 315,
     "metadata": {},
     "output_type": "execute_result"
    }
   ],
   "source": [
    "feat.keys()"
   ]
  },
  {
   "cell_type": "code",
   "execution_count": 316,
   "metadata": {
    "scrolled": true
   },
   "outputs": [
    {
     "data": {
      "text/plain": [
       "['AlarmClock|-01.85|+00.50|-01.17',\n",
       " 'BaseballBat|-01.63|+00.65|+00.42',\n",
       " 'Bed|-01.05|+00.00|-01.85',\n",
       " 'Blinds|+00.45|+02.16|-02.85',\n",
       " 'Book|+00.34|+00.72|-02.65',\n",
       " 'Box|+02.00|+00.32|-01.04',\n",
       " 'CD|+00.18|+00.41|-02.55',\n",
       " 'CD|+00.74|+00.72|-02.55',\n",
       " 'CellPhone|+00.63|+00.11|-02.55',\n",
       " 'CellPhone|-01.58|+00.60|-00.39',\n",
       " 'Chair|-01.56|+00.00|-00.31',\n",
       " 'Cloth|+02.18|+00.00|-00.57',\n",
       " 'CreditCard|+00.65|+00.73|-02.47',\n",
       " 'CreditCard|-01.52|+00.60|+00.03',\n",
       " 'DeskLamp|-01.85|+00.59|-00.79',\n",
       " 'Desk|-01.71|+00.00|-00.37',\n",
       " 'Drawer|+00.45|+00.20|-02.43',\n",
       " 'Drawer|+00.45|+00.50|-02.43',\n",
       " 'Drawer|-01.79|+00.10|-01.15',\n",
       " 'Drawer|-01.79|+00.25|-01.15',\n",
       " 'Drawer|-01.79|+00.39|-01.15',\n",
       " 'Dresser|+00.44|+00.04|-02.65',\n",
       " 'GarbageCan|+02.22|+00.00|+00.31',\n",
       " 'KeyChain|+00.08|+00.73|-02.53',\n",
       " 'KeyChain|+00.77|+00.73|-02.71',\n",
       " 'KeyChain|-01.85|+00.60|-00.39',\n",
       " 'Laptop|-01.76|+00.59|-00.11',\n",
       " 'LightSwitch|-00.64|+01.15|+00.50',\n",
       " 'Mirror|-01.07|+01.47|+00.50',\n",
       " 'Mug|+00.08|+00.73|-02.65',\n",
       " 'Pencil|+00.65|+00.73|-02.65',\n",
       " 'Pencil|-01.79|+00.51|-01.27',\n",
       " 'Pen|+00.54|+00.73|-02.53',\n",
       " 'Pen|+01.32|+00.06|-02.28',\n",
       " 'Pen|-01.58|+00.60|-00.53',\n",
       " 'Pillow|-01.55|+00.46|-01.83',\n",
       " 'Poster|+00.00|+01.50|-02.64',\n",
       " 'Shelf|+01.31|+00.05|-02.30',\n",
       " 'Shelf|+01.31|+00.35|-02.30',\n",
       " 'Shelf|+01.31|+00.97|-02.30',\n",
       " 'Shelf|+01.31|+01.17|-02.30',\n",
       " 'Shelf|+01.31|+01.37|-02.30',\n",
       " 'Shelf|+01.31|+01.57|-02.30',\n",
       " 'Shelf|+01.84|+00.05|-02.30',\n",
       " 'Shelf|+01.84|+00.35|-02.30',\n",
       " 'Shelf|+01.84|+00.97|-02.30',\n",
       " 'Shelf|+01.84|+01.17|-02.30',\n",
       " 'Shelf|+01.84|+01.37|-02.30',\n",
       " 'Shelf|+01.84|+01.57|-02.30',\n",
       " 'SideTable|-01.82|+00.00|-01.14',\n",
       " 'TennisRacket|+02.24|+00.28|-01.90',\n",
       " 'Vase|-01.85|+00.60|-00.53',\n",
       " 'Window|+00.44|+01.40|-02.86']"
      ]
     },
     "execution_count": 316,
     "metadata": {},
     "output_type": "execute_result"
    }
   ],
   "source": [
    "feat['objectInstanceList']"
   ]
  },
  {
   "cell_type": "code",
   "execution_count": 322,
   "metadata": {},
   "outputs": [
    {
     "data": {
      "text/plain": [
       "['PickupObject']"
      ]
     },
     "execution_count": 322,
     "metadata": {},
     "output_type": "execute_result"
    }
   ],
   "source": [
    "feat['subgoal'][1]"
   ]
  },
  {
   "cell_type": "code",
   "execution_count": 321,
   "metadata": {},
   "outputs": [
    {
     "data": {
      "text/plain": [
       "[('AlarmClock|-01.85|+00.50|-01.17', False),\n",
       " ('BaseballBat|-01.63|+00.65|+00.42', False),\n",
       " ('Bed|-01.05|+00.00|-01.85', False),\n",
       " ('Blinds|+00.45|+02.16|-02.85', False),\n",
       " ('Book|+00.34|+00.72|-02.65', False),\n",
       " ('Box|+02.00|+00.32|-01.04', False),\n",
       " ('CD|+00.18|+00.41|-02.55', False),\n",
       " ('CD|+00.74|+00.72|-02.55', False),\n",
       " ('CellPhone|+00.63|+00.11|-02.55', False),\n",
       " ('CellPhone|-01.58|+00.60|-00.39', False),\n",
       " ('Chair|-01.56|+00.00|-00.31', False),\n",
       " ('Cloth|+02.18|+00.00|-00.57', False),\n",
       " ('CreditCard|+00.65|+00.73|-02.47', False),\n",
       " ('CreditCard|-01.52|+00.60|+00.03', False),\n",
       " ('DeskLamp|-01.85|+00.59|-00.79', False),\n",
       " ('Desk|-01.71|+00.00|-00.37', False),\n",
       " ('Drawer|+00.45|+00.20|-02.43', False),\n",
       " ('Drawer|+00.45|+00.50|-02.43', False),\n",
       " ('Drawer|-01.79|+00.10|-01.15', False),\n",
       " ('Drawer|-01.79|+00.25|-01.15', False),\n",
       " ('Drawer|-01.79|+00.39|-01.15', False),\n",
       " ('Dresser|+00.44|+00.04|-02.65', False),\n",
       " ('GarbageCan|+02.22|+00.00|+00.31', False),\n",
       " ('KeyChain|+00.08|+00.73|-02.53', False),\n",
       " ('KeyChain|+00.77|+00.73|-02.71', False),\n",
       " ('KeyChain|-01.85|+00.60|-00.39', False),\n",
       " ('Laptop|-01.76|+00.59|-00.11', False),\n",
       " ('LightSwitch|-00.64|+01.15|+00.50', False),\n",
       " ('Mirror|-01.07|+01.47|+00.50', False),\n",
       " ('Mug|+00.08|+00.73|-02.65', False),\n",
       " ('Pencil|+00.65|+00.73|-02.65', False),\n",
       " ('Pencil|-01.79|+00.51|-01.27', False),\n",
       " ('Pen|+00.54|+00.73|-02.53', False),\n",
       " ('Pen|+01.32|+00.06|-02.28', False),\n",
       " ('Pen|-01.58|+00.60|-00.53', False),\n",
       " ('Pillow|-01.55|+00.46|-01.83', False),\n",
       " ('Poster|+00.00|+01.50|-02.64', False),\n",
       " ('Shelf|+01.31|+00.05|-02.30', False),\n",
       " ('Shelf|+01.31|+00.35|-02.30', False),\n",
       " ('Shelf|+01.31|+00.97|-02.30', False),\n",
       " ('Shelf|+01.31|+01.17|-02.30', False),\n",
       " ('Shelf|+01.31|+01.37|-02.30', False),\n",
       " ('Shelf|+01.31|+01.57|-02.30', False),\n",
       " ('Shelf|+01.84|+00.05|-02.30', False),\n",
       " ('Shelf|+01.84|+00.35|-02.30', False),\n",
       " ('Shelf|+01.84|+00.97|-02.30', False),\n",
       " ('Shelf|+01.84|+01.17|-02.30', False),\n",
       " ('Shelf|+01.84|+01.37|-02.30', False),\n",
       " ('Shelf|+01.84|+01.57|-02.30', False),\n",
       " ('SideTable|-01.82|+00.00|-01.14', False),\n",
       " ('TennisRacket|+02.24|+00.28|-01.90', True),\n",
       " ('Vase|-01.85|+00.60|-00.53', False),\n",
       " ('Window|+00.44|+01.40|-02.86', False)]"
      ]
     },
     "execution_count": 321,
     "metadata": {},
     "output_type": "execute_result"
    }
   ],
   "source": [
    "list(zip(feat['objectInstanceList'], feat['instance_state_change'][1][0]))"
   ]
  },
  {
   "cell_type": "code",
   "execution_count": 319,
   "metadata": {},
   "outputs": [
    {
     "ename": "KeyError",
     "evalue": "'root'",
     "output_type": "error",
     "traceback": [
      "\u001b[0;31m---------------------------------------------------------------------------\u001b[0m",
      "\u001b[0;31mKeyError\u001b[0m                                  Traceback (most recent call last)",
      "\u001b[0;32m<ipython-input-319-0a6f7a82a7ac>\u001b[0m in \u001b[0;36m<module>\u001b[0;34m\u001b[0m\n\u001b[0;32m----> 1\u001b[0;31m \u001b[0mfeat\u001b[0m\u001b[0;34m[\u001b[0m\u001b[0;34m'root'\u001b[0m\u001b[0;34m]\u001b[0m\u001b[0;34m\u001b[0m\u001b[0;34m\u001b[0m\u001b[0m\n\u001b[0m",
      "\u001b[0;31mKeyError\u001b[0m: 'root'"
     ]
    }
   ],
   "source": [
    "feat['root']"
   ]
  },
  {
   "cell_type": "code",
   "execution_count": 132,
   "metadata": {},
   "outputs": [
    {
     "data": {
      "text/plain": [
       "['AlarmClock',\n",
       " 'BaseballBat',\n",
       " 'Bed',\n",
       " 'Blinds',\n",
       " 'Book',\n",
       " 'Box',\n",
       " 'CD',\n",
       " 'CellPhone',\n",
       " 'Chair',\n",
       " 'Cloth',\n",
       " 'CreditCard',\n",
       " 'Desk',\n",
       " 'DeskLamp',\n",
       " 'Drawer',\n",
       " 'Dresser',\n",
       " 'GarbageCan',\n",
       " 'KeyChain',\n",
       " 'Laptop',\n",
       " 'LightSwitch',\n",
       " 'Mirror',\n",
       " 'Mug',\n",
       " 'Pen',\n",
       " 'Pencil',\n",
       " 'Pillow',\n",
       " 'Poster',\n",
       " 'Shelf',\n",
       " 'SideTable',\n",
       " 'TennisRacket',\n",
       " 'Vase',\n",
       " 'Window']"
      ]
     },
     "execution_count": 132,
     "metadata": {},
     "output_type": "execute_result"
    }
   ],
   "source": [
    "objectTyp_list"
   ]
  },
  {
   "cell_type": "markdown",
   "metadata": {},
   "source": [
    "## Loop through some tasks in train"
   ]
  },
  {
   "cell_type": "code",
   "execution_count": 341,
   "metadata": {},
   "outputs": [],
   "source": [
    "def shift_states(saved_states):\n",
    "    # shift all the states to the last time step\n",
    "    shifted_states = [{} for _ in range(len(saved_states))]\n",
    "\n",
    "    for t, state in enumerate(saved_states):\n",
    "        new_state = {k:v for k,v in state.items() if k != 'objects_metadata'}\n",
    "        if t < len(saved_states) - 1:\n",
    "            new_state['objects_metadata'] = saved_states[t+1]['objects_metadata']\n",
    "        elif t == len(saved_states) - 1:\n",
    "            new_state['objects_metadata'] = saved_states[t]['objects_metadata']\n",
    "        shifted_states[t] = new_state\n",
    "        \n",
    "    return shifted_states"
   ]
  },
  {
   "cell_type": "code",
   "execution_count": 342,
   "metadata": {
    "scrolled": true
   },
   "outputs": [],
   "source": [
    "def extract_states_for_model(shifted_states, saved_states, root):\n",
    "\n",
    "    objectId_list = sorted([o['objectId'] for o in shifted_states[-1]['objects_metadata']])\n",
    "    objectTyp_list = sorted(set([o.split('|')[0] for o in objectId_list]))\n",
    "    num_subgoals = len(set([s['subgoal_step'] for s in shifted_states]))\n",
    "\n",
    "    feat = {\n",
    "        'subgoal': [[] for _ in range(num_subgoals)],\n",
    "        'subgoal_i': [[] for _ in range(num_subgoals)],\n",
    "        'subgoal_t': [[] for _ in range(num_subgoals)],\n",
    "        'overall_t': [[] for _ in range(num_subgoals)],\n",
    "\n",
    "        'objectInstanceList': objectId_list,\n",
    "        'instance_visibile': [[] for _ in range(num_subgoals)], # [subgoal_i][subgoal timestep] = [T/F for ob in objectId_list]\n",
    "        'instance_state_change': [[] for _ in range(num_subgoals)],\n",
    "\n",
    "        'objectTypeList': objectTyp_list,\n",
    "        'type_visibile': [[] for _ in range(num_subgoals)], # [subgoal_i][subgoal timestep] = [T/F for ob in objectTyp_list]\n",
    "        'type_state_change': [[] for _ in range(num_subgoals)]\n",
    "    }\n",
    "\n",
    "    last_obj_states = {obj['objectId']:get_object_states(obj, object_state_types) for obj in saved_states[0]['objects_metadata']}\n",
    "    for t, state in enumerate(shifted_states):\n",
    "\n",
    "        subgoal_i = state['subgoal_step']\n",
    "        subgoal = state['subgoal']\n",
    "\n",
    "        if state['new_subgoal']:\n",
    "            subgoal_t = 0\n",
    "\n",
    "        feat['subgoal_i'][subgoal_i].append(subgoal_i)\n",
    "        feat['subgoal_t'][subgoal_i].append(subgoal_t)\n",
    "        feat['subgoal'][subgoal_i].append(subgoal)\n",
    "        feat['overall_t'][subgoal_i].append(t)\n",
    "\n",
    "        # get state change\n",
    "        curr_obj_states = {obj['objectId']:get_object_states(obj, object_state_types) for obj in state['objects_metadata']}\n",
    "        \n",
    "        # list same order as objectId_list\n",
    "        state_change = detect_state_change(last_obj_states, curr_obj_states, objectId_list)\n",
    "        last_obj_states = curr_obj_states\n",
    "\n",
    "        feat['instance_state_change'][subgoal_i].append(state_change)\n",
    "    \n",
    "        # get visibility\n",
    "        visible = [False for _ in objectId_list]\n",
    "        for ob in state['objects_metadata']:\n",
    "            pos = objectId_list.index(ob['objectId'])\n",
    "            visible[pos] = ob['visible']\n",
    "        feat['instance_visibile'][subgoal_i].append(visible)\n",
    "\n",
    "        # get type state change\n",
    "        type_state_change = detect_type_state_change(state_change, objectId_list, objectTyp_list)\n",
    "        feat['type_state_change'][subgoal_i].append(type_state_change)\n",
    "\n",
    "        # get type visibility\n",
    "        type_visible = detect_type_visibility(visible, objectId_list, objectTyp_list)\n",
    "        feat['type_visibile'][subgoal_i].append(type_visible)\n",
    "\n",
    "        subgoal_t += 1\n",
    "        \n",
    "    return feat"
   ]
  },
  {
   "cell_type": "markdown",
   "metadata": {},
   "source": [
    "## TRAIN"
   ]
  },
  {
   "cell_type": "code",
   "execution_count": 410,
   "metadata": {
    "scrolled": true
   },
   "outputs": [
    {
     "name": "stdout",
     "output_type": "stream",
     "text": [
      "success paths =  6505\n",
      "failed paths =  69\n"
     ]
    }
   ],
   "source": [
    "date = '20200511'\n",
    "split_name = 'train'\n",
    "\n",
    "with open('/root/data_alfred/splits/collect_states_{}_{}_notebook_success_paths.json'.format(date, split_name), 'r') as f:\n",
    "    success_outpaths = json.load(f)\n",
    "    \n",
    "len(success_outpaths)\n",
    "\n",
    "with open('/root/data_alfred/splits/collect_states_{}_{}_notebook_failed_roots.json'.format(date, split_name), 'r') as f:\n",
    "    failed_roots = json.load(f)\n",
    "    \n",
    "print('success paths = ', len(success_outpaths))\n",
    "print('failed paths = ', len(failed_roots))"
   ]
  },
  {
   "cell_type": "code",
   "execution_count": 411,
   "metadata": {
    "scrolled": true
   },
   "outputs": [
    {
     "name": "stdout",
     "output_type": "stream",
     "text": [
      "6505\n"
     ]
    }
   ],
   "source": [
    "extract_feat_dum = []\n",
    "extract_feat_outpaths = []\n",
    "\n",
    "for metadata_outpath in success_outpaths:\n",
    "    \n",
    "    with open(metadata_outpath, 'r') as f:\n",
    "        saved_states = json.load(f)\n",
    "        \n",
    "    root = metadata_outpath[:metadata_outpath.index('pp/')]\n",
    "    \n",
    "    shifted_states = shift_states(saved_states)\n",
    "    extract_feat = extract_states_for_model(shifted_states, saved_states, root)\n",
    "    extract_feat['metadata_path'] = metadata_outpath\n",
    "    extract_feat['root'] = root\n",
    "    \n",
    "    extract_feat_outpath = metadata_outpath.replace('/metadata_states.json', '/extracted_feature_states.json')\n",
    "    with open(extract_feat_outpath, 'w') as f:\n",
    "        json.dump(extract_feat ,f)\n",
    "    \n",
    "    extract_feat_outpaths.append(extract_feat_outpath)\n",
    "    extract_feat_dum.append(extract_feat)\n",
    "    \n",
    "print(len(extract_feat_dum))    "
   ]
  },
  {
   "cell_type": "code",
   "execution_count": 413,
   "metadata": {},
   "outputs": [
    {
     "data": {
      "text/plain": [
       "6505"
      ]
     },
     "execution_count": 413,
     "metadata": {},
     "output_type": "execute_result"
    }
   ],
   "source": [
    "len(extract_feat_outpaths)"
   ]
  },
  {
   "cell_type": "code",
   "execution_count": 412,
   "metadata": {},
   "outputs": [],
   "source": [
    "date = '20200513'\n",
    "with open('/root/data_alfred/splits/extract_feat_states_{}_{}_notebook_outpaths.json'.format(date, split_name), 'w') as f:\n",
    "    json.dump(extract_feat_outpaths, f)"
   ]
  },
  {
   "cell_type": "markdown",
   "metadata": {},
   "source": [
    "## VALID SEEN"
   ]
  },
  {
   "cell_type": "code",
   "execution_count": 397,
   "metadata": {},
   "outputs": [
    {
     "name": "stdout",
     "output_type": "stream",
     "text": [
      "success paths =  249\n",
      "failed paths =  2\n"
     ]
    }
   ],
   "source": [
    "date = '20200511'\n",
    "split_name = 'valid_seen'\n",
    "\n",
    "with open('/root/data_alfred/splits/collect_states_{}_{}_notebook_success_paths.json'.format(date, split_name), 'r') as f:\n",
    "    success_outpaths = json.load(f)\n",
    "    \n",
    "len(success_outpaths)\n",
    "\n",
    "with open('/root/data_alfred/splits/collect_states_{}_{}_notebook_failed_roots.json'.format(date, split_name), 'r') as f:\n",
    "    failed_roots = json.load(f)\n",
    "    \n",
    "print('success paths = ', len(success_outpaths))\n",
    "print('failed paths = ', len(failed_roots))"
   ]
  },
  {
   "cell_type": "code",
   "execution_count": 398,
   "metadata": {
    "scrolled": true
   },
   "outputs": [
    {
     "name": "stdout",
     "output_type": "stream",
     "text": [
      "249\n"
     ]
    }
   ],
   "source": [
    "extract_feat_dum = []\n",
    "extract_feat_outpaths = []\n",
    "\n",
    "for metadata_outpath in success_outpaths:\n",
    "    \n",
    "    with open(metadata_outpath, 'r') as f:\n",
    "        saved_states = json.load(f)\n",
    "        \n",
    "    root = metadata_outpath[:metadata_outpath.index('pp/')]\n",
    "    \n",
    "    shifted_states = shift_states(saved_states)\n",
    "    extract_feat = extract_states_for_model(shifted_states, saved_states, root)\n",
    "    extract_feat['metadata_path'] = metadata_outpath\n",
    "    extract_feat['root'] = root\n",
    "    \n",
    "    extract_feat_outpath = metadata_outpath.replace('/metadata_states.json', '/extracted_feature_states.json')\n",
    "    with open(extract_feat_outpath, 'w') as f:\n",
    "        json.dump(extract_feat ,f)\n",
    "    \n",
    "    extract_feat_outpaths.append(extract_feat_outpath)\n",
    "    extract_feat_dum.append(extract_feat)\n",
    "    \n",
    "print(len(extract_feat_dum))    "
   ]
  },
  {
   "cell_type": "code",
   "execution_count": 402,
   "metadata": {},
   "outputs": [],
   "source": [
    "date = '20200513'\n",
    "with open('/root/data_alfred/splits/extract_feat_states_{}_{}_notebook_outpaths.json'.format(date, split_name), 'w') as f:\n",
    "    json.dump(extract_feat_outpaths, f)"
   ]
  },
  {
   "cell_type": "markdown",
   "metadata": {},
   "source": [
    "## VALID UNSEEN"
   ]
  },
  {
   "cell_type": "code",
   "execution_count": 403,
   "metadata": {},
   "outputs": [
    {
     "name": "stdout",
     "output_type": "stream",
     "text": [
      "success paths =  254\n",
      "failed paths =  1\n"
     ]
    }
   ],
   "source": [
    "date = '20200511'\n",
    "split_name = 'valid_unseen'\n",
    "\n",
    "with open('/root/data_alfred/splits/collect_states_{}_{}_notebook_success_paths.json'.format(date, split_name), 'r') as f:\n",
    "    success_outpaths = json.load(f)\n",
    "    \n",
    "len(success_outpaths)\n",
    "\n",
    "with open('/root/data_alfred/splits/collect_states_{}_{}_notebook_failed_roots.json'.format(date, split_name), 'r') as f:\n",
    "    failed_roots = json.load(f)\n",
    "    \n",
    "print('success paths = ', len(success_outpaths))\n",
    "print('failed paths = ', len(failed_roots))"
   ]
  },
  {
   "cell_type": "code",
   "execution_count": 404,
   "metadata": {},
   "outputs": [
    {
     "name": "stdout",
     "output_type": "stream",
     "text": [
      "254\n"
     ]
    }
   ],
   "source": [
    "extract_feat_dum = []\n",
    "extract_feat_outpaths = []\n",
    "\n",
    "for metadata_outpath in success_outpaths:\n",
    "    \n",
    "    with open(metadata_outpath, 'r') as f:\n",
    "        saved_states = json.load(f)\n",
    "        \n",
    "    root = metadata_outpath[:metadata_outpath.index('pp/')]\n",
    "    \n",
    "    shifted_states = shift_states(saved_states)\n",
    "    extract_feat = extract_states_for_model(shifted_states, saved_states, root)\n",
    "    extract_feat['metadata_path'] = metadata_outpath\n",
    "    extract_feat['root'] = root\n",
    "    \n",
    "    extract_feat_outpath = metadata_outpath.replace('/metadata_states.json', '/extracted_feature_states.json')\n",
    "    with open(extract_feat_outpath, 'w') as f:\n",
    "        json.dump(extract_feat ,f)\n",
    "    \n",
    "    extract_feat_outpaths.append(extract_feat_outpath)\n",
    "    extract_feat_dum.append(extract_feat)\n",
    "    \n",
    "print(len(extract_feat_dum))   "
   ]
  },
  {
   "cell_type": "code",
   "execution_count": 407,
   "metadata": {},
   "outputs": [],
   "source": [
    "date = '20200513'\n",
    "with open('/root/data_alfred/splits/extract_feat_states_{}_{}_notebook_outpaths.json'.format(date, split_name), 'w') as f:\n",
    "    json.dump(extract_feat_outpaths, f)"
   ]
  },
  {
   "cell_type": "code",
   "execution_count": null,
   "metadata": {},
   "outputs": [],
   "source": []
  }
 ],
 "metadata": {
  "kernelspec": {
   "display_name": "Python 3",
   "language": "python",
   "name": "python3"
  },
  "language_info": {
   "codemirror_mode": {
    "name": "ipython",
    "version": 3
   },
   "file_extension": ".py",
   "mimetype": "text/x-python",
   "name": "python",
   "nbconvert_exporter": "python",
   "pygments_lexer": "ipython3",
   "version": "3.6.9"
  }
 },
 "nbformat": 4,
 "nbformat_minor": 4
}
