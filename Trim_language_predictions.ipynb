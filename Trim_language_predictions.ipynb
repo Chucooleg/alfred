{
 "cells": [
  {
   "cell_type": "code",
   "execution_count": 5,
   "metadata": {},
   "outputs": [],
   "source": [
    "import json\n",
    "import os"
   ]
  },
  {
   "cell_type": "code",
   "execution_count": 3,
   "metadata": {},
   "outputs": [],
   "source": [
    "data_p = '/root/data_alfred/unlabeled_12k_20201206/seen'\n",
    "toy_splits_p = '/root/data_alfred/splits/debug_20201210.json'\n",
    "splits_p = '/root/data_alfred/splits/unlabeled_12k_20201206.json'"
   ]
  },
  {
   "cell_type": "code",
   "execution_count": 28,
   "metadata": {},
   "outputs": [],
   "source": [
    "def truncate_extra_subgoals(traj_data, num_subgoals, key):\n",
    "    assert len(traj_data[key]['anns'][0]['high_descs']) >= num_subgoals\n",
    "    if len(traj_data[key]['anns'][0]['high_descs']) > num_subgoals:\n",
    "        traj_data[key]['anns'][0]['high_descs'] = traj_data[key]['anns'][0]['high_descs'][:num_subgoals]\n",
    "        return True\n",
    "    else:\n",
    "        return False\n",
    "\n",
    "def match_post_prediction_subgoal_lengths(split, data_p, overwrite_traj=False, debug=False):\n",
    "    '''\n",
    "    split: a list of tasks {'task':<task name>/<trial id>, 'repeat_idx':int, 'full_traj_success':boolean, 'collected_subgoals':int}\n",
    "    '''\n",
    "    adjusts_explainer_full = 0\n",
    "    adjusts_explainer = 0\n",
    "    adjusts_baseline = 0\n",
    "    \n",
    "    fail = 0\n",
    "    for task in split:\n",
    "        traj_data_p = os.path.join(data_p, task['task'], 'traj_data.json')\n",
    "        with open(traj_data_p, 'r') as f:\n",
    "            traj_data = json.load(f)\n",
    "\n",
    "        if debug:\n",
    "            print (task)\n",
    "            print ('Explainer Full')\n",
    "            print (traj_data['explainer_full_annotations'])\n",
    "            print('pre truncation')\n",
    "            print ('Explainer Aux Loss only')\n",
    "            print (traj_data['explainer_annotations'])\n",
    "            print ('Baseline')\n",
    "            print (traj_data['baseline_annotations'])\n",
    "            print ('----------------------------------------')\n",
    "            \n",
    "        true_num_subgoals = len(traj_data['plan']['high_pddl'])\n",
    "        \n",
    "        # verify that the predicted instructions has # subgoals >= gold # subgoals\n",
    "        # when predicting in a batch of different tasks, model can decode more than necessary\n",
    "        assert len(traj_data['explainer_full_annotations']['anns'][0]['high_descs']) >= true_num_subgoals\n",
    "        assert len(traj_data['explainer_annotations']['anns'][0]['high_descs']) >= (true_num_subgoals - 1)\n",
    "        assert len(traj_data['baseline_annotations']['anns'][0]['high_descs']) >= (true_num_subgoals -1)\n",
    "        \n",
    "        adjusts_explainer_full += int(truncate_extra_subgoals(traj_data, true_num_subgoals, key='explainer_full_annotations'))\n",
    "        adjusts_explainer += int(truncate_extra_subgoals(traj_data, true_num_subgoals, key='explainer_annotations'))\n",
    "        adjusts_baseline += int(truncate_extra_subgoals(traj_data, true_num_subgoals, key='baseline_annotations'))\n",
    "\n",
    "        if debug:\n",
    "            print (adjusts_explainer, adjusts_baseline)\n",
    "            print (task)\n",
    "            print('post truncation')\n",
    "            print ('Explainer Full')\n",
    "            print (traj_data['explainer_full_annotations'])\n",
    "            print ('Explainer Aux Loss only')\n",
    "            print (traj_data['explainer_annotations'])\n",
    "            print ('Baseline')\n",
    "            print (traj_data['baseline_annotations'])\n",
    "            print ('\\n\\n\\n\\n\\n\\n\\n\\n')\n",
    "        \n",
    "        # be careful about overwriting!\n",
    "        if overwrite_traj:\n",
    "            with open(traj_data_p, 'w') as f:\n",
    "                json.dump(traj_data, f)\n",
    "    \n",
    "    return adjusts_explainer_full, adjusts_explainer, adjusts_baseline\n",
    "        "
   ]
  },
  {
   "cell_type": "markdown",
   "metadata": {},
   "source": [
    "## Debug with Toy Split"
   ]
  },
  {
   "cell_type": "code",
   "execution_count": 6,
   "metadata": {},
   "outputs": [],
   "source": [
    "with open(toy_splits_p, 'r') as f:\n",
    "    toy_split = json.load(f)['augmentation']"
   ]
  },
  {
   "cell_type": "code",
   "execution_count": 29,
   "metadata": {},
   "outputs": [
    {
     "name": "stdout",
     "output_type": "stream",
     "text": [
      "{'task': 'pick_cool_then_place_in_recep-Tomato-None-SinkBasin-21/trial_T20190910_135147_740373', 'repeat_idx': 0, 'full_traj_success': True, 'collected_subgoals': 6}\n",
      "pre truncation\n",
      "Explainer Aux Loss only\n",
      "{'anns': [{'task_desc': 'put a chilled tomato in the sink .', 'high_descs': ['turn around and walk to the sink .', 'pick up the tomato slice from the sink .', 'turn right and walk to the fridge .', 'chill the tomato in the fridge then get it back out and close the door .', 'turn left and walk to the sink then turn right and walk to the sink .', 'put the tomato in the sink .', 'turn right and walk over to the small wooden shelving unit in the corner of the room .', 'turn right towards the small white table .', 'turn right and walk over to the small wooden shelving unit in the corner of the room .', 'turn right and walk over to the small wooden shelving unit in the corner of the room .', 'move forward slightly then turn right towards the skin finish face the sink drawer', 'move forward slightly then turn right towards the skin finish face the sink drawer']}]}\n",
      "Baseline\n",
      "{'anns': [{'task_desc': 'put a chilled tomato in the sink .', 'high_descs': ['turn around and walk to the sink .', 'pick up the tomato from the sink .', 'turn around and walk forward , then turn left to face the fridge .', 'chill the tomato in the fridge then get it back out and close the door .', 'turn left and walk to the sink .', 'put the tomato in the sink .', 'pick up the knife on the counter .', 'pick up the knife on the counter .', 'pick up the knife on the counter .', 'pick up the knife on the counter .', 'pick up the knife on the counter .', 'pick up the knife on the counter .']}]}\n",
      "----------------------------------------\n",
      "1 1\n",
      "{'task': 'pick_cool_then_place_in_recep-Tomato-None-SinkBasin-21/trial_T20190910_135147_740373', 'repeat_idx': 0, 'full_traj_success': True, 'collected_subgoals': 6}\n",
      "post truncation\n",
      "Explainer Aux Loss only\n",
      "{'anns': [{'task_desc': 'put a chilled tomato in the sink .', 'high_descs': ['turn around and walk to the sink .', 'pick up the tomato slice from the sink .', 'turn right and walk to the fridge .', 'chill the tomato in the fridge then get it back out and close the door .', 'turn left and walk to the sink then turn right and walk to the sink .', 'put the tomato in the sink .']}]}\n",
      "Baseline\n",
      "{'anns': [{'task_desc': 'put a chilled tomato in the sink .', 'high_descs': ['turn around and walk to the sink .', 'pick up the tomato from the sink .', 'turn around and walk forward , then turn left to face the fridge .', 'chill the tomato in the fridge then get it back out and close the door .', 'turn left and walk to the sink .', 'put the tomato in the sink .']}]}\n",
      "\n",
      "\n",
      "\n",
      "\n",
      "\n",
      "\n",
      "\n",
      "\n",
      "\n",
      "{'task': 'pick_heat_then_place_in_recep-Mug-None-SinkBasin-18/trial_T20190910_113852_697425', 'repeat_idx': 0, 'full_traj_success': True, 'collected_subgoals': 7}\n",
      "pre truncation\n",
      "Explainer Aux Loss only\n",
      "{'anns': [{'task_desc': 'put a warmed mug in the sink .', 'high_descs': ['turn left and walk over to the coffee maker on the counter .', 'pick up the mug from the coffee machine .', 'turn around and face the microwave on the counter .', 'heat the mug in the microwave .', \"turn around and walk to the sink that ' s on your right .\", 'place the mug in the sink .', 'turn right and walk over to the small wooden shelving unit in the corner of the room .', 'turn right and walk over to the small wooden shelving unit in the corner of the room .', 'turn right and walk over to the small wooden shelving unit in the corner of the room .', 'turn right towards the small white table .', 'move forward slightly then turn right and face the table']}]}\n",
      "Baseline\n",
      "{'anns': [{'task_desc': 'put a warmed mug in the sink .', 'high_descs': ['turn left , go forward , turn left , go forward , turn left , go forward to the coffee maker .', 'pick up the mug from the coffee maker .', 'turn around and walk to the microwave on the left .', 'heat the mug in the microwave .', 'turn left and walk to the sink .', 'put the mug in the sink', 'pick up the knife on the counter .', 'pick up the knife on the counter .', 'pick up the knife on the counter .', 'pick up the knife on the counter .', 'pick up the knife on the counter .']}]}\n",
      "----------------------------------------\n",
      "2 2\n",
      "{'task': 'pick_heat_then_place_in_recep-Mug-None-SinkBasin-18/trial_T20190910_113852_697425', 'repeat_idx': 0, 'full_traj_success': True, 'collected_subgoals': 7}\n",
      "post truncation\n",
      "Explainer Aux Loss only\n",
      "{'anns': [{'task_desc': 'put a warmed mug in the sink .', 'high_descs': ['turn left and walk over to the coffee maker on the counter .', 'pick up the mug from the coffee machine .', 'turn around and face the microwave on the counter .', 'heat the mug in the microwave .', \"turn around and walk to the sink that ' s on your right .\", 'place the mug in the sink .', 'turn right and walk over to the small wooden shelving unit in the corner of the room .']}]}\n",
      "Baseline\n",
      "{'anns': [{'task_desc': 'put a warmed mug in the sink .', 'high_descs': ['turn left , go forward , turn left , go forward , turn left , go forward to the coffee maker .', 'pick up the mug from the coffee maker .', 'turn around and walk to the microwave on the left .', 'heat the mug in the microwave .', 'turn left and walk to the sink .', 'put the mug in the sink', 'pick up the knife on the counter .']}]}\n",
      "\n",
      "\n",
      "\n",
      "\n",
      "\n",
      "\n",
      "\n",
      "\n",
      "\n",
      "{'task': 'pick_clean_then_place_in_recep-Spoon-None-CounterTop-11/trial_T20190913_132015_402664', 'repeat_idx': 0, 'full_traj_success': True, 'collected_subgoals': 7}\n",
      "pre truncation\n",
      "Explainer Aux Loss only\n",
      "{'anns': [{'task_desc': 'put a clean spoon on the counter .', 'high_descs': ['turn left and face the white table on your right .', 'pick up a spoon from the table', 'turn right and walk to the sink on the right .', 'put the spoon in the sink , wash the spoon , and take it out', 'turn around and walk to the counter with the toaster on it .', 'put the spoon on the counter', 'turn right towards the small white table .', 'move forward slightly then turn right towards the skin finish face the sink drawer', 'turn right towards the small white table .', 'turn right and walk over to the small wooden shelving unit in the corner of the room .', 'turn right towards the small white table .', 'turn right and walk over to the small wooden shelving unit in the corner of the room .', 'move forward slightly then turn right and face the table']}]}\n",
      "Baseline\n",
      "{'anns': [{'task_desc': 'put a clean spoon on the counter .', 'high_descs': ['move to the left to face the white table .', 'pick up the tomato from the table', 'turn right and walk to the sink .', 'put the metal spoon in the sink , rinse it off , and take it back out .', 'turn around and walk to the counter with the toaster on it .', 'put the spoon on the counter', 'pick up the knife on the counter .', 'pick up the knife on the counter .', 'pick up the knife on the counter .', 'pick up the knife on the counter .', 'pick up the knife on the counter .', 'pick up the knife on the counter .', 'pick up the knife on the counter .']}]}\n",
      "----------------------------------------\n",
      "3 3\n",
      "{'task': 'pick_clean_then_place_in_recep-Spoon-None-CounterTop-11/trial_T20190913_132015_402664', 'repeat_idx': 0, 'full_traj_success': True, 'collected_subgoals': 7}\n",
      "post truncation\n",
      "Explainer Aux Loss only\n",
      "{'anns': [{'task_desc': 'put a clean spoon on the counter .', 'high_descs': ['turn left and face the white table on your right .', 'pick up a spoon from the table', 'turn right and walk to the sink on the right .', 'put the spoon in the sink , wash the spoon , and take it out', 'turn around and walk to the counter with the toaster on it .', 'put the spoon on the counter', 'turn right towards the small white table .']}]}\n",
      "Baseline\n",
      "{'anns': [{'task_desc': 'put a clean spoon on the counter .', 'high_descs': ['move to the left to face the white table .', 'pick up the tomato from the table', 'turn right and walk to the sink .', 'put the metal spoon in the sink , rinse it off , and take it back out .', 'turn around and walk to the counter with the toaster on it .', 'put the spoon on the counter', 'pick up the knife on the counter .']}]}\n",
      "\n",
      "\n",
      "\n",
      "\n",
      "\n",
      "\n",
      "\n",
      "\n",
      "\n",
      "{'task': 'pick_and_place_with_movable_recep-CellPhone-Plate-Shelf-211/trial_T20190909_182029_502585', 'repeat_idx': 0, 'full_traj_success': True, 'collected_subgoals': 8}\n",
      "pre truncation\n",
      "Explainer Aux Loss only\n",
      "{'anns': [{'task_desc': 'put a plate with a phone on it on the shelf .', 'high_descs': ['turn right , walk to the coffee table , turn right to face coffee table .', 'pick up the cell phone on the coffee table .', 'turn right and walk back to the coffee table .', 'put the phone on the plate on the table .', 'pick up the plate with the phone on it .', 'turn left and walk to the coffee table then turn right and walk to the table then turn right and walk to the table .', 'put the plate on the shelf']}]}\n",
      "Baseline\n",
      "{'anns': [{'task_desc': 'put a plate with a phone on it on the shelf .', 'high_descs': ['turn around and go to the coffee table .', 'pick up the cell phone from the coffee table .', 'carry the phone over to the coffee table', 'put the phone on the plate on the table .', 'pick up the plate with the remote on it .', 'turn left and walk to the end of the room , then turn right and walk to the wooden table .', 'place the plate on the table .']}]}\n",
      "----------------------------------------\n",
      "> <ipython-input-28-ec15195ed0a0>(41)match_post_prediction_subgoal_lengths()\n",
      "-> assert len(traj_data['explainer_annotations']['anns'][0]['high_descs']) >= (true_num_subgoals - 1)\n"
     ]
    },
    {
     "name": "stdout",
     "output_type": "stream",
     "text": [
      "(Pdb) q\n"
     ]
    },
    {
     "ename": "BdbQuit",
     "evalue": "",
     "output_type": "error",
     "traceback": [
      "\u001b[0;31m---------------------------------------------------------------------------\u001b[0m",
      "\u001b[0;31mBdbQuit\u001b[0m                                   Traceback (most recent call last)",
      "\u001b[0;32m<ipython-input-29-5253c1120560>\u001b[0m in \u001b[0;36m<module>\u001b[0;34m\u001b[0m\n\u001b[0;32m----> 1\u001b[0;31m \u001b[0mfail\u001b[0m \u001b[0;34m=\u001b[0m \u001b[0mmatch_post_prediction_subgoal_lengths\u001b[0m\u001b[0;34m(\u001b[0m\u001b[0mtoy_split\u001b[0m\u001b[0;34m,\u001b[0m \u001b[0mdata_p\u001b[0m\u001b[0;34m,\u001b[0m \u001b[0moverwrite_traj\u001b[0m\u001b[0;34m=\u001b[0m\u001b[0;32mFalse\u001b[0m\u001b[0;34m,\u001b[0m \u001b[0mdebug\u001b[0m\u001b[0;34m=\u001b[0m\u001b[0;32mTrue\u001b[0m\u001b[0;34m)\u001b[0m\u001b[0;34m\u001b[0m\u001b[0;34m\u001b[0m\u001b[0m\n\u001b[0m",
      "\u001b[0;32m<ipython-input-28-ec15195ed0a0>\u001b[0m in \u001b[0;36mmatch_post_prediction_subgoal_lengths\u001b[0;34m(split, data_p, overwrite_traj, debug)\u001b[0m\n\u001b[1;32m     39\u001b[0m         \u001b[0;32mif\u001b[0m \u001b[0;32mnot\u001b[0m \u001b[0;34m(\u001b[0m\u001b[0mlen\u001b[0m\u001b[0;34m(\u001b[0m\u001b[0mtraj_data\u001b[0m\u001b[0;34m[\u001b[0m\u001b[0;34m'explainer_annotations'\u001b[0m\u001b[0;34m]\u001b[0m\u001b[0;34m[\u001b[0m\u001b[0;34m'anns'\u001b[0m\u001b[0;34m]\u001b[0m\u001b[0;34m[\u001b[0m\u001b[0;36m0\u001b[0m\u001b[0;34m]\u001b[0m\u001b[0;34m[\u001b[0m\u001b[0;34m'high_descs'\u001b[0m\u001b[0;34m]\u001b[0m\u001b[0;34m)\u001b[0m \u001b[0;34m>=\u001b[0m \u001b[0mtrue_num_subgoals\u001b[0m\u001b[0;34m)\u001b[0m\u001b[0;34m:\u001b[0m\u001b[0;34m\u001b[0m\u001b[0;34m\u001b[0m\u001b[0m\n\u001b[1;32m     40\u001b[0m                 \u001b[0;32mimport\u001b[0m \u001b[0mpdb\u001b[0m\u001b[0;34m;\u001b[0m \u001b[0mpdb\u001b[0m\u001b[0;34m.\u001b[0m\u001b[0mset_trace\u001b[0m\u001b[0;34m(\u001b[0m\u001b[0;34m)\u001b[0m\u001b[0;34m\u001b[0m\u001b[0;34m\u001b[0m\u001b[0m\n\u001b[0;32m---> 41\u001b[0;31m         \u001b[0;32massert\u001b[0m \u001b[0mlen\u001b[0m\u001b[0;34m(\u001b[0m\u001b[0mtraj_data\u001b[0m\u001b[0;34m[\u001b[0m\u001b[0;34m'explainer_annotations'\u001b[0m\u001b[0;34m]\u001b[0m\u001b[0;34m[\u001b[0m\u001b[0;34m'anns'\u001b[0m\u001b[0;34m]\u001b[0m\u001b[0;34m[\u001b[0m\u001b[0;36m0\u001b[0m\u001b[0;34m]\u001b[0m\u001b[0;34m[\u001b[0m\u001b[0;34m'high_descs'\u001b[0m\u001b[0;34m]\u001b[0m\u001b[0;34m)\u001b[0m \u001b[0;34m>=\u001b[0m \u001b[0;34m(\u001b[0m\u001b[0mtrue_num_subgoals\u001b[0m \u001b[0;34m-\u001b[0m \u001b[0;36m1\u001b[0m\u001b[0;34m)\u001b[0m\u001b[0;34m\u001b[0m\u001b[0;34m\u001b[0m\u001b[0m\n\u001b[0m\u001b[1;32m     42\u001b[0m         \u001b[0;32massert\u001b[0m \u001b[0mlen\u001b[0m\u001b[0;34m(\u001b[0m\u001b[0mtraj_data\u001b[0m\u001b[0;34m[\u001b[0m\u001b[0;34m'baseline_annotations'\u001b[0m\u001b[0;34m]\u001b[0m\u001b[0;34m[\u001b[0m\u001b[0;34m'anns'\u001b[0m\u001b[0;34m]\u001b[0m\u001b[0;34m[\u001b[0m\u001b[0;36m0\u001b[0m\u001b[0;34m]\u001b[0m\u001b[0;34m[\u001b[0m\u001b[0;34m'high_descs'\u001b[0m\u001b[0;34m]\u001b[0m\u001b[0;34m)\u001b[0m \u001b[0;34m>=\u001b[0m \u001b[0;34m(\u001b[0m\u001b[0mtrue_num_subgoals\u001b[0m \u001b[0;34m-\u001b[0m\u001b[0;36m1\u001b[0m\u001b[0;34m)\u001b[0m\u001b[0;34m\u001b[0m\u001b[0;34m\u001b[0m\u001b[0m\n\u001b[1;32m     43\u001b[0m \u001b[0;34m\u001b[0m\u001b[0m\n",
      "\u001b[0;32m<ipython-input-28-ec15195ed0a0>\u001b[0m in \u001b[0;36mmatch_post_prediction_subgoal_lengths\u001b[0;34m(split, data_p, overwrite_traj, debug)\u001b[0m\n\u001b[1;32m     39\u001b[0m         \u001b[0;32mif\u001b[0m \u001b[0;32mnot\u001b[0m \u001b[0;34m(\u001b[0m\u001b[0mlen\u001b[0m\u001b[0;34m(\u001b[0m\u001b[0mtraj_data\u001b[0m\u001b[0;34m[\u001b[0m\u001b[0;34m'explainer_annotations'\u001b[0m\u001b[0;34m]\u001b[0m\u001b[0;34m[\u001b[0m\u001b[0;34m'anns'\u001b[0m\u001b[0;34m]\u001b[0m\u001b[0;34m[\u001b[0m\u001b[0;36m0\u001b[0m\u001b[0;34m]\u001b[0m\u001b[0;34m[\u001b[0m\u001b[0;34m'high_descs'\u001b[0m\u001b[0;34m]\u001b[0m\u001b[0;34m)\u001b[0m \u001b[0;34m>=\u001b[0m \u001b[0mtrue_num_subgoals\u001b[0m\u001b[0;34m)\u001b[0m\u001b[0;34m:\u001b[0m\u001b[0;34m\u001b[0m\u001b[0;34m\u001b[0m\u001b[0m\n\u001b[1;32m     40\u001b[0m                 \u001b[0;32mimport\u001b[0m \u001b[0mpdb\u001b[0m\u001b[0;34m;\u001b[0m \u001b[0mpdb\u001b[0m\u001b[0;34m.\u001b[0m\u001b[0mset_trace\u001b[0m\u001b[0;34m(\u001b[0m\u001b[0;34m)\u001b[0m\u001b[0;34m\u001b[0m\u001b[0;34m\u001b[0m\u001b[0m\n\u001b[0;32m---> 41\u001b[0;31m         \u001b[0;32massert\u001b[0m \u001b[0mlen\u001b[0m\u001b[0;34m(\u001b[0m\u001b[0mtraj_data\u001b[0m\u001b[0;34m[\u001b[0m\u001b[0;34m'explainer_annotations'\u001b[0m\u001b[0;34m]\u001b[0m\u001b[0;34m[\u001b[0m\u001b[0;34m'anns'\u001b[0m\u001b[0;34m]\u001b[0m\u001b[0;34m[\u001b[0m\u001b[0;36m0\u001b[0m\u001b[0;34m]\u001b[0m\u001b[0;34m[\u001b[0m\u001b[0;34m'high_descs'\u001b[0m\u001b[0;34m]\u001b[0m\u001b[0;34m)\u001b[0m \u001b[0;34m>=\u001b[0m \u001b[0;34m(\u001b[0m\u001b[0mtrue_num_subgoals\u001b[0m \u001b[0;34m-\u001b[0m \u001b[0;36m1\u001b[0m\u001b[0;34m)\u001b[0m\u001b[0;34m\u001b[0m\u001b[0;34m\u001b[0m\u001b[0m\n\u001b[0m\u001b[1;32m     42\u001b[0m         \u001b[0;32massert\u001b[0m \u001b[0mlen\u001b[0m\u001b[0;34m(\u001b[0m\u001b[0mtraj_data\u001b[0m\u001b[0;34m[\u001b[0m\u001b[0;34m'baseline_annotations'\u001b[0m\u001b[0;34m]\u001b[0m\u001b[0;34m[\u001b[0m\u001b[0;34m'anns'\u001b[0m\u001b[0;34m]\u001b[0m\u001b[0;34m[\u001b[0m\u001b[0;36m0\u001b[0m\u001b[0;34m]\u001b[0m\u001b[0;34m[\u001b[0m\u001b[0;34m'high_descs'\u001b[0m\u001b[0;34m]\u001b[0m\u001b[0;34m)\u001b[0m \u001b[0;34m>=\u001b[0m \u001b[0;34m(\u001b[0m\u001b[0mtrue_num_subgoals\u001b[0m \u001b[0;34m-\u001b[0m\u001b[0;36m1\u001b[0m\u001b[0;34m)\u001b[0m\u001b[0;34m\u001b[0m\u001b[0;34m\u001b[0m\u001b[0m\n\u001b[1;32m     43\u001b[0m \u001b[0;34m\u001b[0m\u001b[0m\n",
      "\u001b[0;32m/opt/conda/envs/pytorch-py3.6/lib/python3.6/bdb.py\u001b[0m in \u001b[0;36mtrace_dispatch\u001b[0;34m(self, frame, event, arg)\u001b[0m\n\u001b[1;32m     49\u001b[0m             \u001b[0;32mreturn\u001b[0m \u001b[0;31m# None\u001b[0m\u001b[0;34m\u001b[0m\u001b[0;34m\u001b[0m\u001b[0m\n\u001b[1;32m     50\u001b[0m         \u001b[0;32mif\u001b[0m \u001b[0mevent\u001b[0m \u001b[0;34m==\u001b[0m \u001b[0;34m'line'\u001b[0m\u001b[0;34m:\u001b[0m\u001b[0;34m\u001b[0m\u001b[0;34m\u001b[0m\u001b[0m\n\u001b[0;32m---> 51\u001b[0;31m             \u001b[0;32mreturn\u001b[0m \u001b[0mself\u001b[0m\u001b[0;34m.\u001b[0m\u001b[0mdispatch_line\u001b[0m\u001b[0;34m(\u001b[0m\u001b[0mframe\u001b[0m\u001b[0;34m)\u001b[0m\u001b[0;34m\u001b[0m\u001b[0;34m\u001b[0m\u001b[0m\n\u001b[0m\u001b[1;32m     52\u001b[0m         \u001b[0;32mif\u001b[0m \u001b[0mevent\u001b[0m \u001b[0;34m==\u001b[0m \u001b[0;34m'call'\u001b[0m\u001b[0;34m:\u001b[0m\u001b[0;34m\u001b[0m\u001b[0;34m\u001b[0m\u001b[0m\n\u001b[1;32m     53\u001b[0m             \u001b[0;32mreturn\u001b[0m \u001b[0mself\u001b[0m\u001b[0;34m.\u001b[0m\u001b[0mdispatch_call\u001b[0m\u001b[0;34m(\u001b[0m\u001b[0mframe\u001b[0m\u001b[0;34m,\u001b[0m \u001b[0marg\u001b[0m\u001b[0;34m)\u001b[0m\u001b[0;34m\u001b[0m\u001b[0;34m\u001b[0m\u001b[0m\n",
      "\u001b[0;32m/opt/conda/envs/pytorch-py3.6/lib/python3.6/bdb.py\u001b[0m in \u001b[0;36mdispatch_line\u001b[0;34m(self, frame)\u001b[0m\n\u001b[1;32m     68\u001b[0m         \u001b[0;32mif\u001b[0m \u001b[0mself\u001b[0m\u001b[0;34m.\u001b[0m\u001b[0mstop_here\u001b[0m\u001b[0;34m(\u001b[0m\u001b[0mframe\u001b[0m\u001b[0;34m)\u001b[0m \u001b[0;32mor\u001b[0m \u001b[0mself\u001b[0m\u001b[0;34m.\u001b[0m\u001b[0mbreak_here\u001b[0m\u001b[0;34m(\u001b[0m\u001b[0mframe\u001b[0m\u001b[0;34m)\u001b[0m\u001b[0;34m:\u001b[0m\u001b[0;34m\u001b[0m\u001b[0;34m\u001b[0m\u001b[0m\n\u001b[1;32m     69\u001b[0m             \u001b[0mself\u001b[0m\u001b[0;34m.\u001b[0m\u001b[0muser_line\u001b[0m\u001b[0;34m(\u001b[0m\u001b[0mframe\u001b[0m\u001b[0;34m)\u001b[0m\u001b[0;34m\u001b[0m\u001b[0;34m\u001b[0m\u001b[0m\n\u001b[0;32m---> 70\u001b[0;31m             \u001b[0;32mif\u001b[0m \u001b[0mself\u001b[0m\u001b[0;34m.\u001b[0m\u001b[0mquitting\u001b[0m\u001b[0;34m:\u001b[0m \u001b[0;32mraise\u001b[0m \u001b[0mBdbQuit\u001b[0m\u001b[0;34m\u001b[0m\u001b[0;34m\u001b[0m\u001b[0m\n\u001b[0m\u001b[1;32m     71\u001b[0m         \u001b[0;32mreturn\u001b[0m \u001b[0mself\u001b[0m\u001b[0;34m.\u001b[0m\u001b[0mtrace_dispatch\u001b[0m\u001b[0;34m\u001b[0m\u001b[0;34m\u001b[0m\u001b[0m\n\u001b[1;32m     72\u001b[0m \u001b[0;34m\u001b[0m\u001b[0m\n",
      "\u001b[0;31mBdbQuit\u001b[0m: "
     ]
    }
   ],
   "source": [
    "adjusts_explainer_full, adjusts_explainer, adjusts_baseline = match_post_prediction_subgoal_lengths(toy_split, data_p, overwrite_traj=False, debug=True)"
   ]
  },
  {
   "cell_type": "code",
   "execution_count": 22,
   "metadata": {},
   "outputs": [
    {
     "data": {
      "text/plain": [
       "34"
      ]
     },
     "execution_count": 22,
     "metadata": {},
     "output_type": "execute_result"
    }
   ],
   "source": [
    "fail"
   ]
  },
  {
   "cell_type": "code",
   "execution_count": null,
   "metadata": {},
   "outputs": [],
   "source": []
  }
 ],
 "metadata": {
  "kernelspec": {
   "display_name": "Python 3",
   "language": "python",
   "name": "python3"
  },
  "language_info": {
   "codemirror_mode": {
    "name": "ipython",
    "version": 3
   },
   "file_extension": ".py",
   "mimetype": "text/x-python",
   "name": "python",
   "nbconvert_exporter": "python",
   "pygments_lexer": "ipython3",
   "version": "3.6.9"
  }
 },
 "nbformat": 4,
 "nbformat_minor": 4
}
