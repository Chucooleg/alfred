{
 "cells": [
  {
   "cell_type": "code",
   "execution_count": 2,
   "metadata": {},
   "outputs": [],
   "source": [
    "import os\n",
    "# os.environ['ALFRED_ROOT'] = '/root/data/home/hoyeung/alfred/'\n",
    "os.environ['ALFRED_ROOT'] = '/home/legg/alfred/'\n",
    "\n",
    "import sys\n",
    "sys.path.append(os.path.join(os.environ['ALFRED_ROOT']))\n",
    "sys.path.append(os.path.join(os.environ['ALFRED_ROOT'], 'models'))\n",
    "\n",
    "# from argparse import ArgumentDefaultsHelpFormatter, ArgumentParser\n",
    "import torch\n",
    "import pprint\n",
    "import json\n",
    "import numpy as np\n",
    "from data.preprocess import Dataset\n",
    "from importlib import import_module, reload\n",
    "from argparse import ArgumentDefaultsHelpFormatter, ArgumentParser\n",
    "from collections import Counter\n",
    "# from models.utils.helper_utils import optimizer_to"
   ]
  },
  {
   "cell_type": "code",
   "execution_count": 2,
   "metadata": {},
   "outputs": [],
   "source": [
    "parser = ArgumentParser(formatter_class=ArgumentDefaultsHelpFormatter)\n",
    "args = parser.parse_args('')\n",
    "\n",
    "# settings\n",
    "# args.data = '/root/data_alfred/json_data_augmentation_20200820'\n",
    "args.data = '/media/legg/data/alfred_data/json_data_augmentation_20200820'\n",
    "args.pp_folder = 'pp'\n",
    "args.pframe = 300\n",
    "args.fast_epoch = True"
   ]
  },
  {
   "cell_type": "code",
   "execution_count": 3,
   "metadata": {},
   "outputs": [],
   "source": [
    "vocab = torch.load(os.path.join('/media/legg/data/alfred_data/json_feat_2.1.0_backup_20200826_agent_training', \"%s.vocab\" % args.pp_folder))"
   ]
  },
  {
   "cell_type": "code",
   "execution_count": 4,
   "metadata": {},
   "outputs": [
    {
     "data": {
      "text/plain": [
       "{'word': Vocab(2360), 'action_low': Vocab(15), 'action_high': Vocab(93)}"
      ]
     },
     "execution_count": 4,
     "metadata": {},
     "output_type": "execute_result"
    }
   ],
   "source": [
    "vocab"
   ]
  },
  {
   "cell_type": "markdown",
   "metadata": {},
   "source": [
    "## Preprocess original train splits oct21"
   ]
  },
  {
   "cell_type": "code",
   "execution_count": 5,
   "metadata": {},
   "outputs": [],
   "source": [
    "# SKIP preprocessing. Already preprocessed"
   ]
  },
  {
   "cell_type": "markdown",
   "metadata": {},
   "source": [
    "## Preprocess augmented splits"
   ]
  },
  {
   "cell_type": "code",
   "execution_count": 26,
   "metadata": {},
   "outputs": [
    {
     "name": "stdout",
     "output_type": "stream",
     "text": [
      "[('augmentation', 7570)]\n"
     ]
    }
   ],
   "source": [
    "args.splits = '/root/data_alfred/splits/sample_failed_20200820_filtered.json'\n",
    "# args.splits = '/root/data_alfred/splits/sample_failed_toy.json'\n",
    "\n",
    "with open(args.splits, 'r') as f:\n",
    "    splits = json.load(f)\n",
    "\n",
    "print([(k,len(splits[k])) for k in splits.keys()])"
   ]
  },
  {
   "cell_type": "code",
   "execution_count": 27,
   "metadata": {},
   "outputs": [
    {
     "data": {
      "text/plain": [
       "{'task': 'look_at_obj_in_light-BaseballBat-None-DeskLamp-301/trial_T20200814_164125_595727',\n",
       " 'repeat_idx': 0,\n",
       " 'full_traj_success': False,\n",
       " 'collected_subgoals': 2}"
      ]
     },
     "execution_count": 27,
     "metadata": {},
     "output_type": "execute_result"
    }
   ],
   "source": [
    "splits['augmentation'][0]"
   ]
  },
  {
   "cell_type": "code",
   "execution_count": 28,
   "metadata": {
    "scrolled": true
   },
   "outputs": [
    {
     "name": "stderr",
     "output_type": "stream",
     "text": [
      "100% (7570 of 7570) |####################| Elapsed Time: 0:01:38 Time:  0:01:38\n"
     ]
    }
   ],
   "source": [
    "args.fast_epoch = False\n",
    "dataset = Dataset(args, vocab)\n",
    "dataset.preprocess_splits_augmentation(splits, baseline=True)"
   ]
  },
  {
   "cell_type": "code",
   "execution_count": 29,
   "metadata": {},
   "outputs": [
    {
     "name": "stderr",
     "output_type": "stream",
     "text": [
      "100% (7570 of 7570) |####################| Elapsed Time: 0:01:29 Time:  0:01:29\n"
     ]
    }
   ],
   "source": [
    "args.fast_epoch = False\n",
    "dataset = Dataset(args, vocab)\n",
    "dataset.preprocess_splits_augmentation(splits, baseline=False)"
   ]
  },
  {
   "cell_type": "markdown",
   "metadata": {},
   "source": [
    "# Make SPLITS"
   ]
  },
  {
   "cell_type": "markdown",
   "metadata": {},
   "source": [
    "## Make Toy Training + Augmentation Split"
   ]
  },
  {
   "cell_type": "code",
   "execution_count": 13,
   "metadata": {},
   "outputs": [
    {
     "name": "stdout",
     "output_type": "stream",
     "text": [
      "[('tests_seen', 1533), ('tests_unseen', 1529), ('train', 21023), ('valid_seen', 820), ('valid_unseen', 821)]\n"
     ]
    }
   ],
   "source": [
    "alfred_splits_p = '/root/data_alfred/splits/oct21.json'\n",
    "with open(alfred_splits_p, 'r') as f:\n",
    "    alfred_splits = json.load(f)\n",
    "print([(k,len(alfred_splits[k])) for k in alfred_splits.keys()])"
   ]
  },
  {
   "cell_type": "code",
   "execution_count": 14,
   "metadata": {},
   "outputs": [
    {
     "name": "stdout",
     "output_type": "stream",
     "text": [
      "[('augmentation', 40)]\n"
     ]
    }
   ],
   "source": [
    "toy_aug_splits_p = '/root/data_alfred/splits/sample_failed_toy.json'\n",
    "with open(toy_aug_splits_p, 'r') as f:\n",
    "    toy_aug_splits = json.load(f)\n",
    "\n",
    "print([(k,len(toy_aug_splits[k])) for k in toy_aug_splits.keys()])"
   ]
  },
  {
   "cell_type": "code",
   "execution_count": 16,
   "metadata": {},
   "outputs": [
    {
     "name": "stdout",
     "output_type": "stream",
     "text": [
      "[('tests_seen', 16), ('tests_unseen', 16), ('train', 16), ('valid_seen', 16), ('valid_unseen', 16), ('augmentation', 40)]\n"
     ]
    }
   ],
   "source": [
    "toy_agent_tr_splits = {}\n",
    "\n",
    "for k in alfred_splits.keys():\n",
    "    toy_agent_tr_splits[k] = alfred_splits[k][:16]\n",
    "\n",
    "toy_agent_tr_splits['augmentation'] = toy_aug_splits['augmentation']\n",
    "\n",
    "print([(k,len(toy_agent_tr_splits[k])) for k in toy_agent_tr_splits.keys()])"
   ]
  },
  {
   "cell_type": "code",
   "execution_count": 17,
   "metadata": {},
   "outputs": [],
   "source": [
    "toy_split_p = '/root/data_alfred/splits/agent_augmentation_20200825.json'\n",
    "\n",
    "with open(toy_split_p, 'w') as f:\n",
    "    json.dump(toy_agent_tr_splits, f)"
   ]
  },
  {
   "cell_type": "code",
   "execution_count": 18,
   "metadata": {},
   "outputs": [],
   "source": [
    "with open(toy_split_p, 'r') as f:\n",
    "    dum = json.load(f)"
   ]
  },
  {
   "cell_type": "code",
   "execution_count": 19,
   "metadata": {},
   "outputs": [
    {
     "data": {
      "text/plain": [
       "{'tests_seen': [{'repeat_idx': 0, 'task': 'trial_T20190909_042500_949430'},\n",
       "  {'repeat_idx': 1, 'task': 'trial_T20190909_042500_949430'},\n",
       "  {'repeat_idx': 2, 'task': 'trial_T20190909_042500_949430'},\n",
       "  {'repeat_idx': 0, 'task': 'trial_T20190908_064522_624362'},\n",
       "  {'repeat_idx': 1, 'task': 'trial_T20190908_064522_624362'},\n",
       "  {'repeat_idx': 2, 'task': 'trial_T20190908_064522_624362'},\n",
       "  {'repeat_idx': 0, 'task': 'trial_T20190909_085207_886285'},\n",
       "  {'repeat_idx': 1, 'task': 'trial_T20190909_085207_886285'},\n",
       "  {'repeat_idx': 2, 'task': 'trial_T20190909_085207_886285'},\n",
       "  {'repeat_idx': 0, 'task': 'trial_T20190908_132517_128346'},\n",
       "  {'repeat_idx': 1, 'task': 'trial_T20190908_132517_128346'},\n",
       "  {'repeat_idx': 2, 'task': 'trial_T20190908_132517_128346'},\n",
       "  {'repeat_idx': 0, 'task': 'trial_T20190908_133706_349398'},\n",
       "  {'repeat_idx': 1, 'task': 'trial_T20190908_133706_349398'},\n",
       "  {'repeat_idx': 2, 'task': 'trial_T20190908_133706_349398'},\n",
       "  {'repeat_idx': 0, 'task': 'trial_T20190911_082512_678680'}],\n",
       " 'tests_unseen': [{'repeat_idx': 0, 'task': 'trial_T20190906_190741_530882'},\n",
       "  {'repeat_idx': 1, 'task': 'trial_T20190906_190741_530882'},\n",
       "  {'repeat_idx': 2, 'task': 'trial_T20190906_190741_530882'},\n",
       "  {'repeat_idx': 0, 'task': 'trial_T20190908_123456_669219'},\n",
       "  {'repeat_idx': 1, 'task': 'trial_T20190908_123456_669219'},\n",
       "  {'repeat_idx': 2, 'task': 'trial_T20190908_123456_669219'},\n",
       "  {'repeat_idx': 0, 'task': 'trial_T20190906_191748_443751'},\n",
       "  {'repeat_idx': 1, 'task': 'trial_T20190906_191748_443751'},\n",
       "  {'repeat_idx': 2, 'task': 'trial_T20190906_191748_443751'},\n",
       "  {'repeat_idx': 0, 'task': 'trial_T20190908_123406_806951'},\n",
       "  {'repeat_idx': 1, 'task': 'trial_T20190908_123406_806951'},\n",
       "  {'repeat_idx': 2, 'task': 'trial_T20190908_123406_806951'},\n",
       "  {'repeat_idx': 0, 'task': 'trial_T20190907_040937_164723'},\n",
       "  {'repeat_idx': 1, 'task': 'trial_T20190907_040937_164723'},\n",
       "  {'repeat_idx': 2, 'task': 'trial_T20190907_040937_164723'},\n",
       "  {'repeat_idx': 0, 'task': 'trial_T20190908_071233_937560'}],\n",
       " 'train': [{'repeat_idx': 0,\n",
       "   'task': 'pick_cool_then_place_in_recep-LettuceSliced-None-DiningTable-17/trial_T20190909_070538_437648'},\n",
       "  {'repeat_idx': 1,\n",
       "   'task': 'pick_cool_then_place_in_recep-LettuceSliced-None-DiningTable-17/trial_T20190909_070538_437648'},\n",
       "  {'repeat_idx': 2,\n",
       "   'task': 'pick_cool_then_place_in_recep-LettuceSliced-None-DiningTable-17/trial_T20190909_070538_437648'},\n",
       "  {'repeat_idx': 0,\n",
       "   'task': 'pick_two_obj_and_place-Candle-None-Cabinet-414/trial_T20190908_190650_163902'},\n",
       "  {'repeat_idx': 1,\n",
       "   'task': 'pick_two_obj_and_place-Candle-None-Cabinet-414/trial_T20190908_190650_163902'},\n",
       "  {'repeat_idx': 2,\n",
       "   'task': 'pick_two_obj_and_place-Candle-None-Cabinet-414/trial_T20190908_190650_163902'},\n",
       "  {'repeat_idx': 0,\n",
       "   'task': 'pick_heat_then_place_in_recep-Egg-None-SinkBasin-20/trial_T20190908_205050_000947'},\n",
       "  {'repeat_idx': 1,\n",
       "   'task': 'pick_heat_then_place_in_recep-Egg-None-SinkBasin-20/trial_T20190908_205050_000947'},\n",
       "  {'repeat_idx': 2,\n",
       "   'task': 'pick_heat_then_place_in_recep-Egg-None-SinkBasin-20/trial_T20190908_205050_000947'},\n",
       "  {'repeat_idx': 0,\n",
       "   'task': 'pick_two_obj_and_place-SprayBottle-None-Toilet-405/trial_T20190907_151132_176889'},\n",
       "  {'repeat_idx': 1,\n",
       "   'task': 'pick_two_obj_and_place-SprayBottle-None-Toilet-405/trial_T20190907_151132_176889'},\n",
       "  {'repeat_idx': 2,\n",
       "   'task': 'pick_two_obj_and_place-SprayBottle-None-Toilet-405/trial_T20190907_151132_176889'},\n",
       "  {'repeat_idx': 3,\n",
       "   'task': 'pick_two_obj_and_place-SprayBottle-None-Toilet-405/trial_T20190907_151132_176889'},\n",
       "  {'repeat_idx': 0,\n",
       "   'task': 'pick_clean_then_place_in_recep-Kettle-None-Cabinet-2/trial_T20190909_043103_418752'},\n",
       "  {'repeat_idx': 1,\n",
       "   'task': 'pick_clean_then_place_in_recep-Kettle-None-Cabinet-2/trial_T20190909_043103_418752'},\n",
       "  {'repeat_idx': 2,\n",
       "   'task': 'pick_clean_then_place_in_recep-Kettle-None-Cabinet-2/trial_T20190909_043103_418752'}],\n",
       " 'valid_seen': [{'repeat_idx': 0,\n",
       "   'task': 'pick_heat_then_place_in_recep-PotatoSliced-None-SinkBasin-13/trial_T20190909_115736_122556'},\n",
       "  {'repeat_idx': 1,\n",
       "   'task': 'pick_heat_then_place_in_recep-PotatoSliced-None-SinkBasin-13/trial_T20190909_115736_122556'},\n",
       "  {'repeat_idx': 2,\n",
       "   'task': 'pick_heat_then_place_in_recep-PotatoSliced-None-SinkBasin-13/trial_T20190909_115736_122556'},\n",
       "  {'repeat_idx': 0,\n",
       "   'task': 'pick_and_place_simple-Vase-None-CoffeeTable-207/trial_T20190909_091246_807206'},\n",
       "  {'repeat_idx': 1,\n",
       "   'task': 'pick_and_place_simple-Vase-None-CoffeeTable-207/trial_T20190909_091246_807206'},\n",
       "  {'repeat_idx': 2,\n",
       "   'task': 'pick_and_place_simple-Vase-None-CoffeeTable-207/trial_T20190909_091246_807206'},\n",
       "  {'repeat_idx': 0,\n",
       "   'task': 'pick_and_place_simple-Knife-None-SideTable-3/trial_T20190918_184236_557252'},\n",
       "  {'repeat_idx': 1,\n",
       "   'task': 'pick_and_place_simple-Knife-None-SideTable-3/trial_T20190918_184236_557252'},\n",
       "  {'repeat_idx': 2,\n",
       "   'task': 'pick_and_place_simple-Knife-None-SideTable-3/trial_T20190918_184236_557252'},\n",
       "  {'repeat_idx': 0,\n",
       "   'task': 'pick_clean_then_place_in_recep-ButterKnife-None-Drawer-30/trial_T20190908_052007_212776'},\n",
       "  {'repeat_idx': 1,\n",
       "   'task': 'pick_clean_then_place_in_recep-ButterKnife-None-Drawer-30/trial_T20190908_052007_212776'},\n",
       "  {'repeat_idx': 2,\n",
       "   'task': 'pick_clean_then_place_in_recep-ButterKnife-None-Drawer-30/trial_T20190908_052007_212776'},\n",
       "  {'repeat_idx': 0,\n",
       "   'task': 'pick_heat_then_place_in_recep-AppleSliced-None-CounterTop-14/trial_T20190907_232225_725376'},\n",
       "  {'repeat_idx': 1,\n",
       "   'task': 'pick_heat_then_place_in_recep-AppleSliced-None-CounterTop-14/trial_T20190907_232225_725376'},\n",
       "  {'repeat_idx': 2,\n",
       "   'task': 'pick_heat_then_place_in_recep-AppleSliced-None-CounterTop-14/trial_T20190907_232225_725376'},\n",
       "  {'repeat_idx': 0,\n",
       "   'task': 'pick_two_obj_and_place-Spoon-None-CounterTop-23/trial_T20190908_065238_500229'}],\n",
       " 'valid_unseen': [{'repeat_idx': 0,\n",
       "   'task': 'look_at_obj_in_light-CellPhone-None-FloorLamp-219/trial_T20190908_044113_026049'},\n",
       "  {'repeat_idx': 1,\n",
       "   'task': 'look_at_obj_in_light-CellPhone-None-FloorLamp-219/trial_T20190908_044113_026049'},\n",
       "  {'repeat_idx': 2,\n",
       "   'task': 'look_at_obj_in_light-CellPhone-None-FloorLamp-219/trial_T20190908_044113_026049'},\n",
       "  {'repeat_idx': 0,\n",
       "   'task': 'pick_heat_then_place_in_recep-Apple-None-SinkBasin-10/trial_T20190907_020258_749030'},\n",
       "  {'repeat_idx': 1,\n",
       "   'task': 'pick_heat_then_place_in_recep-Apple-None-SinkBasin-10/trial_T20190907_020258_749030'},\n",
       "  {'repeat_idx': 2,\n",
       "   'task': 'pick_heat_then_place_in_recep-Apple-None-SinkBasin-10/trial_T20190907_020258_749030'},\n",
       "  {'repeat_idx': 0,\n",
       "   'task': 'pick_clean_then_place_in_recep-Bowl-None-Cabinet-10/trial_T20190909_061130_844814'},\n",
       "  {'repeat_idx': 1,\n",
       "   'task': 'pick_clean_then_place_in_recep-Bowl-None-Cabinet-10/trial_T20190909_061130_844814'},\n",
       "  {'repeat_idx': 2,\n",
       "   'task': 'pick_clean_then_place_in_recep-Bowl-None-Cabinet-10/trial_T20190909_061130_844814'},\n",
       "  {'repeat_idx': 0,\n",
       "   'task': 'pick_and_place_with_movable_recep-Spoon-Mug-CounterTop-10/trial_T20190907_155006_533262'},\n",
       "  {'repeat_idx': 1,\n",
       "   'task': 'pick_and_place_with_movable_recep-Spoon-Mug-CounterTop-10/trial_T20190907_155006_533262'},\n",
       "  {'repeat_idx': 2,\n",
       "   'task': 'pick_and_place_with_movable_recep-Spoon-Mug-CounterTop-10/trial_T20190907_155006_533262'},\n",
       "  {'repeat_idx': 0,\n",
       "   'task': 'pick_and_place_simple-SaltShaker-None-Cabinet-10/trial_T20190906_191501_563086'},\n",
       "  {'repeat_idx': 1,\n",
       "   'task': 'pick_and_place_simple-SaltShaker-None-Cabinet-10/trial_T20190906_191501_563086'},\n",
       "  {'repeat_idx': 2,\n",
       "   'task': 'pick_and_place_simple-SaltShaker-None-Cabinet-10/trial_T20190906_191501_563086'},\n",
       "  {'repeat_idx': 0,\n",
       "   'task': 'pick_two_obj_and_place-PepperShaker-None-Drawer-10/trial_T20190912_221141_608117'}],\n",
       " 'augmentation': [{'task': 'pick_cool_then_place_in_recep-Bread-None-Microwave-18/trial_T20200817_101547_073180',\n",
       "   'repeat_idx': 0,\n",
       "   'full_traj_success': False,\n",
       "   'collected_subgoals': 3},\n",
       "  {'task': 'pick_clean_then_place_in_recep-Lettuce-None-Fridge-9/trial_T20200822_091818_731272',\n",
       "   'repeat_idx': 0,\n",
       "   'full_traj_success': False,\n",
       "   'collected_subgoals': 5},\n",
       "  {'task': 'pick_and_place_with_movable_recep-Watch-Box-SideTable-205/trial_T20200821_112544_413659',\n",
       "   'repeat_idx': 0,\n",
       "   'full_traj_success': False,\n",
       "   'collected_subgoals': 6},\n",
       "  {'task': 'pick_heat_then_place_in_recep-AppleSliced-None-SinkBasin-6/trial_T20200818_192226_146262',\n",
       "   'repeat_idx': 0,\n",
       "   'full_traj_success': False,\n",
       "   'collected_subgoals': 10},\n",
       "  {'task': 'pick_two_obj_and_place-SoapBar-None-Drawer-409/trial_T20200817_120047_439029',\n",
       "   'repeat_idx': 0,\n",
       "   'full_traj_success': True,\n",
       "   'collected_subgoals': 9},\n",
       "  {'task': 'pick_and_place_with_movable_recep-Potato-Plate-Fridge-16/trial_T20200820_095726_488764',\n",
       "   'repeat_idx': 0,\n",
       "   'full_traj_success': False,\n",
       "   'collected_subgoals': 6},\n",
       "  {'task': 'pick_and_place_with_movable_recep-Egg-Plate-SinkBasin-21/trial_T20200815_091031_963178',\n",
       "   'repeat_idx': 0,\n",
       "   'full_traj_success': False,\n",
       "   'collected_subgoals': 2},\n",
       "  {'task': 'pick_and_place_with_movable_recep-PotatoSliced-Bowl-CounterTop-22/trial_T20200820_161345_024682',\n",
       "   'repeat_idx': 0,\n",
       "   'full_traj_success': False,\n",
       "   'collected_subgoals': 11},\n",
       "  {'task': 'pick_clean_then_place_in_recep-Pan-None-CounterTop-18/trial_T20200822_132156_285155',\n",
       "   'repeat_idx': 0,\n",
       "   'full_traj_success': False,\n",
       "   'collected_subgoals': 3},\n",
       "  {'task': 'pick_and_place_with_movable_recep-Apple-Plate-DiningTable-18/trial_T20200814_221532_956909',\n",
       "   'repeat_idx': 0,\n",
       "   'full_traj_success': False,\n",
       "   'collected_subgoals': 6},\n",
       "  {'task': 'pick_cool_then_place_in_recep-Bowl-None-Microwave-4/trial_T20200817_065557_999156',\n",
       "   'repeat_idx': 0,\n",
       "   'full_traj_success': False,\n",
       "   'collected_subgoals': 5},\n",
       "  {'task': 'pick_and_place_with_movable_recep-AppleSliced-Pot-CounterTop-23/trial_T20200815_140510_129817',\n",
       "   'repeat_idx': 0,\n",
       "   'full_traj_success': False,\n",
       "   'collected_subgoals': 12},\n",
       "  {'task': 'pick_clean_then_place_in_recep-Bowl-None-Microwave-4/trial_T20200821_165733_968118',\n",
       "   'repeat_idx': 0,\n",
       "   'full_traj_success': False,\n",
       "   'collected_subgoals': 5},\n",
       "  {'task': 'pick_and_place_with_movable_recep-Apple-Pan-SinkBasin-2/trial_T20200814_201204_070571',\n",
       "   'repeat_idx': 0,\n",
       "   'full_traj_success': False,\n",
       "   'collected_subgoals': 6},\n",
       "  {'task': 'look_at_obj_in_light-Laptop-None-FloorLamp-230/trial_T20200814_204621_518356',\n",
       "   'repeat_idx': 0,\n",
       "   'full_traj_success': False,\n",
       "   'collected_subgoals': 2},\n",
       "  {'task': 'pick_and_place_with_movable_recep-PotatoSliced-Plate-Fridge-9/trial_T20200820_215045_652431',\n",
       "   'repeat_idx': 0,\n",
       "   'full_traj_success': False,\n",
       "   'collected_subgoals': 2},\n",
       "  {'task': 'pick_cool_then_place_in_recep-Apple-None-Microwave-28/trial_T20200817_034820_106878',\n",
       "   'repeat_idx': 0,\n",
       "   'full_traj_success': False,\n",
       "   'collected_subgoals': 2},\n",
       "  {'task': 'pick_clean_then_place_in_recep-Tomato-None-SideTable-28/trial_T20200817_015923_091539',\n",
       "   'repeat_idx': 0,\n",
       "   'full_traj_success': False,\n",
       "   'collected_subgoals': 3},\n",
       "  {'task': 'pick_cool_then_place_in_recep-Pan-None-Cabinet-5/trial_T20200817_222333_560601',\n",
       "   'repeat_idx': 0,\n",
       "   'full_traj_success': False,\n",
       "   'collected_subgoals': 3},\n",
       "  {'task': 'pick_and_place_with_movable_recep-Egg-Plate-Fridge-28/trial_T20200815_064624_161958',\n",
       "   'repeat_idx': 0,\n",
       "   'full_traj_success': False,\n",
       "   'collected_subgoals': 6},\n",
       "  {'task': 'pick_two_obj_and_place-Pot-None-Cabinet-17/trial_T20200817_073207_099814',\n",
       "   'repeat_idx': 0,\n",
       "   'full_traj_success': False,\n",
       "   'collected_subgoals': 3},\n",
       "  {'task': 'pick_and_place_with_movable_recep-Egg-Pan-DiningTable-26/trial_T20200815_012940_003401',\n",
       "   'repeat_idx': 0,\n",
       "   'full_traj_success': False,\n",
       "   'collected_subgoals': 6},\n",
       "  {'task': 'pick_clean_then_place_in_recep-Pot-None-Cabinet-27/trial_T20200822_232506_528782',\n",
       "   'repeat_idx': 0,\n",
       "   'full_traj_success': False,\n",
       "   'collected_subgoals': 3},\n",
       "  {'task': 'pick_and_place_with_movable_recep-Potato-Pan-SinkBasin-19/trial_T20200820_073841_784543',\n",
       "   'repeat_idx': 0,\n",
       "   'full_traj_success': False,\n",
       "   'collected_subgoals': 6},\n",
       "  {'task': 'pick_clean_then_place_in_recep-Pan-None-Fridge-11/trial_T20200822_145029_298145',\n",
       "   'repeat_idx': 0,\n",
       "   'full_traj_success': False,\n",
       "   'collected_subgoals': 3},\n",
       "  {'task': 'pick_and_place_with_movable_recep-Spoon-Pot-DiningTable-9/trial_T20200822_063824_468706',\n",
       "   'repeat_idx': 0,\n",
       "   'full_traj_success': False,\n",
       "   'collected_subgoals': 3},\n",
       "  {'task': 'pick_clean_then_place_in_recep-Pot-None-Cabinet-24/trial_T20200822_231749_728888',\n",
       "   'repeat_idx': 0,\n",
       "   'full_traj_success': False,\n",
       "   'collected_subgoals': 3},\n",
       "  {'task': 'pick_two_obj_and_place-SoapBar-None-Toilet-429/trial_T20200817_140718_720659',\n",
       "   'repeat_idx': 0,\n",
       "   'full_traj_success': False,\n",
       "   'collected_subgoals': 2},\n",
       "  {'task': 'pick_and_place_with_movable_recep-Apple-Bowl-CounterTop-30/trial_T20200816_073133_028650',\n",
       "   'repeat_idx': 0,\n",
       "   'full_traj_success': False,\n",
       "   'collected_subgoals': 2},\n",
       "  {'task': 'pick_and_place_with_movable_recep-Knife-Plate-SinkBasin-24/trial_T20200816_110155_140003',\n",
       "   'repeat_idx': 0,\n",
       "   'full_traj_success': False,\n",
       "   'collected_subgoals': 3},\n",
       "  {'task': 'pick_and_place_with_movable_recep-ButterKnife-Cup-CounterTop-7/trial_T20200815_211111_079456',\n",
       "   'repeat_idx': 0,\n",
       "   'full_traj_success': False,\n",
       "   'collected_subgoals': 2},\n",
       "  {'task': 'pick_heat_then_place_in_recep-Plate-None-CounterTop-6/trial_T20200816_215452_007205',\n",
       "   'repeat_idx': 0,\n",
       "   'full_traj_success': False,\n",
       "   'collected_subgoals': 2},\n",
       "  {'task': 'pick_and_place_with_movable_recep-AppleSliced-Plate-DiningTable-28/trial_T20200815_100900_826134',\n",
       "   'repeat_idx': 0,\n",
       "   'full_traj_success': False,\n",
       "   'collected_subgoals': 4},\n",
       "  {'task': 'pick_two_obj_and_place-Bread-None-Fridge-3/trial_T20200817_123406_794084',\n",
       "   'repeat_idx': 0,\n",
       "   'full_traj_success': False,\n",
       "   'collected_subgoals': 3},\n",
       "  {'task': 'pick_and_place_with_movable_recep-Knife-Pan-SinkBasin-2/trial_T20200816_092135_036778',\n",
       "   'repeat_idx': 0,\n",
       "   'full_traj_success': False,\n",
       "   'collected_subgoals': 6},\n",
       "  {'task': 'pick_and_place_with_movable_recep-Apple-Pan-Fridge-4/trial_T20200814_191924_694665',\n",
       "   'repeat_idx': 0,\n",
       "   'full_traj_success': False,\n",
       "   'collected_subgoals': 3},\n",
       "  {'task': 'pick_and_place_with_movable_recep-TissueBox-Box-CoffeeTable-212/trial_T20200822_110851_070487',\n",
       "   'repeat_idx': 0,\n",
       "   'full_traj_success': False,\n",
       "   'collected_subgoals': 6},\n",
       "  {'task': 'pick_clean_then_place_in_recep-LettuceSliced-None-GarbageCan-8/trial_T20200822_113239_297930',\n",
       "   'repeat_idx': 0,\n",
       "   'full_traj_success': True,\n",
       "   'collected_subgoals': 11},\n",
       "  {'task': 'pick_and_place_with_movable_recep-Potato-Plate-CounterTop-20/trial_T20200820_085131_613893',\n",
       "   'repeat_idx': 0,\n",
       "   'full_traj_success': False,\n",
       "   'collected_subgoals': 3},\n",
       "  {'task': 'pick_heat_then_place_in_recep-Cup-None-Fridge-21/trial_T20200819_054902_785554',\n",
       "   'repeat_idx': 0,\n",
       "   'full_traj_success': False,\n",
       "   'collected_subgoals': 3}]}"
      ]
     },
     "execution_count": 19,
     "metadata": {},
     "output_type": "execute_result"
    }
   ],
   "source": [
    "dum"
   ]
  },
  {
   "cell_type": "markdown",
   "metadata": {},
   "source": [
    "# Make SPLITS"
   ]
  },
  {
   "cell_type": "raw",
   "metadata": {},
   "source": [
    "1. Annotate all failures with Explainer and with Baseline.  Retrain agent and evaluate\n",
    "2. Retrain agent on only half the original training data and evaluate \n",
    "3. Label the other half of the training data with the Explainer, retrain agent, eval\n",
    "\n",
    "\n",
    "​[8/17 3:35 PM] ybisk (Guest)\n",
    "    (1) What is the best performance we can get with a head-to-head on the speaker models\n",
    "​[8/17 3:36 PM] ybisk (Guest)\n",
    "    (2) How much does doubling the amount of human supervision help\n",
    "​[8/17 3:36 PM] ybisk (Guest)\n",
    "    (3) How close is the explainer's supervision to human supervision in terms of perf\n",
    "​[8/17 3:36 PM] ybisk (Guest)\n",
    "    Ideal outcomes:\n",
    "​[8/17 3:36 PM] ybisk (Guest)\n",
    "    (1) Super good Explainer, ok Baseline improvement\n",
    "​[8/17 3:36 PM] ybisk (Guest)\n",
    "    (2) Noticeable decrease in performance\n",
    "​[8/17 3:36 PM] ybisk (Guest)\n",
    "    (3) Minor difference between Human and explainer\n",
    "​[8/17 3:38 PM] ybisk (Guest)\n",
    "    \n",
    "\t\n",
    "1. Should be the human language instructions + Explainer on the failures\n"
   ]
  },
  {
   "cell_type": "markdown",
   "metadata": {},
   "source": [
    "## Read in existing splits"
   ]
  },
  {
   "cell_type": "code",
   "execution_count": 27,
   "metadata": {},
   "outputs": [
    {
     "name": "stdout",
     "output_type": "stream",
     "text": [
      "[('tests_seen', 1533), ('tests_unseen', 1529), ('train', 21023), ('valid_seen', 820), ('valid_unseen', 821)]\n"
     ]
    }
   ],
   "source": [
    "original_alfred_splits_p = '/media/legg/data/alfred_data/splits/oct21.json'\n",
    "\n",
    "with open(original_alfred_splits_p, 'r') as f:\n",
    "    original_alfred_splits = json.load(f)\n",
    "    \n",
    "print([(k,len(original_alfred_splits[k])) for k in original_alfred_splits.keys()])"
   ]
  },
  {
   "cell_type": "code",
   "execution_count": 32,
   "metadata": {},
   "outputs": [
    {
     "name": "stdout",
     "output_type": "stream",
     "text": [
      "[('augmentation', 7570)]\n"
     ]
    }
   ],
   "source": [
    "augmented_splits_p = '/media/legg/data/alfred_data/splits/sample_failed_20200820_filtered.json'\n",
    "\n",
    "with open(augmented_splits_p, 'r') as f:\n",
    "    augmented_splits = json.load(f)\n",
    "\n",
    "print([(k,len(augmented_splits[k])) for k in augmented_splits.keys()])"
   ]
  },
  {
   "cell_type": "markdown",
   "metadata": {},
   "source": [
    "## 1. Annotate all failures with Explainer and with Baseline.  Retrain agent and evaluate"
   ]
  },
  {
   "cell_type": "code",
   "execution_count": 37,
   "metadata": {},
   "outputs": [
    {
     "name": "stdout",
     "output_type": "stream",
     "text": [
      "[('tests_seen', 1533), ('tests_unseen', 1529), ('train', 21023), ('valid_seen', 820), ('valid_unseen', 821), ('augmentation', 7570)]\n"
     ]
    }
   ],
   "source": [
    "experiment_1_splits = {}\n",
    "\n",
    "for k in original_alfred_splits.keys():\n",
    "    experiment_1_splits[k] = original_alfred_splits[k] \n",
    "\n",
    "experiment_1_splits['augmentation'] = augmented_splits['augmentation']\n",
    "\n",
    "print([(k,len(experiment_1_splits[k])) for k in experiment_1_splits.keys()])"
   ]
  },
  {
   "cell_type": "code",
   "execution_count": 39,
   "metadata": {},
   "outputs": [
    {
     "name": "stdout",
     "output_type": "stream",
     "text": [
      "[('tests_seen', 1533), ('tests_unseen', 1529), ('train', 21023), ('valid_seen', 820), ('valid_unseen', 821), ('augmentation', 7570)]\n"
     ]
    }
   ],
   "source": [
    "experiment_1_split_path = '/root/data_alfred/splits/data_augmentation_experiment1_20200826.json'\n",
    "with open(experiment_1_split_path, 'w') as f:\n",
    "    json.dump(experiment_1_splits, f)\n",
    "    \n",
    "with open(experiment_1_split_path, 'r') as f:\n",
    "    dum = json.load(f)\n",
    "\n",
    "print([(k,len(dum[k])) for k in dum.keys()])"
   ]
  },
  {
   "cell_type": "markdown",
   "metadata": {},
   "source": [
    "## 2. Retrain agent on only half the original training data and evaluate "
   ]
  },
  {
   "cell_type": "code",
   "execution_count": 29,
   "metadata": {},
   "outputs": [
    {
     "name": "stdout",
     "output_type": "stream",
     "text": [
      "Counter({3: 5990, 6: 282, 5: 156, 4: 145, 1: 1})\n",
      "21023\n",
      "6574\n"
     ]
    }
   ],
   "source": [
    "# distribution -- number of annotations per task\n",
    "counter = dict()\n",
    "\n",
    "for task in original_alfred_splits['train']:\n",
    "    if task['task'] not in counter:\n",
    "        counter[task['task']] = 0\n",
    "    counter[task['task']] += 1\n",
    "    \n",
    "print(Counter(counter.values()))\n",
    "print(sum([k*v for k,v in Counter(counter.values()).items()]))\n",
    "print(len(counter.keys()))"
   ]
  },
  {
   "cell_type": "code",
   "execution_count": 30,
   "metadata": {},
   "outputs": [
    {
     "name": "stdout",
     "output_type": "stream",
     "text": [
      "['pick_and_place_simple-WineBottle-None-Shelf-7/trial_T20190907_200104_945677'\n",
      " 'pick_cool_then_place_in_recep-Bowl-None-Cabinet-24/trial_T20190909_112909_923737'\n",
      " 'pick_heat_then_place_in_recep-AppleSliced-None-DiningTable-17/trial_T20190908_095621_618627'\n",
      " 'pick_and_place_simple-TennisRacket-None-SideTable-310/trial_T20190907_040920_796378'\n",
      " 'pick_two_obj_and_place-CreditCard-None-Desk-313/trial_T20190909_104526_715846'\n",
      " 'pick_and_place_simple-Candle-None-Cart-430/trial_T20190909_055319_119903'\n",
      " 'pick_heat_then_place_in_recep-PotatoSliced-None-Fridge-22/trial_T20190908_185723_946017'\n",
      " 'pick_and_place_with_movable_recep-RemoteControl-Box-Sofa-220/trial_T20190907_023003_992808'\n",
      " 'pick_heat_then_place_in_recep-Egg-None-SinkBasin-25/trial_T20190907_024723_698757'\n",
      " 'pick_cool_then_place_in_recep-Plate-None-Cabinet-25/trial_T20190908_102731_668233']\n",
      "3287\n"
     ]
    }
   ],
   "source": [
    "# randomly select half of the tasks\n",
    "np.random.seed(42)\n",
    "keep_tasks = np.random.choice(list(counter.keys()), size=len(counter)//2, replace=False)\n",
    "print(keep_tasks[:10])\n",
    "keep_tasks = set(keep_tasks)\n",
    "print(len(keep_tasks))"
   ]
  },
  {
   "cell_type": "code",
   "execution_count": 33,
   "metadata": {},
   "outputs": [
    {
     "name": "stdout",
     "output_type": "stream",
     "text": [
      "10524\n"
     ]
    }
   ],
   "source": [
    "# create new train split\n",
    "half_train_split = []\n",
    "ct = 0\n",
    "for task in original_alfred_splits['train']:\n",
    "    if task['task'] in keep_tasks:\n",
    "        ct += 1\n",
    "        half_train_split.append(task)\n",
    "        \n",
    "print(ct)"
   ]
  },
  {
   "cell_type": "code",
   "execution_count": 147,
   "metadata": {},
   "outputs": [
    {
     "name": "stdout",
     "output_type": "stream",
     "text": [
      "[('tests_seen', 1533), ('tests_unseen', 1529), ('valid_seen', 820), ('valid_unseen', 821), ('train', 10524)]\n"
     ]
    }
   ],
   "source": [
    "# assemble splits\n",
    "experiment_2_splits = {}\n",
    "\n",
    "for k in original_alfred_splits.keys():\n",
    "    if k != 'train':\n",
    "        experiment_2_splits[k] = original_alfred_splits[k] \n",
    "\n",
    "experiment_2_splits['train'] = half_train_split\n",
    "\n",
    "print([(k,len(experiment_2_splits[k])) for k in experiment_2_splits.keys()])"
   ]
  },
  {
   "cell_type": "code",
   "execution_count": 151,
   "metadata": {},
   "outputs": [
    {
     "name": "stdout",
     "output_type": "stream",
     "text": [
      "[('tests_seen', 1533), ('tests_unseen', 1529), ('valid_seen', 820), ('valid_unseen', 821), ('train', 10524)]\n"
     ]
    }
   ],
   "source": [
    "# save out\n",
    "experiment_2_split_path = '/media/legg/data/alfred_data/splits/data_augmentation_experiment2_20200831.json'\n",
    "\n",
    "with open(experiment_2_split_path, 'w') as f:\n",
    "    json.dump(experiment_2_splits, f)\n",
    "    \n",
    "with open(experiment_2_split_path, 'r') as f:\n",
    "    dum = json.load(f)\n",
    "\n",
    "print([(k,len(dum[k])) for k in dum.keys()])"
   ]
  },
  {
   "cell_type": "markdown",
   "metadata": {},
   "source": [
    "## 3. Label the other half of the training data with the Explainer, retrain agent, eval"
   ]
  },
  {
   "cell_type": "markdown",
   "metadata": {},
   "source": [
    "### 3.1 Get list of tasks that were labeled by the explainer"
   ]
  },
  {
   "cell_type": "code",
   "execution_count": 20,
   "metadata": {},
   "outputs": [],
   "source": [
    "dout = '/media/legg/data/alfred_data/exp_all/model_seq2seq_per_subgoal,name_v2_epoch_40_obj_instance_enc_max_pool_dec_aux_loss_weighted_bce_1to2_sample_sentences/'\n",
    "\n",
    "split = 'train'\n",
    "temperature = '0.75'\n",
    "pred_f = os.path.join(dout, '{}_sampled.temperature_{}.preds.json'.format(split, temperature))\n",
    "with open(pred_f, 'r') as f:\n",
    "    explainer_pred = json.load(f)"
   ]
  },
  {
   "cell_type": "code",
   "execution_count": 21,
   "metadata": {},
   "outputs": [],
   "source": [
    "pred_available_list_exp = []\n",
    "\n",
    "for k in explainer_pred.keys():\n",
    "    tk = '/'.join(explainer_pred[k]['root'].split('/')[-2:])\n",
    "    pred_available_list_exp.append(tk)"
   ]
  },
  {
   "cell_type": "code",
   "execution_count": 22,
   "metadata": {},
   "outputs": [],
   "source": [
    "dout = '/media/legg/data/alfred_data/exp_all/model_seq2seq_per_subgoal,name_v2_epoch_35_baseline_sample_sentences/'\n",
    "\n",
    "split = 'train'\n",
    "temperature = '0.75'\n",
    "pred_f = os.path.join(dout, '{}_sampled.temperature_{}.preds.json'.format(split, temperature))\n",
    "with open(pred_f, 'r') as f:\n",
    "    baseline_pred = json.load(f)"
   ]
  },
  {
   "cell_type": "code",
   "execution_count": 23,
   "metadata": {},
   "outputs": [],
   "source": [
    "pred_available_list_base = []\n",
    "\n",
    "for k in baseline_pred.keys():\n",
    "    tk = '/'.join(baseline_pred[k]['root'].split('/')[-2:])\n",
    "    pred_available_list_base.append(tk)"
   ]
  },
  {
   "cell_type": "code",
   "execution_count": 26,
   "metadata": {},
   "outputs": [
    {
     "data": {
      "text/plain": [
       "6505"
      ]
     },
     "execution_count": 26,
     "metadata": {},
     "output_type": "execute_result"
    }
   ],
   "source": [
    "len(set(pred_available_list_exp))"
   ]
  },
  {
   "cell_type": "code",
   "execution_count": 25,
   "metadata": {},
   "outputs": [
    {
     "data": {
      "text/plain": [
       "6505"
      ]
     },
     "execution_count": 25,
     "metadata": {},
     "output_type": "execute_result"
    }
   ],
   "source": [
    "len(set(pred_available_list_exp))"
   ]
  },
  {
   "cell_type": "markdown",
   "metadata": {},
   "source": [
    "### 3.2 Filter out the half used in experiment 2; But labeled by Explainer"
   ]
  },
  {
   "cell_type": "code",
   "execution_count": 31,
   "metadata": {},
   "outputs": [
    {
     "name": "stdout",
     "output_type": "stream",
     "text": [
      "10394\n"
     ]
    }
   ],
   "source": [
    "# create new train split\n",
    "other_half_train_split = []\n",
    "ct = 0\n",
    "for task in original_alfred_splits['train']:\n",
    "    if (task['task'] not in keep_tasks) and (task['task'] in set(pred_available_list_exp)):\n",
    "        ct += 1\n",
    "        task['use_autogeneration'] = True\n",
    "        other_half_train_split.append(task)\n",
    "\n",
    "print(ct)"
   ]
  },
  {
   "cell_type": "markdown",
   "metadata": {},
   "source": [
    "### 3.3 Merge the half used in experiment 2 and the other half we tagged as autogenerated"
   ]
  },
  {
   "cell_type": "code",
   "execution_count": 35,
   "metadata": {},
   "outputs": [
    {
     "name": "stdout",
     "output_type": "stream",
     "text": [
      "10524\n",
      "10394\n"
     ]
    }
   ],
   "source": [
    "print(len(half_train_split))\n",
    "print(len(other_half_train_split))"
   ]
  },
  {
   "cell_type": "code",
   "execution_count": 41,
   "metadata": {},
   "outputs": [
    {
     "data": {
      "text/plain": [
       "set()"
      ]
     },
     "execution_count": 41,
     "metadata": {},
     "output_type": "execute_result"
    }
   ],
   "source": [
    "# assert no overlap\n",
    "assert not set([t['task'] for t in half_train_split]) & set([t['task'] for t in other_half_train_split])"
   ]
  },
  {
   "cell_type": "code",
   "execution_count": 36,
   "metadata": {},
   "outputs": [
    {
     "name": "stdout",
     "output_type": "stream",
     "text": [
      "[('tests_seen', 1533), ('tests_unseen', 1529), ('valid_seen', 820), ('valid_unseen', 821), ('train', 20918)]\n"
     ]
    }
   ],
   "source": [
    "# assemble splits\n",
    "experiment_3_splits = {}\n",
    "\n",
    "for k in original_alfred_splits.keys():\n",
    "    if k != 'train':\n",
    "        experiment_3_splits[k] = original_alfred_splits[k] \n",
    "\n",
    "experiment_3_splits['train'] = half_train_split + other_half_train_split\n",
    "\n",
    "print([(k,len(experiment_3_splits[k])) for k in experiment_3_splits.keys()])"
   ]
  },
  {
   "cell_type": "code",
   "execution_count": 38,
   "metadata": {},
   "outputs": [
    {
     "name": "stdout",
     "output_type": "stream",
     "text": [
      "[('tests_seen', 1533), ('tests_unseen', 1529), ('valid_seen', 820), ('valid_unseen', 821), ('train', 20918)]\n"
     ]
    }
   ],
   "source": [
    "# save out\n",
    "experiment_3_split_path = '/media/legg/data/alfred_data/splits/data_augmentation_experiment3_20200903.json'\n",
    "\n",
    "# original_alfred_splits has been modified inplace\n",
    "with open(experiment_3_split_path, 'w') as f:\n",
    "    json.dump(experiment_3_splits, f)\n",
    "    \n",
    "with open(experiment_3_split_path, 'r') as f:\n",
    "    dum = json.load(f)\n",
    "\n",
    "print([(k,len(dum[k])) for k in dum.keys()])"
   ]
  },
  {
   "cell_type": "code",
   "execution_count": null,
   "metadata": {},
   "outputs": [],
   "source": []
  },
  {
   "cell_type": "code",
   "execution_count": null,
   "metadata": {},
   "outputs": [],
   "source": []
  },
  {
   "cell_type": "markdown",
   "metadata": {},
   "source": [
    "# Ignore below"
   ]
  },
  {
   "cell_type": "code",
   "execution_count": 36,
   "metadata": {},
   "outputs": [],
   "source": [
    "p = '/media/legg/data/alfred_data/json_feat_2.1.0_backup_20200826_agent_training'\n",
    "# data_p = os.path.join(p, 'pick_cool_then_place_in_recep-LettuceSliced-None-DiningTable-17/trial_T20190909_070538_437648/pp/', 'aug_explainer_0_T20200810_1829.json')\n",
    "data_p = os.path.join(p, 'pick_cool_then_place_in_recep-LettuceSliced-None-DiningTable-17/trial_T20190909_070538_437648/pp/', 'ann_0.json')\n",
    "\n",
    "\n",
    "with open(data_p, 'r') as f:\n",
    "    data1 = json.load(f)"
   ]
  },
  {
   "cell_type": "code",
   "execution_count": 37,
   "metadata": {},
   "outputs": [],
   "source": [
    "p = '/media/legg/data/alfred_data/json_feat_2.1.0_backup_20200826_agent_training'\n",
    "data_p = os.path.join(p, 'pick_cool_then_place_in_recep-LettuceSliced-None-DiningTable-17/trial_T20190909_070538_437648/pp/', 'aug_explainer_0_T20200810_1829.json')\n",
    "# data_p = os.path.join(p, 'pick_cool_then_place_in_recep-LettuceSliced-None-DiningTable-17/trial_T20190909_070538_437648/pp/', 'ann_0.json')\n",
    "\n",
    "\n",
    "with open(data_p, 'r') as f:\n",
    "    data2 = json.load(f)"
   ]
  },
  {
   "cell_type": "code",
   "execution_count": null,
   "metadata": {},
   "outputs": [],
   "source": []
  }
 ],
 "metadata": {
  "kernelspec": {
   "display_name": "Python 3",
   "language": "python",
   "name": "python3"
  },
  "language_info": {
   "codemirror_mode": {
    "name": "ipython",
    "version": 3
   },
   "file_extension": ".py",
   "mimetype": "text/x-python",
   "name": "python",
   "nbconvert_exporter": "python",
   "pygments_lexer": "ipython3",
   "version": "3.6.9"
  }
 },
 "nbformat": 4,
 "nbformat_minor": 4
}
